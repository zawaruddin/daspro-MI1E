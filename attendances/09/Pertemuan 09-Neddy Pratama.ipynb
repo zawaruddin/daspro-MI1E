{
 "cells": [
  {
   "cell_type": "markdown",
   "metadata": {
    "collapsed": true
   },
   "source": [
    "<dl>\n",
    "  <dt>NIM :</dt>\n",
    "  <dd>2131710101</dd>\n",
    "\n",
    "  <dt>Nama :</dt>\n",
    "  <dd>Neddy Pratama Wiryawan</dd>\n",
    "    \n",
    "  <dt>Kelas :</dt>\n",
    "  <dd>MI-1E</dd>\n",
    "</dl>\n",
    "\n",
    "\n",
    "___\n",
    "\n",
    "\n",
    "# JOBSHEET 09 - Perulangan 2\n",
    "\n",
    "## Tujuan\n",
    "+ Mahasiswa memahami konsep perulangan bersarang (_nested loop_)\n",
    "+ Mahasiswa dapat menjelaskan format penulisan perulangan bersarang (_nested loop_)\n",
    "+ Mahasiswa dapat mengimplementasikan _flowchart_ perulangan bersarang menggunakan bahasa pemrograman Java\n",
    "\n",
    "## Alat dan Bahan\n",
    "+ PC/laptop\n",
    "+ Browser(chrome, firefox, safari)\n",
    "+ Koneksi internet\n",
    "+ Anaconda3 + Java kernel (opsional)\n",
    "\n",
    "## Praktikum\n",
    "### Percobaan 1: Bintang Persegi\n",
    "1. Perhatikan Flowchart di bawah ini\n",
    "![Gambar 0](images/img-00.png)\n",
    "> flowchart di atas digunakan untuk menggambar sebuah persegi dengan simbol * (bintang)\n",
    "2. Pada percobaan ke-1 akan dilakukan percobaan tentang _nested loop_. Kasus yang akan diselesaikan adalah untuk membuat tampilan persegi * , dengan panjang sisi sebanyak N. Misalkan N dimasukan **5**, maka hasilnya adalah\n",
    "![Gambar 1](images/img-01.png)\n",
    "3. Karena program membutuhkan input dari keyboard, maka perlu import class Scanner\n",
    "4. Ketikan kode program di bawah ini\n",
    "![Gambar 2](images/img-02.png)"
   ]
  },
  {
   "cell_type": "code",
   "execution_count": 2,
   "metadata": {},
   "outputs": [
    {
     "name": "stdout",
     "output_type": "stream",
     "text": [
      "Masukkan nilai N : 5\n",
      "******"
     ]
    }
   ],
   "source": [
    "// Tulis Kode program Percobaan 1 Langkah 4 di atas\n",
    "import java.util.Scanner;\n",
    "int n;\n",
    "Scanner sn = new Scanner(System.in);\n",
    "System.out.print(\"Masukkan nilai N : \");\n",
    "n = sn.nextInt();\n",
    "for (int i = 0; i <= n; i++) {\n",
    "    System.out.print(\"*\");\n",
    "}"
   ]
  },
  {
   "cell_type": "markdown",
   "metadata": {},
   "source": [
    "5.\tPerhatikan sintaks perulangan yang digunakan untuk mencetak * sebanyak N kali ke arah samping. Di tahap 4 di atas kode _looping **for**_ kita jadikan sebagai _**inner loop**_. \n",
    "6.\tKita looping lagi _inner loop_ sebanyak N kali untuk menghasilkan _output_ seperti tahap 2. Maka perlu ditambahkan perulangan luar (_outer loop_).\n",
    "![Gambar 3](images/img-03.png)"
   ]
  },
  {
   "cell_type": "code",
   "execution_count": 5,
   "metadata": {},
   "outputs": [
    {
     "name": "stdout",
     "output_type": "stream",
     "text": [
      "Masukkan nilai N : 5\n",
      "******"
     ]
    }
   ],
   "source": [
    "// Tulis Kode program Percobaan 1 Langkah 6 (gabungkan dengan inner loop pada langkah 4)\n",
    "// Tulis Kode program Percobaan 1 Langkah 4 di atas\n",
    "import java.util.Scanner;\n",
    "int n;\n",
    "Scanner sn = new Scanner(System.in);\n",
    "System.out.print(\"Masukkan nilai N : \");\n",
    "n = sn.nextInt();\n",
    "for (int i = 0; i <= n; i++) {\n",
    "    for (int outer = 1; outer <= n; outer++) {\n",
    "        // inner loop \n",
    "    }\n",
    "    System.out.print(\"*\"); \n",
    "}"
   ]
  },
  {
   "cell_type": "markdown",
   "metadata": {},
   "source": [
    "#### Pertanyaan \n",
    "1. Apakah dengan menggabungkan _inner loop_ dan _outer loop_ seperti langkah 5 di atas sudah menghasilkan _output_ seperti gambar pada langkah 1?\n",
    "2. Jika belum, silahkan modifikasi kode program sehingga menghasilkan output yang sesuai dengan gambar pada langkah 2?\n",
    "\n",
    "#### Jawaban\n",
    "1. belum\n",
    "2. mengganti output \"*\" pada inner loop, lalu menmbah output enter pada outer loop"
   ]
  },
  {
   "cell_type": "code",
   "execution_count": 4,
   "metadata": {},
   "outputs": [
    {
     "name": "stdout",
     "output_type": "stream",
     "text": [
      "Masukkan nilai N : 5\n",
      "*****\n",
      "*****\n",
      "*****\n",
      "*****\n",
      "*****\n",
      "*****\n"
     ]
    }
   ],
   "source": [
    "// Tulis Kode program Percobaan 1 yang benar menurut kalian\n",
    "import java.util.Scanner;\n",
    "int n;\n",
    "Scanner sn = new Scanner(System.in);\n",
    "System.out.print(\"Masukkan nilai N : \");\n",
    "n = sn.nextInt();\n",
    "for (int i = 0; i <= n; i++) {\n",
    "    for (int outer = 1; outer <= n; outer++) {\n",
    "        System.out.print(\"*\");  \n",
    "    } \n",
    "    System.out.println();\n",
    "}"
   ]
  },
  {
   "cell_type": "markdown",
   "metadata": {},
   "source": [
    "***\n",
    "### Percobaan 2: Bintang Segitiga\n",
    "1.\tPada percobaan ke-2 akan dilakukan percobaan segitiga * sama siku dengan tinggi sebesar N. Misalkan N dimasukan **5**, maka hasilnya seperti gambar berikut\n",
    "![Gambar 4](images/img-04.png)\n",
    "2. Karena program membutuhkan input dari keyboard, maka perlu import class Scanner\n",
    "3. Ketikan kode program di bawah ini\n",
    "![Gambar 5](images/img-05.png)"
   ]
  },
  {
   "cell_type": "code",
   "execution_count": 8,
   "metadata": {},
   "outputs": [
    {
     "name": "stdout",
     "output_type": "stream",
     "text": [
      "Masukkan nilai N : 5\n",
      "***************"
     ]
    }
   ],
   "source": [
    "// Tulis Kode program Percobaan 2 Langkah 3 di sini\n",
    "import java.util.Scanner;\n",
    "int n;\n",
    "int i = 0;\n",
    "Scanner sn = new Scanner(System.in);\n",
    "System.out.print(\"Masukkan nilai N : \");\n",
    "n = sn.nextInt();\n",
    "while (i <= n) {\n",
    "    int j = 0;\n",
    "    while (j < i) {\n",
    "        System.out.print(\"*\");\n",
    "        j++;\n",
    "    }\n",
    "    i++;\n",
    "}"
   ]
  },
  {
   "cell_type": "markdown",
   "metadata": {},
   "source": [
    "Amati kode program yang telah kalian tulis di atas.\n",
    "\n",
    "#### Pertanyaan\n",
    "1. Perhatikan, apakah output yang dihasilkan dengan nilai N = 5 sesuai dengan  tampilan seperti pada tahap 1 (Percobaan 2)?\n",
    "2. Jika tidak sesuai, bagian mana saja yang harus diperbaiki/ditambahkan? Jelaskan setiap bagian yang perlu diperbaiki/ditambahkan. \n",
    "\n",
    "#### Jawaban\n",
    "1. belum\n",
    "2. menambah output enter pada outer loop"
   ]
  },
  {
   "cell_type": "code",
   "execution_count": 9,
   "metadata": {},
   "outputs": [
    {
     "name": "stdout",
     "output_type": "stream",
     "text": [
      "Masukkan nilai N : 5\n",
      "\n",
      "\n",
      "*\n",
      "**\n",
      "***\n",
      "****\n",
      "*****"
     ]
    }
   ],
   "source": [
    "// Tulis Kode program Percobaan 2 yang benar menurut kalian\n",
    "import java.util.Scanner;\n",
    "int n;\n",
    "int i = 0;\n",
    "Scanner sn = new Scanner(System.in);\n",
    "System.out.print(\"Masukkan nilai N : \");\n",
    "n = sn.nextInt();\n",
    "while (i <= n) {\n",
    "    int j = 0;\n",
    "    System.out.println();\n",
    "    while (j < i) {\n",
    "        System.out.print(\"*\");\n",
    "        j++;\n",
    "    }\n",
    "    i++;\n",
    "}"
   ]
  },
  {
   "cell_type": "markdown",
   "metadata": {},
   "source": [
    "***\n",
    "### Percobaan 3: Segitiga Angka\n",
    "1.\tPada percobaan ke-3 akan dilakukan percobaan segitiga angka sama siku dengan tinggi sebesar N. Misalkan N dimasukan **5**, maka hasilnya seperti berikut\n",
    "![Gambar 7](images/img-07.png)\n",
    "2. Karena program membutuhkan input dari keyboard, maka perlu import class Scanner\n",
    "3. Ketikan kode program di bawah ini\n",
    "![Gambar 8](images/img-08.png)\n"
   ]
  },
  {
   "cell_type": "code",
   "execution_count": 11,
   "metadata": {},
   "outputs": [
    {
     "name": "stdout",
     "output_type": "stream",
     "text": [
      "Masukkan nilai N : 5\n",
      "12345\n",
      "12345\n",
      "12345\n",
      "12345\n",
      "12345\n"
     ]
    }
   ],
   "source": [
    "// Tulis Kode program Percobaan 3 Langkah 3 di atas, disini\n",
    "import java.util.Scanner;\n",
    "int n;\n",
    "Scanner sn = new Scanner(System.in);\n",
    "System.out.print(\"Masukkan nilai N : \");\n",
    "n = sn.nextInt();\n",
    "for (int i = 1; i <= n; i++) {\n",
    "    for (int j = 1; j <= n; j++) {\n",
    "        System.out.print(j);  \n",
    "    } \n",
    "    System.out.println();\n",
    "}"
   ]
  },
  {
   "cell_type": "markdown",
   "metadata": {},
   "source": [
    "#### Pertanyaan \n",
    "1. Apakah kode program di atas menghasilkan _output_ yang diharapkan?\n",
    "2. Jika belum, kode program mana yang harus modifikasi? Jelaskan\n",
    "\n",
    "#### Jawaban\n",
    "1. belum\n",
    "2. mengganti (j <= n) menjadi (j <= i) dan mengganti output yang dikeluarkan menjadi variabel i"
   ]
  },
  {
   "cell_type": "code",
   "execution_count": 13,
   "metadata": {},
   "outputs": [
    {
     "name": "stdout",
     "output_type": "stream",
     "text": [
      "Masukkan nilai N : 5\n",
      "1\n",
      "22\n",
      "333\n",
      "4444\n",
      "55555\n"
     ]
    }
   ],
   "source": [
    "// Tulis Kode program Percobaan 3 yang benar menurut kalian\n",
    "import java.util.Scanner;\n",
    "int n;\n",
    "Scanner sn = new Scanner(System.in);\n",
    "System.out.print(\"Masukkan nilai N : \");\n",
    "n = sn.nextInt();\n",
    "for (int i = 1; i <= n; i++) {\n",
    "    for (int j = 1; j <= i; j++) {\n",
    "        System.out.print(i);  \n",
    "    } \n",
    "    System.out.println();\n",
    "}"
   ]
  },
  {
   "cell_type": "markdown",
   "metadata": {},
   "source": [
    "***\n",
    "### Percobaan 4: Tebak Angka\n",
    "1. Pada Percobaan 4 ini, kita akan belajar membuat kode untuk menebak angka menggunakan _nested loop_.\n",
    "2. Pada percobaan ini kita menggunakan library Scanner untuk menangkap input dari keyboard dan Random untuk meng-generate angka secara acak\n",
    "3. Ketik dan pahami kode program di bawah ini\n",
    "![Gambar 6](images/img-06.png)"
   ]
  },
  {
   "cell_type": "code",
   "execution_count": 15,
   "metadata": {},
   "outputs": [
    {
     "name": "stdout",
     "output_type": "stream",
     "text": [
      "Tebak angka (1-10) : 2\n",
      "Tebak angka (1-10) : 1\n",
      "Tebak angka (1-10) : 4\n",
      "Tebak angka (1-10) : 3\n",
      "Tebak angka (1-10) : 2\n",
      "Tebak angka (1-10) : 5\n",
      "Tebak angka (1-10) : 6\n",
      "Yay... Tebakan Anda benar... Selamatt!!!\n",
      "Apakah Anda ingin mengulang permainan (Y/y)?t\n"
     ]
    }
   ],
   "source": [
    "// Tulis Kode program Percobaan 4 Langkah 3 di atas, disini\n",
    "import java.util.Scanner;\n",
    "import java.util.Random;\n",
    "Scanner sn = new Scanner(System.in);\n",
    "Random rd = new Random();\n",
    "char menu ='y';\n",
    "do {\n",
    "    int angka = rd.nextInt(10) + 1;\n",
    "    boolean berhasil = false;\n",
    "    do {\n",
    "        System.out.print(\"Tebak angka (1-10) : \");\n",
    "        int jawab = sn.nextInt();\n",
    "        sn.nextLine();\n",
    "    \n",
    "        if (jawab == angka) {\n",
    "            System.out.println(\"Yay... Tebakan Anda benar... Selamatt!!!\");\n",
    "            berhasil = true;\n",
    "        }\n",
    "    } while (!berhasil);\n",
    "    System.out.print(\"Apakah Anda ingin mengulang permainan (Y/y)?\");\n",
    "    menu = sn.nextLine().charAt(0);\n",
    "} while (menu == 'y' || menu == 'Y');\n",
    "    \n"
   ]
  },
  {
   "cell_type": "markdown",
   "metadata": {},
   "source": [
    "#### Pertanyaan\n",
    "1. Jelaskan alur program di atas!\n",
    "2. Apa yang harus dilakukan untuk tidak melanjutkan (tidak mengulangi) permainan tersebut? \n",
    "3. Modifikasi program di atas, sehingga bisa menampilkan informasi mengenai : \n",
    "    1. input nilai tebakan yang dimasukan oleh user apakah lebih kecil atau lebih besar dari nilai random!\n",
    "    2. hentikan _nested loop_ jika pengguna gagal menebak angka sampai 10x tebakan, dan beri pesan \"Maaf Anda gagal menebak angka sebanyak 10x\"\n",
    "\n",
    "#### Jawaban\n",
    "1. pertama user akan memasukkan angka untuk menebak angka random. ini akan terus berlangsung hingga user berhasil memasukkan angka yang benar. setelah user berhasil akan keluar output \"Yay... Tebakan Anda benar... Selamatt!!!\". lalu user diberi pertanyaan \"Apakah Anda ingin mengulang permainan (Y/y)?\" jika user menjawa Y/y makan akan diulang lagi ke menebak angka random, tetapi jika user memasukkan huruf selain y/Y maka akan berhenti.\n",
    "2. masukkan huruf selain Y/y"
   ]
  },
  {
   "cell_type": "code",
   "execution_count": 17,
   "metadata": {},
   "outputs": [
    {
     "name": "stdout",
     "output_type": "stream",
     "text": [
      "Tebak angka (1-10) : 1\n",
      "Angka yang Anda masukkan masih lebih kecil\n",
      "Tebak angka (1-10) : 8\n",
      "Angka yang Anda masukkan masih lebih kecil\n",
      "Tebak angka (1-10) : 9\n",
      "Angka yang Anda masukkan masih lebih kecil\n",
      "Tebak angka (1-10) : 4\n",
      "Angka yang Anda masukkan masih lebih kecil\n",
      "Tebak angka (1-10) : 5\n",
      "Angka yang Anda masukkan masih lebih kecil\n",
      "Tebak angka (1-10) : 11\n",
      "Angka yang Anda masukkan masih lebih besar!!\n",
      "Tebak angka (1-10) : 10\n",
      "Yay... Tebakan Anda benar... Selamatt!!!\n",
      "Angka yang Anda masukkan masih lebih kecil\n",
      "Apakah Anda ingin mengulang permainan (Y/y)?t\n"
     ]
    }
   ],
   "source": [
    "/* Jawaban untuk Percobaan 4 Pertnyaan 3.A disini */\n",
    "import java.util.Scanner;\n",
    "import java.util.Random;\n",
    "Scanner sn = new Scanner(System.in);\n",
    "Random rd = new Random();\n",
    "char menu ='y';\n",
    "do {\n",
    "    int angka = rd.nextInt(10) + 1;\n",
    "    boolean berhasil = false;\n",
    "    do {\n",
    "        System.out.print(\"Tebak angka (1-10) : \");\n",
    "        int jawab = sn.nextInt();\n",
    "        sn.nextLine();\n",
    "    \n",
    "        if (jawab == angka) {\n",
    "            System.out.println(\"Yay... Tebakan Anda benar... Selamatt!!!\");\n",
    "            berhasil = true;\n",
    "        }\n",
    "        if (jawab > angka) {\n",
    "            System.out.println(\"Angka yang Anda masukkan masih lebih besar!!\");\n",
    "        } else {\n",
    "            System.out.println(\"Angka yang Anda masukkan masih lebih kecil\");\n",
    "        }\n",
    "    } while (!berhasil);\n",
    "    System.out.print(\"Apakah Anda ingin mengulang permainan (Y/y)?\");\n",
    "    menu = sn.nextLine().charAt(0);\n",
    "} while (menu == 'y' || menu == 'Y');\n",
    "    \n"
   ]
  },
  {
   "cell_type": "code",
   "execution_count": 9,
   "metadata": {},
   "outputs": [
    {
     "name": "stdout",
     "output_type": "stream",
     "text": [
      "Tebak angka (1-10) : 1\n",
      "Tebak angka (1-10) : 2\n",
      "Tebak angka (1-10) : 3\n",
      "Tebak angka (1-10) : 1\n",
      "Tebak angka (1-10) : 2\n",
      "Tebak angka (1-10) : 3\n",
      "Tebak angka (1-10) : 1\n",
      "Tebak angka (1-10) : 2\n",
      "Tebak angka (1-10) : 3\n",
      "Tebak angka (1-10) : 1\n",
      "Maaf Anda gagal menebak angka sebanyak 10x\n",
      "Apakah Anda ingin mengulang permainan (Y/y)?t\n"
     ]
    }
   ],
   "source": [
    "/* Jawaban untuk Percobaan 4 Pertnyaan 3.B disini */\n",
    "import java.util.Scanner;\n",
    "import java.util.Random;\n",
    "Scanner sn = new Scanner(System.in);\n",
    "Random rd = new Random();\n",
    "char menu ='y';\n",
    "int i = 0;\n",
    "do {\n",
    "    int angka = rd.nextInt(10) + 1;\n",
    "    boolean berhasil = false;\n",
    "    do {\n",
    "        System.out.print(\"Tebak angka (1-10) : \");\n",
    "        int jawab = sn.nextInt();\n",
    "        sn.nextLine();\n",
    "        i++;\n",
    "    \n",
    "        if (jawab == angka) {\n",
    "            System.out.println(\"Yay... Tebakan Anda benar... Selamatt!!!\");\n",
    "            berhasil = true;\n",
    "        }\n",
    "        if (i==10) {\n",
    "            System.out.println(\"Maaf Anda gagal menebak angka sebanyak 10x\" );\n",
    "            break;\n",
    "        }  \n",
    "    } \n",
    "    while (!berhasil);\n",
    "    \n",
    "    System.out.print(\"Apakah Anda ingin mengulang permainan (Y/y)?\");\n",
    "    menu = sn.nextLine().charAt(0);\n",
    "} while (menu == 'y' || menu == 'Y');"
   ]
  },
  {
   "cell_type": "markdown",
   "metadata": {},
   "source": [
    "***\n",
    "## Tugas\n",
    "### Soal 1\n",
    "Buatlah program yang **sesuai** dengan alur _flowchart_ di bawah ini\n",
    "![Soal 1](images/Soal-01.png)\n",
    "\n",
    "Apabila kode program sesuai _flowchart_, maka untuk nilai N = 5 akan menghasilkan output seperti gambar berikut\n",
    "![Soal 1 A](images/Soal-01.1.png)"
   ]
  },
  {
   "cell_type": "code",
   "execution_count": 1,
   "metadata": {},
   "outputs": [
    {
     "name": "stdout",
     "output_type": "stream",
     "text": [
      "Masukkan nilai N : 5\n",
      "    *\n",
      "   **\n",
      "  ***\n",
      " ****\n",
      "*****\n"
     ]
    }
   ],
   "source": [
    "/* Jawaban Soal 1 disini */\n",
    "import java.util.Scanner;\n",
    "int n, i, j;\n",
    "Scanner sn = new Scanner(System.in);\n",
    "System.out.print(\"Masukkan nilai N : \");\n",
    "n = sn.nextInt();\n",
    "j = n;\n",
    "for (i = 1; i <= n; i++) {\n",
    "    for (j = n; j >= 1; j--) { \n",
    "        if (i < j) {\n",
    "            System.out.print(\" \");\n",
    "        } else {\n",
    "            System.out.print(\"*\");   \n",
    "    }\n",
    "    } \n",
    "    System.out.println();\n",
    "}"
   ]
  },
  {
   "cell_type": "markdown",
   "metadata": {},
   "source": [
    "***\n",
    "### Soal 2\n",
    "Buatlah program untuk mencetak tampilan persegi angka seperti di bawah ini berdasarkan input dari _keyboard_ N (nilai N minimal 3). Contoh N = 3, dan N = 5\n",
    "![Soal 2](images/Soal-02.png)"
   ]
  },
  {
   "cell_type": "code",
   "execution_count": 38,
   "metadata": {},
   "outputs": [
    {
     "name": "stdout",
     "output_type": "stream",
     "text": [
      "Masukkan nilai N : 5\n",
      "55555\n",
      "5   5\n",
      "5   5\n",
      "5   5\n",
      "55555\n",
      "Masukkan nilai N : 3\n",
      "333\n",
      "3 3\n",
      "333\n"
     ]
    }
   ],
   "source": [
    "/* Jawaban Soal 2 disini */\n",
    "import java.util.Scanner;\n",
    "int n, i, j, a, b;\n",
    "Scanner sn = new Scanner(System.in);\n",
    "System.out.print(\"Masukkan nilai N : \");\n",
    "n = sn.nextInt();\n",
    "a = n - 1;\n",
    "b = n - (n - 2);\n",
    "for (i = 1; i <= n; i++) {\n",
    "    for (j = 1; j <= n; j++) {  \n",
    "         if ( i>=b && i<=a) {\n",
    "            if (j>=b && j<=a) {\n",
    "                System.out.print(\" \");\n",
    "            } else {\n",
    "                System.out.print(n);\n",
    "            }\n",
    "         } else {\n",
    "             System.out.print(n);\n",
    "         }\n",
    "    } \n",
    "    System.out.println();\n",
    "}\n",
    "System.out.print(\"Masukkan nilai N : \");\n",
    "n = sn.nextInt();\n",
    "a = n - 1;\n",
    "b = n - (n - 2);\n",
    "for (i = 1; i <= n; i++) {\n",
    "    for (j = 1; j <= n; j++) {  \n",
    "         if ( i>=b && i<=a) {\n",
    "            if (j>=b && j<=a) {\n",
    "                System.out.print(\" \");\n",
    "            } else {\n",
    "                System.out.print(n);\n",
    "            }\n",
    "         } else {\n",
    "             System.out.print(n);\n",
    "         }\n",
    "    } \n",
    "    System.out.println();\n",
    "}"
   ]
  },
  {
   "cell_type": "markdown",
   "metadata": {},
   "source": [
    "***\n",
    "### Soal 3\n",
    "Buatlah program untuk mencetak tampilan piramida * seperti gambar di bawah ini, tinggi piramida berdasarkan input dari _keyboard_ N (nilai N minimal 3). Contoh N = 3, dan N = 5\n",
    "![Soal 3](images/Soal-03.png)"
   ]
  },
  {
   "cell_type": "code",
   "execution_count": 69,
   "metadata": {},
   "outputs": [
    {
     "ename": "IncompleteSourceException",
     "evalue": "if (j > d && j < c){\n            System.out.print(\"*\");\n        } else {\n            System.out.print(\" \")",
     "output_type": "error",
     "traceback": [
      "\u001b[1m\u001b[31mIncomplete input:\u001b[0m",
      "\u001b[1m\u001b[30m|   \u001b[1m\u001b[30mif (j > d && j < c){\u001b[0m",
      "\u001b[1m\u001b[30m|   \u001b[1m\u001b[30m            System.out.print(\"*\");\u001b[0m",
      "\u001b[1m\u001b[30m|   \u001b[1m\u001b[30m        } else {\u001b[0m",
      "\u001b[1m\u001b[30m|   \u001b[1m\u001b[30m            System.out.print(\" \")\u001b[0m"
     ]
    }
   ],
   "source": []
  },
  {
   "cell_type": "code",
   "execution_count": 72,
   "metadata": {},
   "outputs": [
    {
     "name": "stdout",
     "output_type": "stream",
     "text": [
      "Masukkan nilai N : 3\n",
      "  *  \n",
      " *** \n",
      "*****\n"
     ]
    }
   ],
   "source": [
    "import java.util.Scanner;\n",
    "int n, i, j, a, b, c, d;\n",
    "Scanner sn = new Scanner(System.in);\n",
    "System.out.print(\"Masukkan nilai N : \");\n",
    "n = sn.nextInt();\n",
    "a = n*2 -1;\n",
    "c = 4;\n",
    "b = 2; \n",
    "for (i = 1; i <= n; i++) {\n",
    "    for (j = 1; j <= a; j++) {\n",
    "        if (j > b && j < c){\n",
    "            System.out.print(\"*\");\n",
    "        } else {\n",
    "            System.out.print(\" \");\n",
    "        }\n",
    "    }\n",
    "    c+=1;\n",
    "    b-=1;\n",
    "    System.out.println();\n",
    "}\n"
   ]
  },
  {
   "cell_type": "code",
   "execution_count": null,
   "metadata": {},
   "outputs": [],
   "source": []
  }
 ],
 "metadata": {
  "kernelspec": {
   "display_name": "Java",
   "language": "java",
   "name": "java"
  },
  "language_info": {
   "codemirror_mode": "java",
   "file_extension": ".jshell",
   "mimetype": "text/x-java-source",
   "name": "Java",
   "pygments_lexer": "java",
   "version": "11.0.12+8-LTS-237"
  }
 },
 "nbformat": 4,
 "nbformat_minor": 1
}
