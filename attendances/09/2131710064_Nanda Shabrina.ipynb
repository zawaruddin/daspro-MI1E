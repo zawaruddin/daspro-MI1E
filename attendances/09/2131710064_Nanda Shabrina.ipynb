{
 "cells": [
  {
   "cell_type": "markdown",
   "metadata": {
    "collapsed": true
   },
   "source": [
    "<dl>\n",
    "  <dt>NIM : 2131710064</dt>\n",
    "  <dd></dd>\n",
    "\n",
    "  <dt>Nama : Nanda Shabrina Putri Kurnia</dt>\n",
    "  <dd></dd>\n",
    "    \n",
    "  <dt>Kelas : MI-1E</dt>\n",
    "  <dd></dd>\n",
    "</dl>\n",
    "\n",
    "\n",
    "___\n",
    "\n",
    "\n",
    "# JOBSHEET 09 - Perulangan 2\n",
    "\n",
    "## Tujuan\n",
    "+ Mahasiswa memahami konsep perulangan bersarang (_nested loop_)\n",
    "+ Mahasiswa dapat menjelaskan format penulisan perulangan bersarang (_nested loop_)\n",
    "+ Mahasiswa dapat mengimplementasikan _flowchart_ perulangan bersarang menggunakan bahasa pemrograman Java\n",
    "\n",
    "## Alat dan Bahan\n",
    "+ PC/laptop\n",
    "+ Browser(chrome, firefox, safari)\n",
    "+ Koneksi internet\n",
    "+ Anaconda3 + Java kernel (opsional)\n",
    "\n",
    "## Praktikum\n",
    "### Percobaan 1: Bintang Persegi\n",
    "1. Perhatikan Flowchart di bawah ini\n",
    "![Gambar 0](images/img-00.png)\n",
    "> flowchart di atas digunakan untuk menggambar sebuah persegi dengan simbol * (bintang)\n",
    "2. Pada percobaan ke-1 akan dilakukan percobaan tentang _nested loop_. Kasus yang akan diselesaikan adalah untuk membuat tampilan persegi * , dengan panjang sisi sebanyak N. Misalkan N dimasukan **5**, maka hasilnya adalah\n",
    "![Gambar 1](images/img-01.png)\n",
    "3. Karena program membutuhkan input dari keyboard, maka perlu import class Scanner\n",
    "4. Ketikan kode program di bawah ini\n",
    "![Gambar 2](images/img-02.png)"
   ]
  },
  {
   "cell_type": "code",
   "execution_count": 1,
   "metadata": {},
   "outputs": [
    {
     "name": "stdout",
     "output_type": "stream",
     "text": [
      "Masukkan nilai N: 5\n",
      "******"
     ]
    }
   ],
   "source": [
    "// Tulis Kode program Percobaan 1 Langkah 4 di atas\n",
    "import java.util.Scanner;\n",
    "\n",
    "int N;\n",
    "Scanner sc = new Scanner(System.in);\n",
    "System.out.print(\"Masukkan nilai N: \");\n",
    "N = sc.nextInt();\n",
    "\n",
    "for(int i=0 ; i<=N ; i++){\n",
    "    System.out.print(\"*\");\n",
    "}"
   ]
  },
  {
   "cell_type": "markdown",
   "metadata": {},
   "source": [
    "5.\tPerhatikan sintaks perulangan yang digunakan untuk mencetak * sebanyak N kali ke arah samping. Di tahap 4 di atas kode _looping **for**_ kita jadikan sebagai _**inner loop**_. \n",
    "6.\tKita looping lagi _inner loop_ sebanyak N kali untuk menghasilkan _output_ seperti tahap 2. Maka perlu ditambahkan perulangan luar (_outer loop_).\n",
    "![Gambar 3](images/img-03.png)"
   ]
  },
  {
   "cell_type": "code",
   "execution_count": 2,
   "metadata": {},
   "outputs": [
    {
     "name": "stdout",
     "output_type": "stream",
     "text": [
      "Masukkan nilai N: 5\n",
      "*  *  *  *  *  *  \n",
      "*  *  *  *  *  *  \n",
      "*  *  *  *  *  *  \n",
      "*  *  *  *  *  *  \n",
      "*  *  *  *  *  *  \n"
     ]
    }
   ],
   "source": [
    "// Tulis Kode program Percobaan 1 Langkah 6 (gabungkan dengan inner loop pada langkah 4)\n",
    "import java.util.Scanner;\n",
    "Scanner input = new Scanner(System.in);\n",
    "\n",
    "int N;\n",
    "System.out.print(\"Masukkan nilai N: \");\n",
    "N = input.nextInt();\n",
    "\n",
    "for(int outer=1 ; outer<=N ; outer++){\n",
    "    for(int i=0 ; i<=N ; i++){\n",
    "    System.out.print(\"*  \");\n",
    "    }\n",
    "    System.out.println();\n",
    "}"
   ]
  },
  {
   "cell_type": "markdown",
   "metadata": {},
   "source": [
    "#### Pertanyaan \n",
    "1. Apakah dengan menggabungkan _inner loop_ dan _outer loop_ seperti langkah 5 di atas sudah menghasilkan _output_ seperti gambar pada langkah 1?\n",
    "2. Jika belum, silahkan modifikasi kode program sehingga menghasilkan output yang sesuai dengan gambar pada langkah 2?\n",
    "\n",
    "#### Jawaban\n",
    "1. Menggunakan kode di atas, output yang dihasilkan tidak sesuai dengan output yang diinginkan pada gambar. Sebab untuk memiliki output bintang persegi, inisialisasi nilai antara inner dan outer loop harus sama. Jika tidak, maka seperti pada percobaan di atas, yang muncul ialah bintang persegi panjang.\n",
    "2. Setelah diperbaiki, berikut kode program untuk menghasilkan bintang persegi yang benar menurut saya."
   ]
  },
  {
   "cell_type": "code",
   "execution_count": 3,
   "metadata": {},
   "outputs": [
    {
     "name": "stdout",
     "output_type": "stream",
     "text": [
      "Masukkan nilai N: 5\n",
      "*  *  *  *  *  *  \n",
      "*  *  *  *  *  *  \n",
      "*  *  *  *  *  *  \n",
      "*  *  *  *  *  *  \n",
      "*  *  *  *  *  *  \n",
      "*  *  *  *  *  *  \n"
     ]
    }
   ],
   "source": [
    "// Tulis Kode program Percobaan 1 yang benar menurut kalian\n",
    "import java.util.Scanner;\n",
    "Scanner input = new Scanner(System.in);\n",
    "\n",
    "int N;\n",
    "System.out.print(\"Masukkan nilai N: \");\n",
    "N = input.nextInt();\n",
    "\n",
    "for(int outer=0 ; outer<=N ; outer++){\n",
    "    for(int i=0 ; i<=N ; i++){\n",
    "    System.out.print(\"*  \");\n",
    "    }\n",
    "    System.out.println();\n",
    "}"
   ]
  },
  {
   "cell_type": "markdown",
   "metadata": {},
   "source": [
    "***\n",
    "### Percobaan 2: Bintang Segitiga\n",
    "1.\tPada percobaan ke-2 akan dilakukan percobaan segitiga * sama siku dengan tinggi sebesar N. Misalkan N dimasukan **5**, maka hasilnya seperti gambar berikut\n",
    "![Gambar 4](images/img-04.png)\n",
    "2. Karena program membutuhkan input dari keyboard, maka perlu import class Scanner\n",
    "3. Ketikan kode program di bawah ini\n",
    "![Gambar 5](images/img-05.png)"
   ]
  },
  {
   "cell_type": "code",
   "execution_count": 4,
   "metadata": {},
   "outputs": [
    {
     "name": "stdout",
     "output_type": "stream",
     "text": [
      "Masukkan nilai N: 5\n",
      "***************"
     ]
    }
   ],
   "source": [
    "// Tulis Kode program Percobaan 2 Langkah 3 di atas\n",
    "import java.util.Scanner;\n",
    "Scanner input = new Scanner(System.in);\n",
    "\n",
    "System.out.print(\"Masukkan nilai N: \");\n",
    "int N = input.nextInt();\n",
    "int i = 0;\n",
    "\n",
    "while(i<=N){\n",
    "    int j=0;\n",
    "    while(j<i){\n",
    "        System.out.print(\"*\");\n",
    "        j++;\n",
    "    }\n",
    "    i++;\n",
    "}"
   ]
  },
  {
   "cell_type": "markdown",
   "metadata": {},
   "source": [
    "Amati kode program yang telah kalian tulis di atas.\n",
    "\n",
    "#### Pertanyaan\n",
    "1. Perhatikan, apakah output yang dihasilkan dengan nilai N = 5 sesuai dengan  tampilan seperti pada tahap 1 (Percobaan 2)?\n",
    "2. Jika tidak sesuai, bagian mana saja yang harus diperbaiki/ditambahkan? Jelaskan setiap bagian yang perlu diperbaiki/ditambahkan. \n",
    "\n",
    "#### Jawaban\n",
    "1. Dengan menggunakan kode program pada percobaan 2, output yang dihasilkan tidak sesuai. Sebab, terdapat kekurangan dalam kode program tersebut. Di mana, outer loop tidak diikuti dengan statement sehingga statement yang dieksekusi hanya yang ada pada inner loop.\n",
    "2. Untuk menghasilkan output yang sesuai, berikut kode program yang sesuai menurut saya."
   ]
  },
  {
   "cell_type": "code",
   "execution_count": 5,
   "metadata": {},
   "outputs": [
    {
     "name": "stdout",
     "output_type": "stream",
     "text": [
      "Masukkan nilai N: 5\n",
      "*\n",
      "**\n",
      "***\n",
      "****\n",
      "*****\n",
      "******\n"
     ]
    }
   ],
   "source": [
    "// Tulis Kode program Percobaan 2 yang benar menurut kalian\n",
    "import java.util.Scanner;\n",
    "Scanner input = new Scanner(System.in);\n",
    "\n",
    "System.out.print(\"Masukkan nilai N: \");\n",
    "int N = input.nextInt();\n",
    "int i = 0;\n",
    "\n",
    "while(i<=N){\n",
    "    int j=0;\n",
    "    while(j<=i){\n",
    "        System.out.print(\"*\");\n",
    "        j++;\n",
    "    }\n",
    "    System.out.println();\n",
    "    i++;\n",
    "}"
   ]
  },
  {
   "cell_type": "markdown",
   "metadata": {},
   "source": [
    "***\n",
    "### Percobaan 3: Segitiga Angka\n",
    "1.\tPada percobaan ke-3 akan dilakukan percobaan segitiga angka sama siku dengan tinggi sebesar N. Misalkan N dimasukan **5**, maka hasilnya seperti berikut\n",
    "![Gambar 7](images/img-07.png)\n",
    "2. Karena program membutuhkan input dari keyboard, maka perlu import class Scanner\n",
    "3. Ketikan kode program di bawah ini\n",
    "![Gambar 8](images/img-08.png)\n"
   ]
  },
  {
   "cell_type": "code",
   "execution_count": 6,
   "metadata": {},
   "outputs": [
    {
     "name": "stdout",
     "output_type": "stream",
     "text": [
      "Masukkan nilai N: 5\n",
      "1\n",
      "12\n",
      "123\n",
      "1234\n",
      "12345\n"
     ]
    }
   ],
   "source": [
    "// Tulis Kode program Percobaan 3 Langkah 3 di atas, disini\n",
    "import java.util.Scanner;\n",
    "Scanner input = new Scanner(System.in);\n",
    "\n",
    "System.out.print(\"Masukkan nilai N: \");\n",
    "int N = input.nextInt();\n",
    "\n",
    "for(int i=1 ; i<=N ; i++){\n",
    "    for(int j=1 ; j<=i ; j++){\n",
    "        System.out.print(j);\n",
    "    }\n",
    "    System.out.println();\n",
    "}"
   ]
  },
  {
   "cell_type": "markdown",
   "metadata": {},
   "source": [
    "#### Pertanyaan \n",
    "1. Apakah kode program di atas menghasilkan _output_ yang diharapkan?\n",
    "2. Jika belum, kode program mana yang harus modifikasi? Jelaskan\n",
    "\n",
    "#### Jawaban\n",
    "1. Kode program pada percobaan 3 menghasilkan output yang berbeda. Sebab statement inner menghasilkan output j, sehingga yang tampak ialah perulangan angka yang bertambah. Sedangkan yang diperlukan ialah perulangan angka yang jumlahnya bertambah namun angka sesuai dengan baris, misal baris satu berangka satu dan seterusnya. Maka, pada statement inner seharusnya memasukkan nilai i sebagai output.\n",
    "2. Berikut kode program yang menurut saya benar."
   ]
  },
  {
   "cell_type": "code",
   "execution_count": 7,
   "metadata": {},
   "outputs": [
    {
     "name": "stdout",
     "output_type": "stream",
     "text": [
      "Masukkan nilai N: 5\n",
      "1\n",
      "22\n",
      "333\n",
      "4444\n",
      "55555\n"
     ]
    }
   ],
   "source": [
    "// Tulis Kode program Percobaan 3 yang benar menurut kalian\n",
    "import java.util.Scanner;\n",
    "Scanner input = new Scanner(System.in);\n",
    "\n",
    "System.out.print(\"Masukkan nilai N: \");\n",
    "int N = input.nextInt();\n",
    "\n",
    "for(int i=1 ; i<=N ; i++){\n",
    "    for(int j=1 ; j<=i ; j++){\n",
    "        System.out.print(i);\n",
    "    }\n",
    "    System.out.println();\n",
    "}"
   ]
  },
  {
   "cell_type": "markdown",
   "metadata": {},
   "source": [
    "***\n",
    "### Percobaan 4: Tebak Angka\n",
    "1. Pada Percobaan 4 ini, kita akan belajar membuat kode untuk menebak angka menggunakan _nested loop_.\n",
    "2. Pada percobaan ini kita menggunakan library Scanner untuk menangkap input dari keyboard dan Random untuk meng-generate angka secara acak\n",
    "3. Ketik dan pahami kode program di bawah ini\n",
    "![Gambar 6](images/img-06.png)"
   ]
  },
  {
   "cell_type": "code",
   "execution_count": 8,
   "metadata": {},
   "outputs": [
    {
     "name": "stdout",
     "output_type": "stream",
     "text": [
      "Tebak angka (1-10): 1\n",
      "Tebak angka (1-10): 2\n",
      "Selamat, tebakan anda benar!\n",
      "Apakah anda ingin mengulang permainan (Y/y) ?t\n"
     ]
    }
   ],
   "source": [
    "// Tulis Kode program Percobaan 4 Langkah 3 di atas, disini\n",
    "import java.util.Scanner;\n",
    "import java.util.Random;\n",
    "\n",
    "Random random = new Random();\n",
    "Scanner input = new Scanner(System.in);\n",
    "char menu = 'y';\n",
    "\n",
    "do{\n",
    "    int number = random.nextInt(10)+1;\n",
    "    boolean success = false;\n",
    "    \n",
    "    do{\n",
    "        System.out.print(\"Tebak angka (1-10): \");\n",
    "        int answer = input.nextInt();\n",
    "        input.nextLine();\n",
    "    \n",
    "        if(answer==number){\n",
    "            System.out.println(\"Selamat, tebakan anda benar!\");\n",
    "            success = true;\n",
    "        }\n",
    "    }while(!success);\n",
    "    System.out.print(\"Apakah anda ingin mengulang permainan (Y/y) ?\");\n",
    "    menu = input.nextLine().charAt(0);\n",
    "}while(menu == 'y' || menu == 'Y');"
   ]
  },
  {
   "cell_type": "markdown",
   "metadata": {},
   "source": [
    "#### Pertanyaan\n",
    "1. Jelaskan alur program di atas!\n",
    "2. Apa yang harus dilakukan untuk tidak melanjutkan (tidak mengulangi) permainan tersebut? \n",
    "3. Modifikasi program di atas, sehingga bisa menampilkan informasi mengenai : \n",
    "    1. input nilai tebakan yang dimasukan oleh user apakah lebih kecil atau lebih besar dari nilai random!\n",
    "    2. hentikan _nested loop_ jika pengguna gagal menebak angka sampai 10x tebakan, dan beri pesan \"Maaf Anda gagal menebak angka sebanyak 10x\"\n",
    "\n",
    "#### Jawaban\n",
    "1. Program tersebut menggunakan nested loop untuk menebak angka. Di mana kita diminta untuk memasukkan angka untuk disesuaikan dengan angka random yang akan menjadi jawaban. Program akan terus berjalan dan berulang sampai angka yang dimasukkan sama dengan angka random sebagai jawaban. \n",
    "2. Untuk tidak melanjutkan program, cukup berikan jawaban selain 'y' dan 'Y' ketika diminta untuk mengulangi permainan."
   ]
  },
  {
   "cell_type": "code",
   "execution_count": 9,
   "metadata": {},
   "outputs": [
    {
     "name": "stdout",
     "output_type": "stream",
     "text": [
      "\n",
      "Tebak angka (1-10): 1\n",
      "Jawaban anda lebih kecil dibanding angka tebakan\n",
      "Tebak angka (1-10): 6\n",
      "Selamat, tebakan anda benar!\n",
      "Apakah anda ingin mengulang permainan (Y/y) ?t\n"
     ]
    }
   ],
   "source": [
    "/* Jawaban untuk Percobaan 4 Pertnyaan 3.A disini */\n",
    "import java.util.Scanner;\n",
    "import java.util.Random;\n",
    "\n",
    "Random random = new Random();\n",
    "Scanner input = new Scanner(System.in);\n",
    "char menu = 'y';\n",
    "\n",
    "do{\n",
    "    int number = random.nextInt(10) +1;\n",
    "    boolean success = false;\n",
    "    \n",
    "    do{\n",
    "        System.out.print(\"\\nTebak angka (1-10): \");\n",
    "        int answer = input.nextInt();\n",
    "        input.nextLine();\n",
    "    \n",
    "        if(answer==number){\n",
    "        System.out.println(\"Selamat, tebakan anda benar!\");\n",
    "            success=true;\n",
    "        } else if (answer>=number){\n",
    "        System.out.print(\"Jawaban anda lebih besar dibanding angka tebakan\");\n",
    "        } else{\n",
    "        System.out.print(\"Jawaban anda lebih kecil dibanding angka tebakan\");\n",
    "        }\n",
    "    }while(!success);\n",
    "    System.out.print(\"Apakah anda ingin mengulang permainan (Y/y) ?\");\n",
    "    menu = input.nextLine().charAt(0);\n",
    "}while(menu == 'y' || menu == 'Y');\n"
   ]
  },
  {
   "cell_type": "code",
   "execution_count": 10,
   "metadata": {},
   "outputs": [
    {
     "name": "stdout",
     "output_type": "stream",
     "text": [
      "Tebak angka (1-10): 1\n",
      "Tebak angka (1-10): 1\n",
      "Tebak angka (1-10): 1\n",
      "Tebak angka (1-10): 1\n",
      "Tebak angka (1-10): 1\n",
      "Tebak angka (1-10): 1\n",
      "Tebak angka (1-10): 1\n",
      "Tebak angka (1-10): 1\n",
      "Tebak angka (1-10): 1\n",
      "Tebak angka (1-10): 1\n",
      "Maaf, anda salah menebak selama 10x\n",
      "Apakah anda ingin mengulang permainan (Y/y) ?t\n"
     ]
    }
   ],
   "source": [
    "/* Jawaban untuk Percobaan 4 Pertnyaan 3.B disini */\n",
    "import java.util.Scanner;\n",
    "import java.util.Random;\n",
    "\n",
    "Random random = new Random();\n",
    "Scanner input = new Scanner(System.in);\n",
    "char menu = 'y';\n",
    "int answer;\n",
    "\n",
    "do{\n",
    "    int number = random.nextInt(10) +1;\n",
    "    boolean success = false;\n",
    "    int i=1;\n",
    "    do{\n",
    "        System.out.print(\"Tebak angka (1-10): \");\n",
    "        int answer = input.nextInt();\n",
    "        input.nextLine();\n",
    "    \n",
    "        if(answer==number){\n",
    "            System.out.println(\"Selamat, tebakan anda benar!\");\n",
    "            success = true;\n",
    "        } else if(i == 10){\n",
    "            System.out.println(\"Maaf, anda salah menebak selama 10x\");\n",
    "            success = true;\n",
    "            i=0;\n",
    "        }\n",
    "     i++;\n",
    "    }while(!success);\n",
    "    \n",
    "    System.out.print(\"Apakah anda ingin mengulang permainan (Y/y) ?\");\n",
    "    menu = input.nextLine().charAt(0);\n",
    "}while(menu == 'y' || menu == 'Y');"
   ]
  },
  {
   "cell_type": "markdown",
   "metadata": {},
   "source": [
    "***\n",
    "## Tugas\n",
    "### Soal 1\n",
    "Buatlah program yang **sesuai** dengan alur _flowchart_ di bawah ini\n",
    "![Soal 1](images/Soal-01.png)\n",
    "\n",
    "Apabila kode program sesuai _flowchart_, maka untuk nilai N = 5 akan menghasilkan output seperti gambar berikut\n",
    "![Soal 1 A](images/Soal-01.1.png)"
   ]
  },
  {
   "cell_type": "code",
   "execution_count": 11,
   "metadata": {},
   "outputs": [
    {
     "name": "stdout",
     "output_type": "stream",
     "text": [
      "Masukkan nilai N: 5\n",
      "    *\n",
      "   **\n",
      "  ***\n",
      " ****\n",
      "*****\n"
     ]
    }
   ],
   "source": [
    "/* Jawaban Soal 1 disini */\n",
    "import java.util.Scanner;\n",
    "Scanner input = new Scanner(System.in);\n",
    "\n",
    "int N;\n",
    "System.out.print(\"Masukkan nilai N: \");\n",
    "N = input.nextInt();\n",
    "\n",
    "for(int i=1 ; i<=N ; i++){\n",
    "    for(int j=N ; j>=1 ; j--){\n",
    "        if (i<j){\n",
    "            System.out.print(\" \");\n",
    "        } else {\n",
    "            System.out.print(\"*\");\n",
    "        }\n",
    "    }\n",
    "    System.out.print(\"\\n\");\n",
    "}"
   ]
  },
  {
   "cell_type": "markdown",
   "metadata": {},
   "source": [
    "***\n",
    "### Soal 2\n",
    "Buatlah program untuk mencetak tampilan persegi angka seperti di bawah ini berdasarkan input dari _keyboard_ N (nilai N minimal 3). Contoh N = 3, dan N = 5\n",
    "![Soal 2](images/Soal-02.png)"
   ]
  },
  {
   "cell_type": "code",
   "execution_count": 12,
   "metadata": {},
   "outputs": [
    {
     "name": "stdout",
     "output_type": "stream",
     "text": [
      "Masukkan nilai N: 5\n",
      "5 5 5 5 5 \n",
      "5       5 \n",
      "5       5 \n",
      "5       5 \n",
      "5 5 5 5 5 \n"
     ]
    }
   ],
   "source": [
    "/* Jawaban Soal 2 disini */\n",
    "import java.util.Scanner;\n",
    "Scanner input = new Scanner(System.in);\n",
    "\n",
    "int N;\n",
    "System.out.print(\"Masukkan nilai N: \");\n",
    "N = input.nextInt();\n",
    "\n",
    "for(int i=0 ; i<N ; i++){\n",
    "    for(int j=0 ; j<N ; j++){\n",
    "        if(i==0 || i==N-1 || j==0 || j==N-1){\n",
    "            System.out.print(N+\" \");\n",
    "        }else{\n",
    "            System.out.print(\"  \");\n",
    "        }\n",
    "    }\n",
    "    System.out.println();\n",
    "}"
   ]
  },
  {
   "cell_type": "markdown",
   "metadata": {},
   "source": [
    "***\n",
    "### Soal 3\n",
    "Buatlah program untuk mencetak tampilan piramida * seperti gambar di bawah ini, tinggi piramida berdasarkan input dari _keyboard_ N (nilai N minimal 3). Contoh N = 3, dan N = 5\n",
    "![Soal 3](images/Soal-03.png)"
   ]
  },
  {
   "cell_type": "code",
   "execution_count": 13,
   "metadata": {},
   "outputs": [
    {
     "name": "stdout",
     "output_type": "stream",
     "text": [
      "Masukkan nilai N (minimal 3): 5\n",
      "    *\n",
      "   ***\n",
      "  *****\n",
      " *******\n",
      "*********\n"
     ]
    }
   ],
   "source": [
    "/* Jawaban Soal 3 disini */\n",
    "import java.util.Scanner;\n",
    "Scanner input = new Scanner(System.in);\n",
    "\n",
    "int N;\n",
    "System.out.print(\"Masukkan nilai N (minimal 3): \");\n",
    "N = input.nextInt();\n",
    "\n",
    "for(int i=1 ; i<=N ; i++){\n",
    "    for(int j=N-1 ; j>=i ; j--){\n",
    "        System.out.print(\" \");\n",
    "    } \n",
    "    for(int h=1 ; h<=i ; h++){\n",
    "        System.out.print(\"*\");\n",
    "    }\n",
    "    for(int g=1 ; g<=i-1 ; g++){\n",
    "        System.out.print(\"*\");\n",
    "    }\n",
    "    System.out.println();\n",
    "}"
   ]
  },
  {
   "cell_type": "markdown",
   "metadata": {},
   "source": [
    "##### "
   ]
  }
 ],
 "metadata": {
  "kernelspec": {
   "display_name": "Java",
   "language": "java",
   "name": "java"
  },
  "language_info": {
   "codemirror_mode": "java",
   "file_extension": ".jshell",
   "mimetype": "text/x-java-source",
   "name": "Java",
   "pygments_lexer": "java",
   "version": "11.0.12+8-LTS-237"
  }
 },
 "nbformat": 4,
 "nbformat_minor": 1
}
