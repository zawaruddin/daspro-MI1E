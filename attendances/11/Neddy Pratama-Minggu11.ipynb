{
 "cells": [
  {
   "cell_type": "markdown",
   "metadata": {},
   "source": [
    "# JOBSHEET 11. ARRAY 2"
   ]
  },
  {
   "cell_type": "markdown",
   "metadata": {},
   "source": [
    "## Nama: Neddy Pratama Wiryawan\n",
    "## NIM: 2131710101\n",
    "\n",
    "## Tujuan\n",
    "* Mahasiswa mampu memahami pembuatan array dua dimensi\n",
    "* Mahasiswa mampu menyelesaikan studi kasus dengan memanfaatkan array dua dimensi"
   ]
  },
  {
   "cell_type": "markdown",
   "metadata": {},
   "source": [
    "## Alat dan Bahan\n",
    "* PC/Laptop\n",
    "* Browser\n",
    "* Koneksi internet\n",
    "* Anaconda3 + Java kernel (opsional)"
   ]
  },
  {
   "cell_type": "markdown",
   "metadata": {},
   "source": [
    "## Praktikum"
   ]
  },
  {
   "cell_type": "markdown",
   "metadata": {},
   "source": [
    "### Percobaan 1: Deklarasi, Inisialisasi, dan Menampilkan Array 2 Dimensi\n",
    "Pada Percobaan 1, kode program yang dibuat digunakan untuk menyimpan nilai praktikum dari 2 orang mahasiswa pada 3 mata kuliah yang berbeda.\n",
    "1.\tBuat array bertipe **integer** dengan nama **nilai** dengan kapasitas baris 2 elemen (menyatakan jumlah mahasiswa) dan kolom 3 elemen (menyatakan jumlah mata kuliah)\n",
    "![Gambar 1](images/percobaan1-1.PNG)"
   ]
  },
  {
   "cell_type": "code",
   "execution_count": null,
   "metadata": {},
   "outputs": [],
   "source": [
    "// Tuliskan kode program Percobaan 1 Langkah 1\n",
    "int[][] nilai = new int[2][3];"
   ]
  },
  {
   "cell_type": "markdown",
   "metadata": {},
   "source": [
    "2. Isi masing-masing elemen array **nilai** sebagai berikut:\n",
    "![Gambar 2](images/percobaan1-2.PNG)"
   ]
  },
  {
   "cell_type": "code",
   "execution_count": null,
   "metadata": {},
   "outputs": [],
   "source": [
    "// Tuliskan kode program Percobaan 1 Langkah 2\n",
    "int[][] nilai = new int[2][3];\n",
    "nilai[0][0] = 75;\n",
    "nilai[0][1] = 90;\n",
    "nilai[0][2] = 88;\n",
    "nilai[1][0] = 79;\n",
    "nilai[1][1] = 82;\n",
    "nilai[1][2] = 67;"
   ]
  },
  {
   "cell_type": "markdown",
   "metadata": {},
   "source": [
    "3. Tampilkan semua isi elemen array **nilai**\n",
    "![Gambar 3](images/percobaan1-3.PNG)"
   ]
  },
  {
   "cell_type": "code",
   "execution_count": 1,
   "metadata": {},
   "outputs": [
    {
     "name": "stdout",
     "output_type": "stream",
     "text": [
      "75 90 88\n",
      "79 82 67\n"
     ]
    }
   ],
   "source": [
    "// Tuliskan kode program Percobaan 1 Langkah 3\n",
    "int[][] nilai = new int[2][3];\n",
    "nilai[0][0] = 75;\n",
    "nilai[0][1] = 90;\n",
    "nilai[0][2] = 88;\n",
    "nilai[1][0] = 79;\n",
    "nilai[1][1] = 82;\n",
    "nilai[1][2] = 67;\n",
    "System.out.println(nilai[0][0] + \" \" + nilai[0][1] + \" \" + nilai[0][2]);\n",
    "System.out.println(nilai[1][0] + \" \" + nilai[1][1] + \" \" + nilai[1][2]);"
   ]
  },
  {
   "cell_type": "markdown",
   "metadata": {},
   "source": [
    "#### Pertanyaan\n",
    "1. Apakah pengisian elemen array harus dilakukan secara berurutan mulai dari indeks 0? Jelaskan!"
   ]
  },
  {
   "cell_type": "markdown",
   "metadata": {},
   "source": [
    "// Tuliskan jawaban nomor 1\n",
    "tidak karena ketika melakukan pengisian pasti memasukkan baris dan kolom yang akan diisi. meskipun tidak urut masih bisa melakukan pengisian"
   ]
  },
  {
   "cell_type": "markdown",
   "metadata": {},
   "source": [
    "2. Lakukan modifikasi pada Percobaan 1 Langkah 3 untuk menampilkan semua isi elemen array **nilai** menggunakan perulangan *for*"
   ]
  },
  {
   "cell_type": "code",
   "execution_count": 3,
   "metadata": {},
   "outputs": [
    {
     "name": "stdout",
     "output_type": "stream",
     "text": [
      "75\n",
      "90\n",
      "88\n",
      "79\n",
      "82\n",
      "67\n"
     ]
    }
   ],
   "source": [
    "// Tuliskan jawaban nomor 2\n",
    "int[][] nilai = new int[2][3];\n",
    "nilai[0][0] = 75;\n",
    "nilai[0][1] = 90;\n",
    "nilai[0][2] = 88;\n",
    "nilai[1][0] = 79;\n",
    "nilai[1][1] = 82;\n",
    "nilai[1][2] = 67;\n",
    "for(int i=0; i<nilai.length;i++) {\n",
    "    for(int j=0; j<nilai[0].length; j++) {\n",
    "        System.out.println(nilai[i][j]);\n",
    "    }\n",
    "}"
   ]
  },
  {
   "cell_type": "markdown",
   "metadata": {},
   "source": [
    "### Percobaan 2: Mengisi Elemen Array 2 Dimensi Menggunakan Input Keyboard\n",
    "Pada Percobaan 2, kode program yang dibuat digunakan untuk menyimpan nilai rating restoran yang terdaftar pada aplikasi pemesanan makanan online. Rating diberikan oleh 4 orang pengguna kepada 2 restoran yang terdaftar.\n",
    "1. Import dan deklarasikan Scanner dengan nama **sc**\n",
    "![Gambar 4](images/percobaan2-1.jpg)"
   ]
  },
  {
   "cell_type": "code",
   "execution_count": null,
   "metadata": {},
   "outputs": [],
   "source": [
    "// Tuliskan kode program Percobaan 2 Langkah 1\n",
    "import java.util.Scanner;\n",
    "Scanner sc = new Scanner(System.in);"
   ]
  },
  {
   "cell_type": "markdown",
   "metadata": {},
   "source": [
    "2.\tBuat array bertipe **integer** dengan nama **rating** dengan kapasitas baris 4 elemen (menyatakan jumlah pengguna) dan kolom 2 elemen (menyatakan jumlah restoran)\n",
    "![Gambar 5](images/percobaan2-2.PNG)"
   ]
  },
  {
   "cell_type": "code",
   "execution_count": null,
   "metadata": {},
   "outputs": [],
   "source": [
    "// Tuliskan kode program Percobaan 2 Langkah 2\n",
    "import java.util.Scanner;\n",
    "Scanner sc = new Scanner(System.in);\n",
    "int[][] rating = new int[4][2];"
   ]
  },
  {
   "cell_type": "markdown",
   "metadata": {},
   "source": [
    "3. Dengan menggunakan perulangan *for*, buat input untuk mengisi elemen array **rating**\n",
    "![Gambar 6](images/percobaan2-3.PNG)"
   ]
  },
  {
   "cell_type": "code",
   "execution_count": 4,
   "metadata": {},
   "outputs": [
    {
     "name": "stdout",
     "output_type": "stream",
     "text": [
      "Masukkan rating pengguna 0 untuk restoran 0 : 9\n",
      "Masukkan rating pengguna 0 untuk restoran 1 : 10\n",
      "\n",
      "Masukkan rating pengguna 1 untuk restoran 0 : 8\n",
      "Masukkan rating pengguna 1 untuk restoran 1 : 7\n",
      "\n",
      "Masukkan rating pengguna 2 untuk restoran 0 : 6\n",
      "Masukkan rating pengguna 2 untuk restoran 1 : 5\n",
      "\n",
      "Masukkan rating pengguna 3 untuk restoran 0 : 3\n",
      "Masukkan rating pengguna 3 untuk restoran 1 : 4\n",
      "\n"
     ]
    }
   ],
   "source": [
    "// Tuliskan kode program Percobaan 2 Langkah 3\n",
    "import java.util.Scanner;\n",
    "Scanner sc = new Scanner(System.in);\n",
    "int[][] rating = new int[4][2];\n",
    "for(int i=0; i<rating.length;i++) {\n",
    "    for(int j=0; j<rating[0].length; j++) {\n",
    "        System.out.print(\"Masukkan rating pengguna \" + i + \" untuk restoran \" + j + \" : \");\n",
    "        rating[i][j] = sc.nextInt();\n",
    "    }\n",
    "    System.out.println(\"\");\n",
    "}"
   ]
  },
  {
   "cell_type": "markdown",
   "metadata": {},
   "source": [
    "4. Dengan menggunakan perulangan *for-each*, tampilkan semua isi elemen dari array **rating**\n",
    "![Gambar 7](images/percobaan2-4.PNG)"
   ]
  },
  {
   "cell_type": "code",
   "execution_count": 5,
   "metadata": {},
   "outputs": [
    {
     "name": "stdout",
     "output_type": "stream",
     "text": [
      "Masukkan rating pengguna 0 untuk restoran 0 : 9\n",
      "Masukkan rating pengguna 0 untuk restoran 1 : 10\n",
      "\n",
      "Masukkan rating pengguna 1 untuk restoran 0 : 8\n",
      "Masukkan rating pengguna 1 untuk restoran 1 : 7\n",
      "\n",
      "Masukkan rating pengguna 2 untuk restoran 0 : 6\n",
      "Masukkan rating pengguna 2 untuk restoran 1 : 5\n",
      "\n",
      "Masukkan rating pengguna 3 untuk restoran 0 : 4\n",
      "Masukkan rating pengguna 3 untuk restoran 1 : 3\n",
      "\n",
      "9 10 \n",
      "8 7 \n",
      "6 5 \n",
      "4 3 \n"
     ]
    }
   ],
   "source": [
    "// Tuliskan kode program Percobaan 2 Langkah 4\n",
    "import java.util.Scanner;\n",
    "Scanner sc = new Scanner(System.in);\n",
    "int[][] rating = new int[4][2];\n",
    "for(int i=0; i<rating.length;i++) {\n",
    "    for(int j=0; j<rating[0].length; j++) {\n",
    "        System.out.print(\"Masukkan rating pengguna \" + i + \" untuk restoran \" + j + \" : \");\n",
    "        rating[i][j] = sc.nextInt();\n",
    "    }\n",
    "    System.out.println(\"\");\n",
    "}\n",
    "for(int[] rtg : rating) {\n",
    "    for(int r : rtg) {\n",
    "        System.out.print(r + \" \");\n",
    "    }\n",
    "    System.out.println(\"\");\n",
    "}"
   ]
  },
  {
   "cell_type": "markdown",
   "metadata": {},
   "source": [
    "#### Pertanyaan\n",
    "1. Pada Percobaan 2 Langkah 3, dapatkah posisi i ditukar dengan posisi j? Jelaskan alasannya!"
   ]
  },
  {
   "cell_type": "markdown",
   "metadata": {},
   "source": [
    "// Tuliskan jawaban nomor 1\n",
    "tidak karena ketika for ke 2 sudah selesai i akan ikut hasil dari i for ke 2. jadi akan eror"
   ]
  },
  {
   "cell_type": "markdown",
   "metadata": {},
   "source": [
    "2. Tambahkan kode program untuk menentukan banyaknya baris dan kolom elemen array secara dinamis (baris dan kolom ditentukan saat program berjalan melalui input keyboard)!"
   ]
  },
  {
   "cell_type": "code",
   "execution_count": 7,
   "metadata": {},
   "outputs": [
    {
     "name": "stdout",
     "output_type": "stream",
     "text": [
      "Masukkan nilai baris: 4\n",
      "\n",
      "Masukkan nilai kolom: 2\n",
      "\n",
      "Banyak baris adalah 4\n",
      "Banyak kolom adalah 2\n",
      "Masukkan rating pengguna 0 untuk restoran 0 : 10\n",
      "Masukkan rating pengguna 0 untuk restoran 1 : 10\n",
      "\n",
      "Masukkan rating pengguna 1 untuk restoran 0 : 9\n",
      "Masukkan rating pengguna 1 untuk restoran 1 : 9\n",
      "\n",
      "Masukkan rating pengguna 2 untuk restoran 0 : 8\n",
      "Masukkan rating pengguna 2 untuk restoran 1 : 8\n",
      "\n",
      "Masukkan rating pengguna 3 untuk restoran 0 : 7\n",
      "Masukkan rating pengguna 3 untuk restoran 1 : 7\n",
      "\n",
      "10 10 \n",
      "9 9 \n",
      "8 8 \n",
      "7 7 \n"
     ]
    }
   ],
   "source": [
    "// Tuliskan jawaban nomor 2\n",
    "import java.util.Scanner;\n",
    "Scanner sc = new Scanner(System.in);\n",
    "int coloum, line;\n",
    "System.out.print(\"Masukkan nilai baris: \");\n",
    "line = sc.nextInt();\n",
    "System.out.print(\"\\nMasukkan nilai kolom: \");\n",
    "coloum = sc.nextInt();\n",
    "System.out.println(\"\\nBanyak baris adalah \" + line);\n",
    "System.out.println(\"Banyak kolom adalah \" + coloum);\n",
    "int[][] rating = new int[line][coloum];\n",
    "for(int i=0; i<rating.length;i++) {\n",
    "    for(int j=0; j<rating[0].length; j++) {\n",
    "        System.out.print(\"Masukkan rating pengguna \" + i + \" untuk restoran \" + j + \" : \");\n",
    "        rating[i][j] = sc.nextInt();\n",
    "    }\n",
    "    System.out.println(\"\");\n",
    "}\n",
    "for(int[] rtg : rating) {\n",
    "    for(int r : rtg) {\n",
    "        System.out.print(r + \" \");\n",
    "    }\n",
    "    System.out.println(\"\");\n",
    "}"
   ]
  },
  {
   "cell_type": "markdown",
   "metadata": {},
   "source": [
    "### Percobaan 3: Melakukan Operasi Aritmatika pada Elemen Array 2 Dimensi\n",
    "Pada Percobaan 3, kode program yang dibuat digunakan untuk menghitung nilai rata-rata harga setiap bahan pokok selama 1 semester. Terdapat 3 bahan pokok yang dicatat harganya setiap akhir bulan. Program dibuat berdasarkan flowchart berikut.\n",
    "![Gambar 8](images/percobaan3.jpg)\n",
    "1. Import dan deklarasikan Scanner dengan nama **sc**\n",
    "![Gambar 9](images/percobaan3-1.jpg)"
   ]
  },
  {
   "cell_type": "code",
   "execution_count": null,
   "metadata": {},
   "outputs": [],
   "source": [
    "// Tuliskan kode program Percobaan 3 Langkah 1\n",
    "import java.util.Scanner;\n",
    "Scanner sc = new Scanner(System.in);"
   ]
  },
  {
   "cell_type": "markdown",
   "metadata": {},
   "source": [
    "2.\tBuat array bertipe **integer** dengan nama **harga** dengan kapasitas baris 3 elemen (menyatakan jumlah bahan pokok) dan kolom 6 elemen (menyatakan jumlah bulan). Deklarasikan juga variabel **total** dan **rata** bertipe **double**\n",
    "![Gambar 10](images/percobaan3-2.PNG)"
   ]
  },
  {
   "cell_type": "code",
   "execution_count": null,
   "metadata": {},
   "outputs": [],
   "source": [
    "// Tuliskan kode program Percobaan 3 Langkah 2\n",
    "import java.util.Scanner;\n",
    "Scanner sc = new Scanner(System.in);\n",
    "int[][] harga = new int[3][6];\n",
    "double total, rata;"
   ]
  },
  {
   "cell_type": "markdown",
   "metadata": {},
   "source": [
    "3. Dengan menggunakan perulangan *for*, buat input untuk mengisi elemen array **harga**. Kemudian, perhitungan total harga dilakukan untuk setiap bulan (kolom) pada setiap bahan pokok (baris). Setelah itu, nilai rata-rata dihitung untuk setiap bahan pokok (tiap satu baris) dan ditampilkan\n",
    "![Gambar 11](images/percobaan3-3.PNG)"
   ]
  },
  {
   "cell_type": "code",
   "execution_count": 9,
   "metadata": {},
   "outputs": [
    {
     "name": "stdout",
     "output_type": "stream",
     "text": [
      "Masukkan harga[0][0]: 1000\n",
      "Masukkan harga[0][1]: 2000\n",
      "Masukkan harga[0][2]: 3000\n",
      "Masukkan harga[0][3]: 4000\n",
      "Masukkan harga[0][4]: 5000\n",
      "Masukkan harga[0][5]: 6000\n",
      "Rata-rata harga bahan-0 adalah 3500.00\n",
      "Masukkan harga[1][0]: 7000\n",
      "Masukkan harga[1][1]: 8000\n",
      "Masukkan harga[1][2]: 9000\n",
      "Masukkan harga[1][3]: 1000\n",
      "Masukkan harga[1][4]: 2000\n",
      "Masukkan harga[1][5]: 3000\n",
      "Rata-rata harga bahan-1 adalah 5000.00\n",
      "Masukkan harga[2][0]: 4000\n",
      "Masukkan harga[2][1]: 5000\n",
      "Masukkan harga[2][2]: 6000\n",
      "Masukkan harga[2][3]: 7000\n",
      "Masukkan harga[2][4]: 8000\n",
      "Masukkan harga[2][5]: 9000\n",
      "Rata-rata harga bahan-2 adalah 6500.00\n"
     ]
    }
   ],
   "source": [
    "// Tuliskan kode program Percobaan 3 Langkah 3\n",
    "import java.util.Scanner;\n",
    "Scanner sc = new Scanner(System.in);\n",
    "int[][] harga = new int[3][6];\n",
    "double total, rata;\n",
    "for(int i=0; i<harga.length; i++) {\n",
    "    total = 0;\n",
    "    rata = 0;\n",
    "    for(int j=0; j<harga[0].length; j++) {\n",
    "        System.out.printf(\"Masukkan harga[%d][%d]: \", i, j);\n",
    "        harga[i][j] = sc.nextInt();\n",
    "        total+=harga[i][j];\n",
    "    }\n",
    "    rata = total/harga[0].length;\n",
    "    System.out.printf(\"Rata-rata harga bahan-%d adalah %.2f\\n\", i, rata);\n",
    "}"
   ]
  },
  {
   "cell_type": "markdown",
   "metadata": {},
   "source": [
    "#### Pertanyaan\n",
    "1. Jelaskan fungsi dari **rata = total / harga[0].length**!"
   ]
  },
  {
   "cell_type": "markdown",
   "metadata": {},
   "source": [
    "// Tuliskan jawaban nomor 1\n",
    "rata adalah total dibagi dengan panjang dari baris 0/jumlah kolom dalam baris 0"
   ]
  },
  {
   "cell_type": "markdown",
   "metadata": {},
   "source": [
    "2. Mengapa insialisasi variabel **total = 0** dan **rata = 0** berada di dalam perulangan *for* yang pertama? Menurut Anda, apa yang terjadi jika inisialisasi kedua variabel tersebut diletakkan di luar perulangan *for* (setelah deklarasi array)?"
   ]
  },
  {
   "cell_type": "markdown",
   "metadata": {},
   "source": [
    "// Tuliskan jawaban nomor 2\n",
    "supaya ketika for kedua selesai total dan rata kembali menjadi 0, jika ditaruh di luar perulangan maka hasil total dan rata akan terus bertambah dari awal sampai akhir(for kedua) "
   ]
  },
  {
   "cell_type": "markdown",
   "metadata": {},
   "source": [
    "## Tugas"
   ]
  },
  {
   "cell_type": "markdown",
   "metadata": {},
   "source": [
    "1. Perhatikan flowchart berikut.\n",
    "![Gambar 12](images/tugas-1.jpg)\n",
    "Buat kode program sesuai dengan flowchart tersebut untuk mencari suhu tertinggi yang dicatat dari 5 kota di Jepang selama 7 hari berturut-turut!"
   ]
  },
  {
   "cell_type": "code",
   "execution_count": 12,
   "metadata": {},
   "outputs": [
    {
     "name": "stdout",
     "output_type": "stream",
     "text": [
      "Masukkan suhu[0][0]: 10\n",
      "Masukkan suhu[0][1]: 20\n",
      "Masukkan suhu[0][2]: 30\n",
      "Masukkan suhu[0][3]: 40\n",
      "Masukkan suhu[0][4]: 50\n",
      "Masukkan suhu[0][5]: 60\n",
      "Masukkan suhu[0][6]: 70\n",
      "Masukkan suhu[1][0]: 11\n",
      "Masukkan suhu[1][1]: 12\n",
      "Masukkan suhu[1][2]: 13\n",
      "Masukkan suhu[1][3]: 14\n",
      "Masukkan suhu[1][4]: 15\n",
      "Masukkan suhu[1][5]: 16\n",
      "Masukkan suhu[1][6]: 17\n",
      "Masukkan suhu[2][0]: 18\n",
      "Masukkan suhu[2][1]: 19\n",
      "Masukkan suhu[2][2]: 25\n",
      "Masukkan suhu[2][3]: 35\n",
      "Masukkan suhu[2][4]: 45\n",
      "Masukkan suhu[2][5]: 55\n",
      "Masukkan suhu[2][6]: 65\n",
      "Masukkan suhu[3][0]: 75\n",
      "Masukkan suhu[3][1]: 22\n",
      "Masukkan suhu[3][2]: 23\n",
      "Masukkan suhu[3][3]: 24\n",
      "Masukkan suhu[3][4]: 25\n",
      "Masukkan suhu[3][5]: 26\n",
      "Masukkan suhu[3][6]: 27\n",
      "Masukkan suhu[4][0]: 36\n",
      "Masukkan suhu[4][1]: 46\n",
      "Masukkan suhu[4][2]: 56\n",
      "Masukkan suhu[4][3]: 66\n",
      "Masukkan suhu[4][4]: 67\n",
      "Masukkan suhu[4][5]: 76\n",
      "Masukkan suhu[4][6]: 86\n",
      "Suhu tertinggi pada 5 kota di Jepang selama 7 hari berturut-turut adalah 86.0"
     ]
    }
   ],
   "source": [
    "// Tuliskan jawaban nomor 1\n",
    "import java.util.Scanner;\n",
    "Scanner sc = new Scanner(System.in);\n",
    "double[][] suhu = new double[5][7];\n",
    "double max = 0;\n",
    "for(int x=0; x<suhu.length; x++) {\n",
    "    for(int y=0; y<suhu[0].length; y++) {\n",
    "        System.out.printf(\"Masukkan suhu[%d][%d]: \", x, y);\n",
    "        suhu[x][y] = sc.nextDouble();\n",
    "        if(suhu[x][y]>max) {\n",
    "            max=suhu[x][y];\n",
    "        }\n",
    "    }\n",
    "}\n",
    "System.out.print(\"Suhu tertinggi pada 5 kota di Jepang selama 7 hari berturut-turut adalah \" + max);"
   ]
  },
  {
   "cell_type": "markdown",
   "metadata": {},
   "source": [
    "2. Terdapat hasil pencatatan data lima mahasiswa yang berisi informasi mengenai umur, berat badan (kg), dan tinggi badan (cm). Data tersebut disimpan ke dalam array dua dimensi.\n",
    "![Gambar 13](images/tugas-2.PNG)\n",
    "*Keterangan: penyimpanan nilai dapat dilakukan melalui inisialisasi menggunakan operator assignment*\n",
    " * Tampilkan *berat badan terendah* di antara kelima mahasiswa tersebut\n",
    " * Tampilkan *rata-rata tinggi badan* dari kelima mahasiswa tersebut\n",
    " * Tampilkan nama mahasiswa dengan *umur tertua* di antara kelima mahasiswa tersebut"
   ]
  },
  {
   "cell_type": "code",
   "execution_count": 20,
   "metadata": {},
   "outputs": [
    {
     "name": "stdout",
     "output_type": "stream",
     "text": [
      "Masukkan dataMahasiswa[0][0]: 19\n",
      "Masukkan dataMahasiswa[0][1]: 51\n",
      "Masukkan dataMahasiswa[0][2]: 155\n",
      "Masukkan dataMahasiswa[1][0]: 18\n",
      "Masukkan dataMahasiswa[1][1]: 55\n",
      "Masukkan dataMahasiswa[1][2]: 163\n",
      "Masukkan dataMahasiswa[2][0]: 18\n",
      "Masukkan dataMahasiswa[2][1]: 45\n",
      "Masukkan dataMahasiswa[2][2]: 153\n",
      "Masukkan dataMahasiswa[3][0]: 20\n",
      "Masukkan dataMahasiswa[3][1]: 46\n",
      "Masukkan dataMahasiswa[3][2]: 158\n",
      "Masukkan dataMahasiswa[4][0]: 19\n",
      "Masukkan dataMahasiswa[4][1]: 58\n",
      "Masukkan dataMahasiswa[4][2]: 160\n",
      "Berat badan mahasiswa terendah adalah 45\n",
      "Rata-rata inggi mahasiswa adalah 157.8\n",
      "Mahasiswa dengan umur paling tua adalah Beky\n"
     ]
    }
   ],
   "source": [
    "// Tuliskan jawaban nomor 2\n",
    "import java.util.Scanner;\n",
    "Scanner sc = new Scanner(System.in);\n",
    "int[][] dataMahasiswa = new int[5][3];\n",
    "double total, rata;\n",
    "int min=1000, max=0;\n",
    "for(int i=0; i<dataMahasiswa.length; i++) {\n",
    "    for(int j=0; j<dataMahasiswa[0].length; j++) {\n",
    "        System.out.printf(\"Masukkan dataMahasiswa[%d][%d]: \", i, j);\n",
    "        dataMahasiswa[i][j] = sc.nextInt();\n",
    "    }\n",
    "}\n",
    "for(int i=0; i<dataMahasiswa.length; i++) {\n",
    "    if(dataMahasiswa[i][1]<min) {\n",
    "        min = dataMahasiswa[i][1];\n",
    "    }\n",
    "}\n",
    "System.out.print(\"Berat badan mahasiswa terendah adalah \" + min);\n",
    "for(int i=0; i<dataMahasiswa.length; i++) {\n",
    "    total+=dataMahasiswa[i][2];\n",
    "}\n",
    "rata = total/dataMahasiswa.length;\n",
    "System.out.print(\"\\nRata-rata inggi mahasiswa adalah \" + rata);\n",
    "for(int i=0; i<dataMahasiswa.length; i++) {\n",
    "    if(dataMahasiswa[i][0]>max) {\n",
    "        max = dataMahasiswa[i][0];\n",
    "    }\n",
    "}\n",
    "if(max==dataMahasiswa[0][0]) {\n",
    "    System.out.println(\"\\nMahasiswa dengan umur paling tua adalah Desi\");\n",
    "} else if(max==dataMahasiswa[1][0]) {\n",
    "    System.out.println(\"\\nMahasiswa dengan umur paling tua adalah Rofan\");\n",
    "} else if(max==dataMahasiswa[2][0]) {\n",
    "    System.out.println(\"\\nMahasiswa dengan umur paling tua adalah Lala\");\n",
    "} else if(max==dataMahasiswa[3][0]) {\n",
    "    System.out.println(\"\\nMahasiswa dengan umur paling tua adalah Beky\");\n",
    "} else {\n",
    "    System.out.println(\"\\nMahasiswa dengan umur paling tua adalah Ega\");\n",
    "}"
   ]
  },
  {
   "cell_type": "code",
   "execution_count": null,
   "metadata": {},
   "outputs": [],
   "source": []
  }
 ],
 "metadata": {
  "kernelspec": {
   "display_name": "Java",
   "language": "java",
   "name": "java"
  },
  "language_info": {
   "codemirror_mode": "java",
   "file_extension": ".jshell",
   "mimetype": "text/x-java-source",
   "name": "Java",
   "pygments_lexer": "java",
   "version": "11.0.12+8-LTS-237"
  }
 },
 "nbformat": 4,
 "nbformat_minor": 4
}
