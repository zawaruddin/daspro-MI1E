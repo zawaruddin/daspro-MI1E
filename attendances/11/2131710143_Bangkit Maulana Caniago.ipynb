{
 "cells": [
  {
   "cell_type": "markdown",
   "metadata": {},
   "source": [
    "# JOBSHEET 11. ARRAY 2\n",
    "## Nama : Bangkit Maulana Caniago\n",
    "## NIM : 2131710143"
   ]
  },
  {
   "cell_type": "markdown",
   "metadata": {},
   "source": [
    "## Tujuan\n",
    "* Mahasiswa mampu memahami pembuatan array dua dimensi\n",
    "* Mahasiswa mampu menyelesaikan studi kasus dengan memanfaatkan array dua dimensi"
   ]
  },
  {
   "cell_type": "markdown",
   "metadata": {},
   "source": [
    "## Alat dan Bahan\n",
    "* PC/Laptop\n",
    "* Browser\n",
    "* Koneksi internet\n",
    "* Anaconda3 + Java kernel (opsional)"
   ]
  },
  {
   "cell_type": "markdown",
   "metadata": {},
   "source": [
    "## Praktikum"
   ]
  },
  {
   "cell_type": "markdown",
   "metadata": {},
   "source": [
    "### Percobaan 1: Deklarasi, Inisialisasi, dan Menampilkan Array 2 Dimensi\n",
    "Pada Percobaan 1, kode program yang dibuat digunakan untuk menyimpan nilai praktikum dari 2 orang mahasiswa pada 3 mata kuliah yang berbeda.\n",
    "1.\tBuat array bertipe **integer** dengan nama **nilai** dengan kapasitas baris 2 elemen (menyatakan jumlah mahasiswa) dan kolom 3 elemen (menyatakan jumlah mata kuliah)\n",
    "![Gambar 1](images/percobaan1-1.PNG)"
   ]
  },
  {
   "cell_type": "code",
   "execution_count": 4,
   "metadata": {},
   "outputs": [],
   "source": [
    "// Tuliskan kode program Percobaan 1 Langkah 1\n",
    "int[][] nilai = new int[2][3];"
   ]
  },
  {
   "cell_type": "markdown",
   "metadata": {},
   "source": [
    "2. Isi masing-masing elemen array **nilai** sebagai berikut:\n",
    "![Gambar 2](images/percobaan1-2.PNG)"
   ]
  },
  {
   "cell_type": "code",
   "execution_count": 5,
   "metadata": {},
   "outputs": [
    {
     "data": {
      "text/plain": [
       "67"
      ]
     },
     "execution_count": 5,
     "metadata": {},
     "output_type": "execute_result"
    }
   ],
   "source": [
    "// Tuliskan kode program Percobaan 1 Langkah 2\n",
    "nilai[0][0] = 75;\n",
    "nilai[0][1] = 90;\n",
    "nilai[0][2] = 88;\n",
    "nilai[1][0] = 79;\n",
    "nilai[1][1] = 82;\n",
    "nilai[1][2] = 67;"
   ]
  },
  {
   "cell_type": "markdown",
   "metadata": {},
   "source": [
    "3. Tampilkan semua isi elemen array **nilai**\n",
    "![Gambar 3](images/percobaan1-3.PNG)"
   ]
  },
  {
   "cell_type": "code",
   "execution_count": 6,
   "metadata": {},
   "outputs": [
    {
     "name": "stdout",
     "output_type": "stream",
     "text": [
      "75 90 88\n",
      "79 82 67\n"
     ]
    }
   ],
   "source": [
    "// Tuliskan kode program Percobaan 1 Langkah 2\n",
    "System.out.println(nilai[0][0] + \" \" + nilai[0][1] + \" \" + nilai[0][2]);\n",
    "System.out.println(nilai[1][0] + \" \" + nilai[1][1] + \" \" + nilai[1][2]);"
   ]
  },
  {
   "cell_type": "markdown",
   "metadata": {},
   "source": [
    "#### Pertanyaan\n",
    "1. Apakah pengisian elemen array harus dilakukan secara berurutan mulai dari indeks 0? Jelaskan!"
   ]
  },
  {
   "cell_type": "markdown",
   "metadata": {},
   "source": [
    "\n",
    "ya , karena index dari array selalu dimulai dari 0,jika index 0 di lewati ,maka akan terjadi kekosongan nilai di index ke-0"
   ]
  },
  {
   "cell_type": "markdown",
   "metadata": {},
   "source": [
    "2. Lakukan modifikasi pada Percobaan 1 Langkah 3 untuk menampilkan semua isi elemen array **nilai** menggunakan perulangan *for*"
   ]
  },
  {
   "cell_type": "code",
   "execution_count": 12,
   "metadata": {},
   "outputs": [
    {
     "name": "stdout",
     "output_type": "stream",
     "text": [
      "75 90 88 \n",
      "79 82 67 \n"
     ]
    }
   ],
   "source": [
    "// Tuliskan jawaban nomor 2\n",
    "for (int i = 0;i < nilai.length ; i++){\n",
    "    for (int j = 0;j < nilai[0].length;j++){\n",
    "        System.out.print(nilai[i][j] + \" \" );\n",
    "    }\n",
    "    System.out.println();\n",
    "}"
   ]
  },
  {
   "cell_type": "markdown",
   "metadata": {},
   "source": [
    "### Percobaan 2: Mengisi Elemen Array 2 Dimensi Menggunakan Input Keyboard\n",
    "Pada Percobaan 2, kode program yang dibuat digunakan untuk menyimpan nilai rating restoran yang terdaftar pada aplikasi pemesanan makanan online. Rating diberikan oleh 4 orang pengguna kepada 2 restoran yang terdaftar.\n",
    "1. Import dan deklarasikan Scanner dengan nama **sc**\n",
    "![Gambar 4](images/percobaan2-1.jpg)"
   ]
  },
  {
   "cell_type": "code",
   "execution_count": 2,
   "metadata": {},
   "outputs": [],
   "source": [
    "// Tuliskan kode program Percobaan 2 Langkah 1\n",
    "import java.util.Scanner;\n",
    "Scanner sc = new Scanner(System.in);"
   ]
  },
  {
   "cell_type": "markdown",
   "metadata": {},
   "source": [
    "2.\tBuat array bertipe **integer** dengan nama **rating** dengan kapasitas baris 4 elemen (menyatakan jumlah pengguna) dan kolom 2 elemen (menyatakan jumlah restoran)\n",
    "![Gambar 5](images/percobaan2-2.PNG)"
   ]
  },
  {
   "cell_type": "code",
   "execution_count": 3,
   "metadata": {},
   "outputs": [],
   "source": [
    "// Tuliskan kode program Percobaan 2 Langkah 2\n",
    "int[][] rating = new int[4][2];"
   ]
  },
  {
   "cell_type": "markdown",
   "metadata": {},
   "source": [
    "3. Dengan menggunakan perulangan *for*, buat input untuk mengisi elemen array **rating**\n",
    "![Gambar 6](images/percobaan2-3.PNG)"
   ]
  },
  {
   "cell_type": "code",
   "execution_count": 35,
   "metadata": {},
   "outputs": [
    {
     "name": "stdout",
     "output_type": "stream",
     "text": [
      "Masukkan rating pengguna 0 untuk restoran 0 : 5\n",
      "Masukkan rating pengguna 0 untuk restoran 1 : 4\n",
      "\n",
      "Masukkan rating pengguna 1 untuk restoran 0 : 8\n",
      "Masukkan rating pengguna 1 untuk restoran 1 : 5\n",
      "\n",
      "Masukkan rating pengguna 2 untuk restoran 0 : 6\n",
      "Masukkan rating pengguna 2 untuk restoran 1 : 7\n",
      "\n",
      "Masukkan rating pengguna 3 untuk restoran 0 : 3\n",
      "Masukkan rating pengguna 3 untuk restoran 1 : 5\n",
      "\n"
     ]
    }
   ],
   "source": [
    "// Tuliskan kode program Percobaan 2 Langkah 3\n",
    "for (int i = 0;i < rating.length; i++){\n",
    "    for (int j = 0; j <rating[0].length; j++){\n",
    "        System.out.print(\"Masukkan rating pengguna \" + i + \" untuk restoran \" + j + \" : \" );\n",
    "        rating[i][j] = sc.nextInt();\n",
    "    }\n",
    "    System.out.println(\"\");\n",
    "}"
   ]
  },
  {
   "cell_type": "markdown",
   "metadata": {},
   "source": [
    "4. Dengan menggunakan perulangan *for-each*, tampilkan semua isi elemen dari array **rating**\n",
    "![Gambar 7](images/percobaan2-4.PNG)"
   ]
  },
  {
   "cell_type": "code",
   "execution_count": 36,
   "metadata": {},
   "outputs": [
    {
     "name": "stdout",
     "output_type": "stream",
     "text": [
      "5 4 \n",
      "8 5 \n",
      "6 7 \n",
      "3 5 \n"
     ]
    }
   ],
   "source": [
    "// Tuliskan kode program Percobaan 2 Langkah 4\n",
    "for (int[] rtg : rating){\n",
    "    for (int r : rtg){\n",
    "        System.out.print(r+ \" \");\n",
    "    }\n",
    "    System.out.println(\"\");\n",
    "}"
   ]
  },
  {
   "cell_type": "markdown",
   "metadata": {},
   "source": [
    "#### Pertanyaan\n",
    "1. Pada Percobaan 2 Langkah 3, dapatkah posisi i ditukar dengan posisi j? Jelaskan alasannya!"
   ]
  },
  {
   "cell_type": "markdown",
   "metadata": {},
   "source": [
    "jika i dan j dibalik pada deklarasi rating[i][j] dan menjadi rating[j][i], maka akan muncul error out fo bound, karena length dari baris pada rating dan kolom dari rating mempunyai nilai yang berbeda"
   ]
  },
  {
   "cell_type": "markdown",
   "metadata": {},
   "source": [
    "2. Tambahkan kode program untuk menentukan banyaknya baris dan kolom elemen array secara dinamis (baris dan kolom ditentukan saat program berjalan melalui input keyboard)!"
   ]
  },
  {
   "cell_type": "code",
   "execution_count": 33,
   "metadata": {},
   "outputs": [
    {
     "name": "stdout",
     "output_type": "stream",
     "text": [
      "banyak baris : 4\n",
      "banyak kolom : 2\n"
     ]
    }
   ],
   "source": [
    "// Tuliskan jawaban nomor 2\n",
    "System.out.println(\"banyak baris : \" + rating.length);\n",
    "System.out.println(\"banyak kolom : \" + rating[0].length);"
   ]
  },
  {
   "cell_type": "markdown",
   "metadata": {},
   "source": [
    "### Percobaan 3: Melakukan Operasi Aritmatika pada Elemen Array 2 Dimensi\n",
    "Pada Percobaan 3, kode program yang dibuat digunakan untuk menghitung nilai rata-rata harga setiap bahan pokok selama 1 semester. Terdapat 3 bahan pokok yang dicatat harganya setiap akhir bulan. Program dibuat berdasarkan flowchart berikut.\n",
    "![Gambar 8](images/percobaan3.jpg)\n",
    "1. Import dan deklarasikan Scanner dengan nama **sc**\n",
    "![Gambar 9](images/percobaan3-1.jpg)"
   ]
  },
  {
   "cell_type": "code",
   "execution_count": 8,
   "metadata": {},
   "outputs": [],
   "source": [
    "// Tuliskan kode program Percobaan 3 Langkah 1\n",
    "import java.util.Scanner;\n",
    "Scanner sc = new Scanner(System.in);"
   ]
  },
  {
   "cell_type": "markdown",
   "metadata": {},
   "source": [
    "2.\tBuat array bertipe **integer** dengan nama **harga** dengan kapasitas baris 3 elemen (menyatakan jumlah bahan pokok) dan kolom 6 elemen (menyatakan jumlah bulan). Deklarasikan juga variabel **total** dan **rata** bertipe **double**\n",
    "![Gambar 10](images/percobaan3-2.PNG)"
   ]
  },
  {
   "cell_type": "code",
   "execution_count": 9,
   "metadata": {},
   "outputs": [],
   "source": [
    "// Tuliskan kode program Percobaan 3 Langkah 2\n",
    "int[][] harga = new int[3][6];\n",
    "double total, rata;"
   ]
  },
  {
   "cell_type": "markdown",
   "metadata": {},
   "source": [
    "3. Dengan menggunakan perulangan *for*, buat input untuk mengisi elemen array **harga**. Kemudian, perhitungan total harga dilakukan untuk setiap bulan (kolom) pada setiap bahan pokok (baris). Setelah itu, nilai rata-rata dihitung untuk setiap bahan pokok (tiap satu baris) dan ditampilkan\n",
    "![Gambar 11](images/percobaan3-3.PNG)"
   ]
  },
  {
   "cell_type": "code",
   "execution_count": 34,
   "metadata": {},
   "outputs": [
    {
     "name": "stdout",
     "output_type": "stream",
     "text": [
      "Masukan harga[0][0]2000\n",
      "Masukan harga[0][1]4000\n",
      "Masukan harga[0][2]5000\n",
      "Masukan harga[0][3]4000\n",
      "Masukan harga[0][4]6000\n",
      "Masukan harga[0][5]4000\n",
      "Rata-rata harga bahan ke-0 adalah 4166.00\n",
      "Masukan harga[1][0]5000\n",
      "Masukan harga[1][1]4500\n",
      "Masukan harga[1][2]6000\n",
      "Masukan harga[1][3]2000\n",
      "Masukan harga[1][4]7000\n",
      "Masukan harga[1][5]3000\n",
      "Rata-rata harga bahan ke-1 adalah 4583.00\n",
      "Masukan harga[2][0]5000\n",
      "Masukan harga[2][1]4000\n",
      "Masukan harga[2][2]3000\n",
      "Masukan harga[2][3]2000\n",
      "Masukan harga[2][4]6000\n",
      "Masukan harga[2][5]7000\n",
      "Rata-rata harga bahan ke-2 adalah 4500.00\n"
     ]
    }
   ],
   "source": [
    "// Tuliskan kode program Percobaan 3 Langkah 3\n",
    "for (int i = 0; i < harga.length; i++){\n",
    "    total = 0;\n",
    "    rata = 0;\n",
    "    for(int j = 0;j<harga[0].length; j++){\n",
    "        System.out.printf(\"Masukan harga[%d][%d]\" , i , j);\n",
    "        harga[i][j] = sc.nextInt();\n",
    "        total += harga[i][j];\n",
    "    }\n",
    "    rata = total / harga[0].length;\n",
    "    System.out.printf(\"Rata-rata harga bahan ke-%d adalah %.2f\\n\" , i, rata);\n",
    "}"
   ]
  },
  {
   "cell_type": "markdown",
   "metadata": {},
   "source": [
    "#### Pertanyaan\n",
    "1. Jelaskan fungsi dari **rata = total / harga[0].length**!"
   ]
  },
  {
   "cell_type": "markdown",
   "metadata": {},
   "source": [
    "\n",
    "fungsi dari rata = total / harga[0].length adalah untuk menghitung rata rata dari total dengan menggunakan rumus total dibagi dengan jumlah kolom\n"
   ]
  },
  {
   "cell_type": "markdown",
   "metadata": {},
   "source": [
    "2. Mengapa insialisasi variabel **total = 0** dan **rata = 0** berada di dalam perulangan *for* yang pertama? Menurut Anda, apa yang terjadi jika inisialisasi kedua variabel tersebut diletakkan di luar perulangan *for* (setelah deklarasi array)?"
   ]
  },
  {
   "cell_type": "markdown",
   "metadata": {},
   "source": [
    "karena jika total = 0 dan rata = 0 tidak di letakan di dalam for pertama maka akan terjadi penumpukan dari nilai total dan nilai rata rata, maka dari itu  total dan rata harus di taruh di dalam for agar nilai dari total dan rata kembali lagi menjadi 0  dan bisa mencegah penumpukan nilai"
   ]
  },
  {
   "cell_type": "markdown",
   "metadata": {},
   "source": [
    "## Tugas"
   ]
  },
  {
   "cell_type": "markdown",
   "metadata": {},
   "source": [
    "1. Perhatikan flowchart berikut.\n",
    "![Gambar 12](images/tugas-1.jpg)\n",
    "Buat kode program sesuai dengan flowchart tersebut untuk mencari suhu tertinggi yang dicatat dari 5 kota di Jepang selama 7 hari berturut-turut!"
   ]
  },
  {
   "cell_type": "code",
   "execution_count": 17,
   "metadata": {},
   "outputs": [
    {
     "name": "stdout",
     "output_type": "stream",
     "text": [
      "Masukan suhu kota ke-0 dan hari ke-0 : 35\n",
      "Masukan suhu kota ke-0 dan hari ke-1 : 36\n",
      "Masukan suhu kota ke-0 dan hari ke-2 : 34\n",
      "Masukan suhu kota ke-0 dan hari ke-3 : 38\n",
      "Masukan suhu kota ke-0 dan hari ke-4 : 39\n",
      "Masukan suhu kota ke-0 dan hari ke-5 : 45\n",
      "Masukan suhu kota ke-0 dan hari ke-6 : 42\n",
      "Masukan suhu kota ke-1 dan hari ke-0 : 41\n",
      "Masukan suhu kota ke-1 dan hari ke-1 : 29\n",
      "Masukan suhu kota ke-1 dan hari ke-2 : 28\n",
      "Masukan suhu kota ke-1 dan hari ke-3 : 15\n",
      "Masukan suhu kota ke-1 dan hari ke-4 : 36\n",
      "Masukan suhu kota ke-1 dan hari ke-5 : 34\n",
      "Masukan suhu kota ke-1 dan hari ke-6 : 39\n",
      "Masukan suhu kota ke-2 dan hari ke-0 : 37\n",
      "Masukan suhu kota ke-2 dan hari ke-1 : 28\n",
      "Masukan suhu kota ke-2 dan hari ke-2 : 29\n",
      "Masukan suhu kota ke-2 dan hari ke-3 : 34\n",
      "Masukan suhu kota ke-2 dan hari ke-4 : 36\n",
      "Masukan suhu kota ke-2 dan hari ke-5 : 35\n",
      "Masukan suhu kota ke-2 dan hari ke-6 : 29\n",
      "Masukan suhu kota ke-3 dan hari ke-0 : 35\n",
      "Masukan suhu kota ke-3 dan hari ke-1 : 28\n",
      "Masukan suhu kota ke-3 dan hari ke-2 : 46\n",
      "Masukan suhu kota ke-3 dan hari ke-3 : 35\n",
      "Masukan suhu kota ke-3 dan hari ke-4 : 34\n",
      "Masukan suhu kota ke-3 dan hari ke-5 : 42\n",
      "Masukan suhu kota ke-3 dan hari ke-6 : 42\n",
      "Masukan suhu kota ke-4 dan hari ke-0 : 42\n",
      "Masukan suhu kota ke-4 dan hari ke-1 : 36\n",
      "Masukan suhu kota ke-4 dan hari ke-2 : 39\n",
      "Masukan suhu kota ke-4 dan hari ke-3 : 35\n",
      "Masukan suhu kota ke-4 dan hari ke-4 : 34\n",
      "Masukan suhu kota ke-4 dan hari ke-5 : 35\n",
      "Masukan suhu kota ke-4 dan hari ke-6 : 38\n",
      "Suhu tertinggi adalah :46.0"
     ]
    }
   ],
   "source": [
    "// Tuliskan jawaban nomor 1\n",
    "import java.util.Scanner;\n",
    "Scanner sc = new Scanner(System.in);\n",
    "double[][] suhu = new double[5][7];\n",
    "double max = 0;\n",
    "int x ,y;\n",
    "\n",
    "for ( x = 0 ; x < suhu.length; x++){\n",
    "    for(y = 0;y < suhu[0].length ; y++){\n",
    "        System.out.print(\"Masukan suhu kota ke-\" + x + \" dan hari ke-\" +y+ \" : \");\n",
    "        suhu[x][y] = sc.nextInt();\n",
    "        if(suhu[x][y] > max){\n",
    "            max = suhu[x][y];\n",
    "        }\n",
    "    }\n",
    "}\n",
    "System.out.print(\"Suhu tertinggi adalah :\" + max);"
   ]
  },
  {
   "cell_type": "markdown",
   "metadata": {},
   "source": [
    "### 2. Terdapat hasil pencatatan data lima mahasiswa yang berisi informasi mengenai umur, berat badan (kg), dan tinggi badan (cm). Data tersebut disimpan ke dalam array dua dimensi.\n",
    "![Gambar 13](images/tugas-2.PNG)\n",
    "*Keterangan: penyimpanan nilai dapat dilakukan melalui inisialisasi menggunakan operator assignment*\n",
    " * Tampilkan *berat badan terendah* di antara kelima mahasiswa tersebut\n",
    " * Tampilkan *rata-rata tinggi badan* dari kelima mahasiswa tersebut\n",
    " * Tampilkan nama mahasiswa dengan *umur tertua* di antara kelima mahasiswa tersebut"
   ]
  },
  {
   "cell_type": "code",
   "execution_count": 43,
   "metadata": {},
   "outputs": [
    {
     "name": "stdout",
     "output_type": "stream",
     "text": [
      "Berat badan terendah dari 5 mahasiswa tersebut adalah : 45\n",
      "Rata rata tinggi badan dari 5 mahasiswa tersebut adalah : 157.8\n",
      "Mahasiswa tertua berumur 20 yang bernama Beky\n"
     ]
    }
   ],
   "source": [
    "// Tuliskan jawaban nomor 2\n",
    "import java.util.Scanner;\n",
    "Scanner sc = new Scanner(System.in);\n",
    "String[] nama = {\"Desi\",\"Rofan\",\"Lala\",\"Beky\",\"Ega\"};\n",
    "int[][] data = {\n",
    "{19,51,155},\n",
    "{18,55,163},\n",
    "{18,45,153},\n",
    "{20,46,158},\n",
    "{19,58,160},\n",
    "};\n",
    "int min = 200 ;\n",
    "double rataTinggi ,total =0;\n",
    "int umurTertua = 0 , indexUmur;\n",
    "\n",
    "for(int i = 0;i< data.length;i++){\n",
    "    if(data[i][1] < min){\n",
    "        min = data[i][1];\n",
    "    }   \n",
    "}\n",
    "System.out.println(\"Berat badan terendah dari 5 mahasiswa tersebut adalah : \" + min);\n",
    "\n",
    "for(int i = 0;i< data.length;i++){\n",
    "    total += data[i][2];\n",
    "}\n",
    "rataTinggi = total / data.length;\n",
    "System.out.println(\"Rata rata tinggi badan dari 5 mahasiswa tersebut adalah : \" + rataTinggi);\n",
    "\n",
    "for(int i = 0;i< data.length;i++){\n",
    "    if(data[i][0] > umurTertua){\n",
    "        umurTertua = data[i][0];\n",
    "        indexUmur = i;\n",
    "    }\n",
    "}\n",
    "\n",
    "System.out.println(\"Mahasiswa tertua berumur \" +umurTertua + \" yang bernama \" + nama[indexUmur]);"
   ]
  },
  {
   "cell_type": "code",
   "execution_count": null,
   "metadata": {},
   "outputs": [],
   "source": []
  }
 ],
 "metadata": {
  "kernelspec": {
   "display_name": "Java",
   "language": "java",
   "name": "java"
  },
  "language_info": {
   "codemirror_mode": "java",
   "file_extension": ".jshell",
   "mimetype": "text/x-java-source",
   "name": "Java",
   "pygments_lexer": "java",
   "version": "11+28"
  }
 },
 "nbformat": 4,
 "nbformat_minor": 4
}
