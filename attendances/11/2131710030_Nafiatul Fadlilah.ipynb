{
 "cells": [
  {
   "cell_type": "markdown",
   "metadata": {},
   "source": [
    "# JOBSHEET 11. ARRAY 2\n",
    "\n",
    "### Nama: NAFIATUL FADLILAH\n",
    "### NIM: 2131710030\n",
    "### Kelas: MI-1E"
   ]
  },
  {
   "cell_type": "markdown",
   "metadata": {},
   "source": [
    "## Tujuan\n",
    "* Mahasiswa mampu memahami pembuatan array dua dimensi\n",
    "* Mahasiswa mampu menyelesaikan studi kasus dengan memanfaatkan array dua dimensi"
   ]
  },
  {
   "cell_type": "markdown",
   "metadata": {},
   "source": [
    "## Alat dan Bahan\n",
    "* PC/Laptop\n",
    "* Browser\n",
    "* Koneksi internet\n",
    "* Anaconda3 + Java kernel (opsional)"
   ]
  },
  {
   "cell_type": "markdown",
   "metadata": {},
   "source": [
    "## Praktikum"
   ]
  },
  {
   "cell_type": "markdown",
   "metadata": {},
   "source": [
    "### Percobaan 1: Deklarasi, Inisialisasi, dan Menampilkan Array 2 Dimensi\n",
    "Pada Percobaan 1, kode program yang dibuat digunakan untuk menyimpan nilai praktikum dari 2 orang mahasiswa pada 3 mata kuliah yang berbeda.\n",
    "1.\tBuat array bertipe **integer** dengan nama **nilai** dengan kapasitas baris 2 elemen (menyatakan jumlah mahasiswa) dan kolom 3 elemen (menyatakan jumlah mata kuliah)\n",
    "![Gambar 1](images/percobaan1-1.PNG)"
   ]
  },
  {
   "cell_type": "code",
   "execution_count": 1,
   "metadata": {},
   "outputs": [],
   "source": [
    "// Tuliskan kode program Percobaan 1 Langkah 1\n",
    "int[][] nilai = new int[2][3];"
   ]
  },
  {
   "cell_type": "markdown",
   "metadata": {},
   "source": [
    "2. Isi masing-masing elemen array **nilai** sebagai berikut:\n",
    "![Gambar 2](images/percobaan1-2.PNG)"
   ]
  },
  {
   "cell_type": "code",
   "execution_count": 2,
   "metadata": {},
   "outputs": [
    {
     "data": {
      "text/plain": [
       "67"
      ]
     },
     "execution_count": 2,
     "metadata": {},
     "output_type": "execute_result"
    }
   ],
   "source": [
    "// Tuliskan kode program Percobaan 1 Langkah 2\n",
    "int[][] nilai = new int[2][3];\n",
    "nilai[0][0] = 75;\n",
    "nilai[0][1] = 90;\n",
    "nilai[0][2] = 88;\n",
    "nilai[1][0] = 79;\n",
    "nilai[1][1] = 82;\n",
    "nilai[1][2] = 67;"
   ]
  },
  {
   "cell_type": "markdown",
   "metadata": {},
   "source": [
    "3. Tampilkan semua isi elemen array **nilai**\n",
    "![Gambar 3](images/percobaan1-3.PNG)"
   ]
  },
  {
   "cell_type": "code",
   "execution_count": 3,
   "metadata": {},
   "outputs": [
    {
     "name": "stdout",
     "output_type": "stream",
     "text": [
      "75 90 88\n",
      "79 82 67\n"
     ]
    }
   ],
   "source": [
    "// Tuliskan kode program Percobaan 1 Langkah 2\n",
    "int[][] nilai = new int[2][3];\n",
    "nilai[0][0] = 75;\n",
    "nilai[0][1] = 90;\n",
    "nilai[0][2] = 88;\n",
    "nilai[1][0] = 79;\n",
    "nilai[1][1] = 82;\n",
    "nilai[1][2] = 67;\n",
    "System.out.println(nilai[0][0] + \" \" + nilai[0][1] + \" \" + nilai[0][2]);\n",
    "System.out.println(nilai[1][0] + \" \" + nilai[1][1] + \" \" + nilai[1][2]);"
   ]
  },
  {
   "cell_type": "markdown",
   "metadata": {},
   "source": [
    "#### Pertanyaan\n",
    "1. Apakah pengisian elemen array harus dilakukan secara berurutan mulai dari indeks 0? Jelaskan!"
   ]
  },
  {
   "cell_type": "code",
   "execution_count": null,
   "metadata": {},
   "outputs": [],
   "source": [
    "// Tuliskan jawaban nomor 1\n",
    "/*Tidak harus, karena dalam pengisian elemen array 2 dimensi kita bisa langsung mengakses indeks baris dan kolom yang \n",
    "diinginkan kemudian langsung melakukan inisialisasi menggunakan operator assignment tanpa harus memulai mengisikan \n",
    "elemen dari indeks ke-0. Misalnya, namaArray[baris][kolom] = nilaiArray; dengan syarat pengisian sesuai dengan alokasi memori.*/ "
   ]
  },
  {
   "cell_type": "markdown",
   "metadata": {},
   "source": [
    "2. Lakukan modifikasi pada Percobaan 1 Langkah 3 untuk menampilkan semua isi elemen array **nilai** menggunakan perulangan *for*"
   ]
  },
  {
   "cell_type": "code",
   "execution_count": 9,
   "metadata": {},
   "outputs": [
    {
     "name": "stdout",
     "output_type": "stream",
     "text": [
      "75 90 88 \n",
      "79 82 67 \n"
     ]
    }
   ],
   "source": [
    "// Tuliskan jawaban nomor 2\n",
    "int[][] nilai = new int[2][3];\n",
    "nilai[0][0] = 75;\n",
    "nilai[0][1] = 90;\n",
    "nilai[0][2] = 88;\n",
    "nilai[1][0] = 79;\n",
    "nilai[1][1] = 82;\n",
    "nilai[1][2] = 67;\n",
    "for(int row = 0; row < 2; row++){\n",
    "    for(int column = 0; column < 3; column++){\n",
    "        System.out.print(nilai[row][column] + \" \");\n",
    "    }\n",
    "    System.out.println();\n",
    "}"
   ]
  },
  {
   "cell_type": "markdown",
   "metadata": {},
   "source": [
    "### Percobaan 2: Mengisi Elemen Array 2 Dimensi Menggunakan Input Keyboard\n",
    "Pada Percobaan 2, kode program yang dibuat digunakan untuk menyimpan nilai rating restoran yang terdaftar pada aplikasi pemesanan makanan online. Rating diberikan oleh 4 orang pengguna kepada 2 restoran yang terdaftar.\n",
    "1. Import dan deklarasikan Scanner dengan nama **sc**\n",
    "![Gambar 4](images/percobaan2-1.jpg)"
   ]
  },
  {
   "cell_type": "code",
   "execution_count": null,
   "metadata": {},
   "outputs": [],
   "source": [
    "// Tuliskan kode program Percobaan 2 Langkah 1\n",
    "import java.Util.Scanner;\n",
    "Scanner sc = new Scanner(System.in);"
   ]
  },
  {
   "cell_type": "markdown",
   "metadata": {},
   "source": [
    "2.\tBuat array bertipe **integer** dengan nama **rating** dengan kapasitas baris 4 elemen (menyatakan jumlah pengguna) dan kolom 2 elemen (menyatakan jumlah restoran)\n",
    "![Gambar 5](images/percobaan2-2.PNG)"
   ]
  },
  {
   "cell_type": "code",
   "execution_count": 11,
   "metadata": {},
   "outputs": [],
   "source": [
    "// Tuliskan kode program Percobaan 2 Langkah 2\n",
    "import java.util.Scanner;\n",
    "Scanner sc = new Scanner(System.in);\n",
    "int[][] rating = new int[4][2];"
   ]
  },
  {
   "cell_type": "markdown",
   "metadata": {},
   "source": [
    "3. Dengan menggunakan perulangan *for*, buat input untuk mengisi elemen array **rating**\n",
    "![Gambar 6](images/percobaan2-3.PNG)"
   ]
  },
  {
   "cell_type": "code",
   "execution_count": 22,
   "metadata": {},
   "outputs": [
    {
     "name": "stdout",
     "output_type": "stream",
     "text": [
      "Masukkan rating pengguna 0 untuk restoran 0 : 2\n",
      "Masukkan rating pengguna 0 untuk restoran 1 : 3\n",
      "\n",
      "Masukkan rating pengguna 1 untuk restoran 0 : 2\n",
      "Masukkan rating pengguna 1 untuk restoran 1 : 3\n",
      "\n",
      "Masukkan rating pengguna 2 untuk restoran 0 : 2\n",
      "Masukkan rating pengguna 2 untuk restoran 1 : 3\n",
      "\n",
      "Masukkan rating pengguna 3 untuk restoran 0 : 2\n",
      "Masukkan rating pengguna 3 untuk restoran 1 : 3\n",
      "\n"
     ]
    }
   ],
   "source": [
    "// Tuliskan kode program Percobaan 2 Langkah 3\n",
    "import java.util.Scanner;\n",
    "Scanner sc = new Scanner(System.in);\n",
    "int[][] rating = new int[4][2];\n",
    "for(int i = 0; i < rating.length; i++){\n",
    "    for(int j = 0; j < rating[0].length; j++){\n",
    "        System.out.print(\"Masukkan rating pengguna \" + i + \" untuk restoran \" + j + \" : \");\n",
    "        rating[i][j] = sc.nextInt();\n",
    "    }\n",
    "    System.out.println(\"\");\n",
    "}"
   ]
  },
  {
   "cell_type": "markdown",
   "metadata": {},
   "source": [
    "4. Dengan menggunakan perulangan *for-each*, tampilkan semua isi elemen dari array **rating**\n",
    "![Gambar 7](images/percobaan2-4.PNG)"
   ]
  },
  {
   "cell_type": "code",
   "execution_count": 17,
   "metadata": {},
   "outputs": [
    {
     "name": "stdout",
     "output_type": "stream",
     "text": [
      "Masukkan rating pengguna 0 untuk restoran 0 : 2\n",
      "Masukkan rating pengguna 0 untuk restoran 1 : 5\n",
      "\n",
      "Masukkan rating pengguna 1 untuk restoran 0 : 3\n",
      "Masukkan rating pengguna 1 untuk restoran 1 : 7\n",
      "\n",
      "Masukkan rating pengguna 2 untuk restoran 0 : 3\n",
      "Masukkan rating pengguna 2 untuk restoran 1 : 2\n",
      "\n",
      "Masukkan rating pengguna 3 untuk restoran 0 : 5\n",
      "Masukkan rating pengguna 3 untuk restoran 1 : 3\n",
      "\n",
      "2 5 \n",
      "3 7 \n",
      "3 2 \n",
      "5 3 \n"
     ]
    }
   ],
   "source": [
    "// Tuliskan kode program Percobaan 2 Langkah 4\n",
    "import java.util.Scanner;\n",
    "Scanner sc = new Scanner(System.in);\n",
    "int[][] rating = new int[4][2];\n",
    "for(int i = 0; i < rating.length; i++){\n",
    "    for(int j = 0; j < rating[0].length; j++){\n",
    "        System.out.print(\"Masukkan rating pengguna \" + i + \" untuk restoran \" + j + \" : \");\n",
    "        rating[i][j] = sc.nextInt();\n",
    "    }\n",
    "    System.out.println(\"\");\n",
    "}\n",
    "for (int[] rtg : rating){\n",
    "    for(int r : rtg) {\n",
    "        System.out.print(r + \" \");\n",
    "    }\n",
    "    System.out.println(\"\");\n",
    "}"
   ]
  },
  {
   "cell_type": "markdown",
   "metadata": {},
   "source": [
    "#### Pertanyaan\n",
    "1. Pada Percobaan 2 Langkah 3, dapatkah posisi i ditukar dengan posisi j? Jelaskan alasannya!"
   ]
  },
  {
   "cell_type": "code",
   "execution_count": 23,
   "metadata": {},
   "outputs": [
    {
     "name": "stdout",
     "output_type": "stream",
     "text": [
      "Masukkan rating pengguna 0 untuk restoran 0 : 2\n",
      "Masukkan rating pengguna 0 untuk restoran 1 : 3\n",
      "\n",
      "Masukkan rating pengguna 1 untuk restoran 0 : 2\n",
      "Masukkan rating pengguna 1 untuk restoran 1 : 3\n",
      "\n",
      "Masukkan rating pengguna 2 untuk restoran 0 : 2\n"
     ]
    },
    {
     "ename": "EvalException",
     "evalue": "Index 2 out of bounds for length 2",
     "output_type": "error",
     "traceback": [
      "\u001b[1m\u001b[31m---------------------------------------------------------------------------\u001b[0m",
      "\u001b[1m\u001b[31mjava.lang.ArrayIndexOutOfBoundsException: Index 2 out of bounds for length 2\u001b[0m",
      "\u001b[1m\u001b[31m\tat .(#87:1)\u001b[0m"
     ]
    }
   ],
   "source": [
    "// Tuliskan jawaban nomor 1\n",
    "import java.util.Scanner;\n",
    "Scanner sc = new Scanner(System.in);\n",
    "int[][] rating = new int[4][2];\n",
    "for(int i = 0; i < rating.length; i++){\n",
    "    for(int j = 0; j < rating[0].length; j++){\n",
    "        System.out.print(\"Masukkan rating pengguna \" + i + \" untuk restoran \" + j + \" : \");\n",
    "        rating[j][i] = sc.nextInt();\n",
    "    }\n",
    "    System.out.println(\"\");\n",
    "}\n",
    "/*Tidak bisa. Hal ini karena pada deklarasi dan instansiasi baris yang dialokasikan 4 dan kolomnya 2. Namun, pada perulangan\n",
    "karena dibalik antara baris dan kolom, maka pada saat dilakukan input tempat baris tetap mencukupi namun kolom yang disediakan \n",
    "kurang karena pada instansiasi / alokasi memori hanya disediakan 2 kolom. Sehingga saat akan menginputkan kolom ketiganya sudah \n",
    "tidak bisa.*/ "
   ]
  },
  {
   "cell_type": "markdown",
   "metadata": {},
   "source": [
    "2. Tambahkan kode program untuk menentukan banyaknya baris dan kolom elemen array secara dinamis (baris dan kolom ditentukan saat program berjalan melalui input keyboard)!"
   ]
  },
  {
   "cell_type": "code",
   "execution_count": 26,
   "metadata": {},
   "outputs": [
    {
     "name": "stdout",
     "output_type": "stream",
     "text": [
      "Masukkan baris: 4\n",
      "Masukkan kolom: 2\n",
      "Masukkan rating pengguna 0 untuk restoran 0 : 2\n",
      "Masukkan rating pengguna 0 untuk restoran 1 : 3\n",
      "\n",
      "Masukkan rating pengguna 1 untuk restoran 0 : 2\n",
      "Masukkan rating pengguna 1 untuk restoran 1 : 3\n",
      "\n",
      "Masukkan rating pengguna 2 untuk restoran 0 : 2\n",
      "Masukkan rating pengguna 2 untuk restoran 1 : 3\n",
      "\n",
      "Masukkan rating pengguna 3 untuk restoran 0 : 2\n",
      "Masukkan rating pengguna 3 untuk restoran 1 : 3\n",
      "\n",
      "2 3 \n",
      "2 3 \n",
      "2 3 \n",
      "2 3 \n"
     ]
    }
   ],
   "source": [
    "// Tuliskan jawaban nomor 2\n",
    "import java.util.Scanner;\n",
    "Scanner input = new Scanner(System.in);\n",
    "\n",
    "System.out.print(\"Masukkan baris: \");\n",
    "int row = input.nextInt();\n",
    "System.out.print(\"Masukkan kolom: \");\n",
    "int column = input.nextInt();\n",
    "\n",
    "int[][] rating = new int[row][column];\n",
    "for(int i = 0; i < rating.length; i++){\n",
    "    for(int j = 0; j < rating[0].length; j++){\n",
    "        System.out.print(\"Masukkan rating pengguna \" + i + \" untuk restoran \" + j + \" : \");\n",
    "        rating[i][j] = sc.nextInt();\n",
    "    }\n",
    "    System.out.println(\"\");\n",
    "}\n",
    "for (int[] rtg : rating){\n",
    "    for(int r : rtg) {\n",
    "        System.out.print(r + \" \");\n",
    "    }\n",
    "    System.out.println(\"\");\n",
    "}"
   ]
  },
  {
   "cell_type": "markdown",
   "metadata": {},
   "source": [
    "### Percobaan 3: Melakukan Operasi Aritmatika pada Elemen Array 2 Dimensi\n",
    "Pada Percobaan 3, kode program yang dibuat digunakan untuk menghitung nilai rata-rata harga setiap bahan pokok selama 1 semester. Terdapat 3 bahan pokok yang dicatat harganya setiap akhir bulan. Program dibuat berdasarkan flowchart berikut.\n",
    "![Gambar 8](images/percobaan3.jpg)\n",
    "1. Import dan deklarasikan Scanner dengan nama **sc**\n",
    "![Gambar 9](images/percobaan3-1.jpg)"
   ]
  },
  {
   "cell_type": "code",
   "execution_count": null,
   "metadata": {},
   "outputs": [],
   "source": [
    "// Tuliskan kode program Percobaan 3 Langkah 1\n",
    "import  java.util.Scanner;\n",
    "Scanner sc = new Scanner(System.in);"
   ]
  },
  {
   "cell_type": "markdown",
   "metadata": {},
   "source": [
    "2.\tBuat array bertipe **integer** dengan nama **harga** dengan kapasitas baris 3 elemen (menyatakan jumlah bahan pokok) dan kolom 6 elemen (menyatakan jumlah bulan). Deklarasikan juga variabel **total** dan **rata** bertipe **double**\n",
    "![Gambar 10](images/percobaan3-2.PNG)"
   ]
  },
  {
   "cell_type": "code",
   "execution_count": 18,
   "metadata": {},
   "outputs": [],
   "source": [
    "// Tuliskan kode program Percobaan 3 Langkah 2\n",
    "import  java.util.Scanner;\n",
    "Scanner sc = new Scanner(System.in);\n",
    "int[][] harga = new int[3][6];\n",
    "double total, rata;"
   ]
  },
  {
   "cell_type": "markdown",
   "metadata": {},
   "source": [
    "3. Dengan menggunakan perulangan *for*, buat input untuk mengisi elemen array **harga**. Kemudian, perhitungan total harga dilakukan untuk setiap bulan (kolom) pada setiap bahan pokok (baris). Setelah itu, nilai rata-rata dihitung untuk setiap bahan pokok (tiap satu baris) dan ditampilkan\n",
    "![Gambar 11](images/percobaan3-3.PNG)"
   ]
  },
  {
   "cell_type": "code",
   "execution_count": 19,
   "metadata": {},
   "outputs": [
    {
     "name": "stdout",
     "output_type": "stream",
     "text": [
      "Masukkan harga[0][0]: 10000\n",
      "Masukkan harga[0][1]: 20000\n",
      "Masukkan harga[0][2]: 10000\n",
      "Masukkan harga[0][3]: 20000\n",
      "Masukkan harga[0][4]: 10000\n",
      "Masukkan harga[0][5]: 20000\n",
      "Rata-rata harga bahan ke-0 adalah 15000.00\n",
      "Masukkan harga[1][0]: 10000\n",
      "Masukkan harga[1][1]: 20000\n",
      "Masukkan harga[1][2]: 10000\n",
      "Masukkan harga[1][3]: 20000\n",
      "Masukkan harga[1][4]: 10000\n",
      "Masukkan harga[1][5]: 20000\n",
      "Rata-rata harga bahan ke-1 adalah 15000.00\n",
      "Masukkan harga[2][0]: 10000\n",
      "Masukkan harga[2][1]: 20000\n",
      "Masukkan harga[2][2]: 10000\n",
      "Masukkan harga[2][3]: 20000\n",
      "Masukkan harga[2][4]: 10000\n",
      "Masukkan harga[2][5]: 20000\n",
      "Rata-rata harga bahan ke-2 adalah 15000.00\n"
     ]
    }
   ],
   "source": [
    "// Tuliskan kode program Percobaan 3 Langkah 3\n",
    "import  java.util.Scanner;\n",
    "Scanner sc = new Scanner(System.in);\n",
    "int[][] harga = new int[3][6];\n",
    "double total, rata;\n",
    "\n",
    "for(int i = 0; i < harga.length; i++){\n",
    "    total = 0;\n",
    "    rata = 0;\n",
    "    for(int j = 0; j < harga[0].length; j++){\n",
    "        System.out.printf(\"Masukkan harga[%d][%d]: \", i, j);\n",
    "        harga[i][j] = sc.nextInt();\n",
    "        total += harga[i][j];\n",
    "    }\n",
    "    rata = total / harga[0].length;\n",
    "    System.out.printf(\"Rata-rata harga bahan ke-%d adalah %.2f\\n\", i, rata);/*%.2f digunakan untuk menampilkan hasil \n",
    "    perhitungan 2 digit di belakang koma*/\n",
    "}"
   ]
  },
  {
   "cell_type": "markdown",
   "metadata": {},
   "source": [
    "#### Pertanyaan\n",
    "1. Jelaskan fungsi dari **rata = total / harga[0].length**!"
   ]
  },
  {
   "cell_type": "code",
   "execution_count": null,
   "metadata": {},
   "outputs": [],
   "source": [
    "// Tuliskan jawaban nomor 1\n",
    "/* Berdasarkan kode program tersebut, fungsi dari rata = total/harga[0].length adalah untuk menghitung nilai rata-rata semua \n",
    "harga di setiap barisnya(setiap bahan). Jika diterjemahkan maka menjadi rata = total harga / 6*/  "
   ]
  },
  {
   "cell_type": "markdown",
   "metadata": {},
   "source": [
    "2. Mengapa insialisasi variabel **total = 0** dan **rata = 0** berada di dalam perulangan *for* yang pertama? Menurut Anda, apa yang terjadi jika inisialisasi kedua variabel tersebut diletakkan di luar perulangan *for* (setelah deklarasi array)?"
   ]
  },
  {
   "cell_type": "code",
   "execution_count": null,
   "metadata": {},
   "outputs": [],
   "source": [
    "// Tuliskan jawaban nomor 2\n",
    "/* Maka setiap melakukan perulangan baris atau bahan, yang mana mulai perulangan kedua, nilai total dan rata tersebut akan \n",
    "semakin bertambah, karena sebelumnya sudah ada isinya. Namun, jika inisialiasasi variabel total = 0 dan rata = 0 diletakkan \n",
    "seperti program di atas maka, setiap kali melakukan perulangan nilai total dan rata akan dimulai dari 0 lagi (belum terisi), \n",
    "sehingga output pasti sesuai dengan yang dharapkan*/"
   ]
  },
  {
   "cell_type": "markdown",
   "metadata": {},
   "source": [
    "## Tugas"
   ]
  },
  {
   "cell_type": "markdown",
   "metadata": {},
   "source": [
    "1. Perhatikan flowchart berikut.\n",
    "![Gambar 12](images/tugas-1.jpg)\n",
    "Buat kode program sesuai dengan flowchart tersebut untuk mencari suhu tertinggi yang dicatat dari 5 kota di Jepang selama 7 hari berturut-turut!"
   ]
  },
  {
   "cell_type": "code",
   "execution_count": 29,
   "metadata": {},
   "outputs": [
    {
     "name": "stdout",
     "output_type": "stream",
     "text": [
      "Masukkan suhu: 30\n",
      "Masukkan suhu: 20\n",
      "Masukkan suhu: 21\n",
      "Masukkan suhu: 2\n",
      "Masukkan suhu: 3\n",
      "Masukkan suhu: 4\n",
      "Masukkan suhu: 5\n",
      "Masukkan suhu: 6\n",
      "Masukkan suhu: 7\n",
      "Masukkan suhu: 8\n",
      "Masukkan suhu: 9\n",
      "Masukkan suhu: 9\n",
      "Masukkan suhu: 10\n",
      "Masukkan suhu: 2\n",
      "Masukkan suhu: 22\n",
      "Masukkan suhu: 22\n",
      "Masukkan suhu: 33\n",
      "Masukkan suhu: 44\n",
      "Masukkan suhu: 55\n",
      "Masukkan suhu: 66\n",
      "Masukkan suhu: 23\n",
      "Masukkan suhu: 23\n",
      "Masukkan suhu: 23\n",
      "Masukkan suhu: 23\n",
      "Masukkan suhu: 23\n",
      "Masukkan suhu: 23\n",
      "Masukkan suhu: 23\n",
      "Masukkan suhu: 23\n",
      "Masukkan suhu: 23\n",
      "Masukkan suhu: 23\n",
      "Masukkan suhu: 23\n",
      "Masukkan suhu: 23\n",
      "Masukkan suhu: 23\n",
      "Masukkan suhu: 23\n",
      "Masukkan suhu: 23\n",
      "Suhu tertinggi: 66.0"
     ]
    }
   ],
   "source": [
    "// Tuliskan jawaban nomor 1\n",
    "import java.util.Scanner; \n",
    "Scanner input = new Scanner(System.in);\n",
    "\n",
    "double[][] suhu= new double[5][7];\n",
    "int x,y;\n",
    "double max = 0;\n",
    "\n",
    "for(x = 0 ; x < suhu.length; x++){\n",
    "    for(y = 0 ; y < suhu[0].length; y++){\n",
    "        System.out.print(\"Masukkan suhu: \");\n",
    "        suhu[x][y] = input.nextInt();\n",
    "        if( suhu[x][y] > max){\n",
    "            max = suhu[x][y];\n",
    "        }\n",
    "    }\n",
    "}\n",
    "System.out.print(\"Suhu tertinggi: \" + max);"
   ]
  },
  {
   "cell_type": "markdown",
   "metadata": {},
   "source": [
    "### 2. Terdapat hasil pencatatan data lima mahasiswa yang berisi informasi mengenai umur, berat badan (kg), dan tinggi badan (cm). Data tersebut disimpan ke dalam array dua dimensi.\n",
    "![Gambar 13](images/tugas-2.PNG)\n",
    "*Keterangan: penyimpanan nilai dapat dilakukan melalui inisialisasi menggunakan operator assignment*\n",
    " * Tampilkan *berat badan terendah* di antara kelima mahasiswa tersebut\n",
    " * Tampilkan *rata-rata tinggi badan* dari kelima mahasiswa tersebut\n",
    " * Tampilkan nama mahasiswa dengan *umur tertua* di antara kelima mahasiswa tersebut"
   ]
  },
  {
   "cell_type": "code",
   "execution_count": 34,
   "metadata": {},
   "outputs": [
    {
     "name": "stdout",
     "output_type": "stream",
     "text": [
      "Berat Badan terendah di antara kelima mahasiswa: 45\n",
      "Rata-rata tinggi badan dari kelima Mahasiswa: 157\n",
      "Beky Memiliki Umur Tertua 20\n"
     ]
    }
   ],
   "source": [
    "// Tuliskan jawaban nomor 2\n",
    "int[][] data = {\n",
    "    {19,51, 155},\n",
    "    {18, 55, 163},\n",
    "    {18, 45, 153},\n",
    "    {20, 46, 158},\n",
    "    {19, 58, 160}\n",
    "               };\n",
    "double max, averageHeight;\n",
    "String[] name = {\"Desi\", \"Rofan\", \"Lala\", \"Beky\", \"Ega\"};\n",
    "int min = 200, max = 0, average, total;\n",
    "String oldest;\n",
    "\n",
    "for(int i = 0; i < data.length; i++){\n",
    "        for (int j = 0; j < name.length; j++){\n",
    "            if(data[i][1] < min){\n",
    "                min = data[i][1];\n",
    "            }if(data[i][0] > max){\n",
    "                max = data[i][0];\n",
    "                oldest = name[i];\n",
    "            }if(j == 2)\n",
    "            total += data[i][j];\n",
    "        }\n",
    "    }\n",
    "average = total/5;\n",
    "System.out.println(\"Berat Badan terendah di antara kelima mahasiswa: \" + min);\n",
    "System.out.println(\"Rata-rata tinggi badan dari kelima Mahasiswa: \" + average);\n",
    "System.out.println(oldest + \" Memiliki Umur Tertua \" + max);"
   ]
  }
 ],
 "metadata": {
  "kernelspec": {
   "display_name": "Java",
   "language": "java",
   "name": "java"
  },
  "language_info": {
   "codemirror_mode": "java",
   "file_extension": ".jshell",
   "mimetype": "text/x-java-source",
   "name": "Java",
   "pygments_lexer": "java",
   "version": "11.0.12+8-LTS-237"
  }
 },
 "nbformat": 4,
 "nbformat_minor": 4
}
