{
 "cells": [
  {
   "cell_type": "markdown",
   "metadata": {},
   "source": [
    "# JOBSHEET 11. ARRAY 2\n",
    "\n",
    "Nama : Kansha maulidya Shyfa\n",
    "\n",
    "NIM : 2131710148\n",
    "\n",
    "Kelas : MI-1E"
   ]
  },
  {
   "cell_type": "markdown",
   "metadata": {},
   "source": [
    "## Tujuan\n",
    "* Mahasiswa mampu memahami pembuatan array dua dimensi\n",
    "* Mahasiswa mampu menyelesaikan studi kasus dengan memanfaatkan array dua dimensi"
   ]
  },
  {
   "cell_type": "markdown",
   "metadata": {},
   "source": [
    "## Alat dan Bahan\n",
    "* PC/Laptop\n",
    "* Browser\n",
    "* Koneksi internet\n",
    "* Anaconda3 + Java kernel (opsional)"
   ]
  },
  {
   "cell_type": "markdown",
   "metadata": {},
   "source": [
    "## Praktikum"
   ]
  },
  {
   "cell_type": "markdown",
   "metadata": {},
   "source": [
    "### Percobaan 1: Deklarasi, Inisialisasi, dan Menampilkan Array 2 Dimensi\n",
    "Pada Percobaan 1, kode program yang dibuat digunakan untuk menyimpan nilai praktikum dari 2 orang mahasiswa pada 3 mata kuliah yang berbeda.\n",
    "1.\tBuat array bertipe **integer** dengan nama **nilai** dengan kapasitas baris 2 elemen (menyatakan jumlah mahasiswa) dan kolom 3 elemen (menyatakan jumlah mata kuliah)\n",
    "![Gambar 1](images/percobaan1-1.PNG)"
   ]
  },
  {
   "cell_type": "code",
   "execution_count": 31,
   "metadata": {},
   "outputs": [],
   "source": [
    "// Tuliskan kode program Percobaan 1 Langkah 1\n",
    "int [] [] nilai = new int [2] [3];"
   ]
  },
  {
   "cell_type": "markdown",
   "metadata": {},
   "source": [
    "2. Isi masing-masing elemen array **nilai** sebagai berikut:\n",
    "![Gambar 2](images/percobaan1-2.PNG)"
   ]
  },
  {
   "cell_type": "code",
   "execution_count": 32,
   "metadata": {},
   "outputs": [
    {
     "data": {
      "text/plain": [
       "67"
      ]
     },
     "execution_count": 32,
     "metadata": {},
     "output_type": "execute_result"
    }
   ],
   "source": [
    "// Tuliskan kode program Percobaan 1 Langkah 2\n",
    "\n",
    "nilai [1] [0] = 79;\n",
    "nilai [1] [1] = 82;\n",
    "nilai [1] [2] = 67;"
   ]
  },
  {
   "cell_type": "markdown",
   "metadata": {},
   "source": [
    "3. Tampilkan semua isi elemen array **nilai**\n",
    "![Gambar 3](images/percobaan1-3.PNG)"
   ]
  },
  {
   "cell_type": "code",
   "execution_count": 33,
   "metadata": {},
   "outputs": [
    {
     "name": "stdout",
     "output_type": "stream",
     "text": [
      "0 0 0\n",
      "79 82 67\n"
     ]
    }
   ],
   "source": [
    "// Tuliskan kode program Percobaan 1 Langkah 2\n",
    "System.out.println(nilai [0] [0] + \" \" + nilai [0] [1] + \" \" + nilai [0] [2]);\n",
    "System.out.println(nilai [1] [0] + \" \" + nilai [1] [1] + \" \" + nilai [1] [2]);"
   ]
  },
  {
   "cell_type": "markdown",
   "metadata": {},
   "source": [
    "#### Pertanyaan\n",
    "1. Apakah pengisian elemen array harus dilakukan secara berurutan mulai dari indeks 0? Jelaskan!"
   ]
  },
  {
   "cell_type": "code",
   "execution_count": null,
   "metadata": {},
   "outputs": [],
   "source": [
    "// Tuliskan jawaban nomor 1\n",
    "//tidak."
   ]
  },
  {
   "cell_type": "markdown",
   "metadata": {},
   "source": [
    "2. Lakukan modifikasi pada Percobaan 1 Langkah 3 untuk menampilkan semua isi elemen array **nilai** menggunakan perulangan *for*"
   ]
  },
  {
   "cell_type": "code",
   "execution_count": 35,
   "metadata": {},
   "outputs": [
    {
     "name": "stdout",
     "output_type": "stream",
     "text": [
      "75 90 88 \n",
      "79 82 67 \n"
     ]
    }
   ],
   "source": [
    "// Tuliskan jawaban nomor 2\n",
    "int [] [] nilai = new int [2] [3];\n",
    "nilai [0] [0] = 75;\n",
    "nilai [0] [1] = 90;\n",
    "nilai [0] [2] = 88;\n",
    "nilai [1] [0] = 79;\n",
    "nilai [1] [1] = 82;\n",
    "nilai [1] [2] = 67;\n",
    "for(int baris = 0; baris < 2; baris++){\n",
    "    for(int kolom = 0; kolom < 3; kolom++){\n",
    "        System.out.print(nilai [baris][kolom] + \" \");\n",
    "        \n",
    "    }\n",
    "    System.out.println();\n",
    "}\n"
   ]
  },
  {
   "cell_type": "markdown",
   "metadata": {},
   "source": [
    "### Percobaan 2: Mengisi Elemen Array 2 Dimensi Menggunakan Input Keyboard\n",
    "Pada Percobaan 2, kode program yang dibuat digunakan untuk menyimpan nilai rating restoran yang terdaftar pada aplikasi pemesanan makanan online. Rating diberikan oleh 4 orang pengguna kepada 2 restoran yang terdaftar.\n",
    "1. Import dan deklarasikan Scanner dengan nama **sc**\n",
    "![Gambar 4](images/percobaan2-1.jpg)"
   ]
  },
  {
   "cell_type": "code",
   "execution_count": 36,
   "metadata": {},
   "outputs": [],
   "source": [
    "// Tuliskan kode program Percobaan 2 Langkah 1\n",
    "import java.util.Scanner;\n",
    "Scanner sc = new Scanner(System.in);"
   ]
  },
  {
   "cell_type": "markdown",
   "metadata": {},
   "source": [
    "2.\tBuat array bertipe **integer** dengan nama **rating** dengan kapasitas baris 4 elemen (menyatakan jumlah pengguna) dan kolom 2 elemen (menyatakan jumlah restoran)\n",
    "![Gambar 5](images/percobaan2-2.PNG)"
   ]
  },
  {
   "cell_type": "code",
   "execution_count": 37,
   "metadata": {},
   "outputs": [],
   "source": [
    "// Tuliskan kode program Percobaan 2 Langkah 2\n",
    "int[][] rating = new int [4][2];"
   ]
  },
  {
   "cell_type": "markdown",
   "metadata": {},
   "source": [
    "3. Dengan menggunakan perulangan *for*, buat input untuk mengisi elemen array **rating**\n",
    "![Gambar 6](images/percobaan2-3.PNG)"
   ]
  },
  {
   "cell_type": "code",
   "execution_count": 38,
   "metadata": {},
   "outputs": [
    {
     "name": "stdout",
     "output_type": "stream",
     "text": [
      "Masukkan rating penguuna 0 untuk restoran 0 : 9\n",
      "Masukkan rating penguuna 0 untuk restoran 1 : 8\n",
      "\n",
      "Masukkan rating penguuna 1 untuk restoran 0 : 9\n",
      "Masukkan rating penguuna 1 untuk restoran 1 : 8\n",
      "\n",
      "Masukkan rating penguuna 2 untuk restoran 0 : 9\n",
      "Masukkan rating penguuna 2 untuk restoran 1 : 8\n",
      "\n",
      "Masukkan rating penguuna 3 untuk restoran 0 : 9\n",
      "Masukkan rating penguuna 3 untuk restoran 1 : 8\n",
      "\n"
     ]
    }
   ],
   "source": [
    "// Tuliskan kode program Percobaan 2 Langkah 3\n",
    "for (int i=0; i<rating.length; i++){\n",
    "    for(int j=0; j < rating[0].length; j++){\n",
    "        System.out.print(\"Masukkan rating penguuna \"+ i +\" untuk restoran \"+ j +\" : \");\n",
    "        rating[i][j] = sc.nextInt();\n",
    "    }\n",
    "    System.out.println(\"\");\n",
    "}"
   ]
  },
  {
   "cell_type": "markdown",
   "metadata": {},
   "source": [
    "4. Dengan menggunakan perulangan *for-each*, tampilkan semua isi elemen dari array **rating**\n",
    "![Gambar 7](images/percobaan2-4.PNG)"
   ]
  },
  {
   "cell_type": "code",
   "execution_count": 39,
   "metadata": {},
   "outputs": [
    {
     "name": "stdout",
     "output_type": "stream",
     "text": [
      "9 8 \n",
      "9 8 \n",
      "9 8 \n",
      "9 8 \n"
     ]
    }
   ],
   "source": [
    "// Tuliskan kode program Percobaan 2 Langkah 4\n",
    "for (int[] rtg : rating){\n",
    "    for(int r: rtg){\n",
    "        System.out.print(r + \" \");\n",
    "    }\n",
    "    System.out.println(\"\");\n",
    "}"
   ]
  },
  {
   "cell_type": "markdown",
   "metadata": {},
   "source": [
    "#### Pertanyaan\n",
    "1. Pada Percobaan 2 Langkah 3, dapatkah posisi i ditukar dengan posisi j? Jelaskan alasannya!"
   ]
  },
  {
   "cell_type": "code",
   "execution_count": 6,
   "metadata": {},
   "outputs": [
    {
     "name": "stdout",
     "output_type": "stream",
     "text": [
      "Masukkan rating penguuna 0 untuk restoran 0 : 2\n",
      "Masukkan rating penguuna 0 untuk restoran 1 : 3\n",
      "\n",
      "Masukkan rating penguuna 1 untuk restoran 0 : 4\n",
      "Masukkan rating penguuna 1 untuk restoran 1 : 5\n",
      "\n",
      "Masukkan rating penguuna 2 untuk restoran 0 : 6\n"
     ]
    },
    {
     "ename": "EvalException",
     "evalue": "Index 2 out of bounds for length 2",
     "output_type": "error",
     "traceback": [
      "\u001b[1m\u001b[31m---------------------------------------------------------------------------\u001b[0m",
      "\u001b[1m\u001b[31mjava.lang.ArrayIndexOutOfBoundsException: Index 2 out of bounds for length 2\u001b[0m",
      "\u001b[1m\u001b[31m\tat .(#18:5)\u001b[0m"
     ]
    }
   ],
   "source": [
    "// Tuliskan jawaban nomor 1\n",
    "for (int i=0; i<rating.length; i++){\n",
    "    for(int j=0; j < rating[0].length; j++){\n",
    "        System.out.print(\"Masukkan rating penguuna \"+ i +\" untuk restoran \"+ j +\" : \");\n",
    "        rating[j][i] = sc.nextInt();\n",
    "    }\n",
    "    System.out.println(\"\");\n",
    "}"
   ]
  },
  {
   "cell_type": "code",
   "execution_count": null,
   "metadata": {},
   "outputs": [],
   "source": [
    "//Tidak. karena j merupakan kolom dan i merupakan baris maka akan error"
   ]
  },
  {
   "cell_type": "markdown",
   "metadata": {},
   "source": [
    "2. Tambahkan kode program untuk menentukan banyaknya baris dan kolom elemen array secara dinamis (baris dan kolom ditentukan saat program berjalan melalui input keyboard)!"
   ]
  },
  {
   "cell_type": "code",
   "execution_count": 13,
   "metadata": {},
   "outputs": [
    {
     "name": "stdout",
     "output_type": "stream",
     "text": [
      "Masukkan baris: 4\n",
      "Masukkan kolom: 2\n",
      "Masukkan rating penguuna 0 untuk restoran 0 : 4\n",
      "Masukkan rating penguuna 0 untuk restoran 1 : 5\n",
      "\n",
      "Masukkan rating penguuna 1 untuk restoran 0 : 4\n",
      "Masukkan rating penguuna 1 untuk restoran 1 : 5\n",
      "\n",
      "Masukkan rating penguuna 2 untuk restoran 0 : 4\n",
      "Masukkan rating penguuna 2 untuk restoran 1 : 5\n",
      "\n",
      "Masukkan rating penguuna 3 untuk restoran 0 : 4\n",
      "Masukkan rating penguuna 3 untuk restoran 1 : 5\n",
      "\n"
     ]
    }
   ],
   "source": [
    "// Tuliskan jawaban nomor 2\n",
    "import java.util.Scanner;\n",
    "Scanner sc = new Scanner(System.in);\n",
    "System.out.print(\"Masukkan baris: \");\n",
    "int baris = sc.nextInt();\n",
    "System.out.print(\"Masukkan kolom: \");\n",
    "int kolom = sc.nextInt();\n",
    "\n",
    "int[][] rating = new int [baris][kolom];\n",
    "for (int i=0; i<rating.length; i++){\n",
    "    for(int j=0; j < rating[0].length; j++){\n",
    "        System.out.print(\"Masukkan rating penguuna \"+ i +\" untuk restoran \"+ j +\" : \");\n",
    "        rating[i][j] = sc.nextInt();\n",
    "    }\n",
    "    System.out.println(\"\");\n",
    "}"
   ]
  },
  {
   "cell_type": "markdown",
   "metadata": {},
   "source": [
    "### Percobaan 3: Melakukan Operasi Aritmatika pada Elemen Array 2 Dimensi\n",
    "Pada Percobaan 3, kode program yang dibuat digunakan untuk menghitung nilai rata-rata harga setiap bahan pokok selama 1 semester. Terdapat 3 bahan pokok yang dicatat harganya setiap akhir bulan. Program dibuat berdasarkan flowchart berikut.\n",
    "![Gambar 8](images/percobaan3.jpg)\n",
    "1. Import dan deklarasikan Scanner dengan nama **sc**\n",
    "![Gambar 9](images/percobaan3-1.jpg)"
   ]
  },
  {
   "cell_type": "code",
   "execution_count": 2,
   "metadata": {},
   "outputs": [],
   "source": [
    "// Tuliskan kode program Percobaan 3 Langkah 1\n",
    "import java.util.Scanner;\n",
    "Scanner sc = new Scanner(System.in);"
   ]
  },
  {
   "cell_type": "markdown",
   "metadata": {},
   "source": [
    "2.\tBuat array bertipe **integer** dengan nama **harga** dengan kapasitas baris 3 elemen (menyatakan jumlah bahan pokok) dan kolom 6 elemen (menyatakan jumlah bulan). Deklarasikan juga variabel **total** dan **rata** bertipe **double**\n",
    "![Gambar 10](images/percobaan3-2.PNG)"
   ]
  },
  {
   "cell_type": "code",
   "execution_count": 3,
   "metadata": {},
   "outputs": [],
   "source": [
    "// Tuliskan kode program Percobaan 3 Langkah 2\n",
    "int[][] harga = new int [3] [6];\n",
    "double total, rata;"
   ]
  },
  {
   "cell_type": "markdown",
   "metadata": {},
   "source": [
    "3. Dengan menggunakan perulangan *for*, buat input untuk mengisi elemen array **harga**. Kemudian, perhitungan total harga dilakukan untuk setiap bulan (kolom) pada setiap bahan pokok (baris). Setelah itu, nilai rata-rata dihitung untuk setiap bahan pokok (tiap satu baris) dan ditampilkan\n",
    "![Gambar 11](images/percobaan3-3.PNG)"
   ]
  },
  {
   "cell_type": "code",
   "execution_count": 4,
   "metadata": {},
   "outputs": [
    {
     "name": "stdout",
     "output_type": "stream",
     "text": [
      "Masukkan harga [0][0]: 900\n",
      "Masukkan harga [0][1]: 900\n",
      "Masukkan harga [0][2]: 900\n",
      "Masukkan harga [0][3]: 900\n",
      "Masukkan harga [0][4]: 900\n",
      "Masukkan harga [0][5]: 900\n",
      "Rata-rata harga bahan ke-0 adalah 900.00\n",
      "Masukkan harga [1][0]: 900\n",
      "Masukkan harga [1][1]: 900\n",
      "Masukkan harga [1][2]: 900\n",
      "Masukkan harga [1][3]: 900\n",
      "Masukkan harga [1][4]: 900\n",
      "Masukkan harga [1][5]: 900\n",
      "Rata-rata harga bahan ke-1 adalah 900.00\n",
      "Masukkan harga [2][0]: 900\n",
      "Masukkan harga [2][1]: 900\n",
      "Masukkan harga [2][2]: 900\n",
      "Masukkan harga [2][3]: 900\n",
      "Masukkan harga [2][4]: 900\n",
      "Masukkan harga [2][5]: 900\n",
      "Rata-rata harga bahan ke-2 adalah 900.00\n"
     ]
    }
   ],
   "source": [
    "// Tuliskan kode program Percobaan 3 Langkah 3\n",
    "for(int i = 0; i < harga.length; i++){\n",
    "    total = 0;\n",
    "    rata = 0;\n",
    "    for(int j = 0; j < harga[0].length; j++){\n",
    "        System.out.printf(\"Masukkan harga [%d][%d]: \", i, j );\n",
    "        harga [i][j] = sc.nextInt();\n",
    "        total += harga[i][j];\n",
    "    }\n",
    "    rata = total / harga[0].length;\n",
    "    System.out.printf(\"Rata-rata harga bahan ke-%d adalah %.2f\\n\", i, rata);\n",
    "}"
   ]
  },
  {
   "cell_type": "markdown",
   "metadata": {},
   "source": [
    "##### Pertanyaan\n",
    "1. Jelaskan fungsi dari **rata = total / harga[0].length**!"
   ]
  },
  {
   "cell_type": "code",
   "execution_count": null,
   "metadata": {},
   "outputs": [],
   "source": [
    "// Tuliskan jawaban nomor 1\n",
    "//Menghitung rata rata yaitu dengan membagi total dengan baris harga"
   ]
  },
  {
   "cell_type": "markdown",
   "metadata": {},
   "source": [
    "2. Mengapa insialisasi variabel **total = 0** dan **rata = 0** berada di dalam perulangan *for* yang pertama? Menurut Anda, apa yang terjadi jika inisialisasi kedua variabel tersebut diletakkan di luar perulangan *for* (setelah deklarasi array)?"
   ]
  },
  {
   "cell_type": "code",
   "execution_count": 5,
   "metadata": {},
   "outputs": [
    {
     "name": "stdout",
     "output_type": "stream",
     "text": [
      "Masukkan harga [0][0]: 900\n",
      "Masukkan harga [0][1]: 900\n",
      "Masukkan harga [0][2]: 900\n",
      "Masukkan harga [0][3]: 900\n",
      "Masukkan harga [0][4]: 900\n",
      "Masukkan harga [0][5]: 900\n",
      "Rata-rata harga bahan ke-0 adalah 900.00\n",
      "Masukkan harga [1][0]: 900\n",
      "Masukkan harga [1][1]: 900\n",
      "Masukkan harga [1][2]: 900\n",
      "Masukkan harga [1][3]: 900\n",
      "Masukkan harga [1][4]: 900\n",
      "Masukkan harga [1][5]: 900\n",
      "Rata-rata harga bahan ke-1 adalah 1800.00\n",
      "Masukkan harga [2][0]: 900\n",
      "Masukkan harga [2][1]: 900\n",
      "Masukkan harga [2][2]: 900\n",
      "Masukkan harga [2][3]: 900\n",
      "Masukkan harga [2][4]: 900\n",
      "Masukkan harga [2][5]: 900\n",
      "Rata-rata harga bahan ke-2 adalah 2700.00\n"
     ]
    }
   ],
   "source": [
    "total = 0;\n",
    "rata = 0;\n",
    "for(int i = 0; i < harga.length; i++){\n",
    "    for(int j = 0; j < harga[0].length; j++){\n",
    "        System.out.printf(\"Masukkan harga [%d][%d]: \", i, j );\n",
    "        harga [i][j] = sc.nextInt();\n",
    "        total += harga[i][j];\n",
    "    }\n",
    "    rata = total / harga[0].length;\n",
    "    System.out.printf(\"Rata-rata harga bahan ke-%d adalah %.2f\\n\", i, rata);\n",
    "}"
   ]
  },
  {
   "cell_type": "code",
   "execution_count": 22,
   "metadata": {},
   "outputs": [],
   "source": [
    "// Tuliskan jawaban nomor 2\n",
    "Jika total = 0 dan harga = 0 diletakkan diluar perulangan for maka nilai rata-rata akan bertambah karena total sebelumnya \n",
    "tidak berubah ke 0 kembali dan akan melanjutkan ke operasi rata-rata berikutnya "
   ]
  },
  {
   "cell_type": "markdown",
   "metadata": {},
   "source": [
    "## Tugas"
   ]
  },
  {
   "cell_type": "markdown",
   "metadata": {},
   "source": [
    "1. Perhatikan flowchart berikut.\n",
    "![Gambar 12](images/tugas-1.jpg)\n",
    "Buat kode program sesuai dengan flowchart tersebut untuk mencari suhu tertinggi yang dicatat dari 5 kota di Jepang selama 7 hari berturut-turut!"
   ]
  },
  {
   "cell_type": "code",
   "execution_count": 41,
   "metadata": {},
   "outputs": [
    {
     "name": "stdout",
     "output_type": "stream",
     "text": [
      "Masukkan suhu: -11\n",
      "Masukkan suhu: 2\n",
      "Masukkan suhu: 3\n",
      "Masukkan suhu: 4\n",
      "Masukkan suhu: 5\n",
      "Masukkan suhu: 6\n",
      "Masukkan suhu: 7\n",
      "Masukkan suhu: 8\n",
      "Masukkan suhu: 9\n",
      "Masukkan suhu: 10\n",
      "Masukkan suhu: 1\n",
      "Masukkan suhu: 2\n",
      "Masukkan suhu: 3\n",
      "Masukkan suhu: 4\n",
      "Masukkan suhu: 5\n",
      "Masukkan suhu: 6\n",
      "Masukkan suhu: 7\n",
      "Masukkan suhu: 8\n",
      "Masukkan suhu: 9\n",
      "Masukkan suhu: -1\n",
      "Masukkan suhu: 12\n",
      "Masukkan suhu: 14\n",
      "Masukkan suhu: 22\n",
      "Masukkan suhu: -16\n",
      "Masukkan suhu: 20\n",
      "Masukkan suhu: 12\n",
      "Masukkan suhu: 1\n",
      "Masukkan suhu: 7\n",
      "Masukkan suhu: 8\n",
      "Masukkan suhu: 4\n",
      "Masukkan suhu: 5\n",
      "Masukkan suhu: 9\n",
      "Masukkan suhu: 7\n",
      "Masukkan suhu: 12\n",
      "Masukkan suhu: 2\n",
      "Suhu tertinggi: 22.0"
     ]
    }
   ],
   "source": [
    "// Tuliskan jawaban nomor 1\n",
    "import java.util.Scanner;\n",
    "Scanner sc = new Scanner(System.in);\n",
    "\n",
    "double[][] suhu = new double[5][7];\n",
    "int x, y;\n",
    "double max = 0;\n",
    "\n",
    "for(x = 0; x<suhu.length; x++){\n",
    "    for(y = 0; y<suhu[0].length; y++){\n",
    "        System.out.print(\"Masukkan suhu: \");\n",
    "        suhu[x][y] = sc.nextInt();\n",
    "        if (suhu [x][y] > max){\n",
    "            max = suhu[x][y];\n",
    "        }\n",
    "    }\n",
    "}System.out.print(\"Suhu tertinggi: \" +max);\n"
   ]
  },
  {
   "cell_type": "markdown",
   "metadata": {},
   "source": [
    "2. Terdapat hasil pencatatan data lima mahasiswa yang berisi informasi mengenai umur, berat badan (kg), dan tinggi badan (cm). Data tersebut disimpan ke dalam array dua dimensi.\n",
    "![Gambar 13](images/tugas-2.PNG)\n",
    "*Keterangan: penyimpanan nilai dapat dilakukan melalui inisialisasi menggunakan operator assignment*\n",
    " * Tampilkan *berat badan terendah* di antara kelima mahasiswa tersebut\n",
    " * Tampilkan *rata-rata tinggi badan* dari kelima mahasiswa tersebut\n",
    " * Tampilkan nama mahasiswa dengan *umur tertua* di antara kelima mahasiswa tersebut"
   ]
  },
  {
   "cell_type": "code",
   "execution_count": 42,
   "metadata": {},
   "outputs": [
    {
     "name": "stdout",
     "output_type": "stream",
     "text": [
      "Berat badan terendah mahasiswa adalah : 45\n",
      "Total tinggi badan : 789.0\n",
      "Rata-rata tinggi badan dari kelima mahasiswa adalah : 157.8\n",
      "Beky memiliki umur tertua yaitu 20\n"
     ]
    }
   ],
   "source": [
    "// Tuliskan jawaban nomor 2\n",
    "import java.util.Scanner;\n",
    "Scanner sc = new Scanner(System.in);\n",
    "int i,j;\n",
    "int [][] dataMahasiswa = {{19,51,155},{18,55,163},{18,45,153},{20,46,158},{19,58,160}};\n",
    "String[] nama = {\"Desi\", \"Rofan\", \"Lala\", \"Beky\", \"Ega\"};\n",
    "int min = 100;\n",
    "int indeks;\n",
    "int tua=0;\n",
    "double totalTinggi = 0;\n",
    "double rataTinggi = 0;\n",
    "\n",
    "for(i = 0; i < dataMahasiswa.length; i++) {\n",
    "    for(j = 0; j < dataMahasiswa[1].length; j++) {\n",
    "        if(dataMahasiswa[i][1] < min) {\n",
    "        min = dataMahasiswa[i][1];\n",
    "         }\n",
    "     }\n",
    "}\n",
    "for(i = 0; i < dataMahasiswa.length; i++) {\n",
    "    for(j = 0; j < dataMahasiswa[0].length; j++) {\n",
    "        if(j==2) {\n",
    "        totalTinggi+=dataMahasiswa[i][j];\n",
    "        }\n",
    "     }\n",
    "}\n",
    "for(i=0; i<dataMahasiswa.length; i++) {\n",
    "    for(j=0; j<dataMahasiswa[0].length; j++) {\n",
    "        if(dataMahasiswa[i][0] > tua) {\n",
    "        tua = dataMahasiswa[i][0];\n",
    "        indeks = i;\n",
    "         }\n",
    "     }\n",
    "}\n",
    "System.out.println(\"Berat badan terendah mahasiswa adalah : \" + min);\n",
    "rataTinggi = totalTinggi / dataMahasiswa.length;\n",
    "System.out.println(\"Total tinggi badan : \" + totalTinggi);\n",
    "System.out.println(\"Rata-rata tinggi badan dari kelima mahasiswa adalah : \" + rataTinggi);\n",
    "System.out.println( nama[indeks] +\" memiliki umur tertua yaitu \" + tua);"
   ]
  },
  {
   "cell_type": "code",
   "execution_count": null,
   "metadata": {},
   "outputs": [],
   "source": []
  }
 ],
 "metadata": {
  "kernelspec": {
   "display_name": "Java",
   "language": "java",
   "name": "java"
  },
  "language_info": {
   "codemirror_mode": "java",
   "file_extension": ".jshell",
   "mimetype": "text/x-java-source",
   "name": "Java",
   "pygments_lexer": "java",
   "version": "11.0.12+8-LTS-237"
  }
 },
 "nbformat": 4,
 "nbformat_minor": 4
}
