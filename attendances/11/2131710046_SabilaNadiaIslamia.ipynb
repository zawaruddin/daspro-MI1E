{
 "cells": [
  {
   "cell_type": "markdown",
   "metadata": {},
   "source": [
    "### NIM : 2131710046\n",
    "### NAMA : SABILA NADIA ISLAMIA\n",
    "\n",
    "# JOBSHEET 11. ARRAY 2"
   ]
  },
  {
   "cell_type": "markdown",
   "metadata": {},
   "source": [
    "## Tujuan\n",
    "* Mahasiswa mampu memahami pembuatan array dua dimensi\n",
    "* Mahasiswa mampu menyelesaikan studi kasus dengan memanfaatkan array dua dimensi"
   ]
  },
  {
   "cell_type": "markdown",
   "metadata": {},
   "source": [
    "## Alat dan Bahan\n",
    "* PC/Laptop\n",
    "* Browser\n",
    "* Koneksi internet\n",
    "* Anaconda3 + Java kernel (opsional)"
   ]
  },
  {
   "cell_type": "markdown",
   "metadata": {},
   "source": [
    "## Praktikum"
   ]
  },
  {
   "cell_type": "markdown",
   "metadata": {},
   "source": [
    "### Percobaan 1: Deklarasi, Inisialisasi, dan Menampilkan Array 2 Dimensi\n",
    "Pada Percobaan 1, kode program yang dibuat digunakan untuk menyimpan nilai praktikum dari 2 orang mahasiswa pada 3 mata kuliah yang berbeda.\n",
    "1.\tBuat array bertipe **integer** dengan nama **nilai** dengan kapasitas baris 2 elemen (menyatakan jumlah mahasiswa) dan kolom 3 elemen (menyatakan jumlah mata kuliah)\n",
    "![Gambar 1](images/percobaan1-1.PNG)"
   ]
  },
  {
   "cell_type": "code",
   "execution_count": 1,
   "metadata": {},
   "outputs": [],
   "source": [
    "// Tuliskan kode program Percobaan 1 Langkah 1\n",
    "int[][] nilai = new int[2][3]; "
   ]
  },
  {
   "cell_type": "markdown",
   "metadata": {},
   "source": [
    "2. Isi masing-masing elemen array **nilai** sebagai berikut:\n",
    "![Gambar 2](images/percobaan1-2.PNG)"
   ]
  },
  {
   "cell_type": "code",
   "execution_count": 3,
   "metadata": {},
   "outputs": [
    {
     "data": {
      "text/plain": [
       "67"
      ]
     },
     "execution_count": 3,
     "metadata": {},
     "output_type": "execute_result"
    }
   ],
   "source": [
    "// Tuliskan kode program Percobaan 1 Langkah 2\n",
    " nilai[0][0] = 75; \n",
    " nilai[0][1] = 90; \n",
    " nilai[0][2] = 88; \n",
    " nilai[1][0] = 79; \n",
    " nilai[1][1] = 82; \n",
    " nilai[1][2] = 67; "
   ]
  },
  {
   "cell_type": "markdown",
   "metadata": {},
   "source": [
    "3. Tampilkan semua isi elemen array **nilai**\n",
    "![Gambar 3](images/percobaan1-3.PNG)"
   ]
  },
  {
   "cell_type": "code",
   "execution_count": 4,
   "metadata": {},
   "outputs": [
    {
     "name": "stdout",
     "output_type": "stream",
     "text": [
      "75 90 88\n",
      "79 82 67\n"
     ]
    }
   ],
   "source": [
    "// Tuliskan kode program Percobaan 1 Langkah 2\n",
    "System.out.println(nilai[0][0] + \" \" + nilai[0][1] + \" \" + nilai[0][2]);\n",
    "System.out.println(nilai[1][0] + \" \" + nilai[1][1] + \" \" + nilai[1][2]);"
   ]
  },
  {
   "cell_type": "markdown",
   "metadata": {},
   "source": [
    "#### Pertanyaan\n",
    "1. Apakah pengisian elemen array harus dilakukan secara berurutan mulai dari indeks 0? Jelaskan!"
   ]
  },
  {
   "cell_type": "markdown",
   "metadata": {},
   "source": [
    "// Tuliskan jawaban nomor 1\n",
    "\n",
    "Pengiasian elemen array tidak harus dimulai dari indeks ke-0, pengguna atau user dapat menentukkan nilai element dengan \n",
    "assignment operator, lalu pengguna dapat mengisikan indeks baris dan kolomnya. \n",
    "\n",
    "Misalnya : \n",
    "array[2][5] = 5; \n",
    "\n",
    "Maksudnya pengguna tersebut ingin mengisikan element array pada variabel bernama array pada baris ketiga (dengan nomer indeks 2) dan pada kolom ke 6 (dengan\n",
    "nomor indeks 5) dengan nilai 5. "
   ]
  },
  {
   "cell_type": "markdown",
   "metadata": {},
   "source": [
    "2. Lakukan modifikasi pada Percobaan 1 Langkah 3 untuk menampilkan semua isi elemen array **nilai** menggunakan perulangan *for*"
   ]
  },
  {
   "cell_type": "code",
   "execution_count": 15,
   "metadata": {},
   "outputs": [
    {
     "name": "stdout",
     "output_type": "stream",
     "text": [
      "75 90 88 \n",
      "79 82 67 \n"
     ]
    }
   ],
   "source": [
    "// Tuliskan jawaban nomor 2\n",
    "for(int i = 0; i < nilai.length; i++){\n",
    "    for(int j = 0; j < nilai[0].length; j++){\n",
    "        System.out.print(nilai[i][j] + \" \");\n",
    "    }\n",
    "    System.out.println();\n",
    "}"
   ]
  },
  {
   "cell_type": "markdown",
   "metadata": {},
   "source": [
    "### Percobaan 2: Mengisi Elemen Array 2 Dimensi Menggunakan Input Keyboard\n",
    "Pada Percobaan 2, kode program yang dibuat digunakan untuk menyimpan nilai rating restoran yang terdaftar pada aplikasi pemesanan makanan online. Rating diberikan oleh 4 orang pengguna kepada 2 restoran yang terdaftar.\n",
    "1. Import dan deklarasikan Scanner dengan nama **sc**\n",
    "![Gambar 4](images/percobaan2-1.jpg)"
   ]
  },
  {
   "cell_type": "code",
   "execution_count": 5,
   "metadata": {},
   "outputs": [],
   "source": [
    "// Tuliskan kode program Percobaan 2 Langkah 1\n",
    "import java.util.Scanner; \n",
    "Scanner sc = new Scanner(System.in); "
   ]
  },
  {
   "cell_type": "markdown",
   "metadata": {},
   "source": [
    "2.\tBuat array bertipe **integer** dengan nama **rating** dengan kapasitas baris 4 elemen (menyatakan jumlah pengguna) dan kolom 2 elemen (menyatakan jumlah restoran)\n",
    "![Gambar 5](images/percobaan2-2.PNG)"
   ]
  },
  {
   "cell_type": "code",
   "execution_count": 6,
   "metadata": {},
   "outputs": [],
   "source": [
    "// Tuliskan kode program Percobaan 2 Langkah 2\n",
    "int[][] rating = new int[4][2];"
   ]
  },
  {
   "cell_type": "markdown",
   "metadata": {},
   "source": [
    "3. Dengan menggunakan perulangan *for*, buat input untuk mengisi elemen array **rating**\n",
    "![Gambar 6](images/percobaan2-3.PNG)"
   ]
  },
  {
   "cell_type": "code",
   "execution_count": 8,
   "metadata": {},
   "outputs": [
    {
     "name": "stdout",
     "output_type": "stream",
     "text": [
      "Masukkan rating pengguna 0 untuk restoran 0 : 5\n",
      "Masukkan rating pengguna 0 untuk restoran 1 : 7\n",
      "\n",
      "Masukkan rating pengguna 1 untuk restoran 0 : 8\n",
      "Masukkan rating pengguna 1 untuk restoran 1 : 9\n",
      "\n",
      "Masukkan rating pengguna 2 untuk restoran 0 : 7\n",
      "Masukkan rating pengguna 2 untuk restoran 1 : 9\n",
      "\n",
      "Masukkan rating pengguna 3 untuk restoran 0 : 7\n",
      "Masukkan rating pengguna 3 untuk restoran 1 : 9\n",
      "\n"
     ]
    }
   ],
   "source": [
    "// Tuliskan kode program Percobaan 2 Langkah 3\n",
    "for(int i = 0; i < rating.length; i++){\n",
    "    for(int j = 0; j < rating[0].length; j++){\n",
    "        System.out.print(\"Masukkan rating pengguna \" + i + \" untuk restoran \" + j + \" : \");\n",
    "        rating[i][j] = sc.nextInt(); \n",
    "    }\n",
    "    System.out.println(); \n",
    "}"
   ]
  },
  {
   "cell_type": "markdown",
   "metadata": {},
   "source": [
    "4. Dengan menggunakan perulangan *for-each*, tampilkan semua isi elemen dari array **rating**\n",
    "![Gambar 7](images/percobaan2-4.PNG)"
   ]
  },
  {
   "cell_type": "code",
   "execution_count": 9,
   "metadata": {},
   "outputs": [
    {
     "name": "stdout",
     "output_type": "stream",
     "text": [
      "5 7 \n",
      "8 9 \n",
      "7 9 \n",
      "7 9 \n"
     ]
    }
   ],
   "source": [
    "// Tuliskan kode program Percobaan 2 Langkah 4\n",
    "for(int[] rtg : rating){\n",
    "    for(int r : rtg){\n",
    "        System.out.print(r + \" \");\n",
    "    }\n",
    "    System.out.println();\n",
    "}"
   ]
  },
  {
   "cell_type": "markdown",
   "metadata": {},
   "source": [
    "#### Pertanyaan\n",
    "1. Pada Percobaan 2 Langkah 3, dapatkah posisi i ditukar dengan posisi j? Jelaskan alasannya!"
   ]
  },
  {
   "cell_type": "code",
   "execution_count": null,
   "metadata": {},
   "outputs": [],
   "source": [
    "// Tuliskan jawaban nomor 1\n",
    "\n",
    "Posisi i tidak dapat ditukar dengan posisi j, karena pada data di percobaan tersebut alokasi nilai untuk baris adalah 2 dan \n",
    "alokasi nilai pada kolom adalah 4. Jika posisi i dan j ditukar, permasalahan akan terjadi pada bagian kolom. Karena pada \n",
    "instansiasi awal, array kolom hanya di alokasikan untuk 2 element saja. Jika posisi ditukar, maka alokasi nilai pada kolom \n",
    "tidak cukup untuk menampung nilai pada baris. Sehingga akan muncul pesan error. "
   ]
  },
  {
   "cell_type": "markdown",
   "metadata": {},
   "source": [
    "2. Tambahkan kode program untuk menentukan banyaknya baris dan kolom elemen array secara dinamis (baris dan kolom ditentukan saat program berjalan melalui input keyboard)!"
   ]
  },
  {
   "cell_type": "code",
   "execution_count": 64,
   "metadata": {},
   "outputs": [
    {
     "name": "stdout",
     "output_type": "stream",
     "text": [
      "Masukkan jumlah baris : 3\n",
      "Masukkan jumlah kolom : 2\n",
      "\n",
      "Masukkan rating pengguna 0 untuk restoran 0 : 7\n",
      "Masukkan rating pengguna 0 untuk restoran 1 : 8\n",
      "\n",
      "Masukkan rating pengguna 1 untuk restoran 0 : 8\n",
      "Masukkan rating pengguna 1 untuk restoran 1 : 9\n",
      "\n",
      "Masukkan rating pengguna 2 untuk restoran 0 : 9\n",
      "Masukkan rating pengguna 2 untuk restoran 1 : 10\n",
      "\n",
      "Jumlah baris adalah 3\n",
      "Jumlah kolom adalah 2\n"
     ]
    }
   ],
   "source": [
    "// Tuliskan jawaban nomor 2\n",
    "import java.util.Scanner; \n",
    "Scanner sc = new Scanner(System.in);\n",
    "\n",
    "int baris, kolom; \n",
    "System.out.print(\"Masukkan jumlah baris : \");\n",
    "baris = sc.nextInt(); \n",
    "\n",
    "System.out.print(\"Masukkan jumlah kolom : \");\n",
    "kolom = sc.nextInt(); \n",
    "\n",
    "System.out.println();\n",
    "\n",
    "int[][] rating = new int[baris][kolom]; \n",
    "\n",
    "for(int i = 0; i < rating.length; i++){\n",
    "    int baris = 0;\n",
    "    int kolom = 0;\n",
    "    for(int j = 0; j < rating[0].length; j++){\n",
    "        System.out.print(\"Masukkan rating pengguna \" + i + \" untuk restoran \" + j + \" : \");\n",
    "        rating[i][j] = sc.nextInt(); \n",
    "        \n",
    "    }\n",
    "    System.out.println();  \n",
    "}\n",
    "System.out.println(\"Jumlah baris adalah \" + rating.length);\n",
    "System.out.println(\"Jumlah kolom adalah \" + rating[0].length);"
   ]
  },
  {
   "cell_type": "markdown",
   "metadata": {},
   "source": [
    "## Percobaan 3: Melakukan Operasi Aritmatika pada Elemen Array 2 Dimensi\n",
    "Pada Percobaan 3, kode program yang dibuat digunakan untuk menghitung nilai rata-rata harga setiap bahan pokok selama 1 semester. Terdapat 3 bahan pokok yang dicatat harganya setiap akhir bulan. Program dibuat berdasarkan flowchart berikut.\n",
    "![Gambar 8](images/percobaan3.jpg)\n",
    "1. Import dan deklarasikan Scanner dengan nama **sc**\n",
    "![Gambar 9](images/percobaan3-1.jpg)"
   ]
  },
  {
   "cell_type": "code",
   "execution_count": 10,
   "metadata": {},
   "outputs": [],
   "source": [
    "// Tuliskan kode program Percobaan 3 Langkah 1\n",
    "import java.util.Scanner; \n",
    "Scanner sc = new Scanner(System.in);"
   ]
  },
  {
   "cell_type": "markdown",
   "metadata": {},
   "source": [
    "2.\tBuat array bertipe **integer** dengan nama **harga** dengan kapasitas baris 3 elemen (menyatakan jumlah bahan pokok) dan kolom 6 elemen (menyatakan jumlah bulan). Deklarasikan juga variabel **total** dan **rata** bertipe **double**\n",
    "![Gambar 10](images/percobaan3-2.PNG)"
   ]
  },
  {
   "cell_type": "code",
   "execution_count": 11,
   "metadata": {},
   "outputs": [],
   "source": [
    "// Tuliskan kode program Percobaan 3 Langkah 2\n",
    "int[][] harga = new int[3][6];\n",
    "double total, rata;"
   ]
  },
  {
   "cell_type": "markdown",
   "metadata": {},
   "source": [
    "3. Dengan menggunakan perulangan *for*, buat input untuk mengisi elemen array **harga**. Kemudian, perhitungan total harga dilakukan untuk setiap bulan (kolom) pada setiap bahan pokok (baris). Setelah itu, nilai rata-rata dihitung untuk setiap bahan pokok (tiap satu baris) dan ditampilkan\n",
    "![Gambar 11](images/percobaan3-3.PNG)"
   ]
  },
  {
   "cell_type": "code",
   "execution_count": 13,
   "metadata": {},
   "outputs": [
    {
     "name": "stdout",
     "output_type": "stream",
     "text": [
      "Masukkan harga[0][0] : 2000\n",
      "Masukkan harga[0][1] : 5000\n",
      "Masukkan harga[0][2] : 7000\n",
      "Masukkan harga[0][3] : 10000\n",
      "Masukkan harga[0][4] : 15000\n",
      "Masukkan harga[0][5] : 20000\n",
      "Rata-rata harga bahan ke-0 adalah 9833.33\n",
      "Masukkan harga[1][0] : 10000\n",
      "Masukkan harga[1][1] : 25000\n",
      "Masukkan harga[1][2] : 60000\n",
      "Masukkan harga[1][3] : 30000\n",
      "Masukkan harga[1][4] : 20000\n",
      "Masukkan harga[1][5] : 20000\n",
      "Rata-rata harga bahan ke-1 adalah 27500.00\n",
      "Masukkan harga[2][0] : 10000\n",
      "Masukkan harga[2][1] : 20000\n",
      "Masukkan harga[2][2] : 45000\n",
      "Masukkan harga[2][3] : 20000\n",
      "Masukkan harga[2][4] : 10000\n",
      "Masukkan harga[2][5] : 100000\n",
      "Rata-rata harga bahan ke-2 adalah 34166.67\n"
     ]
    }
   ],
   "source": [
    "// Tuliskan kode program Percobaan 3 Langkah 3\n",
    "for(int i = 0; i < harga.length; i++){\n",
    "    total = 0; \n",
    "    rata = 0; \n",
    "    for(int j = 0; j < harga[0].length; j++){\n",
    "        System.out.printf(\"Masukkan harga[%d][%d] : \", i, j);\n",
    "        harga[i][j] = sc.nextInt();\n",
    "        total += harga[i][j]; \n",
    "    }\n",
    "    rata = total / harga[0].length;\n",
    "    System.out.printf(\"Rata-rata harga bahan ke-%d adalah %.2f\\n\", i, rata);\n",
    "}"
   ]
  },
  {
   "cell_type": "markdown",
   "metadata": {},
   "source": [
    "#### Pertanyaan\n",
    "1. Jelaskan fungsi dari **rata = total / harga[0].length**!"
   ]
  },
  {
   "cell_type": "markdown",
   "metadata": {},
   "source": [
    "// Tuliskan jawaban nomor 1\n",
    "Fungsi dari sintaks tersebut adalah untuk menghitung rata- rata harga, yaitu dengan cara membagi total harga dengan jumlah kolom atau keseluruhan jumlah harga. "
   ]
  },
  {
   "cell_type": "markdown",
   "metadata": {},
   "source": [
    "2. Mengapa insialisasi variabel **total = 0** dan **rata = 0** berada di dalam perulangan *for* yang pertama? Menurut Anda, apa yang terjadi jika inisialisasi kedua variabel tersebut diletakkan di luar perulangan *for* (setelah deklarasi array)?"
   ]
  },
  {
   "cell_type": "markdown",
   "metadata": {},
   "source": [
    "Inisialisasi tersebut merupakan nilai awal dari variabel masing-masing, mengapa berada di dalam perulangan yang pertama, karena\n",
    "agar setiap bertambah baris (pada perulangan pertama) nilai akan kembali menjadi nol. Jika dietakkan di dalam perulangan kedua\n",
    "maka operasi dalam aritmatika pada perulangan kedua jawabannya adalah nilai terakhir dari perulangan, karena setiap nilai akan\n",
    "dirubah kembali menjadi nol. Nilai yang benar tidak akan ditemukan. \n",
    "    \n",
    "Inisisalisasi tersebut juga harus ada pada perulangan yaitu di perulangan pertama, agar nantinya setiap baris nilai akan dirubah\n",
    "kembali menjadi nol, dan data nilai-nilai di perulangan kedua akan bernilai benar. "
   ]
  },
  {
   "cell_type": "markdown",
   "metadata": {},
   "source": [
    "## Tugas"
   ]
  },
  {
   "cell_type": "markdown",
   "metadata": {},
   "source": [
    "1. Perhatikan flowchart berikut.\n",
    "![Gambar 12](images/tugas-1.jpg)\n",
    "Buat kode program sesuai dengan flowchart tersebut untuk mencari suhu tertinggi yang dicatat dari 5 kota di Jepang selama 7 hari berturut-turut!"
   ]
  },
  {
   "cell_type": "code",
   "execution_count": 27,
   "metadata": {},
   "outputs": [
    {
     "name": "stdout",
     "output_type": "stream",
     "text": [
      "Masukkan suhu : 12\n",
      "Masukkan suhu : 12\n",
      "Masukkan suhu : 21\n",
      "Masukkan suhu : 23\n",
      "Masukkan suhu : 25\n",
      "Masukkan suhu : 40\n",
      "Masukkan suhu : 21\n",
      "Suhu tertinggi pada kota ke -1 adalah : 40.0\n",
      "Masukkan suhu : 23\n",
      "Masukkan suhu : 43\n",
      "Masukkan suhu : 43\n",
      "Masukkan suhu : 21\n",
      "Masukkan suhu : 32\n",
      "Masukkan suhu : 11\n",
      "Masukkan suhu : 22\n",
      "Suhu tertinggi pada kota ke -2 adalah : 43.0\n",
      "Masukkan suhu : 23\n",
      "Masukkan suhu : 45\n",
      "Masukkan suhu : 23\n",
      "Masukkan suhu : 12\n",
      "Masukkan suhu : 34\n",
      "Masukkan suhu : 54\n",
      "Masukkan suhu : 22\n",
      "Suhu tertinggi pada kota ke -3 adalah : 54.0\n",
      "Masukkan suhu : 47\n",
      "Masukkan suhu : 12\n",
      "Masukkan suhu : 34\n",
      "Masukkan suhu : 54\n",
      "Masukkan suhu : 22\n",
      "Masukkan suhu : 11\n",
      "Masukkan suhu : 11\n",
      "Suhu tertinggi pada kota ke -4 adalah : 54.0\n",
      "Masukkan suhu : 47\n",
      "Masukkan suhu : 12\n",
      "Masukkan suhu : 34\n",
      "Masukkan suhu : 21\n",
      "Masukkan suhu : 32\n",
      "Masukkan suhu : 22\n",
      "Masukkan suhu : 11\n",
      "Suhu tertinggi pada kota ke -5 adalah : 54.0\n"
     ]
    }
   ],
   "source": [
    "// Tuliskan jawaban nomor 1\n",
    "import java.util.Scanner; \n",
    "Scanner sc = new Scanner(System.in); \n",
    "\n",
    "double[][] suhu = new double[5][7]; \n",
    "int x, y; \n",
    "double max = 0; \n",
    "\n",
    "for(int x = 0; x < suhu.length; x++){\n",
    "    for(int y = 0; y < suhu[0].length; y++){\n",
    "        System.out.print(\"Masukkan suhu : \");\n",
    "        suhu[x][y] = sc.nextInt(); \n",
    "        \n",
    "        if(suhu[x][y] > max){\n",
    "            max = suhu[x][y]; \n",
    "        }\n",
    "    }\n",
    "    System.out.println(\"Suhu tertinggi pada kota ke -\" + (x+1) + \" adalah : \" + max);\n",
    "}"
   ]
  },
  {
   "cell_type": "markdown",
   "metadata": {},
   "source": [
    "### 2. Terdapat hasil pencatatan data lima mahasiswa yang berisi informasi mengenai umur, berat badan (kg), dan tinggi badan (cm). Data tersebut disimpan ke dalam array dua dimensi.\n",
    "![Gambar 13](images/tugas-2.PNG)\n",
    "*Keterangan: penyimpanan nilai dapat dilakukan melalui inisialisasi menggunakan operator assignment*\n",
    " * Tampilkan *berat badan terendah* di antara kelima mahasiswa tersebut\n",
    " * Tampilkan *rata-rata tinggi badan* dari kelima mahasiswa tersebut\n",
    " * Tampilkan nama mahasiswa dengan *umur tertua* di antara kelima mahasiswa tersebut"
   ]
  },
  {
   "cell_type": "code",
   "execution_count": 77,
   "metadata": {},
   "outputs": [
    {
     "name": "stdout",
     "output_type": "stream",
     "text": [
      "Berat badan terendah di antara kelima mahasiswa tersebut adalah 45 kg.\n",
      "Rata-rata tinggi badan dari kelima mahasiswa tersebut adalah 157.8 cm.\n",
      "Nama mahasiswa dengan umur tertua di antara kelima mahasiswa tersebut adalah Beky dengan umur 20 tahun.\n"
     ]
    }
   ],
   "source": [
    "// Tuliskan jawaban nomor 2\n",
    "String[] nama = {\"Desi\", \"Rofan\", \"Lala\", \"Beky\", \"Ega\"};\n",
    "String namaTertua; \n",
    "int[][] data = {\n",
    "    {19,51,155},\n",
    "    {18,55,163},\n",
    "    {18,45,153},\n",
    "    {20,46,158},\n",
    "    {19,58,160}\n",
    "};\n",
    "int minBerat = 200, maxUmur;\n",
    "double total = 0, rata; \n",
    "\n",
    "for(int x = 0; x < data.length; x++){\n",
    "    rata = 0; \n",
    "    for(int y = 0; y < data[0].length; y++){\n",
    "        \n",
    "        if(data[x][1] < minBerat){\n",
    "            minBerat = data[x][1];\n",
    "        } else if(data[x][0] > maxUmur){\n",
    "            maxUmur = data[x][0]; \n",
    "            namaTertua = nama[x];\n",
    "        } else if(y==2){\n",
    "            total += data[x][y];\n",
    "            \n",
    "        }\n",
    "    \n",
    "    }\n",
    "}    \n",
    "rata = total/data.length; \n",
    "System.out.println(\"Berat badan terendah di antara kelima mahasiswa tersebut adalah \" + minBerat + \" kg.\");\n",
    "System.out.println(\"Rata-rata tinggi badan dari kelima mahasiswa tersebut adalah \" + rata + \" cm.\");\n",
    "System.out.println(\"Nama mahasiswa dengan umur tertua di antara kelima mahasiswa tersebut adalah \" + namaTertua + \" dengan umur \" + maxUmur + \" tahun.\");"
   ]
  }
 ],
 "metadata": {
  "kernelspec": {
   "display_name": "Java",
   "language": "java",
   "name": "java"
  },
  "language_info": {
   "codemirror_mode": "java",
   "file_extension": ".jshell",
   "mimetype": "text/x-java-source",
   "name": "Java",
   "pygments_lexer": "java",
   "version": "11.0.12+8-LTS-237"
  }
 },
 "nbformat": 4,
 "nbformat_minor": 4
}
