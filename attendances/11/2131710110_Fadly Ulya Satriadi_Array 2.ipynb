{
 "cells": [
  {
   "cell_type": "markdown",
   "metadata": {},
   "source": [
    "###### Fadly Ulya Satriadi - 2131710110\n",
    "# JOBSHEET 11. ARRAY 2"
   ]
  },
  {
   "cell_type": "markdown",
   "metadata": {},
   "source": [
    "## Tujuan\n",
    "* Mahasiswa mampu memahami pembuatan array dua dimensi\n",
    "* Mahasiswa mampu menyelesaikan studi kasus dengan memanfaatkan array dua dimensi"
   ]
  },
  {
   "cell_type": "markdown",
   "metadata": {},
   "source": [
    "## Alat dan Bahan\n",
    "* PC/Laptop\n",
    "* Browser\n",
    "* Koneksi internet\n",
    "* Anaconda3 + Java kernel (opsional)"
   ]
  },
  {
   "cell_type": "markdown",
   "metadata": {},
   "source": [
    "## Praktikum"
   ]
  },
  {
   "cell_type": "markdown",
   "metadata": {},
   "source": [
    "### Percobaan 1: Deklarasi, Inisialisasi, dan Menampilkan Array 2 Dimensi\n",
    "Pada Percobaan 1, kode program yang dibuat digunakan untuk menyimpan nilai praktikum dari 2 orang mahasiswa pada 3 mata kuliah yang berbeda.\n",
    "1.\tBuat array bertipe **integer** dengan nama **nilai** dengan kapasitas baris 2 elemen (menyatakan jumlah mahasiswa) dan kolom 3 elemen (menyatakan jumlah mata kuliah)\n",
    "![Gambar 1](images/percobaan1-1.PNG)"
   ]
  },
  {
   "cell_type": "code",
   "execution_count": 1,
   "metadata": {},
   "outputs": [],
   "source": [
    "// Tuliskan kode program Percobaan 1 Langkah 1\n",
    "int[][] nilai = new int[2][3];"
   ]
  },
  {
   "cell_type": "markdown",
   "metadata": {},
   "source": [
    "2. Isi masing-masing elemen array **nilai** sebagai berikut:\n",
    "![Gambar 2](images/percobaan1-2.PNG)"
   ]
  },
  {
   "cell_type": "code",
   "execution_count": 3,
   "metadata": {},
   "outputs": [
    {
     "data": {
      "text/plain": [
       "67"
      ]
     },
     "execution_count": 3,
     "metadata": {},
     "output_type": "execute_result"
    }
   ],
   "source": [
    "// Tuliskan kode program Percobaan 1 Langkah 2\n",
    "nilai[0][0] = 75;\n",
    "nilai[0][1] = 90;\n",
    "nilai[0][2] = 88;\n",
    "nilai[1][0] = 79;\n",
    "nilai[1][1] = 82;\n",
    "nilai[1][2] = 67;"
   ]
  },
  {
   "cell_type": "markdown",
   "metadata": {},
   "source": [
    "3. Tampilkan semua isi elemen array **nilai**\n",
    "![Gambar 3](images/percobaan1-3.PNG)"
   ]
  },
  {
   "cell_type": "code",
   "execution_count": 4,
   "metadata": {},
   "outputs": [
    {
     "name": "stdout",
     "output_type": "stream",
     "text": [
      "75 90 88\n",
      "79 82 67\n"
     ]
    }
   ],
   "source": [
    "// Tuliskan kode program Percobaan 1 Langkah 2\n",
    "System.out.println(nilai[0][0] + \" \" + nilai[0][1] + \" \" + nilai [0][2]);\n",
    "System.out.println(nilai[1][0] + \" \" + nilai[1][1] + \" \" + nilai [1][2]);"
   ]
  },
  {
   "cell_type": "markdown",
   "metadata": {},
   "source": [
    "#### Pertanyaan\n",
    "1. Apakah pengisian elemen array harus dilakukan secara berurutan mulai dari indeks 0? Jelaskan!"
   ]
  },
  {
   "cell_type": "code",
   "execution_count": null,
   "metadata": {},
   "outputs": [],
   "source": [
    "// Tuliskan jawaban nomor 1\n",
    "Tidak. Pengisian elemen array dapat dilakukan berurutan atau random berdasarkan indeks \n",
    "tertentu apabila menggunakan keyboard tidak harus urut,\n",
    "dan jika menggunakan looping harus dimulai dari indeks 0 sampai indeks dengan n."
   ]
  },
  {
   "cell_type": "markdown",
   "metadata": {},
   "source": [
    "2. Lakukan modifikasi pada Percobaan 1 Langkah 3 untuk menampilkan semua isi elemen array **nilai** menggunakan perulangan *for*"
   ]
  },
  {
   "cell_type": "code",
   "execution_count": 11,
   "metadata": {},
   "outputs": [
    {
     "name": "stdout",
     "output_type": "stream",
     "text": [
      "75 90 88  \n",
      "79 82 67  \n"
     ]
    }
   ],
   "source": [
    "// Tuliskan jawaban nomor 2\n",
    "import java.util.Scanner;\n",
    "Scanner sc = new Scanner(System.in);\n",
    "int[] [] nilai = new int[2] [3];\n",
    "nilai[0] [0] = 75;\n",
    "nilai[0] [1] = 90;\n",
    "nilai[0] [2] = 88;\n",
    "nilai[1] [0] = 79;\n",
    "nilai[1] [1] = 82;\n",
    "nilai[1] [2] = 67;\n",
    "for (int i=0; i < nilai.length; i++){\n",
    "    for (int j = 0; j < nilai[0].length; j++){\n",
    "        System.out.print(nilai[i][j] + \" \");\n",
    "    }\n",
    "    System.out.println(\" \");\n",
    "}"
   ]
  },
  {
   "cell_type": "markdown",
   "metadata": {},
   "source": [
    "### Percobaan 2: Mengisi Elemen Array 2 Dimensi Menggunakan Input Keyboard\n",
    "Pada Percobaan 2, kode program yang dibuat digunakan untuk menyimpan nilai rating restoran yang terdaftar pada aplikasi pemesanan makanan online. Rating diberikan oleh 4 orang pengguna kepada 2 restoran yang terdaftar.\n",
    "1. Import dan deklarasikan Scanner dengan nama **sc**\n",
    "![Gambar 4](images/percobaan2-1.jpg)"
   ]
  },
  {
   "cell_type": "code",
   "execution_count": 8,
   "metadata": {},
   "outputs": [],
   "source": [
    "// Tuliskan kode program Percobaan 2 Langkah 1\n",
    "import java.util.Scanner;\n",
    "Scanner sc = new Scanner(System.in);"
   ]
  },
  {
   "cell_type": "markdown",
   "metadata": {},
   "source": [
    "2.\tBuat array bertipe **integer** dengan nama **rating** dengan kapasitas baris 4 elemen (menyatakan jumlah pengguna) dan kolom 2 elemen (menyatakan jumlah restoran)\n",
    "![Gambar 5](images/percobaan2-2.PNG)"
   ]
  },
  {
   "cell_type": "code",
   "execution_count": 9,
   "metadata": {},
   "outputs": [],
   "source": [
    "// Tuliskan kode program Percobaan 2 Langkah 2\n",
    "int[][] rating = new int[4][2];"
   ]
  },
  {
   "cell_type": "markdown",
   "metadata": {},
   "source": [
    "3. Dengan menggunakan perulangan *for*, buat input untuk mengisi elemen array **rating**\n",
    "![Gambar 6](images/percobaan2-3.PNG)"
   ]
  },
  {
   "cell_type": "code",
   "execution_count": 10,
   "metadata": {},
   "outputs": [
    {
     "name": "stdout",
     "output_type": "stream",
     "text": [
      "Masukkan rating pengguna 0 untuk restoran 0 : 7\n",
      "Masukkan rating pengguna 0 untuk restoran 1 : 8\n",
      "\n",
      "Masukkan rating pengguna 1 untuk restoran 0 : 7\n",
      "Masukkan rating pengguna 1 untuk restoran 1 : 6\n",
      "\n",
      "Masukkan rating pengguna 2 untuk restoran 0 : 5\n",
      "Masukkan rating pengguna 2 untuk restoran 1 : 4\n",
      "\n",
      "Masukkan rating pengguna 3 untuk restoran 0 : 6\n",
      "Masukkan rating pengguna 3 untuk restoran 1 : 7\n",
      "\n"
     ]
    }
   ],
   "source": [
    "// Tuliskan kode program Percobaan 2 Langkah 3\n",
    "for (int i = 0; i < rating.length; i++) {\n",
    "    for (int j = 0; j < rating[0].length; j++) {\n",
    "        System.out.print(\"Masukkan rating pengguna \" + i + \" untuk restoran \" + j + \" : \");\n",
    "        rating[i] [j] = sc.nextInt();\n",
    "    }\n",
    "    System.out.println(\"\");\n",
    "}"
   ]
  },
  {
   "cell_type": "markdown",
   "metadata": {},
   "source": [
    "4. Dengan menggunakan perulangan *for-each*, tampilkan semua isi elemen dari array **rating**\n",
    "![Gambar 7](images/percobaan2-4.PNG)"
   ]
  },
  {
   "cell_type": "code",
   "execution_count": 13,
   "metadata": {},
   "outputs": [
    {
     "name": "stdout",
     "output_type": "stream",
     "text": [
      "7 8  \n",
      "7 6  \n",
      "5 4  \n",
      "6 7  \n"
     ]
    }
   ],
   "source": [
    "// Tuliskan kode program Percobaan 2 Langkah 4\n",
    "for (int[] rtg : rating) {\n",
    "    for (int r: rtg) {\n",
    "        System.out.print(r + \" \");\n",
    "    }\n",
    "    System.out.println(\" \");\n",
    "}"
   ]
  },
  {
   "cell_type": "markdown",
   "metadata": {},
   "source": [
    "#### Pertanyaan\n",
    "1. Pada Percobaan 2 Langkah 3, dapatkah posisi i ditukar dengan posisi j? Jelaskan alasannya!"
   ]
  },
  {
   "cell_type": "code",
   "execution_count": null,
   "metadata": {},
   "outputs": [],
   "source": [
    "// Tuliskan jawaban nomor 1"
   ]
  },
  {
   "cell_type": "markdown",
   "metadata": {},
   "source": [
    "2. Tambahkan kode program untuk menentukan banyaknya baris dan kolom elemen array secara dinamis (baris dan kolom ditentukan saat program berjalan melalui input keyboard)!"
   ]
  },
  {
   "cell_type": "code",
   "execution_count": 14,
   "metadata": {},
   "outputs": [
    {
     "name": "stdout",
     "output_type": "stream",
     "text": [
      "Masukan rating pengguna 0 untuk restoran 0 : 1\n",
      "Masukan rating pengguna 0 untuk restoran 1 : 2\n",
      "\n",
      "Masukan rating pengguna 1 untuk restoran 0 : 3\n",
      "Masukan rating pengguna 1 untuk restoran 1 : 4\n",
      "\n",
      "Masukan rating pengguna 2 untuk restoran 0 : 5\n",
      "Masukan rating pengguna 2 untuk restoran 1 : 6\n",
      "\n",
      "Masukan rating pengguna 3 untuk restoran 0 : 7\n",
      "Masukan rating pengguna 3 untuk restoran 1 : 8\n",
      "\n"
     ]
    }
   ],
   "source": [
    "// Tuliskan jawaban nomor 2\n",
    "import java.util.Scanner;\n",
    "Scanner sc = new Scanner(System.in);\n",
    "int[] [] rating = new int[4] [2];\n",
    "for (int j = 0; j < rating.length; j++) {\n",
    "    for (int i = 0; i < rating[0].length; i++) {\n",
    "        System.out.print(\"Masukan rating pengguna \" + j + \" untuk restoran \" + i + \" : \");\n",
    "        rating[j][i] = sc.nextInt();\n",
    "    }\n",
    "    System.out.println(\"\");\n",
    "}"
   ]
  },
  {
   "cell_type": "markdown",
   "metadata": {},
   "source": [
    "### Percobaan 3: Melakukan Operasi Aritmatika pada Elemen Array 2 Dimensi\n",
    "Pada Percobaan 3, kode program yang dibuat digunakan untuk menghitung nilai rata-rata harga setiap bahan pokok selama 1 semester. Terdapat 3 bahan pokok yang dicatat harganya setiap akhir bulan. Program dibuat berdasarkan flowchart berikut.\n",
    "![Gambar 8](images/percobaan3.jpg)\n",
    "1. Import dan deklarasikan Scanner dengan nama **sc**\n",
    "![Gambar 9](images/percobaan3-1.jpg)"
   ]
  },
  {
   "cell_type": "code",
   "execution_count": 15,
   "metadata": {},
   "outputs": [],
   "source": [
    "// Tuliskan kode program Percobaan 3 Langkah 1\n",
    "import java.util.Scanner;\n",
    "Scanner sc = new Scanner(System.in);"
   ]
  },
  {
   "cell_type": "markdown",
   "metadata": {},
   "source": [
    "2.\tBuat array bertipe **integer** dengan nama **harga** dengan kapasitas baris 3 elemen (menyatakan jumlah bahan pokok) dan kolom 6 elemen (menyatakan jumlah bulan). Deklarasikan juga variabel **total** dan **rata** bertipe **double**\n",
    "![Gambar 10](images/percobaan3-2.PNG)"
   ]
  },
  {
   "cell_type": "code",
   "execution_count": 16,
   "metadata": {},
   "outputs": [],
   "source": [
    "// Tuliskan kode program Percobaan 3 Langkah 2\n",
    "int [] [] harga = new int [3][6];\n",
    "int i,j ;\n",
    "double total, rata;"
   ]
  },
  {
   "cell_type": "markdown",
   "metadata": {},
   "source": [
    "3. Dengan menggunakan perulangan *for*, buat input untuk mengisi elemen array **harga**. Kemudian, perhitungan total harga dilakukan untuk setiap bulan (kolom) pada setiap bahan pokok (baris). Setelah itu, nilai rata-rata dihitung untuk setiap bahan pokok (tiap satu baris) dan ditampilkan\n",
    "![Gambar 11](images/percobaan3-3.PNG)"
   ]
  },
  {
   "cell_type": "code",
   "execution_count": 17,
   "metadata": {},
   "outputs": [
    {
     "name": "stdout",
     "output_type": "stream",
     "text": [
      "Masukan harga[0][0]: 1000\n",
      "Masukan harga[0][1]: 2000\n",
      "Masukan harga[0][2]: 3000\n",
      "Masukan harga[0][3]: 4000\n",
      "Masukan harga[0][4]: 5000\n",
      "Masukan harga[0][5]: 6000\n",
      "Rata-rata harga bahan ke-0 adalah 3500.00\n",
      "Masukan harga[1][0]: 100\n",
      "Masukan harga[1][1]: 200\n",
      "Masukan harga[1][2]: 300\n",
      "Masukan harga[1][3]: 400\n",
      "Masukan harga[1][4]: 500\n",
      "Masukan harga[1][5]: 600\n",
      "Rata-rata harga bahan ke-1 adalah 350.00\n",
      "Masukan harga[2][0]: 900\n",
      "Masukan harga[2][1]: 800\n",
      "Masukan harga[2][2]: 700\n",
      "Masukan harga[2][3]: 600\n",
      "Masukan harga[2][4]: 500\n",
      "Masukan harga[2][5]: 400\n",
      "Rata-rata harga bahan ke-2 adalah 650.00\n"
     ]
    }
   ],
   "source": [
    "// Tuliskan kode program Percobaan 3 Langkah 3\n",
    "for (int i = 0; i < harga.length; i++) {\n",
    "    total = 0;\n",
    "    rata = 0;\n",
    "    for (int j = 0; j < harga[0].length; j++) {\n",
    "        System.out.printf(\"Masukan harga[%d][%d]: \", i, j);\n",
    "        harga[i][j] = sc.nextInt();\n",
    "        total += harga[i][j];\n",
    "    }\n",
    "    rata = total / harga[0].length;\n",
    "    System.out.printf(\"Rata-rata harga bahan ke-%d adalah %.2f\\n\", i, rata);\n",
    "}"
   ]
  },
  {
   "cell_type": "markdown",
   "metadata": {},
   "source": [
    "#### Pertanyaan\n",
    "1. Jelaskan fungsi dari **rata = total / harga[0].length**!\n",
    "\n",
    "    Untuk menghitung rata rata mulai dari baris 0 dan kolom 0 sampai banyanya kolom dan baris"
   ]
  },
  {
   "cell_type": "markdown",
   "metadata": {},
   "source": [
    "2. Mengapa insialisasi variabel **total = 0** dan **rata = 0** berada di dalam perulangan *for* yang pertama? Menurut Anda, apa yang terjadi jika inisialisasi kedua variabel tersebut diletakkan di luar perulangan *for* (setelah deklarasi array)?\n",
    "  \n",
    "    Karena inisialisasi variabel total = 0 dan rata = 0 dibutuhkan untuk menentukan nilai total"
   ]
  },
  {
   "cell_type": "markdown",
   "metadata": {},
   "source": [
    "## Tugas"
   ]
  },
  {
   "cell_type": "markdown",
   "metadata": {},
   "source": [
    "1. Perhatikan flowchart berikut.\n",
    "![Gambar 12](images/tugas-1.jpg)\n",
    "Buat kode program sesuai dengan flowchart tersebut untuk mencari suhu tertinggi yang dicatat dari 5 kota di Jepang selama 7 hari berturut-turut!"
   ]
  },
  {
   "cell_type": "code",
   "execution_count": 19,
   "metadata": {},
   "outputs": [
    {
     "name": "stdout",
     "output_type": "stream",
     "text": [
      "Masukkan suhu kota 1 hari ke 1 : 12\n",
      "Masukkan suhu kota 1 hari ke 2 : 13\n",
      "Masukkan suhu kota 1 hari ke 3 : 14\n",
      "Masukkan suhu kota 1 hari ke 4 : 15\n",
      "Masukkan suhu kota 1 hari ke 5 : 16\n",
      "Masukkan suhu kota 1 hari ke 6 : 17\n",
      "Masukkan suhu kota 1 hari ke 7 : 18\n",
      "\n",
      " Masukkan suhu kota 2 hari ke 1 : 19\n",
      "Masukkan suhu kota 2 hari ke 2 : 20\n",
      "Masukkan suhu kota 2 hari ke 3 : 21\n",
      "Masukkan suhu kota 2 hari ke 4 : 22\n",
      "Masukkan suhu kota 2 hari ke 5 : 23\n",
      "Masukkan suhu kota 2 hari ke 6 : 24\n",
      "Masukkan suhu kota 2 hari ke 7 : 25\n",
      "\n",
      " Masukkan suhu kota 3 hari ke 1 : 26\n",
      "Masukkan suhu kota 3 hari ke 2 : 27\n",
      "Masukkan suhu kota 3 hari ke 3 : 28\n",
      "Masukkan suhu kota 3 hari ke 4 : 29\n",
      "Masukkan suhu kota 3 hari ke 5 : 30\n",
      "Masukkan suhu kota 3 hari ke 6 : 31\n",
      "Masukkan suhu kota 3 hari ke 7 : 32\n",
      "\n",
      " Masukkan suhu kota 4 hari ke 1 : 3\n",
      "Masukkan suhu kota 4 hari ke 2 : 34\n",
      "Masukkan suhu kota 4 hari ke 3 : 35\n",
      "Masukkan suhu kota 4 hari ke 4 : 36\n",
      "Masukkan suhu kota 4 hari ke 5 : 37\n",
      "Masukkan suhu kota 4 hari ke 6 : 38\n",
      "Masukkan suhu kota 4 hari ke 7 : 39\n",
      "\n",
      " Masukkan suhu kota 5 hari ke 1 : 40\n",
      "Masukkan suhu kota 5 hari ke 2 : 41\n",
      "Masukkan suhu kota 5 hari ke 3 : 42\n",
      "Masukkan suhu kota 5 hari ke 4 : 43\n",
      "Masukkan suhu kota 5 hari ke 5 : 44\n",
      "Masukkan suhu kota 5 hari ke 6 : 45\n",
      "Masukkan suhu kota 5 hari ke 7 : 46\n",
      "\n",
      " Suhu tertinggi dari 5 kota di Jepang selama 7 hari adalah 46.0"
     ]
    }
   ],
   "source": [
    "// Tuliskan jawaban nomor 1\n",
    "import java.util.Scanner;\n",
    "Scanner sc = new Scanner(System.in);\n",
    "double[][] suhu = new double [5][7];\n",
    "int x, y;\n",
    "double max=0;\n",
    "for (x=0; x<suhu.length; x++){\n",
    "    for (y=0; y<suhu[0].length; y++){\n",
    "        System.out.print(\"Masukkan suhu kota \" + (x+1) + \" hari ke \" + (y+1) + \" : \");\n",
    "        suhu[x] [y] = sc.nextDouble();\n",
    "        if(suhu[x] [y] > max){\n",
    "            max = suhu[x] [y];\n",
    "        }\n",
    "    }System.out.printf('\\n' + \" \");\n",
    "}\n",
    "System.out.print(\"Suhu tertinggi dari 5 kota di Jepang selama 7 hari adalah \"+ max);"
   ]
  },
  {
   "cell_type": "markdown",
   "metadata": {},
   "source": [
    "#### 2. Terdapat hasil pencatatan data lima mahasiswa yang berisi informasi mengenai umur, berat badan (kg), dan tinggi badan (cm). Data tersebut disimpan ke dalam array dua dimensi.\n",
    "![Gambar 13](images/tugas-2.PNG)\n",
    "*Keterangan: penyimpanan nilai dapat dilakukan melalui inisialisasi menggunakan operator assignment*\n",
    " * Tampilkan *berat badan terendah* di antara kelima mahasiswa tersebut\n",
    " * Tampilkan *rata-rata tinggi badan* dari kelima mahasiswa tersebut\n",
    " * Tampilkan nama mahasiswa dengan *umur tertua* di antara kelima mahasiswa tersebut"
   ]
  },
  {
   "cell_type": "code",
   "execution_count": 29,
   "metadata": {},
   "outputs": [
    {
     "name": "stdout",
     "output_type": "stream",
     "text": [
      "Berat badan terendah mahasiswa yaitu\t\t\t\t : 45\n",
      "Total tinggi badan\t\t\t\t\t\t : 789.0\n",
      "Rata-rata tinggi badan dari kelima mahasiswa tersebut yaitu\t : 157.8\n",
      "Umur tertua\t\t\t\t\t\t\t : 20\n",
      "Nama mahasiswa\t\t\t\t\t\t\t : Beky\n"
     ]
    }
   ],
   "source": [
    "// Tuliskan jawaban nomor 2\n",
    "import java.util.Scanner;\n",
    "Scanner sc = new Scanner(System.in);\n",
    "int i,j;\n",
    "int [][] dataMahasiswa = {{19,51,155},{18,55,163},{18,45,153},{20,46,158},{19,58,160}};\n",
    "int min = 100;\n",
    "int indeks;\n",
    "int tua=0;\n",
    "double totalTinggiBadan = 0;\n",
    "double rataTinggiBadan = 0;\n",
    "String[] nama = {\"Desi\", \"Rofan\", \"Lala\", \"Beky\", \"Ega\"};\n",
    "for(i=0; i<dataMahasiswa.length; i++){\n",
    "    for(j=0; j<dataMahasiswa[1].length; j++){\n",
    "        if(dataMahasiswa[i][1] < min){\n",
    "            min = dataMahasiswa[i][1];\n",
    "        }\n",
    "    }\n",
    "}\n",
    "for(i=0; i<dataMahasiswa.length; i++){\n",
    "    for(j=0; j<dataMahasiswa[0].length; j++){\n",
    "    if(j == 2)\n",
    "        totalTinggiBadan += dataMahasiswa[i][j];\n",
    "    }\n",
    "}\n",
    "for(i=0; i<dataMahasiswa.length; i++){\n",
    "    for(j=0; j<dataMahasiswa[0].length; j++){\n",
    "        if(dataMahasiswa[i][0] > tua){\n",
    "            tua = dataMahasiswa[i][0];\n",
    "            indeks = i;\n",
    "        }\n",
    "    }\n",
    "}\n",
    "System.out.println(\"Berat badan terendah mahasiswa yaitu\\t\\t\\t\\t : \" + min);\n",
    "rataTinggiBadan = totalTinggiBadan / dataMahasiswa.length;\n",
    "System.out.println(\"Total tinggi badan\\t\\t\\t\\t\\t\\t : \" + totalTinggiBadan);\n",
    "System.out.println(\"Rata-rata tinggi badan dari kelima mahasiswa tersebut yaitu\\t : \" + rataTinggiBadan);\n",
    "System.out.println(\"Umur tertua\\t\\t\\t\\t\\t\\t\\t : \" + tua);\n",
    "System.out.println(\"Nama mahasiswa\\t\\t\\t\\t\\t\\t\\t : \" + nama[indeks]);"
   ]
  }
 ],
 "metadata": {
  "kernelspec": {
   "display_name": "Java",
   "language": "java",
   "name": "java"
  },
  "language_info": {
   "codemirror_mode": "java",
   "file_extension": ".jshell",
   "mimetype": "text/x-java-source",
   "name": "Java",
   "pygments_lexer": "java",
   "version": "16.0.2+7-67"
  }
 },
 "nbformat": 4,
 "nbformat_minor": 4
}
