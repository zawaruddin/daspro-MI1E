{
 "cells": [
  {
   "cell_type": "markdown",
   "metadata": {},
   "source": [
    "# JOBSHEET 11. ARRAY 2"
   ]
  },
  {
   "cell_type": "markdown",
   "metadata": {},
   "source": [
    "## Tujuan\n",
    "* Mahasiswa mampu memahami pembuatan array dua dimensi\n",
    "* Mahasiswa mampu menyelesaikan studi kasus dengan memanfaatkan array dua dimensi"
   ]
  },
  {
   "cell_type": "markdown",
   "metadata": {},
   "source": [
    "## Alat dan Bahan\n",
    "* PC/Laptop\n",
    "* Browser\n",
    "* Koneksi internet\n",
    "* Anaconda3 + Java kernel (opsional)"
   ]
  },
  {
   "cell_type": "markdown",
   "metadata": {},
   "source": [
    "## Praktikum"
   ]
  },
  {
   "cell_type": "markdown",
   "metadata": {},
   "source": [
    "### Percobaan 1: Deklarasi, Inisialisasi, dan Menampilkan Array 2 Dimensi\n",
    "Pada Percobaan 1, kode program yang dibuat digunakan untuk menyimpan nilai praktikum dari 2 orang mahasiswa pada 3 mata kuliah yang berbeda.\n",
    "1.\tBuat array bertipe **integer** dengan nama **nilai** dengan kapasitas baris 2 elemen (menyatakan jumlah mahasiswa) dan kolom 3 elemen (menyatakan jumlah mata kuliah)\n",
    "![Gambar 1](images/percobaan1-1.PNG)"
   ]
  },
  {
   "cell_type": "code",
   "execution_count": 52,
   "metadata": {},
   "outputs": [],
   "source": [
    "// Tuliskan kode program Percobaan 1 Langkah 1\n",
    "int[][] nilai = new int[2][3];"
   ]
  },
  {
   "cell_type": "markdown",
   "metadata": {},
   "source": [
    "2. Isi masing-masing elemen array **nilai** sebagai berikut:\n",
    "![Gambar 2](images/percobaan1-2.PNG)"
   ]
  },
  {
   "cell_type": "code",
   "execution_count": 53,
   "metadata": {},
   "outputs": [
    {
     "data": {
      "text/plain": [
       "75"
      ]
     },
     "execution_count": 53,
     "metadata": {},
     "output_type": "execute_result"
    }
   ],
   "source": [
    "// Tuliskan kode program Percobaan 1 Langkah 2\n",
    "nilai[1][2] = 67;\n",
    "nilai[0][2] = 88;\n",
    "nilai[0][0] = 75;\n"
   ]
  },
  {
   "cell_type": "markdown",
   "metadata": {},
   "source": [
    "3. Tampilkan semua isi elemen array **nilai**\n",
    "![Gambar 3](images/percobaan1-3.PNG)"
   ]
  },
  {
   "cell_type": "code",
   "execution_count": 54,
   "metadata": {},
   "outputs": [
    {
     "name": "stdout",
     "output_type": "stream",
     "text": [
      "75 0 88\n",
      "0 0 67\n"
     ]
    }
   ],
   "source": [
    "// Tuliskan kode program Percobaan 1 Langkah 2\n",
    "System.out.println(nilai[0][0] + \" \" + nilai[0][1] + \" \" + nilai[0][2]);\n",
    "System.out.println(nilai[1][0] + \" \" + nilai[1][1] + \" \" + nilai[1][2]);"
   ]
  },
  {
   "cell_type": "markdown",
   "metadata": {},
   "source": [
    "#### Pertanyaan\n",
    "1. Apakah pengisian elemen array harus dilakukan secara berurutan mulai dari indeks 0? Jelaskan!"
   ]
  },
  {
   "cell_type": "markdown",
   "metadata": {},
   "source": [
    "// Tuliskan jawaban nomor 1\n",
    "\n",
    "tidak harus berurutan, karena ibarat rak kita bisa memasukan sesuatu didalam rak mana saja. sesuai dengan kebutuhan."
   ]
  },
  {
   "cell_type": "markdown",
   "metadata": {},
   "source": [
    "2. Lakukan modifikasi pada Percobaan 1 Langkah 3 untuk menampilkan semua isi elemen array **nilai** menggunakan perulangan *for*"
   ]
  },
  {
   "cell_type": "code",
   "execution_count": 6,
   "metadata": {},
   "outputs": [
    {
     "name": "stdout",
     "output_type": "stream",
     "text": [
      "75 90 88 \n",
      "79 82 67 \n"
     ]
    }
   ],
   "source": [
    "// Tuliskan jawaban nomor 2\n",
    "for(int i = 0; i < nilai.length; i++){\n",
    "    for(int j = 0; j < nilai[0].length; j++){\n",
    "        System.out.print(nilai[i][j] + \" \");\n",
    "    }\n",
    "    System.out.println();\n",
    "}"
   ]
  },
  {
   "cell_type": "markdown",
   "metadata": {},
   "source": [
    "### Percobaan 2: Mengisi Elemen Array 2 Dimensi Menggunakan Input Keyboard\n",
    "Pada Percobaan 2, kode program yang dibuat digunakan untuk menyimpan nilai rating restoran yang terdaftar pada aplikasi pemesanan makanan online. Rating diberikan oleh 4 orang pengguna kepada 2 restoran yang terdaftar.\n",
    "1. Import dan deklarasikan Scanner dengan nama **sc**\n",
    "![Gambar 4](images/percobaan2-1.jpg)"
   ]
  },
  {
   "cell_type": "code",
   "execution_count": 7,
   "metadata": {},
   "outputs": [],
   "source": [
    "// Tuliskan kode program Percobaan 2 Langkah 1\n",
    "import java.util.Scanner;\n",
    "Scanner sc = new Scanner(System.in);"
   ]
  },
  {
   "cell_type": "markdown",
   "metadata": {},
   "source": [
    "2.\tBuat array bertipe **integer** dengan nama **rating** dengan kapasitas baris 4 elemen (menyatakan jumlah pengguna) dan kolom 2 elemen (menyatakan jumlah restoran)\n",
    "![Gambar 5](images/percobaan2-2.PNG)"
   ]
  },
  {
   "cell_type": "code",
   "execution_count": 9,
   "metadata": {},
   "outputs": [],
   "source": [
    "// Tuliskan kode program Percobaan 2 Langkah 2\n",
    "int[][] rating = new int[4][2];"
   ]
  },
  {
   "cell_type": "markdown",
   "metadata": {},
   "source": [
    "3. Dengan menggunakan perulangan *for*, buat input untuk mengisi elemen array **rating**\n",
    "![Gambar 6](images/percobaan2-3.PNG)"
   ]
  },
  {
   "cell_type": "code",
   "execution_count": 12,
   "metadata": {},
   "outputs": [
    {
     "name": "stdout",
     "output_type": "stream",
     "text": [
      "Masukkan rating pengguna 0 untuk restoran 0 : 2\n",
      "Masukkan rating pengguna 0 untuk restoran 1 : 3\n",
      "\n",
      "Masukkan rating pengguna 1 untuk restoran 0 : 2\n",
      "Masukkan rating pengguna 1 untuk restoran 1 : 3\n",
      "\n",
      "Masukkan rating pengguna 2 untuk restoran 0 : 2\n",
      "Masukkan rating pengguna 2 untuk restoran 1 : 3\n",
      "\n",
      "Masukkan rating pengguna 3 untuk restoran 0 : 2\n",
      "Masukkan rating pengguna 3 untuk restoran 1 : 3\n",
      "\n"
     ]
    }
   ],
   "source": [
    "// Tuliskan kode program Percobaan 2 Langkah 3\n",
    "for (int i = 0; i < rating.length; i++){\n",
    "    for (int j = 0; j<rating[0].length; j++){\n",
    "        System.out.print(\"Masukkan rating pengguna \" + i + \" untuk restoran \" + j + \" : \");\n",
    "        rating[i][j] = sc.nextInt();\n",
    "    }\n",
    "    System.out.println(\"\");\n",
    "}"
   ]
  },
  {
   "cell_type": "markdown",
   "metadata": {},
   "source": [
    "4. Dengan menggunakan perulangan *for-each*, tampilkan semua isi elemen dari array **rating**\n",
    "![Gambar 7](images/percobaan2-4.PNG)"
   ]
  },
  {
   "cell_type": "code",
   "execution_count": 13,
   "metadata": {},
   "outputs": [
    {
     "name": "stdout",
     "output_type": "stream",
     "text": [
      "2 3 \n",
      "2 3 \n",
      "2 3 \n",
      "2 3 \n"
     ]
    }
   ],
   "source": [
    "// Tuliskan kode program Percobaan 2 Langkah 4\n",
    "for (int[] rtg : rating) {\n",
    "    for (int r: rtg){\n",
    "        System.out.print(r + \" \");\n",
    "    }\n",
    "    System.out.println(\"\");\n",
    "}"
   ]
  },
  {
   "cell_type": "markdown",
   "metadata": {},
   "source": [
    "#### Pertanyaan\n",
    "1. Pada Percobaan 2 Langkah 3, dapatkah posisi i ditukar dengan posisi j? Jelaskan alasannya!"
   ]
  },
  {
   "cell_type": "markdown",
   "metadata": {},
   "source": [
    "// Tuliskan jawaban nomor 1\n",
    "\n",
    "bisa, hasilnya akan sama apabila semua i ditukar dengan j. karena i dan j hanya permisalan. jadi apabila cuman di salah satu bagian yang ditukar, maka hasilnya akan berbeda.\n",
    "\n",
    "misal apabila code rating[i][j] = sc.nextInt(); i dan j di tukar, maka terjadi eror karena kolom yang di instalisasi hanya 2. tapi di input 4. "
   ]
  },
  {
   "cell_type": "markdown",
   "metadata": {},
   "source": [
    "2. Tambahkan kode program untuk menentukan banyaknya baris dan kolom elemen array secara dinamis (baris dan kolom ditentukan saat program berjalan melalui input keyboard)!"
   ]
  },
  {
   "cell_type": "code",
   "execution_count": 39,
   "metadata": {},
   "outputs": [
    {
     "name": "stdout",
     "output_type": "stream",
     "text": [
      "masuukan banyak pengguna :6\n",
      "masuukan banyak restoran :3\n",
      "\n",
      "Masukkan rating pengguna 1 untuk restoran 1 : 7\n",
      "Masukkan rating pengguna 1 untuk restoran 2 : 8\n",
      "Masukkan rating pengguna 1 untuk restoran 3 : 9\n",
      "\n",
      "Masukkan rating pengguna 2 untuk restoran 1 : 7\n",
      "Masukkan rating pengguna 2 untuk restoran 2 : 8\n",
      "Masukkan rating pengguna 2 untuk restoran 3 : 9\n",
      "\n",
      "Masukkan rating pengguna 3 untuk restoran 1 : 7\n",
      "Masukkan rating pengguna 3 untuk restoran 2 : 8\n",
      "Masukkan rating pengguna 3 untuk restoran 3 : 9\n",
      "\n",
      "Masukkan rating pengguna 4 untuk restoran 1 : 7\n",
      "Masukkan rating pengguna 4 untuk restoran 2 : 8\n",
      "Masukkan rating pengguna 4 untuk restoran 3 : 9\n",
      "\n",
      "Masukkan rating pengguna 5 untuk restoran 1 : 7\n",
      "Masukkan rating pengguna 5 untuk restoran 2 : 8\n",
      "Masukkan rating pengguna 5 untuk restoran 3 : 9\n",
      "\n",
      "Masukkan rating pengguna 6 untuk restoran 1 : 7\n",
      "Masukkan rating pengguna 6 untuk restoran 2 : 8\n",
      "Masukkan rating pengguna 6 untuk restoran 3 : 9\n",
      "\n",
      "7 8 9 \n",
      "7 8 9 \n",
      "7 8 9 \n",
      "7 8 9 \n",
      "7 8 9 \n",
      "7 8 9 \n"
     ]
    }
   ],
   "source": [
    "// Tuliskan jawaban nomor 2\n",
    "import java.util.Scanner;\n",
    "Scanner sc = new Scanner(System.in);\n",
    "int pengguna, restoran;\n",
    "\n",
    "System.out.print(\"masuukan banyak pengguna :\");\n",
    "pengguna = sc.nextInt();\n",
    "System.out.print(\"masuukan banyak restoran :\");\n",
    "restoran = sc.nextInt();\n",
    "\n",
    "System.out.println();\n",
    "\n",
    "int[][] rating = new int[pengguna][restoran];\n",
    "\n",
    "\n",
    "for (int i = 0; i < rating.length; i++){\n",
    "    for (int j = 0; j<rating[0].length; j++){\n",
    "        System.out.print(\"Masukkan rating pengguna \" + (i+1) + \" untuk restoran \" + (j+1) + \" : \");\n",
    "        rating[i][j] = sc.nextInt();\n",
    "    }\n",
    "    System.out.println(\"\");\n",
    "}\n",
    "\n",
    "for (int[] rtg : rating) {\n",
    "    for (int r: rtg){\n",
    "        System.out.print(r + \" \");\n",
    "    }\n",
    "    System.out.println(\"\");\n",
    "}\n"
   ]
  },
  {
   "cell_type": "markdown",
   "metadata": {},
   "source": [
    "### Percobaan 3: Melakukan Operasi Aritmatika pada Elemen Array 2 Dimensi\n",
    "Pada Percobaan 3, kode program yang dibuat digunakan untuk menghitung nilai rata-rata harga setiap bahan pokok selama 1 semester. Terdapat 3 bahan pokok yang dicatat harganya setiap akhir bulan. Program dibuat berdasarkan flowchart berikut.\n",
    "![Gambar 8](images/percobaan3.jpg)\n",
    "1. Import dan deklarasikan Scanner dengan nama **sc**\n",
    "![Gambar 9](images/percobaan3-1.jpg)"
   ]
  },
  {
   "cell_type": "code",
   "execution_count": 16,
   "metadata": {},
   "outputs": [],
   "source": [
    "// Tuliskan kode program Percobaan 3 Langkah 1\n",
    "import java.util.Scanner;\n",
    "Scanner sc =  new Scanner(System.in);"
   ]
  },
  {
   "cell_type": "markdown",
   "metadata": {},
   "source": [
    "2.\tBuat array bertipe **integer** dengan nama **harga** dengan kapasitas baris 3 elemen (menyatakan jumlah bahan pokok) dan kolom 6 elemen (menyatakan jumlah bulan). Deklarasikan juga variabel **total** dan **rata** bertipe **double**\n",
    "![Gambar 10](images/percobaan3-2.PNG)"
   ]
  },
  {
   "cell_type": "code",
   "execution_count": 17,
   "metadata": {},
   "outputs": [],
   "source": [
    "// Tuliskan kode program Percobaan 3 Langkah 2\n",
    "int[][] harga = new int[3][6];\n",
    "double total, rata;"
   ]
  },
  {
   "cell_type": "markdown",
   "metadata": {},
   "source": [
    "3. Dengan menggunakan perulangan *for*, buat input untuk mengisi elemen array **harga**. Kemudian, perhitungan total harga dilakukan untuk setiap bulan (kolom) pada setiap bahan pokok (baris). Setelah itu, nilai rata-rata dihitung untuk setiap bahan pokok (tiap satu baris) dan ditampilkan\n",
    "![Gambar 11](images/percobaan3-3.PNG)"
   ]
  },
  {
   "cell_type": "code",
   "execution_count": 41,
   "metadata": {},
   "outputs": [
    {
     "name": "stdout",
     "output_type": "stream",
     "text": [
      "Masukkan harga[0][0]: 2000\n",
      "Masukkan harga[0][1]: 2000\n",
      "Masukkan harga[0][2]: 3000\n",
      "Masukkan harga[0][3]: 3000\n",
      "Masukkan harga[0][4]: 2000\n",
      "Masukkan harga[0][5]: 3000\n",
      "Rata-rata harga bahan ke-0 adalah 2500.00\n",
      "Masukkan harga[1][0]: 3000\n",
      "Masukkan harga[1][1]: 4000\n",
      "Masukkan harga[1][2]: 3000\n",
      "Masukkan harga[1][3]: 4000\n",
      "Masukkan harga[1][4]: 3000\n",
      "Masukkan harga[1][5]: 4000\n",
      "Rata-rata harga bahan ke-1 adalah 3500.00\n",
      "Masukkan harga[2][0]: 4000\n",
      "Masukkan harga[2][1]: 5000\n",
      "Masukkan harga[2][2]: 4000\n",
      "Masukkan harga[2][3]: 5000\n",
      "Masukkan harga[2][4]: 4000\n",
      "Masukkan harga[2][5]: 5000\n",
      "Rata-rata harga bahan ke-2 adalah 4500.00\n"
     ]
    }
   ],
   "source": [
    "// Tuliskan kode program Percobaan 3 Langkah 3\n",
    "for (int i = 0; i < harga.length; i++){\n",
    "    total = 0;\n",
    "    rata = 0;\n",
    "    for(int j = 0; j<harga[0].length; j++){\n",
    "        System.out.printf(\"Masukkan harga[%d][%d]: \", i, j);\n",
    "        harga[i][j] = sc.nextInt();\n",
    "        total += harga[i][j];\n",
    "    }\n",
    "    rata = total / harga[0].length;\n",
    "    System.out.printf(\"Rata-rata harga bahan ke-%d adalah %.2f\\n\", i, rata);\n",
    "}"
   ]
  },
  {
   "cell_type": "markdown",
   "metadata": {},
   "source": [
    "#### Pertanyaan\n",
    "1. Jelaskan fungsi dari **rata = total / harga[0].length**!"
   ]
  },
  {
   "cell_type": "markdown",
   "metadata": {},
   "source": [
    "// Tuliskan jawaban nomor 1\n",
    "\n",
    "fungsi tersebut untuk melakukan operasi menghitung rata rata dari total harga setiap bahan dibagi dengan banyak kolom array harga."
   ]
  },
  {
   "cell_type": "markdown",
   "metadata": {},
   "source": [
    "2. Mengapa insialisasi variabel **total = 0** dan **rata = 0** berada di dalam perulangan *for* yang pertama? Menurut Anda, apa yang terjadi jika inisialisasi kedua variabel tersebut diletakkan di luar perulangan *for* (setelah deklarasi array)?"
   ]
  },
  {
   "cell_type": "markdown",
   "metadata": {},
   "source": [
    "// Tuliskan jawaban nomor 2\n",
    "\n",
    "    agar saat ingin masuk ke perulangan ke 2 nilai kembali tottal dan rata kembali ke nol, sehingga perhitungan sebelumnya tidak terikut ke operasi selanjutnya.\n",
    "    \n",
    "    apabila diletakkan diluar for maka semua nilai indeks akan ditambahkan hingga akhir perulangan yang membuat program tidak sesuai dengan harapan. "
   ]
  },
  {
   "cell_type": "markdown",
   "metadata": {},
   "source": [
    "## Tugas"
   ]
  },
  {
   "cell_type": "markdown",
   "metadata": {},
   "source": [
    "1. Perhatikan flowchart berikut.\n",
    "![Gambar 12](images/tugas-1.jpg)\n",
    "Buat kode program sesuai dengan flowchart tersebut untuk mencari suhu tertinggi yang dicatat dari 5 kota di Jepang selama 7 hari berturut-turut!"
   ]
  },
  {
   "cell_type": "code",
   "execution_count": 26,
   "metadata": {},
   "outputs": [
    {
     "name": "stdout",
     "output_type": "stream",
     "text": [
      "Masukkan suhu kota ke- 1 Hari ke- 1: 1\n",
      "Masukkan suhu kota ke- 1 Hari ke- 2: 1\n",
      "Masukkan suhu kota ke- 1 Hari ke- 3: 1\n",
      "Masukkan suhu kota ke- 1 Hari ke- 4: 1\n",
      "Masukkan suhu kota ke- 1 Hari ke- 5: 1\n",
      "Masukkan suhu kota ke- 1 Hari ke- 6: 1\n",
      "Masukkan suhu kota ke- 1 Hari ke- 7: 1\n",
      "\n",
      "Masukkan suhu kota ke- 2 Hari ke- 1: 7\n",
      "Masukkan suhu kota ke- 2 Hari ke- 2: 7\n",
      "Masukkan suhu kota ke- 2 Hari ke- 3: 7\n",
      "Masukkan suhu kota ke- 2 Hari ke- 4: 7\n",
      "Masukkan suhu kota ke- 2 Hari ke- 5: 7\n",
      "Masukkan suhu kota ke- 2 Hari ke- 6: 7\n",
      "Masukkan suhu kota ke- 2 Hari ke- 7: 7\n",
      "\n",
      "Masukkan suhu kota ke- 3 Hari ke- 1: 4\n",
      "Masukkan suhu kota ke- 3 Hari ke- 2: 4\n",
      "Masukkan suhu kota ke- 3 Hari ke- 3: 4\n",
      "Masukkan suhu kota ke- 3 Hari ke- 4: 4\n",
      "Masukkan suhu kota ke- 3 Hari ke- 5: 4\n",
      "Masukkan suhu kota ke- 3 Hari ke- 6: 4\n",
      "Masukkan suhu kota ke- 3 Hari ke- 7: 4\n",
      "\n",
      "Masukkan suhu kota ke- 4 Hari ke- 1: 9\n",
      "Masukkan suhu kota ke- 4 Hari ke- 2: 9\n",
      "Masukkan suhu kota ke- 4 Hari ke- 3: 9\n",
      "Masukkan suhu kota ke- 4 Hari ke- 4: 9\n",
      "Masukkan suhu kota ke- 4 Hari ke- 5: 9\n",
      "Masukkan suhu kota ke- 4 Hari ke- 6: 9\n",
      "Masukkan suhu kota ke- 4 Hari ke- 7: 9\n",
      "\n",
      "Masukkan suhu kota ke- 5 Hari ke- 1: 3\n",
      "Masukkan suhu kota ke- 5 Hari ke- 2: 3\n",
      "Masukkan suhu kota ke- 5 Hari ke- 3: 3\n",
      "Masukkan suhu kota ke- 5 Hari ke- 4: 3\n",
      "Masukkan suhu kota ke- 5 Hari ke- 5: 3\n",
      "Masukkan suhu kota ke- 5 Hari ke- 6: 3\n",
      "Masukkan suhu kota ke- 5 Hari ke- 7: 3\n",
      "\n",
      "Suhu tertinggi adalah9.0\n"
     ]
    }
   ],
   "source": [
    "// Tuliskan jawaban nomor 1\n",
    "import java.util.Scanner;\n",
    "Scanner input1 = new Scanner(System.in);\n",
    "double[][] suhu = new double[5][7];\n",
    "int x, y;\n",
    "double max = 0;\n",
    "\n",
    "for (int x = 0; x < suhu.length; x++){\n",
    "    for(int y = 0; y < suhu[0].length; y++){\n",
    "        System.out.print(\"Masukkan suhu kota ke- \"+ (x+1) + \" Hari ke- \"+ (y+1) + \": \");\n",
    "        suhu[x][y] = input1.nextDouble();\n",
    "        if(suhu[x][y] > max){\n",
    "            max = suhu[x][y];\n",
    "        }\n",
    "        \n",
    "    }\n",
    "    System.out.println();\n",
    "}\n",
    "System.out.println(\"Suhu tertinggi adalah\" + max);"
   ]
  },
  {
   "cell_type": "markdown",
   "metadata": {},
   "source": [
    "2. Terdapat hasil pencatatan data lima mahasiswa yang berisi informasi mengenai umur, berat badan (kg), dan tinggi badan (cm). Data tersebut disimpan ke dalam array dua dimensi.\n",
    "![Gambar 13](images/tugas-2.PNG)\n",
    "*Keterangan: penyimpanan nilai dapat dilakukan melalui inisialisasi menggunakan operator assignment*\n",
    " * Tampilkan *berat badan terendah* di antara kelima mahasiswa tersebut\n",
    " * Tampilkan *rata-rata tinggi badan* dari kelima mahasiswa tersebut\n",
    " * Tampilkan nama mahasiswa dengan *umur tertua* di antara kelima mahasiswa tersebut"
   ]
  },
  {
   "cell_type": "code",
   "execution_count": 50,
   "metadata": {},
   "outputs": [
    {
     "name": "stdout",
     "output_type": "stream",
     "text": [
      "berat badan terendah adalah 45\n",
      "Rata-rata tinggi badan mahasiswa adalah 157.8\n",
      "Dari kelima mahasiswa tersebut yang tertua adalah 'Beky' dengan umur 20\n"
     ]
    }
   ],
   "source": [
    "// Tuliskan jawaban nomor 2\n",
    "int[][] data = {\n",
    "    {19, 51, 155},\n",
    "    {18, 55, 163},\n",
    "    {18, 45, 153},\n",
    "    {20, 46, 158},\n",
    "    {19, 58, 160}\n",
    "};\n",
    "\n",
    "String[] nama = {\"Desi\", \"Rofan\", \"lala\", \"Beky\", \"Ega\"};\n",
    "String namaTertua;\n",
    "int tua=0, ringan=100;\n",
    "double rata, totalTinggi;\n",
    "\n",
    "for(int i = 0; i < data.length; i++){\n",
    "    for(int j = 0; j < data[0].length; j++){\n",
    "        if(j == 0){\n",
    "            if (tua < data[i][j]){\n",
    "               tua = data[i][j];\n",
    "                namaTertua = nama[i];\n",
    "            }\n",
    "        }else if(j == 1){\n",
    "            if(ringan > data[i][j]){\n",
    "                ringan = data[i][j];\n",
    "            }\n",
    "        }else if(j == 2){\n",
    "            totalTinggi += data[i][j];\n",
    "        }\n",
    "    }\n",
    "}\n",
    "rata = totalTinggi/data.length;\n",
    "\n",
    "System.out.println(\"berat badan terendah adalah \" + ringan);\n",
    "System.out.println(\"Rata-rata tinggi badan mahasiswa adalah \" + rata);\n",
    "System.out.println(\"Dari kelima mahasiswa tersebut yang tertua adalah '\" + namaTertua + \"' dengan umur \" + tua);"
   ]
  }
 ],
 "metadata": {
  "kernelspec": {
   "display_name": "Java",
   "language": "java",
   "name": "java"
  },
  "language_info": {
   "codemirror_mode": "java",
   "file_extension": ".jshell",
   "mimetype": "text/x-java-source",
   "name": "Java",
   "pygments_lexer": "java",
   "version": "11.0.12+8-LTS-237"
  }
 },
 "nbformat": 4,
 "nbformat_minor": 4
}
