{
 "cells": [
  {
   "cell_type": "markdown",
   "metadata": {},
   "source": [
    "# JOBSHEET 11. ARRAY 2\n",
    "\n",
    "NAMA : NUR ALIMAH\n",
    "\n",
    "KELAS : 2131710004\n",
    "\n",
    "PRODI : D3MI"
   ]
  },
  {
   "cell_type": "markdown",
   "metadata": {},
   "source": [
    "## Tujuan\n",
    "* Mahasiswa mampu memahami pembuatan array dua dimensi\n",
    "* Mahasiswa mampu menyelesaikan studi kasus dengan memanfaatkan array dua dimensi"
   ]
  },
  {
   "cell_type": "markdown",
   "metadata": {},
   "source": [
    "## Alat dan Bahan\n",
    "* PC/Laptop\n",
    "* Browser\n",
    "* Koneksi internet\n",
    "* Anaconda3 + Java kernel (opsional)"
   ]
  },
  {
   "cell_type": "markdown",
   "metadata": {},
   "source": [
    "## Praktikum"
   ]
  },
  {
   "cell_type": "markdown",
   "metadata": {},
   "source": [
    "### Percobaan 1: Deklarasi, Inisialisasi, dan Menampilkan Array 2 Dimensi\n",
    "Pada Percobaan 1, kode program yang dibuat digunakan untuk menyimpan nilai praktikum dari 2 orang mahasiswa pada 3 mata kuliah yang berbeda.\n",
    "1.\tBuat array bertipe **integer** dengan nama **nilai** dengan kapasitas baris 2 elemen (menyatakan jumlah mahasiswa) dan kolom 3 elemen (menyatakan jumlah mata kuliah)\n",
    "![Gambar 1](images/percobaan1-1.PNG)"
   ]
  },
  {
   "cell_type": "code",
   "execution_count": 2,
   "metadata": {},
   "outputs": [],
   "source": [
    "// Tuliskan kode program Percobaan 1 Langkah 1\n",
    "int [][] nilai = new int[2] [3];"
   ]
  },
  {
   "cell_type": "markdown",
   "metadata": {},
   "source": [
    "2. Isi masing-masing elemen array **nilai** sebagai berikut:\n",
    "![Gambar 2](images/percobaan1-2.PNG)"
   ]
  },
  {
   "cell_type": "code",
   "execution_count": 4,
   "metadata": {},
   "outputs": [
    {
     "data": {
      "text/plain": [
       "67"
      ]
     },
     "execution_count": 4,
     "metadata": {},
     "output_type": "execute_result"
    }
   ],
   "source": [
    "// Tuliskan kode program Percobaan 1 Langkah 2\n",
    "nilai[0][0] = 75;\n",
    "nilai[0][1] = 90;\n",
    "nilai[0][2] = 88;\n",
    "nilai[1][0] = 79;\n",
    "nilai[1][1] = 82;\n",
    "nilai[1][2] = 67;"
   ]
  },
  {
   "cell_type": "markdown",
   "metadata": {},
   "source": [
    "3. Tampilkan semua isi elemen array **nilai**\n",
    "![Gambar 3](images/percobaan1-3.PNG)"
   ]
  },
  {
   "cell_type": "code",
   "execution_count": 6,
   "metadata": {},
   "outputs": [
    {
     "name": "stdout",
     "output_type": "stream",
     "text": [
      "75 90 88\n",
      "79 82 67\n"
     ]
    }
   ],
   "source": [
    "// Tuliskan kode program Percobaan 1 Langkah 2\n",
    "System.out.println(nilai[0][0] + \" \" + nilai[0][1]+\" \"+nilai[0][2]);\n",
    "System.out.println(nilai[1][0] + \" \" + nilai[1][1]+\" \"+nilai[1][2]);"
   ]
  },
  {
   "cell_type": "markdown",
   "metadata": {},
   "source": [
    "#### Pertanyaan\n",
    "1. Apakah pengisian elemen array harus dilakukan secara berurutan mulai dari indeks 0? Jelaskan!"
   ]
  },
  {
   "cell_type": "code",
   "execution_count": null,
   "metadata": {},
   "outputs": [],
   "source": [
    "// Tuliskan jawaban nomor 1\n",
    "Tidak harus, karena meskipun tidak dari indeks 0 tetap akan ditampilkan meskipun diisi sembarang elemen array"
   ]
  },
  {
   "cell_type": "markdown",
   "metadata": {},
   "source": [
    "2. Lakukan modifikasi pada Percobaan 1 Langkah 3 untuk menampilkan semua isi elemen array **nilai** menggunakan perulangan *for*"
   ]
  },
  {
   "cell_type": "code",
   "execution_count": 26,
   "metadata": {},
   "outputs": [
    {
     "name": "stdout",
     "output_type": "stream",
     "text": [
      " 75 90 88 \n",
      " 79 82 67 \n"
     ]
    }
   ],
   "source": [
    "// Tuliskan jawaban nomor 2\n",
    "int [][] nilai = new int[2] [3];\n",
    "nilai[0][0] = 75;\n",
    "nilai[0][1] = 90;\n",
    "nilai[0][2] = 88;\n",
    "nilai[1][0] = 79;\n",
    "nilai[1][1] = 82;\n",
    "nilai[1][2] = 67;\n",
    "for (int i = 0;i < nilai.length;i++) {\n",
    "    for (int j=0; j < nilai[0].length;j++){\n",
    "        System.out.print(\" \"+nilai[i][j]);\n",
    "    }\n",
    "    System.out.println (\" \");\n",
    "}\n",
    "\n",
    "    "
   ]
  },
  {
   "cell_type": "markdown",
   "metadata": {},
   "source": [
    "### Percobaan 2: Mengisi Elemen Array 2 Dimensi Menggunakan Input Keyboard\n",
    "Pada Percobaan 2, kode program yang dibuat digunakan untuk menyimpan nilai rating restoran yang terdaftar pada aplikasi pemesanan makanan online. Rating diberikan oleh 4 orang pengguna kepada 2 restoran yang terdaftar.\n",
    "1. Import dan deklarasikan Scanner dengan nama **sc**\n",
    "![Gambar 4](images/percobaan2-1.jpg)"
   ]
  },
  {
   "cell_type": "code",
   "execution_count": 7,
   "metadata": {},
   "outputs": [],
   "source": [
    "// Tuliskan kode program Percobaan 2 Langkah 1\n",
    "import java.util.Scanner;\n",
    "Scanner sc = new Scanner (System.in);"
   ]
  },
  {
   "cell_type": "markdown",
   "metadata": {},
   "source": [
    "2.\tBuat array bertipe **integer** dengan nama **rating** dengan kapasitas baris 4 elemen (menyatakan jumlah pengguna) dan kolom 2 elemen (menyatakan jumlah restoran)\n",
    "![Gambar 5](images/percobaan2-2.PNG)"
   ]
  },
  {
   "cell_type": "code",
   "execution_count": 43,
   "metadata": {},
   "outputs": [],
   "source": [
    "// Tuliskan kode program Percobaan 2 Langkah 2\n",
    "int [][] rating = new int[4][2];"
   ]
  },
  {
   "cell_type": "markdown",
   "metadata": {},
   "source": [
    "3. Dengan menggunakan perulangan *for*, buat input untuk mengisi elemen array **rating**\n",
    "![Gambar 6](images/percobaan2-3.PNG)"
   ]
  },
  {
   "cell_type": "code",
   "execution_count": 52,
   "metadata": {},
   "outputs": [
    {
     "name": "stdout",
     "output_type": "stream",
     "text": [
      "Masukkan rating pengguna 0 untuk restoran 0 : 9\n",
      "Masukkan rating pengguna 0 untuk restoran 1 : 7\n",
      "Masukkan rating pengguna 0 untuk restoran 2 : 6\n",
      "Masukkan rating pengguna 0 untuk restoran 3 : 5\n",
      "\n",
      "Masukkan rating pengguna 1 untuk restoran 0 : 7\n",
      "Masukkan rating pengguna 1 untuk restoran 1 : 8\n",
      "Masukkan rating pengguna 1 untuk restoran 2 : 9\n",
      "Masukkan rating pengguna 1 untuk restoran 3 : 4\n",
      "\n",
      "Masukkan rating pengguna 2 untuk restoran 0 : 5\n",
      "Masukkan rating pengguna 2 untuk restoran 1 : 6\n",
      "Masukkan rating pengguna 2 untuk restoran 2 : 3\n",
      "Masukkan rating pengguna 2 untuk restoran 3 : 2\n",
      "\n",
      "Masukkan rating pengguna 3 untuk restoran 0 : 3\n",
      "Masukkan rating pengguna 3 untuk restoran 1 : 4\n",
      "Masukkan rating pengguna 3 untuk restoran 2 : 5\n",
      "Masukkan rating pengguna 3 untuk restoran 3 : 6\n",
      "\n",
      "Masukkan rating pengguna 4 untuk restoran 0 : 7\n",
      "Masukkan rating pengguna 4 untuk restoran 1 : 8\n",
      "Masukkan rating pengguna 4 untuk restoran 2 : 9\n",
      "Masukkan rating pengguna 4 untuk restoran 3 : 0\n",
      "\n",
      "Masukkan rating pengguna 5 untuk restoran 0 : 9\n",
      "Masukkan rating pengguna 5 untuk restoran 1 : 7\n",
      "Masukkan rating pengguna 5 untuk restoran 2 : 4\n",
      "Masukkan rating pengguna 5 untuk restoran 3 : 3\n",
      "\n"
     ]
    }
   ],
   "source": [
    "// Tuliskan kode program Percobaan 2 Langkah 3 for (int i =0;i<rating.length;i++) {\n",
    "    for (int i=0; i<rating.length;i++) {\n",
    "        for (int j=0; j<rating[0].length;j++) {\n",
    "        System.out.print(\"Masukkan rating pengguna \" + i +\" untuk restoran \" + j +\" : \");\n",
    "        rating [i] [j] = sc.nextInt();\n",
    "    }\n",
    "    System.out.println(\"\");\n",
    "}\n"
   ]
  },
  {
   "cell_type": "markdown",
   "metadata": {},
   "source": [
    "# 4. Dengan menggunakan perulangan *for-each*, tampilkan semua isi elemen dari array **rating**\n",
    "![Gambar 7](images/percobaan2-4.PNG)"
   ]
  },
  {
   "cell_type": "code",
   "execution_count": 27,
   "metadata": {},
   "outputs": [
    {
     "name": "stdout",
     "output_type": "stream",
     "text": [
      "10 1 \n",
      "2 1 \n",
      "10 9 \n",
      "8 8 \n"
     ]
    }
   ],
   "source": [
    "// Tuliskan kode program Percobaan 2 Langkah 4\n",
    "for (int [] rtg : rating) {\n",
    "    for (int r: rtg){\n",
    "        System.out.print(r +\" \");\n",
    "    }\n",
    "    System.out.println(\"\");\n",
    "}"
   ]
  },
  {
   "cell_type": "markdown",
   "metadata": {},
   "source": [
    "#### Pertanyaan\n",
    "1. Pada Percobaan 2 Langkah 3, dapatkah posisi i ditukar dengan posisi j? Jelaskan alasannya!"
   ]
  },
  {
   "cell_type": "markdown",
   "metadata": {},
   "source": [
    "// Tuliskan jawaban nomor\n",
    "\n",
    "tidak bisa, karena pada percobaan tersebut yang merupakan baris adalah i dan kolomnya adalah j pada rating [i] [j] = sc.nextInt(); jika ditukar menjadi rating [j] [i] = sc.nextInt() maka tidak akan bisa memuat nilainya"
   ]
  },
  {
   "cell_type": "markdown",
   "metadata": {},
   "source": [
    "###### 2. T3\n",
    "Tambahkan33\n",
    "kode program untuk menentukan banyaknya baris dan kolom elemen array secara dinamis (baris dan kolom ditentukan saat program berjalan melalui input keyboard)!"
   ]
  },
  {
   "cell_type": "code",
   "execution_count": 70,
   "metadata": {},
   "outputs": [
    {
     "name": "stdout",
     "output_type": "stream",
     "text": [
      "Masukkan Baris: 2\n",
      "Masukkan Kolom: 2\n",
      "Masukkan Rating pengguna 0 Untuk Restoran 0 :1\n",
      "Masukkan Rating pengguna 0 Untuk Restoran 1 :2\n",
      "Masukkan Rating pengguna 1 Untuk Restoran 0 :3\n",
      "Masukkan Rating pengguna 1 Untuk Restoran 1 :4\n",
      "Jumlah Baris 2\n",
      "Jumalah Kolom 2\n"
     ]
    }
   ],
   "source": [
    "// Tuliskan jawaban nomor 2\n",
    "import java.util.Scanner;\n",
    "Scanner sc = new Scanner (System.in);\n",
    "\n",
    "System.out.print(\"Masukkan Baris: \");\n",
    "int baris = sc.nextInt();\n",
    "System.out.print(\"Masukkan Kolom: \");\n",
    "int kolom = sc.nextInt();\n",
    "\n",
    "int rating[][]= new int[baris][kolom];\n",
    "for(int i=0;i <rating.length;i++){\n",
    "    for(int j=0;j < rating[0].length;j++){\n",
    "    System.out.print(\"Masukkan Rating pengguna \" +i +\" Untuk Restoran \" +j +\" :\");\n",
    "        rating[i][j] = sc.nextInt();\n",
    "    }\n",
    "    System.out.print(\"\");\n",
    "}\n",
    "System.out.println(\"Jumlah Baris \" +rating.length);\n",
    "System.out.println(\"Jumalah Kolom \" +rating[0].length)\n",
    "\n"
   ]
  },
  {
   "cell_type": "markdown",
   "metadata": {},
   "source": [
    "##### Percobaan 3: Melakukan Operasi Aritmatika pada Elemen Array 2 Dimensi\n",
    "Pada Percobaan 3, kode program yang dibuat digunakan untuk menghitung nilai rata-rata harga setiap bahan pokok selama 1 semester. Terdapat 3 bahan pokok yang dicatat harganya setiap akhir bulan. Program dibuat berdasarkan flowchart berikut.\n",
    "![Gambar 8](images/percobaan3.jpg)\n",
    "1. Import dan deklarasikan Scanner dengan nama **sc**\n",
    "![Gambar 9](images/percobaan3-1.jpg)"
   ]
  },
  {
   "cell_type": "code",
   "execution_count": null,
   "metadata": {},
   "outputs": [],
   "source": [
    "// Tuliskan kode program Percobaan 3 Langkah 1\n",
    "import java.util.Scanner;\n",
    "Scanner sc = new Scanner(System.in);"
   ]
  },
  {
   "cell_type": "markdown",
   "metadata": {},
   "source": [
    "2.\tBuat array bertipe **integer** dengan nama **harga** dengan kapasitas baris 3 elemen (menyatakan jumlah bahan pokok) dan kolom 6 elemen (menyatakan jumlah bulan). Deklarasikan juga variabel **total** dan **rata** bertipe **double**\n",
    "![Gambar 10](images/percobaan3-2.PNG)"
   ]
  },
  {
   "cell_type": "code",
   "execution_count": 14,
   "metadata": {},
   "outputs": [],
   "source": [
    "// Tuliskan kode program Percobaan 3 Langkah 2\n",
    "int [][] harga = new int[3][6];\n",
    "double total, rata;"
   ]
  },
  {
   "cell_type": "markdown",
   "metadata": {},
   "source": [
    "3. Dengan menggunakan perulangan *for*, buat input untuk mengisi elemen array **harga**. Kemudian, perhitungan total harga dilakukan untuk setiap bulan (kolom) pada setiap bahan pokok (baris). Setelah itu, nilai rata-rata dihitung untuk setiap bahan pokok (tiap satu baris) dan ditampilkan\n",
    "![Gambar 11](images/percobaan3-3.PNG)"
   ]
  },
  {
   "cell_type": "code",
   "execution_count": 53,
   "metadata": {},
   "outputs": [
    {
     "name": "stdout",
     "output_type": "stream",
     "text": [
      "Masukkan harga [0][0]: 1\n",
      "Masukkan harga [0][1]: 2\n",
      "Masukkan harga [0][2]: 3\n",
      "Masukkan harga [0][3]: 4\n",
      "Masukkan harga [0][4]: 5\n",
      "Masukkan harga [0][5]: 6\n",
      "Rata-rata harga bahan ke-0 adalah 3,50\n",
      "Masukkan harga [1][0]: 7\n",
      "Masukkan harga [1][1]: 8\n",
      "Masukkan harga [1][2]: 9\n",
      "Masukkan harga [1][3]: 10\n",
      "Masukkan harga [1][4]: 11\n",
      "Masukkan harga [1][5]: 13\n",
      "Rata-rata harga bahan ke-1 adalah 9,67\n",
      "Masukkan harga [2][0]: 45\n",
      "Masukkan harga [2][1]: 67\n",
      "Masukkan harga [2][2]: 89\n",
      "Masukkan harga [2][3]: 90\n",
      "Masukkan harga [2][4]: 89\n",
      "Masukkan harga [2][5]: 17\n",
      "Rata-rata harga bahan ke-2 adalah 66,17\n"
     ]
    }
   ],
   "source": [
    "// Tuliskan kode program Percobaan 3 Langkah 3\n",
    "for (int i =0;i<harga.length;i++) {\n",
    "    total = 0;\n",
    "    rata = 0;\n",
    "    for (int j = 0;j<harga[0].length;j++){\n",
    "        System.out.printf(\"Masukkan harga [%d][%d]: \",i , j);\n",
    "        harga[i] [j] = sc.nextInt();\n",
    "        total += harga [i][j] ;         \n",
    "    }\n",
    "    \n",
    "    rata = total/harga[0].length;\n",
    "    System.out.printf(\"Rata-rata harga bahan ke-%d adalah %.2f\\n\",i , rata);\n",
    "\n",
    "/*for (int i =0;i<harga.length;i++) {\n",
    "    for (int j = 0;j<harga[0].length;j++){\n",
    "        System.out.printf(\"Masukkan harga [%d][%d]: \",i , j);\n",
    "        harga[i] [j] = sc.nextInt();\n",
    "        total += harga [i][j] ;         \n",
    "    }\n",
    "        total = 0;\n",
    "    rata = 0;\n",
    "    \n",
    "    rata = total/harga[0].length;\n",
    "    System.out.printf(\"Rata-rata harga bahan ke-%d adalah %.2f\\n\",i , rata);*/\n",
    "}"
   ]
  },
  {
   "cell_type": "markdown",
   "metadata": {},
   "source": [
    "## Pertanyaan\n",
    "1. Jelaskan fungsi dari **rata = total / harga[0].length**!"
   ]
  },
  {
   "cell_type": "code",
   "execution_count": null,
   "metadata": {},
   "outputs": [],
   "source": [
    "// Tuliskan jawaban nomor 1\n",
    "Berfungsi untuk mengoperasikan nilai rata-rata dari total dibagi dengan banyaknya kolom"
   ]
  },
  {
   "cell_type": "markdown",
   "metadata": {},
   "source": [
    "2. Mengapa insialisasi variabel **total = 0** dan **rata = 0** berada di dalam perulangan *for* yang pertama? Menurut Anda, apa yang terjadi jika inisialisasi kedua variabel tersebut diletakkan di luar perulangan *for* (setelah deklarasi array)?\n",
    "\n",
    "JAWABAN\n",
    "\n",
    "Karena jika total = 0 dan rata =0 berada diluar perulangan nilai total akan dimulai dari nol saja tetapi didalam perulangan tidak akan di eksekusi\n"
   ]
  },
  {
   "cell_type": "code",
   "execution_count": null,
   "metadata": {},
   "outputs": [],
   "source": [
    "// Tuliskan jawaban nomor 2\n",
    "import java.util.Scanner;\n",
    "Scanner sc = new Scanner (System.in);\n",
    "\n",
    "System.out.print(\"Masukkan Baris: \")\n",
    "int baris = sc.nextInt();\n",
    "System.out.print(\"Masukkan Kolom: \")\n",
    "int baris = sc.nextInt();\n",
    "\n",
    "for(int i=0;i < baris.length;i++){\n",
    "    for(int i=0;i < kolom.length;i++){\n",
    "    System.out.print()\n",
    "    }\n",
    "    System.out.print(\"\")\n",
    "}\n"
   ]
  },
  {
   "cell_type": "markdown",
   "metadata": {},
   "source": [
    "## Tugas"
   ]
  },
  {
   "cell_type": "markdown",
   "metadata": {},
   "source": [
    "1. Perhatikan flowchart berikut.\n",
    "![Gambar 12](images/tugas-1.jpg)\n",
    "Buat kode program sesuai dengan flowchart tersebut untuk mencari suhu tertinggi yang dicatat dari 5 kota di Jepang selama 7 hari berturut-turut!"
   ]
  },
  {
   "cell_type": "code",
   "execution_count": 81,
   "metadata": {},
   "outputs": [
    {
     "name": "stdout",
     "output_type": "stream",
     "text": [
      "Masukkan Suhu[0][0]: 12\n",
      "Masukkan Suhu[0][1]: 13\n",
      "Masukkan Suhu[0][2]: 14\n",
      "Masukkan Suhu[0][3]: 23\n",
      "Masukkan Suhu[0][4]: 56\n",
      "Masukkan Suhu[0][5]: 34\n",
      "Masukkan Suhu[0][6]: 56\n",
      " \n",
      "Masukkan Suhu[1][0]: 78\n",
      "Masukkan Suhu[1][1]: 34\n",
      "Masukkan Suhu[1][2]: 23\n",
      "Masukkan Suhu[1][3]: 16\n",
      "Masukkan Suhu[1][4]: 13\n",
      "Masukkan Suhu[1][5]: 15\n",
      "Masukkan Suhu[1][6]: 13\n",
      " \n",
      "Masukkan Suhu[2][0]: 15\n",
      "Masukkan Suhu[2][1]: 15\n",
      "Masukkan Suhu[2][2]: 35\n",
      "Masukkan Suhu[2][3]: 24\n",
      "Masukkan Suhu[2][4]: 67\n",
      "Masukkan Suhu[2][5]: 24\n",
      "Masukkan Suhu[2][6]: 24\n",
      " \n",
      "Masukkan Suhu[3][0]: 24\n",
      "Masukkan Suhu[3][1]: 245\n",
      "Masukkan Suhu[3][2]: 67\n",
      "Masukkan Suhu[3][3]: 78\n",
      "Masukkan Suhu[3][4]: 64\n",
      "Masukkan Suhu[3][5]: 44\n",
      "Masukkan Suhu[3][6]: 12\n",
      " \n",
      "Masukkan Suhu[4][0]: 34\n",
      "Masukkan Suhu[4][1]: 56\n",
      "Masukkan Suhu[4][2]: 89\n",
      "Masukkan Suhu[4][3]: 57\n",
      "Masukkan Suhu[4][4]: 89\n",
      "Masukkan Suhu[4][5]: 100\n",
      "Masukkan Suhu[4][6]: 12\n",
      " \n",
      "Suhu Tertinggi dari 5 kota di Jepang selama 7 hari : 245.0"
     ]
    }
   ],
   "source": [
    "// Tuliskan jawaban nomor 1\n",
    "import java.util.Scanner;\n",
    "Scanner sc = new Scanner(System.in);\n",
    "double suhu[][] = new double[5][7];\n",
    "int x,y ;\n",
    "double max=0;\n",
    "for (x=0; x<suhu.length;x++){\n",
    "    for (y=0;y<suhu[0].length;y++){\n",
    "        System.out.printf(\"Masukkan Suhu[%d][%d]: \",x , y);\n",
    "            suhu [x][y] = sc.nextDouble();\n",
    "        if(suhu[x][y] > max){\n",
    "            max =suhu[x][y];\n",
    "        }\n",
    "              \n",
    "    }\n",
    "    System.out.println(\" \");        \n",
    "}\n",
    "System.out.print(\"Suhu Tertinggi dari 5 kota di Jepang selama 7 hari : \"+max)\n"
   ]
  },
  {
   "cell_type": "markdown",
   "metadata": {},
   "source": [
    "## 2. Terdapat hasil pencatatan data lima mahasiswa yang berisi informasi mengenai umur, berat badan (kg), dan tinggi badan (cm). Data tersebut disimpan ke dalam array dua dimensi.\n",
    "![Gambar 13](images/tugas-2.PNG)\n",
    "*Keterangan: penyimpanan nilai dapat dilakukan melalui inisialisasi menggunakan operator assignment*\n",
    " * Tampilkan *berat badan terendah* di antara kelima mahasiswa tersebut\n",
    " * Tampilkan *rata-rata tinggi badan* dari kelima mahasiswa tersebut\n",
    " * Tampilkan nama mahasiswa dengan *umur tertua* di antara kelima mahasiswa tersebut"
   ]
  },
  {
   "cell_type": "code",
   "execution_count": 80,
   "metadata": {},
   "outputs": [
    {
     "name": "stdout",
     "output_type": "stream",
     "text": [
      "Berat badan terendah mahasiswa yaitu : 45\n",
      "Total tinggi badan yaitu : 789.0\n",
      "Rata-rata tinggi badan dari kelima mahasiswa tersebut yaitu : 157.8\n",
      "Umur tertua yaitu umur : 20 bernama : Beky\n"
     ]
    }
   ],
   "source": [
    "// Tuliskan jawaban nomor 2\n",
    "\n",
    "import java.util.Scanner;\n",
    "Scanner sc = new Scanner(System.in);\n",
    "int i,j;\n",
    "int [][] data = {{19,51,155},{18,55,163},{18,45,153},{20,46,158},{19,58,160}};\n",
    "int min = 100;\n",
    "int indeks;\n",
    "int tua=0;\n",
    "double totalTinggiBadan = 0;\n",
    "double rataTinggiBadan = 0;\n",
    "String[] nama = {\"Desi\", \"Rofan\", \"Lala\", \"Beky\", \"Ega\"};\n",
    "for(i=0; i<data.length; i++){\n",
    " for(j=0; j<data[1].length; j++){\n",
    " if(data[i][1] < min){\n",
    " min = data[i][1];\n",
    " }\n",
    " }\n",
    "}\n",
    "for(i=0; i<data.length; i++){\n",
    " for(j=0; j<data[0].length; j++){\n",
    " if(j == 2)\n",
    " totalTinggiBadan += data[i][j];\n",
    " }\n",
    "}\n",
    "for(i=0; i<data.length; i++){\n",
    " for(j=0; j<data[0].length; j++){\n",
    " if(data[i][0] > tua){\n",
    " tua = data[i][0];\n",
    " indeks = i;\n",
    " }\n",
    " }\n",
    "}\n",
    "System.out.println(\"Berat badan terendah mahasiswa yaitu : \" + min);\n",
    "rataTinggiBadan = totalTinggiBadan / data.length;\n",
    "System.out.println(\"Total tinggi badan yaitu : \" + totalTinggiBadan);\n",
    "System.out.println(\"Rata-rata tinggi badan dari kelima mahasiswa tersebut yaitu : \" + rataTinggiBadan);\n",
    "System.out.println(\"Umur tertua yaitu umur : \" + tua +\" bernama : \" + nama[indeks]);\n"
   ]
  },
  {
   "cell_type": "code",
   "execution_count": null,
   "metadata": {},
   "outputs": [],
   "source": []
  }
 ],
 "metadata": {
  "kernelspec": {
   "display_name": "Java",
   "language": "java",
   "name": "java"
  },
  "language_info": {
   "codemirror_mode": "java",
   "file_extension": ".jshell",
   "mimetype": "text/x-java-source",
   "name": "Java",
   "pygments_lexer": "java",
   "version": "11.0.12+8-LTS-237"
  }
 },
 "nbformat": 4,
 "nbformat_minor": 4
}
