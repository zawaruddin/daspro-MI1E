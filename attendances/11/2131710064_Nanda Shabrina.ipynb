{
 "cells": [
  {
   "cell_type": "markdown",
   "metadata": {},
   "source": [
    "NANDA SHABRINA PUTRI KURNIA\n",
    "15/MI-1E/2131710064\n",
    "\n",
    "\n",
    "# JOBSHEET 11. ARRAY 2"
   ]
  },
  {
   "cell_type": "markdown",
   "metadata": {},
   "source": [
    "## Tujuan\n",
    "* Mahasiswa mampu memahami pembuatan array dua dimensi\n",
    "* Mahasiswa mampu menyelesaikan studi kasus dengan memanfaatkan array dua dimensi"
   ]
  },
  {
   "cell_type": "markdown",
   "metadata": {},
   "source": [
    "## Alat dan Bahan\n",
    "* PC/Laptop\n",
    "* Browser\n",
    "* Koneksi internet\n",
    "* Anaconda3 + Java kernel (opsional)"
   ]
  },
  {
   "cell_type": "markdown",
   "metadata": {},
   "source": [
    "## Praktikum"
   ]
  },
  {
   "cell_type": "markdown",
   "metadata": {},
   "source": [
    "### Percobaan 1: Deklarasi, Inisialisasi, dan Menampilkan Array 2 Dimensi\n",
    "Pada Percobaan 1, kode program yang dibuat digunakan untuk menyimpan nilai praktikum dari 2 orang mahasiswa pada 3 mata kuliah yang berbeda.\n",
    "1.\tBuat array bertipe **integer** dengan nama **nilai** dengan kapasitas baris 2 elemen (menyatakan jumlah mahasiswa) dan kolom 3 elemen (menyatakan jumlah mata kuliah)\n",
    "![Gambar 1](images/percobaan1-1.PNG)"
   ]
  },
  {
   "cell_type": "code",
   "execution_count": 1,
   "metadata": {},
   "outputs": [],
   "source": [
    "// Tuliskan kode program Percobaan 1 Langkah 1\n",
    "int[][] nilai=new int[2][3];"
   ]
  },
  {
   "cell_type": "markdown",
   "metadata": {},
   "source": [
    "2. Isi masing-masing elemen array **nilai** sebagai berikut:\n",
    "![Gambar 2](images/percobaan1-2.PNG)"
   ]
  },
  {
   "cell_type": "code",
   "execution_count": 2,
   "metadata": {},
   "outputs": [
    {
     "data": {
      "text/plain": [
       "67"
      ]
     },
     "execution_count": 2,
     "metadata": {},
     "output_type": "execute_result"
    }
   ],
   "source": [
    "// Tuliskan kode program Percobaan 1 Langkah 2\n",
    "nilai[0][0] = 75;\n",
    "nilai[0][1] = 90;\n",
    "nilai[0][2] = 88;\n",
    "nilai[1][0] = 79;\n",
    "nilai[1][1] = 82;\n",
    "nilai[1][2] = 67;"
   ]
  },
  {
   "cell_type": "markdown",
   "metadata": {},
   "source": [
    "3. Tampilkan semua isi elemen array **nilai**\n",
    "![Gambar 3](images/percobaan1-3.PNG)"
   ]
  },
  {
   "cell_type": "code",
   "execution_count": 49,
   "metadata": {},
   "outputs": [
    {
     "name": "stdout",
     "output_type": "stream",
     "text": [
      "75 90 88\n",
      "79 82 67\n"
     ]
    }
   ],
   "source": [
    "// Tuliskan kode program Percobaan 1 Langkah 2\n",
    "System.out.println(nilai[0][0]+\" \"+nilai[0][1]+\" \"+nilai[0][2]);\n",
    "System.out.println(nilai[1][0]+\" \"+nilai[1][1]+\" \"+nilai[1][2]);"
   ]
  },
  {
   "cell_type": "markdown",
   "metadata": {},
   "source": [
    "#### Pertanyaan\n",
    "1. Apakah pengisian elemen array harus dilakukan secara berurutan mulai dari indeks 0? Jelaskan!"
   ]
  },
  {
   "cell_type": "markdown",
   "metadata": {},
   "source": [
    "#### Jawaban\n",
    "Pengisian elemen tidak harus urut dari indeks 0. Pengisian elemen dapat dilakukan secara acak, yang penting ialah ketika mengisikan nilai elemen indeksnya harus sesuai. Jika ingin mengisi elemen tanpa menyertakan indeks, maka harus urut dalam mengisi."
   ]
  },
  {
   "cell_type": "markdown",
   "metadata": {},
   "source": [
    "2. Lakukan modifikasi pada Percobaan 1 Langkah 3 untuk menampilkan semua isi elemen array **nilai** menggunakan perulangan *for*"
   ]
  },
  {
   "cell_type": "code",
   "execution_count": 4,
   "metadata": {},
   "outputs": [
    {
     "name": "stdout",
     "output_type": "stream",
     "text": [
      "75 90 88 79 82 67 "
     ]
    }
   ],
   "source": [
    "// Tuliskan jawaban nomor 2\n",
    "int[][] nilai={\n",
    "    {75, 90, 88},\n",
    "    {79, 82, 67},\n",
    "};\n",
    "for(int i=0 ; i<nilai.length ; i++){\n",
    "    for(int j=0 ; j<nilai[0].length ; j++){\n",
    "        System.out.print(nilai[i][j]+\" \");\n",
    "    }\n",
    "}"
   ]
  },
  {
   "cell_type": "markdown",
   "metadata": {},
   "source": [
    "### Percobaan 2: Mengisi Elemen Array 2 Dimensi Menggunakan Input Keyboard\n",
    "Pada Percobaan 2, kode program yang dibuat digunakan untuk menyimpan nilai rating restoran yang terdaftar pada aplikasi pemesanan makanan online. Rating diberikan oleh 4 orang pengguna kepada 2 restoran yang terdaftar.\n",
    "1. Import dan deklarasikan Scanner dengan nama **sc**\n",
    "![Gambar 4](images/percobaan2-1.jpg)"
   ]
  },
  {
   "cell_type": "code",
   "execution_count": 5,
   "metadata": {},
   "outputs": [],
   "source": [
    "// Tuliskan kode program Percobaan 2 Langkah 1\n",
    "import java.util.Scanner;\n",
    "Scanner sc = new Scanner(System.in);"
   ]
  },
  {
   "cell_type": "markdown",
   "metadata": {},
   "source": [
    "2.\tBuat array bertipe **integer** dengan nama **rating** dengan kapasitas baris 4 elemen (menyatakan jumlah pengguna) dan kolom 2 elemen (menyatakan jumlah restoran)\n",
    "![Gambar 5](images/percobaan2-2.PNG)"
   ]
  },
  {
   "cell_type": "code",
   "execution_count": 6,
   "metadata": {},
   "outputs": [],
   "source": [
    "// Tuliskan kode program Percobaan 2 Langkah 2\n",
    "int[][] rating = new int[4][2];"
   ]
  },
  {
   "cell_type": "markdown",
   "metadata": {},
   "source": [
    "3. Dengan menggunakan perulangan *for*, buat input untuk mengisi elemen array **rating**\n",
    "![Gambar 6](images/percobaan2-3.PNG)"
   ]
  },
  {
   "cell_type": "code",
   "execution_count": 7,
   "metadata": {},
   "outputs": [
    {
     "name": "stdout",
     "output_type": "stream",
     "text": [
      "Masukkan rating pengguna 0 untuk restoran 0 : 3\n",
      "Masukkan rating pengguna 0 untuk restoran 1 : 3\n",
      "\n",
      "Masukkan rating pengguna 1 untuk restoran 0 : 3\n",
      "Masukkan rating pengguna 1 untuk restoran 1 : 3\n",
      "\n",
      "Masukkan rating pengguna 2 untuk restoran 0 : 3\n",
      "Masukkan rating pengguna 2 untuk restoran 1 : 3\n",
      "\n",
      "Masukkan rating pengguna 3 untuk restoran 0 : 3\n",
      "Masukkan rating pengguna 3 untuk restoran 1 : 3\n",
      "\n"
     ]
    }
   ],
   "source": [
    "// Tuliskan kode program Percobaan 2 Langkah 3\n",
    "for(int i=0 ; i<rating.length ; i++){\n",
    "    for(int j=0 ; j<rating[0].length ; j++){\n",
    "        System.out.print(\"Masukkan rating pengguna \"+i+\" untuk restoran \"+j+\" : \");\n",
    "        rating[i][j] = sc.nextInt();\n",
    "    }\n",
    "    System.out.println(\"\");\n",
    "}"
   ]
  },
  {
   "cell_type": "markdown",
   "metadata": {},
   "source": [
    "4. Dengan menggunakan perulangan *for-each*, tampilkan semua isi elemen dari array **rating**\n",
    "![Gambar 7](images/percobaan2-4.PNG)"
   ]
  },
  {
   "cell_type": "code",
   "execution_count": 8,
   "metadata": {},
   "outputs": [
    {
     "name": "stdout",
     "output_type": "stream",
     "text": [
      "3  3   \n",
      "3  3   \n",
      "3  3   \n",
      "3  3   \n"
     ]
    }
   ],
   "source": [
    "// Tuliskan kode program Percobaan 2 Langkah 4\n",
    "for(int[] rtg : rating){\n",
    "    for(int r : rtg){\n",
    "        System.out.print(r+\"  \");\n",
    "    }\n",
    "    System.out.println(\" \");\n",
    "}"
   ]
  },
  {
   "cell_type": "markdown",
   "metadata": {},
   "source": [
    "#### Pertanyaan\n",
    "1. Pada Percobaan 2 Langkah 3, dapatkah posisi i ditukar dengan posisi j? Jelaskan alasannya!"
   ]
  },
  {
   "cell_type": "code",
   "execution_count": 9,
   "metadata": {},
   "outputs": [
    {
     "name": "stdout",
     "output_type": "stream",
     "text": [
      "Masukkan rating pengguna 0 untuk restoran 0 : 3\n",
      "Masukkan rating pengguna 0 untuk restoran 1 : 2\n",
      "\n",
      "Masukkan rating pengguna 1 untuk restoran 0 : 4\n",
      "Masukkan rating pengguna 1 untuk restoran 1 : 5\n",
      "\n",
      "Masukkan rating pengguna 2 untuk restoran 0 : 6\n"
     ]
    },
    {
     "ename": "EvalException",
     "evalue": "Index 2 out of bounds for length 2",
     "output_type": "error",
     "traceback": [
      "\u001b[1m\u001b[31m---------------------------------------------------------------------------\u001b[0m",
      "\u001b[1m\u001b[31mjava.lang.ArrayIndexOutOfBoundsException: Index 2 out of bounds for length 2\u001b[0m",
      "\u001b[1m\u001b[31m\tat .(#27:5)\u001b[0m"
     ]
    }
   ],
   "source": [
    "// Tuliskan jawaban pertanyaan 1\n",
    "for(int i=0 ; i<rating.length ; i++){\n",
    "    for(int j=0 ; j<rating[0].length ; j++){\n",
    "        System.out.print(\"Masukkan rating pengguna \"+i+\" untuk restoran \"+j+\" : \");\n",
    "        rating[j][i] = sc.nextInt();\n",
    "    }\n",
    "    System.out.println(\"\");\n",
    "}"
   ]
  },
  {
   "cell_type": "markdown",
   "metadata": {},
   "source": [
    "#### Jawaban\n",
    "Jika kode langkah 3 pada percobaan 2 : mengganti i dengan j pada input, program akan bekerja terbalik, sehingga dibandingkan mengganti i dan j, akan lebih baik jika mengisikan i dengan indeks j. Atau, jika ingin mengganti i dan j, seluruh variabel i dan j diganti, maka program akan tetap berjalan seperti awal."
   ]
  },
  {
   "cell_type": "markdown",
   "metadata": {},
   "source": [
    "2. Tambahkan kode program untuk menentukan banyaknya baris dan kolom elemen array secara dinamis (baris dan kolom ditentukan saat program berjalan melalui input keyboard)!"
   ]
  },
  {
   "cell_type": "code",
   "execution_count": 10,
   "metadata": {},
   "outputs": [
    {
     "name": "stdout",
     "output_type": "stream",
     "text": [
      "Masukkan baris: 3\n",
      "Masukkan kolom: 2\n",
      "Masukkan rating pengguna 0 untuk restoran 0 : 1\n",
      "Masukkan rating pengguna 0 untuk restoran 1 : 2\n",
      "\n",
      "Masukkan rating pengguna 1 untuk restoran 0 : 3\n",
      "Masukkan rating pengguna 1 untuk restoran 1 : 4\n",
      "\n",
      "Masukkan rating pengguna 2 untuk restoran 0 : 5\n",
      "Masukkan rating pengguna 2 untuk restoran 1 : 6\n",
      "\n",
      "1  2   \n",
      "3  4   \n",
      "5  6   \n"
     ]
    }
   ],
   "source": [
    "// Tuliskan jawaban nomor 2\n",
    "import java.util.Scanner;\n",
    "Scanner sc = new Scanner(System.in);\n",
    "int[][] rating;\n",
    "int baris, kolom;\n",
    "System.out.print(\"Masukkan baris: \");\n",
    "baris = sc.nextInt();\n",
    "System.out.print(\"Masukkan kolom: \");\n",
    "kolom = sc.nextInt();\n",
    "int [][]rating = new int[baris][kolom];\n",
    "for(int i=0 ; i<rating.length ; i++){\n",
    "    for(int j=0 ; j<rating[0].length ; j++){\n",
    "        System.out.print(\"Masukkan rating pengguna \"+i+\" untuk restoran \"+j+\" : \");\n",
    "        rating[i][j] = sc.nextInt();\n",
    "    }\n",
    "    System.out.println(\"\");\n",
    "}\n",
    "for(int[] rtg : rating){\n",
    "    for(int r : rtg){\n",
    "        System.out.print(r+\"  \");\n",
    "    }\n",
    "    System.out.println(\" \");\n",
    "}"
   ]
  },
  {
   "cell_type": "markdown",
   "metadata": {},
   "source": [
    "### Percobaan 3: Melakukan Operasi Aritmatika pada Elemen Array 2 Dimensi\n",
    "Pada Percobaan 3, kode program yang dibuat digunakan untuk menghitung nilai rata-rata harga setiap bahan pokok selama 1 semester. Terdapat 3 bahan pokok yang dicatat harganya setiap akhir bulan. Program dibuat berdasarkan flowchart berikut.\n",
    "![Gambar 8](images/percobaan3.jpg)\n",
    "1. Import dan deklarasikan Scanner dengan nama **sc**\n",
    "![Gambar 9](images/percobaan3-1.jpg)"
   ]
  },
  {
   "cell_type": "code",
   "execution_count": 11,
   "metadata": {},
   "outputs": [],
   "source": [
    "// Tuliskan kode program Percobaan 3 Langkah 1\n",
    "import java.util.Scanner;\n",
    "Scanner sc = new Scanner(System.in);"
   ]
  },
  {
   "cell_type": "markdown",
   "metadata": {},
   "source": [
    "2.\tBuat array bertipe **integer** dengan nama **harga** dengan kapasitas baris 3 elemen (menyatakan jumlah bahan pokok) dan kolom 6 elemen (menyatakan jumlah bulan). Deklarasikan juga variabel **total** dan **rata** bertipe **double**\n",
    "![Gambar 10](images/percobaan3-2.PNG)"
   ]
  },
  {
   "cell_type": "code",
   "execution_count": 12,
   "metadata": {},
   "outputs": [],
   "source": [
    "// Tuliskan kode program Percobaan 3 Langkah 2\n",
    "int[][] harga = new int[3][6];\n",
    "double total, rata;"
   ]
  },
  {
   "cell_type": "markdown",
   "metadata": {},
   "source": [
    "3. Dengan menggunakan perulangan *for*, buat input untuk mengisi elemen array **harga**. Kemudian, perhitungan total harga dilakukan untuk setiap bulan (kolom) pada setiap bahan pokok (baris). Setelah itu, nilai rata-rata dihitung untuk setiap bahan pokok (tiap satu baris) dan ditampilkan\n",
    "![Gambar 11](images/percobaan3-3.PNG)"
   ]
  },
  {
   "cell_type": "code",
   "execution_count": 13,
   "metadata": {},
   "outputs": [
    {
     "name": "stdout",
     "output_type": "stream",
     "text": [
      "Masukkan harga[0][0]: 1000\n",
      "Masukkan harga[0][1]: 1000\n",
      "Masukkan harga[0][2]: 1000\n",
      "Masukkan harga[0][3]: 2000\n",
      "Masukkan harga[0][4]: 2000\n",
      "Masukkan harga[0][5]: 2000\n",
      "Rata-rata harga bahan ke-0 adalah 9000.00\n",
      "Masukkan harga[1][0]: 3000\n",
      "Masukkan harga[1][1]: 3000\n",
      "Masukkan harga[1][2]: 3000\n",
      "Masukkan harga[1][3]: 2000\n",
      "Masukkan harga[1][4]: 2000\n",
      "Masukkan harga[1][5]: 2000\n",
      "Rata-rata harga bahan ke-1 adalah 15000.00\n",
      "Masukkan harga[2][0]: 1000\n",
      "Masukkan harga[2][1]: 4000\n",
      "Masukkan harga[2][2]: 4000\n",
      "Masukkan harga[2][3]: 2000\n",
      "Masukkan harga[2][4]: 3000\n",
      "Masukkan harga[2][5]: 4000\n",
      "Rata-rata harga bahan ke-2 adalah 18000.00\n"
     ]
    }
   ],
   "source": [
    "// Tuliskan kode program Percobaan 3 Langkah 3\n",
    "for(int i=0 ; i<harga.length ; i++){\n",
    "    total = 0;\n",
    "    rata = 0;\n",
    "    for(int j=0 ; j<harga[0].length; j++){\n",
    "        System.out.printf(\"Masukkan harga[%d][%d]: \", i, j);\n",
    "        harga[i][j] = sc.nextInt();\n",
    "        total+=harga[i][j];\n",
    "    }\n",
    "    rata=total/harga[0].length;\n",
    "    System.out.printf(\"Rata-rata harga bahan ke-%d adalah %.2f\\n\", i, total);\n",
    "}"
   ]
  },
  {
   "cell_type": "markdown",
   "metadata": {},
   "source": [
    "#### Pertanyaan\n",
    "1. Jelaskan fungsi dari **rata = total / harga[0].length**!"
   ]
  },
  {
   "cell_type": "markdown",
   "metadata": {},
   "source": [
    "#### Jawaban\n",
    "kode tersebut berfungsi sebagai sebuah proses atau rumus rata dari total barang ketiga barang. Di mana barang tersebut diinstansiasikan sebagai kolom, singkatnya, kode tersebut menampilkan rata-rata dari masing-masing kolom."
   ]
  },
  {
   "cell_type": "markdown",
   "metadata": {},
   "source": [
    "2. Mengapa insialisasi variabel **total = 0** dan **rata = 0** berada di dalam perulangan *for* yang pertama? Menurut Anda, apa yang terjadi jika inisialisasi kedua variabel tersebut diletakkan di luar perulangan *for* (setelah deklarasi array)?"
   ]
  },
  {
   "cell_type": "markdown",
   "metadata": {},
   "source": [
    "#### Jawaban\n",
    "Inisialisasi tersebut diletakkan di perulangan pertama sebagai nilai awal yakni 0. Sehingga ketika ditimpa dengan nilai perulangan 2, nilainya akan sesuai ketika dilakukan proses penambahan dan rata. Sedangkan, jika kode tersebut diletakkan di luar perulangan, maka yang akan terjadi adalah nilai yang telah diisikan di perulangan sebelumnya akan tertimpa dengan 0. Sehingga nilai yang ditampilkan tidak sesuai, atau bernilai 0."
   ]
  },
  {
   "cell_type": "markdown",
   "metadata": {},
   "source": [
    "## Tugas"
   ]
  },
  {
   "cell_type": "markdown",
   "metadata": {},
   "source": [
    "1. Perhatikan flowchart berikut.\n",
    "![Gambar 12](images/tugas-1.jpg)\n",
    "Buat kode program sesuai dengan flowchart tersebut untuk mencari suhu tertinggi yang dicatat dari 5 kota di Jepang selama 7 hari berturut-turut!"
   ]
  },
  {
   "cell_type": "code",
   "execution_count": 14,
   "metadata": {},
   "outputs": [
    {
     "name": "stdout",
     "output_type": "stream",
     "text": [
      "Masukkan suhu: 00: 11\n",
      "Masukkan suhu: 01: 11\n",
      "Masukkan suhu: 02: 11\n",
      "Masukkan suhu: 03: 11\n",
      "Masukkan suhu: 04: 11\n",
      "Masukkan suhu: 05: 11\n",
      "Masukkan suhu: 06: 21\n",
      "Masukkan suhu: 10: 11\n",
      "Masukkan suhu: 11: 11\n",
      "Masukkan suhu: 12: 11\n",
      "Masukkan suhu: 13: 11\n",
      "Masukkan suhu: 14: 11\n",
      "Masukkan suhu: 15: 11\n",
      "Masukkan suhu: 16: 11\n",
      "Masukkan suhu: 20: 11\n",
      "Masukkan suhu: 21: 31\n",
      "Masukkan suhu: 22: 11\n",
      "Masukkan suhu: 23: 11\n",
      "Masukkan suhu: 24: 11\n",
      "Masukkan suhu: 25: 11\n",
      "Masukkan suhu: 26: 11\n",
      "Masukkan suhu: 30: 11\n",
      "Masukkan suhu: 31: 11\n",
      "Masukkan suhu: 32: 11\n",
      "Masukkan suhu: 33: 11\n",
      "Masukkan suhu: 34: 11\n",
      "Masukkan suhu: 35: 11\n",
      "Masukkan suhu: 36: 11\n",
      "Masukkan suhu: 40: 11\n",
      "Masukkan suhu: 41: 11\n",
      "Masukkan suhu: 42: 11\n",
      "Masukkan suhu: 43: 11\n",
      "Masukkan suhu: 44: 11\n",
      "Masukkan suhu: 45: 11\n",
      "Masukkan suhu: 46: 11\n",
      "Suhu tertinggi ialah: 31.0\n"
     ]
    }
   ],
   "source": [
    "// Tuliskan jawaban nomor 1\n",
    "import java.util.Scanner;\n",
    "Scanner input = new Scanner(System.in);\n",
    "double [][]suhu = new double[5][7];\n",
    "int x,y;\n",
    "double max = 0;\n",
    "for(int x=0 ; x<suhu.length ; x++){\n",
    "    for(int y=0 ; y<suhu[0].length ; y++){\n",
    "        System.out.print(\"Masukkan suhu: \"+x+y+\": \");\n",
    "        suhu[x][y]=input.nextDouble();\n",
    "        if(suhu[x][y]>max){\n",
    "            max = suhu[x][y];\n",
    "        }\n",
    "    }\n",
    "}\n",
    "System.out.println(\"Suhu tertinggi ialah: \"+max);"
   ]
  },
  {
   "cell_type": "markdown",
   "metadata": {},
   "source": [
    "2. Terdapat hasil pencatatan data lima mahasiswa yang berisi informasi mengenai umur, berat badan (kg), dan tinggi badan (cm). Data tersebut disimpan ke dalam array dua dimensi.\n",
    "![Gambar 13](images/tugas-2.PNG)\n",
    "*Keterangan: penyimpanan nilai dapat dilakukan melalui inisialisasi menggunakan operator assignment*\n",
    " * Tampilkan *berat badan terendah* di antara kelima mahasiswa tersebut\n",
    " * Tampilkan *rata-rata tinggi badan* dari kelima mahasiswa tersebut\n",
    " * Tampilkan nama mahasiswa dengan *umur tertua* di antara kelima mahasiswa tersebut"
   ]
  },
  {
   "cell_type": "code",
   "execution_count": 48,
   "metadata": {},
   "outputs": [
    {
     "name": "stdout",
     "output_type": "stream",
     "text": [
      "Berat badan terendah di antara kelima mahasiswa : 45\n",
      "Rata-rata tinggi badan lima mahasiswa : 157\n",
      "Beky memiliki umur tertua, yaitu 20\n"
     ]
    }
   ],
   "source": [
    "String a[]={\"Desi\",\"Rofan\",\"Lala\",\"Beky\",\"Ega\"};\n",
    "int x[][] = {\n",
    "    {19, 51, 155},\n",
    "    {18, 55, 163},\n",
    "    {18, 45, 153},\n",
    "    {20, 46, 158},\n",
    "    {19, 58, 160},\n",
    "};\n",
    "int min=200, avg, max=0, total;\n",
    "String tua;\n",
    "for(int i=0 ; i<x.length ; i++){\n",
    "    for(int j=0 ; j<x[0].length ; j++){\n",
    "        if(x[i][1]<min){\n",
    "        min = x[i][1];\n",
    "        }\n",
    "        if(x[i][0]>max){\n",
    "        max = x[i][0];\n",
    "        tua = a[i];\n",
    "        }\n",
    "        if(j==2)\n",
    "        total+=x[i][j];\n",
    "    }\n",
    "}\n",
    "avg = total/5;\n",
    "System.out.println(\"Berat badan terendah di antara kelima mahasiswa : \"+min);\n",
    "System.out.println(\"Rata-rata tinggi badan lima mahasiswa : \"+avg);\n",
    "System.out.println(tua+\" memiliki umur tertua, yaitu \"+max);"
   ]
  }
 ],
 "metadata": {
  "kernelspec": {
   "display_name": "Java",
   "language": "java",
   "name": "java"
  },
  "language_info": {
   "codemirror_mode": "java",
   "file_extension": ".jshell",
   "mimetype": "text/x-java-source",
   "name": "Java",
   "pygments_lexer": "java",
   "version": "11.0.12+8-LTS-237"
  }
 },
 "nbformat": 4,
 "nbformat_minor": 4
}
