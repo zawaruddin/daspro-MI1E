{
 "cells": [
  {
   "cell_type": "markdown",
   "metadata": {},
   "source": [
    "# JOBSHEET 11. ARRAY 2"
   ]
  },
  {
   "cell_type": "markdown",
   "metadata": {},
   "source": [
    "## Tujuan\n",
    "* Mahasiswa mampu memahami pembuatan array dua dimensi\n",
    "* Mahasiswa mampu menyelesaikan studi kasus dengan memanfaatkan array dua dimensi"
   ]
  },
  {
   "cell_type": "markdown",
   "metadata": {},
   "source": [
    "## Alat dan Bahan\n",
    "* PC/Laptop\n",
    "* Browser\n",
    "* Koneksi internet\n",
    "* Anaconda3 + Java kernel (opsional)"
   ]
  },
  {
   "cell_type": "markdown",
   "metadata": {},
   "source": [
    "## Praktikum"
   ]
  },
  {
   "cell_type": "markdown",
   "metadata": {},
   "source": [
    "### Percobaan 1: Deklarasi, Inisialisasi, dan Menampilkan Array 2 Dimensi\n",
    "Pada Percobaan 1, kode program yang dibuat digunakan untuk menyimpan nilai praktikum dari 2 orang mahasiswa pada 3 mata kuliah yang berbeda.\n",
    "1.\tBuat array bertipe **integer** dengan nama **nilai** dengan kapasitas baris 2 elemen (menyatakan jumlah mahasiswa) dan kolom 3 elemen (menyatakan jumlah mata kuliah)\n",
    "![Gambar 1](images/percobaan1-1.PNG)"
   ]
  },
  {
   "cell_type": "code",
   "execution_count": 4,
   "metadata": {},
   "outputs": [],
   "source": [
    "// Tuliskan kode program Percobaan 1 Langkah 1\n",
    "int[][] nilai = new int [2][3];"
   ]
  },
  {
   "cell_type": "markdown",
   "metadata": {},
   "source": [
    "2. Isi masing-masing elemen array **nilai** sebagai berikut:\n",
    "![Gambar 2](images/percobaan1-2.PNG)"
   ]
  },
  {
   "cell_type": "code",
   "execution_count": 5,
   "metadata": {},
   "outputs": [
    {
     "data": {
      "text/plain": [
       "67"
      ]
     },
     "execution_count": 5,
     "metadata": {},
     "output_type": "execute_result"
    }
   ],
   "source": [
    "// Tuliskan kode program Percobaan 1 Langkah 2\n",
    "nilai[0][0] = 75;\n",
    "nilai[0][1] = 90;\n",
    "nilai[0][2] = 88;\n",
    "nilai[1][0] = 79;\n",
    "nilai[1][1] = 82;\n",
    "nilai[1][2] = 67;"
   ]
  },
  {
   "cell_type": "markdown",
   "metadata": {},
   "source": [
    "3. Tampilkan semua isi elemen array **nilai**\n",
    "![Gambar 3](images/percobaan1-3.PNG)"
   ]
  },
  {
   "cell_type": "code",
   "execution_count": 6,
   "metadata": {},
   "outputs": [
    {
     "name": "stdout",
     "output_type": "stream",
     "text": [
      "75 90 88\n",
      "79 82 67\n"
     ]
    }
   ],
   "source": [
    "// Tuliskan kode program Percobaan 1 Langkah 2\n",
    "System.out.println(nilai[0][0] + \" \" + nilai [0][1] + \" \" + nilai[0][2]);\n",
    "System.out.println(nilai[1][0] + \" \" + nilai [1][1] + \" \" + nilai[1][2]);"
   ]
  },
  {
   "cell_type": "markdown",
   "metadata": {},
   "source": [
    "#### Pertanyaan\n",
    "1. Apakah pengisian elemen array harus dilakukan secara berurutan mulai dari indeks 0? Jelaskan!"
   ]
  },
  {
   "cell_type": "code",
   "execution_count": null,
   "metadata": {},
   "outputs": [],
   "source": [
    "// Tuliskan jawaban nomor 1\n",
    "iyaa, karena peraturan indeks dari element array harus dimulai dari 0 terlebih dahulu"
   ]
  },
  {
   "cell_type": "markdown",
   "metadata": {},
   "source": [
    "2. Lakukan modifikasi pada Percobaan 1 Langkah 3 untuk menampilkan semua isi elemen array **nilai** menggunakan perulangan *for*"
   ]
  },
  {
   "cell_type": "code",
   "execution_count": 11,
   "metadata": {},
   "outputs": [
    {
     "name": "stdout",
     "output_type": "stream",
     "text": [
      "75 90 88 \n",
      "79 82 67 \n"
     ]
    }
   ],
   "source": [
    "// Tuliskan jawaban nomor 2\n",
    "int[][] nilai = new int [2][3];\n",
    "nilai[0][0] = 75;\n",
    "nilai[0][1] = 90;\n",
    "nilai[0][2] = 88;\n",
    "nilai[1][0] = 79;\n",
    "nilai[1][1] = 82;\n",
    "nilai[1][2] = 67;\n",
    "for(int i = 0; i < nilai.length; i++){\n",
    "    for(int j = 0; j < nilai[0].length; j++){\n",
    "        System.out.print(nilai[i][j]+\" \");\n",
    "    }\n",
    "    System.out.println(\"\");\n",
    "}"
   ]
  },
  {
   "cell_type": "markdown",
   "metadata": {},
   "source": [
    "### Percobaan 2: Mengisi Elemen Array 2 Dimensi Menggunakan Input Keyboard\n",
    "Pada Percobaan 2, kode program yang dibuat digunakan untuk menyimpan nilai rating restoran yang terdaftar pada aplikasi pemesanan makanan online. Rating diberikan oleh 4 orang pengguna kepada 2 restoran yang terdaftar.\n",
    "1. Import dan deklarasikan Scanner dengan nama **sc**\n",
    "![Gambar 4](images/percobaan2-1.jpg)"
   ]
  },
  {
   "cell_type": "code",
   "execution_count": 12,
   "metadata": {},
   "outputs": [],
   "source": [
    "// Tuliskan kode program Percobaan 2 Langkah 1\n",
    "import java.util.Scanner;\n",
    "Scanner sc = new Scanner(System.in);"
   ]
  },
  {
   "cell_type": "markdown",
   "metadata": {},
   "source": [
    "2.\tBuat array bertipe **integer** dengan nama **rating** dengan kapasitas baris 4 elemen (menyatakan jumlah pengguna) dan kolom 2 elemen (menyatakan jumlah restoran)\n",
    "![Gambar 5](images/percobaan2-2.PNG)"
   ]
  },
  {
   "cell_type": "code",
   "execution_count": 13,
   "metadata": {},
   "outputs": [],
   "source": [
    "// Tuliskan kode program Percobaan 2 Langkah 2\n",
    "int[][] rating = new int[4][2];"
   ]
  },
  {
   "cell_type": "markdown",
   "metadata": {},
   "source": [
    "3. Dengan menggunakan perulangan *for*, buat input untuk mengisi elemen array **rating**\n",
    "![Gambar 6](images/percobaan2-3.PNG)"
   ]
  },
  {
   "cell_type": "code",
   "execution_count": 15,
   "metadata": {},
   "outputs": [
    {
     "name": "stdout",
     "output_type": "stream",
     "text": [
      "Masukkan rating pengguna 0 untuk restoran 0 : 90\n",
      "Masukkan rating pengguna 0 untuk restoran 1 : 80\n",
      "\n",
      "Masukkan rating pengguna 1 untuk restoran 0 : 50\n",
      "Masukkan rating pengguna 1 untuk restoran 1 : 90\n",
      "\n",
      "Masukkan rating pengguna 2 untuk restoran 0 : 80\n",
      "Masukkan rating pengguna 2 untuk restoran 1 : 70\n",
      "\n",
      "Masukkan rating pengguna 3 untuk restoran 0 : 80\n",
      "Masukkan rating pengguna 3 untuk restoran 1 : 40\n",
      "\n"
     ]
    }
   ],
   "source": [
    "// Tuliskan kode program Percobaan 2 Langkah 3\n",
    "for(int i = 0; i < rating.length; i++){\n",
    "    for(int  j = 0; j < rating[0].length; j++){\n",
    "        System.out.print(\"Masukkan rating pengguna \" + i + \" untuk restoran \" + j + \" : \");\n",
    "        rating[i][j] = sc.nextInt();\n",
    "    }\n",
    "    System.out.println(\"\");\n",
    "}"
   ]
  },
  {
   "cell_type": "markdown",
   "metadata": {},
   "source": [
    "###### 4. Dengan menggunakan perulangan *for-each*, tampilkan semua isi elemen dari array **rating**\n",
    "![Gambar 7](images/percobaan2-4.PNG)"
   ]
  },
  {
   "cell_type": "code",
   "execution_count": 10,
   "metadata": {},
   "outputs": [
    {
     "name": "stdout",
     "output_type": "stream",
     "text": [
      "90 80 \n",
      "70 98 \n",
      "87 40 \n",
      "54 67 \n"
     ]
    }
   ],
   "source": [
    "// Tuliskan kode program Percobaan 2 Langkah 4\n",
    "for(int[] rtg : rating){\n",
    "    for(int r: rtg){\n",
    "        System.out.print(r + \" \");\n",
    "    }\n",
    "    System.out.println(\"\");\n",
    "}"
   ]
  },
  {
   "cell_type": "markdown",
   "metadata": {},
   "source": [
    "#### Pertanyaan\n",
    "1. Pada Percobaan 2 Langkah 3, dapatkah posisi i ditukar dengan posisi j? Jelaskan alasannya!"
   ]
  },
  {
   "cell_type": "code",
   "execution_count": null,
   "metadata": {},
   "outputs": [],
   "source": [
    "// Tuliskan jawaban nomor 1\n",
    "bisa karena hanya merubah letak pada baris dan kolom nya"
   ]
  },
  {
   "cell_type": "markdown",
   "metadata": {},
   "source": [
    "2. Tambahkan kode program untuk menentukan banyaknya baris dan kolom elemen array secara dinamis (baris dan kolom ditentukan saat program berjalan melalui input keyboard)!"
   ]
  },
  {
   "cell_type": "code",
   "execution_count": 7,
   "metadata": {},
   "outputs": [
    {
     "name": "stdout",
     "output_type": "stream",
     "text": [
      "Masukkan jumlah baris :5\n",
      "Masukkan jumlah kolom :3\n",
      "Masukkan rating pengguna 0 untuk restoran 0 : 90\n",
      "Masukkan rating pengguna 0 untuk restoran 1 : 80\n",
      "Masukkan rating pengguna 0 untuk restoran 2 : 60\n",
      "\n",
      "Masukkan rating pengguna 1 untuk restoran 0 : 80\n",
      "Masukkan rating pengguna 1 untuk restoran 1 : 70\n",
      "Masukkan rating pengguna 1 untuk restoran 2 : 90\n",
      "\n",
      "Masukkan rating pengguna 2 untuk restoran 0 : 60\n",
      "Masukkan rating pengguna 2 untuk restoran 1 : 67\n",
      "Masukkan rating pengguna 2 untuk restoran 2 : 82\n",
      "\n",
      "Masukkan rating pengguna 3 untuk restoran 0 : 46\n",
      "Masukkan rating pengguna 3 untuk restoran 1 : 78\n",
      "Masukkan rating pengguna 3 untuk restoran 2 : 90\n",
      "\n",
      "Masukkan rating pengguna 4 untuk restoran 0 : 60\n",
      "Masukkan rating pengguna 4 untuk restoran 1 : 80\n",
      "Masukkan rating pengguna 4 untuk restoran 2 : 69\n",
      "\n"
     ]
    }
   ],
   "source": [
    "// Tuliskan jawaban nomor 2\n",
    "import java.util.Scanner;\n",
    "Scanner sc = new Scanner(System.in);\n",
    "int a, b;\n",
    "System.out.print(\"Masukkan jumlah baris :\");\n",
    "a = sc.nextInt();\n",
    "System.out.print(\"Masukkan jumlah kolom :\");\n",
    "b = sc.nextInt();\n",
    "int[][] rating = new int[a][b];\n",
    "for(int i = 0; i < rating.length; i++){\n",
    "    for(int j = 0; j < rating[0].length; j++){\n",
    "        System.out.print(\"Masukkan rating pengguna \" + i + \" untuk restoran \" + j + \" : \");\n",
    "        rating[i][j] = sc.nextInt();\n",
    "    }\n",
    "    System.out.println(\"\");\n",
    "}"
   ]
  },
  {
   "cell_type": "markdown",
   "metadata": {},
   "source": [
    "### Percobaan 3: Melakukan Operasi Aritmatika pada Elemen Array 2 Dimensi\n",
    "Pada Percobaan 3, kode program yang dibuat digunakan untuk menghitung nilai rata-rata harga setiap bahan pokok selama 1 semester. Terdapat 3 bahan pokok yang dicatat harganya setiap akhir bulan. Program dibuat berdasarkan flowchart berikut.\n",
    "![Gambar 8](images/percobaan3.jpg)\n",
    "1. Import dan deklarasikan Scanner dengan nama **sc**\n",
    "![Gambar 9](images/percobaan3-1.jpg)"
   ]
  },
  {
   "cell_type": "code",
   "execution_count": 6,
   "metadata": {},
   "outputs": [],
   "source": [
    "// Tuliskan kode program Percobaan 3 Langkah 1\n",
    "import java.util.Scanner;\n",
    "Scanner sc = new Scanner(System.in);"
   ]
  },
  {
   "cell_type": "markdown",
   "metadata": {},
   "source": [
    "2.\tBuat array bertipe **integer** dengan nama **harga** dengan kapasitas baris 3 elemen (menyatakan jumlah bahan pokok) dan kolom 6 elemen (menyatakan jumlah bulan). Deklarasikan juga variabel **total** dan **rata** bertipe **double**\n",
    "![Gambar 10](images/percobaan3-2.PNG)"
   ]
  },
  {
   "cell_type": "code",
   "execution_count": 7,
   "metadata": {},
   "outputs": [],
   "source": [
    "// Tuliskan kode program Percobaan 3 Langkah 2\n",
    "int[][] harga = new int [3][6];\n",
    "double total, rata;"
   ]
  },
  {
   "cell_type": "markdown",
   "metadata": {},
   "source": [
    "3. Dengan menggunakan perulangan *for*, buat input untuk mengisi elemen array **harga**. Kemudian, perhitungan total harga dilakukan untuk setiap bulan (kolom) pada setiap bahan pokok (baris). Setelah itu, nilai rata-rata dihitung untuk setiap bahan pokok (tiap satu baris) dan ditampilkan\n",
    "![Gambar 11](images/percobaan3-3.PNG)"
   ]
  },
  {
   "cell_type": "code",
   "execution_count": 9,
   "metadata": {},
   "outputs": [
    {
     "name": "stdout",
     "output_type": "stream",
     "text": [
      "Masukkan harga [0][0]: 9000\n",
      "Masukkan harga [0][1]: 2000\n",
      "Masukkan harga [0][2]: 3000\n",
      "Masukkan harga [0][3]: 10000\n",
      "Masukkan harga [0][4]: 20000\n",
      "Masukkan harga [0][5]: 40000\n",
      "Rata-rata harga bahan ke-0 adalah 14000.00\n",
      "Masukkan harga [1][0]: 5000\n",
      "Masukkan harga [1][1]: 6000\n",
      "Masukkan harga [1][2]: 9000\n",
      "Masukkan harga [1][3]: 6000\n",
      "Masukkan harga [1][4]: 10000\n",
      "Masukkan harga [1][5]: 2000\n",
      "Rata-rata harga bahan ke-1 adalah 6333.33\n",
      "Masukkan harga [2][0]: 4000\n",
      "Masukkan harga [2][1]: 5000\n",
      "Masukkan harga [2][2]: 4000\n",
      "Masukkan harga [2][3]: 2000\n",
      "Masukkan harga [2][4]: 4000\n",
      "Masukkan harga [2][5]: 9000\n",
      "Rata-rata harga bahan ke-2 adalah 4666.67\n"
     ]
    }
   ],
   "source": [
    "// Tuliskan kode program Percobaan 3 Langkah 3\n",
    "for(int i = 0; i < harga.length; i++){\n",
    "    total = 0;\n",
    "    rata = 0;\n",
    "    for(int j = 0; j < harga[0].length; j++){\n",
    "        System.out.printf(\"Masukkan harga [%d][%d]: \", i, j);\n",
    "        harga[i][j] = sc.nextInt();\n",
    "        total += harga[i][j];\n",
    "    }\n",
    "    rata = total/harga[0].length;\n",
    "    System.out.printf(\"Rata-rata harga bahan ke-%d adalah %.2f\\n\", i, rata);\n",
    "}"
   ]
  },
  {
   "cell_type": "markdown",
   "metadata": {},
   "source": [
    "#### Pertanyaan\n",
    "1. Jelaskan fungsi dari **rata = total / harga[0].length**!"
   ]
  },
  {
   "cell_type": "code",
   "execution_count": null,
   "metadata": {},
   "outputs": [],
   "source": [
    "// Tuliskan jawaban nomor 1\n",
    "untuk menghitung rata rata harga hanya pada satu baris saja, dan nanti akan dihitung lagi pada baris berikutnya"
   ]
  },
  {
   "cell_type": "markdown",
   "metadata": {},
   "source": [
    "2. Mengapa insialisasi variabel **total = 0** dan **rata = 0** berada di dalam perulangan *for* yang pertama? Menurut Anda, apa yang terjadi jika inisialisasi kedua variabel tersebut diletakkan di luar perulangan *for* (setelah deklarasi array)?"
   ]
  },
  {
   "cell_type": "code",
   "execution_count": null,
   "metadata": {},
   "outputs": [],
   "source": [
    "// Tuliskan jawaban nomor 2\n",
    "karena jika total = 0 dan rata = 0 tidak di letakan di dalam for pertama maka akan terjadi penumpukan dari nilai total dan nilai rata rata, maka dari itu total dan rata harus di taruh di dalam for agar nilai dari total dan rata kembali lagi menjadi 0 dan bisa mencegah penumpukan nilai"
   ]
  },
  {
   "cell_type": "markdown",
   "metadata": {},
   "source": [
    "## Tugas"
   ]
  },
  {
   "cell_type": "markdown",
   "metadata": {},
   "source": [
    "1. Perhatikan flowchart berikut.\n",
    "![Gambar 12](images/tugas-1.jpg)\n",
    "Buat kode program sesuai dengan flowchart tersebut untuk mencari suhu tertinggi yang dicatat dari 5 kota di Jepang selama 7 hari berturut-turut!"
   ]
  },
  {
   "cell_type": "code",
   "execution_count": 14,
   "metadata": {},
   "outputs": [
    {
     "name": "stdout",
     "output_type": "stream",
     "text": [
      "Masukkan suhu : 38\n",
      "Masukkan suhu : 24\n",
      "Masukkan suhu : 22\n",
      "Masukkan suhu : 23\n",
      "Masukkan suhu : 21\n",
      "Masukkan suhu : 32\n",
      "Masukkan suhu : 33\n",
      "Masukkan suhu : 34\n",
      "Masukkan suhu : 17\n",
      "Masukkan suhu : 14\n",
      "Masukkan suhu : 23\n",
      "Masukkan suhu : 34\n",
      "Masukkan suhu : 29\n",
      "Masukkan suhu : 28\n",
      "Masukkan suhu : 38\n",
      "Masukkan suhu : 39\n",
      "Masukkan suhu : 49\n",
      "Masukkan suhu : 67\n",
      "Masukkan suhu : 50\n",
      "Masukkan suhu : 19\n",
      "Masukkan suhu : 24\n",
      "Masukkan suhu : 11\n",
      "Masukkan suhu : 10\n",
      "Masukkan suhu : 6\n",
      "Masukkan suhu : 2\n",
      "Masukkan suhu : 3\n",
      "Masukkan suhu : 4\n",
      "Masukkan suhu : 5\n",
      "Masukkan suhu : 10\n",
      "Masukkan suhu : 29\n",
      "Masukkan suhu : 40\n",
      "Masukkan suhu : 50\n",
      "Masukkan suhu : 57\n",
      "Masukkan suhu : 52\n",
      "Masukkan suhu : 0\n",
      "Suhu di 5 kota jepang selama 7 hari berturut turut : 67.0"
     ]
    }
   ],
   "source": [
    "import java.util.Scanner;\n",
    "Scanner sc = new Scanner(System.in);\n",
    "double[][] suhu = new double [5][7];\n",
    "double max = 0;\n",
    "for(int x = 0; x < suhu.length; x++){\n",
    "    for(int y = 0; y < suhu[0].length; y++){\n",
    "        System.out.print(\"Masukkan suhu : \");\n",
    "        suhu[x][y] = sc.nextDouble();\n",
    "        if(suhu[x][y] > max){\n",
    "            max = suhu[x][y];\n",
    "        }\n",
    "    }\n",
    "}\n",
    "System.out.print(\"Suhu tertinggi di 5 kota jepang selama 7 hari berturut turut : \" + max);"
   ]
  },
  {
   "cell_type": "markdown",
   "metadata": {},
   "source": [
    "# 2. Terdapat hasil pencatatan data lima mahasiswa yang berisi informasi mengenai umur, berat badan (kg), dan tinggi badan (cm). Data tersebut disimpan ke dalam array dua dimensi.\n",
    "![Gambar 13](images/tugas-2.PNG)\n",
    "*Keterangan: penyimpanan nilai dapat dilakukan melalui inisialisasi menggunakan operator assignment*\n",
    " * Tampilkan *berat badan terendah* di antara kelima mahasiswa tersebut\n",
    " * Tampilkan *rata-rata tinggi badan* dari kelima mahasiswa tersebut\n",
    " * Tampilkan nama mahasiswa dengan *umur tertua* di antara kelima mahasiswa tersebut\n"
   ]
  },
  {
   "cell_type": "code",
   "execution_count": 2,
   "metadata": {},
   "outputs": [
    {
     "name": "stdout",
     "output_type": "stream",
     "text": [
      "Berat badan terendah dari 5 mahasiswa tersebut adalah : 45\n",
      "Rata rata tinggi badan dari 5 mahasiswa tersebut adalah : 157.8\n",
      "Mahasiswa tertua berumur 20 yang bernama Beky\n"
     ]
    }
   ],
   "source": [
    "// Tuliskan jawaban nomor 2\n",
    "import java.util.Scanner;\n",
    "Scanner sc = new Scanner(System.in);\n",
    "String[] nama = {\"Desi\",\"Rofan\",\"Lala\",\"Beky\",\"Ega\"};\n",
    "int[][] data = {\n",
    "{19,51,155},\n",
    "{18,55,163},\n",
    "{18,45,153},\n",
    "{20,46,158},\n",
    "{19,58,160},\n",
    "};\n",
    "int min = 200 ;\n",
    "double rataTinggi ,total =0;\n",
    "int umurTertua = 0 , indexUmur;\n",
    "\n",
    "for(int i = 0;i< data.length;i++){\n",
    "    if(data[i][1] < min){\n",
    "        min = data[i][1];\n",
    "    }   \n",
    "}\n",
    "System.out.println(\"Berat badan terendah dari 5 mahasiswa tersebut adalah : \" + min);\n",
    "\n",
    "for(int i = 0;i< data.length;i++){\n",
    "    total += data[i][2];\n",
    "}\n",
    "rataTinggi = total / data.length;\n",
    "System.out.println(\"Rata rata tinggi badan dari 5 mahasiswa tersebut adalah : \" + rataTinggi);\n",
    "\n",
    "for(int i = 0;i< data.length;i++){\n",
    "    if(data[i][0] > umurTertua){\n",
    "        umurTertua = data[i][0];\n",
    "        indexUmur = i;\n",
    "    }\n",
    "}\n",
    "\n",
    "System.out.println(\"Mahasiswa tertua berumur \" +umurTertua + \" yang bernama \" + nama[indexUmur]);"
   ]
  },
  {
   "cell_type": "code",
   "execution_count": null,
   "metadata": {},
   "outputs": [],
   "source": []
  }
 ],
 "metadata": {
  "kernelspec": {
   "display_name": "Java",
   "language": "java",
   "name": "java"
  },
  "language_info": {
   "codemirror_mode": "java",
   "file_extension": ".jshell",
   "mimetype": "text/x-java-source",
   "name": "Java",
   "pygments_lexer": "java",
   "version": "11.0.12+8-LTS-237"
  }
 },
 "nbformat": 4,
 "nbformat_minor": 4
}
