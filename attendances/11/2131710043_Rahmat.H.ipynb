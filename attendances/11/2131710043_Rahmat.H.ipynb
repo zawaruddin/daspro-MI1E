{
 "cells": [
  {
   "cell_type": "markdown",
   "metadata": {},
   "source": [
    "# JOBSHEET 11. ARRAY 2\n",
    "### NAMA : RAHMAT HIDAYAT\n",
    "### NIM : 2131710043"
   ]
  },
  {
   "cell_type": "markdown",
   "metadata": {},
   "source": [
    "## Tujuan\n",
    "* Mahasiswa mampu memahami pembuatan array dua dimensi\n",
    "* Mahasiswa mampu menyelesaikan studi kasus dengan memanfaatkan array dua dimensi"
   ]
  },
  {
   "cell_type": "markdown",
   "metadata": {},
   "source": [
    "## Alat dan Bahan\n",
    "* PC/Laptop\n",
    "* Browser\n",
    "* Koneksi internet\n",
    "* Anaconda3 + Java kernel (opsional)"
   ]
  },
  {
   "cell_type": "markdown",
   "metadata": {},
   "source": [
    "## Praktikum"
   ]
  },
  {
   "cell_type": "markdown",
   "metadata": {},
   "source": [
    "### Percobaan 1: Deklarasi, Inisialisasi, dan Menampilkan Array 2 Dimensi\n",
    "Pada Percobaan 1, kode program yang dibuat digunakan untuk menyimpan nilai praktikum dari 2 orang mahasiswa pada 3 mata kuliah yang berbeda.\n",
    "1.\tBuat array bertipe **integer** dengan nama **nilai** dengan kapasitas baris 2 elemen (menyatakan jumlah mahasiswa) dan kolom 3 elemen (menyatakan jumlah mata kuliah)\n",
    "![Gambar 1](images/percobaan1-1.PNG)"
   ]
  },
  {
   "cell_type": "code",
   "execution_count": 1,
   "metadata": {},
   "outputs": [],
   "source": [
    "// Tuliskan kode program Percobaan 1 Langkah 1\n",
    "int [] [] nilai = new int [2] [3];"
   ]
  },
  {
   "cell_type": "markdown",
   "metadata": {},
   "source": [
    "2. Isi masing-masing elemen array **nilai** sebagai berikut:\n",
    "![Gambar 2](images/percobaan1-2.PNG)"
   ]
  },
  {
   "cell_type": "code",
   "execution_count": 2,
   "metadata": {},
   "outputs": [
    {
     "data": {
      "text/plain": [
       "67"
      ]
     },
     "execution_count": 2,
     "metadata": {},
     "output_type": "execute_result"
    }
   ],
   "source": [
    "// Tuliskan kode program Percobaan 1 Langkah 2\n",
    "nilai [0] [0] = 75;\n",
    "nilai [0] [1] = 90;\n",
    "nilai [0] [2] = 88;\n",
    "nilai [1] [0] = 79;\n",
    "nilai [1] [1] = 82;\n",
    "nilai [1] [2] = 67;"
   ]
  },
  {
   "cell_type": "markdown",
   "metadata": {},
   "source": [
    "\n",
    "3. Tampilkan semua isi elemen array **nilai**\n",
    "![Gambar 3](images/percobaan1-3.PNG)"
   ]
  },
  {
   "cell_type": "code",
   "execution_count": 3,
   "metadata": {},
   "outputs": [
    {
     "name": "stdout",
     "output_type": "stream",
     "text": [
      "75 90 88\n",
      "79 82 67\n"
     ]
    }
   ],
   "source": [
    "// Tuliskan kode program Percobaan 1 Langkah 2\n",
    "System.out.println(nilai [0] [0] + \" \" + nilai [0] [1] + \" \" + nilai [0] [2]);\n",
    "System.out.println(nilai [1] [0] + \" \" + nilai [1] [1] + \" \" + nilai [1] [2]);"
   ]
  },
  {
   "cell_type": "markdown",
   "metadata": {},
   "source": [
    "#### Pertanyaan\n",
    "1. Apakah pengisian elemen array harus dilakukan secara berurutan mulai dari indeks 0? Jelaskan!"
   ]
  },
  {
   "cell_type": "markdown",
   "metadata": {},
   "source": [
    "### jawaban no 1\n",
    "### tidak, pengisian elemen array dapat dilakukkan secara urut maupun secara random. jika input langsung dari keyboard maka tidak harus urut. \n"
   ]
  },
  {
   "cell_type": "markdown",
   "metadata": {},
   "source": [
    "2. Lakukan modifikasi pada Percobaan 1 Langkah 3 untuk menampilkan semua isi elemen array **nilai** menggunakan perulangan *for*"
   ]
  },
  {
   "cell_type": "code",
   "execution_count": 5,
   "metadata": {},
   "outputs": [
    {
     "name": "stdout",
     "output_type": "stream",
     "text": [
      "75 90 88  \n",
      "79 82 67  \n"
     ]
    }
   ],
   "source": [
    "// Tuliskan jawaban nomor 2\n",
    "import java.util.Scanner;\n",
    "Scanner sc = new Scanner(System.in);\n",
    "int [] [] nilai = new int [2] [3];\n",
    "nilai [0] [0] = 75;\n",
    "nilai [0] [1] = 90;\n",
    "nilai [0] [2] = 88;\n",
    "nilai [1] [0] = 79;\n",
    "nilai [1] [1] = 82;\n",
    "nilai [1] [2] = 67;\n",
    "for (int i = 0; i < nilai.length; i++) {\n",
    "    for (int j = 0; j < nilai[0].length; j++) {\n",
    "        System.out.print(nilai[i] [j] + \" \");\n",
    "    }\n",
    "    System.out.println(\" \");\n",
    "}"
   ]
  },
  {
   "cell_type": "markdown",
   "metadata": {},
   "source": [
    "### Percobaan 2: Mengisi Elemen Array 2 Dimensi Menggunakan Input Keyboard\n",
    "Pada Percobaan 2, kode program yang dibuat digunakan untuk menyimpan nilai rating restoran yang terdaftar pada aplikasi pemesanan makanan online. Rating diberikan oleh 4 orang pengguna kepada 2 restoran yang terdaftar.\n",
    "1. Import dan deklarasikan Scanner dengan nama **sc**\n",
    "![Gambar 4](images/percobaan2-1.jpg)"
   ]
  },
  {
   "cell_type": "code",
   "execution_count": 4,
   "metadata": {},
   "outputs": [],
   "source": [
    "// Tuliskan kode program Percobaan 2 Langkah 1\n",
    "import java.util.Scanner;\n",
    "Scanner sc = new Scanner(System.in);"
   ]
  },
  {
   "cell_type": "markdown",
   "metadata": {},
   "source": [
    "2.\tBuat array bertipe **integer** dengan nama **rating** dengan kapasitas baris 4 elemen (menyatakan jumlah pengguna) dan kolom 2 elemen (menyatakan jumlah restoran)\n",
    "![Gambar 5](images/percobaan2-2.PNG)"
   ]
  },
  {
   "cell_type": "code",
   "execution_count": 5,
   "metadata": {},
   "outputs": [],
   "source": [
    "// Tuliskan kode program Percobaan 2 Langkah 2\n",
    "int [] [] rating = new int [4] [2];"
   ]
  },
  {
   "cell_type": "markdown",
   "metadata": {},
   "source": [
    "3. Dengan menggunakan perulangan *for*, buat input untuk mengisi elemen array **rating**\n",
    "![Gambar 6](images/percobaan2-3.PNG)"
   ]
  },
  {
   "cell_type": "code",
   "execution_count": 6,
   "metadata": {},
   "outputs": [
    {
     "name": "stdout",
     "output_type": "stream",
     "text": [
      "Masukkan rating pengguna 0 untuk restoran 0 : 80\n",
      "Masukkan rating pengguna 0 untuk restoran 1 : 90\n",
      "\n",
      "Masukkan rating pengguna 1 untuk restoran 0 : 70\n",
      "Masukkan rating pengguna 1 untuk restoran 1 : 78\n",
      "\n",
      "Masukkan rating pengguna 2 untuk restoran 0 : 90\n",
      "Masukkan rating pengguna 2 untuk restoran 1 : 88\n",
      "\n",
      "Masukkan rating pengguna 3 untuk restoran 0 : 60\n",
      "Masukkan rating pengguna 3 untuk restoran 1 : 70\n",
      "\n"
     ]
    }
   ],
   "source": [
    "// Tuliskan kode program Percobaan 2 Langkah 3\n",
    "for (int i = 0; i < rating.length; i++) {\n",
    "    for (int j = 0; j < rating [0].length; j++) {\n",
    "        System.out.print(\"Masukkan rating pengguna \" + i + \" untuk restoran \" + j + \" : \");\n",
    "        rating [i] [j] = sc.nextInt();\n",
    "    }\n",
    "    System.out.println(\"\");\n",
    "}"
   ]
  },
  {
   "cell_type": "markdown",
   "metadata": {},
   "source": [
    "4. Dengan menggunakan perulangan *for-each*, tampilkan semua isi elemen dari array **rating**\n",
    "![Gambar 7](images/percobaan2-4.PNG)"
   ]
  },
  {
   "cell_type": "code",
   "execution_count": 7,
   "metadata": {},
   "outputs": [
    {
     "name": "stdout",
     "output_type": "stream",
     "text": [
      "80 90 \n",
      "70 78 \n",
      "90 88 \n",
      "60 70 \n"
     ]
    }
   ],
   "source": [
    "// Tuliskan kode program Percobaan 2 Langkah 4\n",
    "for (int [] rtg : rating) {\n",
    "    for (int r: rtg) {\n",
    "        System.out.print(r + \" \");\n",
    "    }\n",
    "    System.out.println(\"\");\n",
    "}"
   ]
  },
  {
   "cell_type": "markdown",
   "metadata": {},
   "source": [
    "#### Pertanyaan\n",
    "1. Pada Percobaan 2 Langkah 3, dapatkah posisi i ditukar dengan posisi j? Jelaskan alasannya!"
   ]
  },
  {
   "cell_type": "markdown",
   "metadata": {},
   "source": [
    "### jawaban nomor 1\n",
    "### bisa, tetapi semua nilai i harus di ganti dengan nilai j dan semua nilai j harus diganti nilai i\n"
   ]
  },
  {
   "cell_type": "markdown",
   "metadata": {},
   "source": [
    "2. Tambahkan kode program untuk menentukan banyaknya baris dan kolom elemen array secara dinamis (baris dan kolom ditentukan saat program berjalan melalui input keyboard)!"
   ]
  },
  {
   "cell_type": "code",
   "execution_count": 8,
   "metadata": {},
   "outputs": [
    {
     "name": "stdout",
     "output_type": "stream",
     "text": [
      "Masukkan rating pengguna 0 untuk restoran 0 : 80\n",
      "Masukkan rating pengguna 0 untuk restoran 1 : 90\n",
      "\n",
      "Masukkan rating pengguna 1 untuk restoran 0 : 70\n",
      "Masukkan rating pengguna 1 untuk restoran 1 : 78\n",
      "\n",
      "Masukkan rating pengguna 2 untuk restoran 0 : 90\n",
      "Masukkan rating pengguna 2 untuk restoran 1 : 88\n",
      "\n",
      "Masukkan rating pengguna 3 untuk restoran 0 : 60\n",
      "Masukkan rating pengguna 3 untuk restoran 1 : 70\n",
      "\n",
      "80 90 \n",
      "70 78 \n",
      "90 88 \n",
      "60 70 \n"
     ]
    }
   ],
   "source": [
    "// Tuliskan jawaban nomor 2\n",
    "import java.util.Scanner;\n",
    "Scanner sc = new Scanner(System.in);\n",
    "int [] [] rating = new int [4] [2];\n",
    "\n",
    "for (int j = 0; j < rating.length; j++) {\n",
    "    for (int i = 0; i < rating [0].length; i++) {\n",
    "        System.out.print(\"Masukkan rating pengguna \" + j + \" untuk restoran \" + i + \" : \");\n",
    "        rating [j] [i] = sc.nextInt();\n",
    "    }\n",
    "    System.out.println(\"\");\n",
    "}\n",
    "for (int [] rtg : rating) {\n",
    "    for (int r: rtg) {\n",
    "        System.out.print(r + \" \");\n",
    "    }\n",
    "    System.out.println(\"\");\n",
    "}"
   ]
  },
  {
   "cell_type": "markdown",
   "metadata": {},
   "source": [
    "### Percobaan 3: Melakukan Operasi Aritmatika pada Elemen Array 2 Dimensi\n",
    "Pada Percobaan 3, kode program yang dibuat digunakan untuk menghitung nilai rata-rata harga setiap bahan pokok selama 1 semester. Terdapat 3 bahan pokok yang dicatat harganya setiap akhir bulan. Program dibuat berdasarkan flowchart berikut.\n",
    "![Gambar 8](images/percobaan3.jpg)\n",
    "1. Import dan deklarasikan Scanner dengan nama **sc**\n",
    "![Gambar 9](images/percobaan3-1.jpg)"
   ]
  },
  {
   "cell_type": "code",
   "execution_count": 8,
   "metadata": {},
   "outputs": [],
   "source": [
    "// Tuliskan kode program Percobaan 3 Langkah 1\n",
    "import java.util.Scanner;\n",
    "Scanner sc = new Scanner(System.in);"
   ]
  },
  {
   "cell_type": "markdown",
   "metadata": {},
   "source": [
    "2.\tBuat array bertipe **integer** dengan nama **harga** dengan kapasitas baris 3 elemen (menyatakan jumlah bahan pokok) dan kolom 6 elemen (menyatakan jumlah bulan). Deklarasikan juga variabel **total** dan **rata** bertipe **double**\n",
    "![Gambar 10](images/percobaan3-2.PNG)"
   ]
  },
  {
   "cell_type": "code",
   "execution_count": 9,
   "metadata": {},
   "outputs": [],
   "source": [
    "// Tuliskan kode program Percobaan 3 Langkah 2\n",
    "int [] [] harga = new int [3] [6];\n",
    "double total, rata;"
   ]
  },
  {
   "cell_type": "markdown",
   "metadata": {},
   "source": [
    "3. Dengan menggunakan perulangan *for*, buat input untuk mengisi elemen array **harga**. Kemudian, perhitungan total harga dilakukan untuk setiap bulan (kolom) pada setiap bahan pokok (baris). Setelah itu, nilai rata-rata dihitung untuk setiap bahan pokok (tiap satu baris) dan ditampilkan\n",
    "![Gambar 11](images/percobaan3-3.PNG)"
   ]
  },
  {
   "cell_type": "code",
   "execution_count": 10,
   "metadata": {},
   "outputs": [
    {
     "name": "stdout",
     "output_type": "stream",
     "text": [
      "Masukkan harga [0] [0]: 20000\n",
      "Masukkan harga [0] [1]: 50000\n",
      "Masukkan harga [0] [2]: 25000\n",
      "Masukkan harga [0] [3]: 15000\n",
      "Masukkan harga [0] [4]: 75000\n",
      "Masukkan harga [0] [5]: 50000\n",
      "Rata-rata harga bahan ke-0 adalah 39166.67\n",
      "Masukkan harga [1] [0]: 30000\n",
      "Masukkan harga [1] [1]: 22000\n",
      "Masukkan harga [1] [2]: 35500\n",
      "Masukkan harga [1] [3]: 10000\n",
      "Masukkan harga [1] [4]: 60500\n",
      "Masukkan harga [1] [5]: 55500\n",
      "Rata-rata harga bahan ke-1 adalah 35583.33\n",
      "Masukkan harga [2] [0]: 32500\n",
      "Masukkan harga [2] [1]: 40000\n",
      "Masukkan harga [2] [2]: 775\n",
      "Masukkan harga [2] [3]: \n",
      "60000\n",
      "Masukkan harga [2] [4]: 76000\n",
      "Masukkan harga [2] [5]: 82000\n",
      "Rata-rata harga bahan ke-2 adalah 48545.83\n"
     ]
    }
   ],
   "source": [
    "// Tuliskan kode program Percobaan 3 Langkah 3\n",
    "for (int i = 0; i < harga.length; i++) {\n",
    "    \n",
    "    total = 0;\n",
    "    rata = 0;\n",
    "    for (int j = 0; j < harga[0].length; j++) {\n",
    "        System.out.printf(\"Masukkan harga [%d] [%d]: \", i, j);\n",
    "        harga [i] [j] = sc.nextInt();\n",
    "        total += harga [i] [j];\n",
    "    }\n",
    "    rata = total / harga[0].length;\n",
    "    System.out.printf(\"Rata-rata harga bahan ke-%d adalah %.2f\\n\", i, rata);\n",
    "}"
   ]
  },
  {
   "cell_type": "markdown",
   "metadata": {},
   "source": [
    "#### Pertanyaan\n",
    "1. Jelaskan fungsi dari **rata = total / harga[0].length**!"
   ]
  },
  {
   "cell_type": "markdown",
   "metadata": {},
   "source": [
    "### jawaban no 1\n",
    "### fungsi dari rata = total / harga[0].length adalah untuk menghitung nilai rata-rata \n"
   ]
  },
  {
   "cell_type": "markdown",
   "metadata": {},
   "source": [
    "2. Mengapa insialisasi variabel **total = 0** dan **rata = 0** berada di dalam perulangan *for* yang pertama? Menurut Anda, apa yang terjadi jika inisialisasi kedua variabel tersebut diletakkan di luar perulangan *for* (setelah deklarasi array)?"
   ]
  },
  {
   "cell_type": "markdown",
   "metadata": {},
   "source": [
    "### jawaban no 2\n",
    "### karena inisialisasi variabel total = 0 dan rata = 0 dibutuhkan untuk menentukkan nilai total"
   ]
  },
  {
   "cell_type": "markdown",
   "metadata": {},
   "source": [
    "## Tugas"
   ]
  },
  {
   "cell_type": "markdown",
   "metadata": {},
   "source": [
    "1. Perhatikan flowchart berikut.\n",
    "![Gambar 12](images/tugas-1.jpg)\n",
    "Buat kode program sesuai dengan flowchart tersebut untuk mencari suhu tertinggi yang dicatat dari 5 kota di Jepang selama 7 hari berturut-turut!"
   ]
  },
  {
   "cell_type": "code",
   "execution_count": null,
   "metadata": {},
   "outputs": [],
   "source": [
    "// Tuliskan jawaban nomor 1"
   ]
  },
  {
   "cell_type": "markdown",
   "metadata": {},
   "source": [
    "2. Terdapat hasil pencatatan data lima mahasiswa yang berisi informasi mengenai umur, berat badan (kg), dan tinggi badan (cm). Data tersebut disimpan ke dalam array dua dimensi.\n",
    "![Gambar 13](images/tugas-2.PNG)\n",
    "*Keterangan: penyimpanan nilai dapat dilakukan melalui inisialisasi menggunakan operator assignment*\n",
    " * Tampilkan *berat badan terendah* di antara kelima mahasiswa tersebut\n",
    " * Tampilkan *rata-rata tinggi badan* dari kelima mahasiswa tersebut\n",
    " * Tampilkan nama mahasiswa dengan *umur tertua* di antara kelima mahasiswa tersebut"
   ]
  },
  {
   "cell_type": "code",
   "execution_count": 9,
   "metadata": {},
   "outputs": [
    {
     "name": "stdout",
     "output_type": "stream",
     "text": [
      "Berat badan terendah mahasiswa yaitu\t\t\t\t : 45\n",
      "Total tinggi badan\t\t\t\t\t\t : 789.0\n",
      "Rata-rata tinggi badan dari kelima mahasiswa tersebut yaitu\t : 157.8\n",
      "Umur tertua\t\t\t\t\t\t\t : 20\n",
      "Nama mahasiswa\t\t\t\t\t\t\t : Beky\n"
     ]
    }
   ],
   "source": [
    "// Tuliskan jawaban nomor 2\n",
    "import java.util.Scanner;\n",
    "Scanner sc = new Scanner(System.in);\n",
    "int i,j;\n",
    "int [][] dataMahasiswa = {{19,51,155},{18,55,163},{18,45,153},{20,46,158},{19,58,160}};\n",
    "int min = 100;\n",
    "int indeks;\n",
    "int tua = 0;\n",
    "double totalTinggiBadan = 0;\n",
    "double rataTinggiBadan = 0;\n",
    "String[] nama = {\"Desi\", \"Rofan\", \"Lala\", \"Beky\", \"Ega\"};\n",
    "for ( i = 0; i < dataMahasiswa.length; i++) {\n",
    "    for (j = 0; j < dataMahasiswa[1].length; j++) {\n",
    "        if (dataMahasiswa[i][1] < min) {\n",
    "            min = dataMahasiswa[i][1];\n",
    "        }\n",
    "    }\n",
    "}\n",
    "for (i = 0; i < dataMahasiswa.length; i++) {\n",
    "    for (j = 0; j < dataMahasiswa[0].length; j++) {\n",
    "    if (j == 2)\n",
    "        totalTinggiBadan += dataMahasiswa[i][j];\n",
    "    }\n",
    "}\n",
    "for (i = 0; i < dataMahasiswa.length; i++) {\n",
    "    for (j = 0; j < dataMahasiswa[0].length; j++) {\n",
    "        if(dataMahasiswa[i][0] > tua) {\n",
    "            tua = dataMahasiswa[i][0];\n",
    "            indeks = i;\n",
    "        }\n",
    "    }\n",
    "}\n",
    "System.out.println(\"Berat badan terendah mahasiswa yaitu\\t\\t\\t\\t : \" + min);\n",
    "rataTinggiBadan = totalTinggiBadan / dataMahasiswa.length;\n",
    "System.out.println(\"Total tinggi badan\\t\\t\\t\\t\\t\\t : \" + totalTinggiBadan);\n",
    "System.out.println(\"Rata-rata tinggi badan dari kelima mahasiswa tersebut yaitu\\t : \" + rataTinggiBadan);\n",
    "System.out.println(\"Umur tertua\\t\\t\\t\\t\\t\\t\\t : \" + tua);\n",
    "System.out.println(\"Nama mahasiswa\\t\\t\\t\\t\\t\\t\\t : \" + nama[indeks]);"
   ]
  }
 ],
 "metadata": {
  "kernelspec": {
   "display_name": "Java",
   "language": "java",
   "name": "java"
  },
  "language_info": {
   "codemirror_mode": "java",
   "file_extension": ".jshell",
   "mimetype": "text/x-java-source",
   "name": "Java",
   "pygments_lexer": "java",
   "version": "11.0.11+9-LTS-194"
  }
 },
 "nbformat": 4,
 "nbformat_minor": 4
}
