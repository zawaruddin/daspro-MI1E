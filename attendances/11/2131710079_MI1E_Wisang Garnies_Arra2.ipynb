{
 "cells": [
  {
   "cell_type": "markdown",
   "metadata": {},
   "source": [
    "# JOBSHEET 11. ARRAY 2"
   ]
  },
  {
   "cell_type": "markdown",
   "metadata": {},
   "source": [
    "## Tujuan\n",
    "* Mahasiswa mampu memahami pembuatan array dua dimensi\n",
    "* Mahasiswa mampu menyelesaikan studi kasus dengan memanfaatkan array dua dimensi"
   ]
  },
  {
   "cell_type": "markdown",
   "metadata": {},
   "source": [
    "## Alat dan Bahan\n",
    "* PC/Laptop\n",
    "* Browser\n",
    "* Koneksi internet\n",
    "* Anaconda3 + Java kernel (opsional)"
   ]
  },
  {
   "cell_type": "markdown",
   "metadata": {},
   "source": [
    "## Praktikum"
   ]
  },
  {
   "cell_type": "markdown",
   "metadata": {},
   "source": [
    "### Percobaan 1: Deklarasi, Inisialisasi, dan Menampilkan Array 2 Dimensi\n",
    "Pada Percobaan 1, kode program yang dibuat digunakan untuk menyimpan nilai praktikum dari 2 orang mahasiswa pada 3 mata kuliah yang berbeda.\n",
    "1.\tBuat array bertipe **integer** dengan nama **nilai** dengan kapasitas baris 2 elemen (menyatakan jumlah mahasiswa) dan kolom 3 elemen (menyatakan jumlah mata kuliah)\n",
    "![Gambar 1](images/percobaan1-1.PNG)"
   ]
  },
  {
   "cell_type": "code",
   "execution_count": 1,
   "metadata": {},
   "outputs": [],
   "source": [
    "// Tuliskan kode program Percobaan 1 Langkah 1\n",
    "int [][] nilai = new int[2][3];"
   ]
  },
  {
   "cell_type": "markdown",
   "metadata": {},
   "source": [
    "2. Isi masing-masing elemen array **nilai** sebagai berikut:\n",
    "![Gambar 2](images/percobaan1-2.PNG)"
   ]
  },
  {
   "cell_type": "code",
   "execution_count": 3,
   "metadata": {},
   "outputs": [
    {
     "data": {
      "text/plain": [
       "67"
      ]
     },
     "execution_count": 3,
     "metadata": {},
     "output_type": "execute_result"
    }
   ],
   "source": [
    "// Tuliskan kode program Percobaan 1 Langkah 2\n",
    "nilai[0][0] = 75;\n",
    "nilai[0][1] = 90;\n",
    "nilai[0][2] = 88;\n",
    "nilai[1][0] = 79;\n",
    "nilai[1][1] = 82;\n",
    "nilai[1][2] = 67;"
   ]
  },
  {
   "cell_type": "markdown",
   "metadata": {},
   "source": [
    "3. Tampilkan semua isi elemen array **nilai**\n",
    "![Gambar 3](images/percobaan1-3.PNG)"
   ]
  },
  {
   "cell_type": "code",
   "execution_count": 4,
   "metadata": {},
   "outputs": [
    {
     "name": "stdout",
     "output_type": "stream",
     "text": [
      "75 90 88\n",
      "79 82 67\n"
     ]
    }
   ],
   "source": [
    "// Tuliskan kode program Percobaan 1 Langkah 2\n",
    "System.out.println(nilai[0][0] + \" \" + nilai[0][1] + \" \" + nilai[0][2]) ;\n",
    "System.out.println(nilai[1][0] + \" \" + nilai[1][1] + \" \" + nilai[1][2]) ;"
   ]
  },
  {
   "cell_type": "markdown",
   "metadata": {},
   "source": [
    "#### Pertanyaan\n",
    "1. Apakah pengisian elemen array harus dilakukan secara berurutan mulai dari indeks 0? Jelaskan!"
   ]
  },
  {
   "cell_type": "code",
   "execution_count": null,
   "metadata": {},
   "outputs": [],
   "source": [
    "// Tuliskan jawaban nomor 1\n",
    "iya,"
   ]
  },
  {
   "cell_type": "markdown",
   "metadata": {},
   "source": [
    "2. Lakukan modifikasi pada Percobaan 1 Langkah 3 untuk menampilkan semua isi elemen array **nilai** menggunakan perulangan *for*"
   ]
  },
  {
   "cell_type": "code",
   "execution_count": null,
   "metadata": {},
   "outputs": [],
   "source": [
    "// Tuliskan jawaban nomor 2\n",
    "System.out.println(nilai[0][0] + \" \" + nilai[0][1] + \" \" + nilai[0][2]) ;\n",
    "System.out.println(nilai[1][0] + \" \" + nilai[1][1] + \" \" + nilai[1][2]) ;"
   ]
  },
  {
   "cell_type": "markdown",
   "metadata": {},
   "source": [
    "### Percobaan 2: Mengisi Elemen Array 2 Dimensi Menggunakan Input Keyboard\n",
    "Pada Percobaan 2, kode program yang dibuat digunakan untuk menyimpan nilai rating restoran yang terdaftar pada aplikasi pemesanan makanan online. Rating diberikan oleh 4 orang pengguna kepada 2 restoran yang terdaftar.\n",
    "1. Import dan deklarasikan Scanner dengan nama **sc**\n",
    "![Gambar 4](images/percobaan2-1.jpg)"
   ]
  },
  {
   "cell_type": "code",
   "execution_count": 12,
   "metadata": {},
   "outputs": [],
   "source": [
    "// Tuliskan kode program Percobaan 2 Langkah 1\n",
    "import java.util.Scanner;\n",
    "Scanner sc = new Scanner(System.in);"
   ]
  },
  {
   "cell_type": "markdown",
   "metadata": {},
   "source": [
    "2.\tBuat array bertipe **integer** dengan nama **rating** dengan kapasitas baris 4 elemen (menyatakan jumlah pengguna) dan kolom 2 elemen (menyatakan jumlah restoran)\n",
    "![Gambar 5](images/percobaan2-2.PNG)"
   ]
  },
  {
   "cell_type": "code",
   "execution_count": 13,
   "metadata": {},
   "outputs": [],
   "source": [
    "// Tuliskan kode program Percobaan 2 Langkah 2\n",
    "int[][] rating = new int[4][2];"
   ]
  },
  {
   "cell_type": "markdown",
   "metadata": {},
   "source": [
    "3. Dengan menggunakan perulangan *for*, buat input untuk mengisi elemen array **rating**\n",
    "![Gambar 6](images/percobaan2-3.PNG)"
   ]
  },
  {
   "cell_type": "code",
   "execution_count": 14,
   "metadata": {},
   "outputs": [
    {
     "name": "stdout",
     "output_type": "stream",
     "text": [
      "Masukkan rating pengguna 0 untuk retoran 0 : 5\n",
      "Masukkan rating pengguna 0 untuk retoran 1 : 6\n",
      "\n",
      "Masukkan rating pengguna 1 untuk retoran 0 : 4\n",
      "Masukkan rating pengguna 1 untuk retoran 1 : 3\n",
      "\n",
      "Masukkan rating pengguna 2 untuk retoran 0 : 7\n",
      "Masukkan rating pengguna 2 untuk retoran 1 : 6\n",
      "\n",
      "Masukkan rating pengguna 3 untuk retoran 0 : 8\n",
      "Masukkan rating pengguna 3 untuk retoran 1 : 6\n",
      "\n"
     ]
    }
   ],
   "source": [
    "// Tuliskan kode program Percobaan 2 Langkah 3\n",
    "for (int i = 0; i < rating.length; i++) {\n",
    "    for (int j = 0; j < rating[0].length; j++) {\n",
    "        System.out.print(\"Masukkan rating pengguna \" + i + \" untuk retoran \" + j + \" : \");\n",
    "        rating[i][j] = sc.nextInt();\n",
    "    }\n",
    "    System.out.println(\"\");\n",
    "}"
   ]
  },
  {
   "cell_type": "markdown",
   "metadata": {},
   "source": [
    "4. Dengan menggunakan perulangan *for-each*, tampilkan semua isi elemen dari array **rating**\n",
    "![Gambar 7](images/percobaan2-4.PNG)"
   ]
  },
  {
   "cell_type": "code",
   "execution_count": 15,
   "metadata": {},
   "outputs": [
    {
     "name": "stdout",
     "output_type": "stream",
     "text": [
      "5 6 \n",
      "4 3 \n",
      "7 6 \n",
      "8 6 \n"
     ]
    }
   ],
   "source": [
    "// Tuliskan kode program Percobaan 2 Langkah 4\n",
    "for (int[] rtg : rating) {\n",
    "    for (int r: rtg) {\n",
    "        System.out.print(r + \" \");\n",
    "    }\n",
    "    System.out.println(\"\");\n",
    "}"
   ]
  },
  {
   "cell_type": "markdown",
   "metadata": {},
   "source": [
    "#### Pertanyaan\n",
    "1. Pada Percobaan 2 Langkah 3, dapatkah posisi i ditukar dengan posisi j? Jelaskan alasannya!"
   ]
  },
  {
   "cell_type": "code",
   "execution_count": 5,
   "metadata": {},
   "outputs": [],
   "source": [
    "// Tuliskan jawaban nomor 1\n",
    "Terjadi error"
   ]
  },
  {
   "cell_type": "markdown",
   "metadata": {},
   "source": [
    "2. Tambahkan kode program untuk menentukan banyaknya baris dan kolom elemen array secara dinamis (baris dan kolom ditentukan saat program berjalan melalui input keyboard)!"
   ]
  },
  {
   "cell_type": "code",
   "execution_count": null,
   "metadata": {},
   "outputs": [],
   "source": [
    "// Tuliskan jawaban nomor 2\n",
    "for (int i = 0; i < rating.length; i++) {\n",
    "    for (int j = 0; j < rating[0].length; j++) {\n",
    "        System.out.print(\"Masukkan rating pengguna \" + i + \" untuk retoran \" + j + \" : \");\n",
    "        rating[i][j] = sc.nextInt();\n",
    "    }\n",
    "    System.out.println(\"\");\n",
    "}"
   ]
  },
  {
   "cell_type": "markdown",
   "metadata": {},
   "source": [
    "### Percobaan 3: Melakukan Operasi Aritmatika pada Elemen Array 2 Dimensi\n",
    "Pada Percobaan 3, kode program yang dibuat digunakan untuk menghitung nilai rata-rata harga setiap bahan pokok selama 1 semester. Terdapat 3 bahan pokok yang dicatat harganya setiap akhir bulan. Program dibuat berdasarkan flowchart berikut.\n",
    "![Gambar 8](images/percobaan3.jpg)\n",
    "1. Import dan deklarasikan Scanner dengan nama **sc**\n",
    "![Gambar 9](images/percobaan3-1.jpg)"
   ]
  },
  {
   "cell_type": "code",
   "execution_count": 1,
   "metadata": {},
   "outputs": [],
   "source": [
    "// Tuliskan kode program Percobaan 3 Langkah 1\n",
    "import java.util.Scanner;\n",
    "Scanner sc = new Scanner(System.in);"
   ]
  },
  {
   "cell_type": "markdown",
   "metadata": {},
   "source": [
    "2.\tBuat array bertipe **integer** dengan nama **harga** dengan kapasitas baris 3 elemen (menyatakan jumlah bahan pokok) dan kolom 6 elemen (menyatakan jumlah bulan). Deklarasikan juga variabel **total** dan **rata** bertipe **double**\n",
    "![Gambar 10](images/percobaan3-2.PNG)"
   ]
  },
  {
   "cell_type": "code",
   "execution_count": 2,
   "metadata": {},
   "outputs": [],
   "source": [
    "// Tuliskan kode program Percobaan 3 Langkah 2\n",
    "int[][]harga = new int[3][6];\n",
    "double total, rata;"
   ]
  },
  {
   "cell_type": "markdown",
   "metadata": {},
   "source": [
    "3. Dengan menggunakan perulangan *for*, buat input untuk mengisi elemen array **harga**. Kemudian, perhitungan total harga dilakukan untuk setiap bulan (kolom) pada setiap bahan pokok (baris). Setelah itu, nilai rata-rata dihitung untuk setiap bahan pokok (tiap satu baris) dan ditampilkan\n",
    "![Gambar 11](images/percobaan3-3.PNG)"
   ]
  },
  {
   "cell_type": "code",
   "execution_count": 3,
   "metadata": {},
   "outputs": [
    {
     "name": "stdout",
     "output_type": "stream",
     "text": [
      "Masukkan harga[0][0] : 5000\n",
      "Masukkan harga[0][1] : 8000\n",
      "Masukkan harga[0][2] : 10000\n",
      "Masukkan harga[0][3] : 7000\n",
      "Masukkan harga[0][4] : 6000\n",
      "Masukkan harga[0][5] : 4000\n",
      "Rata-rata harga bahan ke-0 adalah 6666.67\n",
      "Masukkan harga[1][0] : 7000\n",
      "Masukkan harga[1][1] : 6000\n",
      "Masukkan harga[1][2] : 10000\n",
      "Masukkan harga[1][3] : 4000\n",
      "Masukkan harga[1][4] : 5000\n",
      "Masukkan harga[1][5] : 8000\n",
      "Rata-rata harga bahan ke-1 adalah 6666.67\n",
      "Masukkan harga[2][0] : 6500\n",
      "Masukkan harga[2][1] : 5000\n",
      "Masukkan harga[2][2] : 8500\n",
      "Masukkan harga[2][3] : 4500\n",
      "Masukkan harga[2][4] : 8000\n",
      "Masukkan harga[2][5] : 9000\n",
      "Rata-rata harga bahan ke-2 adalah 6916.67\n"
     ]
    }
   ],
   "source": [
    "// Tuliskan kode program Percobaan 3 Langkah 3\n",
    "for(int i = 0; i < harga.length; i++) {\n",
    "    total = 0;\n",
    "    rata = 0;\n",
    "    for (int j = 0; j < harga[0].length; j++) {\n",
    "        System.out.printf(\"Masukkan harga[%d][%d] : \", i, j);\n",
    "        harga[i][j] = sc.nextInt();\n",
    "        total += harga[i][j];\n",
    "    }\n",
    "    rata = total / harga[0].length;\n",
    "    System.out.printf(\"Rata-rata harga bahan ke-%d adalah %.2f\\n\", i, rata);\n",
    "}"
   ]
  },
  {
   "cell_type": "markdown",
   "metadata": {},
   "source": [
    "#### Pertanyaan\n",
    "1. Jelaskan fungsi dari **rata = total / harga[0].length**!"
   ]
  },
  {
   "cell_type": "code",
   "execution_count": null,
   "metadata": {},
   "outputs": [],
   "source": [
    "// Tuliskan jawaban nomor 1\n",
    "Untuk menampilkan rata-rata harga bahan mulai baris 0 kolom 0 sampai baris 2 kolom 5  "
   ]
  },
  {
   "cell_type": "markdown",
   "metadata": {},
   "source": [
    "2. Mengapa insialisasi variabel **total = 0** dan **rata = 0** berada di dalam perulangan *for* yang pertama? Menurut Anda, apa yang terjadi jika inisialisasi kedua variabel tersebut diletakkan di luar perulangan *for* (setelah deklarasi array)?"
   ]
  },
  {
   "cell_type": "code",
   "execution_count": null,
   "metadata": {},
   "outputs": [],
   "source": [
    "// Tuliskan jawaban nomor 2"
   ]
  },
  {
   "cell_type": "markdown",
   "metadata": {},
   "source": [
    "## Tugas"
   ]
  },
  {
   "cell_type": "markdown",
   "metadata": {},
   "source": [
    "1. Perhatikan flowchart berikut.\n",
    "![Gambar 12](images/tugas-1.jpg)\n",
    "Buat kode program sesuai dengan flowchart tersebut untuk mencari suhu tertinggi yang dicatat dari 5 kota di Jepang selama 7 hari berturut-turut!"
   ]
  },
  {
   "cell_type": "code",
   "execution_count": 1,
   "metadata": {},
   "outputs": [
    {
     "name": "stdout",
     "output_type": "stream",
     "text": [
      "Masukkan suhu kota 1 hari ke 1 = 30\n",
      "\n",
      " Masukkan suhu kota 1 hari ke 2 = 37\n",
      "\n",
      " Masukkan suhu kota 1 hari ke 3 = 36\n",
      "\n",
      " Masukkan suhu kota 1 hari ke 4 = 32\n",
      "\n",
      " Masukkan suhu kota 1 hari ke 5 = 29\n",
      "\n",
      " Masukkan suhu kota 1 hari ke 6 = 31\n",
      "\n",
      " Masukkan suhu kota 1 hari ke 7 = 34\n",
      "\n",
      " Masukkan suhu kota 2 hari ke 1 = 32\n",
      "\n",
      " Masukkan suhu kota 2 hari ke 2 = 29\n",
      "\n",
      " Masukkan suhu kota 2 hari ke 3 = 34\n",
      "\n",
      " Masukkan suhu kota 2 hari ke 4 = 36\n",
      "\n",
      " Masukkan suhu kota 2 hari ke 5 = 37\n",
      "\n",
      " Masukkan suhu kota 2 hari ke 6 = 30\n",
      "\n",
      " Masukkan suhu kota 2 hari ke 7 = 33\n",
      "\n",
      " Masukkan suhu kota 3 hari ke 1 = 33\n",
      "\n",
      " Masukkan suhu kota 3 hari ke 2 = 30\n",
      "\n",
      " Masukkan suhu kota 3 hari ke 3 = 37\n",
      "\n",
      " Masukkan suhu kota 3 hari ke 4 = 36\n",
      "\n",
      " Masukkan suhu kota 3 hari ke 5 = 34\n",
      "\n",
      " Masukkan suhu kota 3 hari ke 6 = 29\n",
      "\n",
      " Masukkan suhu kota 3 hari ke 7 = 30\n",
      "\n",
      " Masukkan suhu kota 4 hari ke 1 = 34\n",
      "\n",
      " Masukkan suhu kota 4 hari ke 2 = 35\n",
      "\n",
      " Masukkan suhu kota 4 hari ke 3 = 32\n",
      "\n",
      " Masukkan suhu kota 4 hari ke 4 = 31\n",
      "\n",
      " Masukkan suhu kota 4 hari ke 5 = 29\n",
      "\n",
      " Masukkan suhu kota 4 hari ke 6 = 28\n",
      "\n",
      " Masukkan suhu kota 4 hari ke 7 = 32\n",
      "\n",
      " Masukkan suhu kota 5 hari ke 1 = 34\n",
      "\n",
      " Masukkan suhu kota 5 hari ke 2 = 35\n",
      "\n",
      " Masukkan suhu kota 5 hari ke 3 = 36\n",
      "\n",
      " Masukkan suhu kota 5 hari ke 4 = 31\n",
      "\n",
      " Masukkan suhu kota 5 hari ke 5 = 30\n",
      "\n",
      " Masukkan suhu kota 5 hari ke 6 = 33\n",
      "\n",
      " Masukkan suhu kota 5 hari ke 7 = 36\n",
      "\n",
      " Suhu tertinggi dari 5 kota di jepang selama 7 hari adalah 37.0"
     ]
    }
   ],
   "source": [
    "// Tuliskan jawaban nomor 1\n",
    "import java.util.Scanner;\n",
    "Scanner sc = new Scanner(System.in);\n",
    "double suhu [][] = new double[5][7];\n",
    "int x,y;\n",
    "double max = 0;\n",
    "for(x=0;x<suhu.length;x++){\n",
    "    for(y=0;y<suhu[0].length;y++){\n",
    "        System.out.print(\"Masukkan suhu kota \" + (x+1)+ \" hari ke \"  + (y+1) + \" = \");\n",
    "        suhu[x][y]= sc.nextDouble();\n",
    "        if (suhu[x][y] > max){\n",
    "            max = suhu[x][y];\n",
    "        }\n",
    "        System.out.printf('\\n' + \" \");\n",
    "    }\n",
    "}\n",
    "System.out.print(\"Suhu tertinggi dari 5 kota di jepang selama 7 hari adalah \" + max);"
   ]
  },
  {
   "cell_type": "markdown",
   "metadata": {},
   "source": [
    "2. Terdapat hasil pencatatan data lima mahasiswa yang berisi informasi mengenai umur, berat badan (kg), dan tinggi badan (cm). Data tersebut disimpan ke dalam array dua dimensi.\n",
    "![Gambar 13](images/tugas-2.PNG)\n",
    "*Keterangan: penyimpanan nilai dapat dilakukan melalui inisialisasi menggunakan operator assignment*\n",
    " * Tampilkan *berat badan terendah* di antara kelima mahasiswa tersebut\n",
    " * Tampilkan *rata-rata tinggi badan* dari kelima mahasiswa tersebut\n",
    " * Tampilkan nama mahasiswa dengan *umur tertua* di antara kelima mahasiswa tersebut"
   ]
  },
  {
   "cell_type": "code",
   "execution_count": 3,
   "metadata": {},
   "outputs": [
    {
     "name": "stdout",
     "output_type": "stream",
     "text": [
      "Berat badan terendah yaitu\t\t\t\t\t : 45\n",
      "Total tinggi badan\t\t\t\t\t\t : 789.0\n",
      "Rata-rata tinggi badan dari kelima mahasiswa tersebut adalah\t :157.8\n",
      "Umur tertua\t\t\t\t\t\t\t : 20\n",
      "Nama mahasiswa\t\t\t\t\t\t\t : Beky\n"
     ]
    }
   ],
   "source": [
    "// Tuliskan jawaban nomor 2\n",
    "import java.util.Scanner;\n",
    "Scanner sc = new Scanner(System.in);\n",
    "int i,j;\n",
    "int [][] dataMahasiswa = {{19,51,155},{18,55,163},{18,45,153},{20,46,158},{19,58,160}};\n",
    "int min = 100;\n",
    "int indeks;\n",
    "int tua=0;\n",
    "double totalTinggiBadan = 0;\n",
    "double rataTinggiBadan = 0;\n",
    "String[] nama = {\"Desi\",\"Rofan\",\"Lala\",\"Beky\",\"Ega\"};\n",
    "for(i=0;i<dataMahasiswa.length;i++){\n",
    "    for(j=0;j<dataMahasiswa[0].length;j++){\n",
    "        if(dataMahasiswa[i][1] < min){\n",
    "            min = dataMahasiswa[i][1];\n",
    "        }\n",
    "    }\n",
    "}\n",
    "for(i=0;i<dataMahasiswa.length;i++){\n",
    "    for(j=0;j<dataMahasiswa[0].length;j++){\n",
    "        if(j == 2)\n",
    "            totalTinggiBadan += dataMahasiswa[i][j];\n",
    "    }\n",
    "}\n",
    "for(i=0;i<dataMahasiswa.length;i++){\n",
    "    for(j=0;j<dataMahasiswa[0].length;j++){\n",
    "        if(dataMahasiswa[i][0]> tua){\n",
    "            tua = dataMahasiswa[i][0];\n",
    "            indeks = i;\n",
    "        }\n",
    "    }\n",
    "}\n",
    "System.out.println(\"Berat badan terendah yaitu\\t\\t\\t\\t\\t : \" + min);\n",
    "rataTinggiBadan = totalTinggiBadan / dataMahasiswa.length;\n",
    "System.out.println(\"Total tinggi badan\\t\\t\\t\\t\\t\\t : \" + totalTinggiBadan);\n",
    "System.out.println(\"Rata-rata tinggi badan dari kelima mahasiswa tersebut adalah\\t :\" +  rataTinggiBadan);\n",
    "System.out.println(\"Umur tertua\\t\\t\\t\\t\\t\\t\\t : \" + tua);\n",
    "System.out.println(\"Nama mahasiswa\\t\\t\\t\\t\\t\\t\\t : \" + nama[indeks]);\n"
   ]
  }
 ],
 "metadata": {
  "kernelspec": {
   "display_name": "Java",
   "language": "java",
   "name": "java"
  },
  "language_info": {
   "codemirror_mode": "java",
   "file_extension": ".jshell",
   "mimetype": "text/x-java-source",
   "name": "Java",
   "pygments_lexer": "java",
   "version": "11.0.12+8-LTS-237"
  }
 },
 "nbformat": 4,
 "nbformat_minor": 4
}
