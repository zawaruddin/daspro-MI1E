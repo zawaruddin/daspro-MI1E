{
 "cells": [
  {
   "cell_type": "markdown",
   "metadata": {},
   "source": [
    "# JOBSHEET 11. ARRAY 2\n",
    "\n",
    "### Nama: Indah Retno Iriani\n",
    "### NIM: 22131710104\n",
    "### Kelas: MI1E"
   ]
  },
  {
   "cell_type": "markdown",
   "metadata": {},
   "source": [
    "## Tujuan\n",
    "* Mahasiswa mampu memahami pembuatan array dua dimensi\n",
    "* Mahasiswa mampu menyelesaikan studi kasus dengan memanfaatkan array dua dimensi"
   ]
  },
  {
   "cell_type": "markdown",
   "metadata": {},
   "source": [
    "## Alat dan Bahan\n",
    "* PC/Laptop\n",
    "* Browser\n",
    "* Koneksi internet\n",
    "* Anaconda3 + Java kernel (opsional)"
   ]
  },
  {
   "cell_type": "markdown",
   "metadata": {},
   "source": [
    "## Praktikum"
   ]
  },
  {
   "cell_type": "markdown",
   "metadata": {},
   "source": [
    "### Percobaan 1: Deklarasi, Inisialisasi, dan Menampilkan Array 2 Dimensi\n",
    "Pada Percobaan 1, kode program yang dibuat digunakan untuk menyimpan nilai praktikum dari 2 orang mahasiswa pada 3 mata kuliah yang berbeda.\n",
    "1.\tBuat array bertipe **integer** dengan nama **nilai** dengan kapasitas baris 2 elemen (menyatakan jumlah mahasiswa) dan kolom 3 elemen (menyatakan jumlah mata kuliah)\n",
    "![Gambar 1](images/percobaan1-1.PNG)"
   ]
  },
  {
   "cell_type": "code",
   "execution_count": 2,
   "metadata": {},
   "outputs": [],
   "source": [
    "// Tuliskan kode program Percobaan 1 Langkah 1\n",
    "int[][] nilai = new int[2][3];"
   ]
  },
  {
   "cell_type": "markdown",
   "metadata": {},
   "source": [
    "2. Isi masing-masing elemen array **nilai** sebagai berikut:\n",
    "![Gambar 2](images/percobaan1-2.PNG)"
   ]
  },
  {
   "cell_type": "code",
   "execution_count": 3,
   "metadata": {},
   "outputs": [
    {
     "data": {
      "text/plain": [
       "67"
      ]
     },
     "execution_count": 3,
     "metadata": {},
     "output_type": "execute_result"
    }
   ],
   "source": [
    "// Tuliskan kode program Percobaan 1 Langkah 2\n",
    "\n",
    "nilai[1][0] = 79;\n",
    "nilai[1][1] = 82;\n",
    "nilai[1][2] = 67;"
   ]
  },
  {
   "cell_type": "markdown",
   "metadata": {},
   "source": [
    "3. Tampilkan semua isi elemen array **nilai**\n",
    "![Gambar 3](images/percobaan1-3.PNG)"
   ]
  },
  {
   "cell_type": "code",
   "execution_count": 4,
   "metadata": {},
   "outputs": [
    {
     "name": "stdout",
     "output_type": "stream",
     "text": [
      "0 0 0\n",
      "79 82 67\n"
     ]
    }
   ],
   "source": [
    "// Tuliskan kode program Percobaan 1 Langkah 2\n",
    "System.out.println(nilai[0][0]+\" \"+nilai[0][1]+\" \"+nilai[0][2]);\n",
    "System.out.println(nilai[1][0]+\" \"+nilai[1][1]+\" \"+nilai[1][2]);"
   ]
  },
  {
   "cell_type": "markdown",
   "metadata": {},
   "source": [
    "#### Pertanyaan\n",
    "1. Apakah pengisian elemen array harus dilakukan secara berurutan mulai dari indeks 0? Jelaskan!"
   ]
  },
  {
   "cell_type": "code",
   "execution_count": null,
   "metadata": {},
   "outputs": [],
   "source": [
    "// Tuliskan jawaban nomor 1\n",
    "Tidak, karena dalam pengisian elemen array dapat menggunakan namaArray[baris][kolom]=nilaiElemen; asalkan pengisiannya sesuai \n",
    "kapasitas baris dan kolom."
   ]
  },
  {
   "cell_type": "markdown",
   "metadata": {},
   "source": [
    "2. Lakukan modifikasi pada Percobaan 1 Langkah 3 untuk menampilkan semua isi elemen array **nilai** menggunakan perulangan *for*"
   ]
  },
  {
   "cell_type": "code",
   "execution_count": 3,
   "metadata": {},
   "outputs": [
    {
     "name": "stdout",
     "output_type": "stream",
     "text": [
      "75 90 88  \n",
      "79 82 67  \n"
     ]
    }
   ],
   "source": [
    "// Tuliskan jawaban nomor 2\n",
    "int[][] nilai = new int[2][3];\n",
    "nilai[0][0] = 75;\n",
    "nilai[0][1] = 90;\n",
    "nilai[0][2] = 88;\n",
    "nilai[1][0] = 79;\n",
    "nilai[1][1] = 82;\n",
    "nilai[1][2] = 67;\n",
    "for(int i=0; i<2; i++){\n",
    "    for(int j=0; j<3; j++){ \n",
    "        System.out.print(nilai[i][j]+\" \");\n",
    "    }\n",
    "    System.out.println(\" \");\n",
    "}"
   ]
  },
  {
   "cell_type": "markdown",
   "metadata": {},
   "source": [
    "### Percobaan 2: Mengisi Elemen Array 2 Dimensi Menggunakan Input Keyboard\n",
    "Pada Percobaan 2, kode program yang dibuat digunakan untuk menyimpan nilai rating restoran yang terdaftar pada aplikasi pemesanan makanan online. Rating diberikan oleh 4 orang pengguna kepada 2 restoran yang terdaftar.\n",
    "1. Import dan deklarasikan Scanner dengan nama **sc**\n",
    "![Gambar 4](images/percobaan2-1.jpg)"
   ]
  },
  {
   "cell_type": "code",
   "execution_count": 6,
   "metadata": {},
   "outputs": [],
   "source": [
    "// Tuliskan kode program Percobaan 2 Langkah 1\n",
    "import java.util.Scanner;\n",
    "Scanner sc = new Scanner(System.in);"
   ]
  },
  {
   "cell_type": "markdown",
   "metadata": {},
   "source": [
    "2.\tBuat array bertipe **integer** dengan nama **rating** dengan kapasitas baris 4 elemen (menyatakan jumlah pengguna) dan kolom 2 elemen (menyatakan jumlah restoran)\n",
    "![Gambar 5](images/percobaan2-2.PNG)"
   ]
  },
  {
   "cell_type": "code",
   "execution_count": 7,
   "metadata": {},
   "outputs": [],
   "source": [
    "// Tuliskan kode program Percobaan 2 Langkah 2\n",
    "int[][] rating = new int[4][2];"
   ]
  },
  {
   "cell_type": "markdown",
   "metadata": {},
   "source": [
    "3. Dengan menggunakan perulangan *for*, buat input untuk mengisi elemen array **rating**\n",
    "![Gambar 6](images/percobaan2-3.PNG)"
   ]
  },
  {
   "cell_type": "code",
   "execution_count": 8,
   "metadata": {},
   "outputs": [
    {
     "name": "stdout",
     "output_type": "stream",
     "text": [
      "Masukkan rating pengguna 0 untuk restoran 0 : 4\n",
      "Masukkan rating pengguna 0 untuk restoran 1 : 2\n",
      "\n",
      "Masukkan rating pengguna 1 untuk restoran 0 : 4\n",
      "Masukkan rating pengguna 1 untuk restoran 1 : 4\n",
      "\n",
      "Masukkan rating pengguna 2 untuk restoran 0 : 5\n",
      "Masukkan rating pengguna 2 untuk restoran 1 : 5\n",
      "\n",
      "Masukkan rating pengguna 3 untuk restoran 0 : 2\n",
      "Masukkan rating pengguna 3 untuk restoran 1 : 5\n",
      "\n"
     ]
    }
   ],
   "source": [
    "// Tuliskan kode program Percobaan 2 Langkah 3\n",
    "for(int i=0; i<rating.length; i++){\n",
    "    for(int j=0; j<rating[0].length; j++){\n",
    "        System.out.print(\"Masukkan rating pengguna \"+i+\" untuk restoran \"+j+\" : \");\n",
    "        rating[i][j]=sc.nextInt();\n",
    "    }\n",
    "    System.out.println(\"\");\n",
    "    \n",
    "}"
   ]
  },
  {
   "cell_type": "markdown",
   "metadata": {},
   "source": [
    "4. Dengan menggunakan perulangan *for-each*, tampilkan semua isi elemen dari array **rating**\n",
    "![Gambar 7](images/percobaan2-4.PNG)"
   ]
  },
  {
   "cell_type": "code",
   "execution_count": 9,
   "metadata": {},
   "outputs": [
    {
     "name": "stdout",
     "output_type": "stream",
     "text": [
      "4 2 \n",
      "4 4 \n",
      "5 5 \n",
      "2 5 \n"
     ]
    }
   ],
   "source": [
    "// Tuliskan kode program Percobaan 2 Langkah 4\n",
    "for(int[] rtg : rating){\n",
    "    for(int r :rtg){\n",
    "        System.out.print(r + \" \");\n",
    "    }\n",
    "    System.out.println(\"\");\n",
    "}"
   ]
  },
  {
   "cell_type": "markdown",
   "metadata": {},
   "source": [
    "#### Pertanyaan\n",
    "1. Pada Percobaan 2 Langkah 3, dapatkah posisi i ditukar dengan posisi j? Jelaskan alasannya!"
   ]
  },
  {
   "cell_type": "code",
   "execution_count": 5,
   "metadata": {},
   "outputs": [
    {
     "name": "stdout",
     "output_type": "stream",
     "text": [
      "Masukkan rating pengguna 0 untuk restoran 0 : 8\n",
      "Masukkan rating pengguna 0 untuk restoran 1 : 4\n",
      "\n",
      "Masukkan rating pengguna 1 untuk restoran 0 : 5\n",
      "Masukkan rating pengguna 1 untuk restoran 1 : 10\n",
      "\n",
      "Masukkan rating pengguna 2 untuk restoran 0 : 2\n"
     ]
    },
    {
     "ename": "EvalException",
     "evalue": "Index 2 out of bounds for length 2",
     "output_type": "error",
     "traceback": [
      "\u001b[1m\u001b[31m---------------------------------------------------------------------------\u001b[0m",
      "\u001b[1m\u001b[31mjava.lang.ArrayIndexOutOfBoundsException: Index 2 out of bounds for length 2\u001b[0m",
      "\u001b[1m\u001b[31m\tat .(#38:1)\u001b[0m"
     ]
    }
   ],
   "source": [
    "// Tuliskan jawaban nomor 1\n",
    "import java.util.Scanner;\n",
    "Scanner sc = new Scanner(System.in);\n",
    "int[][] rating = new int[4][2];\n",
    "\n",
    "for(int i=0; i<rating.length; i++){\n",
    "    for(int j=0; j<rating[0].length; j++){\n",
    "        System.out.print(\"Masukkan rating pengguna \"+i+\" untuk restoran \"+j+\" : \");\n",
    "        rating[j][i]=sc.nextInt();\n",
    "    }\n",
    "    System.out.println(\"\");\n",
    "    \n",
    "}\n",
    "//jika i ditukar dengan j maka terjadi error karena indeksnya dan penempatan tidak sesuai, karena pada saat instansiasi \n",
    "//baris 4 kolom 2 ketika dibalik maka akan menjadi 2 baris dan 4 kolom"
   ]
  },
  {
   "cell_type": "markdown",
   "metadata": {},
   "source": [
    "2. Tambahkan kode program untuk menentukan banyaknya baris dan kolom elemen array secara dinamis (baris dan kolom ditentukan saat program berjalan melalui input keyboard)!"
   ]
  },
  {
   "cell_type": "code",
   "execution_count": 12,
   "metadata": {},
   "outputs": [
    {
     "name": "stdout",
     "output_type": "stream",
     "text": [
      "Masukkan baris: 3\n",
      "Masukkan kolom: 4\n",
      "Masukkan rating pengguna 0 untuk restoran 0 : 2\n",
      "Masukkan rating pengguna 0 untuk restoran 1 : 3\n",
      "Masukkan rating pengguna 0 untuk restoran 2 : 2\n",
      "Masukkan rating pengguna 0 untuk restoran 3 : 3\n",
      "\n",
      "Masukkan rating pengguna 1 untuk restoran 0 : 2\n",
      "Masukkan rating pengguna 1 untuk restoran 1 : 3\n",
      "Masukkan rating pengguna 1 untuk restoran 2 : 2\n",
      "Masukkan rating pengguna 1 untuk restoran 3 : 3\n",
      "\n",
      "Masukkan rating pengguna 2 untuk restoran 0 : 2\n",
      "Masukkan rating pengguna 2 untuk restoran 1 : 3\n",
      "Masukkan rating pengguna 2 untuk restoran 2 : 2\n",
      "Masukkan rating pengguna 2 untuk restoran 3 : 3\n",
      "\n",
      "2 3 2 3 \n",
      "2 3 2 3 \n",
      "2 3 2 3 \n"
     ]
    }
   ],
   "source": [
    "// Tuliskan jawaban nomor 2\n",
    "import java.util.Scanner;\n",
    "Scanner sc = new Scanner(System.in);\n",
    "\n",
    "System.out.print(\"Masukkan baris: \");\n",
    "int baris = sc.nextInt();\n",
    "System.out.print(\"Masukkan kolom: \");\n",
    "int kolom = sc.nextInt();\n",
    "\n",
    "int[][] rating = new int[baris][kolom];\n",
    "for(int i=0; i<rating.length; i++){\n",
    "    for(int j=0; j<rating[0].length; j++){\n",
    "        System.out.print(\"Masukkan rating pengguna \"+i+\" untuk restoran \"+j+\" : \");\n",
    "        rating[i][j]=sc.nextInt();\n",
    "    }\n",
    "    System.out.println(\"\");\n",
    "    \n",
    "}\n",
    "for(int[] rtg : rating){\n",
    "    for(int r :rtg){\n",
    "        System.out.print(r + \" \");\n",
    "    }\n",
    "    System.out.println(\"\");\n",
    "}"
   ]
  },
  {
   "cell_type": "markdown",
   "metadata": {},
   "source": [
    "## Percobaan 3: Melakukan Operasi Aritmatika pada Elemen Array 2 Dimensi\n",
    "Pada Percobaan 3, kode program yang dibuat digunakan untuk menghitung nilai rata-rata harga setiap bahan pokok selama 1 semester. Terdapat 3 bahan pokok yang dicatat harganya setiap akhir bulan. Program dibuat berdasarkan flowchart berikut.\n",
    "![Gambar 8](images/percobaan3.jpg)\n",
    "1. Import dan deklarasikan Scanner dengan nama **sc**\n",
    "![Gambar 9](images/percobaan3-1.jpg)"
   ]
  },
  {
   "cell_type": "code",
   "execution_count": 14,
   "metadata": {},
   "outputs": [],
   "source": [
    "// Tuliskan kode program Percobaan 3 Langkah 1\n",
    "import java.util.Scanner;\n",
    "Scanner sc = new Scanner(System.in);"
   ]
  },
  {
   "cell_type": "markdown",
   "metadata": {},
   "source": [
    "2.\tBuat array bertipe **integer** dengan nama **harga** dengan kapasitas baris 3 elemen (menyatakan jumlah bahan pokok) dan kolom 6 elemen (menyatakan jumlah bulan). Deklarasikan juga variabel **total** dan **rata** bertipe **double**\n",
    "![Gambar 10](images/percobaan3-2.PNG)"
   ]
  },
  {
   "cell_type": "code",
   "execution_count": 15,
   "metadata": {},
   "outputs": [],
   "source": [
    "// Tuliskan kode program Percobaan 3 Langkah 2\n",
    "int[][] harga = new int[3][6];\n",
    "double total, rata;"
   ]
  },
  {
   "cell_type": "markdown",
   "metadata": {},
   "source": [
    "3. Dengan menggunakan perulangan *for*, buat input untuk mengisi elemen array **harga**. Kemudian, perhitungan total harga dilakukan untuk setiap bulan (kolom) pada setiap bahan pokok (baris). Setelah itu, nilai rata-rata dihitung untuk setiap bahan pokok (tiap satu baris) dan ditampilkan\n",
    "![Gambar 11](images/percobaan3-3.PNG)"
   ]
  },
  {
   "cell_type": "code",
   "execution_count": 16,
   "metadata": {},
   "outputs": [
    {
     "name": "stdout",
     "output_type": "stream",
     "text": [
      "Masukkan harga[0][0]: 2000\n",
      "Masukkan harga[0][1]: 3000\n",
      "Masukkan harga[0][2]: 4000\n",
      "Masukkan harga[0][3]: 5000\n",
      "Masukkan harga[0][4]: 6000\n",
      "Masukkan harga[0][5]: 7000\n",
      "Rata-rata harga bahan ke-0 adalah 4500,00\n",
      "Masukkan harga[1][0]: 8000\n",
      "Masukkan harga[1][1]: 9000\n",
      "Masukkan harga[1][2]: 10000\n",
      "Masukkan harga[1][3]: 11000\n",
      "Masukkan harga[1][4]: 12000\n",
      "Masukkan harga[1][5]: 13000\n",
      "Rata-rata harga bahan ke-1 adalah 10500,00\n",
      "Masukkan harga[2][0]: 14000\n",
      "Masukkan harga[2][1]: 15000\n",
      "Masukkan harga[2][2]: 16000\n",
      "Masukkan harga[2][3]: 17000\n",
      "Masukkan harga[2][4]: 18000\n",
      "Masukkan harga[2][5]: 19000\n",
      "Rata-rata harga bahan ke-2 adalah 16500,00\n"
     ]
    }
   ],
   "source": [
    "// Tuliskan kode program Percobaan 3 Langkah 3\n",
    "\n",
    "for(int i=0; i<harga.length; i++){\n",
    "    total = 0;\n",
    "    rata = 0;\n",
    "    for(int j=0; j<harga[0].length;j++){\n",
    "        System.out.printf(\"Masukkan harga[%d][%d]: \",i,j);\n",
    "        harga[i][j] = sc.nextInt();\n",
    "        total += harga[i][j];\n",
    "    }\n",
    "    rata = total/harga[0].length;\n",
    "    System.out.printf(\"Rata-rata harga bahan ke-%d adalah %.2f\\n\", i, rata);\n",
    "}"
   ]
  },
  {
   "cell_type": "markdown",
   "metadata": {},
   "source": [
    "#### Pertanyaan\n",
    "1. Jelaskan fungsi dari **rata = total / harga[0].length**!"
   ]
  },
  {
   "cell_type": "code",
   "execution_count": null,
   "metadata": {},
   "outputs": [],
   "source": [
    "// Tuliskan jawaban nomor 1\n",
    "fungsinya untuk mencari rata-rata dari total kolom harga dalam satu baris"
   ]
  },
  {
   "cell_type": "markdown",
   "metadata": {},
   "source": [
    "2. Mengapa insialisasi variabel **total = 0** dan **rata = 0** berada di dalam perulangan *for* yang pertama? Menurut Anda, apa yang terjadi jika inisialisasi kedua variabel tersebut diletakkan di luar perulangan *for* (setelah deklarasi array)?"
   ]
  },
  {
   "cell_type": "code",
   "execution_count": 17,
   "metadata": {},
   "outputs": [
    {
     "name": "stdout",
     "output_type": "stream",
     "text": [
      "Masukkan harga[0][0]: 2000\n",
      "Masukkan harga[0][1]: 3000\n",
      "Masukkan harga[0][2]: 2000\n",
      "Masukkan harga[0][3]: 3000\n",
      "Masukkan harga[0][4]: 2000\n",
      "Masukkan harga[0][5]: 2000\n",
      "Rata-rata harga bahan ke-0 adalah 2333,33\n",
      "Masukkan harga[1][0]: 3000\n",
      "Masukkan harga[1][1]: 3000\n",
      "Masukkan harga[1][2]: 3000\n",
      "Masukkan harga[1][3]: 3000\n",
      "Masukkan harga[1][4]: 3000\n",
      "Masukkan harga[1][5]: 3000\n",
      "Rata-rata harga bahan ke-1 adalah 5333,33\n",
      "Masukkan harga[2][0]: 5000\n",
      "Masukkan harga[2][1]: 2000\n",
      "Masukkan harga[2][2]: 4000\n",
      "Masukkan harga[2][3]: 1000\n",
      "Masukkan harga[2][4]: 4000\n",
      "Masukkan harga[2][5]: 2000\n",
      "Rata-rata harga bahan ke-2 adalah 8333,33\n"
     ]
    }
   ],
   "source": [
    "// Tuliskan jawaban nomor 2\n",
    "//Karena jika inisialisasi variabel total=0 dan rata=0 diletakkan sebelum perulangan for maka yang terjadi adalah nilai \n",
    "//rata-rata akan bertambah dan tidak kembali ke 0 atau tidak dihitung berdasarkan setiap bahan pokok, seperti program di bawah:\n",
    "import java.util.Scanner;\n",
    "Scanner sc = new Scanner(System.in);\n",
    "\n",
    "int[][] harga = new int[3][6];\n",
    "double total, rata;\n",
    "total = 0;\n",
    "rata = 0;\n",
    "for(int i=0; i<harga.length; i++){\n",
    "    for(int j=0; j<harga[0].length;j++){\n",
    "        System.out.printf(\"Masukkan harga[%d][%d]: \",i,j);\n",
    "        harga[i][j] = sc.nextInt();\n",
    "        total += harga[i][j];\n",
    "    }\n",
    "    rata = total/harga[0].length;\n",
    "    System.out.printf(\"Rata-rata harga bahan ke-%d adalah %.2f\\n\", i, rata);\n",
    "}"
   ]
  },
  {
   "cell_type": "markdown",
   "metadata": {},
   "source": [
    "## Tugas"
   ]
  },
  {
   "cell_type": "markdown",
   "metadata": {},
   "source": [
    "1. Perhatikan flowchart berikut.\n",
    "![Gambar 12](images/tugas-1.jpg)\n",
    "Buat kode program sesuai dengan flowchart tersebut untuk mencari suhu tertinggi yang dicatat dari 5 kota di Jepang selama 7 hari berturut-turut!"
   ]
  },
  {
   "cell_type": "code",
   "execution_count": 1,
   "metadata": {},
   "outputs": [
    {
     "name": "stdout",
     "output_type": "stream",
     "text": [
      "Masukkan suhu: 33\n",
      "Masukkan suhu: 34\n",
      "Masukkan suhu: 34\n",
      "Masukkan suhu: 35\n",
      "Masukkan suhu: 29\n",
      "Masukkan suhu: 24\n",
      "Masukkan suhu: 25\n",
      "Masukkan suhu: 33\n",
      "Masukkan suhu: 40\n",
      "Masukkan suhu: 34\n",
      "Masukkan suhu: 34\n",
      "Masukkan suhu: 45\n",
      "Masukkan suhu: 23\n",
      "Masukkan suhu: 3\n",
      "Masukkan suhu: 34\n",
      "Masukkan suhu: 34\n",
      "Masukkan suhu: 34\n",
      "Masukkan suhu: 34\n",
      "Masukkan suhu: 3\n",
      "Masukkan suhu: 35\n",
      "Masukkan suhu: 35\n",
      "Masukkan suhu: 35\n",
      "Masukkan suhu: 35\n",
      "Masukkan suhu: 34\n",
      "Masukkan suhu: 34\n",
      "Masukkan suhu: 36\n",
      "Masukkan suhu: 22\n",
      "Masukkan suhu: 29\n",
      "Masukkan suhu: 30\n",
      "Masukkan suhu: 30\n",
      "Masukkan suhu: 30\n",
      "Masukkan suhu: 30\n",
      "Masukkan suhu: 30\n",
      "Masukkan suhu: 30\n",
      "Masukkan suhu: 30\n",
      "suhu maksimal adalah: 45.0"
     ]
    }
   ],
   "source": [
    "// Tuliskan jawaban nomor 1\n",
    "import java.util.Scanner;\n",
    "Scanner sc = new Scanner(System.in);\n",
    "\n",
    "double suhu[][] = new double[5][7];\n",
    "int x, y;\n",
    "double max=0;\n",
    "\n",
    "    for(x=0; x<suhu.length; x++){\n",
    "        for(y=0; y<suhu[0].length; y++){\n",
    "            System.out.print(\"Masukkan suhu: \");\n",
    "            suhu[x][y] = sc.nextInt();\n",
    "            if(suhu [x][y] > max){\n",
    "            max = suhu[x][y];\n",
    "            }\n",
    "        }\n",
    "    }\n",
    " System.out.print(\"suhu maksimal adalah: \"+max);"
   ]
  },
  {
   "cell_type": "markdown",
   "metadata": {},
   "source": [
    "2. Terdapat hasil pencatatan data lima mahasiswa yang berisi informasi mengenai umur, berat badan (kg), dan tinggi badan (cm). Data tersebut disimpan ke dalam array dua dimensi.\n",
    "![Gambar 13](images/tugas-2.PNG)\n",
    "*Keterangan: penyimpanan nilai dapat dilakukan melalui inisialisasi menggunakan operator assignment*\n",
    " * Tampilkan *berat badan terendah* di antara kelima mahasiswa tersebut\n",
    " * Tampilkan *rata-rata tinggi badan* dari kelima mahasiswa tersebut\n",
    " * Tampilkan nama mahasiswa dengan *umur tertua* di antara kelima mahasiswa tersebut"
   ]
  },
  {
   "cell_type": "code",
   "execution_count": 5,
   "metadata": {},
   "outputs": [
    {
     "name": "stdout",
     "output_type": "stream",
     "text": [
      "Berat badan terendah mahasiswa adalah : 45\n",
      "Total tinggi badan : 789.0\n",
      "Rata-rata tinggi badan dari kelima mahasiswa adalah : 157.8\n",
      "Beky memiliki umur tertua yaitu 20\n"
     ]
    }
   ],
   "source": [
    "// Tuliskan jawaban nomor 2\n",
    "import java.util.Scanner;\n",
    "Scanner sc = new Scanner(System.in);\n",
    "int i,j;\n",
    "int [][] dataMahasiswa = {{19,51,155},{18,55,163},{18,45,153},{20,46,158},{19,58,160}};\n",
    "String[] nama = {\"Desi\", \"Rofan\", \"Lala\", \"Beky\", \"Ega\"};\n",
    "int min = 100;\n",
    "int indeks;\n",
    "int tua=0;\n",
    "double totalTinggi = 0;\n",
    "double rataTinggi = 0;\n",
    "\n",
    "for(i = 0; i < dataMahasiswa.length; i++) {\n",
    "    for(j = 0; j < dataMahasiswa[1].length; j++) {\n",
    "        if(dataMahasiswa[i][1] < min) {\n",
    "        min = dataMahasiswa[i][1];\n",
    "         }\n",
    "     }\n",
    "}\n",
    "for(i = 0; i < dataMahasiswa.length; i++) {\n",
    "    for(j = 0; j < dataMahasiswa[0].length; j++) {\n",
    "        if(j==2) {\n",
    "        totalTinggi+=dataMahasiswa[i][j];\n",
    "        }\n",
    "     }\n",
    "}\n",
    "for(i=0; i<dataMahasiswa.length; i++) {\n",
    "    for(j=0; j<dataMahasiswa[0].length; j++) {\n",
    "        if(dataMahasiswa[i][0] > tua) {\n",
    "        tua = dataMahasiswa[i][0];\n",
    "        indeks = i;\n",
    "         }\n",
    "     }\n",
    "}\n",
    "System.out.println(\"Berat badan terendah mahasiswa adalah : \" + min);\n",
    "rataTinggi = totalTinggi / dataMahasiswa.length;\n",
    "System.out.println(\"Total tinggi badan : \" + totalTinggi);\n",
    "System.out.println(\"Rata-rata tinggi badan dari kelima mahasiswa adalah : \" + rataTinggi);\n",
    "System.out.println( nama[indeks] +\" memiliki umur tertua yaitu \" + tua);\n",
    "\n"
   ]
  },
  {
   "cell_type": "code",
   "execution_count": null,
   "metadata": {},
   "outputs": [],
   "source": []
  }
 ],
 "metadata": {
  "kernelspec": {
   "display_name": "Java",
   "language": "java",
   "name": "java"
  },
  "language_info": {
   "codemirror_mode": "java",
   "file_extension": ".jshell",
   "mimetype": "text/x-java-source",
   "name": "Java",
   "pygments_lexer": "java",
   "version": "11.0.12+8-LTS-237"
  }
 },
 "nbformat": 4,
 "nbformat_minor": 4
}
