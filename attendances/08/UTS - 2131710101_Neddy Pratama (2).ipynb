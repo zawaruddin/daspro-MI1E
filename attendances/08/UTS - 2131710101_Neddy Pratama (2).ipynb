{
 "cells": [
  {
   "cell_type": "markdown",
   "metadata": {
    "collapsed": true
   },
   "source": [
    "# Ujian Tengah Semester (UTS)\n",
    "\n",
    "- **NIM   : 2131710101\n",
    "- **Nama  : Neddy Pratama Wiryawan\n",
    "- **Kelas : MI-1E\n",
    "\n",
    "## Deskripsi\n",
    "+ Silahkan kerjakan soal yang sekiranya mudah dahulu\n",
    "+ Jawaban langsung ditulis di bawah soal\n",
    "+ Waktu pengerjaan UTS adalah *90 menit*\n",
    "    - submit jawaban ke LMS maksimal pukul 10.45, lebih dari itu **nilai dikurangi**\n",
    "    - submit dan pull-request via github akan diberi nilai tambah (maksimal pukul 10.50, lebih dari itu **tidak diberi** nilai tambah)\n",
    "\n",
    "## Soal UTS\n",
    "### Soal 1  (skor 30)\n",
    "Buatlah sebuah program untuk menentukan minimal lembar uang yang dikeluarkan berdasarkan inputan uang yang diinputkan user (menggunakan _library Scanner_). Lembar uang sesuai dengan lembar nominal mata uang Rupiah yaitu lembar uang 1.000, 2.000, 5.000, 10.000, 20.000, 50.000, dan 100.000.\n",
    "\n",
    "Contoh: ![Contoh Soal 1](images/Soal1.png)"
   ]
  },
  {
   "cell_type": "code",
   "execution_count": 8,
   "metadata": {},
   "outputs": [
    {
     "name": "stdout",
     "output_type": "stream",
     "text": [
      "Masukkan jumlah uang: 137000\n",
      "Lembar uang 100.000 : 1\n",
      "Lembar uang 50.000 : 0\n",
      "Lembar uang 20.000 : 1\n",
      "Lembar uang 10.000 : 1\n",
      "Lembar uang 5.000 : 1\n",
      "Lembar uang 2.000 : 1\n",
      "Lembar uang 1.000 : 0\n"
     ]
    }
   ],
   "source": [
    "/* Jawaban Soal 1 */\n",
    "import java.util.Scanner;\n",
    "Scanner sc = new Scanner(System.in);\n",
    "int uang ,ratusan, puluhan, ribuan, a, b, c, d;\n",
    "System.out.print(\"Masukkan jumlah uang: \");\n",
    "uang = sc.nextInt();\n",
    "ratusan = uang / 100000;\n",
    "puluhan = (uang - 100000 * ratusan) / 50000;\n",
    "a = (uang - 100000*ratusan - 50000*puluhan) / 20000;\n",
    "b = (uang - 100000*ratusan - 50000*puluhan - 20000*a) / 10000;\n",
    "c = (uang - 100000*ratusan - 50000*puluhan - 20000*a - 10000*b) / 5000;\n",
    "d = (uang - 100000*ratusan - 50000*puluhan - 20000*a - 10000*b - 5000*c) / 2000;\n",
    "ribuan = (uang - 100000*ratusan - 50000*puluhan - 20000*a - 10000*b - 5000*c - 2000*d) / 1000;\n",
    "System.out.println(\"Lembar uang 100.000 : \" + ratusan);\n",
    "System.out.println(\"Lembar uang 50.000 : \" + puluhan);\n",
    "System.out.println(\"Lembar uang 20.000 : \" + a);\n",
    "System.out.println(\"Lembar uang 10.000 : \" + b);\n",
    "System.out.println(\"Lembar uang 5.000 : \" + c);\n",
    "System.out.println(\"Lembar uang 2.000 : \" + d);\n",
    "System.out.println(\"Lembar uang 1.000 : \" + ribuan);"
   ]
  },
  {
   "cell_type": "markdown",
   "metadata": {},
   "source": [
    "### Soal 2 (skor 20)\n",
    "Buatlah program dengan menggunakan **semua perulangan** _(for, while, do-while)_ untuk menampilkan huruf abjad A-Z secara terurut. Program akan selesai menampilkan huruf abjad (selesai _looping_) ketika huruf yang ditampilkan sama dengan huruf yang dimasukkan oleh pengguna.\n",
    "\n",
    "Contoh ![Contoh Soal 2](images/Soal2.png)"
   ]
  },
  {
   "cell_type": "code",
   "execution_count": 11,
   "metadata": {},
   "outputs": [
    {
     "name": "stdout",
     "output_type": "stream",
     "text": [
      "Masukkan huruf untuk berhenti looping: M\n",
      "Output program (Looping For): ABCDEFGHIJKL\n",
      "Program berhenti looping di iterasi ke-12\n",
      "Output program (Looping While): ABCDEFGHIJKL\n",
      "Program berhenti looping di iterasi ke-12\n",
      "Output program (Looping Do-While): ABCDEFGHIJKL\n",
      "Program berhenti looping di iterasi ke-12"
     ]
    }
   ],
   "source": [
    "/* Jawaban Soal 2 */\n",
    "import java.util.Scanner;\n",
    "Scanner sc = new Scanner(System.in);\n",
    "char huruf, a;\n",
    "int angka1, angka2, angka3, i, j, k;\n",
    "byte b;\n",
    "b=0;\n",
    "System.out.print(\"Masukkan huruf untuk berhenti looping: \");\n",
    "huruf = sc.next().charAt(0);\n",
    "System.out.print(\"Output program (Looping For): \");\n",
    "for (i=65; i<=90; i++){\n",
    "    a = (char) i;\n",
    "    System.out.print(a);\n",
    "    angka1 = huruf;\n",
    "    angka1--;\n",
    "    b++;\n",
    "    if (i==angka1) break;\n",
    "}\n",
    "System.out.print(\"\\nProgram berhenti looping di iterasi ke-\" + b);\n",
    "System.out.print(\"\\nOutput program (Looping While): \");\n",
    "j=65;\n",
    "while (j<=90){\n",
    "    a = (char) j;\n",
    "    System.out.print(a);\n",
    "    angka2 = huruf;\n",
    "    j++;\n",
    "    if (j==angka2) break;\n",
    "    \n",
    "}\n",
    "System.out.print(\"\\nProgram berhenti looping di iterasi ke-\" + b);\n",
    "System.out.print(\"\\nOutput program (Looping Do-While): \");\n",
    "k=65;\n",
    "do {\n",
    "    a = (char) k;\n",
    "    System.out.print(a);\n",
    "    angka3 = huruf;\n",
    "    k++;\n",
    "    if (k==angka3) break;\n",
    "} while (k<=90);\n",
    "System.out.print(\"\\nProgram berhenti looping di iterasi ke-\" + b);"
   ]
  },
  {
   "cell_type": "markdown",
   "metadata": {},
   "source": [
    "### Soal 3 (skor 20/30)\n",
    "Buatlah sebuah program dengan menggunakan **satu jenis perulangan** untuk menghitung nilai berdasarkan masukkan dari user. Perulangan akan terus berjalan jika user mengetikkan huruf kapital **\"Y\"** dan perulangan akan berhenti saat user mengetikkan huruf kapital **\"N\"**. \n",
    "Setelah perulangan berhenti, program akan memilih **angka terkecil** dan **angka terbesar** dari angka yang dimasukkan user dan menghitung jumlah dan rata-rata angkat-angka tersebut. Program boleh menggunakan salah satu perulangan : \n",
    "\n",
    "  + _While_ (20 poin), atau\n",
    "  + _Do-while_ (20 poin), atau\n",
    "  + _For_ (30 poin)\n",
    "  \n",
    "Contoh ![Contoh Soal 3](images/Soal3.png)\n"
   ]
  },
  {
   "cell_type": "code",
   "execution_count": 42,
   "metadata": {},
   "outputs": [
    {
     "name": "stdout",
     "output_type": "stream",
     "text": [
      "Masukkan angka ke-1 : 10\n",
      "\n",
      "Mau memasukkan angka kembali (Y/N) ? 18\n",
      "Masukkan angka ke-2 : 12\n",
      "\n",
      "Mau memasukkan angka kembali (Y/N) ? y\n",
      "Masukkan angka ke-3 : 8\n",
      "\n",
      "Mau memasukkan angka kembali (Y/N) ? y\n",
      "Masukkan angka ke-4 : 6\n",
      "\n",
      "Mau memasukkan angka kembali (Y/N) ? n\n",
      "\n",
      "Angka terkecil: 6\n",
      "Angka terbesar: 12\n",
      "Angka total: 36\n",
      "Angka rata-rata: 9"
     ]
    }
   ],
   "source": [
    "/* Jawaban Soal 3 */\n",
    "import java.util.Scanner;\n",
    "Scanner sc = new Scanner(System.in);\n",
    "int i, angka, besar, kecil, total, rata;\n",
    "char jawab;\n",
    "for (i=1; i<= 10; ++i){\n",
    "    System.out.print(\"Masukkan angka ke-\" + i + \" : \");\n",
    "    angka = sc.nextInt();\n",
    "    System.out.print(\"\\nMau memasukkan angka kembali (Y/N) ? \");\n",
    "    jawab = sc.next().charAt(0);\n",
    "    total+=angka;\n",
    "    rata = total/i;\n",
    "    if (besar < angka){\n",
    "        besar = angka;\n",
    "    } else {\n",
    "        kecil = angka;\n",
    "    }\n",
    "    if (jawab=='N' || jawab=='n') break;\n",
    "}\n",
    "System.out.print(\"\\nAngka terkecil: \" + kecil);\n",
    "System.out.print(\"\\nAngka terbesar: \" + besar);\n",
    "System.out.print(\"\\nAngka total: \" + total);\n",
    "System.out.print(\"\\nAngka rata-rata: \" + rata)"
   ]
  },
  {
   "cell_type": "markdown",
   "metadata": {},
   "source": [
    "### Soal 4 (skor 30++)\n",
    "Buatlah program klasifikasi umur yang sesuai dengan flowchar berikut **(skor 30)**. \n",
    "![Contoh Soal 4](images/Soal4.png)\n",
    "\n",
    "Saat perulangan berhenti. Hitung jumlah rata-rata umur yang telah dimasukkan, dan dari rata-rata tersebut termasuk klasifikasi umur apa? **(+poin 20)**"
   ]
  },
  {
   "cell_type": "code",
   "execution_count": 1,
   "metadata": {},
   "outputs": [
    {
     "name": "stdout",
     "output_type": "stream",
     "text": [
      "Masukkan umur: 12\n",
      "Remaja\n",
      "Masukkan huruf (1 untuk lanjut, 0 untuk stop): \n",
      "1\n",
      "Masukkan umur: 12\n",
      "Remaja\n",
      "Masukkan huruf (1 untuk lanjut, 0 untuk stop): \n",
      "1\n",
      "Masukkan umur: 12\n",
      "Remaja\n",
      "Masukkan huruf (1 untuk lanjut, 0 untuk stop): \n",
      "0\n",
      "Rata-rata adalah: 12"
     ]
    }
   ],
   "source": [
    "/* Jawaban Soal 4 */\n",
    "import java.util.Scanner;\n",
    "Scanner sc = new Scanner(System.in);\n",
    "int umur;\n",
    "int i, rata;\n",
    "byte jawab;\n",
    "for (i=1; i<=20; i++){\n",
    "    System.out.print(\"Masukkan umur: \");\n",
    "    umur = sc.nextInt();\n",
    "    if (umur <= 5){\n",
    "        System.out.println(\"Balita\");\n",
    "    } else if (umur <= 10){\n",
    "        System.out.println(\"Anak-Anak\");\n",
    "    } else if (umur <= 17){\n",
    "        System.out.println(\"Remaja\");\n",
    "    } else if (umur <= 40){\n",
    "        System.out.println(\"Dewasa\");\n",
    "    } else if (umur <= 60){\n",
    "        System.out.println(\"Paruh Baya\");\n",
    "    } else {\n",
    "        System.out.println(\"Tua\");\n",
    "    }\n",
    "    rata+=umur;\n",
    "    System.out.println(\"Masukkan huruf (1 untuk lanjut, 0 untuk stop): \");\n",
    "    jawab = sc.nextByte();\n",
    "    if (jawab==0) break;\n",
    "}\n",
    "rata/=i;\n",
    "System.out.print(\"Rata-rata adalah: \" + rata);"
   ]
  },
  {
   "cell_type": "code",
   "execution_count": null,
   "metadata": {},
   "outputs": [],
   "source": []
  }
 ],
 "metadata": {
  "kernelspec": {
   "display_name": "Java",
   "language": "java",
   "name": "java"
  },
  "language_info": {
   "codemirror_mode": "java",
   "file_extension": ".jshell",
   "mimetype": "text/x-java-source",
   "name": "Java",
   "pygments_lexer": "java",
   "version": "11.0.12+8-LTS-237"
  }
 },
 "nbformat": 4,
 "nbformat_minor": 1
}
