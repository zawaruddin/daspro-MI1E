{
 "cells": [
  {
   "cell_type": "markdown",
   "metadata": {
    "collapsed": true
   },
   "source": [
    "# Ujian Tengah Semester (UTS)\n",
    "\n",
    "- NIM   :2131710079 \n",
    "- Nama  :WISANG GARNIES RINEKSA PANGGALIH\n",
    "- Kelas : MI-1E\n",
    "\n",
    "## Deskripsi\n",
    "+ Silahkan kerjakan soal yang sekiranya mudah dahulu\n",
    "+ Jawaban langsung ditulis di bawah soal\n",
    "+ Waktu pengerjaan UTS adalah *90 menit*\n",
    "    - submit jawaban ke LMS maksimal pukul 10.45, lebih dari itu **nilai dikurangi**\n",
    "    - submit dan pull-request via github akan diberi nilai tambah (maksimal pukul 10.50, lebih dari itu **tidak diberi** nilai tambah)\n",
    "\n",
    "## Soal UTS\n",
    "### Soal 1  (skor 30)\n",
    "Buatlah sebuah program untuk menentukan minimal lembar uang yang dikeluarkan berdasarkan inputan uang yang diinputkan user (menggunakan _library Scanner_). Lembar uang sesuai dengan lembar nominal mata uang Rupiah yaitu lembar uang 1.000, 2.000, 5.000, 10.000, 20.000, 50.000, dan 100.000.\n",
    "\n",
    "Contoh: ![Contoh Soal 1](images/Soal1.png)"
   ]
  },
  {
   "cell_type": "code",
   "execution_count": 3,
   "metadata": {},
   "outputs": [
    {
     "name": "stdout",
     "output_type": "stream",
     "text": [
      "===Program Menentukan Minimal===\n",
      "Nim : 2131710079\n",
      "Nama : Wisang Garnies Rineksa Panggalih\n"
     ]
    },
    {
     "ename": "IncompleteSourceException",
     "evalue": "do{\n    Scanner input = new Scanner(System.in);\n    System.out.print(\"Masukkan Jumlah Uang : \");\n    double jumlahuang = input.nextDouble();\n    \n    int hitung = (int)(JumlahUang/10000);\n    int sisa = (int)(JumlahUang%10000);\n    \n    int hitung2 = sisa/5000;\n    int sisa2 = (int)(JumlahUang%5000);\n    \n    int hitung3 = sisa2/1000;\n    int sisa3 = (int)(JumlahUang%1000);\n    if(sisa3 != 0){\n        System.out.println(\"Jumlah uang harus kelipatan 1000\");\n        \n        System.out.print();\n    }else{\n        System.out.println();\n        System.out.println(\"Jumlah uang 10.000 sebanyak \"+hitung);\n        System.out.println(\"Jumlah uang 5.000 sebanyak \"+hitung2);\n    }\n        \n}",
     "output_type": "error",
     "traceback": [
      "\u001b[1m\u001b[31mIncomplete input:\u001b[0m",
      "\u001b[1m\u001b[30m|   \u001b[1m\u001b[30mdo{\u001b[0m",
      "\u001b[1m\u001b[30m|   \u001b[1m\u001b[30m    Scanner input = new Scanner(System.in);\u001b[0m",
      "\u001b[1m\u001b[30m|   \u001b[1m\u001b[30m    System.out.print(\"Masukkan Jumlah Uang : \");\u001b[0m",
      "\u001b[1m\u001b[30m|   \u001b[1m\u001b[30m    double jumlahuang = input.nextDouble();\u001b[0m",
      "\u001b[1m\u001b[30m|   \u001b[1m\u001b[30m    \u001b[0m",
      "\u001b[1m\u001b[30m|   \u001b[1m\u001b[30m    int hitung = (int)(JumlahUang/10000);\u001b[0m",
      "\u001b[1m\u001b[30m|   \u001b[1m\u001b[30m    int sisa = (int)(JumlahUang%10000);\u001b[0m",
      "\u001b[1m\u001b[30m|   \u001b[1m\u001b[30m    \u001b[0m",
      "\u001b[1m\u001b[30m|   \u001b[1m\u001b[30m    int hitung2 = sisa/5000;\u001b[0m",
      "\u001b[1m\u001b[30m|   \u001b[1m\u001b[30m    int sisa2 = (int)(JumlahUang%5000);\u001b[0m",
      "\u001b[1m\u001b[30m|   \u001b[1m\u001b[30m    \u001b[0m",
      "\u001b[1m\u001b[30m|   \u001b[1m\u001b[30m    int hitung3 = sisa2/1000;\u001b[0m",
      "\u001b[1m\u001b[30m|   \u001b[1m\u001b[30m    int sisa3 = (int)(JumlahUang%1000);\u001b[0m",
      "\u001b[1m\u001b[30m|   \u001b[1m\u001b[30m    if(sisa3 != 0){\u001b[0m",
      "\u001b[1m\u001b[30m|   \u001b[1m\u001b[30m        System.out.println(\"Jumlah uang harus kelipatan 1000\");\u001b[0m",
      "\u001b[1m\u001b[30m|   \u001b[1m\u001b[30m        \u001b[0m",
      "\u001b[1m\u001b[30m|   \u001b[1m\u001b[30m        System.out.print();\u001b[0m",
      "\u001b[1m\u001b[30m|   \u001b[1m\u001b[30m    }else{\u001b[0m",
      "\u001b[1m\u001b[30m|   \u001b[1m\u001b[30m        System.out.println();\u001b[0m",
      "\u001b[1m\u001b[30m|   \u001b[1m\u001b[30m        System.out.println(\"Jumlah uang 10.000 sebanyak \"+hitung);\u001b[0m",
      "\u001b[1m\u001b[30m|   \u001b[1m\u001b[30m        System.out.println(\"Jumlah uang 5.000 sebanyak \"+hitung2);\u001b[0m",
      "\u001b[1m\u001b[30m|   \u001b[1m\u001b[30m    }\u001b[0m",
      "\u001b[1m\u001b[30m|   \u001b[1m\u001b[30m        \u001b[0m",
      "\u001b[1m\u001b[30m|   \u001b[1m\u001b[30m}\u001b[0m"
     ]
    }
   ],
   "source": [
    "/* Jawaban Soal 1 */\n",
    "import java.util.Scanner;\n",
    "Scanner input = new Scanner(System.in);\n",
    "int nim;\n",
    "int nama;\n",
    "System.out.println(\"===Program Menentukan Minimal===\");\n",
    "System.out.println(\"Nim : 2131710079\");\n",
    "System.out.println(\"Nama : Wisang Garnies Rineksa Panggalih\");\n",
    "do{\n",
    "    Scanner input = new Scanner(System.in);\n",
    "    System.out.print(\"Masukkan Jumlah Uang : \");\n",
    "    double jumlahuang = input.nextDouble();\n",
    "    \n",
    "    int hitung = (int)(JumlahUang/10000);\n",
    "    int sisa = (int)(JumlahUang%10000);\n",
    "    \n",
    "    int hitung2 = sisa/5000;\n",
    "    int sisa2 = (int)(JumlahUang%5000);\n",
    "    \n",
    "    int hitung3 = sisa2/1000;\n",
    "    int sisa3 = (int)(JumlahUang%1000);\n",
    "    if(sisa3 != 0){\n",
    "        System.out.println(\"Jumlah uang harus kelipatan 1000\");\n",
    "        \n",
    "        System.out.print();\n",
    "    }else{\n",
    "        System.out.println();\n",
    "        System.out.println(\"Jumlah uang 10.000 sebanyak \"+hitung);\n",
    "        System.out.println(\"Jumlah uang 5.000 sebanyak \"+hitung2);\n",
    "    }\n",
    "        \n",
    "}"
   ]
  },
  {
   "cell_type": "markdown",
   "metadata": {},
   "source": [
    "### Soal 2 (skor 20)\n",
    "Buatlah program dengan menggunakan **semua perulangan** _(for, while, do-while)_ untuk menampilkan huruf abjad A-Z secara terurut. Program akan selesai menampilkan huruf abjad (selesai _looping_) ketika huruf yang ditampilkan sama dengan huruf yang dimasukkan oleh pengguna.\n",
    "\n",
    "Contoh ![Contoh Soal 2](images/Soal2.png)"
   ]
  },
  {
   "cell_type": "code",
   "execution_count": 4,
   "metadata": {},
   "outputs": [
    {
     "name": "stdout",
     "output_type": "stream",
     "text": [
      "===Program menampilkan huruf abjad=== \n",
      "Nama : Wisang Garnies Rineksa Panggalih\n",
      "Nim : 2131710079\n"
     ]
    }
   ],
   "source": [
    "/* Jawaban Soal 2 */\n",
    "import java.util.Scanner;\n",
    "Scanner input = new Scanner(System.in);\n",
    "int nama;\n",
    "int nim;\n",
    "System.out.println(\"===Program menampilkan huruf abjad=== \");\n",
    "System.out.println(\"Nama : Wisang Garnies Rineksa Panggalih\");\n",
    "System.out.println(\"Nim : 2131710079\");"
   ]
  },
  {
   "cell_type": "markdown",
   "metadata": {},
   "source": [
    "### Soal 3 (skor 20/30)\n",
    "Buatlah sebuah program dengan menggunakan **satu jenis perulangan** untuk menghitung nilai berdasarkan masukkan dari user. Perulangan akan terus berjalan jika user mengetikkan huruf kapital **\"Y\"** dan perulangan akan berhenti saat user mengetikkan huruf kapital **\"N\"**. \n",
    "Setelah perulangan berhenti, program akan memilih **angka terkecil** dan **angka terbesar** dari angka yang dimasukkan user dan menghitung jumlah dan rata-rata angkat-angka tersebut. Program boleh menggunakan salah satu perulangan : \n",
    "\n",
    "  + _While_ (20 poin), atau\n",
    "  + _Do-while_ (20 poin), atau\n",
    "  + _For_ (30 poin)\n",
    "  \n",
    "Contoh ![Contoh Soal 3](images/Soal3.png)\n"
   ]
  },
  {
   "cell_type": "code",
   "execution_count": 3,
   "metadata": {},
   "outputs": [],
   "source": [
    "/* Jawaban Soal 3 */\n",
    "\n"
   ]
  },
  {
   "cell_type": "markdown",
   "metadata": {},
   "source": [
    "### Soal 4 (skor 30++)\n",
    "Buatlah program klasifikasi umur yang sesuai dengan flowchar berikut **(skor 30)**. \n",
    "![Contoh Soal 4](images/Soal4.png)\n",
    "\n",
    "Saat perulangan berhenti. Hitung jumlah rata-rata umur yang telah dimasukkan, dan dari rata-rata tersebut termasuk klasifikasi umur apa? **(+poin 20)**"
   ]
  },
  {
   "cell_type": "code",
   "execution_count": 4,
   "metadata": {},
   "outputs": [],
   "source": [
    "/* Jawaban Soal 4 */\n",
    "\n"
   ]
  },
  {
   "cell_type": "code",
   "execution_count": null,
   "metadata": {},
   "outputs": [],
   "source": []
  }
 ],
 "metadata": {
  "kernelspec": {
   "display_name": "Java",
   "language": "java",
   "name": "java"
  },
  "language_info": {
   "codemirror_mode": "java",
   "file_extension": ".jshell",
   "mimetype": "text/x-java-source",
   "name": "Java",
   "pygments_lexer": "java",
   "version": "11.0.12+8-LTS-237"
  }
 },
 "nbformat": 4,
 "nbformat_minor": 1
}
