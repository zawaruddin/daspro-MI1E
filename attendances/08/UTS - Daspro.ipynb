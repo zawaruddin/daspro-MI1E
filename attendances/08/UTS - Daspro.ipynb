{
 "cells": [
  {
   "cell_type": "markdown",
   "metadata": {
    "collapsed": true
   },
   "source": [
    "# Ujian Tengah Semester (UTS)\n",
    "\n",
    "- **NIM   :2131710148\n",
    "- **Nama  :Kansha Maulidya Shyfa\n",
    "- **Kelas : MI-1E\n",
    "\n",
    "## Deskripsi\n",
    "+ Silahkan kerjakan soal yang sekiranya mudah dahulu\n",
    "+ Jawaban langsung ditulis di bawah soal\n",
    "+ Waktu pengerjaan UTS adalah *90 menit*\n",
    "    - submit jawaban ke LMS maksimal pukul 10.45, lebih dari itu **nilai dikurangi**\n",
    "    - submit dan pull-request via github akan diberi nilai tambah (maksimal pukul 10.50, lebih dari itu **tidak diberi** nilai tambah)\n",
    "\n",
    "## Soal UTS\n",
    "### Soal 1  (skor 30)\n",
    "Buatlah sebuah program untuk menentukan minimal lembar uang yang dikeluarkan berdasarkan inputan uang yang diinputkan user (menggunakan _library Scanner_). Lembar uang sesuai dengan lembar nominal mata uang Rupiah yaitu lembar uang 1.000, 2.000, 5.000, 10.000, 20.000, 50.000, dan 100.000.\n",
    "\n",
    "Contoh: ![Contoh Soal 1](images/Soal1.png)"
   ]
  },
  {
   "cell_type": "code",
   "execution_count": 17,
   "metadata": {},
   "outputs": [
    {
     "name": "stdout",
     "output_type": "stream",
     "text": [
      "NIM : 2131710148\n",
      "Nama : Kansha Maulidya Shyfa\n",
      "------------------------------\n",
      ">>Mulai\n"
     ]
    },
    {
     "ename": "CompilationException",
     "evalue": "",
     "output_type": "error",
     "traceback": [
      "\u001b[1m\u001b[30m|   \u001b[1m\u001b[30mint sisa\u001b[0m\u001b[1m\u001b[30m\u001b[41m\u001b[0m\u001b[1m\u001b[30m 4 = (int)(JumlahUang%10000);\u001b[0m",
      "\u001b[1m\u001b[31m';' expected\u001b[0m",
      "",
      "\u001b[1m\u001b[30m|   \u001b[1m\u001b[30mint sisa 4 = (\u001b[0m\u001b[1m\u001b[30m\u001b[41mint\u001b[0m\u001b[1m\u001b[30m)(JumlahUang%10000);\u001b[0m",
      "\u001b[1m\u001b[31mnot a statement\u001b[0m",
      "",
      "\u001b[1m\u001b[30m|   \u001b[1m\u001b[30mint sisa 4 = (int\u001b[0m\u001b[1m\u001b[30m\u001b[41m\u001b[0m\u001b[1m\u001b[30m)(JumlahUang%10000);\u001b[0m",
      "\u001b[1m\u001b[31m';' expected\u001b[0m",
      "",
      "\u001b[1m\u001b[30m|   \u001b[1m\u001b[30mint sisa 4 = (int)(\u001b[0m\u001b[1m\u001b[30m\u001b[41mJumlahUang%10000\u001b[0m\u001b[1m\u001b[30m);\u001b[0m",
      "\u001b[1m\u001b[31mnot a statement\u001b[0m",
      "",
      "\u001b[1m\u001b[30m|   \u001b[1m\u001b[30mint sisa 4 = (int)(JumlahUang%10000\u001b[0m\u001b[1m\u001b[30m\u001b[41m\u001b[0m\u001b[1m\u001b[30m);\u001b[0m",
      "\u001b[1m\u001b[31m';' expected\u001b[0m",
      "",
      "\u001b[1m\u001b[30m|   \u001b[1m\u001b[30m}while\u001b[0m\u001b[1m\u001b[30m\u001b[41m\u001b[0m\u001b[1m\u001b[30m\u001b[0m",
      "\u001b[1m\u001b[31m'(' expected\u001b[0m",
      "",
      "\u001b[1m\u001b[30m|   \u001b[1m\u001b[30m    System.out.println(\"program salah\")\u001b[0m\u001b[1m\u001b[30m\u001b[41m\u001b[0m\u001b[1m\u001b[30m;\u001b[0m",
      "\u001b[1m\u001b[31m')' expected\u001b[0m",
      ""
     ]
    }
   ],
   "source": [
    "/* Jawaban Soal 1 */\n",
    "import java.util.Scanner;\n",
    "double uang;\n",
    "System.out.println(\"NIM : 2131710148\");\n",
    "System.out.println(\"Nama : Kansha Maulidya Shyfa\");\n",
    "System.out.println(\"------------------------------\");\n",
    "System.out.println(\">>Mulai\");\n",
    "do{\n",
    "    Scanner sc = new Scanner(System.in);\n",
    "    System.out.print(\"Masukkan nominal uang: \");\n",
    "uang = sc.nextDouble();\n",
    "int hitung = (int)(JumlahUang/100000);\n",
    "int sisa = (int)(JumlahUang%100000);\n",
    "    \n",
    "int hitung2 = sisa/50000;\n",
    "int sisa2 = (int)(JumlahUang%50000);\n",
    "    \n",
    "int hitung3 = sisa2/20000;\n",
    "int sisa3 = (int)(JumlahUang%20000);\n",
    "    \n",
    "int hitung4 = sisa3/10000;\n",
    "int sisa 4 = (int)(JumlahUang%10000);\n",
    "    \n",
    "int hitung5 = sisa4/5000;\n",
    "int sisa5 = (int)(JumlahUang%5000);\n",
    "    \n",
    "int hitung6 = sisa5/2000;\n",
    "int sisa6 = (int)(JumlahUang%2000);\n",
    "    \n",
    "int hitung7 = sisa7/1000;\n",
    "int sisa7 = (int)(JumlahUang%1000);\n",
    "if(sisa7 !=0){\n",
    "    System.out.println(\"Jumlah uang harus kelipatan 1000\");\n",
    "    Sustem.out.println();\n",
    "}else{\n",
    "    System.out.println();\n",
    "    System.out.println(\"Lembar uang 100.000 : \" +hitung);\n",
    "    System.out.println(\"Lembar uang 50.000 : \" +hitung2);\n",
    "    System.out.println(\"Lembar uang 20.000 : \" +hitung3);\n",
    "    System.out.println(\"Lembar uang 10.000 : \" +hitung4);\n",
    "    System.out.println(\"Lembar uang 5.000 : \" +hitung5);\n",
    "    System.out.println(\"Lembar uang 2.000 : \" +hitung6);\n",
    "    System.out.println(\"Lembar uang 1.000 : \" +hitung7);\n",
    "}\n",
    "\n",
    "}while\n",
    "    System.out.println(\"program salah\");\n",
    "System.out.println(\"Selesai<<<\");\n"
   ]
  },
  {
   "cell_type": "markdown",
   "metadata": {},
   "source": [
    "### Soal 2 (skor 20)\n",
    "Buatlah program dengan menggunakan **semua perulangan** _(for, while, do-while)_ untuk menampilkan huruf abjad A-Z secara terurut. Program akan selesai menampilkan huruf abjad (selesai _looping_) ketika huruf yang ditampilkan sama dengan huruf yang dimasukkan oleh pengguna.\n",
    "\n",
    "Contoh ![Contoh Soal 2](images/Soal2.png)"
   ]
  },
  {
   "cell_type": "code",
   "execution_count": 2,
   "metadata": {},
   "outputs": [],
   "source": [
    "/* Jawaban Soal 2 */\n",
    "\n"
   ]
  },
  {
   "cell_type": "markdown",
   "metadata": {},
   "source": [
    "### Soal 3 (skor 20/30)\n",
    "Buatlah sebuah program dengan menggunakan **satu jenis perulangan** untuk menghitung nilai berdasarkan masukkan dari user. Perulangan akan terus berjalan jika user mengetikkan huruf kapital **\"Y\"** dan perulangan akan berhenti saat user mengetikkan huruf kapital **\"N\"**. \n",
    "Setelah perulangan berhenti, program akan memilih **angka terkecil** dan **angka terbesar** dari angka yang dimasukkan user dan menghitung jumlah dan rata-rata angkat-angka tersebut. Program boleh menggunakan salah satu perulangan : \n",
    "\n",
    "  + _While_ (20 poin), atau\n",
    "  + _Do-while_ (20 poin), atau\n",
    "  + _For_ (30 poin)\n",
    "  \n",
    "Contoh ![Contoh Soal 3](images/Soal3.png)\n"
   ]
  },
  {
   "cell_type": "code",
   "execution_count": 21,
   "metadata": {},
   "outputs": [
    {
     "name": "stdout",
     "output_type": "stream",
     "text": [
      "NIM : 2131710148\n",
      "Nama : Kansha Maulidya Shyfa\n"
     ]
    },
    {
     "ename": "CompilationException",
     "evalue": "",
     "output_type": "error",
     "traceback": [
      "\u001b[1m\u001b[30m|   \u001b[1m\u001b[30m    n=n+1\u001b[0m\u001b[1m\u001b[30m\u001b[41m\u001b[0m\u001b[1m\u001b[30m\u001b[0m",
      "\u001b[1m\u001b[31m';' expected\u001b[0m",
      "",
      "\u001b[1m\u001b[30m|   \u001b[1m\u001b[30m    scanf(\"%d\", \u001b[0m\u001b[1m\u001b[30m\u001b[41m\u001b[0m\u001b[1m\u001b[30m&a);\u001b[0m",
      "\u001b[1m\u001b[31millegal start of expression\u001b[0m",
      "",
      "\u001b[1m\u001b[30m|   \u001b[1m\u001b[30m    System.out.print(\u001b[0m\u001b[1m\u001b[30m\u001b[41m\u001b[0m\u001b[1m\u001b[30m\"Masukkamangka kembali (y/t) ?);\u001b[0m",
      "\u001b[1m\u001b[31munclosed string literal\u001b[0m",
      ""
     ]
    }
   ],
   "source": [
    "/* Jawaban Soal 3 */\n",
    "import java.util.Scanner;\n",
    "\n",
    "Scanner sc = new Scanner(System.in);\n",
    "System.out.println(\"NIM : 2131710148\");\n",
    "System.out.println(\"Nama : Kansha Maulidya Shyfa\");\n",
    "}"
   ]
  },
  {
   "cell_type": "markdown",
   "metadata": {},
   "source": [
    "### Soal 4 (skor 30++)\n",
    "Buatlah program klasifikasi umur yang sesuai dengan flowchar berikut **(skor 30)**. \n",
    "![Contoh Soal 4](images/Soal4.png)\n",
    "\n",
    "Saat perulangan berhenti. Hitung jumlah rata-rata umur yang telah dimasukkan, dan dari rata-rata tersebut termasuk klasifikasi umur apa? **(+poin 20)**"
   ]
  },
  {
   "cell_type": "code",
   "execution_count": 10,
   "metadata": {},
   "outputs": [
    {
     "name": "stdout",
     "output_type": "stream",
     "text": [
      "Masukkan huruf Y/N: Y \n",
      "Masukkan umur : 18\n",
      "Dewasa\n"
     ]
    }
   ],
   "source": [
    "/* Jawaban Soal 4 */\n",
    "import java.util.Scanner;\n",
    "Scanner sc = new Scanner(System.in);\n",
    "int umur, status;\n",
    "System.out.println(\"Masukkan huruf Y/N: Y \");\n",
    "System.out.print(\"Masukkan umur : \");\n",
    "umur = sc.nextInt();\n",
    "if (umur <= 5){\n",
    "    System.out.println(\"Balita\");\n",
    "}else if (umur <= 10){\n",
    "    System.out.println(\"Anak-anak\");\n",
    "}else if (umur <= 17){\n",
    "    System.out.println(\"Remaja\");\n",
    "}else if (umur <= 40){\n",
    "    System.out.println(\"Dewasa\");\n",
    "}else if (umur <= 60){\n",
    "    System.out.println(\"Paruh Baya\");\n",
    "}else\n",
    "    System.out.println(\"Tua\");\n"
   ]
  },
  {
   "cell_type": "code",
   "execution_count": 12,
   "metadata": {},
   "outputs": [
    {
     "name": "stdout",
     "output_type": "stream",
     "text": [
      "Masukkan huruf Y/N: Y \n",
      "Masukkan umur : 18\n",
      "Dewasa\n",
      "Rata-rata umur : 9\n"
     ]
    }
   ],
   "source": [
    "import java.util.Scanner;\n",
    "Scanner sc = new Scanner(System.in);\n",
    "int umur, status, avg;\n",
    "System.out.println(\"Masukkan huruf Y/N: Y \");\n",
    "System.out.print(\"Masukkan umur : \");\n",
    "umur = sc.nextInt();\n",
    "if (umur <= 5){\n",
    "    System.out.println(\"Balita\");\n",
    "}else if (umur <= 10){\n",
    "    System.out.println(\"Anak-anak\");\n",
    "}else if (umur <= 17){\n",
    "    System.out.println(\"Remaja\");\n",
    "}else if (umur <= 40){\n",
    "    System.out.println(\"Dewasa\");\n",
    "}else if (umur <= 60){\n",
    "    System.out.println(\"Paruh Baya\");\n",
    "}else\n",
    "    System.out.println(\"Tua\");\n",
    "avg = umur / 2;\n",
    "System.out.println(\"Rata-rata umur : \" +avg)"
   ]
  },
  {
   "cell_type": "code",
   "execution_count": null,
   "metadata": {},
   "outputs": [],
   "source": []
  }
 ],
 "metadata": {
  "kernelspec": {
   "display_name": "Java",
   "language": "java",
   "name": "java"
  },
  "language_info": {
   "codemirror_mode": "java",
   "file_extension": ".jshell",
   "mimetype": "text/x-java-source",
   "name": "Java",
   "pygments_lexer": "java",
   "version": "11.0.12+8-LTS-237"
  }
 },
 "nbformat": 4,
 "nbformat_minor": 1
}
