{
 "cells": [
  {
   "cell_type": "markdown",
   "metadata": {
    "collapsed": true
   },
   "source": [
    "# Ujian Tengah Semester (UTS)\n",
    "\n",
    "- **NIM   : 21317100004 \n",
    "- **Nama  : ** Nur Alimah\n",
    "- **Kelas :** MI-1E\n",
    "\n",
    "## Deskripsi\n",
    "+ Silahkan kerjakan soal yang sekiranya mudah dahulu\n",
    "+ Jawaban langsung ditulis di bawah soal\n",
    "+ Waktu pengerjaan UTS adalah *90 menit*\n",
    "    - submit jawaban ke LMS maksimal pukul 10.45, lebih dari itu **nilai dikurangi**\n",
    "    - submit dan pull-request via github akan diberi nilai tambah (maksimal pukul 10.50, lebih dari itu **tidak diberi** nilai tambah)\n",
    "\n",
    "## Soal UTS\n",
    "### Soal 1  (skor 30)\n",
    "Buatlah sebuah program untuk menentukan minimal lembar uang yang dikeluarkan berdasarkan inputan uang yang diinputkan user (menggunakan _library Scanner_). Lembar uang sesuai dengan lembar nominal mata uang Rupiah yaitu lembar uang 1.000, 2.000, 5.000, 10.000, 20.000, 50.000, dan 100.000.\n",
    "\n",
    "Contoh: ![Contoh Soal 1](images/Soal1.png)"
   ]
  },
  {
   "cell_type": "code",
   "execution_count": 15,
   "metadata": {},
   "outputs": [
    {
     "name": "stdout",
     "output_type": "stream",
     "text": [
      "***Progam menentukan miinimal lembar mata ang yang dikeluarkan***\n",
      "Masukkan Nama : Nur Alimah\n",
      "Masukkan Nim : 2131710004\n",
      "--------------\n",
      ">> Mulai\n",
      "Masukkan Nominal Uang : \n",
      "137000\n",
      "--------------\n",
      ">> Hasil\n",
      "Lembar uang 100.0000 : 1\n",
      "Lembar uang 50.0000 : 0\n",
      "Lembar uang 20.0000 : 1\n",
      "Lembar uang 10.0000 : 1\n",
      "Lembar uang 5.000 : 1\n",
      "Lembar uang 2.000 : 1\n",
      "Lembar uang 1.000 : 0\n",
      "Selesai>>\n"
     ]
    }
   ],
   "source": [
    "import java.util.Scanner;\n",
    "Scanner sc = new Scanner(System.in);\n",
    "String nama;\n",
    "int nominal, nim, lembar1,lembar2,lembar3,lembar4,lembar5,lembar6,lembar7;\n",
    "System.out.println(\"***Progam menentukan miinimal lembar mata ang yang dikeluarkan***\");\n",
    "System.out.print(\"Masukkan Nama : \");\n",
    "nama = sc.nextLine();\n",
    "System.out.print(\"Masukkan Nim : \");\n",
    "nim = sc.nextInt();\n",
    "System.out.println(\"--------------\");\n",
    "System.out.println(\">> Mulai\");\n",
    "System.out.println(\"Masukkan Nominal Uang : \");\n",
    "nominal = sc.nextInt();\n",
    "System.out.println(\"--------------\");\n",
    "System.out.println(\">> Hasil\");\n",
    "System.out.print(\"Lembar uang 100.0000 : \");\n",
    "lembar1 = sc.nextInt();\n",
    "System.out.print(\"Lembar uang 50.0000 : \");\n",
    "lembar2 = sc.nextInt();\n",
    "System.out.print(\"Lembar uang 20.0000 : \");\n",
    "lembar3 = sc.nextInt();\n",
    "System.out.print(\"Lembar uang 10.0000 : \");\n",
    "lembar4 = sc.nextInt();\n",
    "System.out.print(\"Lembar uang 5.000 : \");\n",
    "lembar5 = sc.nextInt();\n",
    "System.out.print(\"Lembar uang 2.000 : \");\n",
    "lembar6 = sc.nextInt();\n",
    "System.out.print(\"Lembar uang 1.000 : \");\n",
    "lembar7 = sc.nextInt();\n",
    "System.out.println(\"Selesai>>\");\n",
    "\n",
    "\n",
    "\n",
    "\n",
    "\n"
   ]
  },
  {
   "cell_type": "markdown",
   "metadata": {},
   "source": [
    "### Soal 2 (skor 20)\n",
    "Buatlah program dengan menggunakan **semua perulangan** _(for, while, do-while)_ untuk menampilkan huruf abjad A-Z secara terurut. Program akan selesai menampilkan huruf abjad (selesai _looping_) ketika huruf yang ditampilkan sama dengan huruf yang dimasukkan oleh pengguna.\n",
    "\n",
    "Contoh ![Contoh Soal 2](images/Soal2.png)"
   ]
  },
  {
   "cell_type": "code",
   "execution_count": 25,
   "metadata": {},
   "outputs": [
    {
     "name": "stdout",
     "output_type": "stream",
     "text": [
      "*Program menampilkan huruf abjad*\n",
      "NIM : 2131710143\n",
      "NIM : Bangkit Maulana Caniago\n",
      "--------------------------\n",
      ">>>Mulai\n",
      "Masukkan huruf untuk berhenti looping : M\n",
      "\n",
      "Output Program (looping FOR) : ABCDEFGHIJKL\n",
      "Program Berhenti looping di iterasi ke-12\n",
      "\n",
      "Output Program (looping While) : ABCDEFGHIJKL\n",
      "Program Berhenti looping di iterasi ke-12\n",
      "\n",
      "Output Program (looping Do While) : ABCDEFGHIJKL\n",
      "Program Berhenti looping di iterasi ke-12\n",
      "Selesai <<<\n"
     ]
    }
   ],
   "source": [
    "/* Jawaban Soal 2 */\n",
    "\n",
    "Scanner sc = new Scanner(System.in);\n",
    "\n",
    "System.out.println(\"*Program menampilkan huruf abjad*\");\n",
    "System.out.println(\"NIM : 2131710143\");\n",
    "System.out.println(\"NIM : Bangkit Maulana Caniago\");\n",
    "System.out.println(\"--------------------------\");\n",
    "\n",
    "char huruf;\n",
    "System.out.println(\">>>Mulai\");\n",
    "System.out.print(\"Masukkan huruf untuk berhenti looping : \");\n",
    "huruf = sc.next().charAt(0);\n",
    "\n",
    "// for\n",
    "System.out.print(\"\\nOutput Program (looping FOR) : \");\n",
    "for(char i = 'A';i < huruf; i++){\n",
    "    System.out.print(i);\n",
    "}\n",
    "int nomor = (int) huruf;\n",
    "nomor -= 65;\n",
    "System.out.println(\"\\nProgram Berhenti looping di iterasi ke-\" + nomor);\n",
    "\n",
    "// While\n",
    "System.out.print(\"\\nOutput Program (looping While) : \");\n",
    "char j = 'A';\n",
    "while(j<huruf){\n",
    "    System.out.print(j);\n",
    "    j++;\n",
    "}\n",
    "System.out.println(\"\\nProgram Berhenti looping di iterasi ke-\" + nomor);\n",
    "\n",
    "// do while\n",
    "System.out.print(\"\\nOutput Program (looping Do While) : \");\n",
    "char k = 'A';\n",
    "do {\n",
    "    System.out.print(k);\n",
    "    k++;\n",
    "}\n",
    "while(k<huruf);\n",
    "System.out.println(\"\\nProgram Berhenti looping di iterasi ke-\" + nomor);\n",
    "System.out.println(\"Selesai <<<\");"
   ]
  },
  {
   "cell_type": "markdown",
   "metadata": {},
   "source": [
    "### Soal 3 (skor 20/30)\n",
    "Buatlah sebuah program dengan menggunakan **satu jenis perulangan** untuk menghitung nilai berdasarkan masukkan dari user. Perulangan akan terus berjalan jika user mengetikkan huruf kapital **\"Y\"** dan perulangan akan berhenti saat user mengetikkan huruf kapital **\"N\"**. \n",
    "Setelah perulangan berhenti, program akan memilih **angka terkecil** dan **angka terbesar** dari angka yang dimasukkan user dan menghitung jumlah dan rata-rata angkat-angka tersebut. Program boleh menggunakan salah satu perulangan : \n",
    "\n",
    "  + _While_ (20 poin), atau\n",
    "  + _Do-while_ (20 poin), atau\n",
    "  + _For_ (30 poin)\n",
    "  \n",
    "Contoh ![Contoh Soal 3](images/Soal3.png)\n"
   ]
  },
  {
   "cell_type": "code",
   "execution_count": 3,
   "metadata": {},
   "outputs": [],
   "source": [
    "/* Jawaban Soal 3 */\n",
    "import java.util.Scanner;\n",
    "Scanner sc = new Scanner(System.in);\n",
    "String nama;\n",
    "int nim, angka;\n",
    "System.out.print(\"***Progam Menghitung angka***\");\n",
    "System.out.print(\"Masukkan Nama : \");\n",
    "nama = sc.nextLine();\n",
    "System.out.print(\"Masukkan Nim : \");\n",
    "nim = sc.nextInt();\n",
    "System.out.println(\"--------------\");\n",
    "System.out.println(\">> Mulai\");\n",
    "for (int i=0;i<=5;){\n",
    "    System.out.println(\"Masukkan angka ke-1 :\");\n",
    "    angka = sc.nextInt();\n",
    "    System.out.print(\"Mau Masukkan Angka Kembali (Y/T) ?\");\n",
    "    pilihan = sc.nextLine()\n",
    "    if (pilihan.equals(\"Y\")) continue;\n",
    "        else if ()\n",
    "\n"
   ]
  },
  {
   "cell_type": "markdown",
   "metadata": {},
   "source": [
    "### Soal 4 (skor 30++)\n",
    "Buatlah program klasifikasi umur yang sesuai dengan flowchar berikut **(skor 30)**. \n",
    "![Contoh Soal 4](images/Soal4.png)\n",
    "\n",
    "Saat perulangan berhenti. Hitung jumlah rata-rata umur yang telah dimasukkan, dan dari rata-rata tersebut termasuk klasifikasi umur apa? **(+poin 20)**"
   ]
  },
  {
   "cell_type": "code",
   "execution_count": 24,
   "metadata": {},
   "outputs": [
    {
     "name": "stdout",
     "output_type": "stream",
     "text": [
      "***Masukkan huruf Y/N***y\n",
      "Masukkan Umur : 12\n"
     ]
    },
    {
     "ename": "CompilationException",
     "evalue": "",
     "output_type": "error",
     "traceback": [
      "\u001b[1m\u001b[30m|   \u001b[1m\u001b[30mif\u001b[0m\u001b[1m\u001b[30m\u001b[41m\u001b[0m\u001b[1m\u001b[30m umur(<=5){\u001b[0m",
      "\u001b[1m\u001b[31m'(' expected\u001b[0m",
      "",
      "\u001b[1m\u001b[30m|   \u001b[1m\u001b[30mif umur(\u001b[0m\u001b[1m\u001b[30m\u001b[41m\u001b[0m\u001b[1m\u001b[30m<=5){\u001b[0m",
      "\u001b[1m\u001b[31millegal start of expression\u001b[0m",
      "",
      "\u001b[1m\u001b[30m|   \u001b[1m\u001b[30mif umur(<=5)\u001b[0m\u001b[1m\u001b[30m\u001b[41m\u001b[0m\u001b[1m\u001b[30m{\u001b[0m",
      "\u001b[1m\u001b[31m')' expected\u001b[0m",
      "",
      "\u001b[1m\u001b[30m|   \u001b[1m\u001b[30m}else if\u001b[0m\u001b[1m\u001b[30m\u001b[41m\u001b[0m\u001b[1m\u001b[30m umur(<=10){\u001b[0m",
      "\u001b[1m\u001b[31m'(' expected\u001b[0m",
      "",
      "\u001b[1m\u001b[30m|   \u001b[1m\u001b[30m}else if umur(\u001b[0m\u001b[1m\u001b[30m\u001b[41m\u001b[0m\u001b[1m\u001b[30m<=10){\u001b[0m",
      "\u001b[1m\u001b[31millegal start of expression\u001b[0m",
      "",
      "\u001b[1m\u001b[30m|   \u001b[1m\u001b[30m}else if umur(<=10)\u001b[0m\u001b[1m\u001b[30m\u001b[41m\u001b[0m\u001b[1m\u001b[30m{\u001b[0m",
      "\u001b[1m\u001b[31m')' expected\u001b[0m",
      "",
      "\u001b[1m\u001b[30m|   \u001b[1m\u001b[30m}else if(umur(\u001b[0m\u001b[1m\u001b[30m\u001b[41m\u001b[0m\u001b[1m\u001b[30m<=17){\u001b[0m",
      "\u001b[1m\u001b[31millegal start of expression\u001b[0m",
      "",
      "\u001b[1m\u001b[30m|   \u001b[1m\u001b[30m}else if(umur(<=17)\u001b[0m\u001b[1m\u001b[30m\u001b[41m\u001b[0m\u001b[1m\u001b[30m{\u001b[0m",
      "\u001b[1m\u001b[31m')' expected\u001b[0m",
      "",
      "\u001b[1m\u001b[30m|   \u001b[1m\u001b[30m }else if\u001b[0m\u001b[1m\u001b[30m\u001b[41m\u001b[0m\u001b[1m\u001b[30m umur(<=40){\u001b[0m",
      "\u001b[1m\u001b[31m'(' expected\u001b[0m",
      "",
      "\u001b[1m\u001b[30m|   \u001b[1m\u001b[30m }else if umur(\u001b[0m\u001b[1m\u001b[30m\u001b[41m\u001b[0m\u001b[1m\u001b[30m<=40){\u001b[0m",
      "\u001b[1m\u001b[31millegal start of expression\u001b[0m",
      "",
      "\u001b[1m\u001b[30m|   \u001b[1m\u001b[30m }else if umur(<=40)\u001b[0m\u001b[1m\u001b[30m\u001b[41m\u001b[0m\u001b[1m\u001b[30m{\u001b[0m",
      "\u001b[1m\u001b[31m')' expected\u001b[0m",
      "",
      "\u001b[1m\u001b[30m|   \u001b[1m\u001b[30m}else if\u001b[0m\u001b[1m\u001b[30m\u001b[41m\u001b[0m\u001b[1m\u001b[30m umur(<=60){\u001b[0m",
      "\u001b[1m\u001b[31m'(' expected\u001b[0m",
      "",
      "\u001b[1m\u001b[30m|   \u001b[1m\u001b[30m}else if umur(\u001b[0m\u001b[1m\u001b[30m\u001b[41m\u001b[0m\u001b[1m\u001b[30m<=60){\u001b[0m",
      "\u001b[1m\u001b[31millegal start of expression\u001b[0m",
      "",
      "\u001b[1m\u001b[30m|   \u001b[1m\u001b[30m}else if umur(<=60)\u001b[0m\u001b[1m\u001b[30m\u001b[41m\u001b[0m\u001b[1m\u001b[30m{\u001b[0m",
      "\u001b[1m\u001b[31m')' expected\u001b[0m",
      ""
     ]
    }
   ],
   "source": [
    "/* Jawaban Soal 4 */\n",
    "import java.util.Scanner;\n",
    "Scanner sc = new Scanner(System.in);\n",
    "char huruf;\n",
    "int umur;\n",
    "System.out.print(\"***Masukkan huruf Y/N***\");\n",
    "huruf = sc.next().charAt(0);\n",
    "System.out.print(\"Masukkan Umur : \");\n",
    "umur = sc.nextInt();\n",
    "if umur(<=5){\n",
    "    System.out.println(\"Balita\");\n",
    "}else if umur(<=10){\n",
    "    System.out.println(\"Anak-anak\");\n",
    "}else if(umur(<=17){\n",
    "    System.out.println(\"Remaja\");\n",
    " }else if umur(<=40){\n",
    "    System.out.println(\"Dewasa\");\n",
    "}else if umur(<=60){\n",
    "    System.out.println(\"Paruh Baya\");\n",
    "  }else\n",
    "    System.out.println(\"Tua\");"
   ]
  },
  {
   "cell_type": "code",
   "execution_count": null,
   "metadata": {},
   "outputs": [],
   "source": []
  }
 ],
 "metadata": {
  "kernelspec": {
   "display_name": "Java",
   "language": "java",
   "name": "java"
  },
  "language_info": {
   "codemirror_mode": "java",
   "file_extension": ".jshell",
   "mimetype": "text/x-java-source",
   "name": "Java",
   "pygments_lexer": "java",
   "version": "11.0.12+8-LTS-237"
  }
 },
 "nbformat": 4,
 "nbformat_minor": 1
}
