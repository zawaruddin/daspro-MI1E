{
 "cells": [
  {
   "cell_type": "markdown",
   "metadata": {
    "collapsed": true
   },
   "source": [
    "# Ujian Tengah Semester (UTS)\n",
    "\n",
    "- **NIM   :** 2131710104 \n",
    "- **Nama  :** Indah Retno Iriani\n",
    "- **Kelas :** MI-1E\n",
    "\n",
    "## Deskripsi\n",
    "+ Silahkan kerjakan soal yang sekiranya mudah dahulu\n",
    "+ Jawaban langsung ditulis di bawah soal\n",
    "+ Waktu pengerjaan UTS adalah *90 menit*\n",
    "    - submit jawaban ke LMS maksimal pukul 10.45, lebih dari itu **nilai dikurangi**\n",
    "    - submit dan pull-request via github akan diberi nilai tambah (maksimal pukul 10.50, lebih dari itu **tidak diberi** nilai tambah)\n",
    "\n",
    "## Soal UTS\n",
    "### Soal 1  (skor 30)\n",
    "Buatlah sebuah program untuk menentukan minimal lembar uang yang dikeluarkan berdasarkan inputan uang yang diinputkan user (menggunakan _library Scanner_). Lembar uang sesuai dengan lembar nominal mata uang Rupiah yaitu lembar uang 1.000, 2.000, 5.000, 10.000, 20.000, 50.000, dan 100.000.\n",
    "\n",
    "Contoh: ![Contoh Soal 1](images/Soal1.png)"
   ]
  },
  {
   "cell_type": "code",
   "execution_count": 1,
   "metadata": {},
   "outputs": [],
   "source": [
    "/* Jawaban Soal 1 */\n"
   ]
  },
  {
   "cell_type": "markdown",
   "metadata": {},
   "source": [
    "### Soal 2 (skor 20)\n",
    "Buatlah program dengan menggunakan **semua perulangan** _(for, while, do-while)_ untuk menampilkan huruf abjad A-Z secara terurut. Program akan selesai menampilkan huruf abjad (selesai _looping_) ketika huruf yang ditampilkan sama dengan huruf yang dimasukkan oleh pengguna.\n",
    "\n",
    "Contoh ![Contoh Soal 2](images/Soal2.png)"
   ]
  },
  {
   "cell_type": "code",
   "execution_count": 39,
   "metadata": {},
   "outputs": [
    {
     "name": "stdout",
     "output_type": "stream",
     "text": [
      "***PROGRAM MENAMPILKAN HURUF ABJAD***\n",
      "NIM  : 2131710104\n",
      "Nama : Indah Retno Iriani \n",
      "---------------------------\n",
      ">>>MUlAI\n",
      "---------------------------\n",
      "\n",
      "Masukkan huruf untuk berhenti looping  : S\n",
      "Program Loop (For)A B C D E F G H I J K L M N O P Q R S "
     ]
    }
   ],
   "source": [
    "/* Jawaban Soal 2 */\n",
    "import java.util.Scanner;\n",
    "Scanner input = new Scanner(System.in);\n",
    "char huruf;\n",
    "int total;\n",
    "int count = 0;\n",
    "    \n",
    "System.out.println(\"***PROGRAM MENAMPILKAN HURUF ABJAD***\");\n",
    "System.out.println(\"NIM  : 2131710104\");\n",
    "System.out.println(\"Nama : Indah Retno Iriani \");\n",
    "System.out.println(\"---------------------------\");\n",
    "System.out.println(\">>>MUlAI\");\n",
    "System.out.println(\"---------------------------\\n\");\n",
    "System.out.print(\"Masukkan huruf untuk berhenti looping  : \");\n",
    "huruf = input.next().charAt(0);\n",
    "System.out.print(\"Program Loop (For)\");\n",
    "for(char i='A'; i<=huruf; i++){\n",
    "    System.out.print( i + \" \" );\n",
    "}\n",
    "\n"
   ]
  },
  {
   "cell_type": "markdown",
   "metadata": {},
   "source": [
    "### Soal 3 (skor 20/30)\n",
    "Buatlah sebuah program dengan menggunakan **satu jenis perulangan** untuk menghitung nilai berdasarkan masukkan dari user. Perulangan akan terus berjalan jika user mengetikkan huruf kapital **\"Y\"** dan perulangan akan berhenti saat user mengetikkan huruf kapital **\"N\"**. \n",
    "Setelah perulangan berhenti, program akan memilih **angka terkecil** dan **angka terbesar** dari angka yang dimasukkan user dan menghitung jumlah dan rata-rata angkat-angka tersebut. Program boleh menggunakan salah satu perulangan : \n",
    "\n",
    "  + _While_ (20 poin), atau\n",
    "  + _Do-while_ (20 poin), atau\n",
    "  + _For_ (30 poin)\n",
    "  \n",
    "Contoh ![Contoh Soal 3](images/Soal3.png)\n"
   ]
  },
  {
   "cell_type": "code",
   "execution_count": 50,
   "metadata": {},
   "outputs": [
    {
     "name": "stdout",
     "output_type": "stream",
     "text": [
      "===PROGRAM MENGHITUNG ANGKA===\n"
     ]
    },
    {
     "ename": "CompilationException",
     "evalue": "",
     "output_type": "error",
     "traceback": [
      "\u001b[1m\u001b[30m|   \u001b[1m\u001b[30m    if(\u001b[0m\u001b[1m\u001b[30m\u001b[41mhuruf = 'T'\u001b[0m\u001b[1m\u001b[30m) break;\u001b[0m",
      "\u001b[1m\u001b[31mincompatible types: char cannot be converted to boolean\u001b[0m",
      ""
     ]
    }
   ],
   "source": [
    "/* Jawaban Soal 3 */\n",
    "import java.util.Scanner;\n",
    "Scanner input = new Scanner(System.in);\n",
    "int angka, total;\n",
    "char huruf = 'T', huruf = 'Y';\n",
    "double avg;\n",
    "count = 0;\n",
    "System.out.println(\"===PROGRAM MENGHITUNG ANGKA===\");\n",
    "for(int i=0 ; i<5 ; i++){\n",
    "    System.out.print(\"Masukkan Angka : \");\n",
    "    angka = input.nextInt();\n",
    "    System.out.print(\"Mau memasukkan angka kembali(Y/T) : \");\n",
    "    huruf = input.next().charAt(0);\n",
    "    if(huruf = 'T') break;\n",
    "    total += angka;\n",
    "    count++;\n",
    "}\n",
    "System.out.println(\"Output Program\");\n",
    "System.out.println(\"Angka terkecil :\");\n",
    "System.out.println(\"Angka terbesar :\");\n",
    "System.out.println(\"Jumlah angka : \" + total);\n",
    "avg = (double)total/count;\n",
    "System.out.println(\"Rata-rata: \" + avg);"
   ]
  },
  {
   "cell_type": "markdown",
   "metadata": {},
   "source": [
    "### Soal 4 (skor 30++)\n",
    "Buatlah program klasifikasi umur yang sesuai dengan flowchar berikut **(skor 30)**. \n",
    "![Contoh Soal 4](images/Soal4.png)\n",
    "\n",
    "Saat perulangan berhenti. Hitung jumlah rata-rata umur yang telah dimasukkan, dan dari rata-rata tersebut termasuk klasifikasi umur apa? **(+poin 20)**"
   ]
  },
  {
   "cell_type": "code",
   "execution_count": 4,
   "metadata": {},
   "outputs": [],
   "source": [
    "/* Jawaban Soal 4 */\n",
    "\n"
   ]
  },
  {
   "cell_type": "code",
   "execution_count": null,
   "metadata": {},
   "outputs": [],
   "source": []
  }
 ],
 "metadata": {
  "kernelspec": {
   "display_name": "Java",
   "language": "java",
   "name": "java"
  },
  "language_info": {
   "codemirror_mode": "java",
   "file_extension": ".jshell",
   "mimetype": "text/x-java-source",
   "name": "Java",
   "pygments_lexer": "java",
   "version": "11.0.12+8-LTS-237"
  }
 },
 "nbformat": 4,
 "nbformat_minor": 1
}
