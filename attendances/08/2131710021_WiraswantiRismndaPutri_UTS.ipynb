{
 "cells": [
  {
   "cell_type": "markdown",
   "metadata": {
    "collapsed": true
   },
   "source": [
    "# Ujian Tengah Semester (UTS)\n",
    "\n",
    "- **NIM   :** 2131710021\n",
    "- **Nama  :** WIRASWANTI RISMANDA PUTRI\n",
    "- **Kelas :** MI-1E\n",
    "\n",
    "## Deskripsi\n",
    "+ Silahkan kerjakan soal yang sekiranya mudah dahulu\n",
    "+ Jawaban langsung ditulis di bawah soal\n",
    "+ Waktu pengerjaan UTS adalah *90 menit*\n",
    "    - submit jawaban ke LMS maksimal pukul 10.45, lebih dari itu **nilai dikurangi**\n",
    "    - submit dan pull-request via github akan diberi nilai tambah (maksimal pukul 10.50, lebih dari itu **tidak diberi** nilai tambah)\n",
    "\n",
    "## Soal UTS\n",
    "### Soal 1  (skor 30)\n",
    "Buatlah sebuah program untuk menentukan minimal lembar uang yang dikeluarkan berdasarkan inputan uang yang diinputkan user (menggunakan _library Scanner_). Lembar uang sesuai dengan lembar nominal mata uang Rupiah yaitu lembar uang 1.000, 2.000, 5.000, 10.000, 20.000, 50.000, dan 100.000.\n",
    "\n",
    "Contoh: ![Contoh Soal 1](images/Soal1.png)"
   ]
  },
  {
   "cell_type": "code",
   "execution_count": 4,
   "metadata": {},
   "outputs": [
    {
     "name": "stdout",
     "output_type": "stream",
     "text": [
      "*** Program menentukan minimal lembar mata uang yang dikeluarkan ***\n",
      "NIM : 2131710021\n",
      "Nama : Wiraswanti\n",
      "--------------------\n",
      "\n",
      ">> Mulai\n",
      "Masukkan nominal uang : 137000\n",
      "--------------------\n",
      "\n",
      ">> Hasil\n",
      "Lembar uang 100.000 : 1\n",
      "Lembar uang 50.000 : 0\n",
      "Lembar uang 20.000 : 1\n",
      "Lembar uang 10.000 : 1\n",
      "Lembar uang 5.000 : 1\n",
      "Lembar uang 2.000 : 0\n",
      "Lembar uang 1.000 : 1\n",
      "Selesai <<<\n"
     ]
    }
   ],
   "source": [
    "/* Jawaban Soal 1 */\n",
    "import java.util.Scanner;\n",
    "Scanner input = new Scanner(System.in);\n",
    "int nominalUang, hitung, hitung2, hitung3, hitung4, hitung5, hitung6, hitung7;\n",
    "int sisa, sisa1, sisa2, sisa3, sisa4, sisa5, sisa6, sisa7;\n",
    "\n",
    "System.out.println(\"*** Program menentukan minimal lembar mata uang yang dikeluarkan ***\");\n",
    "System.out.println(\"NIM : 2131710021\");\n",
    "System.out.println(\"Nama : Wiraswanti\");\n",
    "System.out.println(\"--------------------\\n\");\n",
    "System.out.println(\">> Mulai\");\n",
    "System.out.print(\"Masukkan nominal uang : \");\n",
    "nominalUang = input.nextInt();\n",
    "System.out.println(\"--------------------\\n\");\n",
    "\n",
    "hitung = nominalUang / 100000;\n",
    "sisa = nominalUang % 100000;\n",
    "hitung2 = sisa / 50000;\n",
    "sisa2 = nominalUang % 50000;\n",
    "hitung3 = sisa2 / 20000;\n",
    "sisa3 = nominalUang % 20000;\n",
    "hitung4 = sisa3 / 10000;\n",
    "sisa4 = nominalUang % 10000;\n",
    "hitung5 = sisa4 / 5000;\n",
    "isa5 = nominalUang % 5000;\n",
    "hitung6 = sisa5 / 2000;\n",
    "sisa6 = nominalUang % 2000;\n",
    "hitung7 = sisa6 / 1000;\n",
    "sisa7 = nominalUang % 1000;\n",
    "\n",
    "System.out.println(\">> Hasil\");\n",
    "System.out.println(\"Lembar uang 100.000 : \" + hitung);\n",
    "System.out.println(\"Lembar uang 50.000 : \" + hitung2);\n",
    "System.out.println(\"Lembar uang 20.000 : \" + hitung3);\n",
    "System.out.println(\"Lembar uang 10.000 : \" + hitung4);\n",
    "System.out.println(\"Lembar uang 5.000 : \" + hitung5);\n",
    "System.out.println(\"Lembar uang 2.000 : \" + hitung6);\n",
    "System.out.println(\"Lembar uang 1.000 : \" + hitung7);\n",
    "System.out.println(\"Selesai <<<\");"
   ]
  },
  {
   "cell_type": "markdown",
   "metadata": {},
   "source": [
    "### Soal 2 (skor 20)\n",
    "Buatlah program dengan menggunakan **semua perulangan** _(for, while, do-while)_ untuk menampilkan huruf abjad A-Z secara terurut. Program akan selesai menampilkan huruf abjad (selesai _looping_) ketika huruf yang ditampilkan sama dengan huruf yang dimasukkan oleh pengguna.\n",
    "\n",
    "Contoh ![Contoh Soal 2](images/Soal2.png)"
   ]
  },
  {
   "cell_type": "code",
   "execution_count": 1,
   "metadata": {},
   "outputs": [
    {
     "name": "stdout",
     "output_type": "stream",
     "text": [
      "*** Program menampilkan huruf abjad ***\n",
      "NIM : 2131710021\n",
      "Nama : Wiraswanti\n",
      "--------------------\n",
      "\n",
      ">> Mulai\n",
      "Masukkan huruf untuk berhenti looping : M\n",
      "--------------------\n",
      "\n",
      "ABCDEFGHIJKL"
     ]
    }
   ],
   "source": [
    "/* Jawaban Soal 2 */\n",
    "import java.util.Scanner;\n",
    "Scanner input = new Scanner(System.in);\n",
    "char huruf;\n",
    "\n",
    "System.out.println(\"*** Program menampilkan huruf abjad ***\");\n",
    "System.out.println(\"NIM : 2131710021\");\n",
    "System.out.println(\"Nama : Wiraswanti\");\n",
    "System.out.println(\"--------------------\\n\");\n",
    "System.out.println(\">> Mulai\");\n",
    "System.out.print(\"Masukkan huruf untuk berhenti looping : \");\n",
    "huruf = input.next().charAt(0);\n",
    "System.out.println(\"--------------------\\n\");\n",
    "\n",
    "for(char i = 'A'; i <= 'Z'; i++){\n",
    "    if(i == huruf) break;\n",
    "    System.out.print(i);\n",
    "}\n"
   ]
  },
  {
   "cell_type": "code",
   "execution_count": 2,
   "metadata": {},
   "outputs": [
    {
     "name": "stdout",
     "output_type": "stream",
     "text": [
      "*** Program menampilkan huruf abjad ***\n",
      "NIM : 2131710021\n",
      "Nama : Wiraswanti\n",
      "--------------------\n",
      "\n",
      ">> Mulai\n",
      "Masukkan huruf untuk berhenti looping : M\n",
      "--------------------\n",
      "\n",
      "ABCDEFGHIJKL"
     ]
    }
   ],
   "source": [
    "/* Jawaban Soal 2 */\n",
    "import java.util.Scanner;\n",
    "Scanner input = new Scanner(System.in);\n",
    "char huruf;\n",
    "\n",
    "System.out.println(\"*** Program menampilkan huruf abjad ***\");\n",
    "System.out.println(\"NIM : 2131710021\");\n",
    "System.out.println(\"Nama : Wiraswanti\");\n",
    "System.out.println(\"--------------------\\n\");\n",
    "System.out.println(\">> Mulai\");\n",
    "System.out.print(\"Masukkan huruf untuk berhenti looping : \");\n",
    "huruf = input.next().charAt(0);\n",
    "System.out.println(\"--------------------\\n\");\n",
    "\n",
    "char i = 'A';\n",
    "while (i <= 'Z') {\n",
    "    if (i == huruf) break;\n",
    "    System.out.print(i++ + \"\");\n",
    "}\n",
    "System.out.print(\"\");"
   ]
  },
  {
   "cell_type": "code",
   "execution_count": 6,
   "metadata": {},
   "outputs": [
    {
     "name": "stdout",
     "output_type": "stream",
     "text": [
      "*** Program menampilkan huruf abjad ***\n",
      "NIM : 2131710021\n",
      "Nama : Wiraswanti\n",
      "--------------------\n",
      "\n",
      ">> Mulai\n",
      "Masukkan huruf untuk berhenti looping : M\n",
      "--------------------\n",
      "\n",
      "ABCDEFGHIJKLM"
     ]
    }
   ],
   "source": [
    "/* Jawaban Soal 2 */\n",
    "import java.util.Scanner;\n",
    "Scanner input = new Scanner(System.in);\n",
    "char huruf;\n",
    "\n",
    "System.out.println(\"*** Program menampilkan huruf abjad ***\");\n",
    "System.out.println(\"NIM : 2131710021\");\n",
    "System.out.println(\"Nama : Wiraswanti\");\n",
    "System.out.println(\"--------------------\\n\");\n",
    "System.out.println(\">> Mulai\");\n",
    "System.out.print(\"Masukkan huruf untuk berhenti looping : \");\n",
    "huruf = input.next().charAt(0);\n",
    "System.out.println(\"--------------------\\n\");\n",
    "\n",
    "char i = 'A';\n",
    "do{\n",
    "    System.out.print(i++ + \"\");\n",
    "    if (i == huruf) break;\n",
    "}while (i <= 'Z');\n",
    "    System.out.print(i++ + \"\");\n",
    "\n",
    "System.out.print(\"\");"
   ]
  },
  {
   "cell_type": "markdown",
   "metadata": {},
   "source": [
    "### Soal 3 (skor 20/30)\n",
    "Buatlah sebuah program dengan menggunakan **satu jenis perulangan** untuk menghitung nilai berdasarkan masukkan dari user. Perulangan akan terus berjalan jika user mengetikkan huruf kapital **\"Y\"** dan perulangan akan berhenti saat user mengetikkan huruf kapital **\"N\"**. \n",
    "Setelah perulangan berhenti, program akan memilih **angka terkecil** dan **angka terbesar** dari angka yang dimasukkan user dan menghitung jumlah dan rata-rata angkat-angka tersebut. Program boleh menggunakan salah satu perulangan : \n",
    "\n",
    "  + _While_ (20 poin), atau\n",
    "  + _Do-while_ (20 poin), atau\n",
    "  + _For_ (30 poin)\n",
    "  \n",
    "Contoh ![Contoh Soal 3](images/Soal3.png)\n"
   ]
  },
  {
   "cell_type": "code",
   "execution_count": 3,
   "metadata": {},
   "outputs": [],
   "source": [
    "/* Jawaban Soal 3 */\n",
    "import java.util.Scanner;\n",
    "Scanner input = new Scanner(System.in);\n",
    "int\n"
   ]
  },
  {
   "cell_type": "markdown",
   "metadata": {},
   "source": [
    "### Soal 4 (skor 30++)\n",
    "Buatlah program klasifikasi umur yang sesuai dengan flowchar berikut **(skor 30)**. \n",
    "![Contoh Soal 4](images/Soal4.png)\n",
    "\n",
    "Saat perulangan berhenti. Hitung jumlah rata-rata umur yang telah dimasukkan, dan dari rata-rata tersebut termasuk klasifikasi umur apa? **(+poin 20)**"
   ]
  },
  {
   "cell_type": "code",
   "execution_count": 4,
   "metadata": {},
   "outputs": [],
   "source": [
    "/* Jawaban Soal 4 */\n",
    "\n"
   ]
  },
  {
   "cell_type": "code",
   "execution_count": null,
   "metadata": {},
   "outputs": [],
   "source": []
  }
 ],
 "metadata": {
  "kernelspec": {
   "display_name": "Java",
   "language": "java",
   "name": "java"
  },
  "language_info": {
   "codemirror_mode": "java",
   "file_extension": ".jshell",
   "mimetype": "text/x-java-source",
   "name": "Java",
   "pygments_lexer": "java",
   "version": "11.0.12+8-LTS-237"
  }
 },
 "nbformat": 4,
 "nbformat_minor": 1
}
