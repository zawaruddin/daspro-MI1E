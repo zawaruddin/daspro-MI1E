{
 "cells": [
  {
   "cell_type": "markdown",
   "metadata": {
    "collapsed": true
   },
   "source": [
    "# Ujian Tengah Semester (UTS)\n",
    "\n",
    "- **NIM   :** \n",
    "- **Nama  :** \n",
    "- **Kelas :** MI-1E\n",
    "\n",
    "## Deskripsi\n",
    "+ Silahkan kerjakan soal yang sekiranya mudah dahulu\n",
    "+ Jawaban langsung ditulis di bawah soal\n",
    "+ Waktu pengerjaan UTS adalah *90 menit*\n",
    "    - submit jawaban ke LMS maksimal pukul 10.45, lebih dari itu **nilai dikurangi**\n",
    "    - submit dan pull-request via github akan diberi nilai tambah (maksimal pukul 10.50, lebih dari itu **tidak diberi** nilai tambah)\n",
    "\n",
    "## Soal UTS\n",
    "### Soal 1  (skor 30)\n",
    "Buatlah sebuah program untuk menentukan minimal lembar uang yang dikeluarkan berdasarkan inputan uang yang diinputkan user (menggunakan _library Scanner_). Lembar uang sesuai dengan lembar nominal mata uang Rupiah yaitu lembar uang 1.000, 2.000, 5.000, 10.000, 20.000, 50.000, dan 100.000.\n",
    "\n",
    "Contoh: ![Contoh Soal 1](images/Soal1.png)"
   ]
  },
  {
   "cell_type": "code",
   "execution_count": 42,
   "metadata": {},
   "outputs": [
    {
     "name": "stdout",
     "output_type": "stream",
     "text": [
      "*** Program menentukan minimal lembar mata uang yang di keluarkan ***\n",
      "NIM : 2131710081\n",
      "Nama : Ferly Yanuar Prasetyo\n",
      "----------------------------------------\n",
      ">> Mulai\n",
      "Masukkan Nominal uang :  137000\n",
      ">> Hasil\n",
      "Anda memiliki 5 lembar uang kertas\n",
      " lembar uang Rp 100.000 : 1\n",
      " lembar uang Rp 50.000 : 0\n",
      " lembar uang Rp 20.000 : 1\n",
      " lembar uang Rp 10.000 : 1\n",
      " lembar uang Rp 5.000 : 1\n",
      " lembar uang Rp 2.000 : 1\n",
      " lembar uang Rp 1.000 : 0\n",
      "Selesai<<\n"
     ]
    }
   ],
   "source": [
    "/* Jawaban Soal 1 */\n",
    "import java.util.Scanner;\n",
    "System.out.println(\"*** Program menentukan minimal lembar mata uang yang di keluarkan ***\");\n",
    "System.out.println(\"NIM : 2131710081\");\n",
    "System.out.println(\"Nama : Ferly Yanuar Prasetyo\");\n",
    "System.out.println(\"----------------------------------------\");\n",
    "Scanner input = new Scanner(System.in);\n",
    "  int a=0;\n",
    "  int b=0;\n",
    "  int c=0;\n",
    "  int d=0;\n",
    "  int e=0;\n",
    "  int f=0;\n",
    "  int g=0;\n",
    "  int jumlah=0;\n",
    "  System.out.println(\">> Mulai\");\n",
    "  System.out.print(\"Masukkan Nominal uang :  \");\n",
    "  int uang = input.nextInt();\n",
    "    if (uang>1000){\n",
    "      while (uang>=100000){\n",
    "        uang-=100000;\n",
    "        a++;\n",
    "        jumlah++;\n",
    "      }\n",
    "      if (uang>=50000){\n",
    "          uang-=50000;\n",
    "          b++;\n",
    "          jumlah++;\n",
    "      }\n",
    "      while (uang>=20000){\n",
    "        uang-=20000;\n",
    "        c++;\n",
    "        jumlah++;\n",
    "      }\n",
    "      if (uang>=10000){\n",
    "        uang-=10000;\n",
    "        d++;\n",
    "        jumlah++;\n",
    "      }if (uang>=5000){\n",
    "        uang-=5000;\n",
    "        e++;\n",
    "        jumlah++;\n",
    "      }\n",
    "      while (uang>2000){\n",
    "        uang-=2000;\n",
    "        f++;\n",
    "        jumlah++;\n",
    "      }if (uang>=1000){\n",
    "        uang-=1000;\n",
    "        g++;\n",
    "        jumlah++;\n",
    "      }\n",
    "      System.out.println(\">> Hasil\");\n",
    "      System.out.printf(\"Anda memiliki %d lembar uang kertas\\n\", jumlah);\n",
    "      System.out.println(\" lembar uang Rp 100.000 : \" +a);\n",
    "      System.out.println(\" lembar uang Rp 50.000 : \" +b);\n",
    "      System.out.println(\" lembar uang Rp 20.000 : \" +c);\n",
    "      System.out.println(\" lembar uang Rp 10.000 : \" +d);\n",
    "      System.out.println(\" lembar uang Rp 5.000 : \" +e);\n",
    "      System.out.println(\" lembar uang Rp 2.000 : \" +g);\n",
    "      System.out.println(\" lembar uang Rp 1.000 : \" +f);\n",
    "    }else {\n",
    "      System.out.println(\"Anda tidak memiliki uang kertas\");\n",
    "    }\n",
    "    System.out.println(\"Selesai<<\")"
   ]
  },
  {
   "cell_type": "markdown",
   "metadata": {},
   "source": [
    "### Soal 2 (skor 20)\n",
    "Buatlah program dengan menggunakan **semua perulangan** _(for, while, do-while)_ untuk menampilkan huruf abjad A-Z secara terurut. Program akan selesai menampilkan huruf abjad (selesai _looping_) ketika huruf yang ditampilkan sama dengan huruf yang dimasukkan oleh pengguna.\n",
    "\n",
    "Contoh ![Contoh Soal 2](images/Soal2.png)"
   ]
  },
  {
   "cell_type": "code",
   "execution_count": 43,
   "metadata": {},
   "outputs": [
    {
     "name": "stdout",
     "output_type": "stream",
     "text": [
      "*Program menampilkan huruf abjad*\n",
      "NIM : 2131710081\n",
      "NIM : Ferly Yanuar Prasetyo\n",
      "--------------------------\n",
      ">>>Mulai\n",
      "Masukkan huruf untuk berhenti looping : M\n",
      "\n",
      "Output Program (looping FOR) : ABCDEFGHIJKL\n",
      "Program Berhenti looping di iterasi ke-12\n",
      "\n",
      "Output Program (looping While) : ABCDEFGHIJKL\n",
      "Program Berhenti looping di iterasi ke-12\n",
      "\n",
      "Output Program (looping Do While) : ABCDEFGHIJKL\n",
      "Program Berhenti looping di iterasi ke-12\n",
      "Selesai <<<\n"
     ]
    }
   ],
   "source": [
    "/* Jawaban Soal 2 */\n",
    "import java.util.Scanner;\n",
    "Scanner sc = new Scanner(System.in);\n",
    "\n",
    "System.out.println(\"*Program menampilkan huruf abjad*\");\n",
    "System.out.println(\"NIM : 2131710081\");\n",
    "System.out.println(\"NIM : Ferly Yanuar Prasetyo\");\n",
    "System.out.println(\"--------------------------\");\n",
    "\n",
    "char huruf;\n",
    "System.out.println(\">>>Mulai\");\n",
    "System.out.print(\"Masukkan huruf untuk berhenti looping : \");\n",
    "huruf = sc.next().charAt(0);\n",
    "\n",
    "// for\n",
    "System.out.print(\"\\nOutput Program (looping FOR) : \");\n",
    "for(char i = 'A';i < huruf; i++){\n",
    "    System.out.print(i);\n",
    "}\n",
    "int nomor = (int) huruf;\n",
    "nomor -= 65;\n",
    "System.out.println(\"\\nProgram Berhenti looping di iterasi ke-\" + nomor);\n",
    "\n",
    "// While\n",
    "System.out.print(\"\\nOutput Program (looping While) : \");\n",
    "char j = 'A';\n",
    "while(j<huruf){\n",
    "    System.out.print(j);\n",
    "    j++;\n",
    "}\n",
    "System.out.println(\"\\nProgram Berhenti looping di iterasi ke-\" + nomor);\n",
    "\n",
    "// do while\n",
    "System.out.print(\"\\nOutput Program (looping Do While) : \");\n",
    "char k = 'A';\n",
    "do {\n",
    "    System.out.print(k);\n",
    "    k++;\n",
    "}\n",
    "while(k<huruf);\n",
    "System.out.println(\"\\nProgram Berhenti looping di iterasi ke-\" + nomor);\n",
    "System.out.println(\"Selesai <<<\");"
   ]
  },
  {
   "cell_type": "markdown",
   "metadata": {},
   "source": [
    "### Soal 3 (skor 20/30)\n",
    "Buatlah sebuah program dengan menggunakan **satu jenis perulangan** untuk menghitung nilai berdasarkan masukkan dari user. Perulangan akan terus berjalan jika user mengetikkan huruf kapital **\"Y\"** dan perulangan akan berhenti saat user mengetikkan huruf kapital **\"N\"**. \n",
    "Setelah perulangan berhenti, program akan memilih **angka terkecil** dan **angka terbesar** dari angka yang dimasukkan user dan menghitung jumlah dan rata-rata angkat-angka tersebut. Program boleh menggunakan salah satu perulangan : \n",
    "\n",
    "  + _While_ (20 poin), atau\n",
    "  + _Do-while_ (20 poin), atau\n",
    "  + _For_ (30 poin)\n",
    "  \n",
    "Contoh ![Contoh Soal 3](images/Soal3.png)\n"
   ]
  },
  {
   "cell_type": "code",
   "execution_count": 3,
   "metadata": {},
   "outputs": [],
   "source": [
    "/* Jawaban Soal 3 */\n",
    "\n"
   ]
  },
  {
   "cell_type": "markdown",
   "metadata": {},
   "source": [
    "### Soal 4 (skor 30++)\n",
    "Buatlah program klasifikasi umur yang sesuai dengan flowchar berikut **(skor 30)**. \n",
    "![Contoh Soal 4](images/Soal4.png)\n",
    "\n",
    "Saat perulangan berhenti. Hitung jumlah rata-rata umur yang telah dimasukkan, dan dari rata-rata tersebut termasuk klasifikasi umur apa? **(+poin 20)**"
   ]
  },
  {
   "cell_type": "code",
   "execution_count": 45,
   "metadata": {},
   "outputs": [
    {
     "name": "stdout",
     "output_type": "stream",
     "text": [
      "NIM : 2131710081\n",
      "Nama : Ferly Yanuar Prasetyo\n",
      "Masukkan umur anda : 19\n",
      "Dewasa\n",
      "Apakah anda ingin memasukkan umur kembali? <Y/N>\n",
      "y\n",
      "Masukkan umur anda : 12\n",
      "Remaja\n",
      "Apakah anda ingin memasukkan umur kembali? <Y/N>\n",
      "n\n",
      "=====SELESAI=====\n"
     ]
    }
   ],
   "source": [
    "/* Jawaban Soal 4 */\n",
    "\n",
    "import java.util.Scanner;\n",
    "Scanner sc = new Scanner(System.in);\n",
    "int umur, rata2;\n",
    "String ulang;\n",
    "System.out.println(\"NIM : 2131710081\");\n",
    "System.out.println(\"Nama : Ferly Yanuar Prasetyo\");\n",
    "\n",
    "do{\n",
    "    System.out.print(\"Masukkan umur anda : \");\n",
    "    umur = sc.nextInt();\n",
    "    if(umur<=5){\n",
    "        System.out.println(\"Balita\");\n",
    "    }else if(umur<=10){\n",
    "        System.out.println(\"Anak-anak\");\n",
    "    }else if(umur<=17){\n",
    "        System.out.println(\"Remaja\");\n",
    "    }else if(umur<=40){\n",
    "        System.out.println(\"Dewasa\");\n",
    "    }else if(umur<=60){\n",
    "        System.out.println(\"Paruh baya\");\n",
    "    }else{\n",
    "        System.out.println(\"Tua\");\n",
    "    }\n",
    "    System.out.println(\"Apakah anda ingin memasukkan umur kembali? <Y/N>\");\n",
    "    ulang = sc.next();\n",
    "}while((ulang.charAt(0)=='Y'||ulang.charAt(0)=='y'));\n",
    "System.out.println(\"=====SELESAI=====\");"
   ]
  },
  {
   "cell_type": "code",
   "execution_count": null,
   "metadata": {},
   "outputs": [],
   "source": []
  }
 ],
 "metadata": {
  "kernelspec": {
   "display_name": "Java",
   "language": "java",
   "name": "java"
  },
  "language_info": {
   "codemirror_mode": "java",
   "file_extension": ".jshell",
   "mimetype": "text/x-java-source",
   "name": "Java",
   "pygments_lexer": "java",
   "version": "11.0.12+8-LTS-237"
  }
 },
 "nbformat": 4,
 "nbformat_minor": 1
}
