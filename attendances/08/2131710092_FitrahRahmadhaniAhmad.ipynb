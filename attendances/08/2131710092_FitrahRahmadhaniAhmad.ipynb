{
 "cells": [
  {
   "cell_type": "markdown",
   "metadata": {
    "collapsed": true
   },
   "source": [
    "# Ujian Tengah Semester (UTS)\n",
    "\n",
    "- **NIM   :** 2131710092\n",
    "- **Nama  :** Fitrah Rahmadhani Ahmad\n",
    "- **Kelas :** MI-1E\n",
    "\n",
    "## Deskripsi\n",
    "+ Silahkan kerjakan soal yang sekiranya mudah dahulu\n",
    "+ Jawaban langsung ditulis di bawah soal\n",
    "+ Waktu pengerjaan UTS adalah *90 menit*\n",
    "    - submit jawaban ke LMS maksimal pukul 10.45, lebih dari itu **nilai dikurangi**\n",
    "    - submit dan pull-request via github akan diberi nilai tambah (maksimal pukul 10.50, lebih dari itu **tidak diberi** nilai tambah)\n",
    "\n",
    "## Soal UTS\n",
    "### Soal 1  (skor 30)\n",
    "Buatlah sebuah program untuk menentukan minimal lembar uang yang dikeluarkan berdasarkan inputan uang yang diinputkan user (menggunakan _library Scanner_). Lembar uang sesuai dengan lembar nominal mata uang Rupiah yaitu lembar uang 1.000, 2.000, 5.000, 10.000, 20.000, 50.000, dan 100.000.\n",
    "\n",
    "Contoh: ![Contoh Soal 1](images/Soal1.png)"
   ]
  },
  {
   "cell_type": "code",
   "execution_count": 16,
   "metadata": {},
   "outputs": [
    {
     "name": "stdout",
     "output_type": "stream",
     "text": [
      "==========================================================\n",
      "===Program menentukan lembar mata uang yang dikeluarkan===\n",
      "NIM : 2131710092\n",
      "Nama : Fitrah Rahmadhani Ahmad\n",
      "==========================================================\n",
      "\n",
      "Masukkan nominal uang : 100000\n",
      "===HASIL===\n",
      "Lembar uang 100.000 = 1\n",
      "Lembar uang 50.000 = 0\n",
      "Lembar uang 20.000 = -2\n",
      "Lembar uang 10.000 = -7\n",
      "Lembar uang 5.000 = -16\n",
      "Lembar uang 1.000 = -85\n",
      "===SELESAI===\n"
     ]
    }
   ],
   "source": [
    "import java.util.Scanner;\n",
    "\n",
    "Scanner input = new Scanner(System.in);\n",
    "int nominal, cek;\n",
    "\n",
    "System.out.println(\"==========================================================\");\n",
    "System.out.println(\"===Program menentukan lembar mata uang yang dikeluarkan===\");\n",
    "System.out.println(\"NIM : 2131710092\");\n",
    "System.out.println(\"Nama : Fitrah Rahmadhani Ahmad\");\n",
    "System.out.println(\"==========================================================\\n\");\n",
    "\n",
    "System.out.print(\"Masukkan nominal uang : \");\n",
    "nominal = input.nextInt();\n",
    "\n",
    "System.out.println(\"===HASIL===\");\n",
    "cek = nominal / 100000;\n",
    "System.out.println(\"Lembar uang 100.000 = \" + cek);\n",
    "cek = (nominal - 100000) / 50000;\n",
    "System.out.println(\"Lembar uang 50.000 = \" + cek);\n",
    "cek = (nominal - 150000) / 20000;\n",
    "System.out.println(\"Lembar uang 20.000 = \" + cek);\n",
    "cek = (nominal - 170000) / 10000;\n",
    "System.out.println(\"Lembar uang 10.000 = \" + cek);\n",
    "cek = (nominal - 180000) / 5000;\n",
    "System.out.println(\"Lembar uang 5.000 = \" + cek);\n",
    "cek = (nominal - 185000) / 1000;\n",
    "System.out.println(\"Lembar uang 1.000 = \" + cek);\n",
    "System.out.println(\"===SELESAI===\");"
   ]
  },
  {
   "cell_type": "markdown",
   "metadata": {},
   "source": [
    "### Soal 2 (skor 20)\n",
    "Buatlah program dengan menggunakan **semua perulangan** _(for, while, do-while)_ untuk menampilkan huruf abjad A-Z secara terurut. Program akan selesai menampilkan huruf abjad (selesai _looping_) ketika huruf yang ditampilkan sama dengan huruf yang dimasukkan oleh pengguna.\n",
    "\n",
    "Contoh ![Contoh Soal 2](images/Soal2.png)"
   ]
  },
  {
   "cell_type": "code",
   "execution_count": 5,
   "metadata": {},
   "outputs": [
    {
     "name": "stdout",
     "output_type": "stream",
     "text": [
      "==========================================================\n",
      "===Program menampilkan huruf abjad===\n",
      "NIM : 2131710092\n",
      "Nama : Fitrah Rahmadhani Ahmad\n",
      "==========================================================\n",
      "\n",
      "Masukkan huruf untuk berhenti looping (KAPITAL) : M\n",
      "0"
     ]
    }
   ],
   "source": [
    "import java.util.Scanner;\n",
    "\n",
    "Scanner input = new Scanner(System.in);\n",
    "char batas;\n",
    "\n",
    "System.out.println(\"==========================================================\");\n",
    "System.out.println(\"===Program menampilkan huruf abjad===\");\n",
    "System.out.println(\"NIM : 2131710092\");\n",
    "System.out.println(\"Nama : Fitrah Rahmadhani Ahmad\");\n",
    "System.out.println(\"==========================================================\\n\");\n",
    "\n",
    "System.out.print(\"Masukkan huruf untuk berhenti looping (KAPITAL) : \");\n",
    "batas : input.next();\n",
    "\n",
    "int batasBil = (int) batas;\n",
    "System.out.print(batasBil);"
   ]
  },
  {
   "cell_type": "markdown",
   "metadata": {},
   "source": [
    "### Soal 3 (skor 20/30)\n",
    "Buatlah sebuah program dengan menggunakan **satu jenis perulangan** untuk menghitung nilai berdasarkan masukkan dari user. Perulangan akan terus berjalan jika user mengetikkan huruf kapital **\"Y\"** dan perulangan akan berhenti saat user mengetikkan huruf kapital **\"N\"**. \n",
    "Setelah perulangan berhenti, program akan memilih **angka terkecil** dan **angka terbesar** dari angka yang dimasukkan user dan menghitung jumlah dan rata-rata angkat-angka tersebut. Program boleh menggunakan salah satu perulangan : \n",
    "\n",
    "  + _While_ (20 poin), atau\n",
    "  + _Do-while_ (20 poin), atau\n",
    "  + _For_ (30 poin)\n",
    "  \n",
    "Contoh ![Contoh Soal 3](images/Soal3.png)\n"
   ]
  },
  {
   "cell_type": "code",
   "execution_count": 2,
   "metadata": {},
   "outputs": [
    {
     "name": "stdout",
     "output_type": "stream",
     "text": [
      "==========================================================\n",
      "===Program Menghitung Angka===\n",
      "NIM : 2131710092\n",
      "Nama : Fitrah Rahmadhani Ahmad\n",
      "==========================================================\n",
      "\n",
      "Masukkan angka ke 1\n",
      "10\n",
      "Ingin memasukkan angka lagi? (Y/N)\n",
      "y\n",
      "Masukkan angka ke 2\n",
      "20\n",
      "Ingin memasukkan angka lagi? (Y/N)\n",
      "y\n",
      "Masukkan angka ke 3\n",
      "30\n",
      "Ingin memasukkan angka lagi? (Y/N)\n",
      "n\n",
      "Output Program\n",
      "Total bilangan = 60\n",
      "Rata-rata bilangan = 20\n"
     ]
    }
   ],
   "source": [
    "import java.util.Scanner;\n",
    "\n",
    "Scanner input = new Scanner(System.in);\n",
    "int i = 1, angka, total, avg;\n",
    "String s;\n",
    "\n",
    "System.out.println(\"==========================================================\");\n",
    "System.out.println(\"===Program Menghitung Angka===\");\n",
    "System.out.println(\"NIM : 2131710092\");\n",
    "System.out.println(\"Nama : Fitrah Rahmadhani Ahmad\");\n",
    "System.out.println(\"==========================================================\\n\");\n",
    "\n",
    "do {\n",
    "    System.out.println(\"Masukkan angka ke \" + i);\n",
    "    angka = input.nextInt();\n",
    "    total += angka;\n",
    "    avg = total / i;\n",
    "    i++;\n",
    "    System.out.println(\"Ingin memasukkan angka lagi? (Y/N)\");\n",
    "    s = input.next(); \n",
    "}while((s.charAt(0)=='Y')||(s.charAt(0)=='y'));\n",
    "System.out.println(\"Output Program\");\n",
    "System.out.println(\"Total bilangan = \" + total);\n",
    "System.out.println(\"Rata-rata bilangan = \" + avg);"
   ]
  },
  {
   "cell_type": "markdown",
   "metadata": {},
   "source": [
    "### Soal 4 (skor 30++)\n",
    "Buatlah program klasifikasi umur yang sesuai dengan flowchar berikut **(skor 30)**. \n",
    "![Contoh Soal 4](images/Soal4.png)\n",
    "\n",
    "Saat perulangan berhenti. Hitung jumlah rata-rata umur yang telah dimasukkan, dan dari rata-rata tersebut termasuk klasifikasi umur apa? **(+poin 20)**"
   ]
  },
  {
   "cell_type": "code",
   "execution_count": 2,
   "metadata": {},
   "outputs": [
    {
     "name": "stdout",
     "output_type": "stream",
     "text": [
      "==========================================================\n",
      "===Program Klasifikasi Umur===\n",
      "NIM : 2131710092\n",
      "Nama : Fitrah Rahmadhani Ahmad\n",
      "==========================================================\n",
      "\n",
      "Masukkan Umur Anda = \n",
      "5\n",
      "Balita\n",
      "Apakah ingin mengulangi program? (Y/N)\n",
      "y\n",
      "Masukkan Umur Anda = \n",
      "10\n",
      "Anak-Anak\n",
      "Apakah ingin mengulangi program? (Y/N)\n",
      "y\n",
      "Masukkan Umur Anda = \n",
      "30\n",
      "Dewasa\n",
      "Apakah ingin mengulangi program? (Y/N)\n",
      "n\n",
      "Jumlah umur = 45 Paruh Baya\n",
      "SELESAI"
     ]
    }
   ],
   "source": [
    "import java.util.Scanner;\n",
    "\n",
    "Scanner input = new Scanner(System.in);\n",
    "int umur, jumlah;\n",
    "String s;\n",
    "\n",
    "System.out.println(\"==========================================================\");\n",
    "System.out.println(\"===Program Klasifikasi Umur===\");\n",
    "System.out.println(\"NIM : 2131710092\");\n",
    "System.out.println(\"Nama : Fitrah Rahmadhani Ahmad\");\n",
    "System.out.println(\"==========================================================\\n\");\n",
    "\n",
    "do{\n",
    "    System.out.println(\"Masukkan Umur Anda = \");\n",
    "    umur = input.nextInt();\n",
    "    if (umur <= 5){\n",
    "        System.out.println(\"Balita\");\n",
    "    }else if (umur <= 10){\n",
    "        System.out.println(\"Anak-Anak\");\n",
    "    }else if (umur <= 17){\n",
    "        System.out.println(\"Remaja\");\n",
    "    }else if (umur <= 40){\n",
    "        System.out.println(\"Dewasa\");\n",
    "    }else if (umur <= 60){\n",
    "        System.out.println(\"Paruh Baya\");\n",
    "    }else{\n",
    "        System.out.println(\"Tua\");\n",
    "    }\n",
    "    jumlah += umur;\n",
    "    System.out.println(\"Apakah ingin mengulangi program? (Y/N)\");\n",
    "    s = input.next(); \n",
    "}while((s.charAt(0)=='Y')||(s.charAt(0)=='y'));\n",
    "System.out.print(\"Jumlah umur = \" + jumlah + \" \");\n",
    "if (jumlah <= 5){\n",
    "        System.out.println(\"Balita\");\n",
    "    }else if (jumlah <= 10){\n",
    "        System.out.println(\"Anak-Anak\");\n",
    "    }else if (jumlah <= 17){\n",
    "        System.out.println(\"Remaja\");\n",
    "    }else if (jumlah <= 40){\n",
    "        System.out.println(\"Dewasa\");\n",
    "    }else if (jumlah <= 60){\n",
    "        System.out.println(\"Paruh Baya\");\n",
    "    }else{\n",
    "        System.out.println(\"Tua\");\n",
    "    }\n",
    "System.out.print(\"SELESAI\");"
   ]
  }
 ],
 "metadata": {
  "kernelspec": {
   "display_name": "Java",
   "language": "java",
   "name": "java"
  },
  "language_info": {
   "codemirror_mode": "java",
   "file_extension": ".jshell",
   "mimetype": "text/x-java-source",
   "name": "Java",
   "pygments_lexer": "java",
   "version": "17+35-LTS-2724"
  }
 },
 "nbformat": 4,
 "nbformat_minor": 1
}
