{
 "cells": [
  {
   "cell_type": "markdown",
   "metadata": {},
   "source": [
    "# JOBSHEET 14. Fungsi 2\n",
    "# nama : RAHMAT HIDAYAT\n",
    "# NIM : 2131710043"
   ]
  },
  {
   "cell_type": "markdown",
   "metadata": {},
   "source": [
    "## Tujuan\n",
    "* Mahasiswa memahami konsep fungsi rekursif\n",
    "* Mahasiswa mampu mengimplementasikan fungsi rekursif dalam kode program\n",
    "\n"
   ]
  },
  {
   "cell_type": "markdown",
   "metadata": {},
   "source": [
    "## Alat dan Bahan\n",
    "* PC/Laptop\n",
    "* Browser\n",
    "* Koneksi internet\n",
    "* Anaconda3 + Java kernel (opsional)"
   ]
  },
  {
   "cell_type": "markdown",
   "metadata": {},
   "source": [
    "## Praktikum"
   ]
  },
  {
   "cell_type": "markdown",
   "metadata": {},
   "source": [
    "### Percobaan 1\n",
    "Pada percobaan ini akan dilakukan pembuatan program untuk menghitung nilai faktorial dari suatu bilangan dengan menggunakan fungsi rekursif. Selain itu, akan dibuat juga fungsi untuk menghitung nilai faktorial dengan menggunakan algoritma iteratif sebagai pembandingnya\n",
    "\n",
    "1. Buat fungsi static dengan nama **faktorialRekursif()**, dengan tipe data kembalian fungsi int dan memiliki 1 parameter dengan tipe data int berupa bilangan yang akan dihitung nilai faktorialnya\n",
    "\n",
    "    ![Gambar 1](images/code14-1.png)"
   ]
  },
  {
   "cell_type": "code",
   "execution_count": 1,
   "metadata": {},
   "outputs": [],
   "source": [
    "// Tuliskan kode program Percobaan 1 Langkah 1\n",
    "static int faktorialRekursif(int n) {\n",
    "    if (n == 0) {\n",
    "        return (1);\n",
    "    } else {\n",
    "        return (n * faktorialRekursif(n - 1));\n",
    "    }\n",
    "}"
   ]
  },
  {
   "cell_type": "markdown",
   "metadata": {},
   "source": [
    "2. Buat lagi fungsi static dengan nama **faktorialIteratif()**, dengan tipe data kembalian fungsi int dan memiliki 1 parameter dengan tipe data int berupa bilangan yang akan dihitung nilai faktorialnya.\n",
    "\n",
    "    ![Gambar 2](images/code14-2.png)"
   ]
  },
  {
   "cell_type": "code",
   "execution_count": 2,
   "metadata": {},
   "outputs": [],
   "source": [
    "// Tuliskan kode program Percobaan 1 Langkah 2\n",
    "static int faktorialInteratif(int n) {\n",
    "    int faktor = 1;\n",
    "    for (int i = n; i>= 1; i--) {\n",
    "        faktor = faktor * i;\n",
    "    }\n",
    "    return faktor;\n",
    "}"
   ]
  },
  {
   "cell_type": "markdown",
   "metadata": {},
   "source": [
    "3. Lakukan pemanggilan terhadap kedua fungsi yang telah dibuat sebelumnya, dan tampilkan hasil yang didapatkan.\n",
    "\n",
    "    ![Gambar 3](images/code14-3.png)"
   ]
  },
  {
   "cell_type": "code",
   "execution_count": 3,
   "metadata": {},
   "outputs": [
    {
     "name": "stdout",
     "output_type": "stream",
     "text": [
      "120\n",
      "120\n"
     ]
    }
   ],
   "source": [
    "// Tuliskan kode program Percobaan 1 Langkah 1, 2, 3\n",
    "System.out.println(faktorialRekursif(5));\n",
    "System.out.println(faktorialInteratif(5));"
   ]
  },
  {
   "cell_type": "markdown",
   "metadata": {},
   "source": [
    "4. Jika ditelusuri, pada saat pemanggilan fungsi faktorialRekursif(5),maka proses yang terjadi dapat diilustrasikan sebagai berikut:\n",
    "\n",
    "    ![Gambar 4](images/code14-4.png)"
   ]
  },
  {
   "cell_type": "markdown",
   "metadata": {},
   "source": [
    "#### Pertanyaan\n",
    "1. Apa yang dimaksud dengan fungsi rekursif?\n",
    "\n",
    "2. Bagaimana contoh kasus penggunaan fungsi rekursif ?\n",
    "3. Pada Percobaan1, apakah hasil yang diberikan fungsi faktorialRekursif() dan fungsi faktorialIteratif() sama? Jelaskan perbedaan alur jalannya program pada penggunaan fungsi rekursif dan fungsi iteratif!\n"
   ]
  },
  {
   "cell_type": "markdown",
   "metadata": {},
   "source": [
    "1.Fungsi rekursif adalah metude perulangan yang terjadi akibat pengeksekusian suatu fungsi yang mana fungsi tersebut memanggiil dirinya sendiri."
   ]
  },
  {
   "cell_type": "markdown",
   "metadata": {},
   "source": [
    "### Percobaan 2\n",
    "Pada percobaan ini akan dilakukan pembuatan program untuk menghitung pangkat sebuah bilangan dengan menggunakan fungsi rekursif."
   ]
  },
  {
   "cell_type": "markdown",
   "metadata": {},
   "source": [
    "1. Buat fungsi static dengan nama **hitungPangkat()**, dengan tipe data kembalian fungsi int dan memiliki 2 parameter dengan tipe data int berupa bilangan yang akan dihitung pangkatnya dan bilangan pangkatnya\n",
    "\n",
    "    ![Gambar 5](images/code14-5.png)"
   ]
  },
  {
   "cell_type": "markdown",
   "metadata": {},
   "source": [
    "2.\tDeklarasikan Scanner dengan nama sc\n",
    "3.\tBuatlah dua buah variabel bertipe int dengan nama bilangan dan pangkat\n",
    "4.\tTambahkan kode berikut ini untuk menerima input dari keyboard\n",
    "\n",
    "    ![Gambar 6](images/code14-6.png)\n",
    "\n",
    "5. Lakukan pemanggilan fungsi hitungPangkat yang telah dibuat sebelumnya dengan mengirimkan dua nilai parameter.\n",
    "\n",
    "    ![Gambar 7](images/code14-7.png)"
   ]
  },
  {
   "cell_type": "code",
   "execution_count": 4,
   "metadata": {},
   "outputs": [
    {
     "name": "stdout",
     "output_type": "stream",
     "text": [
      "Bilangan yang dihitun: 12\n",
      "Pangkat: 3\n",
      "1728\n"
     ]
    }
   ],
   "source": [
    "// Tuliskan kode program Percobaan 2 Langkah 1 - 5\n",
    "import java.util.Scanner;\n",
    "Scanner sc = new Scanner(System.in);\n",
    "int bilangan, pangkat;\n",
    "static int hitungPangkat(int x, int y) {\n",
    "    if (y == 0) {\n",
    "        return (1);\n",
    "    } else {\n",
    "        return (x * hitungPangkat(x, y - 1));\n",
    "    }\n",
    "}\n",
    "System.out.print(\"Bilangan yang dihitun: \");\n",
    "bilangan = sc.nextInt();\n",
    "System.out.print(\"Pangkat: \");\n",
    "pangkat = sc.nextInt();\n",
    "System.out.println(hitungPangkat(bilangan, pangkat));"
   ]
  },
  {
   "cell_type": "markdown",
   "metadata": {},
   "source": [
    "#### Pertanyaan\n",
    "1. Pada Percobaan2, terdapat pemanggilan fungsi rekursif hitungPangkat(bilangan, pangkat) pada fungsi main, kemudian dilakukan pemanggilan fungsi hitungPangkat() secara berulangkali. Jelaskan sampai kapan proses pemanggilan fungsi tersebut akan dijalankan!"
   ]
  },
  {
   "cell_type": "markdown",
   "metadata": {},
   "source": [
    "fungsi tersebut akan terus dijalankan sampai base case nya sudah terpenuhi. "
   ]
  },
  {
   "cell_type": "markdown",
   "metadata": {},
   "source": [
    "### Percobaan 3\n",
    "Pada percobaan ini akan dilakukan pembuatan program untuk menghitung jumlah uang nasabah yang disimpan di Bank setelah mendapatkan bunga selama beberapa tahun dengan menggunakan fungsi rekursif. \n",
    "\n",
    "1. Buat fungsi static dengan nama **hitungBunga()**, dengan tipe data kembalian fungsi double dan memiliki 2 parameter dengan tipe  data int berupa saldo nasabah dan lamanya menabung. Pada kasus ini dianggap bunga yang ditentukan oleh bank adalah 11% per tahun. Karena perhitungan bunga adalah bunga * saldo, sehingga untuk menghitung besarnya uang setelah ditambah bunga adalah saldo + bunga * saldo. Dalam hal ini, besarnya bunga adalah 0.11 * saldo, dan saldo dianggap 1 * saldo, sehingga 1 * saldo + 0.11 * saldo dapat diringkas menjadi 1.11 * saldo untuk perhitungan saldo setelah ditambah bunga (dalam setahun).\n",
    "\n",
    "    ![Gambar 8](images/code14-8.png)"
   ]
  },
  {
   "cell_type": "markdown",
   "metadata": {},
   "source": [
    "2.\tDeklarasikan Scanner dengan nama sc\n",
    "3.\tBuatlah sebuah variabel bertipa double dengan nama saldoAwal dan sebuah variabel bertipe int bernama tahun\n",
    "4.\tTambahkan kode berikut ini untuk menerima input dari keyboard\n",
    "\n",
    " ![Gambar 9](images/code14-9.png)"
   ]
  },
  {
   "cell_type": "markdown",
   "metadata": {},
   "source": [
    "5. Lakukan pemanggilan fungsi hitungBunga yang telah dibuat sebelumnya dengan mengirimkan dua nilai parameter.\n",
    "\n",
    "    ![Gambar 10](images/code14-10.png)"
   ]
  },
  {
   "cell_type": "code",
   "execution_count": 5,
   "metadata": {},
   "outputs": [
    {
     "name": "stdout",
     "output_type": "stream",
     "text": [
      "Jumlah saldo awal: 500000\n",
      "Lamanya menabung (tahun): 3\n",
      "Jumlah uang setelah 3 tahun: 683815.5000000001\n"
     ]
    }
   ],
   "source": [
    "// Tuliskan kode program Percobaan 3 Langkah 1 - 5\n",
    "import java.util.Scanner;\n",
    "Scanner sc = new Scanner(System.in);\n",
    "double saldoAwal;\n",
    "int tahun;\n",
    "static double hitungBunga(double saldo, int tahun) {\n",
    "    if (tahun == 0) {\n",
    "        return (saldo);\n",
    "    } else {\n",
    "        return (1.11 * hitungBunga(saldo, tahun - 1));\n",
    "    }\n",
    "}\n",
    "System.out.print(\"Jumlah saldo awal: \");\n",
    "saldoAwal = sc.nextInt();\n",
    "System.out.print(\"Lamanya menabung (tahun): \");\n",
    "tahun = sc.nextInt();\n",
    "System.out.print(\"Jumlah uang setelah \" + tahun + \" tahun: \");\n",
    "System.out.println(hitungBunga(saldoAwal, tahun));"
   ]
  },
  {
   "cell_type": "markdown",
   "metadata": {},
   "source": [
    "#### Pertanyaan\n",
    "1. Pada Percobaan3, sebutkan blok kode program manakah yang merupakan “base case” dan “recursion call”!\n",
    "\n",
    "        base case : (tahun == 0)\n",
    "        recursion call : (1.11 * hitungBunga(saldo, tahun))"
   ]
  },
  {
   "cell_type": "markdown",
   "metadata": {},
   "source": [
    "# Tugas"
   ]
  },
  {
   "cell_type": "markdown",
   "metadata": {},
   "source": [
    "1. Buatlah program untuk menampilkan bilangan n sampai 0 dengan menggunakan fungsi rekursif dan fungsi iteratif. (**DeretDescendingRekursif**)."
   ]
  },
  {
   "cell_type": "code",
   "execution_count": 23,
   "metadata": {},
   "outputs": [
    {
     "name": "stdout",
     "output_type": "stream",
     "text": [
      "Masukkan n: 4\n",
      "4 3 2 1 2 (fungsi rekursif)\n",
      "4 3 2 1 0 (fungsi iteratif)\n"
     ]
    }
   ],
   "source": [
    "// Tuliskan jawaban tugas nomor 1\n",
    "static int rekursif(int x){\n",
    "    if(x == 0){\n",
    "        return 0;\n",
    "    }else{\n",
    "        System.out.print(x +\" \");\n",
    "        return (x - rekursif(x - 1));\n",
    "    }\n",
    "}\n",
    "\n",
    "static int iteratif(int x){\n",
    "    int i;\n",
    "    for(i=x; i>=1; i--){\n",
    "        System.out.print(i+\" \");\n",
    "    }\n",
    "    return i;\n",
    "}\n",
    "\n",
    "Scanner in = new Scanner(System.in);\n",
    "\n",
    "System.out.print(\"Masukkan n: \");\n",
    "int sc = in.nextInt();\n",
    "\n",
    "System.out.println(rekursif(sc)+(\" (fungsi rekursif)\"));\n",
    "System.out.println(iteratif(sc)+(\" (fungsi iteratif)\"));"
   ]
  },
  {
   "cell_type": "markdown",
   "metadata": {},
   "source": [
    "2. Buatlah program yang di dalamnya terdapat fungsi rekursif untuk menghitung bilangan faktorial. Misalniya f = 8, maka akan dihasilkan 1+2+3+4+5+6+7+8 = 36 (**PenjumlahanRekursif**)."
   ]
  },
  {
   "cell_type": "code",
   "execution_count": 7,
   "metadata": {},
   "outputs": [
    {
     "ename": "CompilationException",
     "evalue": "",
     "output_type": "error",
     "traceback": [
      "\u001b[1m\u001b[30m|   \u001b[1m\u001b[30m    if\u001b[0m\u001b[1m\u001b[30m\u001b[41m\u001b[0m\u001b[1m\u001b[30m\u001b[0m",
      "\u001b[1m\u001b[31m'(' expected\u001b[0m",
      "",
      "\u001b[1m\u001b[30m|   \u001b[1m\u001b[30m\u001b[0m\u001b[1m\u001b[30m\u001b[41m\u001b[0m\u001b[1m\u001b[30m}\u001b[0m",
      "\u001b[1m\u001b[31millegal start of expression\u001b[0m",
      ""
     ]
    }
   ],
   "source": [
    "// Tuliskan jawaban tugas nomor 2\n",
    "import java.util.Scanner;\n",
    "Scanner sc = new Scanner(System.in);\n",
    "int n, angka;\n",
    "static int penjumlahanRekursif(int n){\n",
    "    if\n",
    "}\n"
   ]
  },
  {
   "cell_type": "markdown",
   "metadata": {},
   "source": [
    "3.\tBuat program yang di dalamnya terdapat fungsi rekursif untuk mengecek apakah suatu bilangan n merupakan bilangan prima atau bukan. n dikatakan bukan bilangan prima jika ia habis dibagi dengan bilangan kurang dari n. (**CekPrimaRekursif**)."
   ]
  },
  {
   "cell_type": "code",
   "execution_count": 8,
   "metadata": {},
   "outputs": [],
   "source": [
    "// Tuliskan jawaban tugas nomor 3"
   ]
  },
  {
   "cell_type": "markdown",
   "metadata": {},
   "source": [
    "4.\tSepasang marmut yang baru lahir (jantan dan betina) ditempatkan pada suatu pembiakan.  Setelah dua bulan pasangan marmut tersebut melahirkan sepasang marmut kembar (jantan dan betina). Setiap pasangan marmut yang lahir juga akan melahirkan sepasang marmut juga setiap 2 bulan.  Berapa pasangan marmut yang ada pada akhir bulan ke-12? Buatlah programnya menggunakan fungsi rekursif! (**Fibonacci**).\n",
    "Berikut ini adalah ilustrasinya dalam bentuk tabel.\n",
    "\n",
    " ![Gambar 11](images/code14-11.PNG)"
   ]
  },
  {
   "cell_type": "code",
   "execution_count": 9,
   "metadata": {},
   "outputs": [],
   "source": [
    "// Tuliskan jawaban tugas nomor 4"
   ]
  }
 ],
 "metadata": {
  "kernelspec": {
   "display_name": "Java",
   "language": "java",
   "name": "java"
  },
  "language_info": {
   "codemirror_mode": "java",
   "file_extension": ".jshell",
   "mimetype": "text/x-java-source",
   "name": "Java",
   "pygments_lexer": "java",
   "version": "11.0.11+9-LTS-194"
  }
 },
 "nbformat": 4,
 "nbformat_minor": 4
}
