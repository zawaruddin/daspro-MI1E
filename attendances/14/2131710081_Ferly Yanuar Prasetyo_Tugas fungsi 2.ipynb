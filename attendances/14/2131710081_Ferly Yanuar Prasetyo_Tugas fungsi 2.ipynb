{
 "cells": [
  {
   "cell_type": "markdown",
   "metadata": {},
   "source": [
    "# JOBSHEET 14. Fungsi 2"
   ]
  },
  {
   "cell_type": "markdown",
   "metadata": {},
   "source": [
    "## Tujuan\n",
    "* Mahasiswa memahami konsep fungsi rekursif\n",
    "* Mahasiswa mampu mengimplementasikan fungsi rekursif dalam kode program\n",
    "\n"
   ]
  },
  {
   "cell_type": "markdown",
   "metadata": {},
   "source": [
    "## Alat dan Bahan\n",
    "* PC/Laptop\n",
    "* Browser\n",
    "* Koneksi internet\n",
    "* Anaconda3 + Java kernel (opsional)"
   ]
  },
  {
   "cell_type": "markdown",
   "metadata": {},
   "source": [
    "## Praktikum"
   ]
  },
  {
   "cell_type": "markdown",
   "metadata": {},
   "source": [
    "### Percobaan 1\n",
    "Pada percobaan ini akan dilakukan pembuatan program untuk menghitung nilai faktorial dari suatu bilangan dengan menggunakan fungsi rekursif. Selain itu, akan dibuat juga fungsi untuk menghitung nilai faktorial dengan menggunakan algoritma iteratif sebagai pembandingnya\n",
    "\n",
    "1. Buat fungsi static dengan nama **faktorialRekursif()**, dengan tipe data kembalian fungsi int dan memiliki 1 parameter dengan tipe data int berupa bilangan yang akan dihitung nilai faktorialnya\n",
    "\n",
    "    ![Gambar 1](images/code14-1.png)"
   ]
  },
  {
   "cell_type": "code",
   "execution_count": 19,
   "metadata": {},
   "outputs": [],
   "source": [
    "// Tuliskan kode program Percobaan 1 Langkah 1\n",
    "static int faktorialRekursif(int n){\n",
    "    if (n == 0){\n",
    "        return (1);\n",
    "    } else {\n",
    "        return (n * faktorialRekursif(n - 1));\n",
    "    }\n",
    "}"
   ]
  },
  {
   "cell_type": "markdown",
   "metadata": {},
   "source": [
    "2. Buat lagi fungsi static dengan nama **faktorialIteratif()**, dengan tipe data kembalian fungsi int dan memiliki 1 parameter dengan tipe data int berupa bilangan yang akan dihitung nilai faktorialnya.\n",
    "\n",
    "    ![Gambar 2](images/code14-2.png)"
   ]
  },
  {
   "cell_type": "code",
   "execution_count": 20,
   "metadata": {},
   "outputs": [],
   "source": [
    "// Tuliskan kode program Percobaan 1 Langkah 2\n",
    "static int faktorialIteratif(int n){\n",
    "    int faktor = 1;\n",
    "    for (int i = n; i >= 1; i--){\n",
    "        faktor = faktor * i;\n",
    "    }\n",
    "    return faktor;\n",
    "}"
   ]
  },
  {
   "cell_type": "markdown",
   "metadata": {},
   "source": [
    "3. Lakukan pemanggilan terhadap kedua fungsi yang telah dibuat sebelumnya, dan tampilkan hasil yang didapatkan.\n",
    "\n",
    "    ![Gambar 3](images/code14-3.png)"
   ]
  },
  {
   "cell_type": "code",
   "execution_count": 21,
   "metadata": {},
   "outputs": [
    {
     "name": "stdout",
     "output_type": "stream",
     "text": [
      "120\n",
      "120\n"
     ]
    }
   ],
   "source": [
    "// Tuliskan kode program Percobaan 1 Langkah 1, 2, 3\n",
    "System.out.println(faktorialRekursif(5));\n",
    "System.out.println(faktorialIteratif(5));"
   ]
  },
  {
   "cell_type": "markdown",
   "metadata": {},
   "source": [
    "4. Jika ditelusuri, pada saat pemanggilan fungsi faktorialRekursif(5),maka proses yang terjadi dapat diilustrasikan sebagai berikut:\n",
    "\n",
    "    ![Gambar 4](images/code14-4.png)"
   ]
  },
  {
   "cell_type": "markdown",
   "metadata": {},
   "source": [
    "#### Pertanyaan\n",
    "1. Apa yang dimaksud dengan fungsi rekursif?\n",
    "2. Bagaimana contoh kasus penggunaan fungsi rekursif ?\n",
    "3. Pada Percobaan1, apakah hasil yang diberikan fungsi faktorialRekursif() dan fungsi faktorialIteratif() sama? Jelaskan perbedaan alur jalannya program pada penggunaan fungsi rekursif dan fungsi iteratif!\n"
   ]
  },
  {
   "cell_type": "markdown",
   "metadata": {},
   "source": [
    "Jawaban\n",
    "1. Fungsi Rekursif adalah fungsi yang mamanggil dirinya sendiri secara berulang ulang hingga kondisi yang menghentikan\n",
    "2. contoh menghitung sebuah nilai faktorial menggunakan fungsi rekursif\n",
    "3. jika menggunakan fungsi rekursif pertama akan dilakuan pemilihan apakah nilai n = 0 dan jika iya maka akan mengembalikan nilai 1, tetapi jika tidak maka nilai n akan dikalikan dengan hasil faktorial n - 1. jika menggunakan fungsi Iteratif menggunakan perulangan for dimana nilai n akan dikalikan dengan nilai n - 1 menggunakan i--"
   ]
  },
  {
   "cell_type": "markdown",
   "metadata": {},
   "source": [
    "### Percobaan 2\n",
    "Pada percobaan ini akan dilakukan pembuatan program untuk menghitung pangkat sebuah bilangan dengan menggunakan fungsi rekursif."
   ]
  },
  {
   "cell_type": "markdown",
   "metadata": {},
   "source": [
    "1. Buat fungsi static dengan nama **hitungPangkat()**, dengan tipe data kembalian fungsi int dan memiliki 2 parameter dengan tipe data int berupa bilangan yang akan dihitung pangkatnya dan bilangan pangkatnya\n",
    "\n",
    "    ![Gambar 5](images/code14-5.png)"
   ]
  },
  {
   "cell_type": "markdown",
   "metadata": {},
   "source": [
    "2.\tDeklarasikan Scanner dengan nama sc\n",
    "3.\tBuatlah dua buah variabel bertipe int dengan nama bilangan dan pangkat\n",
    "4.\tTambahkan kode berikut ini untuk menerima input dari keyboard\n",
    "\n",
    "    ![Gambar 6](images/code14-6.png)\n",
    "\n",
    "5. Lakukan pemanggilan fungsi hitungPangkat yang telah dibuat sebelumnya dengan mengirimkan dua nilai parameter.\n",
    "\n",
    "    ![Gambar 7](images/code14-7.png)"
   ]
  },
  {
   "cell_type": "code",
   "execution_count": 4,
   "metadata": {},
   "outputs": [
    {
     "name": "stdout",
     "output_type": "stream",
     "text": [
      "Bilangan yang dihitung: \n",
      "6\n",
      "Pangkat : \n",
      "2\n",
      "36\n"
     ]
    }
   ],
   "source": [
    "// Tuliskan kode program Percobaan 2 Langkah 1 - 5\n",
    "static int hitungPangkat(int x, int y){\n",
    "    if (y == 0){\n",
    "        return (1);\n",
    "    } else {\n",
    "        return (x * hitungPangkat(x, y - 1));\n",
    "    }\n",
    "}\n",
    "import java.util.Scanner;\n",
    "Scanner sc = new Scanner(System.in);\n",
    "int bilangan, pangkat;\n",
    "System.out.println(\"Bilangan yang dihitung: \");\n",
    "bilangan = sc.nextInt();\n",
    "System.out.println(\"Pangkat : \");\n",
    "pangkat = sc.nextInt();\n",
    "System.out.println(hitungPangkat(bilangan, pangkat));"
   ]
  },
  {
   "cell_type": "markdown",
   "metadata": {},
   "source": [
    "#### Pertanyaan\n",
    "1. Pada Percobaan2, terdapat pemanggilan fungsi rekursif hitungPangkat(bilangan, pangkat) pada fungsi main, kemudian dilakukan pemanggilan fungsi hitungPangkat() secara berulangkali. Jelaskan sampai kapan proses pemanggilan fungsi tersebut akan dijalankan!"
   ]
  },
  {
   "cell_type": "markdown",
   "metadata": {},
   "source": [
    "di dalam program tersebut di jelaskan bahwa menghitung x^y, jika y = 0 maka akan mengembalikan nilai 1 tapi jika y > 0 maka x^y-1 dan dilakukan perulangan terus hingga nilai y = 0, sebelumnya di lakukan input manual menggunakan Scanner dan dilakukan pemanggilan fungsi hitungPangkat(bilangan, pangkat), dan fungsi tersebut akan terus dijalankan hingga Base case terpenuhi."
   ]
  },
  {
   "cell_type": "markdown",
   "metadata": {},
   "source": [
    "### Percobaan 3\n",
    "Pada percobaan ini akan dilakukan pembuatan program untuk menghitung jumlah uang nasabah yang disimpan di Bank setelah mendapatkan bunga selama beberapa tahun dengan menggunakan fungsi rekursif. \n",
    "\n",
    "1. Buat fungsi static dengan nama **hitungBunga()**, dengan tipe data kembalian fungsi double dan memiliki 2 parameter dengan tipe  data int berupa saldo nasabah dan lamanya menabung. Pada kasus ini dianggap bunga yang ditentukan oleh bank adalah 11% per tahun. Karena perhitungan bunga adalah bunga * saldo, sehingga untuk menghitung besarnya uang setelah ditambah bunga adalah saldo + bunga * saldo. Dalam hal ini, besarnya bunga adalah 0.11 * saldo, dan saldo dianggap 1 * saldo, sehingga 1 * saldo + 0.11 * saldo dapat diringkas menjadi 1.11 * saldo untuk perhitungan saldo setelah ditambah bunga (dalam setahun).\n",
    "\n",
    "    ![Gambar 8](images/code14-8.png)"
   ]
  },
  {
   "cell_type": "markdown",
   "metadata": {},
   "source": [
    "2.\tDeklarasikan Scanner dengan nama sc\n",
    "3.\tBuatlah sebuah variabel bertipa double dengan nama saldoAwal dan sebuah variabel bertipe int bernama tahun\n",
    "4.\tTambahkan kode berikut ini untuk menerima input dari keyboard\n",
    "\n",
    " ![Gambar 9](images/code14-9.png)"
   ]
  },
  {
   "cell_type": "markdown",
   "metadata": {},
   "source": [
    "5. Lakukan pemanggilan fungsi hitungBunga yang telah dibuat sebelumnya dengan mengirimkan dua nilai parameter.\n",
    "\n",
    "    ![Gambar 10](images/code14-10.png)"
   ]
  },
  {
   "cell_type": "code",
   "execution_count": 15,
   "metadata": {},
   "outputs": [
    {
     "name": "stdout",
     "output_type": "stream",
     "text": [
      "Jumlah saldo awal : \n",
      "1000000\n",
      "Lamanya menabung (tahun)\n",
      "2\n",
      "Jumlah uang setelah 2 tahun : \n",
      "1232100.0\n"
     ]
    }
   ],
   "source": [
    "// Tuliskan kode program Percobaan 3 Langkah 1 - 5\n",
    "static double hitungBunga(double saldo, int tahun){\n",
    "    if (tahun == 0){\n",
    "        return (saldo);\n",
    "    } else {\n",
    "        return (1.11 * hitungBunga(saldo, tahun - 1));\n",
    "    }\n",
    "}\n",
    "import java.util.Scanner;\n",
    "Scanner sc = new Scanner(System.in);\n",
    "double saldoAwal;\n",
    "int tahun;\n",
    "System.out.println(\"Jumlah saldo awal : \");\n",
    "saldoAwal = sc.nextInt();\n",
    "System.out.println(\"Lamanya menabung (tahun)\");\n",
    "tahun = sc.nextInt();\n",
    "System.out.println(\"Jumlah uang setelah \" + tahun + \" tahun : \");\n",
    "System.out.println(hitungBunga (saldoAwal, tahun));"
   ]
  },
  {
   "cell_type": "markdown",
   "metadata": {},
   "source": [
    "#### Pertanyaan\n",
    "1. Pada Percobaan3, sebutkan blok kode program manakah yang merupakan “base case” dan “recursion call”!"
   ]
  },
  {
   "cell_type": "markdown",
   "metadata": {},
   "source": [
    "tahun = 0 adalah base case dan\n",
    "return(1.11 * hitungBunga(saldo, tahun -1) adalah recursion call"
   ]
  },
  {
   "cell_type": "markdown",
   "metadata": {},
   "source": [
    "## Tugas"
   ]
  },
  {
   "cell_type": "markdown",
   "metadata": {},
   "source": [
    "1. Buatlah program untuk menampilkan bilangan n sampai 0 dengan menggunakan fungsi rekursif dan fungsi iteratif. (**DeretDescendingRekursif**)."
   ]
  },
  {
   "cell_type": "code",
   "execution_count": 1,
   "metadata": {},
   "outputs": [
    {
     "name": "stdout",
     "output_type": "stream",
     "text": [
      "Masukkan bilangan batas: 25\n",
      "Deret rekursif: \n",
      " 25 24 23 22 21 20 19 18 17 16 15 14 13 12 11 10 9 8 7 6 5 4 3 2 1 0\n",
      "Deret iteratif: \n",
      " 25 24 23 22 21 20 19 18 17 16 15 14 13 12 11 10 9 8 7 6 5 4 3 2 1 0"
     ]
    }
   ],
   "source": [
    "// Tuliskan jawaban tugas nomor 1 \n",
    "import java.util.Scanner;\n",
    "Scanner sc = new Scanner(System.in);\n",
    "static int MenggunakanRekursif(int n){\n",
    "    if(n == 0){\n",
    "        System.out.print(\" \" + n);\n",
    "        return(n);\n",
    "    }else{\n",
    "        System.out.print(\" \" + n);\n",
    "        return (MenggunakanRekursif(n-1));\n",
    "    }\n",
    "}\n",
    "static void MenggunakanIteratif(int j){\n",
    "    for(int i = j; i >= 0; i--){\n",
    "        System.out.print(\" \" + i);\n",
    "    }\n",
    "}\n",
    "System.out.print(\"Masukkan bilangan batas: \");\n",
    "int n = sc.nextInt();\n",
    "System.out.println(\"Deret rekursif: \");\n",
    "MenggunakanRekursif(n);\n",
    "System.out.println(\"\\nDeret iteratif: \");\n",
    "MenggunakanIteratif(n);"
   ]
  },
  {
   "cell_type": "markdown",
   "metadata": {},
   "source": [
    "2. Buatlah program yang di dalamnya terdapat fungsi rekursif untuk menghitung bilangan faktorial. Misalniya f = 8, maka akan dihasilkan 1+2+3+4+5+6+7+8 = 36 (**PenjumlahanRekursif**)."
   ]
  },
  {
   "cell_type": "code",
   "execution_count": 3,
   "metadata": {},
   "outputs": [
    {
     "name": "stdout",
     "output_type": "stream",
     "text": [
      "Masukkan nilai penjumlahan: 20\n",
      "1+2+3+4+5+6+7+8+9+10+11+12+13+14+15+16+17+18+19+20 = 210\n"
     ]
    }
   ],
   "source": [
    "// Tuliskan jawaban tugas nomor 2\n",
    "import java.util.Scanner;\n",
    "Scanner sc = new Scanner(System.in);\n",
    "int nilain, hasilakhir;\n",
    "System.out.print(\"Masukkan nilai penjumlahan: \");\n",
    "nilain = sc.nextInt();\n",
    "int i = 1;\n",
    "static int FaktorialRekursif(int x, int y){\n",
    "    if(x == y){\n",
    "        System.out.print(y);\n",
    "        return y;\n",
    "    }else{\n",
    "        System.out.print( x + \"+\");\n",
    "        return (x + FaktorialRekursif((x + 1), y));\n",
    "    }\n",
    "}\n",
    "hasilakhir = FaktorialRekursif(i, nilain);\n",
    "System.out.println(\" = \" + hasilakhir);"
   ]
  },
  {
   "cell_type": "markdown",
   "metadata": {},
   "source": [
    "3.\tBuat program yang di dalamnya terdapat fungsi rekursif untuk mengecek apakah suatu bilangan n merupakan bilangan prima atau bukan. n dikatakan bukan bilangan prima jika ia habis dibagi dengan bilangan kurang dari n. (**CekPrimaRekursif**)."
   ]
  },
  {
   "cell_type": "code",
   "execution_count": 5,
   "metadata": {},
   "outputs": [
    {
     "name": "stdout",
     "output_type": "stream",
     "text": [
      "Masukkan nilai: 20\n",
      "20 Bukan Termasuk Bilangan Prima\n"
     ]
    }
   ],
   "source": [
    "// Tuliskan jawaban tugas nomor 3\n",
    "static int rekursif( int v, int c ){\n",
    "    if( c == 1 ){\n",
    "        return (1);\n",
    "    } else if( v % c == 0 ){\n",
    "        return ( 1 + rekursif(v, --c) );\n",
    "    } else {\n",
    "        return ( 0 + rekursif(v, --c) );\n",
    "    }\n",
    "}\n",
    "\n",
    "static boolean cek ( int r ){\n",
    "    if( r > 1 ){\n",
    "        return( rekursif (r, r) == 2);\n",
    "    }else{\n",
    "        return false;\n",
    "    }\n",
    "}\n",
    "\n",
    "int hello;\n",
    "Scanner sc = new Scanner(System.in);\n",
    "System.out.print(\"Masukkan nilai: \");\n",
    "hello = sc.nextInt();\n",
    "\n",
    "if( cek(hello) == true ){\n",
    "    System.out.println(hello + \" Termasuk Bilangan Prima\");\n",
    "} else {\n",
    "    System.out.println(hello + \" Bukan Termasuk Bilangan Prima\");\n",
    "}"
   ]
  },
  {
   "cell_type": "markdown",
   "metadata": {},
   "source": [
    "4.\tSepasang marmut yang baru lahir (jantan dan betina) ditempatkan pada suatu pembiakan.  Setelah dua bulan pasangan marmut tersebut melahirkan sepasang marmut kembar (jantan dan betina). Setiap pasangan marmut yang lahir juga akan melahirkan sepasang marmut juga setiap 2 bulan.  Berapa pasangan marmut yang ada pada akhir bulan ke-12? Buatlah programnya menggunakan fungsi rekursif! (**Fibonacci**).\n",
    "Berikut ini adalah ilustrasinya dalam bentuk tabel.\n",
    "\n",
    " ![Gambar 11](images/code14-11.PNG)"
   ]
  },
  {
   "cell_type": "code",
   "execution_count": 8,
   "metadata": {},
   "outputs": [
    {
     "name": "stdout",
     "output_type": "stream",
     "text": [
      "Masukkan bulan: 20\n",
      "total pasangan marmut pada akhir bulan ke-20 adalah 6765 Pasangan.\n"
     ]
    }
   ],
   "source": [
    "// Tuliskan jawaban tugas nomor 4\n",
    "static int HitungFibonaci(int i){\n",
    "    if( i == 0 || i == 1 ){\n",
    "        return (i);\n",
    "    } else {\n",
    "        return ( HitungFibonaci(i-1) + HitungFibonaci(i-2) );\n",
    "    }\n",
    "}\n",
    "int n;\n",
    "Scanner sc = new Scanner(System.in);\n",
    "System.out.print(\"Masukkan bulan: \");\n",
    "n = sc.nextInt();\n",
    "System.out.println( \"total pasangan marmut pada akhir bulan ke-\" + n + \" adalah \" + HitungFibonaci(n) + \" Pasangan.\");"
   ]
  },
  {
   "cell_type": "code",
   "execution_count": null,
   "metadata": {},
   "outputs": [],
   "source": []
  }
 ],
 "metadata": {
  "kernelspec": {
   "display_name": "Java",
   "language": "java",
   "name": "java"
  },
  "language_info": {
   "codemirror_mode": "java",
   "file_extension": ".jshell",
   "mimetype": "text/x-java-source",
   "name": "Java",
   "pygments_lexer": "java",
   "version": "11.0.12+8-LTS-237"
  }
 },
 "nbformat": 4,
 "nbformat_minor": 4
}
