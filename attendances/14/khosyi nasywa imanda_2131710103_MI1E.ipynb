{
 "cells": [
  {
   "cell_type": "markdown",
   "metadata": {},
   "source": [
    "# JOBSHEET 14. Fungsi 2\n",
    "\n",
    "### Nama : khosyi nasywa imanda\n",
    "### Nim    : 2131710103\n",
    "### Kelas  : MI1E"
   ]
  },
  {
   "cell_type": "markdown",
   "metadata": {},
   "source": [
    "## Tujuan\n",
    "* Mahasiswa memahami konsep fungsi rekursif\n",
    "* Mahasiswa mampu mengimplementasikan fungsi rekursif dalam kode program\n",
    "\n"
   ]
  },
  {
   "cell_type": "markdown",
   "metadata": {},
   "source": [
    "## Alat dan Bahan\n",
    "* PC/Laptop\n",
    "* Browser\n",
    "* Koneksi internet\n",
    "* Anaconda3 + Java kernel (opsional)"
   ]
  },
  {
   "cell_type": "markdown",
   "metadata": {},
   "source": [
    "## Praktikum"
   ]
  },
  {
   "cell_type": "markdown",
   "metadata": {},
   "source": [
    "### Percobaan 1\n",
    "Pada percobaan ini akan dilakukan pembuatan program untuk menghitung nilai faktorial dari suatu bilangan dengan menggunakan fungsi rekursif. Selain itu, akan dibuat juga fungsi untuk menghitung nilai faktorial dengan menggunakan algoritma iteratif sebagai pembandingnya\n",
    "\n",
    "1. Buat fungsi static dengan nama **faktorialRekursif()**, dengan tipe data kembalian fungsi int dan memiliki 1 parameter dengan tipe data int berupa bilangan yang akan dihitung nilai faktorialnya\n",
    "\n",
    "    ![Gambar 1](images/code14-1.png)"
   ]
  },
  {
   "cell_type": "code",
   "execution_count": 2,
   "metadata": {},
   "outputs": [],
   "source": [
    "// Tuliskan kode program Percobaan 1 Langkah 1\n",
    "static int faktorialRekursif(int n){\n",
    "    if (n==0) {\n",
    "        return (1);\n",
    "    } else {\n",
    "        return (n* faktorialRekursif(n-1));\n",
    "    }\n",
    "}"
   ]
  },
  {
   "cell_type": "markdown",
   "metadata": {},
   "source": [
    "2. Buat lagi fungsi static dengan nama **faktorialIteratif()**, dengan tipe data kembalian fungsi int dan memiliki 1 parameter dengan tipe data int berupa bilangan yang akan dihitung nilai faktorialnya.\n",
    "\n",
    "    ![Gambar 2](images/code14-2.png)"
   ]
  },
  {
   "cell_type": "code",
   "execution_count": 3,
   "metadata": {},
   "outputs": [],
   "source": [
    "// Tuliskan kode program Percobaan 1 Langkah 2\n",
    "static int faktorialIteratif(int n){\n",
    "    int faktor = 1;\n",
    "    for (int i = n ; i >=1 ; i--) {\n",
    "        faktor = faktor * i;\n",
    "    }\n",
    "    return faktor;\n",
    "}"
   ]
  },
  {
   "cell_type": "markdown",
   "metadata": {},
   "source": [
    "3. Lakukan pemanggilan terhadap kedua fungsi yang telah dibuat sebelumnya, dan tampilkan hasil yang didapatkan.\n",
    "\n",
    "    ![Gambar 3](images/code14-3.png)"
   ]
  },
  {
   "cell_type": "code",
   "execution_count": 4,
   "metadata": {},
   "outputs": [
    {
     "name": "stdout",
     "output_type": "stream",
     "text": [
      "120\n",
      "120\n"
     ]
    }
   ],
   "source": [
    "// Tuliskan kode program Percobaan 1 Langkah 1, 2, 3\n",
    "\n",
    "static int faktorialRekursif(int n){\n",
    "    if (n==0) {\n",
    "        return (1);\n",
    "    } else {\n",
    "        return (n* faktorialRekursif(n-1));\n",
    "    }\n",
    "}\n",
    "\n",
    "static int faktorialIteratif(int n){\n",
    "    int faktor = 1;\n",
    "    for (int i = n ; i >=1 ; i--) {\n",
    "        faktor = faktor * i;\n",
    "    }\n",
    "    return faktor;\n",
    "}\n",
    "\n",
    "System.out.println(faktorialRekursif(5));\n",
    "System.out.println(faktorialIteratif(5));"
   ]
  },
  {
   "cell_type": "markdown",
   "metadata": {},
   "source": [
    "4. Jika ditelusuri, pada saat pemanggilan fungsi faktorialRekursif(5),maka proses yang terjadi dapat diilustrasikan sebagai berikut:\n",
    "\n",
    "    ![Gambar 4](images/code14-4.png)"
   ]
  },
  {
   "cell_type": "markdown",
   "metadata": {},
   "source": [
    "#### Pertanyaan\n",
    "1. Apa yang dimaksud dengan fungsi rekursif?\n",
    "  jawab : fungsi rekursif adalah suatu metode pada fungsi yang didalamnya terdapat perintah untuk memanggil fungsi itu sendiri\n",
    "\n",
    "\n",
    "2. Bagaimana contoh kasus penggunaan fungsi rekursif ?\n",
    "  jawab : contoh kasus penggunaan fungsi rekursif yaitu pada pembuatan silsilah keluarga . pada pembuatan silsilah keluarga fungsi rekursif sangat dibutuhkan karena dengan bantuan fungsi rekursi dapat mempermudah dalam pengcodingan jika terdapat suatu masalah atau eror. dengan adanya fungsi rekursif , codingan akan terbagi menjadi bebarapa bagian sehingga jika terdapat suatu kesalahan atau eror kita dapat dengan mudah menemukan permasalahannya. contoh lainyya yaitu pada kasus faktorial dan perpangkatan  \n",
    "\n",
    "\n",
    "3. Pada Percobaan1, apakah hasil yang diberikan fungsi faktorialRekursif() dan fungsi faktorialIteratif() sama? Jelaskan perbedaan alur jalannya program pada penggunaan fungsi rekursif dan fungsi iteratif!\n",
    "  jawab : hasil yang diberikan pada fungsi faktorialRekusif() dan fungsi faktorialItratif adalah sama . perbedaan alurnya yaitu pada fungsi faktorialRekursif() menggunakan if...else . jika n tidak sama dengan 0 maka akan menjalankan program yang memagil fungsi itu sendiri yaitu return (n * faktorial rekursif(n-1)) yang berarti 5 * 4, setelah selesai maka n-1 menjadi n = 4;lalu mengulangi perulangan apakah n = 0 , jika tidak maka memanggil fungsi nya sendiri yaitu n * faktorialRekursif(n-1) yang berarti 4 * 3, maka terus dilakukan sampai n = 0, jika n = 0 maka akan meng return 1, setelah selesai maka akan di terhitung faktorial nya  , sedangkan pada fungsi faktorialIteratif menggunakan perulangan for . jika i < n , maka akan menghitung faktorial = faktorial * i , sampai perulangan berhenti . lalu mengembalikan faktor untuk fungsi faktorialIteratif\n"
   ]
  },
  {
   "cell_type": "markdown",
   "metadata": {},
   "source": [
    "### Percobaan 2\n",
    "Pada percobaan ini akan dilakukan pembuatan program untuk menghitung pangkat sebuah bilangan dengan menggunakan fungsi rekursif."
   ]
  },
  {
   "cell_type": "markdown",
   "metadata": {},
   "source": [
    "1. Buat fungsi static dengan nama **hitungPangkat()**, dengan tipe data kembalian fungsi int dan memiliki 2 parameter dengan tipe data int berupa bilangan yang akan dihitung pangkatnya dan bilangan pangkatnya\n",
    "\n",
    "    ![Gambar 5](images/code14-5.png)"
   ]
  },
  {
   "cell_type": "markdown",
   "metadata": {},
   "source": [
    "2.\tDeklarasikan Scanner dengan nama sc\n",
    "3.\tBuatlah dua buah variabel bertipe int dengan nama bilangan dan pangkat\n",
    "4.\tTambahkan kode berikut ini untuk menerima input dari keyboard\n",
    "\n",
    "    ![Gambar 6](images/code14-6.png)\n",
    "\n",
    "5. Lakukan pemanggilan fungsi hitungPangkat yang telah dibuat sebelumnya dengan mengirimkan dua nilai parameter.\n",
    "\n",
    "    ![Gambar 7](images/code14-7.png)"
   ]
  },
  {
   "cell_type": "code",
   "execution_count": 1,
   "metadata": {},
   "outputs": [
    {
     "name": "stdout",
     "output_type": "stream",
     "text": [
      "Bilangan yang diitung: 5\n",
      "Pangkat: 3\n",
      "125\n"
     ]
    }
   ],
   "source": [
    "// Tuliskan kode program Percobaan 2 Langkah 1 - 5\n",
    "static int hitungPangkat ( int x , int y){\n",
    "    if ( y == 0){\n",
    "        return(1);\n",
    "    }else{\n",
    "        return ( x * hitungPangkat (x , y-1));\n",
    "    }\n",
    "}\n",
    "import java.util.Scanner;\n",
    "Scanner sc = new Scanner (System.in);\n",
    "int bilangan;\n",
    "int pangkat;\n",
    "System.out.print(\"Bilangan yang diitung: \");\n",
    "bilangan = sc.nextInt();\n",
    "System.out.print(\"Pangkat: \");\n",
    "pangkat = sc.nextInt();\n",
    "\n",
    "System.out.println(hitungPangkat(bilangan,pangkat));\n",
    "\n"
   ]
  },
  {
   "cell_type": "markdown",
   "metadata": {},
   "source": [
    "#### Pertanyaan\n",
    "1. Pada Percobaan2, terdapat pemanggilan fungsi rekursif hitungPangkat(bilangan, pangkat) pada fungsi main, kemudian dilakukan pemanggilan fungsi hitungPangkat() secara berulangkali. Jelaskan sampai kapan proses pemanggilan fungsi tersebut akan dijalankan!\n",
    "jawab : pemanggilan fungsi akan terus dijalankan sampai y tidak sama dengan 0 dan akan berhenti sampai y = 0"
   ]
  },
  {
   "cell_type": "markdown",
   "metadata": {},
   "source": [
    "### Percobaan 3\n",
    "Pada percobaan ini akan dilakukan pembuatan program untuk menghitung jumlah uang nasabah yang disimpan di Bank setelah mendapatkan bunga selama beberapa tahun dengan menggunakan fungsi rekursif. \n",
    "\n",
    "1. Buat fungsi static dengan nama **hitungBunga()**, dengan tipe data kembalian fungsi double dan memiliki 2 parameter dengan tipe  data int berupa saldo nasabah dan lamanya menabung. Pada kasus ini dianggap bunga yang ditentukan oleh bank adalah 11% per tahun. Karena perhitungan bunga adalah bunga * saldo, sehingga untuk menghitung besarnya uang setelah ditambah bunga adalah saldo + bunga * saldo. Dalam hal ini, besarnya bunga adalah 0.11 * saldo, dan saldo dianggap 1 * saldo, sehingga 1 * saldo + 0.11 * saldo dapat diringkas menjadi 1.11 * saldo untuk perhitungan saldo setelah ditambah bunga (dalam setahun).\n",
    "\n",
    "    ![Gambar 8](images/code14-8.png)"
   ]
  },
  {
   "cell_type": "markdown",
   "metadata": {},
   "source": [
    "2.\tDeklarasikan Scanner dengan nama sc\n",
    "3.\tBuatlah sebuah variabel bertipa double dengan nama saldoAwal dan sebuah variabel bertipe int bernama tahun\n",
    "4.\tTambahkan kode berikut ini untuk menerima input dari keyboard\n",
    "\n",
    " ![Gambar 9](images/code14-9.png)"
   ]
  },
  {
   "cell_type": "markdown",
   "metadata": {},
   "source": [
    "5. Lakukan pemanggilan fungsi hitungBunga yang telah dibuat sebelumnya dengan mengirimkan dua nilai parameter.\n",
    "\n",
    "    ![Gambar 10](images/code14-10.png)"
   ]
  },
  {
   "cell_type": "code",
   "execution_count": 11,
   "metadata": {},
   "outputs": [
    {
     "name": "stdout",
     "output_type": "stream",
     "text": [
      "Jumlah saldo awal: 500000\n",
      "Lamanya menabung (tahun): \n",
      "2\n",
      "Jumlah uang setelah 2tahun : \n",
      "616050.0\n"
     ]
    }
   ],
   "source": [
    "// Tuliskan kode program Percobaan 3 Langkah 1 - 5\n",
    "static double hitungBunga(double saldo , int tahun){\n",
    "    if ( tahun == 0){\n",
    "        return (saldo) ;\n",
    "    }else {\n",
    "        return ( 1.11 * hitungBunga(saldo,tahun-1));\n",
    "    }\n",
    "}\n",
    "import java.util.Scanner;\n",
    "Scanner sc = new Scanner (System.in);\n",
    "double saldoAwal;\n",
    "int tahun;\n",
    "System.out.print(\"Jumlah saldo awal: \");\n",
    "saldoAwal = sc.nextInt();\n",
    "System.out.println(\"Lamanya menabung (tahun): \");\n",
    "tahun = sc.nextInt();\n",
    "System.out.println(\"Jumlah uang setelah \" + tahun + \"tahun : \");\n",
    "System.out.println(hitungBunga(saldoAwal,tahun));"
   ]
  },
  {
   "cell_type": "markdown",
   "metadata": {},
   "source": [
    "#### Pertanyaan\n",
    "1. Pada Percobaan3, sebutkan blok kode program manakah yang merupakan “base case” dan “recursion call”!\n",
    "jawab : blok kode program \"base case\" yaitu base case if (tahun == 0), sedangkan blok kode program \"recursion call\" pada return (1.11 * hitungBunga(saldo,tahun-1));"
   ]
  },
  {
   "cell_type": "markdown",
   "metadata": {},
   "source": [
    "## Tugas"
   ]
  },
  {
   "cell_type": "markdown",
   "metadata": {},
   "source": [
    "1. Buatlah program untuk menampilkan bilangan n sampai 0 dengan menggunakan fungsi rekursif dan fungsi iteratif. (**DeretDescendingRekursif**)."
   ]
  },
  {
   "cell_type": "code",
   "execution_count": 3,
   "metadata": {},
   "outputs": [
    {
     "name": "stdout",
     "output_type": "stream",
     "text": [
      "===== PROGRAM MENGGUNAKAN FUNGSI REKURSIF DAN FUNGSI ITERATIF =====\n",
      "Masukkan angka : 10\n",
      "Deret Desceding Rekursif : 10 9 8 7 6 5 4 3 2 1 0\n",
      "Masukkan Angka : 10\n",
      "Deret Desceding Iteratif: 10 9 8 7 6 5 4 3 2 1 0 "
     ]
    }
   ],
   "source": [
    "// Tuliskan jawaban tugas nomor 1\n",
    "\n",
    "// fungsi rekursif\n",
    "import java.util.Scanner;\n",
    "Scanner input = new Scanner(System.in);\n",
    "System.out.println(\"===== PROGRAM MENGGUNAKAN FUNGSI REKURSIF DAN FUNGSI ITERATIF =====\");\n",
    "\n",
    "static int fungsiRekursif(int n){\n",
    "    if(n==0){\n",
    "        System.out.print(0);\n",
    "        return(0);\n",
    "    }else{\n",
    "        System.out.print(n + \" \");\n",
    "        return (n*fungsiRekursif(n-1));\n",
    "    }\n",
    "}\n",
    "\n",
    "//fungsi iteratif\n",
    "static void fungsiIteratif(int n){\n",
    "    for(int x = n ; x>=0;x--){\n",
    "        int hasil20 = x + 0;\n",
    "        System.out.print(hasil20 +\" \");\n",
    "    }\n",
    "}\n",
    "int angka;\n",
    "System.out.print(\"Masukkan angka : \");\n",
    "angka = input.nextInt();\n",
    "System.out.print(\"Deret Desceding Rekursif : \");\n",
    "fungsiRekursif(angka);\n",
    "System.out.print(\"\");\n",
    "System.out.print(\"\\n\");\n",
    "System.out.print(\"Masukkan Angka : \");\n",
    "angka = input.nextInt();\n",
    "System.out.print(\"Deret Desceding Iteratif: \");\n",
    "fungsiIteratif(angka);\n",
    "System.out.print(\"\");"
   ]
  },
  {
   "cell_type": "markdown",
   "metadata": {},
   "source": [
    "2. Buatlah program yang di dalamnya terdapat fungsi rekursif untuk menghitung bilangan faktorial. Misalniya f = 8, maka akan dihasilkan 1+2+3+4+5+6+7+8 = 36 (**PenjumlahanRekursif**)."
   ]
  },
  {
   "cell_type": "code",
   "execution_count": 7,
   "metadata": {},
   "outputs": [
    {
     "name": "stdout",
     "output_type": "stream",
     "text": [
      "Masukkan nilai batas penjumlahan: 8\n",
      "1+2+3+4+5+6+7+8 = 36\n"
     ]
    }
   ],
   "source": [
    "import java.util.Scanner;\n",
    "Scanner sc = new Scanner(System.in);\n",
    "\n",
    "int nilaiBatas, hasil;\n",
    "System.out.print(\"Masukkan nilai batas penjumlahan: \");\n",
    "nilaiBatas = inputUser.nextInt();\n",
    "int a = 1;\n",
    "\n",
    "static int PenjumlahanRekursif(int awal, int nilai){\n",
    "    if(awal == nilai){\n",
    "        System.out.print(nilai);\n",
    "        return nilai;\n",
    "    }else{\n",
    "        System.out.print( awal + \"+\");\n",
    "        return (awal + PenjumlahanRekursif((awal + 1), nilai));\n",
    "    }\n",
    "}\n",
    "\n",
    "hasil = PenjumlahanRekursif(a, nilaiBatas);\n",
    "System.out.println(\" = \" + hasil);\n"
   ]
  },
  {
   "cell_type": "markdown",
   "metadata": {},
   "source": [
    "3.\tBuat program yang di dalamnya terdapat fungsi rekursif untuk mengecek apakah suatu bilangan n merupakan bilangan prima atau bukan. n dikatakan bukan bilangan prima jika ia habis dibagi dengan bilangan kurang dari n. (**CekPrimaRekursif**)."
   ]
  },
  {
   "cell_type": "code",
   "execution_count": 7,
   "metadata": {},
   "outputs": [
    {
     "name": "stdout",
     "output_type": "stream",
     "text": [
      "Masukkan nilai: 7\n",
      "7 Adalah Bilangan Prima\n"
     ]
    }
   ],
   "source": [
    "// Tuliskan jawaban tugas nomor 3\n",
    "static int rekursif(int x, int y){\n",
    "    if(y == 1){\n",
    "        return (1);\n",
    "    }else if(x % y == 0){\n",
    "        return (1 + rekursif(x, --y));\n",
    "    }else {\n",
    "        return (0 + rekursif(x, --y));\n",
    "    }\n",
    "}\n",
    "\n",
    "static boolean cek(int z){\n",
    "    if(z>1){\n",
    "        return(rekursif(z, z)==2);\n",
    "    }else{\n",
    "        return false;\n",
    "    }\n",
    "}\n",
    "\n",
    "int nilai;\n",
    "Scanner sc = new Scanner(System.in);\n",
    "System.out.print(\"Masukkan nilai: \");\n",
    "nilai = sc.nextInt();\n",
    "\n",
    "if(cek(nilai) == true){\n",
    "    System.out.println(nilai + \" Adalah Bilangan Prima\");\n",
    "}else{\n",
    "    System.out.println(nilai + \" Bukan Bilangan Prima\");\n",
    "}"
   ]
  },
  {
   "cell_type": "markdown",
   "metadata": {},
   "source": [
    "4.\tSepasang marmut yang baru lahir (jantan dan betina) ditempatkan pada suatu pembiakan.  Setelah dua bulan pasangan marmut tersebut melahirkan sepasang marmut kembar (jantan dan betina). Setiap pasangan marmut yang lahir juga akan melahirkan sepasang marmut juga setiap 2 bulan.  Berapa pasangan marmut yang ada pada akhir bulan ke-12? Buatlah programnya menggunakan fungsi rekursif! (**Fibonacci**).\n",
    "Berikut ini adalah ilustrasinya dalam bentuk tabel.\n",
    "\n",
    " ![Gambar 11](images/code14-11.PNG)"
   ]
  },
  {
   "cell_type": "code",
   "execution_count": 8,
   "metadata": {},
   "outputs": [
    {
     "name": "stdout",
     "output_type": "stream",
     "text": [
      "Masukkan bulan: 12\n",
      "total pasangan marmut pada akhir bulan ke-12 adalah 144 Pasangan.\n"
     ]
    }
   ],
   "source": [
    "// Tuliskan jawaban tugas nomor 4\n",
    "static int Fibonaci(int x){\n",
    "    if(x == 0 || x == 1){\n",
    "        return (x);\n",
    "    }else{\n",
    "        return (Fibonaci(x-1) + Fibonaci(x-2));\n",
    "    }\n",
    "}\n",
    "\n",
    "Scanner sc = new Scanner(System.in);\n",
    "System.out.print(\"Masukkan bulan: \");\n",
    "int nilai = sc.nextInt();\n",
    "\n",
    "System.out.println(\"total pasangan marmut pada akhir bulan ke-\"+ nilai +\" adalah \" +Fibonaci(nilai) + \" Pasangan.\");"
   ]
  },
  {
   "cell_type": "code",
   "execution_count": null,
   "metadata": {},
   "outputs": [],
   "source": []
  }
 ],
 "metadata": {
  "kernelspec": {
   "display_name": "Java",
   "language": "java",
   "name": "java"
  },
  "language_info": {
   "codemirror_mode": "java",
   "file_extension": ".jshell",
   "mimetype": "text/x-java-source",
   "name": "Java",
   "pygments_lexer": "java",
   "version": "11.0.4+10-LTS"
  }
 },
 "nbformat": 4,
 "nbformat_minor": 4
}
