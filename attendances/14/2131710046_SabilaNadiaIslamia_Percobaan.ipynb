{
 "cells": [
  {
   "cell_type": "markdown",
   "metadata": {},
   "source": [
    "### NIM : 2131710046\n",
    "### NAMA : SABILA NADIA ISLAMIA\n",
    "\n",
    "# JOBSHEET 14. Fungsi 2"
   ]
  },
  {
   "cell_type": "markdown",
   "metadata": {},
   "source": [
    "## Tujuan\n",
    "* Mahasiswa memahami konsep fungsi rekursif\n",
    "* Mahasiswa mampu mengimplementasikan fungsi rekursif dalam kode program\n",
    "\n"
   ]
  },
  {
   "cell_type": "markdown",
   "metadata": {},
   "source": [
    "## Alat dan Bahan\n",
    "* PC/Laptop\n",
    "* Browser\n",
    "* Koneksi internet\n",
    "* Anaconda3 + Java kernel (opsional)"
   ]
  },
  {
   "cell_type": "markdown",
   "metadata": {},
   "source": [
    "## Praktikum"
   ]
  },
  {
   "cell_type": "markdown",
   "metadata": {},
   "source": [
    "### Percobaan 1\n",
    "Pada percobaan ini akan dilakukan pembuatan program untuk menghitung nilai faktorial dari suatu bilangan dengan menggunakan fungsi rekursif. Selain itu, akan dibuat juga fungsi untuk menghitung nilai faktorial dengan menggunakan algoritma iteratif sebagai pembandingnya\n",
    "\n",
    "1. Buat fungsi static dengan nama **faktorialRekursif()**, dengan tipe data kembalian fungsi int dan memiliki 1 parameter dengan tipe data int berupa bilangan yang akan dihitung nilai faktorialnya\n",
    "\n",
    "    ![Gambar 1](images/code14-1.png)"
   ]
  },
  {
   "cell_type": "code",
   "execution_count": 1,
   "metadata": {},
   "outputs": [],
   "source": [
    "// Tuliskan kode program Percobaan 1 Langkah 1\n",
    "\n",
    "static int faktorialRekursif(int n){\n",
    "    if(n == 0){\n",
    "        return (1);\n",
    "    } else {\n",
    "        return (n * faktorialRekursif(n-1));\n",
    "    }\n",
    "}"
   ]
  },
  {
   "cell_type": "markdown",
   "metadata": {},
   "source": [
    "2. Buat lagi fungsi static dengan nama **faktorialIteratif()**, dengan tipe data kembalian fungsi int dan memiliki 1 parameter dengan tipe data int berupa bilangan yang akan dihitung nilai faktorialnya.\n",
    "\n",
    "    ![Gambar 2](images/code14-2.png)"
   ]
  },
  {
   "cell_type": "code",
   "execution_count": 2,
   "metadata": {},
   "outputs": [],
   "source": [
    "// Tuliskan kode program Percobaan 1 Langkah 2\n",
    "\n",
    "static int faktorialIteratif(int n){\n",
    "    int faktor = 1;\n",
    "    for(int i = n; i >= 1; i--){\n",
    "        faktor = faktor * i;\n",
    "    }\n",
    "    return faktor;\n",
    "}"
   ]
  },
  {
   "cell_type": "markdown",
   "metadata": {},
   "source": [
    "3. Lakukan pemanggilan terhadap kedua fungsi yang telah dibuat sebelumnya, dan tampilkan hasil yang didapatkan.\n",
    "\n",
    "    ![Gambar 3](images/code14-3.png)"
   ]
  },
  {
   "cell_type": "code",
   "execution_count": 3,
   "metadata": {},
   "outputs": [
    {
     "name": "stdout",
     "output_type": "stream",
     "text": [
      "120\n",
      "120\n"
     ]
    }
   ],
   "source": [
    "// Tuliskan kode program Percobaan 1 Langkah 1, 2, 3\n",
    "// Percobaan Langkah 1\n",
    "static int faktorialRekursif(int n){\n",
    "    if(n == 0){\n",
    "        return (1);\n",
    "    } else {\n",
    "        return (n * faktorialRekursif(n-1));\n",
    "    }\n",
    "}\n",
    "\n",
    "// Percobaan Langkah 2\n",
    "static int faktorialIteratif(int n){ \n",
    "    int faktor = 1;\n",
    "    for(int i = n; i >= 1; i--){\n",
    "        faktor = faktor * i;\n",
    "    }\n",
    "    return faktor;\n",
    "}\n",
    "\n",
    "// Percobaan Langkah 3\n",
    "System.out.println(faktorialRekursif(5));\n",
    "System.out.println(faktorialIteratif(5));"
   ]
  },
  {
   "cell_type": "markdown",
   "metadata": {},
   "source": [
    "4. Jika ditelusuri, pada saat pemanggilan fungsi faktorialRekursif(5),maka proses yang terjadi dapat diilustrasikan sebagai berikut:\n",
    "\n",
    "    ![Gambar 4](images/code14-4.png)"
   ]
  },
  {
   "cell_type": "markdown",
   "metadata": {},
   "source": [
    "#### Pertanyaan\n",
    "1. Apa yang dimaksud dengan fungsi rekursif?\n",
    "\n",
    "Jawab : Fungsi rekursif adalah adalah suatu fungsi dimana pada saat prosesnya berjalan dia akan memanggil dirinya sendiri, sehingga fungsi akan terjadi berulang kali hingga mendekati nilai pada base case. \n",
    "\n",
    "\n",
    "2. Bagaimana contoh kasus penggunaan fungsi rekursif ?\n",
    "\n",
    "Jawab : Contoh kasus menggunakan fungsi rekursif adalah perhitungan faktorial yang dapat ditinjau lebih detail bagaimana prosesnya, perhitungan pangkat, dan juga pembuatan sub level menu pada suatu website.\n",
    "\n",
    "\n",
    "3. Pada Percobaan1, apakah hasil yang diberikan fungsi faktorialRekursif() dan fungsi faktorialIteratif() sama? Jelaskan perbedaan alur jalannya program pada penggunaan fungsi rekursif dan fungsi iteratif!\n",
    "\n",
    "Jawab : Sama. Perbedaan jalannya program terletak pada perulangannya. Pada fungsi rekursif, perulangan terjadi tanpa adanya looping. Karena fungsi tersebut memanggil dirinya sendiri sehingga fungsi berulang kali terjadi, Sedangkan pada fungsi iteratif, perulangan harus menggunakan sintaks looping. "
   ]
  },
  {
   "cell_type": "markdown",
   "metadata": {},
   "source": [
    "### Percobaan 2\n",
    "Pada percobaan ini akan dilakukan pembuatan program untuk menghitung pangkat sebuah bilangan dengan menggunakan fungsi rekursif."
   ]
  },
  {
   "cell_type": "markdown",
   "metadata": {},
   "source": [
    "1. Buat fungsi static dengan nama **hitungPangkat()**, dengan tipe data kembalian fungsi int dan memiliki 2 parameter dengan tipe data int berupa bilangan yang akan dihitung pangkatnya dan bilangan pangkatnya\n",
    "\n",
    "    ![Gambar 5](images/code14-5.png)"
   ]
  },
  {
   "cell_type": "markdown",
   "metadata": {},
   "source": [
    "2.\tDeklarasikan Scanner dengan nama sc\n",
    "3.\tBuatlah dua buah variabel bertipe int dengan nama bilangan dan pangkat\n",
    "4.\tTambahkan kode berikut ini untuk menerima input dari keyboard\n",
    "\n",
    "    ![Gambar 6](images/code14-6.png)\n",
    "\n",
    "5. Lakukan pemanggilan fungsi hitungPangkat yang telah dibuat sebelumnya dengan mengirimkan dua nilai parameter.\n",
    "\n",
    "    ![Gambar 7](images/code14-7.png)"
   ]
  },
  {
   "cell_type": "code",
   "execution_count": 4,
   "metadata": {},
   "outputs": [
    {
     "name": "stdout",
     "output_type": "stream",
     "text": [
      "Bilangan yang dihitung : 5\n",
      "Pangkat : 3\n",
      "125\n"
     ]
    }
   ],
   "source": [
    "// Tuliskan kode program Percobaan 2 Langkah 1 - 5\n",
    "\n",
    "import java.util.Scanner;\n",
    "Scanner sc = new Scanner(System.in);\n",
    "\n",
    "static int hitungPangkat(int x, int y){\n",
    "    if(y == 0){\n",
    "        return (1);\n",
    "    } else {\n",
    "        return (x * hitungPangkat(x, y - 1));\n",
    "    }\n",
    "}\n",
    "\n",
    "int bilangan, pangkat; \n",
    "System.out.print(\"Bilangan yang dihitung : \");\n",
    "bilangan = sc.nextInt();\n",
    "System.out.print(\"Pangkat : \");\n",
    "pangkat = sc.nextInt(); \n",
    "\n",
    "// Pemanggilan Fungsi\n",
    "System.out.println(hitungPangkat(bilangan, pangkat));"
   ]
  },
  {
   "cell_type": "markdown",
   "metadata": {},
   "source": [
    "#### Pertanyaan\n",
    "1. Pada Percobaan2, terdapat pemanggilan fungsi rekursif hitungPangkat(bilangan, pangkat) pada fungsi main, kemudian dilakukan pemanggilan fungsi hitungPangkat() secara berulangkali. Jelaskan sampai kapan proses pemanggilan fungsi tersebut akan dijalankan!\n",
    "\n",
    "Jawab : Fungsi tersebut akan terus dijalankan sampai dengan nilai mendekati nilai base case. Yaitu ketika variabel y bernilai 0."
   ]
  },
  {
   "cell_type": "markdown",
   "metadata": {},
   "source": [
    "### Percobaan 3\n",
    "Pada percobaan ini akan dilakukan pembuatan program untuk menghitung jumlah uang nasabah yang disimpan di Bank setelah mendapatkan bunga selama beberapa tahun dengan menggunakan fungsi rekursif. \n",
    "\n",
    "1. Buat fungsi static dengan nama **hitungBunga()**, dengan tipe data kembalian fungsi double dan memiliki 2 parameter dengan tipe  data int berupa saldo nasabah dan lamanya menabung. Pada kasus ini dianggap bunga yang ditentukan oleh bank adalah 11% per tahun. Karena perhitungan bunga adalah bunga * saldo, sehingga untuk menghitung besarnya uang setelah ditambah bunga adalah saldo + bunga * saldo. Dalam hal ini, besarnya bunga adalah 0.11 * saldo, dan saldo dianggap 1 * saldo, sehingga 1 * saldo + 0.11 * saldo dapat diringkas menjadi 1.11 * saldo untuk perhitungan saldo setelah ditambah bunga (dalam setahun).\n",
    "\n",
    "    ![Gambar 8](images/code14-8.png)"
   ]
  },
  {
   "cell_type": "markdown",
   "metadata": {},
   "source": [
    "2.\tDeklarasikan Scanner dengan nama sc\n",
    "3.\tBuatlah sebuah variabel bertipa double dengan nama saldoAwal dan sebuah variabel bertipe int bernama tahun\n",
    "4.\tTambahkan kode berikut ini untuk menerima input dari keyboard\n",
    "\n",
    " ![Gambar 9](images/code14-9.png)"
   ]
  },
  {
   "cell_type": "markdown",
   "metadata": {},
   "source": [
    "5. Lakukan pemanggilan fungsi hitungBunga yang telah dibuat sebelumnya dengan mengirimkan dua nilai parameter.\n",
    "\n",
    "    ![Gambar 10](images/code14-10.png)"
   ]
  },
  {
   "cell_type": "code",
   "execution_count": 5,
   "metadata": {},
   "outputs": [
    {
     "name": "stdout",
     "output_type": "stream",
     "text": [
      "Jumlah saldo awal : 1000000\n",
      "Lamanya menabung (tahun) : 2\n",
      "Jumlah uang setelah 2 tahun : 1232100.0\n"
     ]
    }
   ],
   "source": [
    "// Tuliskan kode program Percobaan 3 Langkah 1 - 5\n",
    "\n",
    "import java.util.Scanner;\n",
    "Scanner sc = new Scanner(System.in);\n",
    "\n",
    "static double hitungBunga(double saldo, int tahun){\n",
    "    if (tahun == 0){\n",
    "        return (saldo);\n",
    "    } else {\n",
    "        return (1.11 * hitungBunga(saldo, tahun - 1));\n",
    "    }\n",
    "}\n",
    "\n",
    "double saldoAwal;\n",
    "int tahun; \n",
    "System.out.print(\"Jumlah saldo awal : \");\n",
    "saldoAwal = sc.nextDouble();\n",
    "System.out.print(\"Lamanya menabung (tahun) : \");\n",
    "tahun = sc.nextInt();\n",
    "\n",
    "// Pemanggilan Fungsi\n",
    "System.out.print(\"Jumlah uang setelah \" + tahun + \" tahun : \");\n",
    "System.out.println(hitungBunga(saldoAwal, tahun));"
   ]
  },
  {
   "cell_type": "markdown",
   "metadata": {},
   "source": [
    "#### Pertanyaan\n",
    "1. Pada Percobaan3, sebutkan blok kode program manakah yang merupakan “base case” dan “recursion call”!\n",
    "\n",
    "Kode Program Base Case :\n",
    "\n",
    "if (tahun == 0){\n",
    "        return (saldo);\n",
    "        \n",
    "        \n",
    "Kode Program Recursion Call: \n",
    "\n",
    "    } else {\n",
    "        return (1.11 * hitungBunga(saldo, tahun - 1));\n",
    "    }"
   ]
  },
  {
   "cell_type": "markdown",
   "metadata": {},
   "source": [
    "## Tugas"
   ]
  },
  {
   "cell_type": "markdown",
   "metadata": {},
   "source": [
    "1. Buatlah program untuk menampilkan bilangan n sampai 0 dengan menggunakan fungsi rekursif dan fungsi iteratif. (**DeretDescendingRekursif**)."
   ]
  },
  {
   "cell_type": "code",
   "execution_count": 6,
   "metadata": {},
   "outputs": [
    {
     "name": "stdout",
     "output_type": "stream",
     "text": [
      "Fungsi Rekursif\n",
      "5  4  3  2  1  0  16\n",
      "\n",
      "Fungsi Iteratif\n",
      "5  4  3  2  1  0  0\n"
     ]
    }
   ],
   "source": [
    "// Tuliskan jawaban tugas nomor 1\n",
    "\n",
    "static int DeretDescendingRekursif(int n){\n",
    "    if (n == 0){\n",
    "        System.out.print(0);\n",
    "        return (1); \n",
    "    } else {\n",
    "        System.out.print(n + \"  \"); \n",
    "        return (n + DeretDescendingRekursif(n - 1));\n",
    "    }\n",
    "}\n",
    "\n",
    "static int DeretDescendingIteratif(int n){ \n",
    "    int nilai = 0; \n",
    "    for(int i = n; i >= 0; i--){\n",
    "        nilai = i;\n",
    "        System.out.print(nilai + (\"  \"));\n",
    "    }\n",
    "    return nilai; \n",
    "}\n",
    "\n",
    "System.out.println(\"Fungsi Rekursif\");\n",
    "System.out.println(\"  \" + DeretDescendingRekursif(5));\n",
    "System.out.println();\n",
    "\n",
    "System.out.println(\"Fungsi Iteratif\");\n",
    "System.out.println(DeretDescendingIteratif(5));"
   ]
  },
  {
   "cell_type": "markdown",
   "metadata": {},
   "source": [
    "2. Buatlah program yang di dalamnya terdapat fungsi rekursif untuk menghitung bilangan faktorial. Misalniya f = 8, maka akan dihasilkan 1+2+3+4+5+6+7+8 = 36 (**PenjumlahanRekursif**)."
   ]
  },
  {
   "cell_type": "code",
   "execution_count": 27,
   "metadata": {},
   "outputs": [
    {
     "name": "stdout",
     "output_type": "stream",
     "text": [
      "Masukkan bilangan awal : 1\n",
      "Masukkan bilangan akhir : 8\n",
      "1 + 2 + 3 + 4 + 5 + 6 + 7 + 8 = 36\n"
     ]
    }
   ],
   "source": [
    "// Tuliskan jawaban tugas nomor 2\n",
    "\n",
    "import java.util.Scanner;\n",
    "Scanner sc = new Scanner(System.in);\n",
    "\n",
    "static int PenjumlahanRekursif(int n){\n",
    "    if(n == angka2){\n",
    "        System.out.print(n + \" = \");\n",
    "        return (angka2);\n",
    "    } else {\n",
    "        System.out.print(n + \" + \");\n",
    "        return (n + PenjumlahanRekursif(n + 1));\n",
    "    }\n",
    "}\n",
    "\n",
    "System.out.print(\"Masukkan bilangan awal : \");\n",
    "int angka1 = sc.nextInt();\n",
    "System.out.print(\"Masukkan bilangan akhir : \");\n",
    "int angka2 = sc.nextInt();\n",
    "\n",
    "// Pemanggilan Fungsi\n",
    "int hasil = PenjumlahanRekursif(angka1);\n",
    "System.out.println(hasil);"
   ]
  },
  {
   "cell_type": "markdown",
   "metadata": {},
   "source": [
    "3.\tBuat program yang di dalamnya terdapat fungsi rekursif untuk mengecek apakah suatu bilangan n merupakan bilangan prima atau bukan. n dikatakan bukan bilangan prima jika ia habis dibagi dengan bilangan kurang dari n. (**CekPrimaRekursif**)."
   ]
  },
  {
   "cell_type": "code",
   "execution_count": 8,
   "metadata": {},
   "outputs": [],
   "source": [
    "// Tuliskan jawaban tugas nomor 3\n",
    "\n",
    "static int CekPrimaRekursif(int bil, int i){\n",
    "    if (i == 1){\n",
    "        return (1);\n",
    "    } else if (bil % i == 0){\n",
    "        return (1 + CekPrimaRekursif(bil, --i));\n",
    "    } else {\n",
    "        return (0 + CekPrimaRekursif(bil, --i))\n",
    "    }\n",
    "    \n",
    "}\n",
    "\n",
    "static int cek(int bil){\n",
    "    if(bil > 1){\n",
    "        return(CekPrimaRekursif(bil, bil == 0))\n",
    "    }\n",
    "}"
   ]
  },
  {
   "cell_type": "markdown",
   "metadata": {},
   "source": [
    "4.\tSepasang marmut yang baru lahir (jantan dan betina) ditempatkan pada suatu pembiakan.  Setelah dua bulan pasangan marmut tersebut melahirkan sepasang marmut kembar (jantan dan betina). Setiap pasangan marmut yang lahir juga akan melahirkan sepasang marmut juga setiap 2 bulan.  Berapa pasangan marmut yang ada pada akhir bulan ke-12? Buatlah programnya menggunakan fungsi rekursif! (**Fibonacci**).\n",
    "Berikut ini adalah ilustrasinya dalam bentuk tabel.\n",
    "\n",
    " ![Gambar 11](images/code14-11.PNG)"
   ]
  },
  {
   "cell_type": "code",
   "execution_count": 9,
   "metadata": {},
   "outputs": [],
   "source": [
    "// Tuliskan jawaban tugas nomor 4"
   ]
  }
 ],
 "metadata": {
  "kernelspec": {
   "display_name": "Java",
   "language": "java",
   "name": "java"
  },
  "language_info": {
   "codemirror_mode": "java",
   "file_extension": ".jshell",
   "mimetype": "text/x-java-source",
   "name": "Java",
   "pygments_lexer": "java",
   "version": "11.0.12+8-LTS-237"
  }
 },
 "nbformat": 4,
 "nbformat_minor": 4
}
