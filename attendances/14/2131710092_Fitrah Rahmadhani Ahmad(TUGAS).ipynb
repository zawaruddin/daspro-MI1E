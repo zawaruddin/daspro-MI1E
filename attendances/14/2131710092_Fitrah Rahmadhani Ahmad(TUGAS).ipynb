{
 "cells": [
  {
   "cell_type": "markdown",
   "metadata": {},
   "source": [
    "# JOBSHEET 14. Fungsi 2\n",
    "#### Nama = Fitrah Rahmadhani Ahmad\n",
    "#### Kelas = MI-1E\n",
    "#### NIM 2131710092"
   ]
  },
  {
   "cell_type": "markdown",
   "metadata": {},
   "source": [
    "## Tujuan\n",
    "* Mahasiswa memahami konsep fungsi rekursif\n",
    "* Mahasiswa mampu mengimplementasikan fungsi rekursif dalam kode program\n",
    "\n"
   ]
  },
  {
   "cell_type": "markdown",
   "metadata": {},
   "source": [
    "## Alat dan Bahan\n",
    "* PC/Laptop\n",
    "* Browser\n",
    "* Koneksi internet\n",
    "* Anaconda3 + Java kernel (opsional)"
   ]
  },
  {
   "cell_type": "markdown",
   "metadata": {},
   "source": [
    "## Tugas"
   ]
  },
  {
   "cell_type": "markdown",
   "metadata": {},
   "source": [
    "1. Buatlah program untuk menampilkan bilangan n sampai 0 dengan menggunakan fungsi rekursif dan fungsi iteratif. (**DeretDescendingRekursif**)."
   ]
  },
  {
   "cell_type": "code",
   "execution_count": 1,
   "metadata": {},
   "outputs": [
    {
     "name": "stdout",
     "output_type": "stream",
     "text": [
      "Masukkan bilangan batas: 15\n",
      "Deret rekursif: \n",
      " 15 14 13 12 11 10 9 8 7 6 5 4 3 2 1 0\n",
      "Deret iteratif: \n",
      " 15 14 13 12 11 10 9 8 7 6 5 4 3 2 1 0"
     ]
    }
   ],
   "source": [
    "// Tuliskan jawaban tugas nomor 1\n",
    "import java.util.Scanner;\n",
    "Scanner inputUser = new Scanner(System.in);\n",
    "static int DeretDescendingRekursif(int n){\n",
    "    if(n == 0){\n",
    "        System.out.print(\" \" + n);\n",
    "        return(n);\n",
    "    }else{\n",
    "        System.out.print(\" \" + n);\n",
    "        return (DeretDescendingRekursif(n-1));\n",
    "    }\n",
    "}\n",
    "static void DeretDescendingIteratif(int j){\n",
    "    for(int i = j; i >= 0; i--){\n",
    "        System.out.print(\" \" + i);\n",
    "    }\n",
    "}\n",
    "System.out.print(\"Masukkan bilangan batas: \");\n",
    "int n = inputUser.nextInt();\n",
    "System.out.println(\"Deret rekursif: \");\n",
    "DeretDescendingRekursif(n);\n",
    "System.out.println(\"\\nDeret iteratif: \");\n",
    "DeretDescendingIteratif(n);"
   ]
  },
  {
   "cell_type": "markdown",
   "metadata": {},
   "source": [
    "2. Buatlah program yang di dalamnya terdapat fungsi rekursif untuk menghitung bilangan faktorial. Misalniya f = 8, maka akan dihasilkan 1+2+3+4+5+6+7+8 = 36 (**PenjumlahanRekursif**)."
   ]
  },
  {
   "cell_type": "code",
   "execution_count": 2,
   "metadata": {},
   "outputs": [
    {
     "name": "stdout",
     "output_type": "stream",
     "text": [
      "Masukkan nilai batas penjumlahan: 15\n",
      "1+2+3+4+5+6+7+8+9+10+11+12+13+14+15 = 120\n"
     ]
    }
   ],
   "source": [
    "// Tuliskan jawaban tugas nomor 2\n",
    "import java.util.Scanner;\n",
    "Scanner inputUser = new Scanner(System.in);\n",
    "int n, hasil;\n",
    "System.out.print(\"Masukkan nilai batas penjumlahan: \");\n",
    "n = inputUser.nextInt();\n",
    "int a = 1;\n",
    "static int PenjumlahanRekursif(int awal, int nilai){\n",
    "    if(awal == nilai){\n",
    "        System.out.print(nilai);\n",
    "        return nilai;\n",
    "    }else{\n",
    "        System.out.print( awal + \"+\");\n",
    "        return (awal + PenjumlahanRekursif((awal + 1), nilai));\n",
    "    }\n",
    "}\n",
    "hasil = PenjumlahanRekursif(a, n);\n",
    "System.out.println(\" = \" + hasil);"
   ]
  },
  {
   "cell_type": "markdown",
   "metadata": {},
   "source": [
    "3.\tBuat program yang di dalamnya terdapat fungsi rekursif untuk mengecek apakah suatu bilangan n merupakan bilangan prima atau bukan. n dikatakan bukan bilangan prima jika ia habis dibagi dengan bilangan kurang dari n. (**CekPrimaRekursif**)."
   ]
  },
  {
   "cell_type": "code",
   "execution_count": 3,
   "metadata": {},
   "outputs": [
    {
     "name": "stdout",
     "output_type": "stream",
     "text": [
      "Masukkan nilai: 27\n",
      "27 bukan merupakan bilangan prima"
     ]
    }
   ],
   "source": [
    "// Tuliskan jawaban tugas nomor 3\n",
    "import java.util.Scanner;\n",
    "Scanner inputUser = new Scanner(System.in);\n",
    "static void tampilkan(int n){\n",
    "    if(n != 1){\n",
    "        int hasil = CekPrimaRekursif(n, (n-1));\n",
    "        if(hasil == 1){\n",
    "            System.out.print(n + \" merupakan bilangan prima\");\n",
    "        }else{\n",
    "            System.out.print(n + \" bukan merupakan bilangan prima\");\n",
    "        }\n",
    "    }else{\n",
    "        System.out.print(\"1 bukan merupakan bilangan prima\");\n",
    "    }\n",
    "}\n",
    "static int CekPrimaRekursif(int n, int b){\n",
    "        if (b == 1){\n",
    "            return 1;\n",
    "        }else if(n % b == 0){\n",
    "            return 1 + CekPrimaRekursif(n, (b-1));\n",
    "        }else{\n",
    "            return 0 + CekPrimaRekursif(n, (b-1));\n",
    "        }\n",
    "}\n",
    "System.out.print(\"Masukkan nilai: \");\n",
    "int nilai = inputUser.nextInt();\n",
    "tampilkan(nilai);"
   ]
  },
  {
   "cell_type": "markdown",
   "metadata": {},
   "source": [
    "4.\tSepasang marmut yang baru lahir (jantan dan betina) ditempatkan pada suatu pembiakan.  Setelah dua bulan pasangan marmut tersebut melahirkan sepasang marmut kembar (jantan dan betina). Setiap pasangan marmut yang lahir juga akan melahirkan sepasang marmut juga setiap 2 bulan.  Berapa pasangan marmut yang ada pada akhir bulan ke-12? Buatlah programnya menggunakan fungsi rekursif! (**Fibonacci**).\n",
    "Berikut ini adalah ilustrasinya dalam bentuk tabel.\n",
    "\n",
    " ![Gambar 11](images/code14-11.PNG)"
   ]
  },
  {
   "cell_type": "code",
   "execution_count": 4,
   "metadata": {},
   "outputs": [
    {
     "name": "stdout",
     "output_type": "stream",
     "text": [
      "Masukkan bulan: 12\n",
      "Total pasangan marmut setelah 12 bulan adalah: 144"
     ]
    }
   ],
   "source": [
    "// Tuliskan jawaban tugas nomor 4\n",
    "import java.util.Scanner;\n",
    "Scanner inputUser = new Scanner(System.in);\n",
    "static int fibonacci(int b){\n",
    "    if(b == 0 ||b == 1){\n",
    "        return b;\n",
    "    }else{\n",
    "        return fibonacci(b-1) + fibonacci(b-2);\n",
    "    }\n",
    "    \n",
    "}\n",
    "System.out.print(\"Masukkan bulan: \");\n",
    "int bulan = inputUser.nextInt();\n",
    "int hasil = fibonacci(bulan);\n",
    "System.out.print(\"Total pasangan marmut setelah \" + bulan + \" bulan adalah: \" + hasil);"
   ]
  },
  {
   "cell_type": "code",
   "execution_count": null,
   "metadata": {},
   "outputs": [],
   "source": []
  }
 ],
 "metadata": {
  "kernelspec": {
   "display_name": "Java",
   "language": "java",
   "name": "java"
  },
  "language_info": {
   "codemirror_mode": "java",
   "file_extension": ".jshell",
   "mimetype": "text/x-java-source",
   "name": "Java",
   "pygments_lexer": "java",
   "version": "17+35-LTS-2724"
  }
 },
 "nbformat": 4,
 "nbformat_minor": 4
}
