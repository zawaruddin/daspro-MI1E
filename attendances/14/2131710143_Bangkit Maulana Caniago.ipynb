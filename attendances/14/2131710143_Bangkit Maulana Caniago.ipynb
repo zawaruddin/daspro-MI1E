{
 "cells": [
  {
   "cell_type": "markdown",
   "metadata": {},
   "source": [
    "## Nama : Bangkit Maulana Caniago\n",
    "## NIM : 2131710143\n",
    "\n",
    "# JOBSHEET 14. Fungsi 2"
   ]
  },
  {
   "cell_type": "markdown",
   "metadata": {},
   "source": [
    "## Tujuan\n",
    "* Mahasiswa memahami konsep fungsi rekursif\n",
    "* Mahasiswa mampu mengimplementasikan fungsi rekursif dalam kode program\n",
    "\n"
   ]
  },
  {
   "cell_type": "markdown",
   "metadata": {},
   "source": [
    "## Alat dan Bahan\n",
    "* PC/Laptop\n",
    "* Browser\n",
    "* Koneksi internet\n",
    "* Anaconda3 + Java kernel (opsional)"
   ]
  },
  {
   "cell_type": "markdown",
   "metadata": {},
   "source": [
    "## Praktikum"
   ]
  },
  {
   "cell_type": "markdown",
   "metadata": {},
   "source": [
    "### Percobaan 1\n",
    "Pada percobaan ini akan dilakukan pembuatan program untuk menghitung nilai faktorial dari suatu bilangan dengan menggunakan fungsi rekursif. Selain itu, akan dibuat juga fungsi untuk menghitung nilai faktorial dengan menggunakan algoritma iteratif sebagai pembandingnya\n",
    "\n",
    "1. Buat fungsi static dengan nama **faktorialRekursif()**, dengan tipe data kembalian fungsi int dan memiliki 1 parameter dengan tipe data int berupa bilangan yang akan dihitung nilai faktorialnya\n",
    "\n",
    "    ![Gambar 1](images/code14-1.png)"
   ]
  },
  {
   "cell_type": "code",
   "execution_count": 9,
   "metadata": {},
   "outputs": [],
   "source": [
    "// Tuliskan kode program Percobaan 1 Langkah 1\n",
    "static int faktorialRekursif(int n){\n",
    "    if (n == 0){\n",
    "        return (1);\n",
    "    }\n",
    "    else{\n",
    "        return (n * faktorialRekursif(n-1));\n",
    "    }\n",
    "}\n"
   ]
  },
  {
   "cell_type": "markdown",
   "metadata": {},
   "source": [
    "2. Buat lagi fungsi static dengan nama **faktorialIteratif()**, dengan tipe data kembalian fungsi int dan memiliki 1 parameter dengan tipe data int berupa bilangan yang akan dihitung nilai faktorialnya.\n",
    "\n",
    "    ![Gambar 2](images/code14-2.png)"
   ]
  },
  {
   "cell_type": "code",
   "execution_count": 10,
   "metadata": {},
   "outputs": [],
   "source": [
    "// Tuliskan kode program Percobaan 1 Langkah 2\n",
    "static int faktorialIteratif(int n){\n",
    "    int faktor = 1;\n",
    "    for (int i = n; i >= 1; i--){\n",
    "        faktor = faktor * i;\n",
    "    }\n",
    "    return faktor;\n",
    "}"
   ]
  },
  {
   "cell_type": "markdown",
   "metadata": {},
   "source": [
    "3. Lakukan pemanggilan terhadap kedua fungsi yang telah dibuat sebelumnya, dan tampilkan hasil yang didapatkan.\n",
    "\n",
    "    ![Gambar 3](images/code14-3.png)"
   ]
  },
  {
   "cell_type": "code",
   "execution_count": 11,
   "metadata": {},
   "outputs": [
    {
     "name": "stdout",
     "output_type": "stream",
     "text": [
      "120\n",
      "120\n"
     ]
    }
   ],
   "source": [
    "// Tuliskan kode program Percobaan 1 Langkah 1, 2, 3\n",
    "System.out.println(faktorialRekursif(5));\n",
    "System.out.println(faktorialIteratif(5));"
   ]
  },
  {
   "cell_type": "markdown",
   "metadata": {},
   "source": [
    "4. Jika ditelusuri, pada saat pemanggilan fungsi faktorialRekursif(5),maka proses yang terjadi dapat diilustrasikan sebagai berikut:\n",
    "\n",
    "    ![Gambar 4](images/code14-4.png)"
   ]
  },
  {
   "cell_type": "markdown",
   "metadata": {},
   "source": [
    "#### Pertanyaan\n",
    "1. Apa yang dimaksud dengan fungsi rekursif?\n",
    "\n",
    "Fungsi Rekursif adalah fungsi yang memanggil fungsi dirinya sendiri\n",
    "\n",
    "2. Bagaimana contoh kasus penggunaan fungsi rekursif ?\n",
    "\n",
    "Contoh kasus rekursif seperti faktorial , hitung pangkat, deret dll\n",
    "\n",
    "3. Pada Percobaan1, apakah hasil yang diberikan fungsi faktorialRekursif() dan fungsi faktorialIteratif() sama? Jelaskan perbedaan alur jalannya program pada penggunaan fungsi rekursif dan fungsi iteratif!\n",
    "\n",
    "alur faktoriallRekursif ialah pengecekan int n apakah = 0; jika tidak maka akan menjalankan program yang memanggil fungsi itu sendiri yaitu return (n * faktorialRekursif(n-1)); yang berarti 5 * 4, setelah selesai maka n-1 menajdi n = 4, lalu mengulangi perulangan apakah n = 0 , jika tidak maka memanggil fungsi nya sendiri yaitu n * faktorialRekursif(n-1) yang berarti 4 * 3, maka terus dilakukan sampai n = 0, jika n = 0 maka akan meng return 1, setelah selesai maka akan di terhitung faktorial nya\n",
    "\n",
    "alur faktorialIteratif hanya memerlukan perulangan for saja , jika i < n , maka akan menghitung faktorial = faktorial * i , sampai perulangan berhenti . lalu mengembalikan faktor untuk fungsi faktorialIteratif"
   ]
  },
  {
   "cell_type": "markdown",
   "metadata": {},
   "source": [
    "### Percobaan 2\n",
    "Pada percobaan ini akan dilakukan pembuatan program untuk menghitung pangkat sebuah bilangan dengan menggunakan fungsi rekursif."
   ]
  },
  {
   "cell_type": "markdown",
   "metadata": {},
   "source": [
    "1. Buat fungsi static dengan nama **hitungPangkat()**, dengan tipe data kembalian fungsi int dan memiliki 2 parameter dengan tipe data int berupa bilangan yang akan dihitung pangkatnya dan bilangan pangkatnya\n",
    "\n",
    "    ![Gambar 5](images/code14-5.png)"
   ]
  },
  {
   "cell_type": "markdown",
   "metadata": {},
   "source": [
    "2.\tDeklarasikan Scanner dengan nama sc\n",
    "3.\tBuatlah dua buah variabel bertipe int dengan nama bilangan dan pangkat\n",
    "4.\tTambahkan kode berikut ini untuk menerima input dari keyboard\n",
    "\n",
    "    ![Gambar 6](images/code14-6.png)\n",
    "\n",
    "5. Lakukan pemanggilan fungsi hitungPangkat yang telah dibuat sebelumnya dengan mengirimkan dua nilai parameter.\n",
    "\n",
    "    ![Gambar 7](images/code14-7.png)"
   ]
  },
  {
   "cell_type": "code",
   "execution_count": 83,
   "metadata": {},
   "outputs": [
    {
     "name": "stdout",
     "output_type": "stream",
     "text": [
      "Bilangan yang dihitung: 5\n",
      "Pangkat: 4\n",
      "625"
     ]
    }
   ],
   "source": [
    "// Tuliskan kode program Percobaan 2 Langkah 1 - 5\n",
    "static int hitungPangkat(int x, int y){\n",
    "    if (y == 0){\n",
    "        return (1);\n",
    "    }else{\n",
    "        return (x*hitungPangkat(x,y-1));\n",
    "    }\n",
    "}\n",
    "import java.util.Scanner;\n",
    "Scanner sc = new Scanner(System.in);\n",
    "System.out.print(\"Bilangan yang dihitung: \");\n",
    "int bilangan = sc.nextInt();\n",
    "System.out.print(\"Pangkat: \");\n",
    "int pangkat = sc.nextInt();\n",
    "System.out.print(hitungPangkat(bilangan , pangkat));"
   ]
  },
  {
   "cell_type": "markdown",
   "metadata": {},
   "source": [
    "#### Pertanyaan\n",
    "1. Pada Percobaan2, terdapat pemanggilan fungsi rekursif hitungPangkat(bilangan, pangkat) pada fungsi main, kemudian dilakukan pemanggilan fungsi hitungPangkat() secara berulangkali. Jelaskan sampai kapan proses pemanggilan fungsi tersebut akan dijalankan!\n",
    "\n",
    "proses pemanggilan fungsi akan terus dijalankan selama y tidak sama dengan 0 dan akan berhenti sampai y = 0"
   ]
  },
  {
   "cell_type": "markdown",
   "metadata": {},
   "source": [
    "### Percobaan 3\n",
    "Pada percobaan ini akan dilakukan pembuatan program untuk menghitung jumlah uang nasabah yang disimpan di Bank setelah mendapatkan bunga selama beberapa tahun dengan menggunakan fungsi rekursif. \n",
    "\n",
    "1. Buat fungsi static dengan nama **hitungBunga()**, dengan tipe data kembalian fungsi double dan memiliki 2 parameter dengan tipe  data int berupa saldo nasabah dan lamanya menabung. Pada kasus ini dianggap bunga yang ditentukan oleh bank adalah 11% per tahun. Karena perhitungan bunga adalah bunga * saldo, sehingga untuk menghitung besarnya uang setelah ditambah bunga adalah saldo + bunga * saldo. Dalam hal ini, besarnya bunga adalah 0.11 * saldo, dan saldo dianggap 1 * saldo, sehingga 1 * saldo + 0.11 * saldo dapat diringkas menjadi 1.11 * saldo untuk perhitungan saldo setelah ditambah bunga (dalam setahun).\n",
    "\n",
    "    ![Gambar 8](images/code14-8.png)"
   ]
  },
  {
   "cell_type": "markdown",
   "metadata": {},
   "source": [
    "2.\tDeklarasikan Scanner dengan nama sc\n",
    "3.\tBuatlah sebuah variabel bertipa double dengan nama saldoAwal dan sebuah variabel bertipe int bernama tahun\n",
    "4.\tTambahkan kode berikut ini untuk menerima input dari keyboard\n",
    "\n",
    " ![Gambar 9](images/code14-9.png)"
   ]
  },
  {
   "cell_type": "markdown",
   "metadata": {},
   "source": [
    "5. Lakukan pemanggilan fungsi hitungBunga yang telah dibuat sebelumnya dengan mengirimkan dua nilai parameter.\n",
    "\n",
    "    ![Gambar 10](images/code14-10.png)"
   ]
  },
  {
   "cell_type": "code",
   "execution_count": 22,
   "metadata": {},
   "outputs": [
    {
     "name": "stdout",
     "output_type": "stream",
     "text": [
      "Jumlah saldo awal: 50000\n",
      "Lamanya menabung (tahun): 1\n",
      "Jumlah uang setelah 1 tahun: 55500.00000000001\n"
     ]
    }
   ],
   "source": [
    "// Tuliskan kode program Percobaan 3 Langkah 1 - 5\n",
    "static double hitungBunga(double saldo, int tahun){\n",
    "    if (tahun == 0){\n",
    "        return (saldo);\n",
    "    }else{\n",
    "        return (1.11 * hitungBunga(saldo , tahun - 1));\n",
    "    }\n",
    "}\n",
    "import java.util.Scanner;\n",
    "Scanner sc = new Scanner(System.in);\n",
    "System.out.print(\"Jumlah saldo awal: \");\n",
    "double saldoAwal = sc.nextInt();\n",
    "System.out.print(\"Lamanya menabung (tahun): \");\n",
    "int tahun = sc.nextInt();\n",
    "System.out.print(\"Jumlah uang setelah \" +tahun + \" tahun: \");\n",
    "System.out.println(hitungBunga(saldoAwal , tahun));"
   ]
  },
  {
   "cell_type": "markdown",
   "metadata": {},
   "source": [
    "#### Pertanyaan\n",
    "1. Pada Percobaan3, sebutkan blok kode program manakah yang merupakan “base case” dan “recursion call”!\n",
    "\n",
    "base case : (tahun == 0)\n",
    "\n",
    "recursion call : (1.11 * hitungBunga(saldo, tahun))"
   ]
  },
  {
   "cell_type": "markdown",
   "metadata": {},
   "source": [
    "## Tugas"
   ]
  },
  {
   "cell_type": "markdown",
   "metadata": {},
   "source": [
    "1. Buatlah program untuk menampilkan bilangan n sampai 0 dengan menggunakan fungsi rekursif dan fungsi iteratif. (**DeretDescendingRekursif**)."
   ]
  },
  {
   "cell_type": "code",
   "execution_count": 11,
   "metadata": {},
   "outputs": [
    {
     "name": "stdout",
     "output_type": "stream",
     "text": [
      "Masukan Bilangan angka: 10\n",
      "10 9 8 7 6 5 4 3 2 1 0\n",
      "10 9 8 7 6 5 4 3 2 1 0"
     ]
    }
   ],
   "source": [
    "// Tuliskan jawaban tugas nomor 1\n",
    "Scanner sc = new Scanner(System.in);\n",
    "int n;\n",
    "System.out.print(\"Masukan Bilangan angka: \");\n",
    "n = sc.nextInt();\n",
    "static int DeretDescendingRekursif(int n){\n",
    "    if (n == 0){\n",
    "        return 0;\n",
    "    }\n",
    "    else{\n",
    "        System.out.print(n + \" \");\n",
    "        return (DeretDescendingRekursif(n-1)) ;\n",
    "    }\n",
    "}\n",
    "static int DeretDescendingIteratif(int n){\n",
    "    int i;\n",
    "    for(i = n;i>0;i--){\n",
    "        System.out.print(i + \" \");\n",
    "    }\n",
    "    return 0;\n",
    "}\n",
    "System.out.print(DeretDescendingRekursif(n));\n",
    "System.out.println();\n",
    "System.out.print(DeretDescendingIteratif(n));"
   ]
  },
  {
   "cell_type": "markdown",
   "metadata": {},
   "source": [
    "2. Buatlah program yang di dalamnya terdapat fungsi rekursif untuk menghitung bilangan faktorial. Misalniya f = 8, maka akan dihasilkan 1+2+3+4+5+6+7+8 = 36 (**PenjumlahanRekursif**)."
   ]
  },
  {
   "cell_type": "code",
   "execution_count": 1,
   "metadata": {},
   "outputs": [
    {
     "name": "stdout",
     "output_type": "stream",
     "text": [
      "Masukan Bilangan angka: 8\n",
      "1+2+3+4+5+6+7+8 = 36\n"
     ]
    }
   ],
   "source": [
    "// Tuliskan jawaban tugas nomor 2\n",
    "import java.util.Scanner;\n",
    "Scanner sc = new Scanner(System.in);\n",
    "int n;\n",
    "System.out.print(\"Masukan Bilangan angka: \");\n",
    "n = sc.nextInt();\n",
    "static int PenjumlahanRekursif(int i, int n){\n",
    "    if(i == n){\n",
    "        System.out.print(n);\n",
    "        return n;\n",
    "    }else{\n",
    "        System.out.print( i + \"+\");\n",
    "        return (i+PenjumlahanRekursif((i + 1), n));\n",
    "    }\n",
    "}\n",
    "System.out.println(\" = \" + PenjumlahanRekursif(1, n));"
   ]
  },
  {
   "cell_type": "markdown",
   "metadata": {},
   "source": [
    "3.\tBuat program yang di dalamnya terdapat fungsi rekursif untuk mengecek apakah suatu bilangan n merupakan bilangan prima atau bukan. n dikatakan bukan bilangan prima jika ia habis dibagi dengan bilangan kurang dari n. (**CekPrimaRekursif**)."
   ]
  },
  {
   "cell_type": "code",
   "execution_count": 13,
   "metadata": {},
   "outputs": [
    {
     "name": "stdout",
     "output_type": "stream",
     "text": [
      "Masukan Bilangan angka: 5\n",
      "Bilangan prima\n"
     ]
    }
   ],
   "source": [
    "// Tuliskan jawaban tugas nomor 3\n",
    "import java.util.Scanner;\n",
    "Scanner sc = new Scanner(System.in);\n",
    "int j;\n",
    "System.out.print(\"Masukan Bilangan angka: \");\n",
    "j = sc.nextInt();\n",
    "static String CekPrimaRekursif(int i , int n){\n",
    "    if (n==1){\n",
    "        return \"Bilangan prima\";\n",
    "    }else if(i%n==0){\n",
    "        return \"Bukan Bilangan prima\";\n",
    "    }else{\n",
    "        return (CekPrimaRekursif(i,n-1));\n",
    "    }\n",
    "}\n",
    "System.out.println(CekPrimaRekursif(j,j-1));"
   ]
  },
  {
   "cell_type": "markdown",
   "metadata": {},
   "source": [
    "4.\tSepasang marmut yang baru lahir (jantan dan betina) ditempatkan pada suatu pembiakan.  Setelah dua bulan pasangan marmut tersebut melahirkan sepasang marmut kembar (jantan dan betina). Setiap pasangan marmut yang lahir juga akan melahirkan sepasang marmut juga setiap 2 bulan.  Berapa pasangan marmut yang ada pada akhir bulan ke-12? Buatlah programnya menggunakan fungsi rekursif! (**Fibonacci**).\n",
    "Berikut ini adalah ilustrasinya dalam bentuk tabel.\n",
    "\n",
    " ![Gambar 11](images/code14-11.PNG)"
   ]
  },
  {
   "cell_type": "code",
   "execution_count": 1,
   "metadata": {},
   "outputs": [
    {
     "name": "stdout",
     "output_type": "stream",
     "text": [
      "Masukkan bulan : 12\n",
      "Pada bulan ke-12 terdapat 144 total pasangan marmut\n"
     ]
    }
   ],
   "source": [
    "// Tuliskan jawaban tugas nomor 4\n",
    "import java.util.Scanner;\n",
    "Scanner sc = new Scanner(System.in);\n",
    "System.out.print (\"Masukkan bulan : \");\n",
    "int n = sc.nextInt();\n",
    "static int fibonacci(int n)  {\n",
    "    if(n < 2){\n",
    "        return n;\n",
    "    }\n",
    "    else{ \n",
    "        return fibonacci(n - 1) + fibonacci(n - 2);\n",
    "    }\n",
    "}\n",
    "System.out.println(\"Pada bulan ke-\"+n+\" terdapat \"+fibonacci(n)+\" total pasangan marmut\");"
   ]
  },
  {
   "cell_type": "code",
   "execution_count": null,
   "metadata": {},
   "outputs": [],
   "source": []
  }
 ],
 "metadata": {
  "kernelspec": {
   "display_name": "Java",
   "language": "java",
   "name": "java"
  },
  "language_info": {
   "codemirror_mode": "java",
   "file_extension": ".jshell",
   "mimetype": "text/x-java-source",
   "name": "Java",
   "pygments_lexer": "java",
   "version": "11+28"
  }
 },
 "nbformat": 4,
 "nbformat_minor": 4
}
