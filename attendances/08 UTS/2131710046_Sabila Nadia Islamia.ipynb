{
 "cells": [
  {
   "cell_type": "markdown",
   "metadata": {
    "collapsed": true
   },
   "source": [
    "# Ujian Tengah Semester (UTS)\n",
    "\n",
    "- **NIM   :** 2131710046\n",
    "- **Nama  :** Sabila Nadia Islamia\n",
    "- **Kelas :** MI-1E\n",
    "\n",
    "## Deskripsi\n",
    "+ Silahkan kerjakan soal yang sekiranya mudah dahulu\n",
    "+ Jawaban langsung ditulis di bawah soal\n",
    "+ Waktu pengerjaan UTS adalah *90 menit*\n",
    "    - submit jawaban ke LMS maksimal pukul 10.45, lebih dari itu **nilai dikurangi**\n",
    "    - submit dan pull-request via github akan diberi nilai tambah (maksimal pukul 10.50, lebih dari itu **tidak diberi** nilai tambah)\n",
    "\n",
    "## Soal UTS\n",
    "### Soal 1  (skor 30)\n",
    "Buatlah sebuah program untuk menentukan minimal lembar uang yang dikeluarkan berdasarkan inputan uang yang diinputkan user (menggunakan _library Scanner_). Lembar uang sesuai dengan lembar nominal mata uang Rupiah yaitu lembar uang 1.000, 2.000, 5.000, 10.000, 20.000, 50.000, dan 100.000.\n",
    "\n",
    "Contoh: ![Contoh Soal 1](images/Soal1.png)"
   ]
  },
  {
   "cell_type": "code",
   "execution_count": 1,
   "metadata": {},
   "outputs": [
    {
     "name": "stdout",
     "output_type": "stream",
     "text": [
      "*** Program Menentukan Minimal Lembar Mata Uang yang Dikeluarkan ***\n",
      "NIM\t : 2131710046\n",
      "Nama\t : Sabila Nadia Islamia\n",
      "----------\n",
      "Masukkan nominal uang : 150000\n",
      "Lembar uang 50.000 : 3\n",
      "Lembar uang 20.000 : 0\n",
      "Lembar uang 10.000 : 0\n",
      "Lembar uang 5.000 : 0\n",
      "Lembar uang 2.000 : 0\n",
      "Lembar uang 1.000 : 0\n"
     ]
    }
   ],
   "source": [
    "/* Jawaban Soal 1 */\n",
    "\n",
    "import java.util.Scanner;\n",
    "\n",
    "System.out.println(\"*** Program Menentukan Minimal Lembar Mata Uang yang Dikeluarkan ***\");\n",
    "System.out.println(\"NIM\\t : 2131710046\");\n",
    "System.out.println(\"Nama\\t : Sabila Nadia Islamia\");\n",
    "System.out.println(\"----------\");\n",
    "\n",
    "Scanner sc = new Scanner(System.in); \n",
    "\n",
    "System.out.print(\"Masukkan nominal uang : \");\n",
    "double nominal = sc.nextDouble(); \n",
    "\n",
    "int limaPuluhRibu = (int)(nominal / 50000);\n",
    "int sisa = (int)(nominal % 50000);\n",
    "\n",
    "int duaPuluhRibu = (int)(sisa / 20000);\n",
    "int sisa = sisa % 20000;\n",
    "\n",
    "int sepuluhPuluhRibu = (sisa / 10000);\n",
    "int sisa = sisa % 10000;\n",
    "\n",
    "int limaRibuan = (sisa / 5000);\n",
    "sisa = sisa % 5000;\n",
    "\n",
    "int duaRibuan = (sisa / 2000);\n",
    "sisa = sisa % 2000;\n",
    "\n",
    "int ribuan = (sisa / 1000);\n",
    "sisa = sisa % 1000; \n",
    "\n",
    "System.out.println(\"Lembar uang 50.000 : \" + limaPuluhRibu);\n",
    "System.out.println(\"Lembar uang 20.000 : \" + duaPuluhRibu);\n",
    "System.out.println(\"Lembar uang 10.000 : \" + sepuluhPuluhRibu);\n",
    "System.out.println(\"Lembar uang 5.000 : \" + limaRibuan);\n",
    "System.out.println(\"Lembar uang 2.000 : \" + duaRibuan);\n",
    "System.out.println(\"Lembar uang 1.000 : \" + ribuan);"
   ]
  },
  {
   "cell_type": "markdown",
   "metadata": {},
   "source": [
    "### Soal 2 (skor 20)\n",
    "Buatlah program dengan menggunakan **semua perulangan** _(for, while, do-while)_ untuk menampilkan huruf abjad A-Z secara terurut. Program akan selesai menampilkan huruf abjad (selesai _looping_) ketika huruf yang ditampilkan sama dengan huruf yang dimasukkan oleh pengguna.\n",
    "\n",
    "Contoh ![Contoh Soal 2](images/Soal2.png)"
   ]
  },
  {
   "cell_type": "code",
   "execution_count": 2,
   "metadata": {},
   "outputs": [],
   "source": [
    "/* Jawaban Soal 2 */\n",
    "\n"
   ]
  },
  {
   "cell_type": "markdown",
   "metadata": {},
   "source": [
    "### Soal 3 (skor 20/30)\n",
    "Buatlah sebuah program dengan menggunakan **satu jenis perulangan** untuk menghitung nilai berdasarkan masukkan dari user. Perulangan akan terus berjalan jika user mengetikkan huruf kapital **\"Y\"** dan perulangan akan berhenti saat user mengetikkan huruf kapital **\"N\"**. \n",
    "Setelah perulangan berhenti, program akan memilih **angka terkecil** dan **angka terbesar** dari angka yang dimasukkan user dan menghitung jumlah dan rata-rata angkat-angka tersebut. Program boleh menggunakan salah satu perulangan : \n",
    "\n",
    "  + _While_ (20 poin), atau\n",
    "  + _Do-while_ (20 poin), atau\n",
    "  + _For_ (30 poin)\n",
    "  \n",
    "Contoh ![Contoh Soal 3](images/Soal3.png)\n"
   ]
  },
  {
   "cell_type": "code",
   "execution_count": 3,
   "metadata": {},
   "outputs": [
    {
     "name": "stdout",
     "output_type": "stream",
     "text": [
      "*** Program Menghitung Angka ***\n",
      "NIM\t : 2131710046\n",
      "Nama\t : Sabila Nadia Islamia\n",
      "----------\n"
     ]
    },
    {
     "ename": "CompilationException",
     "evalue": "",
     "output_type": "error",
     "traceback": [
      "\u001b[1m\u001b[30m|   \u001b[1m\u001b[30m1\u001b[0m\u001b[1m\u001b[30m\u001b[41m\u001b[0m\u001b[1m\u001b[30m\u001b[0m",
      "\u001b[1m\u001b[31m';' expected\u001b[0m",
      "",
      "\u001b[1m\u001b[30m|   \u001b[1m\u001b[30m\u001b[0m\u001b[1m\u001b[30m\u001b[41mScanner sc = new Scanner(System.in);\u001b[0m\u001b[1m\u001b[30m\u001b[0m",
      "\u001b[1m\u001b[31munreachable statement\u001b[0m",
      "",
      "\u001b[1m\u001b[30m|   \u001b[1m\u001b[30m\u001b[0m\u001b[1m\u001b[30m\u001b[41m1\u001b[0m",
      "\u001b[1m\u001b[30m|   \u001b[1m\u001b[30m\u001b[41m    \u001b[0m",
      "\u001b[1m\u001b[30m|   \u001b[1m\u001b[30m\u001b[41m\u001b[0m",
      "\u001b[1m\u001b[30m|   \u001b[1m\u001b[30m\u001b[41mScanner sc = new Scanner(System.in);\u001b[0m",
      "\u001b[1m\u001b[31mmissing return statement\u001b[0m",
      ""
     ]
    }
   ],
   "source": [
    "/* Jawaban Soal 3 */\n",
    "\n",
    "import java.util.Scanner; \n",
    "\n",
    "System.out.println(\"*** Program Menghitung Angka ***\");\n",
    "System.out.println(\"NIM\\t : 2131710046\");\n",
    "System.out.println(\"Nama\\t : Sabila Nadia Islamia\");\n",
    "System.out.println(\"----------\");1\n",
    "    \n",
    "\n",
    "Scanner sc = new Scanner(System.in); \n",
    "int angka;\n",
    "String lagi;\n",
    "\n",
    "System.out.println(\">>> Mulai\"); \n",
    "\n",
    "System.out.print(\"Masukkan Angka ke-1 : \");\n",
    "angka = sc.nextInt(); \n",
    "System.out.print(\"Mau memasukkan angka kembali (Y/T) : \");\n",
    "lagi = sc.next(); \n",
    "\n",
    "if (lagi == Y){\n",
    "    \n",
    "}\n",
    "\n",
    "for (int i=1; i<=angka; i++){\n",
    "    \n",
    "\n",
    "}"
   ]
  },
  {
   "cell_type": "markdown",
   "metadata": {},
   "source": [
    "### Soal 4 (skor 30++)\n",
    "Buatlah program klasifikasi umur yang sesuai dengan flowchar berikut **(skor 30)**. \n",
    "![Contoh Soal 4](images/Soal4.png)\n",
    "\n",
    "Saat perulangan berhenti. Hitung jumlah rata-rata umur yang telah dimasukkan, dan dari rata-rata tersebut termasuk klasifikasi umur apa? **(+poin 20)**"
   ]
  },
  {
   "cell_type": "code",
   "execution_count": null,
   "metadata": {},
   "outputs": [
    {
     "name": "stdout",
     "output_type": "stream",
     "text": [
      "Berhenti ? Masukkan Huruf Y/T : \n",
      "T\n",
      "Masukkan Umur : 50\n",
      "Paruh baya\n",
      "Berhenti ? Masukkan Huruf Y/T : \n",
      "T\n",
      "Masukkan Umur : 20\n",
      "Dewasa\n",
      "Berhenti ? Masukkan Huruf Y/T : \n",
      "Y\n",
      "Berhenti ? Masukkan Huruf Y/T : \n"
     ]
    }
   ],
   "source": [
    "/* Jawaban Soal 4 */\n",
    "\n",
    "import java.util.Scanner; \n",
    "Scanner sc = new Scanner(System.in); \n",
    "char huruf; \n",
    "int umur; \n",
    "\n",
    "boolean kondisi = true; \n",
    "\n",
    "while (kondisi){ \n",
    "    System.out.println(\"Berhenti ? Masukkan Huruf Y/T : \");\n",
    "    huruf = sc.next().charAt(0); \n",
    "    if (huruf== 'T'){\n",
    "    System.out.print(\"Masukkan Umur : \");\n",
    "    umur = sc.nextInt();\n",
    "    if (umur<=5){\n",
    "      System.out.println(\"Balita\");   \n",
    "    } else if (umur<=10){\n",
    "         System.out.println(\"Anak anak\"); \n",
    "    } else if (umur <=17){\n",
    "         System.out.println(\"Remaja\");\n",
    "    } else if (umur<=40){\n",
    "         System.out.println(\"Dewasa\"); \n",
    "    } else if (umur<=60){\n",
    "         System.out.println(\"Paruh baya\"); \n",
    "    } else {\n",
    "         System.out.println(\"Tua\"); \n",
    "    }\n",
    "    } else {   \n",
    "}    \n",
    "}\n",
    "if (huruf=='Y'){\n",
    "    kondisi == false; \n",
    "}\n"
   ]
  },
  {
   "cell_type": "code",
   "execution_count": null,
   "metadata": {},
   "outputs": [],
   "source": []
  },
  {
   "cell_type": "code",
   "execution_count": null,
   "metadata": {},
   "outputs": [],
   "source": []
  }
 ],
 "metadata": {
  "kernelspec": {
   "display_name": "Java",
   "language": "java",
   "name": "java"
  },
  "language_info": {
   "codemirror_mode": "java",
   "file_extension": ".jshell",
   "mimetype": "text/x-java-source",
   "name": "Java",
   "pygments_lexer": "java",
   "version": "11.0.12+8-LTS-237"
  }
 },
 "nbformat": 4,
 "nbformat_minor": 1
}
