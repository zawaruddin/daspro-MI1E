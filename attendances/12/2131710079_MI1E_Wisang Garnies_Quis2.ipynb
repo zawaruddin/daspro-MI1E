{
 "cells": [
  {
   "cell_type": "markdown",
   "id": "5e63e668",
   "metadata": {},
   "source": [
    "<dt>NAMA   : WISANG GARNIES RINEKSA PANGGALIH\n",
    "<dt>KELAS  : MI-1E\n",
    "<dt>NIM    : 2131710079"
   ]
  },
  {
   "cell_type": "markdown",
   "id": "af387b9f",
   "metadata": {},
   "source": [
    "<dt>1. Buatlah program sehingga bisa menghasilakan tampilan berikut :\n",
    "<dt>1\n",
    "<dt>12\n",
    "<dt>123\n",
    "<dt>1234\n",
    "<dt>12345 "
   ]
  },
  {
   "cell_type": "code",
   "execution_count": 1,
   "id": "ad9b66fc",
   "metadata": {},
   "outputs": [
    {
     "name": "stdout",
     "output_type": "stream",
     "text": [
      "Masukkan nilai N : 5\n",
      "1\n",
      "12\n",
      "123\n",
      "1234\n",
      "12345\n"
     ]
    }
   ],
   "source": [
    "import java.util.Scanner;\n",
    "\n",
    "Scanner input = new Scanner(System.in);\n",
    "\n",
    "System.out.print(\"Masukkan nilai N : \");\n",
    "int N = input.nextInt();\n",
    "\n",
    "for(int i = 1; i <= N; i++){\n",
    "    for(int j = 1; j <= i; j++){\n",
    "        System.out.print(j);\n",
    "    }\n",
    "    System.out.println();\n",
    "}"
   ]
  },
  {
   "cell_type": "markdown",
   "id": "4a7f80cd",
   "metadata": {},
   "source": [
    "<dt>2. Buatlah program sehingga bisa menghasilkan tampilan berikut :\n",
    "<dt>1\n",
    "<dt>22\n",
    "<dt>333\n",
    "<dt>4444\n",
    "<dt>55555 "
   ]
  },
  {
   "cell_type": "code",
   "execution_count": 2,
   "id": "a7dd6d0d",
   "metadata": {},
   "outputs": [
    {
     "name": "stdout",
     "output_type": "stream",
     "text": [
      "Masukkan nilai N : 5\n",
      "1\n",
      "22\n",
      "333\n",
      "4444\n",
      "55555\n"
     ]
    }
   ],
   "source": [
    "import java.util.Scanner;\n",
    "\n",
    "Scanner input = new Scanner(System.in);\n",
    "\n",
    "System.out.print(\"Masukkan nilai N : \");\n",
    "int N = input.nextInt();\n",
    "\n",
    "for(int i = 1; i <= N; i++){\n",
    "    for(int j = 1; j <= i; j++){\n",
    "        System.out.print(i);\n",
    "    }\n",
    "    System.out.println();\n",
    "}"
   ]
  },
  {
   "cell_type": "markdown",
   "id": "eb00cd07",
   "metadata": {},
   "source": [
    "3. (Huruf Terbesar untuk Baris & Kolom). Buatlah program array dua dimensi [4][5] dengan\n",
    "nilai inputan berupa satu huruf untuk tiap element berdasarkan nama lengkap masingmasing mahasiswa. Selanjutnya cetak nilai-nilai isi array tersebut yang merupakan nilai\n",
    "terbesar (secara abjad) pada baris dan kolomnya."
   ]
  },
  {
   "cell_type": "code",
   "execution_count": null,
   "id": "13792230",
   "metadata": {},
   "outputs": [],
   "source": []
  },
  {
   "cell_type": "code",
   "execution_count": 16,
   "id": "b3907448",
   "metadata": {},
   "outputs": [
    {
     "name": "stdout",
     "output_type": "stream",
     "text": [
      "17-11-2021\n",
      "2021\n"
     ]
    }
   ],
   "source": [
    "// Jawaban nomor 4\n",
    "import java.text.SimpleDateFormat;\n",
    "import java.util.Date;\n",
    "\n",
    "Date tgl = new Date();\n",
    "\n",
    "SimpleDateFormat d = new SimpleDateFormat(\"d-M-Y\");\n",
    "String ini_tanggal = d.format(tgl);\n",
    "System.out.println(ini_tanggal);\n",
    "\n",
    "SimpleDateFormat d = new SimpleDateFormat(\"Y\");\n",
    "String ini_tahun = d.format(tgl);\n",
    "System.out.println(ini_tahun);"
   ]
  },
  {
   "cell_type": "code",
   "execution_count": 26,
   "id": "b1a146d8",
   "metadata": {
    "scrolled": true
   },
   "outputs": [
    {
     "name": "stdout",
     "output_type": "stream",
     "text": [
      "Tanggal saat ini: 17 November, 2021"
     ]
    },
    {
     "data": {
      "text/plain": [
       "java.io.PrintStream@5e2e8b54"
      ]
     },
     "execution_count": 26,
     "metadata": {},
     "output_type": "execute_result"
    }
   ],
   "source": [
    "import java.text.SimpleDateFormat;\n",
    "import java.util.Date;\n",
    "\n",
    "Date tgl = new Date();\n",
    "System.out.printf(\"%s %te %<tB, %<tY\",\"Tanggal saat ini:\", tgl);"
   ]
  },
  {
   "cell_type": "code",
   "execution_count": null,
   "id": "b6fd0c3a",
   "metadata": {},
   "outputs": [],
   "source": []
  }
 ],
 "metadata": {
  "kernelspec": {
   "display_name": "Java",
   "language": "java",
   "name": "java"
  },
  "language_info": {
   "codemirror_mode": "java",
   "file_extension": ".jshell",
   "mimetype": "text/x-java-source",
   "name": "Java",
   "pygments_lexer": "java",
   "version": "11.0.12+8-LTS-237"
  }
 },
 "nbformat": 4,
 "nbformat_minor": 5
}
