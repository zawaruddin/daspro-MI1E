{
 "cells": [
  {
   "cell_type": "markdown",
   "id": "92a4a58c",
   "metadata": {},
   "source": [
    "Nama   : Ferly Yanuar Prasetyo\n",
    "NIM    : 2131710081\n",
    "Kelas  : MI1E\n",
    "Materi : Quizz 2 Praktikum Dasar pemrograman"
   ]
  },
  {
   "cell_type": "markdown",
   "id": "c62ed2a6",
   "metadata": {},
   "source": [
    "Nomer 1."
   ]
  },
  {
   "cell_type": "code",
   "execution_count": 5,
   "id": "a20c6b44",
   "metadata": {},
   "outputs": [
    {
     "name": "stdout",
     "output_type": "stream",
     "text": [
      "Masukkan Angka : 5\n",
      "1\n",
      "12\n",
      "123\n",
      "1234\n",
      "12345\n"
     ]
    }
   ],
   "source": [
    "Scanner sc = new Scanner(System.in);\n",
    "int n;\n",
    "System.out.print(\"Masukkan Angka : \" );\n",
    "n = sc.nextInt();\n",
    "for(int i = 1; i<=n;i++){\n",
    "    for(int j = 1 ; j<=i;j++){\n",
    "        System.out.print(j);\n",
    "    }\n",
    "    System.out.println();\n",
    "}"
   ]
  },
  {
   "cell_type": "markdown",
   "id": "a722d06a",
   "metadata": {},
   "source": [
    "Nomer 2."
   ]
  },
  {
   "cell_type": "code",
   "execution_count": 6,
   "id": "5b78ec8f",
   "metadata": {},
   "outputs": [
    {
     "name": "stdout",
     "output_type": "stream",
     "text": [
      "Masukkan nilai N : 5\n",
      "1\n",
      "22\n",
      "333\n",
      "4444\n",
      "55555\n"
     ]
    }
   ],
   "source": [
    "import java.util.Scanner;\n",
    "Scanner input = new Scanner(System.in);\n",
    "\n",
    "System.out.print(\"Masukkan nilai N : \");\n",
    "int N =input.nextInt();\n",
    "\n",
    "for(int i =1; i <= N; i++){\n",
    "    for(int j = 1; j <=i; j++){\n",
    "        System.out.print(i);\n",
    "    }\n",
    "     System.out.println();\n",
    "}"
   ]
  },
  {
   "cell_type": "markdown",
   "id": "8d9ea2ab",
   "metadata": {},
   "source": [
    "Nomer 3."
   ]
  },
  {
   "cell_type": "code",
   "execution_count": 1,
   "id": "ff55900c",
   "metadata": {},
   "outputs": [
    {
     "name": "stdout",
     "output_type": "stream",
     "text": [
      "Masukan Huruf : F\n",
      "Masukan Huruf : E\n",
      "Masukan Huruf : R\n",
      "Masukan Huruf : L\n",
      "Masukan Huruf : Y\n",
      "\n",
      "Masukan Huruf : Y\n",
      "Masukan Huruf : A\n",
      "Masukan Huruf : N\n",
      "Masukan Huruf : U\n",
      "Masukan Huruf : A\n",
      "\n",
      "Masukan Huruf : R\n",
      "Masukan Huruf : P\n",
      "Masukan Huruf : R\n",
      "Masukan Huruf : A\n",
      "Masukan Huruf : S\n",
      "\n",
      "Masukan Huruf : E\n",
      "Masukan Huruf : T\n",
      "Masukan Huruf : Y\n",
      "Masukan Huruf : O\n",
      "Masukan Huruf : O\n",
      "\n",
      "====================\n",
      "F E R L Y \n",
      "Y A N U A \n",
      "R P R A S \n",
      "E T Y O O \n",
      "====================\n",
      "Y adalah huruf terbesar pada baris 1 berada di kolom 5\n",
      "Y adalah huruf terbesar pada baris 2 berada di kolom 1\n",
      "S adalah huruf terbesar pada baris 3 berada di kolom 5\n",
      "Y adalah huruf terbesar pada baris 4 berada di kolom 3\n"
     ]
    }
   ],
   "source": [
    "Scanner sc = new Scanner(System.in);\n",
    "char[][] n = new char[4][5];\n",
    "char a;\n",
    "int max , asc , index;\n",
    "for(int i = 0; i<n.length;i++){\n",
    "    for(int j = 0 ; j<n[0].length;j++){\n",
    "        System.out.print(\"Masukan Huruf : \");\n",
    "        n[i][j] = sc.next().charAt(0);\n",
    "    }\n",
    "    System.out.println();\n",
    "}\n",
    "System.out.println(\"====================\");\n",
    "for(int i = 0; i<n.length;i++){\n",
    "    for(int j = 0 ; j<n[0].length;j++){\n",
    "        System.out.print(n[i][j] + \" \");\n",
    "    }\n",
    "    System.out.println();\n",
    "}\n",
    "System.out.println(\"====================\");\n",
    "for(int k = 0 ;k < n.length ; k++){\n",
    "    max = 0;\n",
    "    for(int l = 0 ; l < n[k].length ;l++){\n",
    "        asc = (int) n[k][l]; \n",
    "        if(n[k][l] > max){\n",
    "            max = n[k][l];\n",
    "            index = l;\n",
    "        }\n",
    "        a = (char) max;\n",
    "    }\n",
    "    System.out.println(a + \" adalah huruf terbesar pada baris \"+(k+1)+\" berada di kolom \" + (index + 1));\n",
    "}"
   ]
  },
  {
   "cell_type": "markdown",
   "id": "74337116",
   "metadata": {},
   "source": [
    "No 4."
   ]
  },
  {
   "cell_type": "code",
   "execution_count": 27,
   "id": "b0fbd1a9",
   "metadata": {},
   "outputs": [
    {
     "name": "stdout",
     "output_type": "stream",
     "text": [
      "17 November 2021"
     ]
    }
   ],
   "source": [
    "import java.text.SimpleDateFormat;\n",
    "import java.util.Date;\n",
    "\n",
    "Date tgl = new Date();\n",
    "String bulann[] = {\"Januari\" , \"Februari\" , \"Maret\" , \"April\" , \"Mei\" , \"Juni\" , \"Juli\" , \"Agustus\" , \"September\" , \"Oktober\" , \"November\" , \"Desember\"};\n",
    "\n",
    "SimpleDateFormat d = new SimpleDateFormat(\"d\");\n",
    "String tanggal = d.format(tgl);\n",
    "SimpleDateFormat d = new SimpleDateFormat(\"M\");\n",
    "String ini_bulan = d.format(tgl);\n",
    "int bulan = Integer.parseInt(ini_bulan);\n",
    "SimpleDateFormat d = new SimpleDateFormat(\"Y\");\n",
    "String tahun = d.format(tgl);\n",
    "System.out.print(tanggal+\" \"+(bulann[bulan-1])+\" \"+tahun);"
   ]
  },
  {
   "cell_type": "code",
   "execution_count": null,
   "id": "26227b11",
   "metadata": {},
   "outputs": [],
   "source": []
  }
 ],
 "metadata": {
  "kernelspec": {
   "display_name": "Java",
   "language": "java",
   "name": "java"
  },
  "language_info": {
   "codemirror_mode": "java",
   "file_extension": ".jshell",
   "mimetype": "text/x-java-source",
   "name": "Java",
   "pygments_lexer": "java",
   "version": "11.0.12+8-LTS-237"
  }
 },
 "nbformat": 4,
 "nbformat_minor": 5
}
