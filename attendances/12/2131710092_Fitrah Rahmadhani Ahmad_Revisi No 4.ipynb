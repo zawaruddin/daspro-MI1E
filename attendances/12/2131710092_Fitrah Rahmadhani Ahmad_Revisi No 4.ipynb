{
 "cells": [
  {
   "cell_type": "markdown",
   "id": "00e625bb",
   "metadata": {},
   "source": [
    "### Nama = Fitrah Rahmadhani Ahmad\n",
    "### Kelas = MI-1E\n",
    "### NIM = 2131710092"
   ]
  },
  {
   "cell_type": "code",
   "execution_count": 4,
   "id": "0f04546a",
   "metadata": {},
   "outputs": [
    {
     "name": "stdout",
     "output_type": "stream",
     "text": [
      "Masukkan nilai batas: 6\n",
      "1\n",
      "12\n",
      "123\n",
      "1234\n",
      "12345\n",
      "123456\n"
     ]
    }
   ],
   "source": [
    "// Jawaban nomor 1 Fitrah Rahmadhani Ahmad 2131710092\n",
    "import java.util.Scanner;\n",
    "Scanner input = new Scanner(System.in);\n",
    "int N;\n",
    "System.out.print(\"Masukkan nilai batas: \");\n",
    "N = input.nextInt();\n",
    "for(int i = 0; i < N; i++){\n",
    "    for(int j = 0; j <= i; j++){\n",
    "        System.out.print((j+1));\n",
    "    }\n",
    "    System.out.println();\n",
    "}"
   ]
  },
  {
   "cell_type": "code",
   "execution_count": 5,
   "id": "b598bc60",
   "metadata": {},
   "outputs": [
    {
     "name": "stdout",
     "output_type": "stream",
     "text": [
      "Masukkan nilai batas: 6\n",
      "1\n",
      "22\n",
      "333\n",
      "4444\n",
      "55555\n",
      "666666\n"
     ]
    }
   ],
   "source": [
    "// Jawaban nomor 2 Fitrah Rahmadhani Ahmad 2131710092\n",
    "import java.util.Scanner;\n",
    "Scanner input = new Scanner(System.in);\n",
    "int N;\n",
    "System.out.print(\"Masukkan nilai batas: \");\n",
    "N = input.nextInt();\n",
    "for(int i = 0; i < N; i++){\n",
    "    for(int j = 0; j <= i; j++){\n",
    "        System.out.print((i+1));\n",
    "    }\n",
    "    System.out.println();\n",
    "}"
   ]
  },
  {
   "cell_type": "code",
   "execution_count": 6,
   "id": "bc5746f0",
   "metadata": {},
   "outputs": [
    {
     "name": "stdout",
     "output_type": "stream",
     "text": [
      "Masukkan huruf dari nama Anda secara berurutan(kapital):F\n",
      "Masukkan huruf dari nama Anda secara berurutan(kapital):I\n",
      "Masukkan huruf dari nama Anda secara berurutan(kapital):T\n",
      "Masukkan huruf dari nama Anda secara berurutan(kapital):R\n",
      "Masukkan huruf dari nama Anda secara berurutan(kapital):A\n",
      "Masukkan huruf dari nama Anda secara berurutan(kapital):H\n",
      "Masukkan huruf dari nama Anda secara berurutan(kapital):H\n",
      "Masukkan huruf dari nama Anda secara berurutan(kapital):O\n",
      "Masukkan huruf dari nama Anda secara berurutan(kapital):N\n",
      "Masukkan huruf dari nama Anda secara berurutan(kapital):D\n",
      "Masukkan huruf dari nama Anda secara berurutan(kapital):A\n",
      "Masukkan huruf dari nama Anda secara berurutan(kapital):M\n",
      "Masukkan huruf dari nama Anda secara berurutan(kapital):A\n",
      "Masukkan huruf dari nama Anda secara berurutan(kapital):R\n",
      "Masukkan huruf dari nama Anda secara berurutan(kapital):Q\n",
      "Masukkan huruf dari nama Anda secara berurutan(kapital):U\n",
      "Masukkan huruf dari nama Anda secara berurutan(kapital):E\n",
      "Masukkan huruf dari nama Anda secara berurutan(kapital):Z\n",
      "Masukkan huruf dari nama Anda secara berurutan(kapital):B\n",
      "Masukkan huruf dari nama Anda secara berurutan(kapital):E\n",
      "\n",
      "=====================================\n",
      "F I T R A \n",
      "H H O N D \n",
      "A M A R Q \n",
      "U E Z B E \n",
      "\n",
      "=====================================\n",
      "T adalah huruf terbesar pada baris 1 berada di kolom 3\n",
      "O adalah huruf terbesar pada baris 2 berada di kolom 3\n",
      "R adalah huruf terbesar pada baris 3 berada di kolom 4\n",
      "Z adalah huruf terbesar pada baris 4 berada di kolom 3\n"
     ]
    }
   ],
   "source": [
    "//Jawaban nomor 3  Fitrah Rahmadhani Ahmad 2131710092\n",
    "import java.util.Scanner;\n",
    "Scanner input = new Scanner(System.in);\n",
    "char[][] wadah = new char[4][5];\n",
    "int [][] casting = new int[4][5];\n",
    "for(int i = 0; i < wadah.length; i++){\n",
    "    for(int j = 0; j < wadah[0].length; j++){\n",
    "        System.out.print(\"Masukkan huruf dari nama Anda secara berurutan(kapital):\");\n",
    "        wadah[i][j] = input.next().charAt(0);  \n",
    "    }\n",
    "}\n",
    "for(int i = 0; i < wadah.length; i++){\n",
    "    for(int j = 0; j < wadah[0].length; j++){\n",
    "        casting[i][j] = wadah[i][j];\n",
    "    }\n",
    "}\n",
    "System.out.print(\"\\n=====================================\\n\");\n",
    "for(int i = 0; i < wadah.length; i++){\n",
    "    for(int j = 0; j < wadah[0].length; j++){\n",
    "        System.out.print(wadah[i][j] + \" \");\n",
    "    }\n",
    "    System.out.println();\n",
    "}\n",
    "System.out.print(\"\\n=====================================\\n\");\n",
    "int max = 0;\n",
    "int peta = 0;\n",
    "for(int i = 0; i < casting.length; i++){\n",
    "    int lokasi = 0;\n",
    "    max = 0;\n",
    "    for(int j = 0; j < casting[0].length; j++){\n",
    "        if(casting[i][j] > max){\n",
    "            max = casting[i][j];\n",
    "            peta = lokasi;\n",
    "        }\n",
    "        lokasi++;\n",
    "    }\n",
    "    System.out.print((char)max + \" adalah huruf terbesar pada baris \" + (i+1) + \" berada di kolom \" + (peta + 1));\n",
    "    System.out.println();\n",
    "}"
   ]
  },
  {
   "cell_type": "code",
   "execution_count": 47,
   "id": "f08b9a20",
   "metadata": {},
   "outputs": [
    {
     "name": "stdout",
     "output_type": "stream",
     "text": [
      "17-11-2021\n",
      "Hari ini 17 November 2021"
     ]
    }
   ],
   "source": [
    "//Jawaban nomor 4 (Sebelum Revisi)  Fitrah Rahmadhani Ahmad 2131710092\n",
    "import java.text.SimpleDateFormat;\n",
    "import java.util.Date;\n",
    "String[] ini_bulan = {\"Januari\", \"Februari\", \"Maret\", \"April\", \"Mei\", \"Juni\", \"Juli\", \"Agustus\", \"September\", \"Oktober\", \"November\", \"Desember\"};\n",
    "Date tgl = new Date(); //ambil tanggal saat ini\n",
    "\n",
    "SimpleDateFormat d = new SimpleDateFormat(\"d-M-Y\");\n",
    "String ini_tanggal = d.format(tgl);\n",
    "System.out.println(ini_tanggal);\n",
    "\n",
    "System.out.print(\"Hari ini \");\n",
    "\n",
    "SimpleDateFormat d = new SimpleDateFormat(\"d\");\n",
    "String ini_hari = d.format(tgl);\n",
    "System.out.print(ini_hari);\n",
    "\n",
    "System.out.print(\" \"+ ini_bulan[10] + \" \");\n",
    "\n",
    "SimpleDateFormat d = new SimpleDateFormat(\"Y\");\n",
    "String ini_tahun = d.format(tgl);\n",
    "System.out.print(ini_tahun);"
   ]
  },
  {
   "cell_type": "code",
   "execution_count": 5,
   "id": "be94f7c5",
   "metadata": {},
   "outputs": [
    {
     "name": "stdout",
     "output_type": "stream",
     "text": [
      "17-11-2021\n",
      "Hari ini 17 November 2021"
     ]
    }
   ],
   "source": [
    "//Jawaban nomor 4 (Revisi)  Fitrah Rahmadhani Ahmad 2131710092\n",
    "import java.text.SimpleDateFormat;\n",
    "import java.util.Date;\n",
    "String[] data_bulan = {\"Januari\", \"Februari\", \"Maret\", \"April\", \"Mei\", \"Juni\", \"Juli\", \"Agustus\", \"September\", \"Oktober\", \"November\", \"Desember\"};\n",
    "Date tgl = new Date(); //ambil tanggal saat ini\n",
    "\n",
    "SimpleDateFormat d = new SimpleDateFormat(\"d-M-Y\");\n",
    "String ini_tanggal = d.format(tgl);\n",
    "System.out.println(ini_tanggal);\n",
    "\n",
    "System.out.print(\"Hari ini \");\n",
    "\n",
    "SimpleDateFormat d = new SimpleDateFormat(\"d\");\n",
    "String ini_hari = d.format(tgl);\n",
    "System.out.print(ini_hari);\n",
    "\n",
    "SimpleDateFormat d = new SimpleDateFormat(\"M\");\n",
    "String ini_bulan = d.format(tgl);\n",
    "\n",
    "int bulan = Integer.parseInt(ini_bulan);\n",
    "System.out.print(\" \" +  data_bulan[bulan-1] + \" \");\n",
    "\n",
    "\n",
    "SimpleDateFormat d = new SimpleDateFormat(\"Y\");\n",
    "String ini_tahun = d.format(tgl);\n",
    "System.out.print(ini_tahun);"
   ]
  },
  {
   "cell_type": "code",
   "execution_count": null,
   "id": "064a1834",
   "metadata": {},
   "outputs": [],
   "source": []
  }
 ],
 "metadata": {
  "kernelspec": {
   "display_name": "Java",
   "language": "java",
   "name": "java"
  },
  "language_info": {
   "codemirror_mode": "java",
   "file_extension": ".jshell",
   "mimetype": "text/x-java-source",
   "name": "Java",
   "pygments_lexer": "java",
   "version": "17+35-LTS-2724"
  }
 },
 "nbformat": 4,
 "nbformat_minor": 5
}
