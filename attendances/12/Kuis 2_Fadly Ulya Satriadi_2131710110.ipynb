{
 "cells": [
  {
   "cell_type": "markdown",
   "id": "71bc63b5",
   "metadata": {},
   "source": [
    "## 2131710110 - Fadly Ulya Satriadi\n",
    "### Kuis 2"
   ]
  },
  {
   "cell_type": "markdown",
   "id": "3f7d2523",
   "metadata": {},
   "source": [
    "##### Jawaban Soal 1"
   ]
  },
  {
   "cell_type": "code",
   "execution_count": 2,
   "id": "601547aa",
   "metadata": {},
   "outputs": [
    {
     "name": "stdout",
     "output_type": "stream",
     "text": [
      "Masukkan nilai N = 5\n",
      "1\n",
      "12\n",
      "123\n",
      "1234\n",
      "12345\n"
     ]
    }
   ],
   "source": [
    "import java.util.Scanner;\n",
    "Scanner sc = new Scanner(System.in);\n",
    "\n",
    "System.out.print(\"Masukkan nilai N = \");\n",
    "int N = sc.nextInt();\n",
    "\n",
    "for(int i = 1; i<= N; i++){\n",
    "    for(int j = 1; j <= i; j++){\n",
    "        System.out.print(j);\n",
    "    }\n",
    "    System.out.println();\n",
    "}"
   ]
  },
  {
   "cell_type": "markdown",
   "id": "e237dba9",
   "metadata": {},
   "source": [
    "##### Jawaban Soal 2"
   ]
  },
  {
   "cell_type": "code",
   "execution_count": 3,
   "id": "9b344fb5",
   "metadata": {},
   "outputs": [
    {
     "name": "stdout",
     "output_type": "stream",
     "text": [
      "Masukkan nilai N = 5\n",
      "1\n",
      "22\n",
      "333\n",
      "4444\n",
      "55555\n"
     ]
    }
   ],
   "source": [
    "import java.util.Scanner;\n",
    "Scanner input = new Scanner(System.in);\n",
    "\n",
    "System.out.print(\"Masukkan nilai N = \");\n",
    "int N = input.nextInt ();\n",
    "\n",
    "for(int i = 1; i<= N; i++){\n",
    "    for(int j = 1; j <= i; j++){\n",
    "        System.out.print(i);\n",
    "    }\n",
    "    System.out.println();\n",
    "}"
   ]
  },
  {
   "cell_type": "markdown",
   "id": "14cf4b97",
   "metadata": {},
   "source": [
    "##### Jawaban Soal 3"
   ]
  },
  {
   "cell_type": "code",
   "execution_count": 2,
   "id": "a7f2f767",
   "metadata": {},
   "outputs": [
    {
     "name": "stdout",
     "output_type": "stream",
     "text": [
      "Masukkan nama : F\n",
      "Masukkan nama : A\n",
      "Masukkan nama : D\n",
      "Masukkan nama : L\n",
      "Masukkan nama : Y\n",
      " \n",
      "Masukkan nama : U\n",
      "Masukkan nama : L\n",
      "Masukkan nama : Y\n",
      "Masukkan nama : A\n",
      "Masukkan nama : S\n",
      " \n",
      "Masukkan nama : A\n",
      "Masukkan nama : T\n",
      "Masukkan nama : R\n",
      "Masukkan nama : I\n",
      "Masukkan nama : A\n",
      " \n",
      "Masukkan nama : D\n",
      "Masukkan nama : I\n",
      "Masukkan nama : A\n",
      "Masukkan nama : B\n",
      "Masukkan nama : C\n",
      " \n",
      "F A D L Y  \n",
      "U L Y A S  \n",
      "A T R I A  \n",
      "D I A B C  \n",
      "Y adalah huruf terbesar pada baris 1 berada di kolom 5 \n",
      "Y adalah huruf terbesar pada baris 2 berada di kolom 3 \n",
      "T adalah huruf terbesar pada baris 3 berada di kolom 2 \n",
      "I adalah huruf terbesar pada baris 4 berada di kolom 2 \n"
     ]
    }
   ],
   "source": [
    "import java.util.Scanner;\n",
    "    Scanner sc = new Scanner(System.in);\n",
    "    char[][] nama= new char [4][5];\n",
    "    int max;\n",
    "    int x,y;\n",
    "    int indexbaris=0,indexkolom=0;\n",
    "\n",
    "    for(x = 0; x < nama.length; x++){\n",
    "      for(y = 0; y < nama[0].length; y++){\n",
    "        System.out.print(\"Masukkan nama : \");\n",
    "        nama[x][y]=sc.next().charAt(0);\n",
    "      }\n",
    "      System.out.println(\" \");\n",
    "    }\n",
    "\n",
    "    for(x = 0; x < nama.length; x++){\n",
    "      for(y = 0; y < nama[0].length; y++){\n",
    "        System.out.print(nama[x][y]+\" \");\n",
    "      }\n",
    "      System.out.println(\" \");\n",
    "    }\n",
    "\n",
    "    for(x = 0; x < nama.length; x++){\n",
    "      max = 0;\n",
    "      for(y = 0; y < nama[0].length; y++){\n",
    "        if(nama[x][y] > max){\n",
    "          max = nama[x][y];\n",
    "          indexbaris = x;\n",
    "          indexkolom = y;\n",
    "        }\n",
    "      }\n",
    "      System.out.printf(\"%s adalah huruf terbesar pada baris %d berada di kolom %d \\n\", (char)max,(indexbaris+1),(indexkolom+1));\n",
    "    }"
   ]
  },
  {
   "cell_type": "markdown",
   "id": "93693398",
   "metadata": {},
   "source": [
    "##### Jawaban Soal 4"
   ]
  },
  {
   "cell_type": "code",
   "execution_count": 3,
   "id": "6d26739c",
   "metadata": {},
   "outputs": [
    {
     "name": "stdout",
     "output_type": "stream",
     "text": [
      "17 November 2021"
     ]
    }
   ],
   "source": [
    "import java.text.SimpleDateFormat;\n",
    "import java.util.Date;\n",
    "\n",
    "Date tgl = new Date();\n",
    "String month[] = {\"Januari\" , \"Februari\" , \"Maret\" , \"April\" , \"Mei\" , \"Juni\" , \"Juli\" , \"Agustus\" , \"September\" , \"Oktober\" , \"November\" , \"Desember\"};\n",
    "\n",
    "SimpleDateFormat d = new SimpleDateFormat(\"d\");\n",
    "String tanggal = d.format(tgl);\n",
    "SimpleDateFormat d = new SimpleDateFormat(\"M\");\n",
    "String ini_bulan = d.format(tgl);\n",
    "int bulan = Integer.parseInt(ini_bulan);\n",
    "SimpleDateFormat d = new SimpleDateFormat(\"Y\");\n",
    "String tahun = d.format(tgl);\n",
    "System.out.print(tanggal+\" \"+(month[bulan-1])+\" \"+tahun);"
   ]
  }
 ],
 "metadata": {
  "kernelspec": {
   "display_name": "Java",
   "language": "java",
   "name": "java"
  },
  "language_info": {
   "codemirror_mode": "java",
   "file_extension": ".jshell",
   "mimetype": "text/x-java-source",
   "name": "Java",
   "pygments_lexer": "java",
   "version": "16.0.2+7-67"
  }
 },
 "nbformat": 4,
 "nbformat_minor": 5
}
