{
 "cells": [
  {
   "cell_type": "markdown",
   "id": "28edc0ed",
   "metadata": {},
   "source": [
    "##### NAMA : RASYID RAZEKA ALAMSYAH\n",
    "##### NIM : 2131710077"
   ]
  },
  {
   "cell_type": "markdown",
   "id": "b2898c82",
   "metadata": {},
   "source": [
    "# NOMOR 1"
   ]
  },
  {
   "cell_type": "code",
   "execution_count": 1,
   "id": "a7a3ee91",
   "metadata": {},
   "outputs": [
    {
     "name": "stdout",
     "output_type": "stream",
     "text": [
      "Masukkan angka yang diinginkan 5\n",
      "1\n",
      "12\n",
      "123\n",
      "1234\n",
      "12345\n"
     ]
    }
   ],
   "source": [
    "Scanner sc = new Scanner(System.in);\n",
    "int angka;\n",
    "System.out.print(\"Masukkan angka yang diinginkan \");\n",
    "angka = sc.nextInt();\n",
    "for(int i=1; i<=angka; i++){\n",
    "    for(int j=1; j<=i; j++){\n",
    "        System.out.print(j);\n",
    "    }\n",
    "    System.out.println();\n",
    "}"
   ]
  },
  {
   "cell_type": "markdown",
   "id": "7e78facc",
   "metadata": {},
   "source": [
    "# NOMOR 2"
   ]
  },
  {
   "cell_type": "code",
   "execution_count": 2,
   "id": "2ca3a1a4",
   "metadata": {},
   "outputs": [
    {
     "name": "stdout",
     "output_type": "stream",
     "text": [
      "Masukkan angka yang diinginkan 5\n",
      "1\n",
      "22\n",
      "333\n",
      "4444\n",
      "55555\n"
     ]
    }
   ],
   "source": [
    "Scanner input = new Scanner(System.in);\n",
    "int angka;\n",
    "System.out.print(\"Masukkan angka yang diinginkan \");\n",
    "angka = input.nextInt();\n",
    "for(int i=1; i<=angka; i++){\n",
    "    for(int j=1; j<=i; j++){\n",
    "        System.out.print(i);\n",
    "    }\n",
    "    System.out.println();\n",
    "}"
   ]
  },
  {
   "cell_type": "markdown",
   "id": "36501688",
   "metadata": {},
   "source": [
    "# NOMOR 3"
   ]
  },
  {
   "cell_type": "code",
   "execution_count": 3,
   "id": "fb2ce1dd",
   "metadata": {},
   "outputs": [
    {
     "name": "stdout",
     "output_type": "stream",
     "text": [
      "I N F O R \n",
      "M A T I K \n",
      "A P O L I \n",
      "N E M A A \n",
      "\n",
      "\n",
      "R adalah huruf terbesar pada baris 1 berada di kolom 5\n",
      "T adalah huruf terbesar pada baris 2 berada di kolom 3\n",
      "P adalah huruf terbesar pada baris 3 berada di kolom 2\n",
      "N adalah huruf terbesar pada baris 4 berada di kolom 1\n"
     ]
    }
   ],
   "source": [
    "import java.util.Scanner;\n",
    "Scanner input = new Scanner(System.in);\n",
    "\n",
    "int [][] casting = new int[4][5];\n",
    "char [][]namaMhs= {\n",
    "{'I' , 'N' , 'F' , 'O' , 'R' },\n",
    "{'M' , 'A' , 'T' , 'I' , 'K' },\n",
    "{'A' , 'P' , 'O' , 'L' , 'I' },\n",
    "{'N' , 'E' , 'M' , 'A' , 'A' },\n",
    "};\n",
    "int max, kolom;\n",
    "\n",
    "for(int i = 0; i < namaMhs.length; i++){\n",
    "    for(int j = 0; j < namaMhs[0].length; j++){\n",
    "    System.out.print(namaMhs[i][j] + \" \");\n",
    "    }\n",
    "    System.out.println();\n",
    "}\n",
    "System.out.println(\"\");\n",
    "\n",
    "for(int i = 0; i < namaMhs.length; i++){\n",
    "    for(int j = 0; j < namaMhs[0].length; j++){\n",
    "    casting[i][j] = namaMhs[i][j];\n",
    "    }\n",
    "}\n",
    "System.out.println(\"\");\n",
    "\n",
    "for(int i = 0; i < casting.length; i++){\n",
    "    int lokasi = 0;\n",
    "    max = 0;\n",
    "    for(int j = 0; j < casting[0].length; j++){\n",
    "        if(casting[i][j] > max){\n",
    "        max = casting[i][j];\n",
    "        kolom = lokasi;\n",
    "        }\n",
    "        lokasi++;\n",
    "    }\n",
    "    System.out.print((char)max + \" adalah huruf terbesar pada baris \" + (i+1) + \" berada di kolom \" + (kolom + 1));\n",
    "    System.out.println();\n",
    "}"
   ]
  },
  {
   "cell_type": "markdown",
   "id": "988179ad",
   "metadata": {},
   "source": [
    "# NOMOR 4"
   ]
  },
  {
   "cell_type": "code",
   "execution_count": 3,
   "id": "f5cfdac1",
   "metadata": {},
   "outputs": [
    {
     "name": "stdout",
     "output_type": "stream",
     "text": [
      "17 November 2021"
     ]
    }
   ],
   "source": [
    "import java.text.SimpleDateFormat;\n",
    "import java.util.Date;\n",
    "\n",
    "Date tgl = new Date();\n",
    "String bulann[] = {\"Januari\" , \"Februari\" , \"Maret\" , \"April\" , \"Mei\" , \"Juni\" , \"Juli\" , \"Agustus\" , \"September\" , \"Oktober\" , \"November\" , \"Desember\"};\n",
    "\n",
    "SimpleDateFormat d = new SimpleDateFormat(\"d\");\n",
    "String tanggal = d.format(tgl);\n",
    "\n",
    "SimpleDateFormat d = new SimpleDateFormat(\"M\");\n",
    "String ini_bulan = d.format(tgl);\n",
    "int bulan = Integer.parseInt(ini_bulan);\n",
    "\n",
    "SimpleDateFormat d = new SimpleDateFormat(\"Y\");\n",
    "String tahun = d.format(tgl);\n",
    "\n",
    "System.out.print(tanggal+\" \"+(bulann[bulan-1])+\" \"+tahun);"
   ]
  },
  {
   "cell_type": "code",
   "execution_count": null,
   "id": "f2848951",
   "metadata": {},
   "outputs": [],
   "source": []
  }
 ],
 "metadata": {
  "kernelspec": {
   "display_name": "Java",
   "language": "java",
   "name": "java"
  },
  "language_info": {
   "codemirror_mode": "java",
   "file_extension": ".jshell",
   "mimetype": "text/x-java-source",
   "name": "Java",
   "pygments_lexer": "java",
   "version": "11.0.12+8-LTS-237"
  }
 },
 "nbformat": 4,
 "nbformat_minor": 5
}
