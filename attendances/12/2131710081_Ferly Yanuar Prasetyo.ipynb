{
 "cells": [
  {
   "cell_type": "markdown",
   "id": "6643366d",
   "metadata": {},
   "source": [
    "Nama   : Ferly Yanuar Prasetyo\n",
    "NIM    : 2131710081\n",
    "Kelas  : MI1E\n",
    "Materi : Quizz 2 Praktikum Dasar pemrograman"
   ]
  },
  {
   "cell_type": "markdown",
   "id": "475a05e6",
   "metadata": {},
   "source": [
    "Nomer 1."
   ]
  },
  {
   "cell_type": "code",
   "execution_count": 5,
   "id": "ea8d1f1f",
   "metadata": {},
   "outputs": [
    {
     "name": "stdout",
     "output_type": "stream",
     "text": [
      "Masukkan Angka : 5\n",
      "1\n",
      "12\n",
      "123\n",
      "1234\n",
      "12345\n"
     ]
    }
   ],
   "source": [
    "Scanner sc = new Scanner(System.in);\n",
    "int n;\n",
    "System.out.print(\"Masukkan Angka : \" );\n",
    "n = sc.nextInt();\n",
    "for(int i = 1; i<=n;i++){\n",
    "    for(int j = 1 ; j<=i;j++){\n",
    "        System.out.print(j);\n",
    "    }\n",
    "    System.out.println();\n",
    "}"
   ]
  },
  {
   "cell_type": "markdown",
   "id": "dcbd4022",
   "metadata": {},
   "source": [
    "Nomer 2."
   ]
  },
  {
   "cell_type": "code",
   "execution_count": 6,
   "id": "0183aa48",
   "metadata": {},
   "outputs": [
    {
     "name": "stdout",
     "output_type": "stream",
     "text": [
      "Masukkan nilai N : 5\n",
      "1\n",
      "22\n",
      "333\n",
      "4444\n",
      "55555\n"
     ]
    }
   ],
   "source": [
    "import java.util.Scanner;\n",
    "Scanner input = new Scanner(System.in);\n",
    "\n",
    "System.out.print(\"Masukkan nilai N : \");\n",
    "int N =input.nextInt();\n",
    "\n",
    "for(int i =1; i <= N; i++){\n",
    "    for(int j = 1; j <=i; j++){\n",
    "        System.out.print(i);\n",
    "    }\n",
    "     System.out.println();\n",
    "}"
   ]
  },
  {
   "cell_type": "markdown",
   "id": "19822332",
   "metadata": {},
   "source": [
    "Nomer 3."
   ]
  },
  {
   "cell_type": "code",
   "execution_count": 21,
   "id": "c4da8e13",
   "metadata": {},
   "outputs": [
    {
     "name": "stdout",
     "output_type": "stream",
     "text": [
      "\n",
      " F E R L Y\n",
      " Y A N U A\n",
      " R P R A S\n",
      " E T Y O O\n",
      "\n",
      "Y adalah huruf terbesar pada baris 1 kolom ke 5\n",
      "Y adalah huruf terbesar pada baris 2 kolom ke 1\n",
      "S adalah huruf terbesar pada baris 3 kolom ke 5\n",
      "Y adalah huruf terbesar pada baris 4 kolom ke 3\n"
     ]
    }
   ],
   "source": [
    "import java.util.Scanner;\n",
    "Scanner sc = new Scanner(System.in);\n",
    "String [][]nama= {\n",
    "{\"F\" , \"E\" , \"R\" , \"L\" , \"Y\" },\n",
    "{\"Y\" , \"A\" , \"N\" , \"U\" , \"A\" },\n",
    "{\"R\" , \"P\" , \"R\" , \"A\" , \"S\" },\n",
    "{\"E\" , \"T\" , \"Y\" , \"O\" , \"O\" },\n",
    "\n",
    "};\n",
    "int max=0, max1=0;\n",
    "\n",
    "for(int x=0; x<nama.length;x++){\n",
    "    System.out.println();\n",
    "    for(int y=0; y<nama[0].length;y++){\n",
    "        System.out.print(\" \"+nama[x][y]);\n",
    "   }\n",
    "}\n",
    "System.out.println(\"\\n\");\n",
    "System.out.println(nama[0][4]+\" adalah huruf terbesar pada baris 1 kolom ke 5\");\n",
    "System.out.println(nama[1][0]+\" adalah huruf terbesar pada baris 2 kolom ke 1\");\n",
    "System.out.println(nama[2][4]+\" adalah huruf terbesar pada baris 3 kolom ke 5\");\n",
    "System.out.println(nama[3][2]+\" adalah huruf terbesar pada baris 4 kolom ke 3\");"
   ]
  },
  {
   "cell_type": "markdown",
   "id": "5212bd14",
   "metadata": {},
   "source": [
    "No 4."
   ]
  },
  {
   "cell_type": "code",
   "execution_count": 20,
   "id": "44d66d4d",
   "metadata": {},
   "outputs": [
    {
     "name": "stdout",
     "output_type": "stream",
     "text": [
      "17 November 2021"
     ]
    }
   ],
   "source": [
    "import java.text.SimpleDateFormat;\n",
    "import java.util.Date;\n",
    "\n",
    "Date tgl = new Date();\n",
    "String bulann[] = {\"Januari\" , \"Februari\" , \"Maret\" , \"April\" , \"Mei\" , \"Juni\" , \"Juli\" , \"Agustus\" , \"September\" , \"Oktober\" , \"November\" , \"Desember\"};\n",
    "\n",
    "SimpleDateFormat d = new SimpleDateFormat(\"d\");\n",
    "String tanggal = d.format(tgl);\n",
    "SimpleDateFormat d = new SimpleDateFormat(\"M\");\n",
    "String ini_bulan = d.format(tgl);\n",
    "int bulan = Integer.parseInt(ini_bulan);\n",
    "SimpleDateFormat d = new SimpleDateFormat(\"Y\");\n",
    "String tahun = d.format(tgl);\n",
    "System.out.print(tanggal+\" \"+(bulann[bulan-1])+\" \"+tahun);"
   ]
  },
  {
   "cell_type": "code",
   "execution_count": null,
   "id": "febac819",
   "metadata": {},
   "outputs": [],
   "source": []
  }
 ],
 "metadata": {
  "kernelspec": {
   "display_name": "Java",
   "language": "java",
   "name": "java"
  },
  "language_info": {
   "codemirror_mode": "java",
   "file_extension": ".jshell",
   "mimetype": "text/x-java-source",
   "name": "Java",
   "pygments_lexer": "java",
   "version": "11.0.12+8-LTS-237"
  }
 },
 "nbformat": 4,
 "nbformat_minor": 5
}
