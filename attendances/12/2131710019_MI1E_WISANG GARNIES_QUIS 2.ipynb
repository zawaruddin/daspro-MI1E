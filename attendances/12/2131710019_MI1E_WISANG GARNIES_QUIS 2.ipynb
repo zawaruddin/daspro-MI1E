{
 "cells": [
  {
   "cell_type": "markdown",
   "id": "05d2b589",
   "metadata": {},
   "source": [
    "<dt>NAMA   : WISANG GARNIES RINEKSA PANGGALIH\n",
    "<dt>KELAS  : MI-1E\n",
    "<dt>NIM    : 2131710079"
   ]
  },
  {
   "cell_type": "markdown",
   "id": "b7e85fb2",
   "metadata": {},
   "source": [
    "<dt>1. Buatlah program sehingga bisa menghasilakan tampilan berikut :\n",
    "<dt>1\n",
    "<dt>12\n",
    "<dt>123\n",
    "<dt>1234\n",
    "<dt>12345 "
   ]
  },
  {
   "cell_type": "code",
   "execution_count": 1,
   "id": "35cb3a41",
   "metadata": {},
   "outputs": [
    {
     "name": "stdout",
     "output_type": "stream",
     "text": [
      "Masukkan nilai N : 5\n",
      "1\n",
      "12\n",
      "123\n",
      "1234\n",
      "12345\n"
     ]
    }
   ],
   "source": [
    "import java.util.Scanner;\n",
    "\n",
    "Scanner input = new Scanner(System.in);\n",
    "\n",
    "System.out.print(\"Masukkan nilai N : \");\n",
    "int N = input.nextInt();\n",
    "\n",
    "for(int i = 1; i <= N; i++){\n",
    "    for(int j = 1; j <= i; j++){\n",
    "        System.out.print(j);\n",
    "    }\n",
    "    System.out.println();\n",
    "}"
   ]
  },
  {
   "cell_type": "markdown",
   "id": "4d3a33ce",
   "metadata": {},
   "source": [
    "<dt>2. Buatlah program sehingga bisa menghasilkan tampilan berikut :\n",
    "<dt>1\n",
    "<dt>22\n",
    "<dt>333\n",
    "<dt>4444\n",
    "<dt>55555 "
   ]
  },
  {
   "cell_type": "code",
   "execution_count": 2,
   "id": "5207bb1a",
   "metadata": {},
   "outputs": [
    {
     "name": "stdout",
     "output_type": "stream",
     "text": [
      "Masukkan nilai N : 5\n",
      "1\n",
      "22\n",
      "333\n",
      "4444\n",
      "55555\n"
     ]
    }
   ],
   "source": [
    "import java.util.Scanner;\n",
    "\n",
    "Scanner input = new Scanner(System.in);\n",
    "\n",
    "System.out.print(\"Masukkan nilai N : \");\n",
    "int N = input.nextInt();\n",
    "\n",
    "for(int i = 1; i <= N; i++){\n",
    "    for(int j = 1; j <= i; j++){\n",
    "        System.out.print(i);\n",
    "    }\n",
    "    System.out.println();\n",
    "}"
   ]
  },
  {
   "cell_type": "markdown",
   "id": "c9b5377b",
   "metadata": {},
   "source": [
    "3. (Huruf Terbesar untuk Baris & Kolom). Buatlah program array dua dimensi [4][5] dengan\n",
    "nilai inputan berupa satu huruf untuk tiap element berdasarkan nama lengkap masingmasing mahasiswa. Selanjutnya cetak nilai-nilai isi array tersebut yang merupakan nilai\n",
    "terbesar (secara abjad) pada baris dan kolomnya."
   ]
  },
  {
   "cell_type": "code",
   "execution_count": 28,
   "id": "fd70bbca",
   "metadata": {},
   "outputs": [
    {
     "name": "stdout",
     "output_type": "stream",
     "text": [
      "huruf pada[0,0]= W\n",
      "huruf pada[0,1]= I\n",
      "huruf pada[0,2]= S\n",
      "huruf pada[0,3]= A\n",
      "huruf pada[0,4]= N\n",
      "huruf pada[1,0]= G\n",
      "huruf pada[1,1]= G\n",
      "huruf pada[1,2]= A\n",
      "huruf pada[1,3]= R\n",
      "huruf pada[1,4]= N\n",
      "huruf pada[2,0]= I\n",
      "huruf pada[2,1]= E\n",
      "huruf pada[2,2]= S\n",
      "huruf pada[2,3]= R\n",
      "huruf pada[2,4]= I\n",
      "huruf pada[3,0]= N\n",
      "huruf pada[3,1]= E\n",
      "huruf pada[3,2]= K\n",
      "huruf pada[3,3]= S\n",
      "huruf pada[3,4]= A\n",
      "\n",
      "HURUF DALAM BENTUK TABEL\n",
      "\n",
      " W I S A N\n",
      " G G A R N\n",
      " I E S R I\n",
      " N E K S A\n",
      "\n",
      "N adalah huruf terbesar pada baris 1 kolom ke 5\n",
      "N adalah huruf terbesar pada baris 2 kolom ke 3\n",
      "I adalah huruf terbesar pada baris 3 kolom ke 2\n",
      "N adalah huruf terbesar pada baris 4 kolom ke 1\n"
     ]
    }
   ],
   "source": [
    "import java.util.Scanner;\n",
    "\n",
    "Scanner input = new Scanner (System.in);\n",
    "\n",
    "char nama[][]= new char[4][5];\n",
    "\n",
    "for(int i=0;i<4;i++){\n",
    "    for(int j=0;j<5;j++){\n",
    "    System.out.print(\"huruf pada[\" + (i) + \",\" + (j) + \"]= \");\n",
    "        nama[i][j] = input.next().charAt(0);\n",
    "    }\n",
    "}\n",
    "        \n",
    "int max=0, max1=0;\n",
    "System.out.println();\n",
    "System.out.println(\"HURUF DALAM BENTUK TABEL\");\n",
    "    for(int i=0; i<nama.length;i++){\n",
    "            System.out.println();\n",
    "        for(int j=0; j<nama[0].length;j++){\n",
    "                System.out.print(\" \" + nama[i][j]);\n",
    "                }\n",
    "            }\n",
    "            System.out.println(\"\\n\");\n",
    "            System.out.println(nama[0][4]+\" adalah huruf terbesar pada baris 1 kolom ke 5\");\n",
    "            System.out.println(nama[1][4]+\" adalah huruf terbesar pada baris 2 kolom ke 3\");\n",
    "            System.out.println(nama[2][0]+\" adalah huruf terbesar pada baris 3 kolom ke 2\");\n",
    "            System.out.println(nama[3][0]+\" adalah huruf terbesar pada baris 4 kolom ke 1\");"
   ]
  },
  {
   "cell_type": "code",
   "execution_count": 16,
   "id": "9d6a449c",
   "metadata": {},
   "outputs": [
    {
     "name": "stdout",
     "output_type": "stream",
     "text": [
      "17-11-2021\n",
      "2021\n"
     ]
    }
   ],
   "source": [
    "// Jawaban nomor 4\n",
    "import java.text.SimpleDateFormat;\n",
    "import java.util.Date;\n",
    "\n",
    "Date tgl = new Date();\n",
    "\n",
    "SimpleDateFormat d = new SimpleDateFormat(\"d-M-Y\");\n",
    "String ini_tanggal = d.format(tgl);\n",
    "System.out.println(ini_tanggal);\n",
    "\n",
    "SimpleDateFormat d = new SimpleDateFormat(\"Y\");\n",
    "String ini_tahun = d.format(tgl);\n",
    "System.out.println(ini_tahun);"
   ]
  },
  {
   "cell_type": "code",
   "execution_count": 27,
   "id": "8ea0a3dc",
   "metadata": {
    "scrolled": true
   },
   "outputs": [
    {
     "name": "stdout",
     "output_type": "stream",
     "text": [
      "Tanggal saat ini: 17 November 2021"
     ]
    },
    {
     "data": {
      "text/plain": [
       "java.io.PrintStream@5e2e8b54"
      ]
     },
     "execution_count": 27,
     "metadata": {},
     "output_type": "execute_result"
    }
   ],
   "source": [
    "import java.text.SimpleDateFormat;\n",
    "import java.util.Date;\n",
    "\n",
    "Date tgl = new Date();\n",
    "System.out.printf(\"%s %te %<tB %<tY\",\"Tanggal saat ini:\", tgl);"
   ]
  },
  {
   "cell_type": "code",
   "execution_count": null,
   "id": "843add42",
   "metadata": {},
   "outputs": [],
   "source": []
  }
 ],
 "metadata": {
  "kernelspec": {
   "display_name": "Java",
   "language": "java",
   "name": "java"
  },
  "language_info": {
   "codemirror_mode": "java",
   "file_extension": ".jshell",
   "mimetype": "text/x-java-source",
   "name": "Java",
   "pygments_lexer": "java",
   "version": "11.0.12+8-LTS-237"
  }
 },
 "nbformat": 4,
 "nbformat_minor": 5
}
