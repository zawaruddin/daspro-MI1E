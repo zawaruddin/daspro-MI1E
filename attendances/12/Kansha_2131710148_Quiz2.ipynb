{
 "cells": [
  {
   "cell_type": "markdown",
   "id": "d8bae1b3",
   "metadata": {},
   "source": [
    "Nama : Kansha Maulidya Shyfa\n",
    "\n",
    "Kelas : MI-1E\n",
    "\n",
    "NIM : 2131710148"
   ]
  },
  {
   "cell_type": "code",
   "execution_count": 31,
   "id": "66a0c9bf",
   "metadata": {},
   "outputs": [
    {
     "name": "stdout",
     "output_type": "stream",
     "text": [
      "Nilai N = 5\n",
      "1\n",
      "12\n",
      "123\n",
      "1234\n",
      "12345\n"
     ]
    }
   ],
   "source": [
    "// soal no 1\n",
    "\n",
    "import java.util.Scanner;\n",
    "Scanner sc = new Scanner(System.in);\n",
    "System.out.print(\"Nilai N = \");\n",
    "int N = sc.nextInt();\n",
    "for(int i = 1; i <= 5; i++){\n",
    "    for(int j = 1; j <= i; j++){\n",
    "        System.out.print(j);\n",
    "    }\n",
    "    System.out.println();\n",
    "}"
   ]
  },
  {
   "cell_type": "code",
   "execution_count": 30,
   "id": "c98f25d7",
   "metadata": {},
   "outputs": [
    {
     "name": "stdout",
     "output_type": "stream",
     "text": [
      "Nilai N = 5\n",
      "1\n",
      "22\n",
      "333\n",
      "4444\n",
      "55555\n"
     ]
    }
   ],
   "source": [
    "// soal no 2\n",
    "\n",
    "import java.util.Scanner;\n",
    "Scanner sc = new Scanner(System.in);\n",
    "System.out.print(\"Nilai N = \");\n",
    "int N = sc.nextInt();\n",
    "for(int i = 1; i <= 5; i++){\n",
    "    for(int j = 1; j <= i; j++){\n",
    "        System.out.print(i*1);\n",
    "    }\n",
    "    System.out.println();\n",
    "}"
   ]
  },
  {
   "cell_type": "code",
   "execution_count": 5,
   "id": "74f64703",
   "metadata": {},
   "outputs": [
    {
     "name": "stdout",
     "output_type": "stream",
     "text": [
      "\n",
      " K A N S H\n",
      " A M A U L\n",
      " I D Y A S\n",
      " H Y F A Q\n",
      "\n",
      "N adalah huruf terbesar pada baris 1 kolom ke 3\n",
      "U adalah huruf terbesar pada baris 2 kolom ke 4\n",
      "S adalah huruf terbesar pada baris 3 kolom ke 5\n",
      "Q adalah huruf terbesar pada baris 4 kolom ke 5\n"
     ]
    }
   ],
   "source": [
    "// soal no 3\n",
    "import java.util.Scanner;\n",
    "Scanner sc = new Scanner(System.in);\n",
    "String [][]nama = {\n",
    "    {\"K\" , \"A\" , \"N\" , \"S\" , \"H\" },\n",
    "    {\"A\" , \"M\" , \"A\" , \"U\", \"L\" }, \n",
    "     {\"I\" , \"D\" , \"Y\" , \"A\", \"S\" },\n",
    "      {\"H\" , \"Y\" , \"F\" , \"A\", \"Q\" },\n",
    "};\n",
    "int max = 0, max1 = 0;\n",
    "for (int x = 0; x < nama.length; x++){\n",
    "    System.out.println();\n",
    "        for(int y = 0; y < nama[0].length; y++){\n",
    "        System.out.print(\" \"+ nama[x][y]);\n",
    "    }\n",
    "}\n",
    "    System.out.println(\"\\n\");\n",
    "    System.out.println(nama[0][2]+\" adalah huruf terbesar pada baris 1 kolom ke 3\");\n",
    "    System.out.println(nama[1][3]+\" adalah huruf terbesar pada baris 2 kolom ke 4\");\n",
    "    System.out.println(nama[2][4]+\" adalah huruf terbesar pada baris 3 kolom ke 5\");\n",
    "    System.out.println(nama[3][4]+\" adalah huruf terbesar pada baris 4 kolom ke 5\");\n",
    "\n"
   ]
  },
  {
   "cell_type": "code",
   "execution_count": 26,
   "id": "095c8311",
   "metadata": {},
   "outputs": [
    {
     "name": "stdout",
     "output_type": "stream",
     "text": [
      "17November2021"
     ]
    }
   ],
   "source": [
    "// soal no 4\n",
    "import java.text.SimpleDateFormat;\n",
    "import java.util.Date;\n",
    "\n",
    "Date tgl = new Date();\n",
    "\n",
    "SimpleDateFormat d = new SimpleDateFormat(\"d\");\n",
    "String ini_tanggal = d.format(tgl);\n",
    "System.out.print(ini_tanggal);\n",
    "\n",
    "SimpleDateFormat d = new SimpleDateFormat(\"MMMM\");\n",
    "String ini_bulan = d.format(tgl);\n",
    "System.out.print(ini_bulan);\n",
    "\n",
    "SimpleDateFormat d = new SimpleDateFormat(\"Y\");\n",
    "String ini_tahun = d.format(tgl);\n",
    "System.out.print(ini_tahun);"
   ]
  }
 ],
 "metadata": {
  "kernelspec": {
   "display_name": "Java",
   "language": "java",
   "name": "java"
  },
  "language_info": {
   "codemirror_mode": "java",
   "file_extension": ".jshell",
   "mimetype": "text/x-java-source",
   "name": "Java",
   "pygments_lexer": "java",
   "version": "11.0.12+8-LTS-237"
  }
 },
 "nbformat": 4,
 "nbformat_minor": 5
}
