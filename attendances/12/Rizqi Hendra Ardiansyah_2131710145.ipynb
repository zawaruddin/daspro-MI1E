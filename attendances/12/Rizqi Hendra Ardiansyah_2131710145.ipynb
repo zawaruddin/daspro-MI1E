{
 "cells": [
  {
   "cell_type": "markdown",
   "id": "d33d6caf",
   "metadata": {},
   "source": [
    "#### Nama : Rizqi Hendra Ardiansyah ####\n",
    "#### Kelas : MI-1E ####\n",
    "#### NIM    : 2131710145 ####"
   ]
  },
  {
   "cell_type": "markdown",
   "id": "62ac0d9f",
   "metadata": {},
   "source": [
    "# Jawaban Quiz 2 #"
   ]
  },
  {
   "cell_type": "code",
   "execution_count": 1,
   "id": "240aa0e2",
   "metadata": {},
   "outputs": [
    {
     "name": "stdout",
     "output_type": "stream",
     "text": [
      "Masukkan nilai N : 5\n",
      "1\n",
      "12\n",
      "123\n",
      "1234\n",
      "12345\n"
     ]
    }
   ],
   "source": [
    "//soal nomor 1\n",
    "\n",
    "import java.util.Scanner;\n",
    "\n",
    "Scanner input = new Scanner (System.in);\n",
    "\n",
    "System.out.print(\"Masukkan nilai N : \");\n",
    "int N = input.nextInt();\n",
    "\n",
    "for (int i = 1; i <= N; i++){\n",
    "    for (int j = 1; j<= i; j++){\n",
    "        System.out.print(j);\n",
    "    }\n",
    "    System.out.println();\n",
    "}"
   ]
  },
  {
   "cell_type": "code",
   "execution_count": 2,
   "id": "a6373d6b",
   "metadata": {},
   "outputs": [
    {
     "name": "stdout",
     "output_type": "stream",
     "text": [
      "Masukkan nilai N : 5\n",
      "1\n",
      "22\n",
      "333\n",
      "4444\n",
      "55555\n"
     ]
    }
   ],
   "source": [
    "//soal nomor 2\n",
    "\n",
    "import java.util.Scanner;\n",
    "Scanner input = new Scanner (System.in);\n",
    "System.out.print(\"Masukkan nilai N : \");\n",
    "int N = input.nextInt();\n",
    "\n",
    "for(int i = 1; i <= N; i++){\n",
    "    for(int j = 1; j <= i; j++){\n",
    "        System.out.print(i);\n",
    "    }\n",
    "    System.out.println();\n",
    "}"
   ]
  },
  {
   "cell_type": "code",
   "execution_count": 15,
   "id": "331a0d8d",
   "metadata": {},
   "outputs": [
    {
     "name": "stdout",
     "output_type": "stream",
     "text": [
      "\n",
      " R I Z Q I\n",
      " H E N D R\n",
      " A R D I A\n",
      " N S Y A H\n",
      "\n",
      "Z adalah huruf terbesar pada baris 1 kolom ke 5\n",
      "R adalah huruf terbesar pada baris 2 kolom ke 3\n",
      "R adalah huruf terbesar pada baris 3 kolom ke 2\n",
      "Y adalah huruf terbesar pada baris 4 kolom ke 1\n"
     ]
    }
   ],
   "source": [
    "//soal nomor 3\n",
    "\n",
    "import java.util.Scanner;\n",
    "Scanner sc = new Scanner(System.in);\n",
    "    String [][]nama= {\n",
    "    {\"R\" , \"I\" , \"Z\" , \"Q\" , \"I\" },\n",
    "    {\"H\" , \"E\" , \"N\" , \"D\" , \"R\" },\n",
    "    {\"A\" , \"R\" , \"D\" , \"I\" , \"A\" },\n",
    "    {\"N\" , \"S\" , \"Y\" , \"A\" , \"H\" },\n",
    "\n",
    "};\n",
    "    int max=0, max1=0;\n",
    "\n",
    "    for(int x=0; x<nama.length;x++){\n",
    "            System.out.println();\n",
    "        for(int y=0; y<nama[0].length;y++){\n",
    "                System.out.print(\" \"+nama[x][y]);\n",
    "                }\n",
    "            }\n",
    "            System.out.println(\"\\n\");\n",
    "            System.out.println(nama[0][2]+\" adalah huruf terbesar pada baris 1 kolom ke 5\");\n",
    "            System.out.println(nama[1][4]+\" adalah huruf terbesar pada baris 2 kolom ke 3\");\n",
    "            System.out.println(nama[2][1]+\" adalah huruf terbesar pada baris 3 kolom ke 2\");\n",
    "            System.out.println(nama[3][2]+\" adalah huruf terbesar pada baris 4 kolom ke 1\");\n"
   ]
  },
  {
   "cell_type": "code",
   "execution_count": 7,
   "id": "a605362f",
   "metadata": {},
   "outputs": [
    {
     "name": "stdout",
     "output_type": "stream",
     "text": [
      "17 November 2021"
     ]
    }
   ],
   "source": [
    "//soal nomor 4\n",
    "\n",
    "import java.text.SimpleDateFormat;\n",
    "import java.util.Date;\n",
    "\n",
    "Date tgl = new Date();\n",
    "String bulann[] = {\"Januari\" , \"Februari\" , \"Maret\" , \"April\" , \"Mei\" , \"Juni\" , \"Juli\" , \"Agustus\" , \"September\" , \"Oktober\" , \"November\" , \"Desember\"};\n",
    "\n",
    "SimpleDateFormat d = new SimpleDateFormat(\"d\");\n",
    "String tanggal = d.format(tgl);\n",
    "SimpleDateFormat d = new SimpleDateFormat(\"M\");\n",
    "String ini_bulan = d.format(tgl);\n",
    "int bulan = Integer.parseInt(ini_bulan);\n",
    "SimpleDateFormat d = new SimpleDateFormat(\"Y\");\n",
    "String tahun = d.format(tgl);\n",
    "System.out.print(tanggal+\" \"+(bulann[bulan-1])+\" \"+tahun);"
   ]
  }
 ],
 "metadata": {
  "kernelspec": {
   "display_name": "Java",
   "language": "java",
   "name": "java"
  },
  "language_info": {
   "codemirror_mode": "java",
   "file_extension": ".jshell",
   "mimetype": "text/x-java-source",
   "name": "Java",
   "pygments_lexer": "java",
   "version": "11.0.12+8-LTS-237"
  }
 },
 "nbformat": 4,
 "nbformat_minor": 5
}
