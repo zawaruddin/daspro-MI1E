{
 "cells": [
  {
   "cell_type": "markdown",
   "id": "c13f9f31",
   "metadata": {},
   "source": [
    "##### NAMA : RASYID RAZEKA ALAMSYAH\n",
    "##### NIM : 2131710077"
   ]
  },
  {
   "cell_type": "markdown",
   "id": "ab101545",
   "metadata": {},
   "source": [
    "# KUIS 2 NOMOR 1"
   ]
  },
  {
   "cell_type": "code",
   "execution_count": 2,
   "id": "560da078",
   "metadata": {},
   "outputs": [
    {
     "name": "stdout",
     "output_type": "stream",
     "text": [
      "Masukkan angka yang diinginkan 5\n",
      "1\n",
      "12\n",
      "123\n",
      "1234\n",
      "12345\n"
     ]
    }
   ],
   "source": [
    "Scanner sc = new Scanner(System.in);\n",
    "int angka;\n",
    "System.out.print(\"Masukkan angka yang diinginkan \");\n",
    "angka = sc.nextInt();\n",
    "for(int i=1; i<=angka; i++){\n",
    "    for(int j=1; j<=i; j++){\n",
    "        System.out.print(j);\n",
    "    }\n",
    "    System.out.println();\n",
    "}"
   ]
  },
  {
   "cell_type": "code",
   "execution_count": null,
   "id": "9cade017",
   "metadata": {},
   "outputs": [],
   "source": []
  }
 ],
 "metadata": {
  "kernelspec": {
   "display_name": "Java",
   "language": "java",
   "name": "java"
  },
  "language_info": {
   "codemirror_mode": "java",
   "file_extension": ".jshell",
   "mimetype": "text/x-java-source",
   "name": "Java",
   "pygments_lexer": "java",
   "version": "11.0.12+8-LTS-237"
  }
 },
 "nbformat": 4,
 "nbformat_minor": 5
}
