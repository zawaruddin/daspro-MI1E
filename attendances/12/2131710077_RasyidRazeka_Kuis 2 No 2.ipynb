{
 "cells": [
  {
   "cell_type": "markdown",
   "id": "f3e5d45f",
   "metadata": {},
   "source": [
    "##### NAMA : RASYID RAZEKA ALAMSYAH\n",
    "##### NIM : 2131710077"
   ]
  },
  {
   "cell_type": "markdown",
   "id": "83235d64",
   "metadata": {},
   "source": [
    "# KUIS 2 NOMOR 2"
   ]
  },
  {
   "cell_type": "code",
   "execution_count": 8,
   "id": "3d5af950",
   "metadata": {},
   "outputs": [
    {
     "name": "stdout",
     "output_type": "stream",
     "text": [
      "Masukkan angka yang diinginkan 5\n",
      "1\n",
      "22\n",
      "333\n",
      "4444\n",
      "55555\n"
     ]
    }
   ],
   "source": [
    "Scanner input = new Scanner(System.in);\n",
    "int angka;\n",
    "System.out.print(\"Masukkan angka yang diinginkan \");\n",
    "angka = input.nextInt();\n",
    "for(int i=1; i<=angka; i++){\n",
    "    for(int j=1; j<=i; j++){\n",
    "        System.out.print(i);\n",
    "    }\n",
    "    System.out.println();\n",
    "}"
   ]
  },
  {
   "cell_type": "code",
   "execution_count": null,
   "id": "10406071",
   "metadata": {},
   "outputs": [],
   "source": []
  }
 ],
 "metadata": {
  "kernelspec": {
   "display_name": "Java",
   "language": "java",
   "name": "java"
  },
  "language_info": {
   "codemirror_mode": "java",
   "file_extension": ".jshell",
   "mimetype": "text/x-java-source",
   "name": "Java",
   "pygments_lexer": "java",
   "version": "11.0.12+8-LTS-237"
  }
 },
 "nbformat": 4,
 "nbformat_minor": 5
}
