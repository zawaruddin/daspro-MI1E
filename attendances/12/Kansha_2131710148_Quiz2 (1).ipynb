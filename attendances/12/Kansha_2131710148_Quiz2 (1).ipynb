{
 "cells": [
  {
   "cell_type": "markdown",
   "id": "d8bae1b3",
   "metadata": {},
   "source": [
    "Nama : Kansha Maulidya Shyfa\n",
    "\n",
    "Kelas : MI-1E\n",
    "\n",
    "NIM : 2131710148"
   ]
  },
  {
   "cell_type": "code",
   "execution_count": 31,
   "id": "66a0c9bf",
   "metadata": {},
   "outputs": [
    {
     "name": "stdout",
     "output_type": "stream",
     "text": [
      "Nilai N = 5\n",
      "1\n",
      "12\n",
      "123\n",
      "1234\n",
      "12345\n"
     ]
    }
   ],
   "source": [
    "// soal no 1\n",
    "\n",
    "import java.util.Scanner;\n",
    "Scanner sc = new Scanner(System.in);\n",
    "System.out.print(\"Nilai N = \");\n",
    "int N = sc.nextInt();\n",
    "for(int i = 1; i <= 5; i++){\n",
    "    for(int j = 1; j <= i; j++){\n",
    "        System.out.print(j);\n",
    "    }\n",
    "    System.out.println();\n",
    "}"
   ]
  },
  {
   "cell_type": "code",
   "execution_count": 30,
   "id": "c98f25d7",
   "metadata": {},
   "outputs": [
    {
     "name": "stdout",
     "output_type": "stream",
     "text": [
      "Nilai N = 5\n",
      "1\n",
      "22\n",
      "333\n",
      "4444\n",
      "55555\n"
     ]
    }
   ],
   "source": [
    "// soal no 2\n",
    "\n",
    "import java.util.Scanner;\n",
    "Scanner sc = new Scanner(System.in);\n",
    "System.out.print(\"Nilai N = \");\n",
    "int N = sc.nextInt();\n",
    "for(int i = 1; i <= 5; i++){\n",
    "    for(int j = 1; j <= i; j++){\n",
    "        System.out.print(i*1);\n",
    "    }\n",
    "    System.out.println();\n",
    "}"
   ]
  },
  {
   "cell_type": "code",
   "execution_count": 7,
   "id": "fa338add",
   "metadata": {},
   "outputs": [
    {
     "name": "stdout",
     "output_type": "stream",
     "text": [
      "Masukkan abjad: K\n",
      "Masukkan abjad: A\n",
      "Masukkan abjad: N\n",
      "Masukkan abjad: S\n",
      "Masukkan abjad: H\n",
      "Masukkan abjad: A\n",
      "Masukkan abjad: M\n",
      "Masukkan abjad: A\n",
      "Masukkan abjad: U\n",
      "Masukkan abjad: L\n",
      "Masukkan abjad: I\n",
      "Masukkan abjad: D\n",
      "Masukkan abjad: Y\n",
      "Masukkan abjad: A\n",
      "Masukkan abjad: S\n",
      "Masukkan abjad: H\n",
      "Masukkan abjad: Y\n",
      "Masukkan abjad: F\n",
      "Masukkan abjad: A\n",
      "Masukkan abjad: Q\n",
      "K A N S H \n",
      "A M A U L \n",
      "I D Y A S \n",
      "H Y F A Q \n",
      "S adalah huruf terbesar pada baris ke-1 berada di kolom 4\n",
      "U adalah huruf terbesar pada baris ke-2 berada di kolom 4\n",
      "Y adalah huruf terbesar pada baris ke-3 berada di kolom 3\n",
      "Y adalah huruf terbesar pada baris ke-4 berada di kolom 2\n"
     ]
    }
   ],
   "source": [
    "//Jawaban No. 3\n",
    "import java.util.Scanner;\n",
    "Scanner input = new Scanner(System.in);\n",
    "char[][] abjad = new char[4][5];\n",
    "char besar, max;\n",
    "int abjadCasting, index;\n",
    "\n",
    "\n",
    "for(int i = 0; i < abjad.length; i++){\n",
    "    for(int j = 0; j < abjad[0].length; j++){\n",
    "    System.out.print(\"Masukkan abjad: \");\n",
    "    abjad[i][j] = input.next().charAt(0);\n",
    "    }\n",
    "}\n",
    "\n",
    "for(int i = 0; i < abjad.length; i++){\n",
    "    for(int j = 0; j < abjad[0].length; j++){\n",
    "    System.out.print(abjad[i][j] + \" \");\n",
    "    }\n",
    "    System.out.println();\n",
    "}\n",
    "\n",
    "for(int i = 0; i < abjad.length; i++){\n",
    "    max = 0;\n",
    "    for(int j = 0; j < abjad[i].length; j++){\n",
    "    abjadCasting = (int) abjad[i][j];\n",
    "    if(abjad[i][j] > max){\n",
    "    max = abjad[i][j];\n",
    "    index = j;\n",
    "    }\n",
    "    besar = (char) max;\n",
    "    }\n",
    "    System.out.println( besar + \" adalah huruf terbesar pada baris ke-\" + (i+1) +\" berada di kolom \" + (index + 1));\n",
    "}"
   ]
  },
  {
   "cell_type": "code",
   "execution_count": 1,
   "id": "095c8311",
   "metadata": {},
   "outputs": [
    {
     "name": "stdout",
     "output_type": "stream",
     "text": [
      "17 November 2021"
     ]
    }
   ],
   "source": [
    "// soal no 4\n",
    "import java.text.SimpleDateFormat;\n",
    "import java.util.Date;\n",
    "String[] ini_bulan = {\"Januari\",\"Februari\",\"Maret\",\"April\",\"Mei\",\"Juni\",\"Juli\",\"Agustus\",\"September\",\"Oktober\",\"November\",\"Desember\"};\n",
    "\n",
    "Date tgl = new Date();\n",
    "\n",
    "SimpleDateFormat d = new SimpleDateFormat(\"d \");\n",
    "String ini_tanggal = d.format(tgl);\n",
    "System.out.print(ini_tanggal);\n",
    "\n",
    "SimpleDateFormat d = new SimpleDateFormat(\"M\");\n",
    "String bulan = d.format(tgl);\n",
    "System.out.print(ini_bulan[10]);\n",
    "\n",
    "SimpleDateFormat d = new SimpleDateFormat(\" Y\");\n",
    "String ini_tahun = d.format(tgl);\n",
    "System.out.print(ini_tahun);"
   ]
  },
  {
   "cell_type": "code",
   "execution_count": null,
   "id": "86c7d2c9",
   "metadata": {},
   "outputs": [],
   "source": []
  }
 ],
 "metadata": {
  "kernelspec": {
   "display_name": "Java",
   "language": "java",
   "name": "java"
  },
  "language_info": {
   "codemirror_mode": "java",
   "file_extension": ".jshell",
   "mimetype": "text/x-java-source",
   "name": "Java",
   "pygments_lexer": "java",
   "version": "11.0.12+8-LTS-237"
  }
 },
 "nbformat": 4,
 "nbformat_minor": 5
}
