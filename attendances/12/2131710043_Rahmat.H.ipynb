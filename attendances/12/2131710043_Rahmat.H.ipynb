{
 "cells": [
  {
   "cell_type": "markdown",
   "id": "76fff4e1",
   "metadata": {},
   "source": [
    "### NAMA : RAHMAT HIDAYAT\n",
    "### NIM : 2131710043\n"
   ]
  },
  {
   "cell_type": "markdown",
   "id": "be8f35a7",
   "metadata": {},
   "source": [
    "# nomer 1"
   ]
  },
  {
   "cell_type": "code",
   "execution_count": 8,
   "id": "9d6009ce",
   "metadata": {},
   "outputs": [
    {
     "name": "stdout",
     "output_type": "stream",
     "text": [
      "Masukkan nilai N = 5\n",
      "1\n",
      "12\n",
      "123\n",
      "1234\n",
      "12345\n"
     ]
    }
   ],
   "source": [
    "import java.util.Scanner;\n",
    "\n",
    "Scanner sc = new Scanner(System.in);\n",
    "\n",
    "System.out.print(\"Masukkan nilai N = \");\n",
    "int N = sc.nextInt();\n",
    "\n",
    "for (int i=1; i<=N; i++) {\n",
    "    for(int j=1; j<=i; j++) {\n",
    "        System.out.print(j);\n",
    "    }\n",
    "    System.out.println();\n",
    "}"
   ]
  },
  {
   "cell_type": "markdown",
   "id": "0ca4cca5",
   "metadata": {},
   "source": [
    "# nomer 2"
   ]
  },
  {
   "cell_type": "code",
   "execution_count": 9,
   "id": "91835b73",
   "metadata": {},
   "outputs": [
    {
     "name": "stdout",
     "output_type": "stream",
     "text": [
      "Masukkan nilai N = 5\n",
      "1\n",
      "22\n",
      "333\n",
      "4444\n",
      "55555\n"
     ]
    }
   ],
   "source": [
    "import java.util.Scanner;\n",
    "\n",
    "Scanner sc = new Scanner(System.in);\n",
    "\n",
    "System.out.print(\"Masukkan nilai N = \");\n",
    "int N = sc.nextInt ();\n",
    "\n",
    "for(int i = 1; i<= N; i++){\n",
    "    for(int j = 1; j <= i; j++){\n",
    "        System.out.print(i);\n",
    "    }\n",
    "    System.out.println();\n",
    "}"
   ]
  },
  {
   "cell_type": "markdown",
   "id": "d61aba7c",
   "metadata": {},
   "source": [
    "# nomer 3\n"
   ]
  },
  {
   "cell_type": "code",
   "execution_count": 15,
   "id": "9fe244a0",
   "metadata": {},
   "outputs": [
    {
     "name": "stdout",
     "output_type": "stream",
     "text": [
      "\n",
      " R A H M A\n",
      " T H I D A\n",
      " Y A T T O\n",
      " X I C C T\n",
      "\n",
      "A adalah huruf terbesar pada baris 1 kolom ke 5\n",
      "I adalah huruf terbesar pada baris 2 kolom ke 3\n",
      "I adalah huruf terbesar pada baris 3 kolom ke 2\n",
      "X adalah huruf terbesar pada baris 4 kolom ke 1\n"
     ]
    }
   ],
   "source": [
    "import java.util.Scanner;\n",
    "Scanner sc = new Scanner(System.in);\n",
    "    String [][]nama= {\n",
    "    {\"R\" , \"A\" , \"H\" , \"M\" , \"A\" },\n",
    "    {\"T\" , \"H\" , \"I\" , \"D\" , \"A\" },\n",
    "    {\"Y\" , \"A\" , \"T\" , \"T\" , \"O\" },\n",
    "    {\"X\" , \"I\" , \"C\" , \"C\" , \"T\" },\n",
    "\n",
    "    };\n",
    "    int max=0, max1=0;\n",
    "\n",
    "    for(int x=0; x<nama.length;x++){\n",
    "            System.out.println();\n",
    "        for(int y=0; y<nama[0].length;y++){\n",
    "                System.out.print(\" \"+nama[x][y]);\n",
    "                }\n",
    "            }\n",
    "            System.out.println(\"\\n\");\n",
    "            System.out.println(nama[0][4]+\" adalah huruf terbesar pada baris 1 kolom ke 5\");\n",
    "            System.out.println(nama[1][2]+\" adalah huruf terbesar pada baris 2 kolom ke 3\");\n",
    "            System.out.println(nama[3][1]+\" adalah huruf terbesar pada baris 3 kolom ke 2\");\n",
    "            System.out.println(nama[3][0]+\" adalah huruf terbesar pada baris 4 kolom ke 1\");\n"
   ]
  },
  {
   "cell_type": "markdown",
   "id": "238a790a",
   "metadata": {},
   "source": [
    "# nomer 4"
   ]
  },
  {
   "cell_type": "code",
   "execution_count": 16,
   "id": "2a22919d",
   "metadata": {},
   "outputs": [
    {
     "name": "stdout",
     "output_type": "stream",
     "text": [
      "17 November 2021"
     ]
    }
   ],
   "source": [
    "import java.text.SimpleDateFormat;\n",
    "import java.util.Date;\n",
    "\n",
    "Date tgl = new Date();\n",
    "String bulann[] = {\"Januari\" , \"Februari\" , \"Maret\" , \"April\" , \"Mei\" , \"Juni\" , \"Juli\" , \"Agustus\" , \"September\" , \"Oktober\" , \"November\" , \"Desember\"};\n",
    "\n",
    "SimpleDateFormat d = new SimpleDateFormat(\"d\");\n",
    "String tanggal = d.format(tgl);\n",
    "SimpleDateFormat d = new SimpleDateFormat(\"M\");\n",
    "String ini_bulan = d.format(tgl);\n",
    "int bulan = Integer.parseInt(ini_bulan);\n",
    "SimpleDateFormat d = new SimpleDateFormat(\"Y\");\n",
    "String tahun = d.format(tgl);\n",
    "System.out.print(tanggal+\" \"+(bulann[bulan-1])+\" \"+tahun);"
   ]
  }
 ],
 "metadata": {
  "kernelspec": {
   "display_name": "Java",
   "language": "java",
   "name": "java"
  },
  "language_info": {
   "codemirror_mode": "java",
   "file_extension": ".jshell",
   "mimetype": "text/x-java-source",
   "name": "Java",
   "pygments_lexer": "java",
   "version": "11.0.11+9-LTS-194"
  }
 },
 "nbformat": 4,
 "nbformat_minor": 5
}
