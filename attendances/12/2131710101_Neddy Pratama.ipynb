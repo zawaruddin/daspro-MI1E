{
 "cells": [
  {
   "cell_type": "code",
   "execution_count": 4,
   "id": "d1bc358d",
   "metadata": {
    "scrolled": true
   },
   "outputs": [
    {
     "name": "stdout",
     "output_type": "stream",
     "text": [
      "1\n",
      "12\n",
      "123\n",
      "1234\n",
      "12345\n"
     ]
    }
   ],
   "source": [
    "for(int i=1; i<6; i++) {\n",
    "    for (int j=1; j<=i; j++) {\n",
    "        System.out.print(j);\n",
    "    }\n",
    "    System.out.println();\n",
    "}"
   ]
  },
  {
   "cell_type": "code",
   "execution_count": 6,
   "id": "ff1aa2e6",
   "metadata": {},
   "outputs": [
    {
     "name": "stdout",
     "output_type": "stream",
     "text": [
      "1\n",
      "22\n",
      "333\n",
      "4444\n",
      "55555\n"
     ]
    }
   ],
   "source": [
    "for(int i=1; i<6; i++) {\n",
    "    for (int j=1; j<=i; j++) {\n",
    "        System.out.print(i);\n",
    "    }\n",
    "    System.out.println();\n",
    "}"
   ]
  },
  {
   "cell_type": "code",
   "execution_count": 49,
   "id": "0acae316",
   "metadata": {},
   "outputs": [
    {
     "name": "stdout",
     "output_type": "stream",
     "text": [
      "Masukkan Nama Lengkap: N\n",
      "Masukkan Nama Lengkap: E\n",
      "Masukkan Nama Lengkap: D\n",
      "Masukkan Nama Lengkap: D\n",
      "Masukkan Nama Lengkap: Y\n",
      "Masukkan Nama Lengkap: P\n",
      "Masukkan Nama Lengkap: R\n",
      "Masukkan Nama Lengkap: A\n",
      "Masukkan Nama Lengkap: T\n",
      "Masukkan Nama Lengkap: A\n",
      "Masukkan Nama Lengkap: M\n",
      "Masukkan Nama Lengkap: A\n",
      "Masukkan Nama Lengkap: W\n",
      "Masukkan Nama Lengkap: I\n",
      "Masukkan Nama Lengkap: R\n",
      "Masukkan Nama Lengkap: Y\n",
      "Masukkan Nama Lengkap: A\n",
      "Masukkan Nama Lengkap: W\n",
      "Masukkan Nama Lengkap: A\n",
      "Masukkan Nama Lengkap: N\n",
      "Yadalah huruf terbesar pada baris 1 berada di kolom 5\n",
      "Tadalah huruf terbesar pada baris 2 berada di kolom 4\n",
      "Wadalah huruf terbesar pada baris 3 berada di kolom 3\n",
      "Yadalah huruf terbesar pada baris 4 berada di kolom 1\n"
     ]
    }
   ],
   "source": [
    "import java.util.Scanner;\n",
    "Scanner sc = new Scanner(System.in);\n",
    "char[][] nama = new char[4][5];\n",
    "char [] huruf = new char[4];\n",
    "int [] angka = new int[4];\n",
    "int hasil, name;\n",
    "for(int i=0; i<nama.length; i++) {\n",
    "    for(int j=0; j<nama[0].length; j++) {\n",
    "        System.out.print(\"Masukkan Nama Lengkap: \");\n",
    "        nama[i][j] = sc.next().charAt(0);\n",
    "    }\n",
    "}\n",
    "for(int i=0; i<nama.length; i++) {\n",
    "    for(int j=0; j<nama[0].length; j++) {\n",
    "        name = nama[i][j];\n",
    "        if(angka[i]<name){\n",
    "            angka[i] = name;\n",
    "        }\n",
    "    }\n",
    "}\n",
    "\n",
    "for(int i=0; i<nama.length; i++) {\n",
    "   for(int j=0; i<nama[0].length; j++) {\n",
    "       huruf[i] = (char) angka[i];\n",
    "       if(huruf[i]==nama[i][j]) {\n",
    "           hasil=j;\n",
    "           break;\n",
    "       }\n",
    "   }\n",
    "   System.out.print(huruf[i]+\"adalah huruf terbesar pada baris \" + (i+1) + \" berada di kolom \" + (hasil+1));\n",
    "   System.out.println();\n",
    "}"
   ]
  },
  {
   "cell_type": "code",
   "execution_count": 30,
   "id": "7247d2a6",
   "metadata": {},
   "outputs": [
    {
     "name": "stdout",
     "output_type": "stream",
     "text": [
      "17-November-2021\n"
     ]
    }
   ],
   "source": [
    "import java.text.SimpleDateFormat;\n",
    "import java.util.Date;\n",
    "Date tgl = new Date();\n",
    "int m;\n",
    "String bulan[] = {\"Januari\", \"Februari\", \"Maret\", \"April\", \"Mei\", \"Juni\", \"Juli\", \"Agustus\", \"September\", \"Oktober\", \"November\", \"Desember\"};\n",
    "SimpleDateFormat day = new SimpleDateFormat(\"d\");\n",
    "SimpleDateFormat month = new SimpleDateFormat(\"M\");\n",
    "SimpleDateFormat years = new SimpleDateFormat(\"Y\");\n",
    "String hari = day.format(tgl);\n",
    "String bulann = month.format(tgl);\n",
    "String tahun = years.format(tgl);\n",
    "bulann = bulan[10];\n",
    "System.out.println(hari+\"-\"+bulann+\"-\"+tahun);\n"
   ]
  },
  {
   "cell_type": "code",
   "execution_count": null,
   "id": "f0bb6000",
   "metadata": {},
   "outputs": [],
   "source": []
  }
 ],
 "metadata": {
  "kernelspec": {
   "display_name": "Java",
   "language": "java",
   "name": "java"
  },
  "language_info": {
   "codemirror_mode": "java",
   "file_extension": ".jshell",
   "mimetype": "text/x-java-source",
   "name": "Java",
   "pygments_lexer": "java",
   "version": "11.0.12+8-LTS-237"
  }
 },
 "nbformat": 4,
 "nbformat_minor": 5
}
