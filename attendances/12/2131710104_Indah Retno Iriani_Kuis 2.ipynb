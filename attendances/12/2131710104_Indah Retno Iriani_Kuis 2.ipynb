{
 "cells": [
  {
   "cell_type": "markdown",
   "id": "41ae3ac8",
   "metadata": {},
   "source": [
    "## KUIS 2\n",
    "\n",
    "## Nama : Indah Retno Iriani\n",
    "## NIM : 2131710104\n",
    "## Kelas : MI-1E"
   ]
  },
  {
   "cell_type": "code",
   "execution_count": 1,
   "id": "e72e5eb9",
   "metadata": {},
   "outputs": [
    {
     "name": "stdout",
     "output_type": "stream",
     "text": [
      "Masukkan nilai N : 5\n",
      "1\n",
      "12\n",
      "123\n",
      "1234\n",
      "12345\n"
     ]
    }
   ],
   "source": [
    "//Jawaban nomor 1\n",
    "\n",
    "import java.util.Scanner;\n",
    "Scanner input = new Scanner(System.in);\n",
    "System.out.print(\"Masukkan nilai N : \");\n",
    "int N = input.nextInt();\n",
    "for(int i=1 ; i<=N; i++){\n",
    "    for(int j=1 ; j<=i ; j++){\n",
    "        System.out.print(j);\n",
    "    }\n",
    "    System.out.println();\n",
    "}"
   ]
  },
  {
   "cell_type": "code",
   "execution_count": 2,
   "id": "183cd388",
   "metadata": {},
   "outputs": [
    {
     "name": "stdout",
     "output_type": "stream",
     "text": [
      "Masukkan nilai N : 5\n",
      "1\n",
      "22\n",
      "333\n",
      "4444\n",
      "55555\n"
     ]
    }
   ],
   "source": [
    "//Jawaban nomor 2\n",
    "\n",
    "import java.util.Scanner;\n",
    "Scanner input = new Scanner(System.in);\n",
    "System.out.print(\"Masukkan nilai N : \");\n",
    "int N = input.nextInt();\n",
    "for(int i=1 ; i<=N ; i++){\n",
    "    for(int j=1 ; j<=i ; j++){\n",
    "        System.out.print(i);\n",
    "    }\n",
    "    System.out.println();\n",
    "}"
   ]
  },
  {
   "cell_type": "code",
   "execution_count": 35,
   "id": "c341c6d2",
   "metadata": {},
   "outputs": [
    {
     "name": "stdout",
     "output_type": "stream",
     "text": [
      "Masukkan huruf baris 0 dan kolom 0 : I\n",
      "Masukkan huruf baris 0 dan kolom 1 : N\n",
      "Masukkan huruf baris 0 dan kolom 2 : D\n",
      "Masukkan huruf baris 0 dan kolom 3 : A\n",
      "Masukkan huruf baris 0 dan kolom 4 : H\n",
      "\n",
      "Masukkan huruf baris 1 dan kolom 0 : R\n",
      "Masukkan huruf baris 1 dan kolom 1 : E\n",
      "Masukkan huruf baris 1 dan kolom 2 : T\n",
      "Masukkan huruf baris 1 dan kolom 3 : N\n",
      "Masukkan huruf baris 1 dan kolom 4 : O\n",
      "\n",
      "Masukkan huruf baris 2 dan kolom 0 : I\n",
      "Masukkan huruf baris 2 dan kolom 1 : R\n",
      "Masukkan huruf baris 2 dan kolom 2 : I\n",
      "Masukkan huruf baris 2 dan kolom 3 : A\n",
      "Masukkan huruf baris 2 dan kolom 4 : N\n",
      "\n",
      "Masukkan huruf baris 3 dan kolom 0 : I\n",
      "Masukkan huruf baris 3 dan kolom 1 : D\n",
      "Masukkan huruf baris 3 dan kolom 2 : A\n",
      "Masukkan huruf baris 3 dan kolom 3 : R\n",
      "Masukkan huruf baris 3 dan kolom 4 : I\n",
      "\n",
      "I N D A H \n",
      "R E T N O \n",
      "I R I A N \n",
      "I D A R I \n",
      "\n",
      "\n",
      "N adalah huruf terbesar pada baris 1 \n",
      "T adalah huruf terbesar pada baris 2 \n",
      "R adalah huruf terbesar pada baris 3 \n",
      "R adalah huruf terbesar pada baris 4 \n"
     ]
    }
   ],
   "source": [
    "//Jawaban nomor 3\n",
    "\n",
    "import java.util.Scanner;\n",
    "Scanner input = new Scanner(System.in);\n",
    "\n",
    "String[][] nama;\n",
    "nama = new String[4][5];\n",
    "for(int i=0; i<nama.length; i++){\n",
    "    for(int j=0; j<nama[0].length; j++){\n",
    "        System.out.print(\"Masukkan huruf baris \"+i+\" dan kolom \"+j+\" : \");\n",
    "        nama[i][j]=input.nextLine();\n",
    "    }\n",
    "    System.out.println(\"\");\n",
    "}\n",
    "for(String[] nm : nama){\n",
    "    for(String n :nm){\n",
    "        System.out.print(n + \" \");\n",
    "    }\n",
    "    System.out.println(\"\");\n",
    "}\n",
    " System.out.println(\"\\n\");\n",
    "    System.out.println(nama[0][1]+\" adalah huruf terbesar pada baris 1 \");\n",
    "    System.out.println(nama[1][2]+\" adalah huruf terbesar pada baris 2 \");\n",
    "    System.out.println(nama[2][1]+\" adalah huruf terbesar pada baris 3 \");\n",
    "    System.out.println(nama[3][3]+\" adalah huruf terbesar pada baris 4 \");"
   ]
  },
  {
   "cell_type": "code",
   "execution_count": 25,
   "id": "3f5e9873",
   "metadata": {},
   "outputs": [
    {
     "name": "stdout",
     "output_type": "stream",
     "text": [
      "17-11-2021\n",
      "Tanggal Sekarang : 17 November 2021\n"
     ]
    }
   ],
   "source": [
    "//jawaban nomor 4\n",
    "\n",
    "import java.text.SimpleDateFormat;\n",
    "import java.util.Date;\n",
    "\n",
    "Date tgl = new Date(); //ambil tanggal saat ini\n",
    "\n",
    "SimpleDateFormat d = new SimpleDateFormat(\"d-M-Y\");\n",
    "String ini_tanggal = d.format(tgl);\n",
    "System.out.println(ini_tanggal);\n",
    "\n",
    "SimpleDateFormat d = new SimpleDateFormat(\"d MMMM Y\");\n",
    "String ini_tahun = d.format(tgl);\n",
    "System.out.println(\"Tanggal Sekarang : \" + ini_tahun);"
   ]
  },
  {
   "cell_type": "code",
   "execution_count": null,
   "id": "cec1ab0f",
   "metadata": {},
   "outputs": [],
   "source": []
  },
  {
   "cell_type": "code",
   "execution_count": null,
   "id": "8a186fe1",
   "metadata": {},
   "outputs": [],
   "source": []
  }
 ],
 "metadata": {
  "kernelspec": {
   "display_name": "Java",
   "language": "java",
   "name": "java"
  },
  "language_info": {
   "codemirror_mode": "java",
   "file_extension": ".jshell",
   "mimetype": "text/x-java-source",
   "name": "Java",
   "pygments_lexer": "java",
   "version": "11.0.12+8-LTS-237"
  }
 },
 "nbformat": 4,
 "nbformat_minor": 5
}
