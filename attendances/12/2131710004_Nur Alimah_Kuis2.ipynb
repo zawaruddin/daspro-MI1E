{
 "cells": [
  {
   "cell_type": "markdown",
   "id": "b09b22f8",
   "metadata": {},
   "source": [
    "Nama : Nur Alimah\n",
    "\n",
    "Nim : 2131710004\n",
    "\n",
    "Prodi : D3MI\n"
   ]
  },
  {
   "cell_type": "code",
   "execution_count": 7,
   "id": "87623959",
   "metadata": {},
   "outputs": [
    {
     "name": "stdout",
     "output_type": "stream",
     "text": [
      "Masukkan N: 5\n",
      "1\n",
      "12\n",
      "123\n",
      "1234\n",
      "12345\n"
     ]
    }
   ],
   "source": [
    "//Jawaban No 1\n",
    "import java.util.Scanner;\n",
    "Scanner input = new Scanner(System.in);\n",
    "System.out.print(\"Masukkan N: \");\n",
    "int N = input.nextInt();\n",
    "for (int i = 1; i<=N;i++){\n",
    "    for (int j = 1;j<=i;j++){\n",
    "        System.out.print(j);\n",
    "    }\n",
    " System.out.println();       \n",
    "}"
   ]
  },
  {
   "cell_type": "code",
   "execution_count": 8,
   "id": "2f0b80d0",
   "metadata": {},
   "outputs": [
    {
     "name": "stdout",
     "output_type": "stream",
     "text": [
      "Masukkan nilai N: 5\n",
      "1\n",
      "22\n",
      "333\n",
      "4444\n",
      "55555\n"
     ]
    }
   ],
   "source": [
    "//Jawaban No 2\n",
    "import java.util.Scanner;\n",
    "Scanner input = new Scanner(System.in);\n",
    "System.out.print(\"Masukkan nilai N: \");\n",
    "int N = input.nextInt();\n",
    "\n",
    "for(int i = 1; i<=N; i++){\n",
    "\n",
    " for(int j = 1;j<=i; j++){\n",
    " System.out.print(i);\n",
    " }\n",
    "System.out.println();\n",
    "}"
   ]
  },
  {
   "cell_type": "code",
   "execution_count": 15,
   "id": "7f249ea1",
   "metadata": {},
   "outputs": [
    {
     "name": "stdout",
     "output_type": "stream",
     "text": [
      "Masukkan Nama Huruf : N\n",
      "Masukkan Nama Huruf : U\n",
      "Masukkan Nama Huruf : R\n",
      "Masukkan Nama Huruf : A\n",
      "Masukkan Nama Huruf : L\n",
      "Masukkan Nama Huruf : I\n",
      "Masukkan Nama Huruf : M\n",
      "Masukkan Nama Huruf : A\n",
      "Masukkan Nama Huruf : H\n",
      "Masukkan Nama Huruf : B\n",
      "Masukkan Nama Huruf : A\n",
      "Masukkan Nama Huruf : I\n",
      "Masukkan Nama Huruf : K\n",
      "Masukkan Nama Huruf : B\n",
      "Masukkan Nama Huruf : G\n",
      "Masukkan Nama Huruf : T\n",
      "N U R A \n",
      "L I M A \n",
      "H B A I \n",
      "K B G T \n",
      "U adalah huruf terbesar pada baris ke-1 berada di kolom 2\n",
      "M adalah huruf terbesar pada baris ke-2 berada di kolom 3\n",
      "I adalah huruf terbesar pada baris ke-3 berada di kolom 4\n",
      "T adalah huruf terbesar pada baris ke-4 berada di kolom 4\n"
     ]
    }
   ],
   "source": [
    "//Jawaban N0 3\n",
    "import java.util.Scanner;\n",
    "Scanner sc = new Scanner(System.in);\n",
    "int i;\n",
    "int namaNew,index;\n",
    "char b;\n",
    "char nama [][] = new char [4][5];\n",
    "    \n",
    "for (i =0;i<nama.length;i++){\n",
    "        for (int j = 0;j<nama.length;j++){\n",
    "            System.out.print(\"Masukkan Nama Huruf : \");\n",
    "            nama[i][j] = sc.next().charAt(0);\n",
    "        }\n",
    "}\n",
    "          \n",
    "for ( i =0;i<nama.length;i++){\n",
    "        for (int j = 0;j<nama.length;j++){\n",
    "            System.out.print(nama[i][j]+\" \");\n",
    "    }\n",
    "    System.out.println();\n",
    "}\n",
    "    for (i =0;i<nama.length;i++){\n",
    "        max = 0;\n",
    "        for (int j = 0;j<nama.length;j++){\n",
    "         namaNew = (int)nama[i][j];\n",
    "            if(nama[i][j]>max){\n",
    "            max = nama[i][j];\n",
    "            index = j;\n",
    "}\n",
    "    b = (char)max;\n",
    "}\n",
    "    System.out.println( b + \" adalah huruf terbesar pada baris ke-\" + (i+1) +\" berada di kolom \" + (index + 1));\n",
    "    }\n",
    "    \n",
    "\n",
    "            \n"
   ]
  },
  {
   "cell_type": "code",
   "execution_count": 30,
   "id": "052f70dd",
   "metadata": {},
   "outputs": [
    {
     "name": "stdout",
     "output_type": "stream",
     "text": [
      "17 November 2021"
     ]
    }
   ],
   "source": [
    "import java.text.SimpleDateFormat;\n",
    "import java.util.Date;\n",
    "String [] ini_bulan= {\"Januari\",\"Februari\",\"Maret\",\"April\",\"Mei\",\"Juni\",\"Juli\",\"Agustus\",\"September\",\"Oktober\",\"November\",\"Desember\"};\n",
    "\n",
    "Date tgl = new Date();\n",
    "\n",
    "SimpleDateFormat d = new SimpleDateFormat(\"d\");\n",
    "String ini_tanggal = d.format(tgl);\n",
    "System.out.print(ini_tanggal);\n",
    "\n",
    "SimpleDateFormat d = new SimpleDateFormat(\"M\");\n",
    "String ini_bulan = d.format(tgl);\n",
    "int bulan = Integer.parseInt(ini_bulan);\n",
    "System.out.print(\" \"+(bulann[bulan-1]));\n",
    "\n",
    "SimpleDateFormat d = new SimpleDateFormat(\"Y\");\n",
    "String ini_tahun = d.format(tgl);\n",
    "System.out.print(\" \"+ini_tahun);\n"
   ]
  },
  {
   "cell_type": "code",
   "execution_count": null,
   "id": "7c026338",
   "metadata": {},
   "outputs": [],
   "source": []
  },
  {
   "cell_type": "code",
   "execution_count": null,
   "id": "5537633f",
   "metadata": {},
   "outputs": [],
   "source": []
  }
 ],
 "metadata": {
  "kernelspec": {
   "display_name": "Java",
   "language": "java",
   "name": "java"
  },
  "language_info": {
   "codemirror_mode": "java",
   "file_extension": ".jshell",
   "mimetype": "text/x-java-source",
   "name": "Java",
   "pygments_lexer": "java",
   "version": "11.0.12+8-LTS-237"
  }
 },
 "nbformat": 4,
 "nbformat_minor": 5
}
