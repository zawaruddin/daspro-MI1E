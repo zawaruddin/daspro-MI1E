{
 "cells": [
  {
   "cell_type": "markdown",
   "id": "f25e5bb8",
   "metadata": {},
   "source": [
    "## QUIZ PRAKTIKUM DASAR PEMROGRAMAN 2\n",
    "\n",
    "### NIM : 2131710046\n",
    "### NAMA : SABILA NADIA ISLAMIA"
   ]
  },
  {
   "cell_type": "code",
   "execution_count": 24,
   "id": "f8f0ed71",
   "metadata": {},
   "outputs": [
    {
     "name": "stdout",
     "output_type": "stream",
     "text": [
      "Masukkan nilai : 5\n",
      "1\n",
      "12\n",
      "123\n",
      "1234\n",
      "12345\n"
     ]
    }
   ],
   "source": [
    "//Soal 1\n",
    "\n",
    "import java.util.Scanner; \n",
    "\n",
    "Scanner input = new Scanner(System.in); \n",
    "\n",
    "System.out.print(\"Masukkan nilai : \"); \n",
    "int N = input.nextInt();\n",
    "\n",
    "for(int i = 1; i <= N; i++){\n",
    "    for(int j = 1; j <= i; j++){\n",
    "        System.out.print(j);\n",
    "    }\n",
    "    System.out.println(); \n",
    "}\n",
    "\n",
    "//output menampilkan/mengikuti jumlah kolom "
   ]
  },
  {
   "cell_type": "code",
   "execution_count": 25,
   "id": "c5446c94",
   "metadata": {},
   "outputs": [
    {
     "name": "stdout",
     "output_type": "stream",
     "text": [
      "Masukkan nilai : 5\n",
      "1\n",
      "22\n",
      "333\n",
      "4444\n",
      "55555\n"
     ]
    }
   ],
   "source": [
    "//Soal 2\n",
    "\n",
    "import java.util.Scanner; \n",
    "\n",
    "Scanner input = new Scanner(System.in); \n",
    "\n",
    "System.out.print(\"Masukkan nilai : \"); \n",
    "int N = input.nextInt();\n",
    "\n",
    "for(int i = 1; i <= N; i++){\n",
    "    for(int j = 1; j <= i; j++){\n",
    "        System.out.print(i);\n",
    "    }\n",
    "    System.out.println(); \n",
    "}\n",
    "\n",
    "//output menampilkan/mengikuti jumlah baris"
   ]
  },
  {
   "cell_type": "code",
   "execution_count": 32,
   "id": "8de12a3a",
   "metadata": {},
   "outputs": [
    {
     "name": "stdout",
     "output_type": "stream",
     "text": [
      "Pada baris ke-1, Masukkan nama huruf kolom ke-1 : S\n",
      "Pada baris ke-1, Masukkan nama huruf kolom ke-2 : A\n",
      "Pada baris ke-1, Masukkan nama huruf kolom ke-3 : B\n",
      "Pada baris ke-1, Masukkan nama huruf kolom ke-4 : I\n",
      "Pada baris ke-1, Masukkan nama huruf kolom ke-5 : L\n",
      "Pada baris ke-2, Masukkan nama huruf kolom ke-1 : A\n",
      "Pada baris ke-2, Masukkan nama huruf kolom ke-2 : N\n",
      "Pada baris ke-2, Masukkan nama huruf kolom ke-3 : A\n",
      "Pada baris ke-2, Masukkan nama huruf kolom ke-4 : D\n",
      "Pada baris ke-2, Masukkan nama huruf kolom ke-5 : I\n",
      "Pada baris ke-3, Masukkan nama huruf kolom ke-1 : A\n",
      "Pada baris ke-3, Masukkan nama huruf kolom ke-2 : I\n",
      "Pada baris ke-3, Masukkan nama huruf kolom ke-3 : S\n",
      "Pada baris ke-3, Masukkan nama huruf kolom ke-4 : L\n",
      "Pada baris ke-3, Masukkan nama huruf kolom ke-5 : A\n",
      "Pada baris ke-4, Masukkan nama huruf kolom ke-1 : M\n",
      "Pada baris ke-4, Masukkan nama huruf kolom ke-2 : I\n",
      "Pada baris ke-4, Masukkan nama huruf kolom ke-3 : A\n",
      "Pada baris ke-4, Masukkan nama huruf kolom ke-4 : X\n",
      "Pada baris ke-4, Masukkan nama huruf kolom ke-5 : X\n",
      "\n",
      "adalah huruf terbesar pada baris berada di kolom \n"
     ]
    }
   ],
   "source": [
    "//Soal 3\n",
    "   \n",
    "import java.util.Scanner; \n",
    "Scanner input = new Scanner(System.in);\n",
    "\n",
    "String[][] nama = new String[4][5]; \n",
    "\n",
    "for(int i = 0; i < nama.length; i++){\n",
    "    for(int j = 0; j < nama[0].length; j++){\n",
    "        System.out.print(\"Pada baris ke-\" + (i+1) + \",\" + \" Masukkan nama huruf kolom ke-\" + (j+1) + \" : \"); \n",
    "        nama[i][j] = input.nextLine();\n",
    "    }  \n",
    "}\n",
    "System.out.println(); \n",
    "System.out.println(\"adalah huruf terbesar pada baris berada di kolom \"); "
   ]
  },
  {
   "cell_type": "code",
   "execution_count": 35,
   "id": "ab51d110",
   "metadata": {},
   "outputs": [
    {
     "name": "stdout",
     "output_type": "stream",
     "text": [
      "Pada baris ke-1, Masukkan nama huruf kolom ke-1 : S\n",
      "Pada baris ke-1, Masukkan nama huruf kolom ke-2 : A\n",
      "Pada baris ke-1, Masukkan nama huruf kolom ke-3 : B\n",
      "Pada baris ke-1, Masukkan nama huruf kolom ke-4 : I\n",
      "Pada baris ke-1, Masukkan nama huruf kolom ke-5 : L\n",
      "Pada baris ke-2, Masukkan nama huruf kolom ke-1 : A\n",
      "Pada baris ke-2, Masukkan nama huruf kolom ke-2 : N\n",
      "Pada baris ke-2, Masukkan nama huruf kolom ke-3 : A\n",
      "Pada baris ke-2, Masukkan nama huruf kolom ke-4 : D\n",
      "Pada baris ke-2, Masukkan nama huruf kolom ke-5 : I\n",
      "Pada baris ke-3, Masukkan nama huruf kolom ke-1 : A\n",
      "Pada baris ke-3, Masukkan nama huruf kolom ke-2 : I\n",
      "Pada baris ke-3, Masukkan nama huruf kolom ke-3 : S\n",
      "Pada baris ke-3, Masukkan nama huruf kolom ke-4 : L\n",
      "Pada baris ke-3, Masukkan nama huruf kolom ke-5 : A\n",
      "Pada baris ke-4, Masukkan nama huruf kolom ke-1 : M\n",
      "Pada baris ke-4, Masukkan nama huruf kolom ke-2 : I\n",
      "Pada baris ke-4, Masukkan nama huruf kolom ke-3 : A\n",
      "Pada baris ke-4, Masukkan nama huruf kolom ke-4 : X\n",
      "Pada baris ke-4, Masukkan nama huruf kolom ke-5 : \n",
      "\n"
     ]
    },
    {
     "ename": "CompilationException",
     "evalue": "",
     "output_type": "error",
     "traceback": [
      "\u001b[1m\u001b[30m|   \u001b[1m\u001b[30mSystem.out.println(nama[0][4] + \" adalah huruf terbesar pada baris\" + (\u001b[0m\u001b[1m\u001b[30m\u001b[41mi\u001b[0m\u001b[1m\u001b[30m+1) + \" berada di kolom \" + (j+1)); \u001b[0m",
      "\u001b[1m\u001b[31mcannot find symbol\u001b[0m",
      "\u001b[1m\u001b[31m  symbol:   variable i\u001b[0m",
      "",
      "\u001b[1m\u001b[30m|   \u001b[1m\u001b[30mSystem.out.println(nama[0][4] + \" adalah huruf terbesar pada baris\" + (i+1) + \" berada di kolom \" + (\u001b[0m\u001b[1m\u001b[30m\u001b[41mj\u001b[0m\u001b[1m\u001b[30m+1)); \u001b[0m",
      "\u001b[1m\u001b[31mcannot find symbol\u001b[0m",
      "\u001b[1m\u001b[31m  symbol:   variable j\u001b[0m",
      ""
     ]
    }
   ],
   "source": [
    "//Mencoba 1 \n",
    "\n",
    "import java.util.Scanner; \n",
    "Scanner input = new Scanner(System.in);\n",
    "\n",
    "String[][] nama = new String[4][5]; \n",
    "\n",
    "for(int i = 0; i < nama.length; i++){\n",
    "    for(int j = 0; j < nama[0].length; j++){\n",
    "        System.out.print(\"Pada baris ke-\" + (i+1) + \",\" + \" Masukkan nama huruf kolom ke-\" + (j+1) + \" : \"); \n",
    "        nama[i][j] = input.nextLine();\n",
    "    }  \n",
    "}\n",
    "System.out.println(); \n",
    "System.out.println(nama[0][4] + \" adalah huruf terbesar pada baris\" + (i+1) + \" berada di kolom \" + (j+1)); "
   ]
  },
  {
   "cell_type": "code",
   "execution_count": null,
   "id": "6c8bdad1",
   "metadata": {},
   "outputs": [],
   "source": [
    "//Mencoba 2\n",
    "\n",
    "import java.util.Scanner; \n",
    "Scanner input = new Scanner(System.in);\n",
    "\n",
    "String[][] nama = new String[4][5]; \n",
    "\n",
    "for(int i = 0; i < nama.length; i++){\n",
    "    for(int j = 0; j < nama[0].length; j++){\n",
    "        System.out.print(\"Pada baris ke-\" + (i+1) + \",\" + \" Masukkan nama huruf kolom ke-\" + (j+1) + \" : \"); \n",
    "        nama[i][j] = input.nextLine();\n",
    "        \n",
    "        if(nama)\n",
    "    }  \n",
    "}\n",
    "System.out.println(); \n",
    "System.out.println(nama[0][4] + \" adalah huruf terbesar pada baris\" +  + \" berada di kolom \" + ); "
   ]
  },
  {
   "cell_type": "code",
   "execution_count": null,
   "id": "ff0aad06",
   "metadata": {},
   "outputs": [],
   "source": [
    "import java.util.Scanner; \n",
    "Scanner input = new Scanner(System.in);\n",
    "\n",
    "String[][] nama = new String[4][5]; \n",
    "\n",
    "for(int i = 0; i < nama.length; i++){\n",
    "    for(int j = 0; j < nama[0].length; j++){\n",
    "        System.out.print(\"Pada baris ke-\" + (i+1) + \",\" + \" Masukkan nama huruf kolom ke-\" + (j+1) + \" : \"); \n",
    "        nama[i][j] = input.nextLine();\n",
    "        \n",
    "        if(nama)\n",
    "    }  \n",
    "}\n",
    "System.out.println(); \n",
    "System.out.println(nama[0][4] + \" adalah huruf terbesar pada baris\" +  + \" berada di kolom \" + ); "
   ]
  },
  {
   "cell_type": "code",
   "execution_count": 36,
   "id": "43fe082c",
   "metadata": {},
   "outputs": [
    {
     "name": "stdout",
     "output_type": "stream",
     "text": [
      "Pada baris ke-1, Masukkan nama huruf kolom ke-1 : S\n",
      "Pada baris ke-1, Masukkan nama huruf kolom ke-2 : A\n",
      "Pada baris ke-1, Masukkan nama huruf kolom ke-3 : B\n",
      "Pada baris ke-1, Masukkan nama huruf kolom ke-4 : I\n",
      "Pada baris ke-1, Masukkan nama huruf kolom ke-5 : L\n",
      "Pada baris ke-2, Masukkan nama huruf kolom ke-1 : A\n",
      "Pada baris ke-2, Masukkan nama huruf kolom ke-2 : N\n",
      "Pada baris ke-2, Masukkan nama huruf kolom ke-3 : A\n",
      "Pada baris ke-2, Masukkan nama huruf kolom ke-4 : D\n",
      "Pada baris ke-2, Masukkan nama huruf kolom ke-5 : I\n",
      "Pada baris ke-3, Masukkan nama huruf kolom ke-1 : A\n",
      "Pada baris ke-3, Masukkan nama huruf kolom ke-2 : I\n",
      "Pada baris ke-3, Masukkan nama huruf kolom ke-3 : S\n",
      "Pada baris ke-3, Masukkan nama huruf kolom ke-4 : L\n",
      "Pada baris ke-3, Masukkan nama huruf kolom ke-5 : A\n",
      "Pada baris ke-4, Masukkan nama huruf kolom ke-1 : M\n",
      "Pada baris ke-4, Masukkan nama huruf kolom ke-2 : I\n",
      "Pada baris ke-4, Masukkan nama huruf kolom ke-3 : A\n",
      "Pada baris ke-4, Masukkan nama huruf kolom ke-4 : X\n",
      "Pada baris ke-4, Masukkan nama huruf kolom ke-5 : X\n",
      "\n",
      "L adalah huruf terbesar pada baris berada di kolom \n",
      "I adalah huruf terbesar pada baris berada di kolom \n",
      "A adalah huruf terbesar pada baris berada di kolom \n",
      "X adalah huruf terbesar pada baris berada di kolom \n"
     ]
    }
   ],
   "source": [
    "import java.util.Scanner; \n",
    "Scanner input = new Scanner(System.in);\n",
    "\n",
    "String[][] nama = new String[4][5]; \n",
    "\n",
    "for(int i = 0; i < nama.length; i++){\n",
    "    for(int j = 0; j < nama[0].length; j++){\n",
    "        System.out.print(\"Pada baris ke-\" + (i+1) + \",\" + \" Masukkan nama huruf kolom ke-\" + (j+1) + \" : \"); \n",
    "        nama[i][j] = input.nextLine();\n",
    "    }  \n",
    "}\n",
    "System.out.println(); \n",
    "System.out.println(nama[0][4] + \" adalah huruf terbesar pada baris berada di kolom \"); \n",
    "System.out.println(nama[1][4] + \" adalah huruf terbesar pada baris berada di kolom \"); \n",
    "System.out.println(nama[2][4] + \" adalah huruf terbesar pada baris berada di kolom \"); \n",
    "System.out.println(nama[3][4] + \" adalah huruf terbesar pada baris berada di kolom \"); "
   ]
  },
  {
   "cell_type": "code",
   "execution_count": null,
   "id": "45411948",
   "metadata": {},
   "outputs": [],
   "source": []
  },
  {
   "cell_type": "code",
   "execution_count": 20,
   "id": "4bfd2a59",
   "metadata": {},
   "outputs": [
    {
     "name": "stdout",
     "output_type": "stream",
     "text": [
      "17-11-2021\n",
      "2021\n"
     ]
    }
   ],
   "source": [
    "//Soal 4\n",
    "\n",
    "import java.text.SimpleDateFormat; \n",
    "import java.util.Date; \n",
    "\n",
    "Date tgl = new Date();\n",
    "\n",
    "SimpleDateFormat d = new SimpleDateFormat(\"d-M-Y\");\n",
    "String ini_tanggal = d.format(tgl);\n",
    "System.out.println(ini_tanggal);\n",
    "\n",
    "SimpleDateFormat d = new SimpleDateFormat(\"Y\");\n",
    "String ini_tahun = d.format(tgl);\n",
    "System.out.println(ini_tahun);"
   ]
  },
  {
   "cell_type": "code",
   "execution_count": 30,
   "id": "4bd15757",
   "metadata": {},
   "outputs": [
    {
     "name": "stdout",
     "output_type": "stream",
     "text": [
      "17-11-2021\n",
      "2021\n",
      "\n",
      "17 November 2021\n"
     ]
    }
   ],
   "source": [
    "//Modifikasi dan menambahkan Looping untuk menampilkan Bulan \n",
    "\n",
    "import java.text.SimpleDateFormat; \n",
    "import java.util.Date; \n",
    "\n",
    "Date tgl = new Date();\n",
    "\n",
    "SimpleDateFormat d = new SimpleDateFormat(\"d-M-Y\");\n",
    "String ini_tanggal = d.format(tgl);\n",
    "System.out.println(ini_tanggal);\n",
    "\n",
    "SimpleDateFormat d = new SimpleDateFormat(\"Y\");\n",
    "String ini_tahun = d.format(tgl);\n",
    "System.out.println(ini_tahun);\n",
    "\n",
    "String[] bulan = {\"Januari\", \"Februari\", \"Maret\", \"April\", \"Mei\", \"Juni\", \"Juli\", \"Agustus\", \"September\", \"Oktober\", \"November\", \"Desember\"}; \n",
    "String bulan_ini; \n",
    "\n",
    "for(int i = 0; i < bulan.length; i++){\n",
    "    bulan_ini = bulan[10];\n",
    "}\n",
    "System.out.println();\n",
    "\n",
    "SimpleDateFormat d = new SimpleDateFormat(\"d\");\n",
    "String ini_tanggal = d.format(tgl);\n",
    "System.out.println(ini_tanggal + \" \" + bulan_ini + \" \" + ini_tahun)"
   ]
  },
  {
   "cell_type": "code",
   "execution_count": null,
   "id": "1962fcb1",
   "metadata": {},
   "outputs": [],
   "source": []
  }
 ],
 "metadata": {
  "kernelspec": {
   "display_name": "Java",
   "language": "java",
   "name": "java"
  },
  "language_info": {
   "codemirror_mode": "java",
   "file_extension": ".jshell",
   "mimetype": "text/x-java-source",
   "name": "Java",
   "pygments_lexer": "java",
   "version": "11.0.12+8-LTS-237"
  }
 },
 "nbformat": 4,
 "nbformat_minor": 5
}
