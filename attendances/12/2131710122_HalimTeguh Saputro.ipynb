{
 "cells": [
  {
   "cell_type": "code",
   "execution_count": 86,
   "id": "da111c33",
   "metadata": {},
   "outputs": [
    {
     "name": "stdout",
     "output_type": "stream",
     "text": [
      "Nama\t\t: Halim Teguh Saputro\n",
      "Kelas/absen\t: MI-1E/07\n",
      "NIM\t\t: 2131710122\n"
     ]
    }
   ],
   "source": [
    "System.out.println(\"Nama\\t\\t: Halim Teguh Saputro\");\n",
    "System.out.println(\"Kelas/absen\\t: MI-1E/07\");\n",
    "System.out.println(\"NIM\\t\\t: 2131710122\");"
   ]
  },
  {
   "cell_type": "code",
   "execution_count": 94,
   "id": "aabdf48a",
   "metadata": {},
   "outputs": [
    {
     "name": "stdout",
     "output_type": "stream",
     "text": [
      "Soal 1\n",
      "\n",
      "Masukkan nilai n:5\n",
      "\n",
      "1\n",
      "12\n",
      "123\n",
      "1234\n",
      "12345\n"
     ]
    }
   ],
   "source": [
    "System.out.println(\"Soal 1\");\n",
    "System.out.println();\n",
    "\n",
    "int n;\n",
    "import java.util.Scanner;\n",
    "Scanner input = new Scanner(System.in);\n",
    "System.out.print(\"Masukkan nilai n:\");\n",
    "n = input.nextInt();\n",
    "System.out.println();\n",
    "\n",
    "for(int i = 1; i <= n; i++){\n",
    "    for(int j = 1; j<=i; j++){\n",
    "     System.out.print(j);\n",
    "    }\n",
    "   System.out.println();\n",
    "}"
   ]
  },
  {
   "cell_type": "code",
   "execution_count": 95,
   "id": "4f12cd40",
   "metadata": {},
   "outputs": [
    {
     "name": "stdout",
     "output_type": "stream",
     "text": [
      "Soal 2\n",
      "\n",
      "Masukkan nilai n:5\n",
      "\n",
      "1\n",
      "22\n",
      "333\n",
      "4444\n",
      "55555\n"
     ]
    }
   ],
   "source": [
    "System.out.println(\"Soal 2\");\n",
    "System.out.println();\n",
    "\n",
    "int n;\n",
    "import java.util.Scanner;\n",
    "Scanner input = new Scanner(System.in);\n",
    "System.out.print(\"Masukkan nilai n:\");\n",
    "n = input.nextInt();\n",
    "System.out.println();\n",
    "\n",
    "for(int i = 1; i <= n; i++){\n",
    "    for(int j = 0; j<i; j++){\n",
    "     System.out.print(i);\n",
    "    }\n",
    "   System.out.println();\n",
    "}"
   ]
  },
  {
   "cell_type": "code",
   "execution_count": 1,
   "id": "1fb9b5c8",
   "metadata": {},
   "outputs": [
    {
     "name": "stdout",
     "output_type": "stream",
     "text": [
      "Soal 3\n",
      "\n",
      "HALIM TEGUH SAPUTRO\n",
      "\n",
      "Masukkan char nama: H\n",
      "Masukkan char nama: A\n",
      "Masukkan char nama: L\n",
      "Masukkan char nama: I\n",
      "Masukkan char nama: M\n",
      "\n",
      "Masukkan char nama: T\n",
      "Masukkan char nama: E\n",
      "Masukkan char nama: G\n",
      "Masukkan char nama: U\n",
      "Masukkan char nama: H\n",
      "\n",
      "Masukkan char nama: S\n",
      "Masukkan char nama: A\n",
      "Masukkan char nama: P\n",
      "Masukkan char nama: U\n",
      "Masukkan char nama: T\n",
      "\n",
      "Masukkan char nama: R\n",
      "Masukkan char nama: O\n",
      "Masukkan char nama: T\n",
      "Masukkan char nama: G\n",
      "Masukkan char nama: B\n",
      "\n",
      "H A L I M \n",
      "T E G U H \n",
      "S A P U T \n",
      "R O T G B \n",
      "\n",
      "M adalah huruf terbesar pada baris 1 berada di kolom 5.\n",
      "U adalah huruf terbesar pada baris 2 berada di kolom 4.\n",
      "U adalah huruf terbesar pada baris 3 berada di kolom 4.\n",
      "T adalah huruf terbesar pada baris 4 berada di kolom 3.\n"
     ]
    }
   ],
   "source": [
    "System.out.println(\"Soal 3\");\n",
    "System.out.println();\n",
    "\n",
    "import java.util.Scanner;\n",
    "Scanner input = new Scanner(System.in);\n",
    "\n",
    "System.out.println(\"HALIM TEGUH SAPUTRO\\n\");\n",
    "\n",
    "char[][] tempat = new char[4][5];\n",
    "\n",
    "for(int i=0; i<tempat.length; i++){\n",
    "    for(int j=0; j<tempat[0].length; j++){\n",
    "        System.out.print(\"Masukkan char nama: \");\n",
    "        tempat[i][j] = input.next().charAt(0);\n",
    "    }\n",
    "    System.out.println();\n",
    "}\n",
    "\n",
    "for(int i=0; i<tempat.length; i++){\n",
    "    for(int j=0; j<tempat[0].length; j++){\n",
    "        System.out.print(tempat[i][j]+ \" \");\n",
    "    }\n",
    "    System.out.println();\n",
    "}\n",
    "\n",
    "System.out.println();\n",
    "\n",
    "for(int i=0; i<tempat.length; i++){\n",
    "    char nama = 'A';\n",
    "    int kolom = 0;\n",
    "    for(int j=0; j<tempat[0].length; j++){\n",
    "        if(tempat[i][j]>nama){\n",
    "        nama = tempat[i][j];\n",
    "        kolom = j+1;\n",
    "        }\n",
    "    }\n",
    "    System.out.println(nama + \" adalah huruf terbesar pada baris \" + (i+1) + \" berada di kolom \" + kolom + \".\");\n",
    "}\n"
   ]
  },
  {
   "cell_type": "code",
   "execution_count": 2,
   "id": "2070e32f",
   "metadata": {},
   "outputs": [
    {
     "name": "stdout",
     "output_type": "stream",
     "text": [
      "Soal 4\n",
      "\n",
      "17 November 2021\n",
      "2021\n"
     ]
    }
   ],
   "source": [
    "System.out.println(\"Soal 4\");\n",
    "System.out.println();\n",
    "\n",
    "import java.text.SimpleDateFormat;\n",
    "import java.util.Date;\n",
    "\n",
    "Date tgl = new Date();\n",
    "\n",
    "    SimpleDateFormat d = new SimpleDateFormat(\"M\");\n",
    "    SimpleDateFormat hasil = new SimpleDateFormat(\"d MMMM Y\");\n",
    "    String ini_tanggal = hasil.format(tgl);\n",
    "    System.out.println(ini_tanggal);\n",
    "\n",
    "SimpleDateFormat d = new SimpleDateFormat(\"Y\");\n",
    "String ini_tahun = d.format(tgl);\n",
    "System.out.println(ini_tahun);"
   ]
  },
  {
   "cell_type": "code",
   "execution_count": null,
   "id": "c8cee094",
   "metadata": {},
   "outputs": [],
   "source": []
  }
 ],
 "metadata": {
  "kernelspec": {
   "display_name": "Java",
   "language": "java",
   "name": "java"
  },
  "language_info": {
   "codemirror_mode": "java",
   "file_extension": ".jshell",
   "mimetype": "text/x-java-source",
   "name": "Java",
   "pygments_lexer": "java",
   "version": "11.0.12+8-LTS-237"
  }
 },
 "nbformat": 4,
 "nbformat_minor": 5
}
