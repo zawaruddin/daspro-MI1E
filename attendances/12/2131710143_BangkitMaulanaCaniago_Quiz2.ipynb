{
 "cells": [
  {
   "cell_type": "markdown",
   "id": "0f261e56",
   "metadata": {},
   "source": [
    "## NIM : 2131710143\n",
    "## NAMA : BANGKIT MAULANA CANIAGO\n"
   ]
  },
  {
   "cell_type": "code",
   "execution_count": 4,
   "id": "117cc5d8",
   "metadata": {},
   "outputs": [
    {
     "name": "stdout",
     "output_type": "stream",
     "text": [
      "Masukkan Angka : 5\n",
      "1\n",
      "12\n",
      "123\n",
      "1234\n",
      "12345\n"
     ]
    }
   ],
   "source": [
    "Scanner sc = new Scanner(System.in);\n",
    "int n;\n",
    "System.out.print(\"Masukkan Angka : \" );\n",
    "n = sc.nextInt();\n",
    "for(int i = 1; i<=n;i++){\n",
    "    for(int j = 1 ; j<=i;j++){\n",
    "        System.out.print(j);\n",
    "    }\n",
    "    System.out.println();\n",
    "}"
   ]
  },
  {
   "cell_type": "code",
   "execution_count": 3,
   "id": "dde6d3d6",
   "metadata": {},
   "outputs": [
    {
     "name": "stdout",
     "output_type": "stream",
     "text": [
      "Masukkan Angka : 5\n",
      "1\n",
      "22\n",
      "333\n",
      "4444\n",
      "55555\n"
     ]
    }
   ],
   "source": [
    "Scanner sc = new Scanner(System.in);\n",
    "int n;\n",
    "System.out.print(\"Masukkan Angka : \" );\n",
    "n = sc.nextInt();\n",
    "for(int i = 1; i<=n;i++){\n",
    "    for(int j = 1 ; j<=i;j++){\n",
    "        System.out.print(i);\n",
    "    }\n",
    "    System.out.println();\n",
    "}"
   ]
  },
  {
   "cell_type": "code",
   "execution_count": 2,
   "id": "0244bb6d",
   "metadata": {},
   "outputs": [
    {
     "name": "stdout",
     "output_type": "stream",
     "text": [
      "Masukan Huruf : B\n",
      "Masukan Huruf : A\n",
      "Masukan Huruf : N\n",
      "Masukan Huruf : G\n",
      "Masukan Huruf : K\n",
      "\n",
      "Masukan Huruf : I\n",
      "Masukan Huruf : T\n",
      "Masukan Huruf : M\n",
      "Masukan Huruf : A\n",
      "Masukan Huruf : U\n",
      "\n",
      "Masukan Huruf : L\n",
      "Masukan Huruf : A\n",
      "Masukan Huruf : N\n",
      "Masukan Huruf : A\n",
      "Masukan Huruf : C\n",
      "\n",
      "Masukan Huruf : A\n",
      "Masukan Huruf : N\n",
      "Masukan Huruf : I\n",
      "Masukan Huruf : A\n",
      "Masukan Huruf : G\n",
      "\n",
      "====================\n",
      "B A N G K \n",
      "I T M A U \n",
      "L A N A C \n",
      "A N I A G \n",
      "====================\n",
      "N adalah huruf terbesar pada baris 1 berada di kolom 3\n",
      "U adalah huruf terbesar pada baris 2 berada di kolom 5\n",
      "N adalah huruf terbesar pada baris 3 berada di kolom 3\n",
      "N adalah huruf terbesar pada baris 4 berada di kolom 2\n"
     ]
    }
   ],
   "source": [
    "Scanner sc = new Scanner(System.in);\n",
    "char[][] n = new char[4][5];\n",
    "char a;\n",
    "int max , asc , index;\n",
    "for(int i = 0; i<n.length;i++){\n",
    "    for(int j = 0 ; j<n[0].length;j++){\n",
    "        System.out.print(\"Masukan Huruf : \");\n",
    "        n[i][j] = sc.next().charAt(0);\n",
    "    }\n",
    "    System.out.println();\n",
    "}\n",
    "System.out.println(\"====================\");\n",
    "for(int i = 0; i<n.length;i++){\n",
    "    for(int j = 0 ; j<n[0].length;j++){\n",
    "        System.out.print(n[i][j] + \" \");\n",
    "    }\n",
    "    System.out.println();\n",
    "}\n",
    "System.out.println(\"====================\");\n",
    "for(int k = 0 ;k < n.length ; k++){\n",
    "    max = 0;\n",
    "    for(int l = 0 ; l < n[k].length ;l++){\n",
    "        asc = (int) n[k][l]; \n",
    "        if(n[k][l] > max){\n",
    "            max = n[k][l];\n",
    "            index = l;\n",
    "        }\n",
    "        a = (char) max;\n",
    "    }\n",
    "    System.out.println(a + \" adalah huruf terbesar pada baris \"+(k+1)+\" berada di kolom \" + (index + 1));\n",
    "}\n",
    "\n"
   ]
  },
  {
   "cell_type": "code",
   "execution_count": 6,
   "id": "9b36636b",
   "metadata": {},
   "outputs": [
    {
     "name": "stdout",
     "output_type": "stream",
     "text": [
      "17 November 2021"
     ]
    }
   ],
   "source": [
    "import java.text.SimpleDateFormat;\n",
    "import java.util.Date;\n",
    "\n",
    "Date tgl = new Date();\n",
    "String bulann[] = {\"Januari\" , \"Februari\" , \"Maret\" , \"April\" , \"Mei\" , \"Juni\" , \"Juli\" , \"Agustus\" , \"September\" , \"Oktober\" , \"November\" , \"Desember\"};\n",
    "\n",
    "SimpleDateFormat d = new SimpleDateFormat(\"d\");\n",
    "String tanggal = d.format(tgl);\n",
    "SimpleDateFormat d = new SimpleDateFormat(\"M\");\n",
    "String ini_bulan = d.format(tgl);\n",
    "int bulan = Integer.parseInt(ini_bulan);\n",
    "SimpleDateFormat d = new SimpleDateFormat(\"Y\");\n",
    "String tahun = d.format(tgl);\n",
    "System.out.print(tanggal+\" \"+(bulann[bulan-1])+\" \"+tahun);"
   ]
  },
  {
   "cell_type": "code",
   "execution_count": null,
   "id": "125dc063",
   "metadata": {},
   "outputs": [],
   "source": []
  }
 ],
 "metadata": {
  "kernelspec": {
   "display_name": "Java",
   "language": "java",
   "name": "java"
  },
  "language_info": {
   "codemirror_mode": "java",
   "file_extension": ".jshell",
   "mimetype": "text/x-java-source",
   "name": "Java",
   "pygments_lexer": "java",
   "version": "11+28"
  }
 },
 "nbformat": 4,
 "nbformat_minor": 5
}
