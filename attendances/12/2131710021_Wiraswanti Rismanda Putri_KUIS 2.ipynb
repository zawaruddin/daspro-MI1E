{
 "cells": [
  {
   "cell_type": "markdown",
   "id": "42ae48eb",
   "metadata": {},
   "source": [
    "### KUIS 2\n",
    "### NAMA : WIRASWANTI RISMANDA PUTRI\n",
    "### NIM : 2131710021"
   ]
  },
  {
   "cell_type": "code",
   "execution_count": 34,
   "id": "c7286bd5",
   "metadata": {
    "scrolled": true
   },
   "outputs": [
    {
     "name": "stdout",
     "output_type": "stream",
     "text": [
      "Masukkan jumlah baris: 5\n",
      "1\n",
      "12\n",
      "123\n",
      "1234\n",
      "12345\n"
     ]
    }
   ],
   "source": [
    "//Jawaban No 1//\n",
    "import java.util.Scanner;\n",
    "Scanner sc = new Scanner(System.in);\n",
    "\n",
    "System.out.print(\"Masukkan jumlah baris: \");\n",
    "int N = sc.nextInt();\n",
    "\n",
    "for(int i = 1; i <= N; i++) {\n",
    "    for(int j = 1; j <= i; j++) {\n",
    "        System.out.print(j);\n",
    "    }\n",
    "    System.out.println();\n",
    "}"
   ]
  },
  {
   "cell_type": "code",
   "execution_count": 32,
   "id": "d7ac7b1a",
   "metadata": {},
   "outputs": [
    {
     "name": "stdout",
     "output_type": "stream",
     "text": [
      "Masukkan jumlah baris: 5\n",
      "1\n",
      "22\n",
      "333\n",
      "4444\n",
      "55555\n"
     ]
    }
   ],
   "source": [
    "//Jawaban  No 2//\n",
    "import java.util.Scanner;\n",
    "Scanner sc = new Scanner(System.in);\n",
    "\n",
    "System.out.print(\"Masukkan jumlah baris: \");\n",
    "int N = sc.nextInt();\n",
    "\n",
    "for(int i = 1; i <= N; i++) {\n",
    "    for(int j = 1; j <= i; j++) {\n",
    "        System.out.print(i);\n",
    "    }\n",
    "    System.out.println();\n",
    "}"
   ]
  },
  {
   "cell_type": "code",
   "execution_count": 4,
   "id": "a9160d3a",
   "metadata": {
    "scrolled": true
   },
   "outputs": [
    {
     "name": "stdout",
     "output_type": "stream",
     "text": [
      "Nama : WIRASWANTI RISMANDA PUTRI\n",
      "Masukan huruf[0][0]: W\n",
      "Masukan huruf[0][1]: I\n",
      "Masukan huruf[0][2]: R\n",
      "Masukan huruf[0][3]: A\n",
      "Masukan huruf[0][4]: S\n",
      "Masukan huruf[1][0]: W\n",
      "Masukan huruf[1][1]: A\n",
      "Masukan huruf[1][2]: N\n",
      "Masukan huruf[1][3]: T\n",
      "Masukan huruf[1][4]: I\n",
      "Masukan huruf[2][0]: R\n",
      "Masukan huruf[2][1]: I\n",
      "Masukan huruf[2][2]: S\n",
      "Masukan huruf[2][3]: M\n",
      "Masukan huruf[2][4]: A\n",
      "Masukan huruf[3][0]: N\n",
      "Masukan huruf[3][1]: D\n",
      "Masukan huruf[3][2]: A\n",
      "Masukan huruf[3][3]: P\n",
      "Masukan huruf[3][4]: U\n",
      "W I R A S \n",
      "W A N T I \n",
      "R I S M A \n",
      "N D A P U \n",
      "W adalah huruf terbesar pada baris 1 berada di kolom 1\n",
      "W adalah huruf terbesar pada baris 2 berada di kolom 1\n",
      "S adalah huruf terbesar pada baris 3 berada di kolom 3\n",
      "U adalah huruf terbesar pada baris 4 berada di kolom 5\n"
     ]
    }
   ],
   "source": [
    "//Jawaban No 3//\n",
    "import java.util.Scanner;\n",
    "Scanner sc = new Scanner(System.in);\n",
    "char[][] huruf = new char[4][5];\n",
    "int x, y;\n",
    "int castingHuruf;\n",
    "int index;\n",
    "char hasil;\n",
    "\n",
    "\n",
    "System.out.println(\"Nama : WIRASWANTI RISMANDA PUTRI\");\n",
    "for(int x = 0; x < huruf.length; x++) {\n",
    "    for(int y = 0; y < huruf[0].length; y++) {\n",
    "        System.out.printf(\"Masukan huruf[%d][%d]: \", x, y);\n",
    "        huruf[x][y] = sc.next().charAt(0);\n",
    "    }\n",
    "}\n",
    "\n",
    "for(int x = 0; x < huruf.length; x++) {\n",
    "    for(int y = 0; y < huruf[0].length; y++) {\n",
    "        System.out.print(huruf[x][y] + \" \");\n",
    "    }\n",
    "    System.out.println();\n",
    "}\n",
    "\n",
    "for(int x = 0; x < huruf.length; x++){\n",
    "    int max = 0;\n",
    "    for(int y = 0; y < huruf[x].length; y++){\n",
    "    castingHuruf= (int) huruf[x][y];\n",
    "    if(huruf[x][y] > max){\n",
    "    max = huruf[x][y];\n",
    "    index = y;\n",
    "    }\n",
    "    hasil = (char) max;\n",
    "    }\n",
    "    System.out.println( hasil + \" adalah huruf terbesar pada baris \" + (x+1) +\" berada di kolom \" + (index + 1));\n",
    "}"
   ]
  },
  {
   "cell_type": "code",
   "execution_count": 7,
   "id": "f47b41a2",
   "metadata": {},
   "outputs": [
    {
     "name": "stdout",
     "output_type": "stream",
     "text": [
      "17 November 2021"
     ]
    }
   ],
   "source": [
    "//Jawaban No 4//\n",
    "import java.text.SimpleDateFormat;\n",
    "import java.util.Date;\n",
    "String[] bulan = {\"Januari\", \"Februari\", \"Maret\", \"April\", \"Mei\", \"Juni\", \"Juli\", \"Agustus\", \"September\", \"Oktober\", \"November\", \"Desember\"};\n",
    "\n",
    "Date tgl = new Date();\n",
    "\n",
    "SimpleDateFormat d = new SimpleDateFormat(\"d \");\n",
    "String ini_tanggal = d.format(tgl);\n",
    "System.out.print(ini_tanggal);\n",
    "\n",
    "SimpleDateFormat d = new SimpleDateFormat(\" M\");\n",
    "String ini_bulan = d.format(tgl);\n",
    "System.out.print(bulan[10]);\n",
    "\n",
    "SimpleDateFormat d = new SimpleDateFormat(\" Y\");\n",
    "String ini_tahun = d.format(tgl);\n",
    "System.out.print(ini_tahun);"
   ]
  }
 ],
 "metadata": {
  "kernelspec": {
   "display_name": "Java",
   "language": "java",
   "name": "java"
  },
  "language_info": {
   "codemirror_mode": "java",
   "file_extension": ".jshell",
   "mimetype": "text/x-java-source",
   "name": "Java",
   "pygments_lexer": "java",
   "version": "11.0.12+8-LTS-237"
  }
 },
 "nbformat": 4,
 "nbformat_minor": 5
}
