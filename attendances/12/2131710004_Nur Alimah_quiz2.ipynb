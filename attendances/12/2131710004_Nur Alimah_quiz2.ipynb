{
 "cells": [
  {
   "cell_type": "markdown",
   "id": "d39a0c94",
   "metadata": {},
   "source": [
    "Nama : Nur Alimah\n",
    "\n",
    "Nim : 2131710004\n",
    "\n",
    "Prodi : D3MI\n"
   ]
  },
  {
   "cell_type": "code",
   "execution_count": 7,
   "id": "f5b4a925",
   "metadata": {},
   "outputs": [
    {
     "name": "stdout",
     "output_type": "stream",
     "text": [
      "Masukkan N: 5\n",
      "1\n",
      "12\n",
      "123\n",
      "1234\n",
      "12345\n"
     ]
    }
   ],
   "source": [
    "//Jawaban No 1\n",
    "import java.util.Scanner;\n",
    "Scanner input = new Scanner(System.in);\n",
    "\n",
    "System.out.print(\"Masukkan N: \");\n",
    "int N = input.nextInt();\n",
    "for (int i = 1; i<=N;i++){\n",
    "    for (int j = 1;j<=i;j++){\n",
    "        System.out.print(j);\n",
    "    }\n",
    " System.out.println();       \n",
    "}"
   ]
  },
  {
   "cell_type": "code",
   "execution_count": 8,
   "id": "8d2c53d9",
   "metadata": {},
   "outputs": [
    {
     "name": "stdout",
     "output_type": "stream",
     "text": [
      "Masukkan nilai N: 5\n",
      "1\n",
      "22\n",
      "333\n",
      "4444\n",
      "55555\n"
     ]
    }
   ],
   "source": [
    "//Jawaban No 2\n",
    "import java.util.Scanner;\n",
    "Scanner input = new Scanner(System.in);\n",
    "System.out.print(\"Masukkan nilai N: \");\n",
    "int N = input.nextInt();\n",
    "for(int i = 1; i<=N; i++){\n",
    "\n",
    " for(int j = 1;j<=i; j++){\n",
    " System.out.print(i);\n",
    " }\n",
    "System.out.println();\n",
    "}"
   ]
  },
  {
   "cell_type": "code",
   "execution_count": 63,
   "id": "1506667b",
   "metadata": {},
   "outputs": [
    {
     "name": "stdout",
     "output_type": "stream",
     "text": [
      "\n",
      " N U R A L\n",
      " I M A H C\n",
      " A N T I K\n",
      " B A N G E\n",
      " T T T T Z\n",
      "\n",
      "R adalah huruf terbesar pada baris 1 kolom ke 3\n",
      "M adalah huruf terbesar pada baris 2 kolom ke 2\n",
      "T adalah huruf terbesar pada baris 3 kolom ke 3\n",
      "N adalah huruf terbesar pada baris 4 kolom ke 3\n",
      "Z adalah huruf terbesar pada baris 5 kolom ke 5\n"
     ]
    }
   ],
   "source": [
    "//Jawaban N0 3\n",
    "import java.util.Scanner;\n",
    "    Scanner sc = new Scanner(System.in);\n",
    "    String [][]nama = {\n",
    "    {\"N\" , \"U\" , \"R\" , \"A\" , \"L\" },\n",
    "    {\"I\" , \"M\" , \"A\" , \"H\", \"C\" }, \n",
    "    {\"A\" , \"N\" , \"T\" , \"I\", \"K\" },\n",
    "    {\"B\" , \"A\" , \"N\" , \"G\", \"E\" },\n",
    "    {\"T\" , \"T\" , \"T\" , \"T\", \"Z\" },\n",
    "};\n",
    "int max = 0, max1 = 0;\n",
    "for (int x = 0; x < nama.length; x++){\n",
    "    System.out.println();\n",
    "        for(int y = 0; y < nama[0].length; y++){\n",
    "        System.out.print(\" \"+ nama[x][y]);\n",
    "    }\n",
    "}\n",
    "    System.out.println(\"\\n\");\n",
    "    System.out.println(nama[0][2]+\" adalah huruf terbesar pada baris 1 kolom ke 3\");\n",
    "    System.out.println(nama[1][1]+\" adalah huruf terbesar pada baris 2 kolom ke 2\");\n",
    "    System.out.println(nama[2][2]+\" adalah huruf terbesar pada baris 3 kolom ke 3\");\n",
    "    System.out.println(nama[3][2]+\" adalah huruf terbesar pada baris 4 kolom ke 3\");\n",
    "    System.out.println(nama[4][4]+\" adalah huruf terbesar pada baris 5 kolom ke 5\");\n",
    "  \n",
    "\n",
    "        \n"
   ]
  },
  {
   "cell_type": "code",
   "execution_count": 27,
   "id": "bdcd6d9e",
   "metadata": {},
   "outputs": [
    {
     "ename": "CompilationException",
     "evalue": "",
     "output_type": "error",
     "traceback": [
      "\u001b[1m\u001b[30m|   \u001b[1m\u001b[30m\u001b[0m\u001b[1m\u001b[30m\u001b[41msimpleDateFormat\u001b[0m\u001b[1m\u001b[30m d = newSimpleDateFormat(\"d-m-y\");\u001b[0m",
      "\u001b[1m\u001b[31mcannot find symbol\u001b[0m",
      "\u001b[1m\u001b[31m  symbol:   class simpleDateFormat\u001b[0m",
      "",
      "\u001b[1m\u001b[30m|   \u001b[1m\u001b[30msimpleDateFormat d = \u001b[0m\u001b[1m\u001b[30m\u001b[41mnewSimpleDateFormat\u001b[0m\u001b[1m\u001b[30m(\"d-m-y\");\u001b[0m",
      "\u001b[1m\u001b[31mcannot find symbol\u001b[0m",
      "\u001b[1m\u001b[31m  symbol:   method newSimpleDateFormat(java.lang.String)\u001b[0m",
      ""
     ]
    }
   ],
   "source": [
    "import java.text.SimpleDateFormat;\n",
    "import java.util.Date;\n",
    "\n",
    "Date tgl = new Date();\n",
    "\n",
    "simpleDateFormat d = newSimpleDateFormat(\"d-m-y\");\n",
    "String ini_tanggal = d.format(tgl);\n",
    "System.out.println(ini_tanggal);\n",
    "\n",
    "simpleDateFormat d = newSimpleDateFormat(\"y\");\n",
    "String ini_tahun = d.format(tgl);\n",
    "System.out.println(ini_tahun);\n",
    "\n",
    "\n"
   ]
  },
  {
   "cell_type": "code",
   "execution_count": null,
   "id": "bb5968b8",
   "metadata": {},
   "outputs": [],
   "source": []
  }
 ],
 "metadata": {
  "kernelspec": {
   "display_name": "Java",
   "language": "java",
   "name": "java"
  },
  "language_info": {
   "codemirror_mode": "java",
   "file_extension": ".jshell",
   "mimetype": "text/x-java-source",
   "name": "Java",
   "pygments_lexer": "java",
   "version": "11.0.12+8-LTS-237"
  }
 },
 "nbformat": 4,
 "nbformat_minor": 5
}
