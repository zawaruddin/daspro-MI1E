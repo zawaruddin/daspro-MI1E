{
 "cells": [
  {
   "cell_type": "markdown",
   "id": "f4b4a11f",
   "metadata": {},
   "source": [
    "## KUIS DASPRO 2\n",
    "\n",
    "NAMA : Jati Wahyu Kusuma\n",
    "\n",
    "NIM  : 2131710139\n"
   ]
  },
  {
   "cell_type": "code",
   "execution_count": 1,
   "id": "ec08b513",
   "metadata": {},
   "outputs": [
    {
     "name": "stdout",
     "output_type": "stream",
     "text": [
      "Masukkan nilai N : 5\n",
      "1\n",
      "12\n",
      "123\n",
      "1234\n",
      "12345\n"
     ]
    }
   ],
   "source": [
    "// jawaban soal nomor 1\n",
    "\n",
    "import java.util.Scanner;\n",
    "Scanner input = new Scanner(System.in);\n",
    "\n",
    "System.out.print(\"Masukkan nilai N : \");\n",
    "int N =input.nextInt();\n",
    "\n",
    "for(int i =1; i <= N; i++){\n",
    "    for(int j = 1; j <=i; j++){\n",
    "        System.out.print(j);\n",
    "    }\n",
    "     System.out.println();\n",
    "}\n",
    "    "
   ]
  },
  {
   "cell_type": "code",
   "execution_count": 2,
   "id": "088370d4",
   "metadata": {},
   "outputs": [
    {
     "name": "stdout",
     "output_type": "stream",
     "text": [
      "Masukkan nilai N : 5\n",
      "1\n",
      "22\n",
      "333\n",
      "4444\n",
      "55555\n"
     ]
    }
   ],
   "source": [
    "// soal nomor 2\n",
    "\n",
    "import java.util.Scanner;\n",
    "Scanner sc = new Scanner(System.in);\n",
    "\n",
    "System.out.print(\"Masukkan nilai N : \");\n",
    "int N =input.nextInt();\n",
    "\n",
    "for(int i =1; i <= N; i++){\n",
    "    for(int j = 1; j <=i; j++){\n",
    "        System.out.print(i);\n",
    "    }\n",
    "     System.out.println();\n",
    "}\n",
    "    \n",
    "\n",
    "\n"
   ]
  },
  {
   "cell_type": "code",
   "execution_count": 18,
   "id": "9b00d63d",
   "metadata": {},
   "outputs": [
    {
     "name": "stdout",
     "output_type": "stream",
     "text": [
      "huruf pada[0,0]= J\n",
      "huruf pada[0,1]= A\n",
      "huruf pada[0,2]= T\n",
      "huruf pada[0,3]= I\n",
      "huruf pada[0,4]= I\n",
      "huruf pada[1,0]= W\n",
      "huruf pada[1,1]= A\n",
      "huruf pada[1,2]= H\n",
      "huruf pada[1,3]= Y\n",
      "huruf pada[1,4]= U\n",
      "huruf pada[2,0]= K\n",
      "huruf pada[2,1]= U\n",
      "huruf pada[2,2]= S\n",
      "huruf pada[2,3]= U\n",
      "huruf pada[2,4]= M\n",
      "huruf pada[3,0]= A\n",
      "huruf pada[3,1]= A\n",
      "huruf pada[3,2]= A\n",
      "huruf pada[3,3]= A\n",
      "huruf pada[3,4]= A\n",
      "\n",
      "HURUF DALAM BENTUK TABEL\n",
      "\n",
      " J A T I I\n",
      " W A H Y U\n",
      " K U S U M\n",
      " A A A A A\n",
      "\n",
      "I adalah huruf terbesar pada baris 1 kolom ke 5\n",
      "U adalah huruf terbesar pada baris 2 kolom ke 3\n",
      "K adalah huruf terbesar pada baris 3 kolom ke 2\n",
      "A adalah huruf terbesar pada baris 4 kolom ke 1\n"
     ]
    }
   ],
   "source": [
    "// jawaban soal nomor 3\n",
    "\n",
    "import java.util.Scanner;\n",
    "\n",
    "Scanner input = new Scanner (System.in);\n",
    "\n",
    "char nama[][]= new char[4][5];\n",
    "\n",
    "for(int i=0;i<4;i++){\n",
    "    for(int j=0;j<5;j++){\n",
    "    System.out.print(\"huruf pada[\" + (i) + \",\" + (j) + \"]= \");\n",
    "        nama[i][j] = input.next().charAt(0);\n",
    "    }\n",
    "}\n",
    "        \n",
    "int max=0, max1=0;\n",
    "System.out.println();\n",
    "System.out.println(\"HURUF DALAM BENTUK TABEL\");\n",
    "    for(int i=0; i<nama.length;i++){\n",
    "            System.out.println();\n",
    "        for(int j=0; j<nama[0].length;j++){\n",
    "                System.out.print(\" \" + nama[i][j]);\n",
    "                }\n",
    "            }\n",
    "            System.out.println(\"\\n\");\n",
    "            System.out.println(nama[0][4]+\" adalah huruf terbesar pada baris 1 kolom ke 5\");\n",
    "            System.out.println(nama[1][4]+\" adalah huruf terbesar pada baris 2 kolom ke 3\");\n",
    "            System.out.println(nama[2][0]+\" adalah huruf terbesar pada baris 3 kolom ke 2\");\n",
    "            System.out.println(nama[3][0]+\" adalah huruf terbesar pada baris 4 kolom ke 1\");\n"
   ]
  },
  {
   "cell_type": "code",
   "execution_count": 14,
   "id": "44f87adc",
   "metadata": {},
   "outputs": [
    {
     "name": "stdout",
     "output_type": "stream",
     "text": [
      "17 November 2021"
     ]
    }
   ],
   "source": [
    "// jawbaan soal nomor 4\n",
    "\n",
    "import java.text.SimpleDateFormat;\n",
    "import java.util.Date;\n",
    "\n",
    "Date tgl = new Date();\n",
    "String bulann[] = {\"Januari\" , \"Februari\" , \"Maret\" , \"April\" , \"Mei\" , \"Juni\" , \"Juli\" , \"Agustus\" , \"September\" , \"Oktober\" , \"November\" , \"Desember\"};\n",
    "\n",
    "SimpleDateFormat d = new SimpleDateFormat(\"d\");\n",
    "String tanggal = d.format(tgl);\n",
    "\n",
    "SimpleDateFormat d = new SimpleDateFormat(\"M\");\n",
    "String ini_bulan = d.format(tgl);\n",
    "\n",
    "int bulan = Integer.parseInt(ini_bulan);\n",
    "SimpleDateFormat d = new SimpleDateFormat(\"Y\");\n",
    "\n",
    "String tahun = d.format(tgl);\n",
    "System.out.print(tanggal+\" \"+(bulann[bulan-1])+\" \"+tahun);"
   ]
  }
 ],
 "metadata": {
  "kernelspec": {
   "display_name": "Java",
   "language": "java",
   "name": "java"
  },
  "language_info": {
   "codemirror_mode": "java",
   "file_extension": ".jshell",
   "mimetype": "text/x-java-source",
   "name": "Java",
   "pygments_lexer": "java",
   "version": "11.0.12+8-LTS-237"
  }
 },
 "nbformat": 4,
 "nbformat_minor": 5
}
