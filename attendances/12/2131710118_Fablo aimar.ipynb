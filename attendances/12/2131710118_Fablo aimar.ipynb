{
 "cells": [
  {
   "cell_type": "markdown",
   "id": "53022d87",
   "metadata": {},
   "source": [
    "## FABLO AIMAR\n",
    "## 2131710118"
   ]
  },
  {
   "cell_type": "code",
   "execution_count": 1,
   "id": "5cd49471",
   "metadata": {},
   "outputs": [
    {
     "name": "stdout",
     "output_type": "stream",
     "text": [
      "Masukkan nilai N = 5\n",
      "1\n",
      "12\n",
      "123\n",
      "1234\n",
      "12345\n"
     ]
    }
   ],
   "source": [
    "//Jawaban No 1//\n",
    "import java.util.Scanner;\n",
    "Scanner sc = new Scanner(System.in);\n",
    "\n",
    "System.out.print(\"Masukkan nilai N = \");\n",
    "int N = sc.nextInt();\n",
    "\n",
    "for(int i = 1; i<= N; i++){\n",
    "    for(int j = 1; j <= i; j++){\n",
    "        System.out.print(j);\n",
    "    }\n",
    "    System.out.println();\n",
    "}"
   ]
  },
  {
   "cell_type": "code",
   "execution_count": 2,
   "id": "99783941",
   "metadata": {},
   "outputs": [
    {
     "name": "stdout",
     "output_type": "stream",
     "text": [
      "Masukkan nilai N = 5\n",
      "1\n",
      "22\n",
      "333\n",
      "4444\n",
      "55555\n"
     ]
    }
   ],
   "source": [
    "//Jawaban No.2//\n",
    "import java.util.Scanner;\n",
    "Scanner sc = new Scanner(System.in);\n",
    "\n",
    "System.out.print(\"Masukkan nilai N = \");\n",
    "int N = sc.nextInt();\n",
    "\n",
    "for(int i = 1; i<= N; i++){\n",
    "    for(int j = 1; j <= i; j++){\n",
    "        System.out.print(i);\n",
    "    }\n",
    "    System.out.println();\n",
    "}"
   ]
  },
  {
   "cell_type": "code",
   "execution_count": 3,
   "id": "b6b17399",
   "metadata": {},
   "outputs": [
    {
     "name": "stdout",
     "output_type": "stream",
     "text": [
      "Masukkan nama : F\n",
      "Masukkan nama : A\n",
      "Masukkan nama : B\n",
      "Masukkan nama : L\n",
      "Masukkan nama : O\n",
      " \n",
      "Masukkan nama : A\n",
      "Masukkan nama : I\n",
      "Masukkan nama : M\n",
      "Masukkan nama : A\n",
      "Masukkan nama : R\n",
      " \n",
      "Masukkan nama : M\n",
      "Masukkan nama : I\n",
      "Masukkan nama : S\n",
      "Masukkan nama : A\n",
      "Masukkan nama : T\n",
      " \n",
      "Masukkan nama : U\n",
      "Masukkan nama : E\n",
      "Masukkan nama : J\n",
      "Masukkan nama : O\n",
      "Masukkan nama : S\n",
      " \n",
      "F A B L O  \n",
      "A I M A R  \n",
      "M I S A T  \n",
      "U E J O S  \n",
      "O adalah huruf terbesar pada baris 1 berada di kolom 5 \n",
      "R adalah huruf terbesar pada baris 2 berada di kolom 5 \n",
      "T adalah huruf terbesar pada baris 3 berada di kolom 5 \n",
      "U adalah huruf terbesar pada baris 4 berada di kolom 1 \n"
     ]
    }
   ],
   "source": [
    "//Jawaban No.3//\n",
    "import java.util.Scanner;\n",
    "    Scanner sc = new Scanner(System.in);\n",
    "    char[][] nama= new char [4][5];\n",
    "    int max;\n",
    "    int x,y;\n",
    "    int indexbaris=0,indexkolom=0;\n",
    "\n",
    "    for(x = 0; x < nama.length; x++){\n",
    "      for(y = 0; y < nama[0].length; y++){\n",
    "        System.out.print(\"Masukkan huruf : \");\n",
    "        nama[x][y]=sc.next().charAt(0);\n",
    "      }\n",
    "      System.out.println(\" \");\n",
    "    }\n",
    "\n",
    "    for(x = 0; x < nama.length; x++){\n",
    "      for(y = 0; y < nama[0].length; y++){\n",
    "        System.out.print(nama[x][y]+\" \");\n",
    "      }\n",
    "      System.out.println(\" \");\n",
    "    }\n",
    "\n",
    "    for(x = 0; x < nama.length; x++){\n",
    "      max = 0;\n",
    "      for(y = 0; y < nama[0].length; y++){\n",
    "        if(nama[x][y] > max){\n",
    "          max = nama[x][y];\n",
    "          indexbaris = x;\n",
    "          indexkolom = y;\n",
    "        }\n",
    "      }\n",
    "      System.out.printf(\"%s adalah huruf terbesar pada baris %d berada di kolom %d \\n\", (char)max,(indexbaris+1),(indexkolom+1));\n",
    "    }"
   ]
  },
  {
   "cell_type": "code",
   "execution_count": 4,
   "id": "da7e947b",
   "metadata": {},
   "outputs": [
    {
     "name": "stdout",
     "output_type": "stream",
     "text": [
      "17 November 2021"
     ]
    }
   ],
   "source": [
    "//Jawaban No.4//\n",
    "import java.text.SimpleDateFormat;\n",
    "import java.util.Date;\n",
    "\n",
    "Date tgl = new Date();\n",
    "String bulann[] = {\"Januari\" , \"Februari\" , \"Maret\" , \"April\" , \"Mei\" , \"Juni\" , \"Juli\" , \"Agustus\" , \"September\" , \"Oktober\" , \"November\" , \"Desember\"};\n",
    "\n",
    "SimpleDateFormat d = new SimpleDateFormat(\"d\");\n",
    "String tanggal = d.format(tgl);\n",
    "SimpleDateFormat d = new SimpleDateFormat(\"M\");\n",
    "String ini_bulan = d.format(tgl);\n",
    "int bulan = Integer.parseInt(ini_bulan);\n",
    "SimpleDateFormat d = new SimpleDateFormat(\"Y\");\n",
    "String tahun = d.format(tgl);\n",
    "System.out.print(tanggal+\" \"+(bulann[bulan-1])+\" \"+tahun);"
   ]
  }
 ],
 "metadata": {
  "kernelspec": {
   "display_name": "Java",
   "language": "java",
   "name": "java"
  },
  "language_info": {
   "codemirror_mode": "java",
   "file_extension": ".jshell",
   "mimetype": "text/x-java-source",
   "name": "Java",
   "pygments_lexer": "java",
   "version": "17+35-LTS-2724"
  }
 },
 "nbformat": 4,
 "nbformat_minor": 5
}
