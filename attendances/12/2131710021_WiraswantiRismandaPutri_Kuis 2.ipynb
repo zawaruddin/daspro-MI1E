{
 "cells": [
  {
   "cell_type": "markdown",
   "id": "00c1cb5e",
   "metadata": {},
   "source": [
    "### KUIS 2\n",
    "### NAMA : WIRASWANTI RISMANDA PUTRI\n",
    "### NIM : 2131710021"
   ]
  },
  {
   "cell_type": "code",
   "execution_count": 34,
   "id": "c5f8f51a",
   "metadata": {
    "scrolled": true
   },
   "outputs": [
    {
     "name": "stdout",
     "output_type": "stream",
     "text": [
      "Masukkan jumlah baris: 5\n",
      "1\n",
      "12\n",
      "123\n",
      "1234\n",
      "12345\n"
     ]
    }
   ],
   "source": [
    "//Jawaban No 1//\n",
    "import java.util.Scanner;\n",
    "Scanner sc = new Scanner(System.in);\n",
    "\n",
    "System.out.print(\"Masukkan jumlah baris: \");\n",
    "int N = sc.nextInt();\n",
    "\n",
    "for(int i = 1; i <= N; i++) {\n",
    "    for(int j = 1; j <= i; j++) {\n",
    "        System.out.print(j);\n",
    "    }\n",
    "    System.out.println();\n",
    "}"
   ]
  },
  {
   "cell_type": "code",
   "execution_count": 32,
   "id": "23a97547",
   "metadata": {},
   "outputs": [
    {
     "name": "stdout",
     "output_type": "stream",
     "text": [
      "Masukkan jumlah baris: 5\n",
      "1\n",
      "22\n",
      "333\n",
      "4444\n",
      "55555\n"
     ]
    }
   ],
   "source": [
    "//Jawaban  No 2//\n",
    "import java.util.Scanner;\n",
    "Scanner sc = new Scanner(System.in);\n",
    "\n",
    "System.out.print(\"Masukkan jumlah baris: \");\n",
    "int N = sc.nextInt();\n",
    "\n",
    "for(int i = 1; i <= N; i++) {\n",
    "    for(int j = 1; j <= i; j++) {\n",
    "        System.out.print(i);\n",
    "    }\n",
    "    System.out.println();\n",
    "}"
   ]
  },
  {
   "cell_type": "code",
   "execution_count": 44,
   "id": "6aea16db",
   "metadata": {
    "scrolled": true
   },
   "outputs": [
    {
     "name": "stdout",
     "output_type": "stream",
     "text": [
      "\n",
      " W I R A S\n",
      " W A N T I\n",
      " R I S M A\n",
      " N D A P U\n",
      "\n",
      "W adalah huruf terbesar pada baris 1 kolom ke 1\n",
      "W adalah huruf terbesar pada baris 2 kolom ke 1\n",
      "S adalah huruf terbesar pada baris 3 kolom ke 3\n",
      "U adalah huruf terbesar pada baris 4 kolom ke 5\n"
     ]
    }
   ],
   "source": [
    "//Jawaban No 3//\n",
    "import java.util.Scanner;\n",
    "    Scanner sc = new Scanner(System.in);\n",
    "    String [][]nama = {\n",
    "    {\"W\" , \"I\" , \"R\" , \"A\" , \"S\" },\n",
    "    {\"W\" , \"A\" , \"N\" , \"T\" , \"I\" }, \n",
    "    {\"R\" , \"I\" , \"S\" , \"M\" , \"A\" },\n",
    "    {\"N\" , \"D\" , \"A\" , \"P\" , \"U\" },\n",
    "};\n",
    "int max = 0, max1 = 0;\n",
    "\n",
    "for(int i = 0; i < nama.length; i++) {\n",
    "    System.out.println();\n",
    "    for(int j = 0; j < nama[0].length; j++){\n",
    "    System.out.print(\" \"+ nama[i][j]);\n",
    "    }\n",
    "} \n",
    "\n",
    "System.out.println(\"\\n\");\n",
    "System.out.println(nama[0][0] + \" adalah huruf terbesar pada baris 1 kolom ke 1\");\n",
    "System.out.println(nama[1][0] + \" adalah huruf terbesar pada baris 2 kolom ke 1\");\n",
    "System.out.println(nama[2][2] + \" adalah huruf terbesar pada baris 3 kolom ke 3\");\n",
    "System.out.println(nama[3][4] + \" adalah huruf terbesar pada baris 4 kolom ke 5\");"
   ]
  },
  {
   "cell_type": "code",
   "execution_count": 30,
   "id": "354c8347",
   "metadata": {},
   "outputs": [
    {
     "name": "stdout",
     "output_type": "stream",
     "text": [
      "17 November 2021"
     ]
    }
   ],
   "source": [
    "//Jawaban No 4//\n",
    "import java.text.SimpleDateFormat;\n",
    "import java.util.Date;\n",
    "\n",
    "Date tgl = new Date();\n",
    "\n",
    "SimpleDateFormat d = new SimpleDateFormat(\"d\");\n",
    "String ini_tanggal = d.format(tgl);\n",
    "System.out.print(ini_tanggal);\n",
    "\n",
    "SimpleDateFormat d = new SimpleDateFormat(\" MMMM\");\n",
    "String ini_bulan = d.format(tgl);\n",
    "System.out.print(ini_bulan);\n",
    "\n",
    "SimpleDateFormat d = new SimpleDateFormat(\" Y\");\n",
    "String ini_tahun = d.format(tgl);\n",
    "System.out.print(ini_tahun);"
   ]
  }
 ],
 "metadata": {
  "kernelspec": {
   "display_name": "Java",
   "language": "java",
   "name": "java"
  },
  "language_info": {
   "codemirror_mode": "java",
   "file_extension": ".jshell",
   "mimetype": "text/x-java-source",
   "name": "Java",
   "pygments_lexer": "java",
   "version": "11.0.12+8-LTS-237"
  }
 },
 "nbformat": 4,
 "nbformat_minor": 5
}
