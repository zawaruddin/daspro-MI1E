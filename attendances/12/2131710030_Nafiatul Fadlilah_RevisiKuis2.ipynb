{
 "cells": [
  {
   "cell_type": "markdown",
   "id": "53867d1a",
   "metadata": {},
   "source": [
    "### KUIS 2\n",
    "\n",
    "#### Nama: NAFIATUL FADLILAH\n",
    "#### Kelas: MI-1E\n",
    "#### NIM: 2131710030"
   ]
  },
  {
   "cell_type": "code",
   "execution_count": 6,
   "id": "1b25ae0c",
   "metadata": {},
   "outputs": [
    {
     "name": "stdout",
     "output_type": "stream",
     "text": [
      "Masukkan nilai: 5\n",
      "1\n",
      "12\n",
      "123\n",
      "1234\n",
      "12345\n"
     ]
    }
   ],
   "source": [
    "//Jawaban No. 1\n",
    "import java.util.Scanner;\n",
    "Scanner input = new Scanner(System.in);\n",
    "int nilai;\n",
    "\n",
    "System.out.print(\"Masukkan nilai: \");\n",
    "nilai = input.nextInt();\n",
    "\n",
    "for(int i = 1; i <= nilai; i++){\n",
    "    for(int j = 1; j <= i; j++){\n",
    "    System.out.print(j);\n",
    "    }\n",
    "    System.out.println();\n",
    "}"
   ]
  },
  {
   "cell_type": "code",
   "execution_count": 73,
   "id": "e5af6d05",
   "metadata": {},
   "outputs": [
    {
     "name": "stdout",
     "output_type": "stream",
     "text": [
      "Masukkan nilai: 5\n",
      "1\n",
      "22\n",
      "333\n",
      "4444\n",
      "55555\n"
     ]
    }
   ],
   "source": [
    "//Jawaban No. 2\n",
    "import java.util.Scanner;\n",
    "Scanner masuk = new Scanner(System.in);\n",
    "int value;\n",
    "\n",
    "System.out.print(\"Masukkan nilai: \");\n",
    "value = masuk.nextInt();\n",
    "\n",
    "for(int i = 1; i <= value; i++){\n",
    "    for(int j = 1; j <= i; j++){\n",
    "    System.out.print(i + \"\");\n",
    "    }\n",
    "    System.out.println();\n",
    "}"
   ]
  },
  {
   "cell_type": "code",
   "execution_count": 79,
   "id": "f762d2db",
   "metadata": {},
   "outputs": [
    {
     "name": "stdout",
     "output_type": "stream",
     "text": [
      "Nama Lengkap: NAFIATUL FADLILAH\n",
      "Masukkan abjad: N\n",
      "Masukkan abjad: A\n",
      "Masukkan abjad: F\n",
      "Masukkan abjad: I\n",
      "Masukkan abjad: A\n",
      "Masukkan abjad: T\n",
      "Masukkan abjad: U\n",
      "Masukkan abjad: L\n",
      "Masukkan abjad: F\n",
      "Masukkan abjad: A\n",
      "Masukkan abjad: D\n",
      "Masukkan abjad: L\n",
      "Masukkan abjad: I\n",
      "Masukkan abjad: L\n",
      "Masukkan abjad: A\n",
      "Masukkan abjad: H\n",
      "Masukkan abjad: A\n",
      "Masukkan abjad: B\n",
      "Masukkan abjad: C\n",
      "Masukkan abjad: D\n",
      "\n",
      "================TABEL================\n",
      "N A F I A \n",
      "T U L F A \n",
      "D L I L A \n",
      "H A B C D \n",
      "N adalah huruf terbesar pada baris ke-1 berada di kolom 1\n",
      "U adalah huruf terbesar pada baris ke-2 berada di kolom 2\n",
      "L adalah huruf terbesar pada baris ke-3 berada di kolom 2\n",
      "H adalah huruf terbesar pada baris ke-4 berada di kolom 1\n"
     ]
    }
   ],
   "source": [
    "//Jawaban No. 3\n",
    "import java.util.Scanner;\n",
    "Scanner input = new Scanner(System.in);\n",
    "char[][] abjad = new char[4][5];\n",
    "char besar;\n",
    "int abjadCasting, index;\n",
    "\n",
    "System.out.print(\"Nama Lengkap: NAFIATUL FADLILAH\");\n",
    "System.out.print(\"\\n\");\n",
    "for(int i = 0; i < abjad.length; i++){\n",
    "    for(int j = 0; j < abjad[0].length; j++){\n",
    "    System.out.print(\"Masukkan abjad: \");\n",
    "    abjad[i][j] = input.next().charAt(0);\n",
    "    }\n",
    "}\n",
    "\n",
    "System.out.println(\"\\n================TABEL================\");\n",
    "for(int i = 0; i < abjad.length; i++){\n",
    "    for(int j = 0; j < abjad[0].length; j++){\n",
    "    System.out.print(abjad[i][j] + \" \");\n",
    "    }\n",
    "    System.out.println();\n",
    "}\n",
    "\n",
    "for(int i = 0; i < abjad.length; i++){\n",
    "    max = 0;\n",
    "    for(int j = 0; j < abjad[i].length; j++){\n",
    "    abjadCasting = (int) abjad[i][j];\n",
    "    if(abjad[i][j] > max){\n",
    "    max = abjad[i][j];\n",
    "    index = j;\n",
    "    }\n",
    "    besar = (char) max;\n",
    "    }\n",
    "    System.out.println(besar + \" adalah huruf terbesar pada baris ke-\" + (i+1) +\" berada di kolom \" + (index + 1));\n",
    "}"
   ]
  },
  {
   "cell_type": "code",
   "execution_count": 76,
   "id": "7d062134",
   "metadata": {},
   "outputs": [
    {
     "name": "stdout",
     "output_type": "stream",
     "text": [
      "17 November 2021\n",
      "\n",
      "============Output Menggunakan Array=============\n",
      "17 11 2021"
     ]
    }
   ],
   "source": [
    "//Jawaban No. 4\n",
    "import java.text.SimpleDateFormat;\n",
    "import java.util.Date;\n",
    "String[] month = {\"Januari\", \"Februari\", \"Maret\", \"April\", \"Mei\", \"Juni\", \"Juli\", \"Agustus\", \"September\", \"Oktober\", \"November\",\n",
    "\"Desember\"};\n",
    "Date tgl = new Date();\n",
    "\n",
    "SimpleDateFormat d = new SimpleDateFormat(\"d\");\n",
    "String ini_tanggal = d.format(tgl);\n",
    "System.out.print(ini_tanggal + \" \");\n",
    "\n",
    "SimpleDateFormat d = new SimpleDateFormat(\"M\");\n",
    "String ini_bulan = d.format(tgl);\n",
    "System.out.print(month[10] + \" \");\n",
    "\n",
    "SimpleDateFormat d = new SimpleDateFormat(\"Y\");\n",
    "String ini_tahun = d.format(tgl);\n",
    "System.out.print(ini_tahun);\n",
    "\n",
    "System.out.println();\n",
    "System.out.print(\"\\n============Output Menggunakan Array=============\");\n",
    "String[] waktuSekarang = new String[3];\n",
    "waktuSekarang[0] = ini_tanggal;\n",
    "waktuSekarang[1] = ini_bulan;\n",
    "waktuSekarang[2] = ini_tahun;\n",
    "System.out.print(\"\\n\" + waktuSekarang[0] + \" \" + waktuSekarang[1] + \" \" + waktuSekarang[2]);"
   ]
  },
  {
   "cell_type": "code",
   "execution_count": null,
   "id": "ebfed2a6",
   "metadata": {},
   "outputs": [],
   "source": []
  }
 ],
 "metadata": {
  "kernelspec": {
   "display_name": "Java",
   "language": "java",
   "name": "java"
  },
  "language_info": {
   "codemirror_mode": "java",
   "file_extension": ".jshell",
   "mimetype": "text/x-java-source",
   "name": "Java",
   "pygments_lexer": "java",
   "version": "11.0.12+8-LTS-237"
  }
 },
 "nbformat": 4,
 "nbformat_minor": 5
}
