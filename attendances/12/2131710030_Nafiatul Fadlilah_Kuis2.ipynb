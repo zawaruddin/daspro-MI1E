{
 "cells": [
  {
   "cell_type": "markdown",
   "id": "8286ec6f",
   "metadata": {},
   "source": [
    "### KUIS 2\n",
    "\n",
    "#### Nama: NAFIATUL FADLILAH\n",
    "#### Kelas: MI-1E\n",
    "#### NIM: 2131710030"
   ]
  },
  {
   "cell_type": "code",
   "execution_count": 6,
   "id": "e17ac575",
   "metadata": {},
   "outputs": [
    {
     "name": "stdout",
     "output_type": "stream",
     "text": [
      "Masukkan nilai: 5\n",
      "1\n",
      "12\n",
      "123\n",
      "1234\n",
      "12345\n"
     ]
    }
   ],
   "source": [
    "//Jawaban No. 1\n",
    "import java.util.Scanner;\n",
    "Scanner input = new Scanner(System.in);\n",
    "int nilai;\n",
    "\n",
    "System.out.print(\"Masukkan nilai: \");\n",
    "nilai = input.nextInt();\n",
    "\n",
    "for(int i = 1; i <= nilai; i++){\n",
    "    for(int j = 1; j <= i; j++){\n",
    "    System.out.print(j);\n",
    "    }\n",
    "    System.out.println();\n",
    "}"
   ]
  },
  {
   "cell_type": "code",
   "execution_count": 9,
   "id": "e496ed37",
   "metadata": {},
   "outputs": [
    {
     "name": "stdout",
     "output_type": "stream",
     "text": [
      "Masukkan nilai: 5\n",
      "1\n",
      "22\n",
      "333\n",
      "4444\n",
      "55555\n"
     ]
    }
   ],
   "source": [
    "//Jawaban No. 2\n",
    "import java.util.Scanner;\n",
    "Scanner masuk = new Scanner(System.in);\n",
    "int value;\n",
    "\n",
    "System.out.print(\"Masukkan nilai: \");\n",
    "value = masuk.nextInt();\n",
    "\n",
    "for(int i = 1; i <= value; i++){\n",
    "    for(int j = 1; j <= i; j++){\n",
    "    System.out.print(i * 1 + \"\");\n",
    "    }\n",
    "    System.out.println();\n",
    "}"
   ]
  },
  {
   "cell_type": "code",
   "execution_count": 59,
   "id": "0312ddb3",
   "metadata": {},
   "outputs": [
    {
     "name": "stdout",
     "output_type": "stream",
     "text": [
      "Nama Lengkap: NAFIATUL FADLILAH\n",
      "Masukkan abjad: N\n",
      "Masukkan abjad: A\n",
      "Masukkan abjad: F\n",
      "Masukkan abjad: I\n",
      "Masukkan abjad: A\n",
      "Masukkan abjad: T\n",
      "Masukkan abjad: U\n",
      "Masukkan abjad: L\n",
      "Masukkan abjad: F\n",
      "Masukkan abjad: A\n",
      "Masukkan abjad: D\n",
      "Masukkan abjad: L\n",
      "Masukkan abjad: I\n",
      "Masukkan abjad: L\n",
      "Masukkan abjad: A\n",
      "Masukkan abjad: H\n",
      "Masukkan abjad: A\n",
      "Masukkan abjad: B\n",
      "Masukkan abjad: C\n",
      "Masukkan abjad: D\n",
      "N A F I A \n",
      "T U L F A \n",
      "D L I L A \n",
      "H A B C D \n"
     ]
    },
    {
     "ename": "CompilationException",
     "evalue": "",
     "output_type": "error",
     "traceback": [
      "\u001b[1m\u001b[30m|   \u001b[1m\u001b[30mchar abjad = \u001b[0m\u001b[1m\u001b[30m\u001b[41m(int) abjadCasting\u001b[0m\u001b[1m\u001b[30m;\u001b[0m",
      "\u001b[1m\u001b[31mincompatible types: possible lossy conversion from int to char\u001b[0m",
      ""
     ]
    }
   ],
   "source": [
    "//Jawaban No. 3\n",
    "import java.util.Scanner;\n",
    "Scanner input = new Scanner(System.in);\n",
    "char[][] abjad = new char[4][5];\n",
    "int abjadCasting;\n",
    "\n",
    "System.out.print(\"Nama Lengkap: NAFIATUL FADLILAH\");\n",
    "System.out.print(\"\\n\");\n",
    "for(int i = 0; i < abjad.length; i++){\n",
    "    for(int j = 0; j < abjad[0].length; j++){\n",
    "    System.out.print(\"Masukkan abjad: \");\n",
    "    abjad[i][j] = input.next().charAt(0);\n",
    "    }\n",
    "}\n",
    "\n",
    "for(int i = 0; i < abjad.length; i++){\n",
    "    for(int j = 0; j < abjad[0].length; j++){\n",
    "    System.out.print(abjad[i][j] + \" \");\n",
    "    }\n",
    "    System.out.println();\n",
    "}\n",
    "\n",
    "char abjad = (int) abjadCasting;\n",
    "\n",
    "for(int i = 0; i < abjad.length; i++){\n",
    "    int max = 0;\n",
    "    for(int j = 0; j < abjad[0].length; j++){\n",
    "     if(abjad[i][j] >= max){\n",
    "     abjad[i][j] = max;\n",
    "     System.out.print(max);\n",
    "    }\n",
    "   }\n",
    "   int max = 0;\n",
    "   for(int j = 0; j < abjad[1]; j++){\n",
    "   if(abjad[i][j] >= max){\n",
    "   abjad[i][j] = max;\n",
    "   System.out.print(max);\n",
    "   }\n",
    "   }\n",
    "}"
   ]
  },
  {
   "cell_type": "code",
   "execution_count": 27,
   "id": "159cdbc0",
   "metadata": {},
   "outputs": [
    {
     "name": "stdout",
     "output_type": "stream",
     "text": [
      "17\n",
      "November\n",
      "2021\n",
      "\n",
      "============Output Menggunakan Array=============\n",
      "17 November 2021"
     ]
    }
   ],
   "source": [
    "//Jawaban No. 4\n",
    "import java.text.SimpleDateFormat;\n",
    "import java.util.Date;\n",
    "\n",
    "Date tgl = new Date();\n",
    "\n",
    "SimpleDateFormat d = new SimpleDateFormat(\"d\");\n",
    "String ini_tanggal = d.format(tgl);\n",
    "System.out.println(ini_tanggal);\n",
    "\n",
    "SimpleDateFormat d = new SimpleDateFormat(\"MMMM\");\n",
    "String ini_bulan = d.format(tgl);\n",
    "System.out.println(ini_bulan);\n",
    "\n",
    "SimpleDateFormat d = new SimpleDateFormat(\"Y\");\n",
    "String ini_tahun = d.format(tgl);\n",
    "System.out.println(ini_tahun);\n",
    "\n",
    "System.out.print(\"\\n============Output Menggunakan Array=============\");\n",
    "String[] waktuSekarang = new String[3];\n",
    "waktuSekarang[0] = ini_tanggal;\n",
    "waktuSekarang[1] = ini_bulan;\n",
    "waktuSekarang[2] = ini_tahun;\n",
    "System.out.print(\"\\n\" + waktuSekarang[0] + \" \" + waktuSekarang[1] + \" \" + waktuSekarang[2]);"
   ]
  },
  {
   "cell_type": "code",
   "execution_count": null,
   "id": "1f392f47",
   "metadata": {},
   "outputs": [],
   "source": []
  }
 ],
 "metadata": {
  "kernelspec": {
   "display_name": "Java",
   "language": "java",
   "name": "java"
  },
  "language_info": {
   "codemirror_mode": "java",
   "file_extension": ".jshell",
   "mimetype": "text/x-java-source",
   "name": "Java",
   "pygments_lexer": "java",
   "version": "11.0.12+8-LTS-237"
  }
 },
 "nbformat": 4,
 "nbformat_minor": 5
}
