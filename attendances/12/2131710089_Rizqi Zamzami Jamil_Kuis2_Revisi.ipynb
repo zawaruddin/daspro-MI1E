{
 "cells": [
  {
   "cell_type": "markdown",
   "id": "4e9f2988",
   "metadata": {},
   "source": [
    "### NIM        : 2131710089\n",
    "### NAMA    : RIZQI ZAMZAMI JAMIL\n",
    "### KELAS   : MI-1E"
   ]
  },
  {
   "cell_type": "code",
   "execution_count": 3,
   "id": "7c8a6689",
   "metadata": {},
   "outputs": [
    {
     "name": "stdout",
     "output_type": "stream",
     "text": [
      "Masukkan nilan N : 5\n",
      "1\n",
      "12\n",
      "123\n",
      "1234\n",
      "12345\n"
     ]
    }
   ],
   "source": [
    "// JAWABAN NOMOR 1\n",
    "import java.util.Scanner;\n",
    "\n",
    "Scanner input = new Scanner(System.in);\n",
    "System.out.print(\"Masukkan nilan N : \");\n",
    "int N = input.nextInt();\n",
    "\n",
    "for(int i = 1; i <= N; i++){\n",
    "    for(int j = 1; j <= i; j++){\n",
    "        System.out.print(j);\n",
    "    }\n",
    "    System.out.println();\n",
    "}"
   ]
  },
  {
   "cell_type": "code",
   "execution_count": 4,
   "id": "19afa98b",
   "metadata": {},
   "outputs": [
    {
     "name": "stdout",
     "output_type": "stream",
     "text": [
      "Masukkan nilai N : 5\n",
      "1\n",
      "22\n",
      "333\n",
      "4444\n",
      "55555\n"
     ]
    }
   ],
   "source": [
    "// JAWABAN NOMOR 2\n",
    "import java.util.Scanner;\n",
    "\n",
    "Scanner input = new Scanner(System.in);\n",
    "System.out.print(\"Masukkan nilai N : \");\n",
    "int N = input.nextInt();\n",
    "\n",
    "for(int i = 1; i <= N; i++){\n",
    "    for(int j = 1; j <= i; j++){\n",
    "        System.out.print(i);\n",
    "    }\n",
    "    System.out.println();\n",
    "}"
   ]
  },
  {
   "cell_type": "code",
   "execution_count": 5,
   "id": "65a73ca8",
   "metadata": {},
   "outputs": [
    {
     "name": "stdout",
     "output_type": "stream",
     "text": [
      "R I Z Q I \n",
      "Z A M Z A \n",
      "M I J A M \n",
      "I L A A A \n",
      "\n",
      "\n",
      "=-=-=-=-=-=-=-=-=-=-=-=-=-==-=-=-=-=-=-=-=-=-=-=-=-=-=\n",
      "Z adalah huruf terbesar pada baris 1 berada di kolom 3\n",
      "=-=-=-=-=-=-=-=-=-=-=-=-=-==-=-=-=-=-=-=-=-=-=-=-=-=-=\n",
      "Z adalah huruf terbesar pada baris 2 berada di kolom 1\n",
      "=-=-=-=-=-=-=-=-=-=-=-=-=-==-=-=-=-=-=-=-=-=-=-=-=-=-=\n",
      "M adalah huruf terbesar pada baris 3 berada di kolom 1\n",
      "=-=-=-=-=-=-=-=-=-=-=-=-=-==-=-=-=-=-=-=-=-=-=-=-=-=-=\n",
      "L adalah huruf terbesar pada baris 4 berada di kolom 2\n"
     ]
    }
   ],
   "source": [
    "// Jawaban Nomor 3\n",
    "import java.util.Scanner;\n",
    "Scanner input = new Scanner(System.in);\n",
    "\n",
    "int [][] casting = new int[4][5];\n",
    "char [][]namaMhs= {\n",
    "{'R' , 'I' , 'Z' , 'Q' , 'I' },\n",
    "{'Z' , 'A' , 'M' , 'Z' , 'A' },\n",
    "{'M' , 'I' , 'J' , 'A' , 'M' },\n",
    "{'I' , 'L' , 'A' , 'A' , 'A' },\n",
    "};\n",
    "int max, kolom;\n",
    "\n",
    "//menampilkan isi array\n",
    "for(int i = 0; i < namaMhs.length; i++){\n",
    "    for(int j = 0; j < namaMhs[0].length; j++){\n",
    "    System.out.print(namaMhs[i][j] + \" \");\n",
    "    }\n",
    "    System.out.println();\n",
    "}\n",
    "System.out.println(\"\");\n",
    "\n",
    "//membuat casting \n",
    "for(int i = 0; i < namaMhs.length; i++){\n",
    "    for(int j = 0; j < namaMhs[0].length; j++){\n",
    "    casting[i][j] = namaMhs[i][j];\n",
    "    }\n",
    "}\n",
    "System.out.println(\"\");\n",
    "\n",
    "//menentukan huruf terbesar\n",
    "for(int i = 0; i < casting.length; i++){\n",
    "    int lokasi = 0;\n",
    "    max = 0;\n",
    "    for(int j = 0; j < casting[0].length; j++){\n",
    "        if(casting[i][j] > max){\n",
    "        max = casting[i][j];\n",
    "        kolom = lokasi;\n",
    "        }\n",
    "        lokasi++;\n",
    "    }\n",
    "    System.out.println(\"=-=-=-=-=-=-=-=-=-=-=-=-=-==-=-=-=-=-=-=-=-=-=-=-=-=-=\");\n",
    "    System.out.print((char)max + \" adalah huruf terbesar pada baris \" + (i+1) + \" berada di kolom \" + (kolom + 1));\n",
    "    System.out.println();\n",
    "}"
   ]
  },
  {
   "cell_type": "code",
   "execution_count": 6,
   "id": "ecde73d4",
   "metadata": {},
   "outputs": [
    {
     "name": "stdout",
     "output_type": "stream",
     "text": [
      "Hari ini adalah tanggal :\n",
      "17 November 2021"
     ]
    }
   ],
   "source": [
    "// Jawaban Nomor 4\n",
    "import java.text.SimpleDateFormat;\n",
    "import java.util.Date;\n",
    "String[] namaBulan = new String[]{\n",
    "                      \"Januari\",\n",
    "                      \"Februari\",\n",
    "                      \"Maret\",\n",
    "                      \"April\",\n",
    "                      \"Mei\",\n",
    "                      \"Juni\",\n",
    "                      \"Juli\",\n",
    "                      \"Agustus\",\n",
    "                      \"September\",\n",
    "                      \"oktober\",\n",
    "                      \"November\",\n",
    "                      \"Desember\"\n",
    "                    };\n",
    "\n",
    "//ambil tanggal saat ini\n",
    "Date tgl = new Date(); \n",
    "\n",
    "SimpleDateFormat d = new SimpleDateFormat(\"d\");\n",
    "String ini_tanggal = d.format(tgl);\n",
    "\n",
    "SimpleDateFormat d = new SimpleDateFormat(\"M\");\n",
    "String ini_bulan = d.format(tgl);\n",
    "int bulan = Integer.parseInt(ini_bulan);\n",
    "\n",
    "SimpleDateFormat d = new SimpleDateFormat(\"Y\");\n",
    "String ini_tahun = d.format(tgl);\n",
    "\n",
    "System.out.println(\"Hari ini adalah tanggal :\");\n",
    "System.out.print(ini_tanggal+\" \"+(namaBulan[bulan-1])+\" \"+ini_tahun);"
   ]
  },
  {
   "cell_type": "code",
   "execution_count": null,
   "id": "a5222444",
   "metadata": {},
   "outputs": [],
   "source": []
  }
 ],
 "metadata": {
  "kernelspec": {
   "display_name": "Java",
   "language": "java",
   "name": "java"
  },
  "language_info": {
   "codemirror_mode": "java",
   "file_extension": ".jshell",
   "mimetype": "text/x-java-source",
   "name": "Java",
   "pygments_lexer": "java",
   "version": "11.0.12+8-LTS-237"
  }
 },
 "nbformat": 4,
 "nbformat_minor": 5
}
