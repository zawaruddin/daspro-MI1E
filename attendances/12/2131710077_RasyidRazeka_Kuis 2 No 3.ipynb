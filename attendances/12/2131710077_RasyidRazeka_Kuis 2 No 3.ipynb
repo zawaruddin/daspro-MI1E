{
 "cells": [
  {
   "cell_type": "markdown",
   "id": "1eb3e1bf",
   "metadata": {},
   "source": [
    "##### NAMA : RASYID RAZEKA ALAMSYAH\n",
    "##### NIM : 2131710077"
   ]
  },
  {
   "cell_type": "markdown",
   "id": "ebf79388",
   "metadata": {},
   "source": [
    "# KUIS 2 NOMOR 3"
   ]
  },
  {
   "cell_type": "code",
   "execution_count": 11,
   "id": "58389cdd",
   "metadata": {},
   "outputs": [
    {
     "name": "stdout",
     "output_type": "stream",
     "text": [
      " I N F O R\n",
      " M A T I K\n",
      " A P O L I\n",
      " N E M A M\n"
     ]
    },
    {
     "ename": "CompilationException",
     "evalue": "",
     "output_type": "error",
     "traceback": [
      "\u001b[1m\u001b[30m|   \u001b[1m\u001b[30m        if(\u001b[0m\u001b[1m\u001b[30m\u001b[41mnama[i][j] > max\u001b[0m\u001b[1m\u001b[30m){\u001b[0m",
      "\u001b[1m\u001b[31mbad operand types for binary operator '>'\u001b[0m",
      "\u001b[1m\u001b[31m  first type:  java.lang.String\u001b[0m",
      "\u001b[1m\u001b[31m  second type: java.lang.String\u001b[0m",
      "",
      "\u001b[1m\u001b[30m|   \u001b[1m\u001b[30m            max = \u001b[0m\u001b[1m\u001b[30m\u001b[41mnama[i]\u001b[0m\u001b[1m\u001b[30m;\u001b[0m",
      "\u001b[1m\u001b[31mincompatible types: java.lang.String[] cannot be converted to java.lang.String\u001b[0m",
      ""
     ]
    }
   ],
   "source": [
    "String [][]nama= {\n",
    "    {\"I\" , \"N\" , \"F\" , \"O\" , \"R\" },\n",
    "    {\"M\" , \"A\" , \"T\" , \"I\" , \"K\" },\n",
    "    {\"A\" , \"P\" , \"O\" , \"L\" , \"I\" },\n",
    "    {\"N\" , \"E\" , \"M\" , \"A\" , \"M\" },\n",
    "};\n",
    "\n",
    "for(int i=0; i<nama.length; i++){\n",
    "    for(int j=0; j<nama[0].length; j++){\n",
    "        System.out.print(\" \"+nama[i][j]);\n",
    "    }\n",
    "    System.out.println();\n",
    "}\n",
    "\n",
    "String max = nama[0][0];\n",
    "for(int i=0; i<nama.length; i++){\n",
    "    for(int j=0; j<nama[0].length; j++){\n",
    "        if(nama[i][j] > max){\n",
    "            max = nama[i];\n",
    "        }\n",
    "    }\n",
    "}"
   ]
  },
  {
   "cell_type": "code",
   "execution_count": null,
   "id": "b75d9506",
   "metadata": {},
   "outputs": [],
   "source": []
  }
 ],
 "metadata": {
  "kernelspec": {
   "display_name": "Java",
   "language": "java",
   "name": "java"
  },
  "language_info": {
   "codemirror_mode": "java",
   "file_extension": ".jshell",
   "mimetype": "text/x-java-source",
   "name": "Java",
   "pygments_lexer": "java",
   "version": "11.0.12+8-LTS-237"
  }
 },
 "nbformat": 4,
 "nbformat_minor": 5
}
