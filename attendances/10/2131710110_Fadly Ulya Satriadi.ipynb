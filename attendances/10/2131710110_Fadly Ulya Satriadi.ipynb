{
 "cells": [
  {
   "cell_type": "markdown",
   "metadata": {},
   "source": [
    "#### Fadly Ulya Satriadi\n",
    "#### 2131710110\n",
    "# JOBSHEET 10 - Array 1\n",
    "\n",
    "## Tujuan\n",
    "+ Mahasiswa mampu memahami pembuatan Array 1 dimensi dan pengaksesan elemenya di Java. \n",
    "+ Mahasiswa mampu membuat program dengan menggunakan konsep array satu dimensi.\n",
    "\n",
    "\n",
    "## Alat dan Bahan\n",
    "+ PC/laptop\n",
    "+ Browser(chrome, firefox, safari)\n",
    "+ Koneksi internet\n",
    "+ Anaconda3 + Java kernel (opsional)\n",
    "\n",
    "## Praktikum\n",
    "### Percobaan 1: Mengisi Elemen Array\n",
    "1. Pada percobaan ke-1 akan dilakukan percobaan untuk mengisi elemen array. Buat array bertipe integer dengan nama bil dengan kapasitas 4 elemen.\n",
    "![Gambar 0](images/P1L2.png)"
   ]
  },
  {
   "cell_type": "code",
   "execution_count": 12,
   "metadata": {},
   "outputs": [],
   "source": [
    "// Tulis Kode program Percobaan 1 Langkah 2 di atas\n",
    "int[] bil=new int[4];"
   ]
  },
  {
   "cell_type": "markdown",
   "metadata": {},
   "source": [
    "2. Isi masing-masing elemen array bil tadi dengan angka 5, 12, 7, 20.\n",
    "![Gambar 0](images/P1L3.png)"
   ]
  },
  {
   "cell_type": "code",
   "execution_count": 13,
   "metadata": {},
   "outputs": [
    {
     "data": {
      "text/plain": [
       "20"
      ]
     },
     "execution_count": 13,
     "metadata": {},
     "output_type": "execute_result"
    }
   ],
   "source": [
    "// Tulis Kode program Percobaan 1 Langkah 3 di atas\n",
    "bil[0] = 5;\n",
    "bil[1] = 12;\n",
    "bil[2] = 7;\n",
    "bil[3] = 20;"
   ]
  },
  {
   "cell_type": "markdown",
   "metadata": {},
   "source": [
    "3. Tampilkan ke layar semua isi elemennya:\n",
    "![Gambar 4](images/P1L4.png)"
   ]
  },
  {
   "cell_type": "code",
   "execution_count": 21,
   "metadata": {},
   "outputs": [
    {
     "name": "stdout",
     "output_type": "stream",
     "text": [
      "5\n",
      "12\n",
      "7\n",
      "20\n"
     ]
    }
   ],
   "source": [
    "// Tulis Kode program Percobaan 1 Langkah 4\n",
    "System.out.println(bil[0]);\n",
    "System.out.println(bil[1]);\n",
    "System.out.println(bil[2]);\n",
    "System.out.println(bil[3]);"
   ]
  },
  {
   "cell_type": "markdown",
   "metadata": {},
   "source": [
    "#### Pertanyaan \n",
    "1. Dari percobaan 1 berapakah indeks array terbesar dan terkecil?"
   ]
  },
  {
   "cell_type": "code",
   "execution_count": 2,
   "metadata": {},
   "outputs": [
    {
     "ename": "CompilationException",
     "evalue": "",
     "output_type": "error",
     "traceback": [
      "\u001b[1m\u001b[30m|   \u001b[1m\u001b[30mbil[0] = \u001b[0m\u001b[1m\u001b[30m\u001b[41m5.0\u001b[0m\u001b[1m\u001b[30m;\u001b[0m",
      "\u001b[1m\u001b[31mincompatible types: possible lossy conversion from double to int\u001b[0m",
      ""
     ]
    }
   ],
   "source": [
    "// Tulis Jawaban no 1 disini\n",
    "int[] bil = new int [4];\n",
    "bil[0] = 5.0;\n",
    "bil[1] = 12867;\n",
    "bil[2] = 7.5;\n",
    "bil[3] = 2000000;\n",
    "System.out.println(bil[0]);\n",
    "System.out.println(bil[1]);\n",
    "System.out.println(bil[2]);\n",
    "System.out.println(bil[3]);"
   ]
  },
  {
   "cell_type": "markdown",
   "metadata": {},
   "source": [
    "2. Jika Isi masing-masing elemen array bil diubah dengan angka 5.0, 12867, 7.5, 2000000. Apa yang terjadi? Mengapa bisa demikian?"
   ]
  },
  {
   "cell_type": "code",
   "execution_count": null,
   "metadata": {},
   "outputs": [],
   "source": [
    "// Tulis Jawaban no 2 yang disini\n",
    "karena bilangan desimal bukan tidak bisa di inputkan ke dalam sistem array\n"
   ]
  },
  {
   "cell_type": "markdown",
   "metadata": {},
   "source": [
    "3. Ubah statement pada langkah No 3 menjadi seperti berikut\n",
    "![Gambar pertanyaan 3](images/P1T3.png)\n",
    "Apa keluaran dari program? Mengapa bisa demikian?"
   ]
  },
  {
   "cell_type": "code",
   "execution_count": 16,
   "metadata": {},
   "outputs": [
    {
     "name": "stdout",
     "output_type": "stream",
     "text": [
      "5\n",
      "12\n",
      "7\n",
      "20\n"
     ]
    }
   ],
   "source": [
    "// Tulis Jawaban no 3 yang disini\n",
    "for(int i=0; i<4; i++){\n",
    "    System.out.println(bil[i]);\n",
    "}"
   ]
  },
  {
   "cell_type": "markdown",
   "metadata": {},
   "source": [
    "### Percobaan 2: Meminta Inputan Pengguna untuk Mengisi Elemen Array\n",
    "1. Pada percobaan ke-2 akan dilakukan percobaan yang meminta inputan pengguna untuk mengisi elemen array seperti pada flowchart berikut\n",
    "![Gambar Flowchart](images/FCpercobaan2.png)"
   ]
  },
  {
   "cell_type": "code",
   "execution_count": 69,
   "metadata": {},
   "outputs": [
    {
     "name": "stdout",
     "output_type": "stream",
     "text": [
      "Masukan nilai UAS ke-0:\n",
      "90\n",
      "Masukan nilai UAS ke-1:\n",
      "90\n",
      "Masukan nilai UAS ke-2:\n",
      "90\n",
      "Masukan nilai UAS ke-3:\n",
      "90\n",
      "Masukan nilai UAS ke-4:\n",
      "90\n",
      "Masukan nilai UAS ke-5:\n",
      "90\n",
      "Nilai UAS : ke-0 adalah: 90\n",
      "Nilai UAS : ke-1 adalah: 90\n",
      "Nilai UAS : ke-2 adalah: 90\n",
      "Nilai UAS : ke-3 adalah: 90\n",
      "Nilai UAS : ke-4 adalah: 90\n",
      "Nilai UAS : ke-5 adalah: 90\n"
     ]
    }
   ],
   "source": [
    "// Tulis Kode program Percobaan 2 Langkah 1 di atas\n",
    "import java.util.Scanner;\n",
    "Scanner sc = new Scanner(System.in);\n",
    "int nilaiUAS[] =new int[6];\n",
    "for (int i = 0;i<6 ; i++){\n",
    "    System.out.println(\"Masukan nilai UAS ke-\" + i +\":\");\n",
    "    nilaiUAS[i] = sc.nextInt();\n",
    "}\n",
    "for (int i = 0;i<6 ; i++){\n",
    "    System.out.println(\"Nilai UAS : ke-\" + i +\" adalah: \" +  nilaiUAS[i]);\n",
    "}"
   ]
  },
  {
   "cell_type": "markdown",
   "metadata": {},
   "source": [
    "2. Import dan deklarasikan Scanner untuk keperluan input. \n",
    "![Gambar import scanner](images/P2L2.png)"
   ]
  },
  {
   "cell_type": "code",
   "execution_count": 35,
   "metadata": {},
   "outputs": [],
   "source": [
    "// Tulis Kode program Percobaan 2 Langkah 1 di atas\n",
    "import java.util.Scanner;\n",
    "Scanner sc = new Scanner(System.in);"
   ]
  },
  {
   "cell_type": "markdown",
   "metadata": {},
   "source": [
    "3. Buat array bertipe integer dengan nama nilaiUAS, dengan kapasitas 6 elemen.\n",
    "![Gambar deklarasi array](images/P2L3.png)"
   ]
  },
  {
   "cell_type": "code",
   "execution_count": 36,
   "metadata": {},
   "outputs": [],
   "source": [
    "// Tulis Kode program Percobaan 2 Langkah 3 di atas\n",
    "int[] nilaiUAS = new int[6];"
   ]
  },
  {
   "cell_type": "markdown",
   "metadata": {},
   "source": [
    "4. Menggunakan perulangan, buat input untuk mengisi elemen dari array nilaiUAS.\n",
    "![Gambar perulangan input](images/P2L4.png)"
   ]
  },
  {
   "cell_type": "code",
   "execution_count": 37,
   "metadata": {
    "scrolled": true
   },
   "outputs": [
    {
     "name": "stdout",
     "output_type": "stream",
     "text": [
      "Masukkan Nilai UAS ke 0: 90\n",
      "Masukkan Nilai UAS ke 1: 91\n",
      "Masukkan Nilai UAS ke 2: 92\n",
      "Masukkan Nilai UAS ke 3: 93\n",
      "Masukkan Nilai UAS ke 4: 94\n",
      "Masukkan Nilai UAS ke 5: 95\n"
     ]
    }
   ],
   "source": [
    "// Tulis Kode program Percobaan 2 Langkah 4 di atas\n",
    "for(int i = 0; i < 6; i++){\n",
    "    System.out.print(\"Masukkan Nilai UAS ke \" + i + \": \");\n",
    "    nilaiUAS[i] = sc.nextInt();\n",
    "}"
   ]
  },
  {
   "cell_type": "markdown",
   "metadata": {},
   "source": [
    "5. Menggunakan perulangan, tampilkan semua isi elemen dari array nilaiUAS.\n",
    "![Gambar perulangan print](images/P2L5.png)"
   ]
  },
  {
   "cell_type": "code",
   "execution_count": 38,
   "metadata": {
    "scrolled": true
   },
   "outputs": [
    {
     "name": "stdout",
     "output_type": "stream",
     "text": [
      "Nilai UAS ke 0 adalah : 90\n",
      "Nilai UAS ke 1 adalah : 91\n",
      "Nilai UAS ke 2 adalah : 92\n",
      "Nilai UAS ke 3 adalah : 93\n",
      "Nilai UAS ke 4 adalah : 94\n",
      "Nilai UAS ke 5 adalah : 95\n"
     ]
    }
   ],
   "source": [
    "// Tulis Kode program Percobaan 2 Langkah 5 di atas\n",
    "for(int i = 0; i < 6; i++){\n",
    "    System.out.println(\"Nilai UAS ke \" + i + \" adalah : \" + nilaiUAS[i]);\n",
    "}"
   ]
  },
  {
   "cell_type": "markdown",
   "metadata": {},
   "source": [
    "#### Pertanyaan\n",
    "1. Ubah statement pada langkah No 4 menjadi seperti berikut ini :\n",
    "![Gambar pertanyaan1](images/P2T1.png)\n",
    "Jalankan program, apakah terjadi perubahan? Mengapa demikian?\n"
   ]
  },
  {
   "cell_type": "code",
   "execution_count": 39,
   "metadata": {},
   "outputs": [
    {
     "name": "stdout",
     "output_type": "stream",
     "text": [
      "Masukkan Nilai UAS ke 0: 99\n",
      "Masukkan Nilai UAS ke 1: 98\n",
      "Masukkan Nilai UAS ke 2: 97\n",
      "Masukkan Nilai UAS ke 3: 96\n",
      "Masukkan Nilai UAS ke 4: 95\n",
      "Masukkan Nilai UAS ke 5: 94\n"
     ]
    }
   ],
   "source": [
    "// Tulis Jawaban nomor 1 disini\n",
    "for(int i = 0; i < nilaiUAS.length; i++){\n",
    "    System.out.print(\"Masukkan Nilai UAS ke \" + i + \": \");\n",
    "    nilaiUAS[i] = sc.nextInt();\n",
    "}"
   ]
  },
  {
   "cell_type": "markdown",
   "metadata": {},
   "source": [
    "2. Apa kegunaan dari `nilaiUAS.length`? \n",
    "   \n",
    "   Kegunaan nilaiUAS.length adalah untuk untuk menampilkan jumlah index yang berada di array nilaiUAS"
   ]
  },
  {
   "cell_type": "markdown",
   "metadata": {},
   "source": [
    "3. Ubah statement pada langkah No 5 menjadi seperti berikut ini sehingga program hanya menampilkan status mahasiswa yang lulus saja:\n",
    "![Gambar pertanyaan1](images/P2T3.png)\n",
    "Jalankan program dan Jelaskan alur program!"
   ]
  },
  {
   "cell_type": "code",
   "execution_count": 41,
   "metadata": {},
   "outputs": [
    {
     "name": "stdout",
     "output_type": "stream",
     "text": [
      "Mahasiswa ke 0 lulus \n",
      "Mahasiswa ke 1 lulus \n",
      "Mahasiswa ke 2 lulus \n",
      "Mahasiswa ke 3 lulus \n",
      "Mahasiswa ke 4 lulus \n",
      "Mahasiswa ke 5 lulus \n"
     ]
    }
   ],
   "source": [
    "// Tulis Jawaban nomor 3 disini\n",
    "for(int i = 0; i < nilaiUAS.length; i++){\n",
    "    if(nilaiUAS[i] > 70){\n",
    "        System.out.println(\"Mahasiswa ke \" + i + \" lulus \");\n",
    "    }\n",
    "}"
   ]
  },
  {
   "cell_type": "markdown",
   "metadata": {},
   "source": [
    "### Percobaan 3: Melakukan Operasi Aritmatika terhadap Elemen Array\n",
    "Pada praktikum ini, akan dilakukan percobaan untuk menjumlahkan Array. Program akan menerima input sebanyak 10 nilai mahasiswa. Kemudian program akan menampilkan nilai rata-rata nilai dari 10 Mahasiswa. Seperti flowchart berikut\n",
    "![Gambar flowchart](images/FCpercobaan3.png)\n",
    "\n",
    "1.Import dan deklarasikan Scanner untuk keperluan input. \n",
    "![Gambar deklarasi scanner](images/P3L1.png)"
   ]
  },
  {
   "cell_type": "code",
   "execution_count": 80,
   "metadata": {},
   "outputs": [],
   "source": [
    "// Tulis Kode program Percobaan 3 Langkah 1 di atas, disini\n",
    "import java.util.Scanner;\n",
    "Scanner sc = new Scanner(System.in);"
   ]
  },
  {
   "cell_type": "markdown",
   "metadata": {},
   "source": [
    "2. Buat array nilaiMHS bertipe integer dengan kapasitas 10. Kemudian deklarasikan variable total dan rata seperti gambar berikut ini\n",
    "![Gambar deklarasi variabel](images/P3L2.png)\n"
   ]
  },
  {
   "cell_type": "code",
   "execution_count": 81,
   "metadata": {},
   "outputs": [],
   "source": [
    "// Tulis Kode program Percobaan 3 Langkah 2 di atas, disini\n",
    "int nilaiMHS[] = new int[10];\n",
    "double total;\n",
    "double rata;"
   ]
  },
  {
   "cell_type": "markdown",
   "metadata": {},
   "source": [
    "3. Menggunakan perulangan, buat input untuk mengisi array nilaiMHS\n",
    "![Gambar perulangan input](images/P3L3.png)\n"
   ]
  },
  {
   "cell_type": "code",
   "execution_count": 82,
   "metadata": {},
   "outputs": [
    {
     "name": "stdout",
     "output_type": "stream",
     "text": [
      "Masukkan Nilai Mahasiswa ke 1: 90\n",
      "Masukkan Nilai Mahasiswa ke 2: 90\n",
      "Masukkan Nilai Mahasiswa ke 3: 90\n",
      "Masukkan Nilai Mahasiswa ke 4: 90\n",
      "Masukkan Nilai Mahasiswa ke 5: 90\n",
      "Masukkan Nilai Mahasiswa ke 6: 90\n",
      "Masukkan Nilai Mahasiswa ke 7: 90\n",
      "Masukkan Nilai Mahasiswa ke 8: 90\n",
      "Masukkan Nilai Mahasiswa ke 9: 90\n",
      "Masukkan Nilai Mahasiswa ke 10: 90\n"
     ]
    }
   ],
   "source": [
    "// Tulis Kode program Percobaan 3 Langkah 3 di atas, disini\n",
    "for(int i = 0; i<nilaiMHS.length; i++){\n",
    "    System.out.print(\"Masukkan Nilai Mahasiswa ke \"+(i+1)+\": \");\n",
    "    nilaiMHS[i] = sc.nextInt();\n",
    "}"
   ]
  },
  {
   "cell_type": "markdown",
   "metadata": {},
   "source": [
    "4. Menggunakan perulangan untuk menghitung jumlah keseluruhan nilai.\n",
    "![Gambar perulangan jumlah](images/P3L4.png)\n"
   ]
  },
  {
   "cell_type": "code",
   "execution_count": 83,
   "metadata": {},
   "outputs": [],
   "source": [
    "// Tulis Kode program Percobaan 3 Langkah 4 di atas, disini\n",
    "for(int i = 0; i<nilaiMHS.length; i++){\n",
    "    total+=nilaiMHS[i];\n",
    "}"
   ]
  },
  {
   "cell_type": "markdown",
   "metadata": {},
   "source": [
    "5. Kemudian hitung nilai rata-rata dengan cara nilai total dibagi jumlah elemen dari array nilaiMHS\\\n",
    "![Gambar hitung rata2](images/P3L5.png)\n"
   ]
  },
  {
   "cell_type": "code",
   "execution_count": 84,
   "metadata": {},
   "outputs": [
    {
     "name": "stdout",
     "output_type": "stream",
     "text": [
      "Rata Rata Nilai Mahasiswa Adalah 90.0"
     ]
    }
   ],
   "source": [
    "// Tulis Kode program Percobaan 3 Langkah 3 di atas, disini\n",
    "rata = total/nilaiMHS.length;\n",
    "System.out.print(\"Rata Rata Nilai Mahasiswa Adalah \"+rata);"
   ]
  },
  {
   "cell_type": "markdown",
   "metadata": {},
   "source": [
    "#### Pertanyaan \n",
    "1. Pada Percobaan 3 langkah ke-5. Mengapa perhitungan rata berada diluar perulangan?"
   ]
  },
  {
   "cell_type": "code",
   "execution_count": null,
   "metadata": {},
   "outputs": [],
   "source": [
    "// Tulis jawaban no 1 disini\n",
    "agar setiap menginputkan nilai pengguna rata-rata tidak terhitung terlebih dahulu"
   ]
  },
  {
   "cell_type": "markdown",
   "metadata": {},
   "source": [
    "2. Modifikasi program pada percobaan 3 sehingga bisa mengeluarkan output  seperti gambar berikut ini!\n",
    "syarat lulus nilai >70\n",
    "![Gambar pertanyaan 2](images/P3T2.png)"
   ]
  },
  {
   "cell_type": "code",
   "execution_count": 5,
   "metadata": {},
   "outputs": [
    {
     "name": "stdout",
     "output_type": "stream",
     "text": [
      "Masukkan nilai Mahasiswa ke-1 : 90\n",
      "Masukkan nilai Mahasiswa ke-2 : 90\n",
      "Masukkan nilai Mahasiswa ke-3 : 90\n",
      "Masukkan nilai Mahasiswa ke-4 : 89\n",
      "Masukkan nilai Mahasiswa ke-5 : 89\n",
      "Masukkan nilai Mahasiswa ke-6 : 89\n",
      "Masukkan nilai Mahasiswa ke-7 : 88\n",
      "Masukkan nilai Mahasiswa ke-8 : 88\n",
      "Masukkan nilai Mahasiswa ke-9 : 8\n",
      "Masukkan nilai Mahasiswa ke-10 : 87\n",
      "Rata-rata nilai mahasiswa yang lulus adalah 88.88888888888889\n",
      "Rata-rata nilai mahasiswa yang tidak lulus adalah 8.0\n"
     ]
    }
   ],
   "source": [
    "// Tulis jawaban no 2 disini\n",
    "import java.util.Scanner;\n",
    "Scanner sc = new Scanner(System.in);\n",
    "int nilaiMHS[] = new int[10];\n",
    "double total1, total2;\n",
    "double rata1, rata2;\n",
    "int jmlh1, jmlh2;\n",
    "for(int i=0; i<nilaiMHS.length; i++){\n",
    " System.out.print(\"Masukkan nilai Mahasiswa ke-\" +(i+1)+\" : \");\n",
    " nilaiMHS[i] = sc.nextInt();\n",
    "}\n",
    "for(int i=0; i<nilaiMHS.length; i++){\n",
    " if(nilaiMHS[i] > 70) {\n",
    " total1+=nilaiMHS[i] ;\n",
    " jmlh1++;\n",
    " } else {\n",
    " total2+=nilaiMHS[i];\n",
    " jmlh2++;\n",
    " }\n",
    "}\n",
    "rata1=total1/jmlh1;\n",
    "rata2=total2/jmlh2;\n",
    "System.out.println(\"Rata-rata nilai mahasiswa yang lulus adalah \" +rata1);\n",
    "System.out.println(\"Rata-rata nilai mahasiswa yang tidak lulus adalah \" +rata2);"
   ]
  },
  {
   "cell_type": "code",
   "execution_count": null,
   "metadata": {},
   "outputs": [],
   "source": [
    "###Percobaan 4: Pencarian menggunakan Array\n",
    "Pada praktikum ini, akan dilakukan percobaan untuk mencari lokasi/indeks sebuah angka dalam array. Sesuai dengan flowchart di bawah ini:\n",
    "![Gambar flowchart searching](images/FCpercobaan4.png)"
   ]
  },
  {
   "cell_type": "markdown",
   "metadata": {},
   "source": [
    "1. Buat array arr[] bertipe integer dengan kapasitas 6 dan isi dengan nilai 6, 4, 1, 9, 7, 3, 2 dan 8. Kemudian deklarasikan variabel integer `key` untuk kata kunci pencarian dan variabel `hasil` untuk hasil indeks pencarian. Deklarasi dan inisialisasi seperti gambar berikut ini\n",
    "![Gambar deklarasi variabel](images/P4L2.png)\n"
   ]
  },
  {
   "cell_type": "code",
   "execution_count": 89,
   "metadata": {},
   "outputs": [],
   "source": [
    "// Tulis Kode program Percobaan 4 Langkah 1 di atas, disini\n",
    "int[] arr = {6,4,1,9,7,3,2,8};\n",
    "int key = 3;\n",
    "int hasil = -1;"
   ]
  },
  {
   "cell_type": "markdown",
   "metadata": {},
   "source": [
    "2. Menggunakan perulangan, lakukan pencarian untuk mendapatkan nilai array yang sesuai dengan key. Bila ada yang sesuai, simpan indeksnya sebagai hasil pencarian\n",
    "![Gambar perulangan search](images/p4L3.png)\n"
   ]
  },
  {
   "cell_type": "code",
   "execution_count": 90,
   "metadata": {},
   "outputs": [],
   "source": [
    "// Tulis Kode program Percobaan 4 Langkah 2 di atas, disini\n",
    "for(int i=0; i<arr.length; i++){\n",
    "    if(key==arr[i]){\n",
    "        hasil=i;\n",
    "        break;\n",
    "    }\n",
    "}"
   ]
  },
  {
   "cell_type": "markdown",
   "metadata": {},
   "source": [
    "3. Tampilkan hasil pencarian dengan kode berikut.\n",
    "![Gambar perulangan jumlah](images/P4L4.png)\n"
   ]
  },
  {
   "cell_type": "code",
   "execution_count": 91,
   "metadata": {},
   "outputs": [
    {
     "name": "stdout",
     "output_type": "stream",
     "text": [
      "Key Ada di Array ke 5\r\n"
     ]
    }
   ],
   "source": [
    "// Tulis Kode program Percobaan 4 Langkah 3 di atas, disini\n",
    "System.out.println(\"Key Ada di Array ke \"+hasil);"
   ]
  },
  {
   "cell_type": "markdown",
   "metadata": {},
   "source": [
    "#### Pertanyaan \n",
    "1. Pada Percobaan 4 langkah ke-2. Apa kegunaan dari statement `break`?"
   ]
  },
  {
   "cell_type": "code",
   "execution_count": null,
   "metadata": {},
   "outputs": [],
   "source": [
    "// Tulis jawaban no 1 disini\n"
   ]
  },
  {
   "cell_type": "markdown",
   "metadata": {},
   "source": [
    "2. Modifikasi program pada percobaan 4 sehingga key yang dicari adalah angka 5. Kemudian jalankan program, amati hasilnya! Jelaskan penyebab dari hasil tersebut! "
   ]
  },
  {
   "cell_type": "code",
   "execution_count": 92,
   "metadata": {},
   "outputs": [
    {
     "name": "stdout",
     "output_type": "stream",
     "text": [
      "Hasil pengurutan: \n",
      "3\n",
      "4\n",
      "10\n",
      "12\n",
      "16\n",
      "27\n",
      "28\n",
      "90\n"
     ]
    }
   ],
   "source": [
    "// Tulis jawaban no 2 disini\n",
    "\n",
    "int[] arr = {16, 4, 10, 90, 27, 3, 12, 28};\n",
    "int temp = 0;\n",
    "\n",
    "for(int i = 0; i < arr.length; i++){\n",
    "    for(int j = 1; j < (arr.length-i); j++){\n",
    "        if(arr[j-1] > arr[j]){\n",
    "            temp = arr[j-1];\n",
    "            arr[j-1] = arr[j];\n",
    "            arr[j] = temp;\n",
    "        }\n",
    "    }\n",
    "}\n",
    "\n",
    "System.out.println(\"Hasil pengurutan: \");\n",
    "for(int i = 0; i < arr.length; i++)\n",
    "    System.out.println(arr[i]);"
   ]
  },
  {
   "cell_type": "markdown",
   "metadata": {},
   "source": [
    "program bisa berurutan karena mengambi dari nilai terkecil dari indeks ke 5"
   ]
  },
  {
   "cell_type": "markdown",
   "metadata": {},
   "source": [
    "### Percobaan 5: Pengurutan bilangan menggunakan Array\n",
    "Pada praktikum ini, akan dilakukan percobaan untuk mengurutkan angka dalam array. Sesuai dengan flowchart di bawah ini:\n",
    "![Gambar flowchart sorting](images/FCpercobaan5.png)\n",
    "1.Buat array arr[] bertipe integer dengan kapasitas 8 dan isi dengan nilai 16, 4, 10, 90, 27, 3, 12 dan 28. Kemudian deklarasikan variabel integer `temp` untuk media penukaran nilai pada variabel. Deklarasi dan inisialisasi seperti gambar berikut ini\n",
    "![Gambar deklarasi dan inisialisasi](images/P5L1.png)"
   ]
  },
  {
   "cell_type": "code",
   "execution_count": null,
   "metadata": {},
   "outputs": [],
   "source": [
    "// Tulis Kode program Percobaan 5 Langkah 1 disini\n",
    "int[] arr = {16, 4, 10, 90, 27, 3, 12, 28};\n",
    "int temp = 0;"
   ]
  },
  {
   "cell_type": "markdown",
   "metadata": {},
   "source": [
    "2. Menggunakan perulangan, lakukan pengurutan bilangan dengan menukar posisi indeks tersebut dengan indeks berikutnya. Perulangan dilakukan untuk menukar posisi berulang kali. \n",
    "![Gambar sorting](images/P5L2.png)"
   ]
  },
  {
   "cell_type": "code",
   "execution_count": null,
   "metadata": {},
   "outputs": [],
   "source": [
    "for(int = 0; i < arr.length; i++){\n",
    "    for(int j = 1; j < (arr.length-i); j++){\n",
    "        if(arr[j-1] > arr[j-1]){\n",
    "            temp = arr[j-1];\n",
    "            arr[j-1] = arr[j];\n",
    "            arr[j] = temp;\n",
    "        }\n",
    "    }\n",
    "}"
   ]
  },
  {
   "cell_type": "markdown",
   "metadata": {},
   "source": [
    "3. Tampilkan hasil pengurutan dengan menggunakan perulangan\n",
    "![Gambar print](images/P5L3.png)"
   ]
  },
  {
   "cell_type": "code",
   "execution_count": null,
   "metadata": {},
   "outputs": [],
   "source": [
    "// Tulis Kode program Percobaan 5 Langkah 3 di atas, disini\n",
    "System.out.println(\"Hasil pengurutan : \");\n",
    "for(int i = 0; i < arr.length; i++)\n",
    "    System.out.println(arr[i]);"
   ]
  },
  {
   "cell_type": "markdown",
   "metadata": {},
   "source": [
    "## Tugas\n",
    "### Soal 1\n",
    "Buatlah program yang **sesuai** dengan alur _flowchart_ di bawah ini\n",
    "![Soal 1](images/soal1.png)\n",
    "\n",
    "Flowchart diatas menggambarkan alur program yang membaca 10 masukan pengguna berupa integer dan menyimpannya. Kemudian angka ganjil dan genap disimpan kembali ke dalam variabel lain yang terpisah"
   ]
  },
  {
   "cell_type": "code",
   "execution_count": 1,
   "metadata": {},
   "outputs": [],
   "source": [
    "/* Jawaban Soal 1 disini */\n",
    "int checkNum[] = new int[10];\n",
    "int evenNum[] = new int[10];\n",
    "int oddNum[] = new int[10];\n",
    "int cEven, cOdd=0;"
   ]
  },
  {
   "cell_type": "markdown",
   "metadata": {},
   "source": [
    "### Soal 2\n",
    "Buatlah program yang terdapat array dengan jumlah elemen 5, buatlah input untuk mengisi elemen array tersebut, kemudian tampilkan isi array tersebut dengan urutan terbalik. Seperti ilustrasi gambar dibawah ini.\n",
    "![Soal 2](images/T2.png)"
   ]
  },
  {
   "cell_type": "code",
   "execution_count": null,
   "metadata": {},
   "outputs": [],
   "source": [
    "/* Jawaban Soal 2 disini */\n",
    "import java.util.Scanner;\n",
    "Scanner sc = new Scanner(System.in);\n",
    "\n",
    "    int array[];\n",
    "    array = new int[5];\n",
    "        for (int i = 0; i < array.length; i++) {\n",
    "        System.out.print(\"Masukkan angka : \");\n",
    "        array[i]=sc.nextInt();\n",
    "        }\n",
    "    System.out.print(\"Hasil terbalik adalah : \");\n",
    "    for(int i = array.length-1; i>=0; i--){\n",
    "    System.out.print(array[i]);\n",
    "    }"
   ]
  },
  {
   "cell_type": "markdown",
   "metadata": {},
   "source": [
    "### Soal 3\n",
    "Buatlah program yang menerima input jumlah elemen array, inputkan isi arraynya, kemudian tampilkan bilangan terbesar dari isi elemen arraynya. Contoh hasil program:\n",
    "![Soal 3](images/t3.png)"
   ]
  },
  {
   "cell_type": "code",
   "execution_count": 1,
   "metadata": {},
   "outputs": [
    {
     "name": "stdout",
     "output_type": "stream",
     "text": [
      "Masukkan isi array : 5\n",
      "Masukkan elemen array : 0:25\n",
      "Masukkan elemen array : 1:78\n",
      "Masukkan elemen array : 2:12\n",
      "Masukkan elemen array : 3:63\n",
      "Masukkan elemen array : 4:99\n",
      "Bilangan terbesar adalah : 99\n"
     ]
    }
   ],
   "source": [
    "/* Jawaban Soal 3 disini */\n",
    "import java.util.Scanner;\n",
    "Scanner sc = new Scanner(System.in);\n",
    "\n",
    "System.out.print(\"Masukkan isi array : \");\n",
    "int n = sc.nextInt();\n",
    "int angka[] = new int[n];\n",
    "int min,max;\n",
    "\n",
    "for(int i = 0; i<n; i++){\n",
    "    System.out.print(\"Masukkan elemen array : \"+i+\":\");\n",
    "    angka[i] = sc.nextInt();\n",
    "}\n",
    "min=angka[0];\n",
    "max=angka[0];\n",
    "\n",
    "for(int i=0; i<n; i++){\n",
    "    if(angka[i]<max)\n",
    "        min=angka[i];\n",
    "    if(angka[i]>min)\n",
    "        max=angka[i];\n",
    "}\n",
    "System.out.println(\"Bilangan terbesar adalah : \" +max);"
   ]
  }
 ],
 "metadata": {
  "kernelspec": {
   "display_name": "Java",
   "language": "java",
   "name": "java"
  },
  "language_info": {
   "codemirror_mode": "java",
   "file_extension": ".jshell",
   "mimetype": "text/x-java-source",
   "name": "Java",
   "pygments_lexer": "java",
   "version": "16.0.2+7-67"
  }
 },
 "nbformat": 4,
 "nbformat_minor": 1
}
