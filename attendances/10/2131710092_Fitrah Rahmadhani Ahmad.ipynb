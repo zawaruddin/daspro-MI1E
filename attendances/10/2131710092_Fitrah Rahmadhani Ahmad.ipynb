{
 "cells": [
  {
   "cell_type": "markdown",
   "metadata": {},
   "source": [
    "# JOBSHEET 10 - Array 1\n",
    "\n",
    "#### Nama = Fitrah Rahmadhnai Ahmad\n",
    "#### NIM = 2131710092\n",
    "#### Kelas = MI-1E\n",
    "\n",
    "## Tujuan\n",
    "+ Mahasiswa mampu memahami pembuatan Array 1 dimensi dan pengaksesan elemenya di Java. \n",
    "+ Mahasiswa mampu membuat program dengan menggunakan konsep array satu dimensi.\n",
    "\n",
    "\n",
    "## Alat dan Bahan\n",
    "+ PC/laptop\n",
    "+ Browser(chrome, firefox, safari)\n",
    "+ Koneksi internet\n",
    "+ Anaconda3 + Java kernel (opsional)\n",
    "\n",
    "## Praktikum\n",
    "### Percobaan 1: Mengisi Elemen Array\n",
    "1. Pada percobaan ke-1 akan dilakukan percobaan untuk mengisi elemen array. Buat array bertipe integer dengan nama bil dengan kapasitas 4 elemen.\n",
    "![Gambar 0](images/P1L2.png)"
   ]
  },
  {
   "cell_type": "code",
   "execution_count": null,
   "metadata": {},
   "outputs": [],
   "source": [
    "// Tulis Kode program Percobaan 1 Langkah 2 di atas\n",
    "int[] bil = new int[4];"
   ]
  },
  {
   "cell_type": "markdown",
   "metadata": {},
   "source": [
    "2. Isi masing-masing elemen array bil tadi dengan angka 5, 12, 7, 20.\n",
    "![Gambar 0](images/P1L3.png)"
   ]
  },
  {
   "cell_type": "code",
   "execution_count": null,
   "metadata": {},
   "outputs": [],
   "source": [
    "// Tulis Kode program Percobaan 1 Langkah 3 di atas\n",
    "bil[0] = 5;\n",
    "bil[1] = 12;\n",
    "bil[2] = 7;\n",
    "bil[3] = 20;"
   ]
  },
  {
   "cell_type": "markdown",
   "metadata": {},
   "source": [
    "3. Tampilkan ke layar semua isi elemennya:\n",
    "![Gambar 4](images/P1L4.png)"
   ]
  },
  {
   "cell_type": "code",
   "execution_count": null,
   "metadata": {},
   "outputs": [],
   "source": [
    "// Tulis Kode program Percobaan 1 Langkah 4\n",
    "int[] bil = new int[4];\n",
    "bil[0] = 5;\n",
    "bil[1] = 12;\n",
    "bil[2] = 7;\n",
    "bil[3] = 20;\n",
    "System.out.println(bil[0]);\n",
    "System.out.println(bil[1]);\n",
    "System.out.println(bil[2]);\n",
    "System.out.println(bil[3]);"
   ]
  },
  {
   "cell_type": "markdown",
   "metadata": {},
   "source": [
    "#### Pertanyaan \n",
    "1. Dari percobaan 1 berapakah indeks array terbesar dan terkecil?"
   ]
  },
  {
   "cell_type": "markdown",
   "metadata": {},
   "source": [
    "Indeks array yang terbesar terdapat pada indeks ke-3, sedangkan yang terkecil terletak pada indeks ke-0"
   ]
  },
  {
   "cell_type": "markdown",
   "metadata": {},
   "source": [
    "2. Jika Isi masing-masing elemen array bil diubah dengan angka 5.0, 12867, 7.5, 2000000. Apa yang terjadi? Mengapa bisa demikian?"
   ]
  },
  {
   "cell_type": "code",
   "execution_count": null,
   "metadata": {},
   "outputs": [],
   "source": [
    "// Tulis Jawaban no 2 yang disini\n",
    "int[] bil = new int[4];\n",
    "bil[0] = 5.0;\n",
    "bil[1] = 12867;\n",
    "bil[2] = 7.5;\n",
    "bil[3] = 2000000;\n",
    "System.out.println(bil[0]);\n",
    "System.out.println(bil[1]);\n",
    "System.out.println(bil[2]);\n",
    "System.out.println(bil[3]);"
   ]
  },
  {
   "cell_type": "markdown",
   "metadata": {},
   "source": [
    "Pada indeks ke-0 dan indeks ke-2 terdapat kesalahan inisialisasi nilai. Variabel bil (integer) diisi nilai bilangan real yang seharusnya menggunakan tipe data fload dan double"
   ]
  },
  {
   "cell_type": "markdown",
   "metadata": {},
   "source": [
    "3. Ubah statement pada langkah No 3 menjadi seperti berikut\n",
    "![Gambar pertanyaan 3](images/P1T3.png)\n",
    "Apa keluaran dari program? Mengapa bisa demikian?"
   ]
  },
  {
   "cell_type": "code",
   "execution_count": null,
   "metadata": {},
   "outputs": [],
   "source": [
    "// Tulis Jawaban no 3 yang disini\n",
    "int[] bil = new int[4];\n",
    "for(int i = 0; i < 4; i++){\n",
    "    System.out.println(bil[i]);\n",
    "}"
   ]
  },
  {
   "cell_type": "markdown",
   "metadata": {},
   "source": [
    "Keluaran dari program tersebut menampilkan nilai 0 (nol) pada tiap indeksnya. \"Mengapa demikian?\" karena kita belum mengisi data atau nilai pada array"
   ]
  },
  {
   "cell_type": "markdown",
   "metadata": {},
   "source": [
    "### Percobaan 2: Meminta Inputan Pengguna untuk Mengisi Elemen Array\n",
    "1. Pada percobaan ke-2 akan dilakukan percobaan yang meminta inputan pengguna untuk mengisi elemen array seperti pada flowchart berikut\n",
    "![Gambar Flowchart](images/FCpercobaan2.png)"
   ]
  },
  {
   "cell_type": "markdown",
   "metadata": {},
   "source": [
    "2. Import dan deklarasikan Scanner untuk keperluan input. \n",
    "![Gambar import scanner](images/P2L2.png)"
   ]
  },
  {
   "cell_type": "code",
   "execution_count": null,
   "metadata": {},
   "outputs": [],
   "source": [
    "// Tulis Kode program Percobaan 2 Langkah 1 di atas\n",
    "import java.util.Scanner;\n",
    "Scanner sc = new Scanner(System.in);"
   ]
  },
  {
   "cell_type": "markdown",
   "metadata": {},
   "source": [
    "3. Buat array bertipe integer dengan nama nilaiUAS, dengan kapasitas 6 elemen.\n",
    "![Gambar deklarasi array](images/P2L3.png)"
   ]
  },
  {
   "cell_type": "code",
   "execution_count": null,
   "metadata": {},
   "outputs": [],
   "source": [
    "// Tulis Kode program Percobaan 2 Langkah 3 di atas\n",
    "int [] nilaiUAS = new int[6];"
   ]
  },
  {
   "cell_type": "markdown",
   "metadata": {},
   "source": [
    "4. Menggunakan perulangan, buat input untuk mengisi elemen dari array nilaiUAS.\n",
    "![Gambar perulangan input](images/P2L4.png)"
   ]
  },
  {
   "cell_type": "code",
   "execution_count": null,
   "metadata": {
    "scrolled": true
   },
   "outputs": [],
   "source": [
    "// Tulis Kode program Percobaan 2 Langkah 4 di atas\n",
    "for(int i = 0; i < 6; i++){\n",
    "    System.out.print(\"Masukkan nilai UAS ke-\" + i + \": \");\n",
    "    nilaiUAS[i] = sc.nextInt();\n",
    "}"
   ]
  },
  {
   "cell_type": "markdown",
   "metadata": {},
   "source": [
    "5. Menggunakan perulangan, tampilkan semua isi elemen dari array nilaiUAS.\n",
    "![Gambar perulangan print](images/P2L5.png)"
   ]
  },
  {
   "cell_type": "code",
   "execution_count": 1,
   "metadata": {
    "scrolled": true
   },
   "outputs": [
    {
     "name": "stdout",
     "output_type": "stream",
     "text": [
      "Masukkan nilai UAS ke-0: 100\n",
      "Masukkan nilai UAS ke-1: 90\n",
      "Masukkan nilai UAS ke-2: 80\n",
      "Masukkan nilai UAS ke-3: 100\n",
      "Masukkan nilai UAS ke-4: 90\n",
      "Masukkan nilai UAS ke-5: 80\n",
      "Nilai UAS ke-0 adalah: 100\n",
      "Nilai UAS ke-1 adalah: 90\n",
      "Nilai UAS ke-2 adalah: 80\n",
      "Nilai UAS ke-3 adalah: 100\n",
      "Nilai UAS ke-4 adalah: 90\n",
      "Nilai UAS ke-5 adalah: 80\n"
     ]
    }
   ],
   "source": [
    "// Tulis Kode program Percobaan 2 Langkah 5 di atas\n",
    "import java.util.Scanner;\n",
    "Scanner sc = new Scanner(System.in);\n",
    "int [] nilaiUAS = new int[6];\n",
    "for(int i = 0; i < 6; i++){\n",
    "    System.out.print(\"Masukkan nilai UAS ke-\" + i + \": \");\n",
    "    nilaiUAS[i] = sc.nextInt();\n",
    "}\n",
    "for (int i = 0; i < 6; i++){\n",
    "    System.out.println(\"Nilai UAS ke-\" + i+ \" adalah: \" + nilaiUAS[i]);\n",
    "}"
   ]
  },
  {
   "cell_type": "markdown",
   "metadata": {},
   "source": [
    "#### Pertanyaan\n",
    "1. Ubah statement pada langkah No 4 menjadi seperti berikut ini :\n",
    "![Gambar pertanyaan1](images/P2T1.png)\n",
    "Jalankan program, apakah terjadi perubahan? Mengapa demikian?\n"
   ]
  },
  {
   "cell_type": "code",
   "execution_count": 2,
   "metadata": {},
   "outputs": [
    {
     "name": "stdout",
     "output_type": "stream",
     "text": [
      "Masukkan nilai UAS ke-0: 100\n",
      "Masukkan nilai UAS ke-1: 80\n",
      "Masukkan nilai UAS ke-2: 70\n",
      "Masukkan nilai UAS ke-3: 100\n",
      "Masukkan nilai UAS ke-4: 80\n",
      "Masukkan nilai UAS ke-5: 70\n",
      "Nilai UAS ke-0 adalah: 100\n",
      "Nilai UAS ke-1 adalah: 80\n",
      "Nilai UAS ke-2 adalah: 70\n",
      "Nilai UAS ke-3 adalah: 100\n",
      "Nilai UAS ke-4 adalah: 80\n",
      "Nilai UAS ke-5 adalah: 70\n"
     ]
    }
   ],
   "source": [
    "// Tulis Jawaban nomor 1 disini\n",
    "import java.util.Scanner;\n",
    "Scanner sc = new Scanner(System.in);\n",
    "int [] nilaiUAS = new int[6];\n",
    "for(int i = 0; i < nilaiUAS.length; i++){\n",
    "    System.out.print(\"Masukkan nilai UAS ke-\" + i + \": \");\n",
    "    nilaiUAS[i] = sc.nextInt();\n",
    "}\n",
    "for (int i = 0; i < 6; i++){\n",
    "    System.out.println(\"Nilai UAS ke-\" + i+ \" adalah: \" + nilaiUAS[i]);\n",
    "}"
   ]
  },
  {
   "cell_type": "markdown",
   "metadata": {},
   "source": [
    "Hasil program secara keseluruhan sama dengan program default. Hal tersebut terjadi dikarenakan menggunakan ekspresi \n",
    "\"i < nilaiUAS.length\" yang pada konteks ini sama dengan ekspresi \" i < 6\""
   ]
  },
  {
   "cell_type": "markdown",
   "metadata": {},
   "source": [
    "2. Apa kegunaan dari `nilaiUAS.length`? "
   ]
  },
  {
   "cell_type": "markdown",
   "metadata": {},
   "source": [
    "Kegunaan dari \"nilaiUAS.length\" mengetahui batas terakhir atau jumlah elemen dari array"
   ]
  },
  {
   "cell_type": "markdown",
   "metadata": {},
   "source": [
    "3. Ubah statement pada langkah No 5 menjadi seperti berikut ini sehingga program hanya menampilkan status mahasiswa yang lulus saja:\n",
    "![Gambar pertanyaan1](images/P2T3.png)\n",
    "Jalankan program dan Jelaskan alur program!"
   ]
  },
  {
   "cell_type": "code",
   "execution_count": 3,
   "metadata": {},
   "outputs": [
    {
     "name": "stdout",
     "output_type": "stream",
     "text": [
      "Masukkan nilai UAS ke-0: 100\n",
      "Masukkan nilai UAS ke-1: 80\n",
      "Masukkan nilai UAS ke-2: 67\n",
      "Masukkan nilai UAS ke-3: 100\n",
      "Masukkan nilai UAS ke-4: 80\n",
      "Masukkan nilai UAS ke-5: 90\n",
      "Masukkan nilai UAS ke-0 lulus \n",
      "Masukkan nilai UAS ke-1 lulus \n",
      "Masukkan nilai UAS ke-3 lulus \n",
      "Masukkan nilai UAS ke-4 lulus \n",
      "Masukkan nilai UAS ke-5 lulus \n"
     ]
    }
   ],
   "source": [
    "// Tulis Jawaban nomor 3 disini\n",
    "import java.util.Scanner;\n",
    "Scanner sc = new Scanner(System.in);\n",
    "int [] nilaiUAS = new int[6];\n",
    "for(int i = 0; i < 6; i++){\n",
    "    System.out.print(\"Masukkan nilai UAS ke-\" + i + \": \");\n",
    "    nilaiUAS[i] = sc.nextInt();\n",
    "}\n",
    "for (int i = 0; i < 6; i++){\n",
    "    if(nilaiUAS[i] > 70){\n",
    "        System.out.println(\"Masukkan nilai UAS ke-\" + i + \" lulus \");\n",
    "    }\n",
    "}"
   ]
  },
  {
   "cell_type": "markdown",
   "metadata": {},
   "source": [
    "Alur dari program tersebut meminta kita untuk memasukkan nilai 0-100 sebanyak 5 kali (langkah 1-4). Setelah itu program akan menyeleksi (langkah 5 menggunakan if dan operator relasi) yang akan menampilkan jika dan hanya jika nilai lebih besar dari 70."
   ]
  },
  {
   "cell_type": "markdown",
   "metadata": {},
   "source": [
    "### Percobaan 3: Melakukan Operasi Aritmatika terhadap Elemen Array\n",
    "Pada praktikum ini, akan dilakukan percobaan untuk menjumlahkan Array. Program akan menerima input sebanyak 10 nilai mahasiswa. Kemudian program akan menampilkan nilai rata-rata nilai dari 10 Mahasiswa. Seperti flowchart berikut\n",
    "![Gambar flowchart](images/FCpercobaan3.png)\n",
    "\n",
    "1.Import dan deklarasikan Scanner untuk keperluan input. \n",
    "![Gambar deklarasi scanner](images/P3L1.png)"
   ]
  },
  {
   "cell_type": "code",
   "execution_count": null,
   "metadata": {},
   "outputs": [],
   "source": [
    "// Tulis Kode program Percobaan 3 Langkah 1 di atas, disini\n",
    "import java.util.Scanner;\n",
    "Scanner sc = new Scanner(System.in);"
   ]
  },
  {
   "cell_type": "markdown",
   "metadata": {},
   "source": [
    "2. Buat array nilaiMHS bertipe integer dengan kapasitas 10. Kemudian deklarasikan variable total dan rata seperti gambar berikut ini\n",
    "![Gambar deklarasi variabel](images/P3L2.png)\n"
   ]
  },
  {
   "cell_type": "code",
   "execution_count": null,
   "metadata": {},
   "outputs": [],
   "source": [
    "// Tulis Kode program Percobaan 3 Langkah 2 di atas, disini\n",
    "int nilaiMHS[] = new int[10];\n",
    "double total;\n",
    "double rata;"
   ]
  },
  {
   "cell_type": "markdown",
   "metadata": {},
   "source": [
    "3. Menggunakan perulangan, buat input untuk mengisi array nilaiMHS\n",
    "![Gambar perulangan input](images/P3L3.png)\n"
   ]
  },
  {
   "cell_type": "code",
   "execution_count": null,
   "metadata": {},
   "outputs": [],
   "source": [
    "// Tulis Kode program Percobaan 3 Langkah 3 di atas, disini\n",
    "for(int i = 0; i < nilaiMHS.lenght; i++){\n",
    "    System.out.print(\"Masukkan nilai UAS ke-\" + (i+1) + \": \");\n",
    "    nilaiMHS[i] = sc.nextInt();\n",
    "}"
   ]
  },
  {
   "cell_type": "markdown",
   "metadata": {},
   "source": [
    "4. Menggunakan perulangan untuk menghitung jumlah keseluruhan nilai.\n",
    "![Gambar perulangan jumlah](images/P3L4.png)\n"
   ]
  },
  {
   "cell_type": "code",
   "execution_count": null,
   "metadata": {},
   "outputs": [],
   "source": [
    "// Tulis Kode program Percobaan 3 Langkah 4 di atas, disini\n",
    "for(int i = 0; i < nilaiMHS.lenght; i++){\n",
    "    total+=nilaiMhS[i];\n",
    "}"
   ]
  },
  {
   "cell_type": "markdown",
   "metadata": {},
   "source": [
    "5. Kemudian hitung nilai rata-rata dengan cara nilai total dibagi jumlah elemen dari array nilaiMHS\\\n",
    "![Gambar hitung rata2](images/P3L5.png)\n"
   ]
  },
  {
   "cell_type": "code",
   "execution_count": 4,
   "metadata": {},
   "outputs": [
    {
     "name": "stdout",
     "output_type": "stream",
     "text": [
      "Masukkan nilai UAS ke-1: 100\n",
      "Masukkan nilai UAS ke-2: 90\n",
      "Masukkan nilai UAS ke-3: 80\n",
      "Masukkan nilai UAS ke-4: 70\n",
      "Masukkan nilai UAS ke-5: 100\n",
      "Masukkan nilai UAS ke-6: 90\n",
      "Masukkan nilai UAS ke-7: 80\n",
      "Masukkan nilai UAS ke-8: 70\n",
      "Masukkan nilai UAS ke-9: 100\n",
      "Masukkan nilai UAS ke-10: 90\n",
      "Rata-rata nilai mahasiswa adalah 87.0\n"
     ]
    }
   ],
   "source": [
    "// Tulis Kode program Percobaan 3 Langkah 3 di atas, disini\n",
    "import java.util.Scanner;\n",
    "Scanner sc = new Scanner(System.in);\n",
    "int nilaiMHS[] = new int[10];\n",
    "double total;\n",
    "double rata;\n",
    "for(int i = 0; i < nilaiMHS.length; i++){\n",
    "    System.out.print(\"Masukkan nilai UAS ke-\" + (i+1) + \": \");\n",
    "    nilaiMHS[i] = sc.nextInt();\n",
    "}\n",
    "for(int i = 0; i < nilaiMHS.length; i++){\n",
    "    total+=nilaiMHS[i];\n",
    "}\n",
    "rata = total/nilaiMHS.length;\n",
    "System.out.println(\"Rata-rata nilai mahasiswa adalah \" + rata);"
   ]
  },
  {
   "cell_type": "markdown",
   "metadata": {},
   "source": [
    "#### Pertanyaan \n",
    "1. Pada Percobaan 3 langkah ke-5. Mengapa perhitungan rata berada diluar perulangan?"
   ]
  },
  {
   "cell_type": "markdown",
   "metadata": {},
   "source": [
    "Hal tersebut bertujuan untuk mempermudah sekaligus hasil keluaran akan lebih presisi dari pada\n",
    "langkah ke-5 berada di dalam perulangan"
   ]
  },
  {
   "cell_type": "markdown",
   "metadata": {},
   "source": [
    "2. Modifikasi program pada percobaan 3 sehingga bisa mengeluarkan output  seperti gambar berikut ini!\n",
    "syarat lulus nilai >70\n",
    "![Gambar pertanyaan 2](images/P3T2.png)"
   ]
  },
  {
   "cell_type": "code",
   "execution_count": 11,
   "metadata": {},
   "outputs": [
    {
     "name": "stdout",
     "output_type": "stream",
     "text": [
      "Masukkan nilai UAS ke-1: 90\n",
      "Masukkan nilai UAS ke-2: 80\n",
      "Masukkan nilai UAS ke-3: 100\n",
      "Masukkan nilai UAS ke-4: 70\n",
      "Masukkan nilai UAS ke-5: 60\n",
      "Masukkan nilai UAS ke-6: 40\n",
      "Masukkan nilai UAS ke-7: 50\n",
      "Masukkan nilai UAS ke-8: 20\n",
      "Masukkan nilai UAS ke-9: 10\n",
      "Masukkan nilai UAS ke-10: 30\n",
      "Rata-rata nilai mahasiswa yang lulus adalah 90.0\n",
      "Rata-rata nilai mahasiswa adalah 40.0\n"
     ]
    }
   ],
   "source": [
    "// Tulis jawaban no 2 disini\n",
    "import java.util.Scanner;\n",
    "Scanner sc = new Scanner(System.in);\n",
    "int nilaiMHS[] = new int[10];\n",
    "double total;\n",
    "double totalG;\n",
    "int pembagi;\n",
    "int pembagiG;\n",
    "double rata;\n",
    "double rataG;\n",
    "for(int i = 0; i < nilaiMHS.length; i++){\n",
    "    System.out.print(\"Masukkan nilai UAS ke-\" + (i+1) + \": \");\n",
    "    nilaiMHS[i] = sc.nextInt();\n",
    "}\n",
    "int a = 1; \n",
    "int b = 1;\n",
    "for(int i = 0; i < nilaiMHS.length; i++){\n",
    "    if (nilaiMHS[i] > 70){\n",
    "        total+=nilaiMHS[i];\n",
    "        pembagi = a;\n",
    "        a++;\n",
    "    } else if(nilaiMHS[i] <= 70) {\n",
    "       totalG+=nilaiMHS[i];\n",
    "        pembagiG = b;\n",
    "        b++;\n",
    "    }\n",
    "}\n",
    "rata = total/pembagi;\n",
    "System.out.println(\"Rata-rata nilai mahasiswa yang lulus adalah \" + rata);\n",
    "rataG = totalG/pembagiG;\n",
    "System.out.println(\"Rata-rata nilai mahasiswa adalah \" + rataG);"
   ]
  },
  {
   "cell_type": "code",
   "execution_count": null,
   "metadata": {},
   "outputs": [],
   "source": [
    "### Percobaan 4: Pencarian menggunakan Array\n",
    "Pada praktikum ini, akan dilakukan percobaan untuk mencari lokasi/indeks sebuah angka dalam array. Sesuai dengan flowchart di bawah ini:\n",
    "![Gambar flowchart searching](images/FCpercobaan4.png) "
   ]
  },
  {
   "cell_type": "markdown",
   "metadata": {},
   "source": [
    "1. Buat array arr[] bertipe integer dengan kapasitas 6 dan isi dengan nilai 6, 4, 1, 9, 7, 3, 2 dan 8. Kemudian deklarasikan variabel integer `key` untuk kata kunci pencarian dan variabel `hasil` untuk hasil indeks pencarian. Deklarasi dan inisialisasi seperti gambar berikut ini\n",
    "![Gambar deklarasi variabel](images/P4L2.png)\n"
   ]
  },
  {
   "cell_type": "code",
   "execution_count": null,
   "metadata": {},
   "outputs": [],
   "source": [
    "// Tulis Kode program Percobaan 4 Langkah 1 di atas, disini\n",
    "int[] arr = {6,4,1,9,7,3,2,8};\n",
    "int key = 3;\n",
    "int hasil = -1;"
   ]
  },
  {
   "cell_type": "markdown",
   "metadata": {},
   "source": [
    "2. Menggunakan perulangan, lakukan pencarian untuk mendapatkan nilai array yang sesuai dengan key. Bila ada yang sesuai, simpan indeksnya sebagai hasil pencarian\n",
    "![Gambar perulangan search](images/p4L3.png)\n"
   ]
  },
  {
   "cell_type": "code",
   "execution_count": null,
   "metadata": {},
   "outputs": [],
   "source": [
    "// Tulis Kode program Percobaan 4 Langkah 2 di atas, disini\n",
    "for (int i = 0; i < arr.length; i++){\n",
    "    if(key==arr[i]){\n",
    "        hasil = i;\n",
    "        break;\n",
    "    }\n",
    "}"
   ]
  },
  {
   "cell_type": "markdown",
   "metadata": {},
   "source": [
    "3. Tampilkan hasil pencarian dengan kode berikut.\n",
    "![Gambar perulangan jumlah](images/P4L4.png)\n"
   ]
  },
  {
   "cell_type": "code",
   "execution_count": 12,
   "metadata": {},
   "outputs": [
    {
     "name": "stdout",
     "output_type": "stream",
     "text": [
      "Key ada di array ke-5\r\n"
     ]
    }
   ],
   "source": [
    "// Tulis Kode program Percobaan 4 Langkah 3 di atas, disini\n",
    "int[] arr = {6,4,1,9,7,3,2,8};\n",
    "int key = 3;\n",
    "int hasil = -1;\n",
    "for (int i = 0; i < arr.length; i++){\n",
    "    if(key==arr[i]){\n",
    "        hasil = i;\n",
    "        break;\n",
    "    }\n",
    "}\n",
    "System.out.println(\"Key ada di array ke-\" + hasil);"
   ]
  },
  {
   "cell_type": "markdown",
   "metadata": {},
   "source": [
    "#### Pertanyaan \n",
    "1. Pada Percobaan 4 langkah ke-2. Apa kegunaan dari statement `break`?"
   ]
  },
  {
   "cell_type": "markdown",
   "metadata": {},
   "source": [
    "Statement \" break\" digunakan untuk mengeluarkan dari program jika dan hanya jika sudah memenuhi persyaratan \"if(key==arr[i])\""
   ]
  },
  {
   "cell_type": "markdown",
   "metadata": {},
   "source": [
    "2. Modifikasi program pada percobaan 4 sehingga key yang dicari adalah angka 5. Kemudian jalankan program, amati hasilnya! Jelaskan penyebab dari hasil tersebut! "
   ]
  },
  {
   "cell_type": "code",
   "execution_count": 15,
   "metadata": {},
   "outputs": [
    {
     "name": "stdout",
     "output_type": "stream",
     "text": [
      "Key ada di array ke--1\r\n"
     ]
    }
   ],
   "source": [
    "// Tulis jawaban no 2 disini\n",
    "int[] arr = {6,4,1,9,7,3,2,8};\n",
    "int key = 5;\n",
    "int hasil = -1;\n",
    "for (int i = 0; i < arr.length; i++){\n",
    "    if(key==arr[i]){\n",
    "        hasil = i;\n",
    "        break;\n",
    "    }\n",
    "}\n",
    "System.out.println(\"Key ada di array ke-\" + hasil);"
   ]
  },
  {
   "cell_type": "markdown",
   "metadata": {},
   "source": [
    "Yang terjadi adalah hanya menampilkan \"int hasil = -1\" karena dalam array tidak terdapat nilai 5. Proses pencarian (for + if + break) sudah terlewati sehingga yang menjadi acuan masih \"int hasil = -1;\""
   ]
  },
  {
   "cell_type": "markdown",
   "metadata": {},
   "source": [
    "### Percobaan 5: Pengurutan bilangan menggunakan Array\n",
    "Pada praktikum ini, akan dilakukan percobaan untuk mengurutkan angka dalam array. Sesuai dengan flowchart di bawah ini:\n",
    "![Gambar flowchart sorting](images/FCpercobaan5.png)\n",
    "1.Buat array arr[] bertipe integer dengan kapasitas 8 dan isi dengan nilai 16, 4, 10, 90, 27, 3, 12 dan 28. Kemudian deklarasikan variabel integer `temp` untuk media penukaran nilai pada variabel. Deklarasi dan inisialisasi seperti gambar berikut ini\n",
    "![Gambar deklarasi dan inisialisasi](images/P5L1.png)"
   ]
  },
  {
   "cell_type": "code",
   "execution_count": null,
   "metadata": {},
   "outputs": [],
   "source": [
    "// Tulis Kode program Percobaan 5 Langkah 1 disini\n",
    "int[] arr = {16, 4, 10, 90, 27, 3, 12, 28};\n",
    "int temp = 0;"
   ]
  },
  {
   "cell_type": "markdown",
   "metadata": {},
   "source": [
    "2. Menggunakan perulangan, lakukan pengurutan bilangan dengan menukar posisi indeks tersebut dengan indeks berikutnya. Perulangan dilakukan untuk menukar posisi berulang kali. \n",
    "![Gambar sorting](images/P5L2.png)"
   ]
  },
  {
   "cell_type": "code",
   "execution_count": null,
   "metadata": {},
   "outputs": [],
   "source": [
    "// Tulis Kode program Percobaan 5 Langkah 2 disini\n",
    "for (int i = 0; i < arr.length; i++){\n",
    "    for (int j = 1; j < (arr.length - 1); j++){\n",
    "        if{arr[j-1] > arr[j]{\n",
    "        temp = arr[j-1];\n",
    "        arr[j-1] = arr[j];\n",
    "        arr[j] = temp\n",
    "        }\n",
    "    }\n",
    "}"
   ]
  },
  {
   "cell_type": "markdown",
   "metadata": {},
   "source": [
    "3. Tampilkan hasil pengurutan dengan menggunakan perulangan\n",
    "![Gambar print](images/P5L3.png)"
   ]
  },
  {
   "cell_type": "code",
   "execution_count": 16,
   "metadata": {},
   "outputs": [
    {
     "name": "stdout",
     "output_type": "stream",
     "text": [
      "Hasil pengurutan: \n",
      "3\n",
      "4\n",
      "10\n",
      "12\n",
      "16\n",
      "27\n",
      "28\n",
      "90\n"
     ]
    }
   ],
   "source": [
    "// Tulis Kode program Percobaan 5 Langkah 3 di atas, disini\n",
    "\n",
    "int[] arr = {16, 4, 10, 90, 27, 3, 12, 28};\n",
    "int temp = 0;\n",
    "\n",
    "for(int i = 0; i < arr.length; i++){\n",
    "    for(int j = 1; j < (arr.length-i); j++){\n",
    "        if(arr[j-1] > arr[j]){\n",
    "            temp = arr[j-1];\n",
    "            arr[j-1] = arr[j];\n",
    "            arr[j] = temp;\n",
    "        }\n",
    "    }\n",
    "}\n",
    "\n",
    "System.out.println(\"Hasil pengurutan: \");\n",
    "for(int i = 0; i < arr.length; i++)\n",
    "    System.out.println(arr[i]);"
   ]
  },
  {
   "cell_type": "markdown",
   "metadata": {},
   "source": [
    "## Tugas\n",
    "### Soal 1\n",
    "Buatlah program yang **sesuai** dengan alur _flowchart_ di bawah ini\n",
    "![Soal 1](images/soal1.png)\n",
    "\n",
    "Flowchart diatas menggambarkan alur program yang membaca 10 masukan pengguna berupa integer dan menyimpannya. Kemudian angka ganjil dan genap disimpan kembali ke dalam variabel lain yang terpisah"
   ]
  },
  {
   "cell_type": "code",
   "execution_count": 52,
   "metadata": {},
   "outputs": [
    {
     "name": "stdout",
     "output_type": "stream",
     "text": [
      "Masukkan bilangan : 1\n",
      "Masukkan bilangan : 2\n",
      "Masukkan bilangan : 3\n",
      "Masukkan bilangan : 4\n",
      "Masukkan bilangan : 5\n",
      "Masukkan bilangan : 6\n",
      "Masukkan bilangan : 7\n",
      "Masukkan bilangan : 8\n",
      "Masukkan bilangan : 9\n",
      "Masukkan bilangan : 10\n",
      "Yang merupakan bilangan genap adalah = 2 4 6 8 10 \n",
      "Yang merupakan bilangan ganjil adalah = 1 3 5 7 9 "
     ]
    }
   ],
   "source": [
    "// Jawaban Soal 1 disini\n",
    "import java.util.Scanner;\n",
    "Scanner input = new Scanner(System.in);\n",
    "int checkNum[] = new int[10];\n",
    "int evenNum[] = new int[10];\n",
    "int oddNum[] = new int[10];\n",
    "int cEven, cOdd = 0;\n",
    "\n",
    "for (int i = 0; i < checkNum.length; i++ ){\n",
    "    System.out.print(\"Masukkan bilangan : \");\n",
    "    checkNum[i] = input.nextInt();\n",
    "}\n",
    "for (int j = 0; j < checkNum.length; j++ ){\n",
    "    if (checkNum[j] %2 == 0){\n",
    "        evenNum[cEven] = checkNum[j];\n",
    "        cEven++;\n",
    "    } else{\n",
    "        oddNum[cOdd] = checkNum[j];\n",
    "        cOdd++;\n",
    "    }\n",
    "}\n",
    "\n",
    "System.out.print(\"Yang merupakan bilangan genap adalah = \");\n",
    "    for(int i = 0; i < evenNum.length; i++){\n",
    "        if (evenNum[i] == 0) break;\n",
    "        System.out.print(evenNum[i] + \" \");\n",
    "        }\n",
    "System.out.print(\"\\nYang merupakan bilangan ganjil adalah = \");\n",
    "    for(int i = 0; i < oddNum.length; i++){\n",
    "        if (oddNum[i] == 0) break; \n",
    "        System.out.print(oddNum[i] + \" \");  \n",
    "        }"
   ]
  },
  {
   "cell_type": "markdown",
   "metadata": {},
   "source": [
    "### Soal 2\n",
    "Buatlah program yang terdapat array dengan jumlah elemen 5, buatlah input untuk mengisi elemen array tersebut, kemudian tampilkan isi array tersebut dengan urutan terbalik. Seperti ilustrasi gambar dibawah ini.\n",
    "![Soal 2](images/T2.png)"
   ]
  },
  {
   "cell_type": "code",
   "execution_count": 25,
   "metadata": {},
   "outputs": [
    {
     "name": "stdout",
     "output_type": "stream",
     "text": [
      "Masukkan nilai indeks ke 0 : 5\n",
      "Masukkan nilai indeks ke 1 : 2\n",
      "Masukkan nilai indeks ke 2 : 7\n",
      "Masukkan nilai indeks ke 3 : 9\n",
      "Masukkan nilai indeks ke 4 : 6\n",
      "Nilai indeks ke 0 adalah 6\n",
      "Nilai indeks ke 1 adalah 9\n",
      "Nilai indeks ke 2 adalah 7\n",
      "Nilai indeks ke 3 adalah 2\n",
      "Nilai indeks ke 4 adalah 5\n"
     ]
    }
   ],
   "source": [
    "/* Jawaban Soal 2 disini */\n",
    "import java.util.Scanner;\n",
    "Scanner input = new Scanner(System.in);\n",
    "int [] x = new int[5];\n",
    "\n",
    "for (int y = 0; y < x.length; y++){\n",
    "   System.out.print(\"Masukkan nilai indeks ke \" + y + \" : \");\n",
    "    x [y] = input.nextInt();\n",
    "}\n",
    "int a = 0;\n",
    "for (int y = 4; y >= 0; y--){\n",
    "    System.out.println(\"Nilai indeks ke \" + a + \" adalah \" + x [y] );\n",
    "    a++;\n",
    "}"
   ]
  },
  {
   "cell_type": "markdown",
   "metadata": {},
   "source": [
    "### Soal 3\n",
    "Buatlah program yang menerima input jumlah elemen array, inputkan isi arraynya, kemudian tampilkan bilangan terbesar dari isi elemen arraynya. Contoh hasil program:\n",
    "![Soal 3](images/t3.png)"
   ]
  },
  {
   "cell_type": "code",
   "execution_count": 41,
   "metadata": {},
   "outputs": [
    {
     "name": "stdout",
     "output_type": "stream",
     "text": [
      "Masukkan isi array :5\n",
      "Masukkan nilai indeks ke 0 : 25\n",
      "Masukkan nilai indeks ke 1 : 78\n",
      "Masukkan nilai indeks ke 2 : 12\n",
      "Masukkan nilai indeks ke 3 : 63\n",
      "Masukkan nilai indeks ke 4 : 99\n",
      "Bilangan terbesar adalah 99"
     ]
    }
   ],
   "source": [
    "/* Jawaban Soal 3 disini */\n",
    "import java.util.Scanner;\n",
    "Scanner input = new Scanner(System.in);\n",
    "int n;\n",
    "System.out.print(\"Masukkan isi array :\");\n",
    "n = input.nextInt();\n",
    "int[] a = new int[n];\n",
    "for (int i = 0; i < a.length; i++){\n",
    "   System.out.print(\"Masukkan nilai indeks ke \" + i + \" : \");\n",
    "    a [i] = input.nextInt();\n",
    "}\n",
    "x = a[0];\n",
    "y = a[0];\n",
    "for (int i = 0; i < a.length; i++){\n",
    "   if (a[i]< x){\n",
    "        x = a[i]; \n",
    "   } else if (a[i]> y) {\n",
    "        y = a[i];\n",
    "   }     \n",
    "}\n",
    " System.out.print(\"Bilangan terbesar adalah \" + y);"
   ]
  }
 ],
 "metadata": {
  "kernelspec": {
   "display_name": "Java",
   "language": "java",
   "name": "java"
  },
  "language_info": {
   "codemirror_mode": "java",
   "file_extension": ".jshell",
   "mimetype": "text/x-java-source",
   "name": "Java",
   "pygments_lexer": "java",
   "version": "17+35-LTS-2724"
  }
 },
 "nbformat": 4,
 "nbformat_minor": 1
}
