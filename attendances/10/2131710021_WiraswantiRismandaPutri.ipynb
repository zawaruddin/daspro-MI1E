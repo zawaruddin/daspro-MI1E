{
 "cells": [
  {
   "cell_type": "markdown",
   "metadata": {},
   "source": [
    "### Nama : Wiraswanti Rismanda Putri\n",
    "### NIM :2131710021\n",
    "\n",
    "\n",
    "# JOBSHEET 10 - Array 1\n",
    "\n",
    "## Tujuan\n",
    "+ Mahasiswa mampu memahami pembuatan Array 1 dimensi dan pengaksesan elemenya di Java. \n",
    "+ Mahasiswa mampu membuat program dengan menggunakan konsep array satu dimensi.\n",
    "\n",
    "\n",
    "## Alat dan Bahan\n",
    "+ PC/laptop\n",
    "+ Browser(chrome, firefox, safari)\n",
    "+ Koneksi internet\n",
    "+ Anaconda3 + Java kernel (opsional)\n",
    "\n",
    "## Praktikum\n",
    "### Percobaan 1: Mengisi Elemen Array\n",
    "1. Pada percobaan ke-1 akan dilakukan percobaan untuk mengisi elemen array. Buat array bertipe integer dengan nama bil dengan kapasitas 4 elemen.\n",
    "![Gambar 0](images/P1L2.png)"
   ]
  },
  {
   "cell_type": "code",
   "execution_count": 2,
   "metadata": {},
   "outputs": [],
   "source": [
    "// Tulis Kode program Percobaan 1 Langkah 2 di atas\n",
    "int[] bil=new int[4];"
   ]
  },
  {
   "cell_type": "markdown",
   "metadata": {},
   "source": [
    "2. Isi masing-masing elemen array bil tadi dengan angka 5, 12, 7, 20.\n",
    "![Gambar 0](images/P1L3.png)"
   ]
  },
  {
   "cell_type": "code",
   "execution_count": 3,
   "metadata": {},
   "outputs": [
    {
     "data": {
      "text/plain": [
       "20"
      ]
     },
     "execution_count": 3,
     "metadata": {},
     "output_type": "execute_result"
    }
   ],
   "source": [
    "// Tulis Kode program Percobaan 1 Langkah 3 di atas\n",
    "bil[0] = 5;\n",
    "bil[1] = 12;\n",
    "bil[2] = 7;\n",
    "bil[3] = 20;"
   ]
  },
  {
   "cell_type": "markdown",
   "metadata": {},
   "source": [
    "3. Tampilkan ke layar semua isi elemennya:\n",
    "![Gambar 4](images/P1L4.png)"
   ]
  },
  {
   "cell_type": "code",
   "execution_count": 4,
   "metadata": {},
   "outputs": [
    {
     "name": "stdout",
     "output_type": "stream",
     "text": [
      "5\n",
      "12\n",
      "7\n",
      "20\n"
     ]
    }
   ],
   "source": [
    "// Tulis Kode program Percobaan 1 Langkah 4\n",
    "System.out.println(bil[0]);\n",
    "System.out.println(bil[1]);\n",
    "System.out.println(bil[2]);\n",
    "System.out.println(bil[3]);"
   ]
  },
  {
   "cell_type": "markdown",
   "metadata": {},
   "source": [
    "#### Pertanyaan \n",
    "1. Dari percobaan 1 berapakah indeks array terbesar dan terkecil?"
   ]
  },
  {
   "cell_type": "code",
   "execution_count": 5,
   "metadata": {},
   "outputs": [
    {
     "name": "stdout",
     "output_type": "stream",
     "text": [
      "Indeks array terbesar : 20\n",
      "Indeks array terkecil : 5\n"
     ]
    }
   ],
   "source": [
    "// Tulis Jawaban no 1 disini\n",
    "System.out.println(\"Indeks array terbesar : \" + bil[3]);\n",
    "System.out.println(\"Indeks array terkecil : \" + bil[0]);"
   ]
  },
  {
   "cell_type": "markdown",
   "metadata": {},
   "source": [
    "2. Jika Isi masing-masing elemen array bil diubah dengan angka 5.0, 12867, 7.5, 2000000. Apa yang terjadi? Mengapa bisa demikian?\n",
    "#### Jawaban\n",
    "Setelah masing-masing elemen array bil diubah makan yang terjadi adalah program mengalami error. Karena terdapat bilangan yang bertipe data integer jadi program mengalami error. Dan seharusnya menggunkan tipe data double."
   ]
  },
  {
   "cell_type": "code",
   "execution_count": 6,
   "metadata": {},
   "outputs": [
    {
     "ename": "CompilationException",
     "evalue": "",
     "output_type": "error",
     "traceback": [
      "\u001b[1m\u001b[30m|   \u001b[1m\u001b[30mbil[0] = \u001b[0m\u001b[1m\u001b[30m\u001b[41m5.0\u001b[0m\u001b[1m\u001b[30m;\u001b[0m",
      "\u001b[1m\u001b[31mincompatible types: possible lossy conversion from double to int\u001b[0m",
      ""
     ]
    }
   ],
   "source": [
    "// Tulis Jawaban no 2 yang disini\n",
    "bil[0] = 5.0;\n",
    "bil[1] = 12867;\n",
    "bil[2] = 7.5;\n",
    "bil[3] = 2000000;"
   ]
  },
  {
   "cell_type": "markdown",
   "metadata": {},
   "source": [
    "3. Ubah statement pada langkah No 3 menjadi seperti berikut\n",
    "![Gambar pertanyaan 3](images/P1T3.png)\n",
    "Apa keluaran dari program? Mengapa bisa demikian?\n",
    "#### Jawaban \n",
    "Setelah statement diubah maka keluaran program tersebut sama dengan keluaran program pada langkah ke 3. Karena program perualangan tersebut sama saja dengan menampilkan output dari variabel i."
   ]
  },
  {
   "cell_type": "code",
   "execution_count": 9,
   "metadata": {},
   "outputs": [
    {
     "name": "stdout",
     "output_type": "stream",
     "text": [
      "5\n",
      "12\n",
      "7\n",
      "20\n"
     ]
    }
   ],
   "source": [
    "// Tulis Jawaban no 3 yang disini\n",
    "for(int i=0; i<4; i++){\n",
    "    System.out.println(bil[i]);\n",
    "}"
   ]
  },
  {
   "cell_type": "markdown",
   "metadata": {},
   "source": [
    "### Percobaan 2: Meminta Inputan Pengguna untuk Mengisi Elemen Array\n",
    "1. Pada percobaan ke-2 akan dilakukan percobaan yang meminta inputan pengguna untuk mengisi elemen array seperti pada flowchart berikut\n",
    "![Gambar Flowchart](images/FCpercobaan2.png)"
   ]
  },
  {
   "cell_type": "markdown",
   "metadata": {},
   "source": [
    "2. Import dan deklarasikan Scanner untuk keperluan input. \n",
    "![Gambar import scanner](images/P2L2.png)"
   ]
  },
  {
   "cell_type": "code",
   "execution_count": 9,
   "metadata": {},
   "outputs": [],
   "source": [
    "// Tulis Kode program Percobaan 2 Langkah 1 di atas\n",
    "import java.util.Scanner;\n",
    "Scanner sc = new Scanner(System.in);"
   ]
  },
  {
   "cell_type": "markdown",
   "metadata": {},
   "source": [
    "3. Buat array bertipe integer dengan nama nilaiUAS, dengan kapasitas 6 elemen.\n",
    "![Gambar deklarasi array](images/P2L3.png)"
   ]
  },
  {
   "cell_type": "code",
   "execution_count": 10,
   "metadata": {},
   "outputs": [],
   "source": [
    "// Tulis Kode program Percobaan 2 Langkah 3 di atas\n",
    "int[] nilaiUAS = new int[6];"
   ]
  },
  {
   "cell_type": "markdown",
   "metadata": {},
   "source": [
    "4. Menggunakan perulangan, buat input untuk mengisi elemen dari array nilaiUAS.\n",
    "![Gambar perulangan input](images/P2L4.png)"
   ]
  },
  {
   "cell_type": "code",
   "execution_count": 11,
   "metadata": {
    "scrolled": true
   },
   "outputs": [
    {
     "name": "stdout",
     "output_type": "stream",
     "text": [
      "Masukkan nilai UAS ke-0: 60\n",
      "Masukkan nilai UAS ke-1: 65\n",
      "Masukkan nilai UAS ke-2: 70\n",
      "Masukkan nilai UAS ke-3: 75\n",
      "Masukkan nilai UAS ke-4: 80\n",
      "Masukkan nilai UAS ke-5: 90\n"
     ]
    }
   ],
   "source": [
    "// Tulis Kode program Percobaan 2 Langkah 4 di atas\n",
    "for(int i = 0; i < 6; i++){\n",
    "    System.out.print(\"Masukkan nilai UAS ke-\" + i + \": \");\n",
    "    nilaiUAS[i] = sc.nextInt();\n",
    "}"
   ]
  },
  {
   "cell_type": "markdown",
   "metadata": {},
   "source": [
    "5. Menggunakan perulangan, tampilkan semua isi elemen dari array nilaiUAS.\n",
    "![Gambar perulangan print](images/P2L5.png)"
   ]
  },
  {
   "cell_type": "code",
   "execution_count": 12,
   "metadata": {
    "scrolled": true
   },
   "outputs": [
    {
     "name": "stdout",
     "output_type": "stream",
     "text": [
      "Nilai UAS ke-0 adalah: 60\n",
      "Nilai UAS ke-1 adalah: 65\n",
      "Nilai UAS ke-2 adalah: 70\n",
      "Nilai UAS ke-3 adalah: 75\n",
      "Nilai UAS ke-4 adalah: 80\n",
      "Nilai UAS ke-5 adalah: 90\n"
     ]
    }
   ],
   "source": [
    "// Tulis Kode program Percobaan 2 Langkah 5 di atas\n",
    "for(int i = 0; i < 6; i++){\n",
    "    System.out.println(\"Nilai UAS ke-\" + i + \" adalah: \" + nilaiUAS[i]);\n",
    "}"
   ]
  },
  {
   "cell_type": "markdown",
   "metadata": {},
   "source": [
    "#### Pertanyaan\n",
    "1. Ubah statement pada langkah No 4 menjadi seperti berikut ini :\n",
    "![Gambar pertanyaan1](images/P2T1.png)\n",
    "Jalankan program, apakah terjadi perubahan? Mengapa demikian?\n",
    "#### Jawaban \n",
    "    Setelah statement pada langkah no 4 diubah maka tidak akan terjadi perubahan. Karena hanya terdapat perbedaan pada penggunaan statement `nilaiUAS.length` yang digunakan untuk menghitung panjangnya array yaitu 6.\n"
   ]
  },
  {
   "cell_type": "code",
   "execution_count": 13,
   "metadata": {},
   "outputs": [
    {
     "name": "stdout",
     "output_type": "stream",
     "text": [
      "Masukkan nilai UAS ke-0: 60\n",
      "Masukkan nilai UAS ke-1: 65\n",
      "Masukkan nilai UAS ke-2: 70\n",
      "Masukkan nilai UAS ke-3: 75\n",
      "Masukkan nilai UAS ke-4: 80\n",
      "Masukkan nilai UAS ke-5: 90\n"
     ]
    }
   ],
   "source": [
    "// Tulis Jawaban nomor 1 disini\n",
    "for(int i = 0; i < nilaiUAS.length; i++){\n",
    "    System.out.print(\"Masukkan nilai UAS ke-\" + i + \": \");\n",
    "    nilaiUAS[i] = sc.nextInt();\n",
    "}"
   ]
  },
  {
   "cell_type": "markdown",
   "metadata": {},
   "source": [
    "2. Apa kegunaan dari `nilaiUAS.length`? \n",
    "#### Jawaban \n",
    "Kegunaan dari `nilaiUAS.length` adalah untuk mendapatkan panjang array"
   ]
  },
  {
   "cell_type": "markdown",
   "metadata": {},
   "source": [
    "3. Ubah statement pada langkah No 5 menjadi seperti berikut ini sehingga program hanya menampilkan status mahasiswa yang lulus saja:\n",
    "![Gambar pertanyaan1](images/P2T3.png)\n",
    "Jalankan program dan Jelaskan alur program!\n",
    "#### Jawaban\n",
    "Alur program tersebut adalah jika terdapat nilai UAS yang kurang dari 70 maka dinyatakan tidak lulus tetapi pada outputnya tidak ditampailkan. Dan hanya ditampilkan untuk yang lulus saja yaitu dengan nilai lebih dari 70."
   ]
  },
  {
   "cell_type": "code",
   "execution_count": 50,
   "metadata": {},
   "outputs": [
    {
     "name": "stdout",
     "output_type": "stream",
     "text": [
      "Mahasiswa ke-3 lulus\n",
      "Mahasiswa ke-4 lulus\n",
      "Mahasiswa ke-5 lulus\n"
     ]
    }
   ],
   "source": [
    "// Tulis Jawaban nomor 3 disini\n",
    "for(int i = 0; i < nilaiUAS.length; i++){\n",
    "    if(nilaiUAS[i] > 70){\n",
    "        System.out.println(\"Mahasiswa ke-\" + i + \" lulus\");\n",
    "    }\n",
    "}"
   ]
  },
  {
   "cell_type": "markdown",
   "metadata": {},
   "source": [
    "### Percobaan 3: Melakukan Operasi Aritmatika terhadap Elemen Array\n",
    "Pada praktikum ini, akan dilakukan percobaan untuk menjumlahkan Array. Program akan menerima input sebanyak 10 nilai mahasiswa. Kemudian program akan menampilkan nilai rata-rata nilai dari 10 Mahasiswa. Seperti flowchart berikut\n",
    "![Gambar flowchart](images/FCpercobaan3.png)\n",
    "\n",
    "1.Import dan deklarasikan Scanner untuk keperluan input. \n",
    "![Gambar deklarasi scanner](images/P3L1.png)"
   ]
  },
  {
   "cell_type": "code",
   "execution_count": 45,
   "metadata": {},
   "outputs": [],
   "source": [
    "// Tulis Kode program Percobaan 3 Langkah 1 di atas, disini\n",
    "import java.util.Scanner;\n",
    "Scanner sc = new Scanner(System.in);"
   ]
  },
  {
   "cell_type": "markdown",
   "metadata": {},
   "source": [
    "2. Buat array nilaiMHS bertipe integer dengan kapasitas 10. Kemudian deklarasikan variable total dan rata seperti gambar berikut ini\n",
    "![Gambar deklarasi variabel](images/P3L2.png)\n"
   ]
  },
  {
   "cell_type": "code",
   "execution_count": 46,
   "metadata": {},
   "outputs": [],
   "source": [
    "// Tulis Kode program Percobaan 3 Langkah 2 di atas, disini\n",
    "int nilaiMHS[] = new int[10];\n",
    "double total;\n",
    "double rata;"
   ]
  },
  {
   "cell_type": "markdown",
   "metadata": {},
   "source": [
    "3. Menggunakan perulangan, buat input untuk mengisi array nilaiMHS\n",
    "![Gambar perulangan input](images/P3L3.png)\n"
   ]
  },
  {
   "cell_type": "code",
   "execution_count": 47,
   "metadata": {},
   "outputs": [
    {
     "name": "stdout",
     "output_type": "stream",
     "text": [
      "Masukkan niali Mahasiswa ke-1:60\n",
      "Masukkan niali Mahasiswa ke-2:65\n",
      "Masukkan niali Mahasiswa ke-3:70\n",
      "Masukkan niali Mahasiswa ke-4:75\n",
      "Masukkan niali Mahasiswa ke-5:80\n",
      "Masukkan niali Mahasiswa ke-6:85\n",
      "Masukkan niali Mahasiswa ke-7:90\n",
      "Masukkan niali Mahasiswa ke-8:95\n",
      "Masukkan niali Mahasiswa ke-9:100\n",
      "Masukkan niali Mahasiswa ke-10:50\n"
     ]
    }
   ],
   "source": [
    "// Tulis Kode program Percobaan 3 Langkah 3 di atas, disini\n",
    "for(int i = 0; i<nilaiMHS.length; i++){\n",
    "    System.out.print(\"Masukkan niali Mahasiswa ke-\" + (i+1) + \":\");\n",
    "    nilaiMHS[i] = sc.nextInt();\n",
    "}"
   ]
  },
  {
   "cell_type": "markdown",
   "metadata": {},
   "source": [
    "4. Menggunakan perulangan untuk menghitung jumlah keseluruhan nilai.\n",
    "![Gambar perulangan jumlah](images/P3L4.png)\n"
   ]
  },
  {
   "cell_type": "code",
   "execution_count": 48,
   "metadata": {},
   "outputs": [],
   "source": [
    "// Tulis Kode program Percobaan 3 Langkah 4 di atas, disini\n",
    "for(int i = 0; i<nilaiMHS.length; i++){\n",
    "    total+=nilaiMHS[i];\n",
    "}"
   ]
  },
  {
   "cell_type": "markdown",
   "metadata": {},
   "source": [
    "5. Kemudian hitung nilai rata-rata dengan cara nilai total dibagi jumlah elemen dari array nilaiMHS\\\n",
    "![Gambar hitung rata2](images/P3L5.png)\n"
   ]
  },
  {
   "cell_type": "code",
   "execution_count": 49,
   "metadata": {},
   "outputs": [
    {
     "name": "stdout",
     "output_type": "stream",
     "text": [
      "Rata-rata nilai mahasiswa adalah 77.0\n"
     ]
    }
   ],
   "source": [
    "// Tulis Kode program Percobaan 3 Langkah 3 di atas, disini\n",
    "rata= total/nilaiMHS.length;\n",
    "System.out.println(\"Rata-rata nilai mahasiswa adalah \" + rata);"
   ]
  },
  {
   "cell_type": "markdown",
   "metadata": {},
   "source": [
    "#### Pertanyaan \n",
    "1. Pada Percobaan 3 langkah ke-5. Mengapa perhitungan rata berada diluar perulangan?\n",
    "#### Jawaban\n",
    "Karena jika perhitungan rata-rata terdapat di dalam perulangan, maka dalam proses perhitungan rata-rata akan langsung dilakukan. Oleh karena itu perhitungan rata-rata dilakukan di luar perulangan supaya proses perhitungan rata-rata bisa langsung dilakukan secara keseluruhan selelah proses perulangan selesai."
   ]
  },
  {
   "cell_type": "markdown",
   "metadata": {},
   "source": [
    "2. Modifikasi program pada percobaan 3 sehingga bisa mengeluarkan output  seperti gambar berikut ini!\n",
    "syarat lulus nilai >70\n",
    "![Gambar pertanyaan 2](images/P3T2.png)"
   ]
  },
  {
   "cell_type": "code",
   "execution_count": 57,
   "metadata": {},
   "outputs": [
    {
     "name": "stdout",
     "output_type": "stream",
     "text": [
      "Masukkan niali Mahasiswa ke-1:90\n",
      "Masukkan niali Mahasiswa ke-2:80\n",
      "Masukkan niali Mahasiswa ke-3:100\n",
      "Masukkan niali Mahasiswa ke-4:70\n",
      "Masukkan niali Mahasiswa ke-5:60\n",
      "Masukkan niali Mahasiswa ke-6:40\n",
      "Masukkan niali Mahasiswa ke-7:50\n",
      "Masukkan niali Mahasiswa ke-8:20\n",
      "Masukkan niali Mahasiswa ke-9:10\n",
      "Masukkan niali Mahasiswa ke-10:30\n",
      "Rata-rata nilai mahasiswa yang lulus adalah 90.0\n",
      "Rata-rata nilai mahasiswa yang tidak lulus adalah 40.0\n"
     ]
    }
   ],
   "source": [
    "// Tulis jawaban no 2 disini\n",
    "import java.util.Scanner;\n",
    "Scanner sc = new Scanner(System.in);\n",
    "\n",
    "int nilaiMHS[] = new int[10];\n",
    "double total1, total2;\n",
    "double rata1, rata2;\n",
    "int jumlah1, jumlah2;\n",
    "\n",
    "for(int i = 0; i < nilaiMHS.length; i++){\n",
    "    System.out.print(\"Masukkan niali Mahasiswa ke-\" + (i+1) + \":\");\n",
    "    nilaiMHS[i] = sc.nextInt();\n",
    "}\n",
    "\n",
    "for(int i = 0; i < nilaiMHS.length; i++){\n",
    "    if(nilaiMHS[i] > 70){\n",
    "    total1 += nilaiMHS[i];\n",
    "    jumlah1++;\n",
    "    } else {\n",
    "    total2 += nilaiMHS[i];\n",
    "    jumlah2++;\n",
    "    }\n",
    "}\n",
    "\n",
    "rata1 = total1/jumlah1;\n",
    "rata2 = total2/jumlah2;\n",
    "\n",
    "System.out.println(\"Rata-rata nilai mahasiswa yang lulus adalah \" + rata1);\n",
    "System.out.println(\"Rata-rata nilai mahasiswa yang tidak lulus adalah \" + rata2);"
   ]
  },
  {
   "cell_type": "markdown",
   "metadata": {},
   "source": [
    "### Percobaan 4: Pencarian menggunakan Array\n",
    "Pada praktikum ini, akan dilakukan percobaan untuk mencari lokasi/indeks sebuah angka dalam array. Sesuai dengan flowchart di bawah ini:\n",
    "![Gambar flowchart searching](images/FCpercobaan4.png) "
   ]
  },
  {
   "cell_type": "markdown",
   "metadata": {},
   "source": [
    "1. Buat array arr[] bertipe integer dengan kapasitas 6 dan isi dengan nilai 6, 4, 1, 9, 7, 3, 2 dan 8. Kemudian deklarasikan variabel integer `key` untuk kata kunci pencarian dan variabel `hasil` untuk hasil indeks pencarian. Deklarasi dan inisialisasi seperti gambar berikut ini\n",
    "![Gambar deklarasi variabel](images/P4L2.png)\n"
   ]
  },
  {
   "cell_type": "code",
   "execution_count": 37,
   "metadata": {},
   "outputs": [],
   "source": [
    "// Tulis Kode program Percobaan 4 Langkah 1 di atas, disini\n",
    "int[] arr = {6, 4, 1, 9, 7, 3, 2, 8};\n",
    "int key = 3;\n",
    "int hasil = -1;"
   ]
  },
  {
   "cell_type": "markdown",
   "metadata": {},
   "source": [
    "2. Menggunakan perulangan, lakukan pencarian untuk mendapatkan nilai array yang sesuai dengan key. Bila ada yang sesuai, simpan indeksnya sebagai hasil pencarian\n",
    "![Gambar perulangan search](images/p4L3.png)\n"
   ]
  },
  {
   "cell_type": "code",
   "execution_count": 26,
   "metadata": {},
   "outputs": [],
   "source": [
    "// Tulis Kode program Percobaan 4 Langkah 2 di atas, disini\n",
    "for(int i=0; i<arr.length; i++){\n",
    "    if(key==arr[i]){\n",
    "        hasil=i;\n",
    "        break;\n",
    "    }\n",
    "}"
   ]
  },
  {
   "cell_type": "markdown",
   "metadata": {},
   "source": [
    "3. Tampilkan hasil pencarian dengan kode berikut.\n",
    "![Gambar perulangan jumlah](images/P4L4.png)\n"
   ]
  },
  {
   "cell_type": "code",
   "execution_count": 38,
   "metadata": {},
   "outputs": [
    {
     "name": "stdout",
     "output_type": "stream",
     "text": [
      "Key ada di array ke--1\n"
     ]
    }
   ],
   "source": [
    "// Tulis Kode program Percobaan 4 Langkah 3 di atas, disini\n",
    "System.out.println(\"Key ada di array ke-\" + hasil);"
   ]
  },
  {
   "cell_type": "markdown",
   "metadata": {},
   "source": [
    "#### Pertanyaan \n",
    "1. Pada Percobaan 4 langkah ke-2. Apa kegunaan dari statement `break`?\n",
    "#### Jawaban\n",
    "Kegunaan statement `break` pada Percobaan 4 langkah ke-2 adalah untuk berhenti atau keluar dari program dalam suatu perulangan."
   ]
  },
  {
   "cell_type": "markdown",
   "metadata": {},
   "source": [
    "2. Modifikasi program pada percobaan 4 sehingga key yang dicari adalah angka 5. Kemudian jalankan program, amati hasilnya! Jelaskan penyebab dari hasil tersebut! \n",
    "#### Jawaban \n",
    "Setelah memodifikasi program dengan mencari nilai key adalah 5, maka karena pada inisialisasi program tersebut tidak terdapat angka 5, jadi hasil yang dicetak adalah -1 yang sesuai dengan variabel hasil yang dideklarasikan."
   ]
  },
  {
   "cell_type": "code",
   "execution_count": 36,
   "metadata": {},
   "outputs": [
    {
     "name": "stdout",
     "output_type": "stream",
     "text": [
      "Key ada di array ke--1\n"
     ]
    }
   ],
   "source": [
    "// Tulis jawaban no 2 disini\n",
    "int[] arr = {6, 4, 1, 9, 7, 3, 2, 8};\n",
    "int key = 5;\n",
    "int hasil = -1;\n",
    "\n",
    "for(int i=0; i<arr.length; i++){\n",
    "    if(key==arr[i]){\n",
    "        hasil=i;\n",
    "        break;\n",
    "    }\n",
    "}\n",
    "\n",
    "System.out.println(\"Key ada di array ke-\" + hasil);"
   ]
  },
  {
   "cell_type": "markdown",
   "metadata": {},
   "source": [
    "### Percobaan 5: Pengurutan bilangan menggunakan Array\n",
    "Pada praktikum ini, akan dilakukan percobaan untuk mengurutkan angka dalam array. Sesuai dengan flowchart di bawah ini:\n",
    "![Gambar flowchart sorting](images/FCpercobaan5.png)\n",
    "1.Buat array arr[] bertipe integer dengan kapasitas 8 dan isi dengan nilai 16, 4, 10, 90, 27, 3, 12 dan 28. Kemudian deklarasikan variabel integer `temp` untuk media penukaran nilai pada variabel. Deklarasi dan inisialisasi seperti gambar berikut ini\n",
    "![Gambar deklarasi dan inisialisasi](images/P5L1.png)"
   ]
  },
  {
   "cell_type": "code",
   "execution_count": 51,
   "metadata": {},
   "outputs": [],
   "source": [
    "// Tulis Kode program Percobaan 5 Langkah 1 disini\n",
    "int[] arr = {16, 4, 10, 90, 27, 3, 12, 28};\n",
    "int temp = 0;"
   ]
  },
  {
   "cell_type": "code",
   "execution_count": 52,
   "metadata": {},
   "outputs": [],
   "source": [
    "// Tulis Kode program Percobaan 5 Langkah 2 di atas, disini\n",
    "for(int i = 0; i < arr.length; i++){\n",
    "    for(int j = 1; j < (arr.length-i); j++){\n",
    "        if(arr[j-1] > arr[j]){\n",
    "            temp = arr[j-1];\n",
    "            arr[j-1] = arr[j];\n",
    "            arr[j] = temp;\n",
    "        }\n",
    "    }\n",
    "}"
   ]
  },
  {
   "cell_type": "markdown",
   "metadata": {},
   "source": [
    "2. Menggunakan perulangan, lakukan pengurutan bilangan dengan menukar posisi indeks tersebut dengan indeks berikutnya. Perulangan dilakukan untuk menukar posisi berulang kali. \n",
    "![Gambar sorting](images/P5L2.png)"
   ]
  },
  {
   "cell_type": "markdown",
   "metadata": {},
   "source": [
    "3. Tampilkan hasil pengurutan dengan menggunakan perulangan\n",
    "![Gambar print](images/P5L3.png)"
   ]
  },
  {
   "cell_type": "code",
   "execution_count": 53,
   "metadata": {},
   "outputs": [
    {
     "name": "stdout",
     "output_type": "stream",
     "text": [
      "Hasil pengurutan: \n",
      "3\n",
      "4\n",
      "10\n",
      "12\n",
      "16\n",
      "27\n",
      "28\n",
      "90\n"
     ]
    }
   ],
   "source": [
    "// Tulis Kode program Percobaan 5 Langkah 3 di atas, disini\n",
    "System.out.println(\"Hasil pengurutan: \");\n",
    "for(int i = 0; i < arr.length; i++)\n",
    "    System.out.println(arr[i]);"
   ]
  },
  {
   "cell_type": "markdown",
   "metadata": {},
   "source": [
    "## Tugas\n",
    "### Soal 1\n",
    "Buatlah program yang **sesuai** dengan alur _flowchart_ di bawah ini\n",
    "![Soal 1](images/soal1.png)\n",
    "\n",
    "Flowchart diatas menggambarkan alur program yang membaca 10 masukan pengguna berupa integer dan menyimpannya. Kemudian angka ganjil dan genap disimpan kembali ke dalam variabel lain yang terpisah"
   ]
  },
  {
   "cell_type": "code",
   "execution_count": 2,
   "metadata": {},
   "outputs": [
    {
     "name": "stdout",
     "output_type": "stream",
     "text": [
      "Masukkan checkNum[i]: 1\n",
      "Masukkan checkNum[i]: 2\n",
      "Masukkan checkNum[i]: 3\n",
      "Masukkan checkNum[i]: 4\n",
      "Masukkan checkNum[i]: 5\n",
      "Masukkan checkNum[i]: 6\n",
      "Masukkan checkNum[i]: 7\n",
      "Masukkan checkNum[i]: 8\n",
      "Masukkan checkNum[i]: 9\n",
      "Masukkan checkNum[i]: 10\n",
      "Angka Genap adalah: 24681000000\n",
      "Angka Ganjil adalah: 1357900000"
     ]
    }
   ],
   "source": [
    "/* Jawaban Soal 1 disini */\n",
    "import java.util.Scanner;\n",
    "Scanner input = new Scanner(System.in);\n",
    "\n",
    "int checkNum[] = new int[10];\n",
    "int evenNum[] = new int[10];\n",
    "int oddNum[] = new int[10];\n",
    "int cEven, cOdd = 0;\n",
    "\n",
    "for(int i=0; i<checkNum.length; i++){\n",
    "    System.out.print(\"Masukkan checkNum[i]: \");\n",
    "    checkNum[i] = input.nextInt();\n",
    "}\n",
    "    for(int j=0; j<checkNum.length; j++){\n",
    "        if(checkNum[j]%2==0){\n",
    "            evenNum[cEven]=checkNum[j];\n",
    "            cEven++;\n",
    "        } else {\n",
    "            oddNum[cOdd]=checkNum[j];\n",
    "            cOdd++;\n",
    "        }\n",
    "    }\n",
    "System.out.print(\"Angka Genap adalah: \");\n",
    "for(int i=0; i<evenNum.length; i++){\n",
    "    System.out.print(evenNum[i]);\n",
    "}\n",
    "System.out.print(\"\\nAngka Ganjil adalah: \");\n",
    "for(int j=0; j<oddNum.length; j++){\n",
    "    System.out.print(oddNum[j]);\n",
    "}"
   ]
  },
  {
   "cell_type": "markdown",
   "metadata": {},
   "source": [
    "### Soal 2\n",
    "Buatlah program yang terdapat array dengan jumlah elemen 5, buatlah input untuk mengisi elemen array tersebut, kemudian tampilkan isi array tersebut dengan urutan terbalik. Seperti ilustrasi gambar dibawah ini.\n",
    "![Soal 2](images/T2.png)"
   ]
  },
  {
   "cell_type": "code",
   "execution_count": 8,
   "metadata": {},
   "outputs": [
    {
     "name": "stdout",
     "output_type": "stream",
     "text": [
      "Masukkan angka: 5\n",
      "Masukkan angka: 2\n",
      "Masukkan angka: 7\n",
      "Masukkan angka: 9\n",
      "Masukkan angka: 6\n",
      "Urutan terbalik adalah: 69725"
     ]
    }
   ],
   "source": [
    "/* Jawaban Soal 2 disini */\n",
    "import java.util.Scanner;\n",
    "Scanner sc = new Scanner(System.in);\n",
    "\n",
    "int array[];\n",
    "array = new int[5];\n",
    "for(int i = 0; i < array.length; i++){\n",
    "    System.out.print(\"Masukkan angka: \");\n",
    "    array[i] = sc.nextInt();\n",
    "}\n",
    "System.out.print(\"Urutan terbalik adalah: \");\n",
    "for(int i = array.length-1; i>=0; i--){\n",
    "    System.out.print(array[i]);\n",
    "}"
   ]
  },
  {
   "cell_type": "markdown",
   "metadata": {},
   "source": [
    "### Soal 3\n",
    "Buatlah program yang menerima input jumlah elemen array, inputkan isi arraynya, kemudian tampilkan bilangan terbesar dari isi elemen arraynya. Contoh hasil program:\n",
    "![Soal 3](images/t3.png)"
   ]
  },
  {
   "cell_type": "code",
   "execution_count": 4,
   "metadata": {},
   "outputs": [
    {
     "name": "stdout",
     "output_type": "stream",
     "text": [
      "Masukkan isi array: 5\n",
      "Masukkan elemen array ke-0: 25\n",
      "Masukkan elemen array ke-1: 78\n",
      "Masukkan elemen array ke-2: 12\n",
      "Masukkan elemen array ke-3: 63\n",
      "Masukkan elemen array ke-4: 99\n",
      "Bilangan terbesar adalah: 99\n"
     ]
    }
   ],
   "source": [
    "/* Jawaban Soal 3 disini */\n",
    "import java.util.Scanner;\n",
    "Scanner sc = new Scanner(System.in);\n",
    "int[] elemen = new int[n];\n",
    "int min, max;\n",
    "\n",
    "System.out.print(\"Masukkan isi array: \");\n",
    "int n = sc.nextInt();\n",
    "\n",
    "for(int i = 0; i < n; i++){\n",
    "    System.out.print(\"Masukkan elemen array ke-\" + i + \": \");\n",
    "    elemen[i] = sc.nextInt();\n",
    "}\n",
    "min = elemen[0];\n",
    "max = elemen[0];\n",
    "\n",
    "for(int i = 0; i < n; i++) {\n",
    "    if(elemen[i]<max)\n",
    "        min=elemen[i];\n",
    "    if(elemen[i]>min)\n",
    "        max=elemen[i];\n",
    "}\n",
    "System.out.println(\"Bilangan terbesar adalah: \" + max);"
   ]
  },
  {
   "cell_type": "code",
   "execution_count": null,
   "metadata": {},
   "outputs": [],
   "source": []
  }
 ],
 "metadata": {
  "kernelspec": {
   "display_name": "Java",
   "language": "java",
   "name": "java"
  },
  "language_info": {
   "codemirror_mode": "java",
   "file_extension": ".jshell",
   "mimetype": "text/x-java-source",
   "name": "Java",
   "pygments_lexer": "java",
   "version": "11.0.12+8-LTS-237"
  }
 },
 "nbformat": 4,
 "nbformat_minor": 1
}
