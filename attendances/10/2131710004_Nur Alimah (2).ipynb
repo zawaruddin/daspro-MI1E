{
 "cells": [
  {
   "cell_type": "markdown",
   "metadata": {},
   "source": [
    "# JOBSHEET 10 - Array 1\n",
    "NAMA : NUR ALIMAH\n",
    "\n",
    "PRODI : D3 MI\n",
    "\n",
    "KELAS : MI1E\n",
    "\n",
    "NIM : 21317100004\n",
    "\n",
    "\n",
    "## Tujuan\n",
    "+ Mahasiswa mampu memahami pembuatan Array 1 dimensi dan pengaksesan elemenya di Java. \n",
    "+ Mahasiswa mampu membuat program dengan menggunakan konsep array satu dimensi.\n",
    "\n",
    "\n",
    "## Alat dan Bahan\n",
    "+ PC/laptop\n",
    "+ Browser(chrome, firefox, safari)\n",
    "+ Koneksi internet\n",
    "+ Anaconda3 + Java kernel (opsional)\n",
    "\n",
    "## Praktikum\n",
    "### Percobaan 1: Mengisi Elemen Array\n",
    "1. Pada percobaan ke-1 akan dilakukan percobaan untuk mengisi elemen array. Buat array bertipe integer dengan nama bil dengan kapasitas 4 elemen.\n",
    "![Gambar 0](images/P1L2.png)"
   ]
  },
  {
   "cell_type": "code",
   "execution_count": 33,
   "metadata": {},
   "outputs": [],
   "source": [
    "// Tulis Kode program Percobaan 1 Langkah 2 di atasi\n",
    "int[] bil=new int [4];"
   ]
  },
  {
   "cell_type": "markdown",
   "metadata": {},
   "source": [
    "2. Isi masing-masing elemen array bil tadi dengan angka 5, 12, 7, 20.\n",
    "![Gambar 0](images/P1L3.png)"
   ]
  },
  {
   "cell_type": "code",
   "execution_count": 2,
   "metadata": {},
   "outputs": [
    {
     "data": {
      "text/plain": [
       "20"
      ]
     },
     "execution_count": 2,
     "metadata": {},
     "output_type": "execute_result"
    }
   ],
   "source": [
    "// Tulis Kode program Percobaan 1 Langkah 3 di atas\n",
    "bil [0] = 5;\n",
    "bil [1] = 12;\n",
    "bil [2] = 7;\n",
    "bil [3] = 20;\n",
    "    "
   ]
  },
  {
   "cell_type": "markdown",
   "metadata": {},
   "source": [
    "3. Tampilkan ke layar semua isi elemennya:\n",
    "![Gambar 4](images/P1L4.png)"
   ]
  },
  {
   "cell_type": "code",
   "execution_count": 3,
   "metadata": {},
   "outputs": [
    {
     "name": "stdout",
     "output_type": "stream",
     "text": [
      "5\n",
      "12\n",
      "7\n",
      "20\n"
     ]
    }
   ],
   "source": [
    "// Tulis Kode program Percobaan 1 Langkah 4\n",
    "System.out.println (bil[0]);\n",
    "System.out.println (bil[1]);\n",
    "System.out.println (bil[2]);\n",
    "System.out.println (bil[3]);\n"
   ]
  },
  {
   "cell_type": "markdown",
   "metadata": {},
   "source": [
    "#### Pertanyaan \n",
    "1. Dari percobaan 1 berapakah indeks array terbesar dan terkecil?"
   ]
  },
  {
   "cell_type": "markdown",
   "metadata": {},
   "source": [
    "Tulis Jawaban no 1 disini\n",
    "indeks terbesar pada percobaan 1 adalah 3 dan indeks  terkecil adalah 0"
   ]
  },
  {
   "cell_type": "markdown",
   "metadata": {},
   "source": [
    "2. Jika Isi masing-masing elemen array bil diubah dengan angka 5.0, 12867, 7.5, 2000000. Apa yang terjadi? Mengapa bisa demikian?"
   ]
  },
  {
   "cell_type": "code",
   "execution_count": 5,
   "metadata": {},
   "outputs": [
    {
     "ename": "CompilationException",
     "evalue": "",
     "output_type": "error",
     "traceback": [
      "\u001b[1m\u001b[30m|   \u001b[1m\u001b[30mSystem.out.println (bil[\u001b[0m\u001b[1m\u001b[30m\u001b[41m5.0\u001b[0m\u001b[1m\u001b[30m]);\u001b[0m",
      "\u001b[1m\u001b[31mincompatible types: possible lossy conversion from double to int\u001b[0m",
      ""
     ]
    }
   ],
   "source": [
    "// Tulis Jawaban no 2 yang disini\n",
    "System.out.println (bil[5.0]);\n",
    "System.out.println (bil[12867]);\n",
    "System.out.println (bil[7.5]);\n",
    "System.out.println (bil[2000000]);\n",
    "\n",
    "//Karena pada indeks tersebut bertipe data integer dan indeks tersebut tidak sesuai dengan nilai bilangan yang ada \n"
   ]
  },
  {
   "cell_type": "markdown",
   "metadata": {},
   "source": [
    "3. Ubah statement pada langkah No 3 menjadi seperti berikut\n",
    "![Gambar pertanyaan 3](images/P1T3.png)\n",
    "Apa keluaran dari program? Mengapa bisa demikian?"
   ]
  },
  {
   "cell_type": "code",
   "execution_count": 6,
   "metadata": {},
   "outputs": [
    {
     "name": "stdout",
     "output_type": "stream",
     "text": [
      "5\n",
      "12\n",
      "7\n",
      "20\n"
     ]
    }
   ],
   "source": [
    "// Tulis Jawaban no 3 yang disini\n",
    "for (int i=0; i<4; i++){\n",
    "    System.out.println(bil[i]);\n",
    "\n",
    "}\n",
    "//keluaran progam tersebut adalah perulangan dari bilangan array yang ada "
   ]
  },
  {
   "cell_type": "markdown",
   "metadata": {},
   "source": [
    "### Percobaan 2: Meminta Inputan Pengguna untuk Mengisi Elemen Array\n",
    "1. Pada percobaan ke-2 akan dilakukan percobaan yang meminta inputan pengguna untuk mengisi elemen array seperti pada flowchart berikut\n",
    "![Gambar Flowchart](images/FCpercobaan2.png)"
   ]
  },
  {
   "cell_type": "code",
   "execution_count": 54,
   "metadata": {},
   "outputs": [
    {
     "name": "stdout",
     "output_type": "stream",
     "text": [
      "Masukkan nilai uas : \n",
      "90\n",
      "Masukkan nilai uas : \n",
      "90\n",
      "Masukkan nilai uas : \n",
      "90\n",
      "Masukkan nilai uas : \n",
      "90\n",
      "Masukkan nilai uas : \n",
      "89\n",
      "Masukkan nilai uas : \n",
      "90\n",
      "90\n",
      "90\n",
      "90\n",
      "90\n",
      "89\n",
      "90\n"
     ]
    }
   ],
   "source": [
    "// Tulis Kode program Percobaan 2 Langkah 1 di atas\n",
    "int nilaiUas[] = new int[6];\n",
    "for (int i=0; i<6 ;i++){\n",
    "    System.out.println (\"Masukkan nilai uas : \");\n",
    "      nilaiUAS[i] = sc.nextInt();\n",
    "}\n",
    "    for (int i=0; i<6;i++){\n",
    "        System.out.println (nilaiUAS[i]);\n",
    "    \n",
    "}\n",
    "\n",
    "\n"
   ]
  },
  {
   "cell_type": "markdown",
   "metadata": {},
   "source": [
    "2. Import dan deklarasikan Scanner untuk keperluan input. \n",
    "![Gambar import scanner](images/P2L2.png)"
   ]
  },
  {
   "cell_type": "code",
   "execution_count": 8,
   "metadata": {},
   "outputs": [],
   "source": [
    "// Tulis Kode program Percobaan 2 Langkah 1 di atas\n",
    "import java.util.Scanner;\n",
    "Scanner sc = new Scanner(System.in);"
   ]
  },
  {
   "cell_type": "markdown",
   "metadata": {},
   "source": [
    "3. Buat array bertipe integer dengan nama nilaiUAS, dengan kapasitas 6 elemen.\n",
    "![Gambar deklarasi array](images/P2L3.png)"
   ]
  },
  {
   "cell_type": "code",
   "execution_count": 9,
   "metadata": {},
   "outputs": [],
   "source": [
    "// Tulis Kode program Percobaan 2 Langkah 3 di atas\n",
    "int [] nilaiUAS = new int[6];"
   ]
  },
  {
   "cell_type": "markdown",
   "metadata": {},
   "source": [
    "4. Menggunakan perulangan, buat input untuk mengisi elemen dari array nilaiUAS.\n",
    "![Gambar perulangan input](images/P2L4.png)"
   ]
  },
  {
   "cell_type": "code",
   "execution_count": 10,
   "metadata": {
    "scrolled": true
   },
   "outputs": [
    {
     "name": "stdout",
     "output_type": "stream",
     "text": [
      "Masukkan nilai UAS Ke-0: 90\n",
      "Masukkan nilai UAS Ke-1: 90\n",
      "Masukkan nilai UAS Ke-2: 90\n",
      "Masukkan nilai UAS Ke-3: 90\n",
      "Masukkan nilai UAS Ke-4: 90\n",
      "Masukkan nilai UAS Ke-5: 90\n"
     ]
    }
   ],
   "source": [
    "// Tulis Kode program Percobaan 2 Langkah 4 di atas\n",
    "for (int i = 0; i <6;i++){\n",
    "    System.out.print(\"Masukkan nilai UAS Ke-\"+i +\": \" );\n",
    "        nilaiUAS[i] = sc.nextInt();\n",
    "}"
   ]
  },
  {
   "cell_type": "markdown",
   "metadata": {},
   "source": [
    "5. Menggunakan perulangan, tampilkan semua isi elemen dari array nilaiUAS.\n",
    "![Gambar perulangan print](images/P2L5.png)"
   ]
  },
  {
   "cell_type": "code",
   "execution_count": 11,
   "metadata": {
    "scrolled": true
   },
   "outputs": [
    {
     "name": "stdout",
     "output_type": "stream",
     "text": [
      "Nilai UAS ke-0 adalah: 90\n",
      "Nilai UAS ke-1 adalah: 90\n",
      "Nilai UAS ke-2 adalah: 90\n",
      "Nilai UAS ke-3 adalah: 90\n",
      "Nilai UAS ke-4 adalah: 90\n",
      "Nilai UAS ke-5 adalah: 90\n"
     ]
    }
   ],
   "source": [
    "// Tulis Kode program Percobaan 2 Langkah 5 di atas\n",
    "for (int i = 0; i<6 ;i++){\n",
    "    System.out.println(\"Nilai UAS ke-\" +i +\" adalah: \" +nilaiUAS[i]);\n",
    "}"
   ]
  },
  {
   "cell_type": "markdown",
   "metadata": {},
   "source": [
    "#### Pertanyaan\n",
    "1. Ubah statement pada langkah No 4 menjadi seperti berikut ini :\n",
    "![Gambar pertanyaan1](images/P2T1.png)\n",
    "Jalankan program, apakah terjadi perubahan? Mengapa demikian?\n"
   ]
  },
  {
   "cell_type": "code",
   "execution_count": 12,
   "metadata": {},
   "outputs": [
    {
     "name": "stdout",
     "output_type": "stream",
     "text": [
      "Masukkan nilai UAS Ke-0: 90\n",
      "Masukkan nilai UAS Ke-1: 90\n",
      "Masukkan nilai UAS Ke-2: 90\n",
      "Masukkan nilai UAS Ke-3: 90\n",
      "Masukkan nilai UAS Ke-4: 90\n",
      "Masukkan nilai UAS Ke-5: 90\n"
     ]
    }
   ],
   "source": [
    "// Tulis Jawaban nomor 1 disini\n",
    "for (int i = 0;i <nilaiUAS.length;i++){\n",
    "    System.out.print(\"Masukkan nilai UAS Ke-\"+i +\": \" );\n",
    "        nilaiUAS[i] = sc.nextInt();\n",
    "}\n",
    "//tidak terjadi perubahan karena fungsi length adalah untuk mebeberikan panjang array atau karakter yang ada"
   ]
  },
  {
   "cell_type": "markdown",
   "metadata": {},
   "source": [
    "2. Apa kegunaan dari `nilaiUAS.length`? "
   ]
  },
  {
   "cell_type": "code",
   "execution_count": 55,
   "metadata": {},
   "outputs": [],
   "source": [
    "// Tulis Jawaban nomor 2 disini\n",
    "//Kegunaannya berfungsi sebagai menghitung panjang karakter atau array yang ada"
   ]
  },
  {
   "cell_type": "markdown",
   "metadata": {},
   "source": [
    "3. Ubah statement pada langkah No 5 menjadi seperti berikut ini sehingga program hanya menampilkan status mahasiswa yang lulus saja:\n",
    "![Gambar pertanyaan1](images/P2T3.png)\n",
    "Jalankan program dan Jelaskan alur program!"
   ]
  },
  {
   "cell_type": "code",
   "execution_count": 14,
   "metadata": {},
   "outputs": [
    {
     "name": "stdout",
     "output_type": "stream",
     "text": [
      "Mahasiswa ke -0 lulus\n",
      "Mahasiswa ke -1 lulus\n",
      "Mahasiswa ke -2 lulus\n",
      "Mahasiswa ke -3 lulus\n",
      "Mahasiswa ke -4 lulus\n",
      "Mahasiswa ke -5 lulus\n"
     ]
    }
   ],
   "source": [
    "// Tulis Jawaban nomor 3 disini\n",
    "for (int i = 0;i< nilaiUas.length; i++){\n",
    "    if(nilaiUAS[i] > 70){\n",
    "       System.out.println(\"Mahasiswa ke -\" +i +\" lulus\"); \n",
    "    }\n",
    "}"
   ]
  },
  {
   "cell_type": "markdown",
   "metadata": {},
   "source": [
    "### Percobaan 3: Melakukan Operasi Aritmatika terhadap Elemen Array\n",
    "Pada praktikum ini, akan dilakukan percobaan untuk menjumlahkan Array. Program akan menerima input sebanyak 10 nilai mahasiswa. Kemudian program akan menampilkan nilai rata-rata nilai dari 10 Mahasiswa. Seperti flowchart berikut\n",
    "![Gambar flowchart](images/FCpercobaan3.png)\n",
    "\n",
    "1.Import dan deklarasikan Scanner untuk keperluan input. \n",
    "![Gambar deklarasi scanner](images/P3L1.png)"
   ]
  },
  {
   "cell_type": "code",
   "execution_count": 15,
   "metadata": {},
   "outputs": [],
   "source": [
    "// Tulis Kode program Percobaan 3 Langkah 1 di atas, disini\n",
    "import java.util.Scanner;\n",
    "Scanner sc = new Scanner(System.in);"
   ]
  },
  {
   "cell_type": "markdown",
   "metadata": {},
   "source": [
    "2. Buat array nilaiMHS bertipe integer dengan kapasitas 10. Kemudian deklarasikan variable total dan rata seperti gambar berikut ini\n",
    "![Gambar deklarasi variabel](images/P3L2.png)\n"
   ]
  },
  {
   "cell_type": "code",
   "execution_count": 16,
   "metadata": {},
   "outputs": [],
   "source": [
    "// Tulis Kode program Percobaan 3 Langkah 2 di atas, disini\n",
    "int nilaiMHS[] = new int[10];\n",
    "double total;\n",
    "double rata;"
   ]
  },
  {
   "cell_type": "markdown",
   "metadata": {},
   "source": [
    "3. Menggunakan perulangan, buat input untuk mengisi array nilaiMHS\n",
    "![Gambar perulangan input](images/P3L3.png)\n"
   ]
  },
  {
   "cell_type": "code",
   "execution_count": 17,
   "metadata": {},
   "outputs": [
    {
     "name": "stdout",
     "output_type": "stream",
     "text": [
      "Masukkan nilai mahasiswa ke-1: 98\n",
      "Masukkan nilai mahasiswa ke-2: 90\n",
      "Masukkan nilai mahasiswa ke-3: 89\n",
      "Masukkan nilai mahasiswa ke-4: 90\n",
      "Masukkan nilai mahasiswa ke-5: 97\n",
      "Masukkan nilai mahasiswa ke-6: 89\n",
      "Masukkan nilai mahasiswa ke-7: 90\n",
      "Masukkan nilai mahasiswa ke-8: 87\n",
      "Masukkan nilai mahasiswa ke-9: 87\n",
      "Masukkan nilai mahasiswa ke-10: 87\n"
     ]
    }
   ],
   "source": [
    "// Tulis Kode program Percobaan 3 Langkah 3 di atas, disini\n",
    "for (int i = 0; i<nilaiMHS.length ; i++){\n",
    "    System.out.print(\"Masukkan nilai mahasiswa ke-\" +(i+1)+\": \");\n",
    "    nilaiMHS[i] = sc.nextInt();\n",
    "}"
   ]
  },
  {
   "cell_type": "markdown",
   "metadata": {},
   "source": [
    "4. Menggunakan perulangan untuk menghitung jumlah keseluruhan nilai.\n",
    "![Gambar perulangan jumlah](images/P3L4.png)\n"
   ]
  },
  {
   "cell_type": "code",
   "execution_count": 18,
   "metadata": {},
   "outputs": [],
   "source": [
    "// Tulis Kode program Percobaan 3 Langkah 4 di atas, disini\n",
    "for (int i = 0; i<nilaiMHS.length; i++){\n",
    "    total+=nilaiMHS[i];\n",
    "}"
   ]
  },
  {
   "cell_type": "markdown",
   "metadata": {},
   "source": [
    "5. Kemudian hitung nilai rata-rata dengan cara nilai total dibagi jumlah elemen dari array nilaiMHS\\\n",
    "![Gambar hitung rata2](images/P3L5.png)\n"
   ]
  },
  {
   "cell_type": "code",
   "execution_count": 19,
   "metadata": {},
   "outputs": [
    {
     "name": "stdout",
     "output_type": "stream",
     "text": [
      "Rata-rata nilai mahasiswa adalah 90.4\n"
     ]
    }
   ],
   "source": [
    "// Tulis Kode program Percobaan 3 Langkah 3 di atas, disini\n",
    "rata= total/nilaiMHS.length;\n",
    "System.out.println(\"Rata-rata nilai mahasiswa adalah \"+rata);"
   ]
  },
  {
   "cell_type": "markdown",
   "metadata": {},
   "source": [
    "#### Pertanyaan \n",
    "1. Pada Percobaan 3 langkah ke-5. Mengapa perhitungan rata berada diluar perulangan?"
   ]
  },
  {
   "cell_type": "code",
   "execution_count": 20,
   "metadata": {},
   "outputs": [],
   "source": [
    "// Tulis jawaban no 1 disini\n",
    "Karena setiap menginputkan nilai yang ada agar tidak terjadi perhitungan rata-rata terlebih dahulu"
   ]
  },
  {
   "cell_type": "markdown",
   "metadata": {},
   "source": [
    "2. Modifikasi program pada percobaan 3 sehingga bisa mengeluarkan output  seperti gambar berikut ini!\n",
    "syarat lulus nilai >70\n",
    "![Gambar pertanyaan 2](images/P3T2.png)"
   ]
  },
  {
   "cell_type": "code",
   "execution_count": 35,
   "metadata": {},
   "outputs": [
    {
     "name": "stdout",
     "output_type": "stream",
     "text": [
      "Masukkan nilai mahasiswa ke-1: 90\n",
      "Masukkan nilai mahasiswa ke-2: 80\n",
      "Masukkan nilai mahasiswa ke-3: 100\n",
      "Masukkan nilai mahasiswa ke-4: 70\n",
      "Masukkan nilai mahasiswa ke-5: 60\n",
      "Masukkan nilai mahasiswa ke-6: 40\n",
      "Masukkan nilai mahasiswa ke-7: 50\n",
      "Masukkan nilai mahasiswa ke-8: 20\n",
      "Masukkan nilai mahasiswa ke-9: 10\n",
      "Masukkan nilai mahasiswa ke-10: 30\n",
      "Rata-rata nilai mahasiswa yang lulus adalah 90.0\n",
      "Rata-rata nilai mahasiswa yang lulus adalah 40.0\n"
     ]
    }
   ],
   "source": [
    "// Tulis jawaban no 2 disini\n",
    "import java.util.Scanner;\n",
    "double total, total2;\n",
    "double rata, rata2;\n",
    "int count1, count2;\n",
    "\n",
    "for (int i = 0; i<nilaiMHS.length ; i++){\n",
    "    System.out.print(\"Masukkan nilai mahasiswa ke-\" +(i+1)+\": \");\n",
    "    nilaiMHS[i] = sc.nextInt();\n",
    "}\n",
    "for (int i = 0; i<nilaiMHS.length ; i++){\n",
    "     if (nilaiMHS[i]>70){\n",
    "        total+=nilaiMHS[i];\n",
    "         count1++;\n",
    "     } else {\n",
    "         total2 +=nilaiMHS[i];\n",
    "         count2++;\n",
    "     }\n",
    "        \n",
    "        \n",
    " }\n",
    "    rata=total/count1;\n",
    "    rata2=total2/count2;\n",
    "    \n",
    "System.out.println(\"Rata-rata nilai mahasiswa yang lulus adalah \" +rata);\n",
    "System.out.println(\"Rata-rata nilai mahasiswa yang lulus adalah \" +rata2);  \n"
   ]
  },
  {
   "cell_type": "markdown",
   "metadata": {},
   "source": [
    "### Percobaan 4: Pencarian menggunakan Array\n",
    "Pada praktikum ini, akan dilakukan percobaan untuk mencari lokasi/indeks sebuah angka dalam array. Sesuai dengan flowchart di bawah ini:\n",
    "![Gambar flowchart searching](images/FCpercobaan4.png) "
   ]
  },
  {
   "cell_type": "markdown",
   "metadata": {},
   "source": [
    "1. Buat array arr[] bertipe integer dengan kapasitas 6 dan isi dengan nilai 6, 4, 1, 9, 7, 3, 2 dan 8. Kemudian deklarasikan variabel integer `key` untuk kata kunci pencarian dan variabel `hasil` untuk hasil indeks pencarian. Deklarasi dan inisialisasi seperti gambar berikut ini\n",
    "![Gambar deklarasi variabel](images/P4L2.png)\n"
   ]
  },
  {
   "cell_type": "code",
   "execution_count": 37,
   "metadata": {},
   "outputs": [],
   "source": [
    "// Tulis Kode program Percobaan 4 Langkah 1 di atas, disini\n",
    "int [] arr = {6, 4, 1, 9, 7, 3, 2, 8};\n",
    "int key = 3;\n",
    "int hasil = -1"
   ]
  },
  {
   "cell_type": "markdown",
   "metadata": {},
   "source": [
    "2. Menggunakan perulangan, lakukan pencarian untuk mendapatkan nilai array yang sesuai dengan key. Bila ada yang sesuai, simpan indeksnya sebagai hasil pencarian\n",
    "![Gambar perulangan search](images/p4L3.png)\n"
   ]
  },
  {
   "cell_type": "code",
   "execution_count": 38,
   "metadata": {},
   "outputs": [],
   "source": [
    "// Tulis Kode program Percobaan 4 Langkah 2 di atas, disini\n",
    "for(int i=0; i<arr.length; i++){\n",
    "    if(key==arr[i]){\n",
    "        hasil = i;\n",
    "        break;\n",
    "    }\n",
    "}"
   ]
  },
  {
   "cell_type": "markdown",
   "metadata": {},
   "source": [
    "3. Tampilkan hasil pencarian dengan kode berikut.\n",
    "![Gambar perulangan jumlah](images/P4L4.png)\n"
   ]
  },
  {
   "cell_type": "code",
   "execution_count": 39,
   "metadata": {},
   "outputs": [
    {
     "name": "stdout",
     "output_type": "stream",
     "text": [
      "Key ada di array ke-5\n"
     ]
    }
   ],
   "source": [
    "// Tulis Kode program Percobaan 4 Langkah 3 di atas, disini\n",
    "System.out.println(\"Key ada di array ke-\" +hasil);\n"
   ]
  },
  {
   "cell_type": "markdown",
   "metadata": {},
   "source": [
    "#### Pertanyaan \n",
    "1. Pada Percobaan 4 langkah ke-2. Apa kegunaan dari statement `break`?"
   ]
  },
  {
   "cell_type": "code",
   "execution_count": 25,
   "metadata": {},
   "outputs": [],
   "source": [
    "// Tulis jawaban no 1 disini\n"
   ]
  },
  {
   "cell_type": "markdown",
   "metadata": {},
   "source": [
    "2. Modifikasi program pada percobaan 4 sehingga key yang dicari adalah angka 5. Kemudian jalankan program, amati hasilnya! Jelaskan penyebab dari hasil tersebut! "
   ]
  },
  {
   "cell_type": "code",
   "execution_count": 42,
   "metadata": {},
   "outputs": [
    {
     "name": "stdout",
     "output_type": "stream",
     "text": [
      "Key ada di array ke--1\n"
     ]
    }
   ],
   "source": [
    "// Tulis jawaban no 2 disini\n",
    "\n",
    "int [] arr = {6, 4, 1, 9, 7, 3, 2, 8};\n",
    "int key = 5;\n",
    "int hasil = -1;\n",
    "    for(int i=0; i<arr.length; i++){\n",
    "    if(key==arr[i]){\n",
    "        hasil = i;\n",
    "        break;\n",
    "    }\n",
    "}\n",
    "System.out.println(\"Key ada di array ke-\" +hasil);"
   ]
  },
  {
   "cell_type": "markdown",
   "metadata": {},
   "source": [
    "### Percobaan 5: Pengurutan bilangan menggunakan Array\n",
    "Pada praktikum ini, akan dilakukan percobaan untuk mengurutkan angka dalam array. Sesuai dengan flowchart di bawah ini:\n",
    "![Gambar flowchart sorting](images/FCpercobaan5.png)\n",
    "1.Buat array arr[] bertipe integer dengan kapasitas 8 dan isi dengan nilai 16, 4, 10, 90, 27, 3, 12 dan 28. Kemudian deklarasikan variabel integer `temp` untuk media penukaran nilai pada variabel. Deklarasi dan inisialisasi seperti gambar berikut ini\n",
    "![Gambar deklarasi dan inisialisasi](images/P5L1.png)"
   ]
  },
  {
   "cell_type": "code",
   "execution_count": 51,
   "metadata": {},
   "outputs": [],
   "source": [
    "// Tulis Kode program Percobaan 5 Langkah 1 disini\n",
    "int[] arr ={16, 4, 10, 90, 27, 3, 12, 28};\n",
    "int temp = 0;"
   ]
  },
  {
   "cell_type": "code",
   "execution_count": 52,
   "metadata": {},
   "outputs": [],
   "source": [
    "// Tulis Kode program Percobaan 5 Langkah 2 di atas, disini\n",
    "for(int i=0; i<arr.length; i++){\n",
    "    for(int j=1; j< (arr.length-i); j++){\n",
    "            if(arr[j-1] > arr [j]){\n",
    "                temp = arr[j-1];\n",
    "                arr[j-1] = arr[j];\n",
    "                arr[j] = temp;\n",
    "            }\n",
    "        }\n",
    "    }\n"
   ]
  },
  {
   "cell_type": "markdown",
   "metadata": {},
   "source": [
    "2. Menggunakan perulangan, lakukan pengurutan bilangan dengan menukar posisi indeks tersebut dengan indeks berikutnya. Perulangan dilakukan untuk menukar posisi berulang kali. \n",
    "![Gambar sorting](images/P5L2.png)"
   ]
  },
  {
   "cell_type": "markdown",
   "metadata": {},
   "source": [
    "3. Tampilkan hasil pengurutan dengan menggunakan perulangan\n",
    "![Gambar print](images/P5L3.png)"
   ]
  },
  {
   "cell_type": "code",
   "execution_count": 53,
   "metadata": {},
   "outputs": [
    {
     "name": "stdout",
     "output_type": "stream",
     "text": [
      "Hasil pengurutan: \n",
      "3\n",
      "4\n",
      "10\n",
      "12\n",
      "16\n",
      "27\n",
      "28\n",
      "90\n"
     ]
    }
   ],
   "source": [
    "// Tulis Kode program Percobaan 5 Langkah 3 di atas, disini\n",
    "System.out.println(\"Hasil pengurutan: \");\n",
    "for (int i= 0; i< arr.length;i++)\n",
    "    System.out.println(arr[i]);"
   ]
  },
  {
   "cell_type": "markdown",
   "metadata": {},
   "source": [
    "## Tugas\n",
    "### Soal 1\n",
    "Buatlah program yang **sesuai** dengan alur _flowchart_ di bawah ini\n",
    "![Soal 1](images/soal1.png)\n",
    "\n",
    "Flowchart diatas menggambarkan alur program yang membaca 10 masukan pengguna berupa integer dan menyimpannya. Kemudian angka ganjil dan genap disimpan kembali ke dalam variabel lain yang terpisah"
   ]
  },
  {
   "cell_type": "code",
   "execution_count": 30,
   "metadata": {},
   "outputs": [],
   "source": [
    "/* Jawaban Soal 1 disini */\n"
   ]
  },
  {
   "cell_type": "markdown",
   "metadata": {},
   "source": [
    "### Soal 2\n",
    "Buatlah program yang terdapat array dengan jumlah elemen 5, buatlah input untuk mengisi elemen array tersebut, kemudian tampilkan isi array tersebut dengan urutan terbalik. Seperti ilustrasi gambar dibawah ini.\n",
    "![Soal 2](images/T2.png)"
   ]
  },
  {
   "cell_type": "code",
   "execution_count": 31,
   "metadata": {},
   "outputs": [],
   "source": [
    "/* Jawaban Soal 2 disini */\n",
    "import java.util.Scanner\n",
    "Scanner sc = new Scanner(System.in);\n",
    "\n",
    "array[];\n",
    "array = new int [5];\n",
    "for ()\n",
    "\n"
   ]
  },
  {
   "cell_type": "markdown",
   "metadata": {},
   "source": [
    "### Soal 3\n",
    "Buatlah program yang menerima input jumlah elemen array, inputkan isi arraynya, kemudian tampilkan bilangan terbesar dari isi elemen arraynya. Contoh hasil program:\n",
    "![Soal 3](images/t3.png)"
   ]
  },
  {
   "cell_type": "code",
   "execution_count": 32,
   "metadata": {},
   "outputs": [],
   "source": [
    "/* Jawaban Soal 3 disini */\n"
   ]
  },
  {
   "cell_type": "code",
   "execution_count": null,
   "metadata": {},
   "outputs": [],
   "source": []
  }
 ],
 "metadata": {
  "kernelspec": {
   "display_name": "Java",
   "language": "java",
   "name": "java"
  },
  "language_info": {
   "codemirror_mode": "java",
   "file_extension": ".jshell",
   "mimetype": "text/x-java-source",
   "name": "Java",
   "pygments_lexer": "java",
   "version": "11.0.12+8-LTS-237"
  }
 },
 "nbformat": 4,
 "nbformat_minor": 1
}
