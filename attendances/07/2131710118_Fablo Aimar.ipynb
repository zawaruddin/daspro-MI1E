{
 "cells": [
  {
   "cell_type": "markdown",
   "metadata": {},
   "source": [
    "## JOBSHEET 7\n",
    "### FABLO AIMAR\n",
    "### 2131710118\n",
    "\n",
    "## PERULANGAN 1\n",
    "\n",
    "### Tujuan\n",
    "\n",
    "Mahasiswa mampu menyelesaikan permasalahan/studi kasus menggunakan sintaks perulangan 1 dan mengimplemantasikannya dalam bahasa pemrogaman java.\n",
    "\n",
    "### Alat dan Bahan\n",
    "+ PC/laptop\n",
    "+ Browser(chrome, firefox, safari)\n",
    "+ Koneksi internet\n",
    "\n",
    "### Praktikum\n",
    "\n",
    "#### Percobaan 1 : Penggunaan for, while dan do-while\n",
    "\n",
    "#### Waktu percobaan : 40 menit\n",
    "\n",
    "1. Perhatikan flowchart perulangan for dibawah ini!\n",
    "\n",
    "    <p align=\"left\">\n",
    "    <img width=\"197\" height=\"259\" src=\"images/flowchartFaktorial.png\">\n",
    "    </p>\n",
    "    \n",
    "\n",
    "> Flowchart diatas digunakan untuk menghitung nilai faktorial, selanjutnya kita akan membuat programnya berdasarkan\n",
    "> flowchart di atas!\n",
    "\n",
    "2. Tambahkan library Scanner, deklarasi Scanner, dan buat variabel angka untuk menampung data yang diinput melalui keyboard\n",
    "\n"
   ]
  },
  {
   "cell_type": "code",
   "execution_count": 5,
   "metadata": {
    "pycharm": {
     "name": "#%%\n"
    }
   },
   "outputs": [
    {
     "name": "stdout",
     "output_type": "stream",
     "text": [
      "Masukkan angka : 5\n"
     ]
    }
   ],
   "source": [
    "// Ketik kode program di bawah sini//\n",
    "import java.util.Scanner ;\n",
    "Scanner input = new Scanner(System.in) ;\n",
    "int angka;\n",
    "int faktorial = 1;\n",
    "System.out.print(\"Masukkan angka : \") ;\n",
    "angka = input.nextInt();"
   ]
  },
  {
   "cell_type": "markdown",
   "metadata": {},
   "source": [
    "3. Buatlah deklarasi dan inisialisasi variabel faktorial sesuai dengan flowchart diatas"
   ]
  },
  {
   "cell_type": "code",
   "execution_count": 6,
   "metadata": {},
   "outputs": [
    {
     "name": "stdout",
     "output_type": "stream",
     "text": [
      "Nilai Faktorial Adalah : 120"
     ]
    }
   ],
   "source": [
    "// Ketik kode program di bawah sini//\n",
    "for (int i = 1; i<=angka; i++)\n",
    "    faktorial *=i;\n",
    "System.out.print(\"Nilai Faktorial Adalah : \" + faktorial);"
   ]
  },
  {
   "cell_type": "markdown",
   "metadata": {},
   "source": [
    "4. Tambahkan struktur perulangan untuk menghitung hasil faktorial sebuah nilai yang diinputkan menggunakan for\n",
    "    \n",
    "    <p align=\"left\">\n",
    "    <img width=\"696\" height=\"124\" src=\"images/for.jpg\" align=\"left\">\n",
    "    </p>"
   ]
  },
  {
   "cell_type": "code",
   "execution_count": 11,
   "metadata": {},
   "outputs": [
    {
     "name": "stdout",
     "output_type": "stream",
     "text": [
      "=====PROGRAM MENGHITUNG NILAI FAKTORAL DENGAN FOR=====\n",
      "Masukkan Bilangan : 3\n",
      "Nilai faktorial bilangan tersebut adalah : 6"
     ]
    }
   ],
   "source": [
    "// Ketik kode program di atas di bawah sini//\n",
    "import java.util.Scanner ;\n",
    "Scanner input = new Scanner(System.in) ;\n",
    "int angka;\n",
    "int faktorial = 1;\n",
    "System.out.println(\"=====PROGRAM MENGHITUNG NILAI FAKTORAL DENGAN FOR=====\");\n",
    "System.out.print(\"Masukkan Bilangan : \");\n",
    "angka = input.nextInt();\n",
    "for(int i=1; i<=angka; i++)\n",
    "    faktorial *=i;\n",
    "System.out.print(\"Nilai faktorial bilangan tersebut adalah : \"+ faktorial);"
   ]
  },
  {
   "cell_type": "markdown",
   "metadata": {},
   "source": [
    "5. Ubah nilai variabel faktorial seperti semula. Kemudian gunakan struktur perulangan while untuk menghitung hasil faktorial sebuah nilai yang diinputkan\n",
    "    \n",
    "    <p align=\"left\">\n",
    "    <img width=\"696\" height=\"124\" src=\"images/while.jpg\" align=\"left\">\n",
    "    </p>"
   ]
  },
  {
   "cell_type": "code",
   "execution_count": 13,
   "metadata": {
    "scrolled": true
   },
   "outputs": [
    {
     "name": "stdout",
     "output_type": "stream",
     "text": [
      "=====PROGRAM MENGHITUNG NILAI FAKTORIAL DENGAN WHILE=====\n",
      "Masukkan Bilangan : 4\n",
      "Nilai faktorial bilangan tersebut adalah : 24"
     ]
    }
   ],
   "source": [
    "// Ketik kode program di atas di bawah sini//\n",
    "import java.util.Scanner ;\n",
    "Scanner input = new Scanner(System.in) ;\n",
    "int angka;\n",
    "int faktorial = 1;\n",
    "System.out.println(\"=====PROGRAM MENGHITUNG NILAI FAKTORIAL DENGAN WHILE=====\");\n",
    "System.out.print(\"Masukkan Bilangan : \");\n",
    "angka= input.nextInt();\n",
    "int i=1;\n",
    "while(i<=angka){\n",
    "    faktorial*=i;\n",
    "    i++;\n",
    "}\n",
    "System.out.print(\"Nilai faktorial bilangan tersebut adalah : \"+ faktorial);"
   ]
  },
  {
   "cell_type": "markdown",
   "metadata": {},
   "source": [
    "6. Kembalikan lagi nilai variabel faktorial seperti semula. Gunakan struktur perulangan do-while untuk menghitung hasil faktorial sebuah nilai yang diinputkan\n",
    "    \n",
    "    <p align=\"left\">\n",
    "    <img width=\"696\" height=\"124\" src=\"images/dowhile.jpg\" align=\"left\">\n",
    "    </p>"
   ]
  },
  {
   "cell_type": "markdown",
   "metadata": {
    "scrolled": true
   },
   "source": [
    "// Ketik kode program di atas di bawah sini\n"
   ]
  },
  {
   "cell_type": "code",
   "execution_count": 14,
   "metadata": {},
   "outputs": [
    {
     "name": "stdout",
     "output_type": "stream",
     "text": [
      "=====PROGRAM MENGHITUNG NILAI FAKTORIAL DENGAN DO-WHILE=====\n",
      "Masukkan Bilangan : 6\n",
      "Nilai faktorial bilangan tersebut adalah : 720"
     ]
    }
   ],
   "source": [
    "import java.util.Scanner ;\n",
    "Scanner input = new Scanner(System.in) ;\n",
    "int angka;\n",
    "int faktorial = 1;\n",
    "System.out.println(\"=====PROGRAM MENGHITUNG NILAI FAKTORIAL DENGAN DO-WHILE=====\");\n",
    "System.out.print(\"Masukkan Bilangan : \");\n",
    "angka= input.nextInt();\n",
    "int i=1;\n",
    "do{\n",
    "    faktorial*=i;\n",
    "    i++;\n",
    "}\n",
    "while(i<=angka);\n",
    "System.out.print(\"Nilai faktorial bilangan tersebut adalah : \"+ faktorial);"
   ]
  },
  {
   "cell_type": "markdown",
   "metadata": {},
   "source": [
    "##### Pertanyaan\n",
    "1. Pada program diatas, apakah kegunaan baris berikut?\n",
    "<p align=\"left\">\n",
    "    <img src=\"images/hitungFaktorial.jpg\" align=\"left\">\n",
    "    </p>"
   ]
  },
  {
   "cell_type": "markdown",
   "metadata": {},
   "source": [
    "// Ketik jawaban disini//\n",
    "Untuk mengkali kan bilangan faktorial"
   ]
  },
  {
   "cell_type": "markdown",
   "metadata": {},
   "source": [
    "2. Modifikasi program diatas dibagian struktur pemilihannya sehingga hasilnya menjadi seperti di bawah ini:\n",
    "<p align=\"left\">\n",
    "    <img src=\"images/modifP1.jpg\" align=\"left\">\n",
    "    </p>"
   ]
  },
  {
   "cell_type": "code",
   "execution_count": 16,
   "metadata": {},
   "outputs": [
    {
     "name": "stdout",
     "output_type": "stream",
     "text": [
      "=====PROGRAM MENGHITUNG NILAI FAKTORIAL=====\n",
      "Masukkan Bilangan : 5\n",
      "5Faktorial = 1x2x3x4x5 : 120"
     ]
    }
   ],
   "source": [
    "// Ketik kode program di atas di bawah sini//\n",
    "import java.util.Scanner ;\n",
    "Scanner input = new Scanner(System.in) ;\n",
    "int angka;\n",
    "int faktorial = 1;\n",
    "System.out.println(\"=====PROGRAM MENGHITUNG NILAI FAKTORIAL=====\");\n",
    "System.out.print(\"Masukkan Bilangan : \");\n",
    "angka = angka = input.nextInt();\n",
    "for (int i = 1; i<=angka; i++)\n",
    "    faktorial *=i;\n",
    "System.out.print(\"5Faktorial = 1x2x3x4x5 : \" + faktorial);"
   ]
  },
  {
   "cell_type": "markdown",
   "metadata": {},
   "source": [
    "#### Percobaan 2 : Keluar dari perulangan menggunakan break\n",
    "\n",
    "#### Waktu percobaan : 40 menit"
   ]
  },
  {
   "cell_type": "markdown",
   "metadata": {},
   "source": [
    "1. Buatlah perulangan dengan menggunakan for yang memanfaatkan keyword break\n",
    "<p align=\"left\">\n",
    "    <img width=\"696\" height=\"124\" src=\"images/for2.jpg\" align=\"left\">\n",
    "    </p>"
   ]
  },
  {
   "cell_type": "code",
   "execution_count": 17,
   "metadata": {},
   "outputs": [
    {
     "name": "stdout",
     "output_type": "stream",
     "text": [
      "===PROGRAM FOR LOOP DENGAN BREAK===\n",
      "Masukkan Bilangan : 7\n",
      "Masukkan Bilangan : 51\n",
      "Jumlah angka-angka yang telah dimasukkan : 58\n"
     ]
    }
   ],
   "source": [
    "// Ketik kode program di atas di bawah sini\n",
    "Scanner input=new Scanner(System.in);\n",
    "int angka, total;\n",
    "System.out.println(\"===PROGRAM FOR LOOP DENGAN BREAK===\");\n",
    "for(total=0;true;){\n",
    "    System.out.print(\"Masukkan Bilangan : \");\n",
    "    angka= input.nextInt();\n",
    "    total+=angka;\n",
    "    if(total>50) break;\n",
    "}\n",
    "System.out.println(\"Jumlah angka-angka yang telah dimasukkan : \"+total);"
   ]
  },
  {
   "cell_type": "markdown",
   "metadata": {},
   "source": [
    "2. Buat perulangan yang sama dengan struktur perulangan while\n",
    "<p align=\"left\">\n",
    "    <img width=\"696\" height=\"124\" src=\"images/while2.jpg\" align=\"left\">\n",
    "    </p>"
   ]
  },
  {
   "cell_type": "code",
   "execution_count": 19,
   "metadata": {},
   "outputs": [
    {
     "name": "stdout",
     "output_type": "stream",
     "text": [
      "===PROGRAM WHILA LOOP DENGAN BREAK===\n",
      "Masukkan Bilangan : 5\n",
      "Masukkan Bilangan : 70\n",
      "Jumlah angka-angka yang telah dimasukkan : 75\n"
     ]
    }
   ],
   "source": [
    "// Ketik kode program di atas di bawah sini//\n",
    "int angka,total;\n",
    "System.out.println(\"===PROGRAM WHILA LOOP DENGAN BREAK===\");\n",
    "total=0;\n",
    "    while(true){\n",
    "        System.out.print(\"Masukkan Bilangan : \");\n",
    "        angka=input.nextInt();\n",
    "        total+=angka;\n",
    "        if(total>50) break;\n",
    "    }\n",
    "System.out.println(\"Jumlah angka-angka yang telah dimasukkan : \"+total);"
   ]
  },
  {
   "cell_type": "markdown",
   "metadata": {},
   "source": [
    "3. Tuliskan perulangan diatas dalam struktur do-while\n",
    "    <p align=\"left\">\n",
    "    <img width=\"696\" height=\"124\" src=\"images/dowhile2.jpg\" align=\"left\">\n",
    "    </p>"
   ]
  },
  {
   "cell_type": "code",
   "execution_count": 22,
   "metadata": {},
   "outputs": [
    {
     "name": "stdout",
     "output_type": "stream",
     "text": [
      "===PROGRAM DO-WHILE LOOP DENGAN BREAK===\n",
      "Masukkan Bilangan : 60\n",
      "Jumlah angka-angka yang telah dimasukkan : 60\n"
     ]
    }
   ],
   "source": [
    "// Ketik kode program di atas di bawah sini//\n",
    "int angka,total;\n",
    "System.out.println(\"===PROGRAM DO-WHILE LOOP DENGAN BREAK===\");\n",
    "total=0;\n",
    "do\n",
    "{\n",
    "    System.out.print(\"Masukkan Bilangan : \");\n",
    "    angka=input.nextInt();\n",
    "    total+=angka;\n",
    "    if(total>50) break;\n",
    "}\n",
    "while(true);\n",
    "System.out.println(\"Jumlah angka-angka yang telah dimasukkan : \"+total);"
   ]
  },
  {
   "cell_type": "markdown",
   "metadata": {},
   "source": [
    "##### Pertanyaan\n",
    "1. Jelaskan fungsi kode program yang telah dibuat pada percobaan diatas!"
   ]
  },
  {
   "cell_type": "markdown",
   "metadata": {},
   "source": [
    "// Ketik jawaban disini//\n",
    "1. For Loop dengan Break adalah untuk digunakan pada pengulangulangan yang jumlah nya sudah pasti\n",
    "2. While Loop dengan Break adalah untuk digunakan mengecek syarat terlebih dahulu\n",
    "3. DO-While Loop dengan Break adalah untuk menjalankan statement dulu lalu mengecek syarat"
   ]
  },
  {
   "cell_type": "markdown",
   "metadata": {},
   "source": [
    "2. Jelaskan fungsi kode berikut!\n",
    "    <p align=\"left\">\n",
    "    <img src=\"images/forPertanyaan2.jpg\" align=\"left\">\n",
    "    </p>\n"
   ]
  },
  {
   "cell_type": "markdown",
   "metadata": {},
   "source": [
    "// Ketik jawaban disini//\n",
    "Jika total nya 0 maka hasilnya True"
   ]
  },
  {
   "cell_type": "markdown",
   "metadata": {},
   "source": [
    "#### Percobaan 3 : Keluar dari step perulangan menggunakan continue\n",
    "\n",
    "#### Waktu percobaan : 40 menit\n",
    "\n",
    "1. Buat program looping menggunakan struktur perulangan for seperti di bawah ini: \n",
    "<p align=\"left\">\n",
    "    <img src=\"images/forContinue.jpg\" align=\"left\">\n",
    "    </p>\n"
   ]
  },
  {
   "cell_type": "code",
   "execution_count": 23,
   "metadata": {},
   "outputs": [
    {
     "name": "stdout",
     "output_type": "stream",
     "text": [
      "PROGRAM FOR LOOP DENGAN CONTINUE===\n",
      "Masukkan Bilang : 10\n",
      "Masukkan Bilang : 60\n",
      "Masukkan Bilang : 50\n",
      "Masukkan Bilang : 40\n",
      "Masukkan Bilang : 30\n",
      "Jumlah angka-angka yang kurang dari 50: 160\n",
      "Rata-rata angka yang kurang dari 50: 53.333333333333336\n"
     ]
    }
   ],
   "source": [
    "// Ketik kode program di atas di bawah sini//\n",
    "Scanner input=new Scanner(System.in);\n",
    "int angka, total, count;\n",
    "double avg;\n",
    "count=0;\n",
    "System.out.println(\"PROGRAM FOR LOOP DENGAN CONTINUE===\");\n",
    "for(int i=0;i<5;i++){\n",
    "    System.out.print(\"Masukkan Bilang : \");\n",
    "    angka=input.nextInt();\n",
    "    if(angka>=50) continue;\n",
    "    total+=angka;\n",
    "    total+=angka;\n",
    "    count++;\n",
    "}\n",
    "System.out.println(\"Jumlah angka-angka yang kurang dari 50: \"+total);\n",
    "avg=(double)total/count;\n",
    "System.out.println(\"Rata-rata angka yang kurang dari 50: \"+avg);"
   ]
  },
  {
   "cell_type": "code",
   "execution_count": null,
   "metadata": {},
   "outputs": [],
   "source": [
    "5. Jalankan program. Amati apa yang terjadi!"
   ]
  },
  {
   "cell_type": "markdown",
   "metadata": {},
   "source": [
    "##### Pertanyaan\n",
    "1. Jelaskan Perbedaan dari percobaan 2 dan percobaan 3"
   ]
  },
  {
   "cell_type": "markdown",
   "metadata": {},
   "source": [
    "// Ketik jawaban disini//\n",
    "Percobaan 2 : Menggunakan Break jika bilangan lebih dari 50, akan langsung di cetak\n",
    "Percobaan 3 : Menggunakan Continue jika bilangan lebih dari 50, akan diulang-ulang"
   ]
  },
  {
   "cell_type": "markdown",
   "metadata": {},
   "source": [
    "2. Jelaskan apa fungsi perintah kode program dibawah ini?\n",
    "<p align=\"left\">\n",
    "    <img width=\"352\" height=\"79\" src=\"images/continuePertanyaan.jpg\" align=\"left\">\n",
    "    </p>"
   ]
  },
  {
   "cell_type": "markdown",
   "metadata": {},
   "source": [
    "// Ketik jawaban disini//\n",
    "1. Jika angka yang dimasukkan lebih dari 50 hasilnya continue atau diulang\n",
    "2. Nilai total ditambah angka yang di input\n",
    "3. Untuk menambahkan angka"
   ]
  },
  {
   "cell_type": "markdown",
   "metadata": {},
   "source": [
    "### Tugas\n",
    "\n",
    "#### Waktu pengerjaan Tugas: 140 menit\n",
    "\n",
    "1. Buatlah program yang meminta masukan user sebuah bilangan bulat N (N > 0). Program kemudian menampilkan penjumlahan N bilangan genap positif pertama (bilangan genap ≥ 0).\n",
    "Contoh: \n",
    "    •\tJika user memasukkan N = 10, program akan menghitung banyaknya jumlah bilangan positive di dalam range bilangan 1-10   kemudian menampilkan penjumlahan bilangan positive bilangan bilangan diantara 1-10 yaitu : \n",
    "        0 + 2 + 4 + 6 + 10 = 30. \n",
    "        Setelah itu program akan menampilkan rata-rata dari bilangan positive yang telah dijumlahkan tadi.\n",
    "    •\tContoh output program dan flowchart\n",
    "<br/><img width=\"303\" height=\"529\" src=\"images/hasilTugasFc.jpg\" align=\"left\"><br/>\n",
    "  \n",
    "\n",
    "<br/><img width=\"303\" height=\"529\" src=\"images/fcTugasJS7.png\" align=\"left\">\n"
   ]
  },
  {
   "cell_type": "code",
   "execution_count": 32,
   "metadata": {},
   "outputs": [
    {
     "name": "stdout",
     "output_type": "stream",
     "text": [
      "Masukkan angka : 10\n",
      "Banyaknya bilangan genap dari 1 sampai 10 adalah : 5\n",
      "Angka genap dalam range tersebut adalah : 2\n",
      "Angka genap dalam range tersebut adalah : 4\n",
      "Angka genap dalam range tersebut adalah : 6\n",
      "Angka genap dalam range tersebut adalah : 8\n",
      "Angka genap dalam range tersebut adalah : 10\n",
      "Hasil penjumlahan bilangan genap dari 1 sampai 10 adalah : 30\n",
      "Rata-rata bilangan genap dari 1 sampai 10 adalah: 6.0\n"
     ]
    }
   ],
   "source": [
    "// Ketik kode program disini//\n",
    "import java.util.Scanner ;\n",
    "Scanner input = new Scanner(System.in) ;\n",
    "int bilangan,jumlahBilanganGenap;\n",
    "int totalGenap = 0;\n",
    "double avg;\n",
    "System.out.print(\"Masukkan angka : \") ;\n",
    "bilangan = input.nextInt();\n",
    "jumlahBilanganGenap=bilangan/2;\n",
    "System.out.println(\"Banyaknya bilangan genap dari 1 sampai 10 adalah : \" + jumlahBilanganGenap);\n",
    "for(int i=1; i<=bilangan; i++){\n",
    "    if(i%2!=0) continue;{\n",
    "        totalGenap+=i;\n",
    "        System.out.print(\"Angka genap dalam range tersebut adalah : \");\n",
    "        System.out.println(i + \"\");\n",
    "    }\n",
    "}\n",
    "System.out.println(\"Hasil penjumlahan bilangan genap dari 1 sampai 10 adalah : \"+totalGenap);\n",
    "avg = totalGenap/jumlahBilanganGenap;\n",
    "System.out.println(\"Rata-rata bilangan genap dari 1 sampai 10 adalah: \"+avg);\n"
   ]
  },
  {
   "cell_type": "markdown",
   "metadata": {},
   "source": [
    "2. Buatlah program untuk menampilkan angka 1 hingga angka masukan pengguna secara berurutan dan melompati angka kelipatan 5. Seperti tampilan di bawah ini\n",
    "<p align=\"left\">\n",
    "<img width=\"184\" height=\"328\" src=\"images/tugas1.jpg\" align=\"left\">\n",
    "</p>"
   ]
  },
  {
   "cell_type": "code",
   "execution_count": 35,
   "metadata": {},
   "outputs": [
    {
     "name": "stdout",
     "output_type": "stream",
     "text": [
      "Masukkan angka : 19\n",
      "1\n",
      "2\n",
      "3\n",
      "4\n",
      "6\n",
      "7\n",
      "8\n",
      "9\n",
      "11\n",
      "12\n",
      "13\n",
      "14\n",
      "16\n",
      "17\n",
      "18\n",
      "19\n"
     ]
    }
   ],
   "source": [
    "// Ketik kode program disini//\n",
    "import java.util.Scanner ;\n",
    "Scanner input = new Scanner(System.in) ;\n",
    "int x;\n",
    "System.out.print(\"Masukkan angka : \");\n",
    "angka = input.nextInt();\n",
    "int x; \n",
    "for (x=1; x<=19; x++){\n",
    "    if (x==5) continue;\n",
    "    if (x==10) continue;\n",
    "    if (x==15) continue;\n",
    "    System.out.println(x);\n",
    "}"
   ]
  },
  {
   "cell_type": "markdown",
   "metadata": {},
   "source": [
    "3. Buatlah sebuah program yang menampilkan deret bilangan fibonacci sebagai berikut. Dimana bilangan yang terletak di sebelah kanan adalah hasil penjumlahan dari 2 bilangan sebelumnya\n",
    " <p align=\"left\">\n",
    "    <img width=\"451\" height=\"226\" src=\"images/fibo.png\" align=\"left\">\n",
    "    </p>\n"
   ]
  },
  {
   "cell_type": "code",
   "execution_count": 33,
   "metadata": {},
   "outputs": [
    {
     "name": "stdout",
     "output_type": "stream",
     "text": [
      "Masukkan jumlah deret bilangan fibonacci: 12\n",
      "Sum of: 0+1=1\n",
      "Sum of: 1+1=2\n",
      "Sum of: 1+2=3\n",
      "Sum of: 2+3=5\n",
      "Sum of: 3+5=8\n",
      "Sum of: 5+8=13\n",
      "Sum of: 8+13=21\n",
      "Sum of: 13+21=34\n",
      "Sum of: 21+34=55\n",
      "Sum of: 34+55=89\n"
     ]
    }
   ],
   "source": [
    "// Ketik kode program disini//\n",
    "import java.util.Scanner;\n",
    " int n1= 0 ,n2= 1 ,n3,i,count ;\n",
    " Scanner scan = new Scanner(System.in);\n",
    " System.out.print(\"Masukkan jumlah deret bilangan fibonacci: \");\n",
    " count = scan.nextInt();\n",
    "\n",
    "for (i= 2 ;i<count;++i)\n",
    " {\n",
    " n3=n1+n2;\n",
    " System.out.println( \"Sum of: \" +n1+ \"+\" +n2+ \"=\" +n3);\n",
    " n1=n2;\n",
    " n2=n3;\n",
    " }"
   ]
  },
  {
   "cell_type": "code",
   "execution_count": null,
   "metadata": {},
   "outputs": [],
   "source": []
  }
 ],
 "metadata": {
  "kernelspec": {
   "display_name": "Java",
   "language": "java",
   "name": "java"
  },
  "language_info": {
   "codemirror_mode": "java",
   "file_extension": ".jshell",
   "mimetype": "text/x-java-source",
   "name": "Java",
   "pygments_lexer": "java",
   "version": "17+35-LTS-2724"
  },
  "nteract": {
   "version": "nteract-on-jupyter@2.1.3"
  }
 },
 "nbformat": 4,
 "nbformat_minor": 1
}
