{
 "cells": [
  {
   "cell_type": "markdown",
   "metadata": {},
   "source": [
    "# JOBSHEET 13. Fungsi 1"
   ]
  },
  {
   "cell_type": "markdown",
   "metadata": {},
   "source": [
    "### Nama: NAFIATUL FADLILAH\n",
    "### NIM: 2131710030\n",
    "\n",
    "## Tujuan\n",
    "* Mahasiswa mampu memahami penggunaan fungsi static pada Java dengan parameter dan mengembalikan nilai.\n",
    "* Mahasiswa mampu membuat program menggunakan fungsi static dan mengeksekusi fungsi tersebut.\n"
   ]
  },
  {
   "cell_type": "markdown",
   "metadata": {},
   "source": [
    "## Alat dan Bahan\n",
    "* PC/Laptop\n",
    "* Browser\n",
    "* Koneksi internet\n",
    "* Anaconda3 + Java kernel (opsional)"
   ]
  },
  {
   "cell_type": "markdown",
   "metadata": {},
   "source": [
    "## Praktikum"
   ]
  },
  {
   "cell_type": "markdown",
   "metadata": {},
   "source": [
    "### Percobaan 1: Fungsi Void (tidak menggunakan return value)\n",
    "\n",
    "1.\tBuat fungsi **beriSalam** bertipe void yang digunakan untuk mencetak **“Halo! Selamat Pagi”**.\n",
    "![Gambar 1](images/1.1.png)"
   ]
  },
  {
   "cell_type": "markdown",
   "metadata": {},
   "source": [
    "2. Eksekusi atau panggil fungsi **beriSalam**.\n",
    "![Gambar 2](images/1.2.png)"
   ]
  },
  {
   "cell_type": "code",
   "execution_count": 2,
   "metadata": {},
   "outputs": [
    {
     "name": "stdout",
     "output_type": "stream",
     "text": [
      "Halo! Selamat Pagi\n"
     ]
    }
   ],
   "source": [
    "// Tuliskan kode program Percobaan 1 Langkah 1 & 2\n",
    "static void beriSalam(){\n",
    "    System.out.println(\"Halo! Selamat Pagi\");\n",
    "}\n",
    "beriSalam();    "
   ]
  },
  {
   "cell_type": "markdown",
   "metadata": {},
   "source": [
    "3. Buat fungsi **beriUcapan** dengan sebuah parameter bertipe String.\n",
    "![Gambar 3](images/1.3.png)"
   ]
  },
  {
   "cell_type": "markdown",
   "metadata": {},
   "source": [
    "4. Buatlah variabel **salam** bertipe String kemudian eksekusi atau panggil fungsi **beriUcapan** dengan mengisi parameternya dengan variable **salam** yang sudah dibuat.\n",
    "![Gambar 3](images/1.4.png)"
   ]
  },
  {
   "cell_type": "code",
   "execution_count": 5,
   "metadata": {},
   "outputs": [
    {
     "name": "stdout",
     "output_type": "stream",
     "text": [
      "Halo! Selamat Pagi\n",
      "Halo! Selamat Pagi\n",
      "Selamat datang di pemrograman Java\n"
     ]
    }
   ],
   "source": [
    "// Tuliskan kode program Percobaan 1 Langkah 1, 2, 3 & 4\n",
    "static void beriSalam(){\n",
    "    System.out.println(\"Halo! Selamat Pagi\");\n",
    "}\n",
    "beriSalam(); \n",
    "static void beriUcapan(String ucapan){\n",
    "    System.out.println(ucapan);\n",
    "}\n",
    "beriSalam();\n",
    "String salam = \"Selamat datang di pemrograman Java\"; \n",
    "beriUcapan(salam);"
   ]
  },
  {
   "cell_type": "markdown",
   "metadata": {},
   "source": [
    "#### Pertanyaan\n",
    "1. Jelaskan perbedaan fungsi **beriSalam** dan **beriUcapan** pada praktikum 1!\n",
    "\n",
    "##### jawaban:\n",
    "Fungsi beriSalam tidak menggunakan parameter sedangkan fungsi beriUcapan menggunakan fungsi berparameter bertipe String dengan nama variabel ucapan."
   ]
  },
  {
   "cell_type": "markdown",
   "metadata": {},
   "source": [
    "2. Jelaskan cara pemanggilan sebuah fungsi void yang berparameter dan tanpa parameter!\n",
    "##### jawaban:\n",
    "Fungsi void yang berparameter memanggil fungsi secara dinamis, maksudnya di sini adalah fungsi yang dijalankan akan berubah-ubah nilainya tergantung nilai di dalam variabel. Fungsi void yang tanpa parameter memanggil fungsi secara statis maksudnya nilai yang berada di dalam fungsi akan tetap dan tidak akan berubah-ubah.  "
   ]
  },
  {
   "cell_type": "markdown",
   "metadata": {},
   "source": [
    "### Percobaan 2: Fungsi dengan return value (Bukan void)\n",
    "Pada Percobaan 2, kode program yang dibuat digunakan untuk menghitung luas persegi dengan membuat fungsi **luasPersegi** yang menggunakan parameter.\n",
    "1. Buat fungsi **luasPersegi**  untuk menghitung luas persegi yang mengembalikan nilai luas (int) dan parameter masukan sisi (int).\n",
    "![Gambar 4](images/2.1.png)"
   ]
  },
  {
   "cell_type": "markdown",
   "metadata": {},
   "source": [
    "2.\tEksekusi atau panggil fungsi luasPersegi dengan cara membuat variabel baru yaitu **luasan**, kemudian isi variabel tersebut dengan memanggil fungsi luasPersegi dan mengisi parameter sisi. Selanjutnya cetak variabel luasan untuk menampilkan luas persegi panjang\n",
    "![Gambar 5](images/2.2.png)"
   ]
  },
  {
   "cell_type": "code",
   "execution_count": 6,
   "metadata": {},
   "outputs": [
    {
     "name": "stdout",
     "output_type": "stream",
     "text": [
      "Luas Persegi dengan sisi 5 = 25\n"
     ]
    }
   ],
   "source": [
    "// Tuliskan kode program Percobaan 2 Langkah 1 & 2\n",
    "static int luasPersegi(int sisi){\n",
    "    int luas = sisi * sisi;\n",
    "    return luas;\n",
    "}\n",
    "int luasan = luasPersegi(5);\n",
    "System.out.println(\"Luas Persegi dengan sisi 5 = \" + luasan);"
   ]
  },
  {
   "cell_type": "markdown",
   "metadata": {},
   "source": [
    "#### Pertanyaan\n",
    "1. jelaskan mengapa ketika memanggil fungsi **luasPersegi** harus membuat variabel baru yaitu luasan?\n",
    "#####  jawaban:\n",
    "Karena variabel luasan digunakan untuk menampung pengembalian nilai dari operasi di dalam fungsi yakni hasil dari variabel luas yang di-return. "
   ]
  },
  {
   "cell_type": "markdown",
   "metadata": {},
   "source": [
    "2. Jelaskan kegunaan **return luas** pada percobaan 2 diatas!\n",
    "##### jawaban: \n",
    "Return luas digunakan untuk menampung hasil operasi di dalam fungsi yang nantinya akan dikembalikan ke variabel global yang berada di luar fungsi untuk ditampilkan. "
   ]
  },
  {
   "cell_type": "markdown",
   "metadata": {},
   "source": [
    "3. Modifikasilah program di percobaan 2, dengan membuat panjang **sisi** sebagai inputan!"
   ]
  },
  {
   "cell_type": "code",
   "execution_count": 10,
   "metadata": {},
   "outputs": [
    {
     "name": "stdout",
     "output_type": "stream",
     "text": [
      "Masukkan sisi persegi: 7\n",
      "Luas Persegi dengan sisi 7 = 49\n"
     ]
    }
   ],
   "source": [
    "// Tuliskan jawaban nomor 2\n",
    "import java.util.Scanner;\n",
    "Scanner input = new Scanner(System.in);\n",
    "\n",
    "static int luasPersegi(int sisi){\n",
    "    int luas = sisi * sisi;\n",
    "    return luas;\n",
    "}\n",
    "\n",
    "System.out.print(\"Masukkan sisi persegi: \");\n",
    "int masukanSisi = input.nextInt();\n",
    "\n",
    "int luasan = luasPersegi(masukanSisi);\n",
    "System.out.println(\"Luas Persegi dengan sisi \" + masukanSisi + \" = \" + luasan);"
   ]
  },
  {
   "cell_type": "markdown",
   "metadata": {},
   "source": [
    "### Percobaan 3: Fungsi dapat meng-CALL Fungsi Lain\n",
    "Pada Percobaan 3, kode program yang dibuat digunakan untuk mengimplementasikan bahwa fungsi dapat meng-CALL fungsi yang lain. Dimana dalam percobaan ini terdapat fungsi **Kali dan Kurang**. \n",
    "1. Buatlah fungsi **Kali** yang mengembalikan nilai H (int) dan parameter masukan C dan D (int).\n",
    "![Gambar 9](images/3.1.png)"
   ]
  },
  {
   "cell_type": "markdown",
   "metadata": {},
   "source": [
    "2.\tBuatlah fungsi **Kurang** yang mengembalikan nilai X (int) dan parameter masukan A dan B (int) dan memanggil fungsi Kali.\n",
    "![Gambar 10](images/3.2.png)"
   ]
  },
  {
   "cell_type": "markdown",
   "metadata": {},
   "source": [
    "3. Lakukan import class Scanner sebagai inputan di langkah selajutnya."
   ]
  },
  {
   "cell_type": "markdown",
   "metadata": {},
   "source": [
    "4. Eksekusi atau panggil fungsi **Kurang** .\n",
    "![Gambar 11](images/3.4.png)"
   ]
  },
  {
   "cell_type": "code",
   "execution_count": 4,
   "metadata": {},
   "outputs": [
    {
     "name": "stdout",
     "output_type": "stream",
     "text": [
      "Masukkan Nilai 1: \n",
      "2\n",
      "Masukkan Nilai 2: \n",
      "5\n",
      "Hasil akhir adalah 19\n"
     ]
    }
   ],
   "source": [
    "// Tuliskan kode program Percobaan 3 Langkah 1, 2, 3 & 4\n",
    "//import java.util.Scanner;\n",
    "static int Kali(int C, int D){\n",
    "   int H;\n",
    "   H = (C + 10) % (D + 19);\n",
    "   return H;\n",
    "}\n",
    "static int Kurang(int A, int B){\n",
    "    int X; \n",
    "    A = A + 7;\n",
    "    B = B + 4;\n",
    "    X = Kali(A, B);\n",
    "    return X;\n",
    "}\n",
    "int nilai1, nilai2;\n",
    "Scanner input = new Scanner(System.in);\n",
    "System.out.println(\"Masukkan Nilai 1: \");\n",
    "nilai1 = input.nextInt();\n",
    "System.out.println(\"Masukkan Nilai 2: \");\n",
    "nilai2 = input.nextInt();\n",
    "int hasil = Kurang(nilai1, nilai2);\n",
    "System.out.println(\"Hasil akhir adalah \" + hasil);"
   ]
  },
  {
   "cell_type": "markdown",
   "metadata": {},
   "source": [
    "#### Pertanyaan\n",
    "1. Modifikasilah percobaan diatas dimana di fungsi **Kali** dapat memanggil fungsi **Kurang** kemudian eksekusi atau panggil fungsi Kali"
   ]
  },
  {
   "cell_type": "code",
   "execution_count": 17,
   "metadata": {},
   "outputs": [
    {
     "name": "stdout",
     "output_type": "stream",
     "text": [
      "Masukkan Nilai 1: \n",
      "5\n",
      "Masukkan Nilai 2: \n",
      "2\n",
      "Hasil akhir adalah 6\n"
     ]
    }
   ],
   "source": [
    "// Tuliskan jawaban nomor 1\n",
    "static int Kali(int C, int D){\n",
    "    int H;\n",
    "    H = Kurang(C, D);\n",
    "    return H;\n",
    "}\n",
    "static int Kurang(int A, int B){\n",
    "    int X;\n",
    "    A = A + 7;\n",
    "    B = B + 4;\n",
    "    X = A - B;\n",
    "    return X;\n",
    "}\n",
    "int nilai1, nilai2;\n",
    "Scanner input = new Scanner(System.in);\n",
    "System.out.println(\"Masukkan Nilai 1: \");\n",
    "nilai1 = input.nextInt();\n",
    "System.out.println(\"Masukkan Nilai 2: \");\n",
    "nilai2 = input.nextInt();\n",
    "int hasil = Kali(nilai1, nilai2);\n",
    "System.out.println(\"Hasil akhir adalah \" + hasil);"
   ]
  },
  {
   "cell_type": "markdown",
   "metadata": {},
   "source": [
    "2. Jelaskan alur jalannya program di percobaan 3 mulai dari input sampai keluar output!\n",
    "\n",
    "##### Jawaban:\n",
    "Dilakukan deklarasi nilai 1 dan nilai 2 sebagai input yang akan dioperasikan, kemudian variabel hasil memanggil fungsi Kurang dengan parameter dari 2 inputan sebelumnya. Pada fungsi Kurang akan dilakukan operasi nilai 1 sebagai A ditambah 7, dan nilai 2 sebagai B ditambah dengan 4. Hasil tersebut ditampung dan dikembalikan dalam variabel X. Fungsi Kurang tersebut memanggil fungsi Kali dengan parameter. Kemudian dilakukan perhitungan pada fungsi Kali. Hasil perhitungan tersebut disimpan dalam variabel H yang kemudian mengembalikan nilai tersebut ke variabel global yaitu hasil. Setelah itu nilai di dalam variabel  hasil ditampilkan."
   ]
  },
  {
   "cell_type": "markdown",
   "metadata": {},
   "source": [
    "### Percobaan 4: Mengubah Program Tidak Menggunakan Fungsi dan Menggunakan Fungsi\n",
    "Pada Percobaan 4, kode program yang dibuat digunakan untuk menghitung luas persegi panjang dan volume balok tanpa menggunakan fungsi dan dengan menggunakan fungsi.\n",
    "1. Import dan deklarasikan Scanner dengan nama **input**\n",
    "![Gambar 9](images/4.1.png)"
   ]
  },
  {
   "cell_type": "markdown",
   "metadata": {},
   "source": [
    "2. Buatlah inputan panjang, lebar, dan tinggi \n",
    "![Gambar 10](images/4.2.png)"
   ]
  },
  {
   "cell_type": "markdown",
   "metadata": {},
   "source": [
    "3. Hitung luas persegi panjang dan volume balok\n",
    "![Gambar 10](images/4.3.png)"
   ]
  },
  {
   "cell_type": "code",
   "execution_count": 5,
   "metadata": {},
   "outputs": [
    {
     "name": "stdout",
     "output_type": "stream",
     "text": [
      "Masukkan panjang\n",
      "2\n",
      "Masukkan lebar\n",
      "5\n",
      "Masukkan tinggi\n",
      "7\n",
      "Luas Persegi panjang adalah 10\n",
      "Volume balok adalah 70\n"
     ]
    }
   ],
   "source": [
    "// Tuliskan kode program Percobaan 4 Langkah 1, 2, & 3\n",
    "import java.util.Scanner;\n",
    "Scanner input = new Scanner(System.in);\n",
    "\n",
    "int p,l,t,L,vol;\n",
    "System.out.println(\"Masukkan panjang\");\n",
    "p = input.nextInt();\n",
    "System.out.println(\"Masukkan lebar\");\n",
    "l = input.nextInt();\n",
    "System.out.println(\"Masukkan tinggi\");\n",
    "t = input.nextInt();\n",
    "\n",
    "L = p*l;\n",
    "System.out.println(\"Luas Persegi panjang adalah \" + L);\n",
    "vol = p*l*t;\n",
    "System.out.println(\"Volume balok adalah \" + vol);"
   ]
  },
  {
   "cell_type": "markdown",
   "metadata": {},
   "source": [
    "4. Program menghitung luas persegi dan volume balok diatas jika dibuatkan fungsi maka terdapat 3 fungsi yaitu hitungLuas, hitungVolume dan fungsi main, seperti dibawah ini:\n",
    "\n",
    "Fungsi hitungLuas\n",
    "\n",
    "![Gambar 10](images/4.4Luas.png)\n",
    "\n",
    "Fungsi hitungVolume\n",
    "![Gambar 10](images/4.4Volume.png)\n",
    "\n"
   ]
  },
  {
   "cell_type": "markdown",
   "metadata": {},
   "source": [
    "5. Eksekusi/panggil fungsi **hitungLuas** dan **hitungVolume**\n",
    "\n",
    "![Gambar 10](images/4.5.png)"
   ]
  },
  {
   "cell_type": "code",
   "execution_count": 7,
   "metadata": {},
   "outputs": [
    {
     "name": "stdout",
     "output_type": "stream",
     "text": [
      "Masukkkan panjang\n",
      "5\n",
      "Masukkan lebar\n",
      "2\n",
      "Masukkan tinggi\n",
      "7\n",
      "Luas Persegi Panjang adalah 10\n",
      "Volume Balok adalah 70\n"
     ]
    }
   ],
   "source": [
    "// Tuliskan kode program Percobaan 4 Langkah 1, 2, & 3\n",
    "static int hitungLuas(int pjg, int lb){\n",
    "    int Luas = pjg * lb;\n",
    "    return Luas;\n",
    "}\n",
    "static int hitungVolume(int tinggi, int a, int b){\n",
    "    int volume = hitungLuas (a,b) * tinggi;\n",
    "    return volume;\n",
    "}\n",
    "Scanner input = new Scanner(System.in);\n",
    "int p,l,t,L,vol;\n",
    "System.out.println(\"Masukkkan panjang\");\n",
    "p = input.nextInt();\n",
    "System.out.println(\"Masukkan lebar\");\n",
    "l = input.nextInt();\n",
    "System.out.println(\"Masukkan tinggi\");\n",
    "t = input.nextInt();\n",
    "\n",
    "L = hitungLuas(p,l);\n",
    "System.out.println(\"Luas Persegi Panjang adalah \" + L);\n",
    "vol = hitungVolume(t,p,l);\n",
    "System.out.println(\"Volume Balok adalah \" + vol);"
   ]
  },
  {
   "cell_type": "markdown",
   "metadata": {},
   "source": [
    "#### Pertanyaan\n",
    "1. Jelaskan kegunaan parameter yang terdapat didalam fungsi hitungLuas dan hitungVolume!\n",
    "##### Jawaban: \n",
    "Parameter di dalam fungsi hitungLuas digunakan untuk menampung nilai dari variabel panjang dan lebar yang diinputkan, sedangkan fungsi hitungVolume digunakan untuk menampung nilai dari variabel panjang, lebar, dan tinggi yang diinputkan. "
   ]
  },
  {
   "cell_type": "markdown",
   "metadata": {},
   "source": [
    "2. Setelah melakukan percobaan 4, menurut anda manakah program yg lebih efisien apakah menggunakan fungsi atau tanpa fungsi? Jelaskan!\n",
    "##### Jawaban: \n",
    "Program yang lebih efisien adalah menggunakan fungsi karena dengan fungsi kita cukup memanggil fungsi tersebut untuk melakukan suatu method sehingga mampu mengurangi penggunaan memori, kesalahan pengetikan, dan memperpendek kode program, serta tentu saja program yang disusun menjadi lebih terstruktur(modular). "
   ]
  },
  {
   "cell_type": "markdown",
   "metadata": {},
   "source": [
    "### Percobaan 5: Fungsi Menggunakan Array dan Variabel Global\n",
    "Pada Percobaan 5, kode program yang dibuat digunakan untuk menghitung total nilai yang ada didalam array dengan membuat 3 fungsi yaitu isiarray, hitTol, dan tampilArray.\n",
    "1. Buatlah **variable global total dan i** bertipe int\n",
    "![Gambar 9](images/5.1pertama.png)"
   ]
  },
  {
   "cell_type": "markdown",
   "metadata": {},
   "source": [
    "2. Buatlah fungsi **isiarray** bertipe int dengan parameter angka bertipe int \n",
    "\n",
    "![Gambar 10](images/5.1.png)"
   ]
  },
  {
   "cell_type": "markdown",
   "metadata": {},
   "source": [
    "3. Buatlah fungsi **tampilArray** bertipe **void** dengan parameter data array **arr** bertipe int\n",
    "\n",
    "![Gambar 10](images/5.2.png)"
   ]
  },
  {
   "cell_type": "markdown",
   "metadata": {},
   "source": [
    "4. Buatlah fungsi **hitTot** bertipe int dengan parameter data array **arr** bertipe int\n",
    "\n",
    "![Gambar 10](images/5.3.png)"
   ]
  },
  {
   "cell_type": "markdown",
   "metadata": {},
   "source": [
    "5. Import dan deklarasikan Scanner dengan nama **input**\n",
    "\n",
    "![Gambar 10](images/4.1.png)"
   ]
  },
  {
   "cell_type": "markdown",
   "metadata": {},
   "source": [
    "6. Eksekusi atau panggil ketiga fungsi yaitu **isiarray, tampilArray, dan hitTot**, kemudian jalankan program!\n",
    "\n",
    "![Gambar 10](images/5.6.png)"
   ]
  },
  {
   "cell_type": "code",
   "execution_count": 9,
   "metadata": {},
   "outputs": [
    {
     "name": "stdout",
     "output_type": "stream",
     "text": [
      "Masukkan jumlah data yang ingin Anda inputkan: \n",
      "2\n",
      "Masukkan data ke- 0\n",
      "70\n",
      "Masukkan data ke- 1\n",
      "85\n",
      "Nilai yang Anda inputkan ke 0\n",
      "70\n",
      "Nilai yang Anda inputkan ke 1\n",
      "85\n",
      "Total nilai = 155\n"
     ]
    }
   ],
   "source": [
    "// Tuliskan kode program Percobaan 4 Langkah 1 s/d 6\n",
    "static int total = 0, i;\n",
    "static int[] isiarray (int angka){\n",
    "    Scanner input = new Scanner(System.in);\n",
    "    int array[] = new int[angka];\n",
    "    for(i = 0; i < array.length; i++){\n",
    "        System.out.println(\"Masukkan data ke- \" + i);\n",
    "        array[i] = input.nextInt();\n",
    "    }\n",
    "    return array;\n",
    "}\n",
    "static void tampilArray(int[] arr){\n",
    "    for(i = 0; i < arr.length; i++){\n",
    "        System.out.println(\"Nilai yang Anda inputkan ke \" + i);\n",
    "        System.out.println(arr[i]);\n",
    "    }\n",
    "}\n",
    "static int hitTot(int []arr ){\n",
    "    for(i = 0; i < arr.length; i++){\n",
    "        total += arr[i];\n",
    "    }\n",
    "    return total;\n",
    "}\n",
    "import java.util.Scanner;\n",
    "Scanner input = new Scanner(System.in);\n",
    "\n",
    "System.out.println(\"Masukkan jumlah data yang ingin Anda inputkan: \");\n",
    "int jum = input.nextInt();\n",
    "int []dataArray = isiarray (jum);\n",
    "tampilArray (dataArray);\n",
    "total = hitTot (dataArray);\n",
    "System.out.println(\"Total nilai = \" + total);"
   ]
  },
  {
   "cell_type": "markdown",
   "metadata": {},
   "source": [
    "#### Pertanyaan\n",
    "1. Jelaskan mengapa fungsi tampil array dibuat bertipe void, sedangkan isiarray dan hitTot bertipe int!\n",
    "##### Jawaban: \n",
    "Karena pada fungsi tampilArray tersebut tidak ada pengembalian data/nilai sehingga menggunakan tipe void dan tidak menggunakan return. Berbeda dengan isiarray dan hitTot yang melakukan pengembalian nilai sehingga menggunakan return dan tidak bertipe void."
   ]
  },
  {
   "cell_type": "markdown",
   "metadata": {},
   "source": [
    "2. Menurut pendapat anda apakah fugsi isiarray dan hitTot dapat diganti dengan tipe void? Jelaskan dan buktikan dengan program!"
   ]
  },
  {
   "cell_type": "code",
   "execution_count": 11,
   "metadata": {},
   "outputs": [
    {
     "ename": "CompilationException",
     "evalue": "",
     "output_type": "error",
     "traceback": [
      "\u001b[1m\u001b[30m|   \u001b[1m\u001b[30mstatic \u001b[0m\u001b[1m\u001b[30m\u001b[41mvoid\u001b[0m\u001b[1m\u001b[30m int[] isiarray (int angka){\u001b[0m",
      "\u001b[1m\u001b[31millegal start of expression\u001b[0m",
      "",
      "\u001b[1m\u001b[30m|   \u001b[1m\u001b[30mstatic void\u001b[0m\u001b[1m\u001b[30m\u001b[41m\u001b[0m\u001b[1m\u001b[30m int[] isiarray (int angka){\u001b[0m",
      "\u001b[1m\u001b[31m';' expected\u001b[0m",
      "",
      "\u001b[1m\u001b[30m|   \u001b[1m\u001b[30mstatic void int[] isiarray\u001b[0m\u001b[1m\u001b[30m\u001b[41m\u001b[0m\u001b[1m\u001b[30m (int angka){\u001b[0m",
      "\u001b[1m\u001b[31m';' expected\u001b[0m",
      "",
      "\u001b[1m\u001b[30m|   \u001b[1m\u001b[30mstatic void int[] isiarray (int angka\u001b[0m\u001b[1m\u001b[30m\u001b[41m\u001b[0m\u001b[1m\u001b[30m){\u001b[0m",
      "\u001b[1m\u001b[31m';' expected\u001b[0m",
      "",
      "\u001b[1m\u001b[30m|   \u001b[1m\u001b[30m    int array[] = new int[\u001b[0m\u001b[1m\u001b[30m\u001b[41mangka\u001b[0m\u001b[1m\u001b[30m];\u001b[0m",
      "\u001b[1m\u001b[31mvariable angka might not have been initialized\u001b[0m",
      ""
     ]
    }
   ],
   "source": [
    "// Tuliskan jawaban nomor 2\n",
    "static int total = 0, i;\n",
    "static void int[] isiarray (int angka){\n",
    "    Scanner input = new Scanner(System.in);\n",
    "    int array[] = new int[angka];\n",
    "    for(i = 0; i < array.length; i++){\n",
    "        System.out.println(\"Masukkan data ke- \" + i);\n",
    "        array[i] = input.nextInt();\n",
    "    }\n",
    "    //return array;\n",
    "}\n",
    "static void tampilArray(int[] arr){\n",
    "    for(i = 0; i < arr.length; i++){\n",
    "        System.out.println(\"Nilai yang Anda inputkan ke \" + i);\n",
    "        System.out.println(arr[i]);\n",
    "    }\n",
    "}\n",
    "static void int hitTot(int []arr ){\n",
    "    for(i = 0; i < arr.length; i++){\n",
    "        total += arr[i];\n",
    "    }\n",
    "    //return total;\n",
    "}\n",
    "import java.util.Scanner;\n",
    "Scanner input = new Scanner(System.in);\n",
    "\n",
    "System.out.println(\"Masukkan jumlah data yang ingin Anda inputkan: \");\n",
    "int jum = input.nextInt();\n",
    "int []dataArray = isiarray (jum);\n",
    "tampilArray (dataArray);\n",
    "total = hitTot (dataArray);\n",
    "System.out.println(\"Total nilai = \" + total);\n",
    "\n",
    "/*Terjadi errorr, karena pada fungsi isiarray dan hitTot terjadi pengembalian hasil nilai dari operasi di fungsi tersebut, \n",
    "sehingga jika menggunakan tipe void tidak bisa karena void digunakan pada fungsi tanpa pengembalian nilai/data.*/"
   ]
  },
  {
   "cell_type": "markdown",
   "metadata": {},
   "source": [
    "## Tugas"
   ]
  },
  {
   "cell_type": "markdown",
   "metadata": {},
   "source": [
    "1. Buatlah sebuah static method yang bernama Max3(int bil1, int bil2, int bil3) yang menerima 3 buah parameter bilangan integer dan mengembalikan sebuah bilangan integer yang merupakan nilai maksimum diantara ketiga bilangan tersebut. "
   ]
  },
  {
   "cell_type": "code",
   "execution_count": 2,
   "metadata": {},
   "outputs": [
    {
     "name": "stdout",
     "output_type": "stream",
     "text": [
      "Masukkan bilangan pertama: 30\n",
      "Masukkan bilangan kedua: 97\n",
      "Masukkan bilangan ketiga: 51\n",
      "Bilangan dengan nilai terbesar yaitu 97\n"
     ]
    }
   ],
   "source": [
    "// Tuliskan jawaban nomor 1\n",
    "import java.util.Scanner;\n",
    "Scanner input = new Scanner(System.in);\n",
    "\n",
    "static int Max3(int bil1, int bil2, int bil3){\n",
    "    int max = 0;\n",
    "    for(int i = 0; i < 3; i++){\n",
    "        if(bil1 > bil2){\n",
    "            max = bil1;\n",
    "        }else if(bil2 > bil3){\n",
    "            max = bil2;\n",
    "        }else{\n",
    "            max = bil3;\n",
    "        }\n",
    "    }\n",
    "    return max;\n",
    "}\n",
    "\n",
    "System.out.print(\"Masukkan bilangan pertama: \");\n",
    "int bil1 = input.nextInt();\n",
    "System.out.print(\"Masukkan bilangan kedua: \");\n",
    "int bil2 = input.nextInt();\n",
    "System.out.print(\"Masukkan bilangan ketiga: \");\n",
    "int bil3 = input.nextInt();\n",
    "\n",
    "int maksimal = Max3(bil1, bil2, bil3);\n",
    "System.out.println(\"Bilangan dengan nilai terbesar yaitu \" + maksimal);"
   ]
  },
  {
   "cell_type": "markdown",
   "metadata": {},
   "source": [
    "2. Disebuah restoran terdapat 3 menu yang dijual yaitu nasi goreng, soto, dan sate. Harga nasi goreng Rp. 20.000, soto Rp. 15.000, dan sate Rp. 25.000. Restoran tersebut buka dari hari senin sampai jumat. Berikut ini merupakan tabel pejualan perhari untuk masing-masing menu di restoran tersebut dari hari senin sampai jumat\n",
    "![Gambar 13](images/soal3.png)\n",
    "\n",
    "Buatlah Fungsi sebagai berikut:\n",
    " * Fungsi menampilkan menu favorit di hari selasa dan jumat (menu favorit diasumsikan adalah menu yang paling banyak terjual di hari tersebut)\n",
    " * Fungsi untuk menghitung pemasukan restoran tersebut mulai hari senin sampai jumat.\n",
    " * Fungsi untuk menghitung berapa porsi yang terjual untuk masing-masing menu yaitu nasi goreng, soto, dan sate mulai senin sampai jumat."
   ]
  },
  {
   "cell_type": "code",
   "execution_count": 16,
   "metadata": {},
   "outputs": [
    {
     "name": "stdout",
     "output_type": "stream",
     "text": [
      "Menu yang paling banyak terjual di hari Selasa adalah Soto\n",
      "Menu yang paling banyak terjual di hari Jumat adalah Nasi Goreng\n",
      "Total pemasukan Restoran dari hari Senin sampai dengan Jumat Rp 8625000\n",
      "Nasi Goreng terjual sejumlah 164 porsi\n",
      "Soto terjual sejumlah 143 porsi\n",
      "Sate terjual sejumlah 128 porsi\n"
     ]
    }
   ],
   "source": [
    "// Tuliskan jawaban nomor 2\n",
    "int[][] porsi = {{20,15,35,24,70}, \n",
    "                 {30,40,10,28,35},\n",
    "                 {5,10,50,48,15}};\n",
    "static String[] menuFavorit(){\n",
    "    int maxA = 0; \n",
    "    int maxB = 0;\n",
    "    String[] menu = {\"Nasi Goreng\",\"Soto\",\"Sate\"};\n",
    "    String[]menuFavorit= new String[2];\n",
    "    for(int x = 0; x < porsi.length; x++){\n",
    "        if(maxA < porsi[x][1]){\n",
    "            maxA = porsi[x][1];\n",
    "            menuFavorit[0] = menu[x];\n",
    "        }\n",
    "        if(maxB < porsi[x][4]){\n",
    "            maxB = porsi[x][4];\n",
    "            menuFavorit[1] = menu[x];\n",
    "        }\n",
    "    }\n",
    "    return menuFavorit; \n",
    "}\n",
    "static int pemasukan(){\n",
    "    int total, nasgor = 0, soto = 0, sate = 0;\n",
    "    for(int x = 0; x < porsi[0].length; x++){\n",
    "        nasgor += porsi[0][x];\n",
    "        soto += porsi[1][x];\n",
    "        sate += porsi[2][x];\n",
    "    }\n",
    "    return total = (nasgor * 20000) + (soto * 15000) + (sate * 25000);\n",
    "}\n",
    "\n",
    "static int[] terjual(){\n",
    "    int nasgor = 0, soto = 0, sate = 0;\n",
    "    for(int x = 0; x < porsi[0].length; x++){\n",
    "        nasgor += porsi[0][x];\n",
    "        soto += porsi[1][x];\n",
    "        sate += porsi[2][x];\n",
    "    }\n",
    "    int[] total= new int[3];\n",
    "    total[0] = nasgor;\n",
    "    total[1] = soto;\n",
    "    total[2] = sate;\n",
    "    return total; \n",
    "}\n",
    "String[] kesukaan = menuFavorit();\n",
    "int totalPemasukan = pemasukan();\n",
    "int[] indeks = terjual();\n",
    "System.out.println(\"Menu yang paling banyak terjual di hari Selasa adalah \" + kesukaan[0]);\n",
    "System.out.println(\"Menu yang paling banyak terjual di hari Jumat adalah \" + kesukaan[1]);\n",
    "System.out.println(\"Total pemasukan Restoran dari hari Senin sampai dengan Jumat Rp \" + totalPemasukan);\n",
    "System.out.println(\"Nasi Goreng terjual sejumlah \" + indeks[0] + \" porsi\");\n",
    "System.out.println(\"Soto terjual sejumlah \" + indeks[1] + \" porsi\");\n",
    "System.out.println(\"Sate terjual sejumlah \" + indeks[2] + \" porsi\");"
   ]
  }
 ],
 "metadata": {
  "kernelspec": {
   "display_name": "Java",
   "language": "java",
   "name": "java"
  },
  "language_info": {
   "codemirror_mode": "java",
   "file_extension": ".jshell",
   "mimetype": "text/x-java-source",
   "name": "Java",
   "pygments_lexer": "java",
   "version": "11.0.12+8-LTS-237"
  }
 },
 "nbformat": 4,
 "nbformat_minor": 4
}
