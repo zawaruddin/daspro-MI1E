{
 "cells": [
  {
   "cell_type": "markdown",
   "metadata": {},
   "source": [
    "## Nama : Wiraswanti Rismanda Putri\n",
    "## NIM : 2131710021\n",
    "\n",
    "\n",
    "# JOBSHEET 13. Fungsi 1"
   ]
  },
  {
   "cell_type": "markdown",
   "metadata": {},
   "source": [
    "## Tujuan\n",
    "* Mahasiswa mampu memahami penggunaan fungsi static pada Java dengan parameter dan mengembalikan nilai.\n",
    "* Mahasiswa mampu membuat program menggunakan fungsi static dan mengeksekusi fungsi tersebut.\n"
   ]
  },
  {
   "cell_type": "markdown",
   "metadata": {},
   "source": [
    "## Alat dan Bahan\n",
    "* PC/Laptop\n",
    "* Browser\n",
    "* Koneksi internet\n",
    "* Anaconda3 + Java kernel (opsional)"
   ]
  },
  {
   "cell_type": "markdown",
   "metadata": {},
   "source": [
    "## Praktikum"
   ]
  },
  {
   "cell_type": "markdown",
   "metadata": {},
   "source": [
    "### Percobaan 1: Fungsi Void (tidak menggunakan return value)\n",
    "\n",
    "1.\tBuat fungsi **beriSalam** bertipe void yang digunakan untuk mencetak **“Halo! Selamat Pagi”**.\n",
    "![Gambar 1](images/1.1.png)"
   ]
  },
  {
   "cell_type": "markdown",
   "metadata": {},
   "source": [
    "2. Eksekusi atau panggil fungsi **beriSalam**.\n",
    "![Gambar 2](images/1.2.png)"
   ]
  },
  {
   "cell_type": "code",
   "execution_count": 4,
   "metadata": {},
   "outputs": [
    {
     "name": "stdout",
     "output_type": "stream",
     "text": [
      "Halo! Selamat Pagi\n"
     ]
    }
   ],
   "source": [
    "// Tuliskan kode program Percobaan 1 Langkah 1 & 2\n",
    "static void beriSalam(){\n",
    "    System.out.println(\"Halo! Selamat Pagi\");\n",
    "}\n",
    "beriSalam();"
   ]
  },
  {
   "cell_type": "markdown",
   "metadata": {},
   "source": [
    "3. Buat fungsi **beriUcapan** dengan sebuah parameter bertipe String.\n",
    "![Gambar 3](images/1.3.png)"
   ]
  },
  {
   "cell_type": "markdown",
   "metadata": {},
   "source": [
    "4. Buatlah variabel **salam** bertipe String kemudian eksekusi atau panggil fungsi **beriUcapan** dengan mengisi parameternya dengan variable **salam** yang sudah dibuat.\n",
    "![Gambar 3](images/1.4.png)"
   ]
  },
  {
   "cell_type": "code",
   "execution_count": 5,
   "metadata": {},
   "outputs": [
    {
     "name": "stdout",
     "output_type": "stream",
     "text": [
      "Halo! Selamat Pagi\n",
      "Selamat datang di pemrograman Java\n"
     ]
    }
   ],
   "source": [
    "// Tuliskan kode program Percobaan 1 Langkah 1, 2, 3 & 4\n",
    "static void beriSalam(){\n",
    "    System.out.println(\"Halo! Selamat Pagi\");\n",
    "}\n",
    "\n",
    "static void beriUcapan(String ucapan){\n",
    "    System.out.println(ucapan);\n",
    "}\n",
    "\n",
    "\n",
    "    beriSalam();\n",
    "    String salam = \"Selamat datang di pemrograman Java\";\n",
    "    beriUcapan(salam);"
   ]
  },
  {
   "cell_type": "markdown",
   "metadata": {},
   "source": [
    "#### Pertanyaan\n",
    "1. Jelaskan perbedaan fungsi **beriSalam** dan **beriUcapan** pada praktikum 1!\n",
    "#### Jawaban\n",
    "Pada fungsi **beriSalam** deklarasinya tidak menggunakan parameter dalam pembuatan fungsinya. Sedangkan pada fungsi **beriUcapan** deklarasinya menggunakan parameter dalam pembuatan fungsinya."
   ]
  },
  {
   "cell_type": "markdown",
   "metadata": {},
   "source": [
    "2. Jelaskan cara pemanggilan sebuah fungsi void yang berparameter dan tanpa parameter!\n",
    "#### Jawaban\n",
    "- Pemanggilan fungsi void berparameter yaitu dengan cara harus memberikan tipe data dan harus dideklarasikan terlebih dahulu untuk memanggil nilainya.\n",
    "- Pemanggilan fungsi void tanpa parameter yaitu dengan cara tidak perlu dideklarasikan terlebih dahulu."
   ]
  },
  {
   "cell_type": "markdown",
   "metadata": {},
   "source": [
    "### Percobaan 2: Fungsi dengan return value (Bukan void)\n",
    "Pada Percobaan 2, kode program yang dibuat digunakan untuk menghitung luas persegi dengan membuat fungsi **luasPersegi** yang menggunakan parameter.\n",
    "1. Buat fungsi **luasPersegi**  untuk menghitung luas persegi yang mengembalikan nilai luas (int) dan parameter masukan sisi (int).\n",
    "![Gambar 4](images/2.1.png)"
   ]
  },
  {
   "cell_type": "markdown",
   "metadata": {},
   "source": [
    "2.\tEksekusi atau panggil fungsi luasPersegi dengan cara membuat variabel baru yaitu **luasan**, kemudian isi variabel tersebut dengan memanggil fungsi luasPersegi dan mengisi parameter sisi. Selanjutnya cetak variabel luasan untuk menampilkan luas persegi panjang\n",
    "![Gambar 5](images/2.2.png)"
   ]
  },
  {
   "cell_type": "code",
   "execution_count": 6,
   "metadata": {},
   "outputs": [
    {
     "name": "stdout",
     "output_type": "stream",
     "text": [
      "Luas Persegi dengan sisi 5 = 25\n"
     ]
    }
   ],
   "source": [
    "// Tuliskan kode program Percobaan 2 Langkah 1 & 2\n",
    "static int luasPersegi(int sisi){\n",
    "    int luas = sisi * sisi;\n",
    "    return luas;\n",
    "}\n",
    "\n",
    "    int luasan = luasPersegi(5);\n",
    "    System.out.println(\"Luas Persegi dengan sisi 5 = \" + luasan);"
   ]
  },
  {
   "cell_type": "markdown",
   "metadata": {},
   "source": [
    "#### Pertanyaan\n",
    "1. Jelaskan mengapa ketika memanggil fungsi **luasPersegi** harus membuat variabel baru yaitu luasan?\n",
    "#### Jawaban\n",
    "Karena variabel luasan dibutuhkan untuk menghitung nilai luas = sisi * sisi"
   ]
  },
  {
   "cell_type": "markdown",
   "metadata": {},
   "source": [
    "2. Jelaskan kegunaan **return luas** pada percobaan 2 diatas!\n",
    "#### Jawaban\n",
    "Kegunaan **return luas** adalah untuk mengembalikan nilai output sehingga bisa diolah pada proses berikutnya."
   ]
  },
  {
   "cell_type": "markdown",
   "metadata": {},
   "source": [
    "3. Modifikasilah program di percobaan 2, dengan membuat panjang **sisi** sebagai inputan!"
   ]
  },
  {
   "cell_type": "code",
   "execution_count": 21,
   "metadata": {},
   "outputs": [
    {
     "name": "stdout",
     "output_type": "stream",
     "text": [
      "Masukkan panjang sisi persegi: 5\n",
      "Luas Persegi dengan sisi 5 adalah 25\n"
     ]
    }
   ],
   "source": [
    "// Tuliskan jawaban nomor 2\n",
    "import java.util.Scanner;\n",
    "Scanner input = new Scanner(System.in);\n",
    "int pjgSisi;\n",
    "\n",
    "static int luasPersegi(int sisi){\n",
    "    int luas = sisi * sisi;\n",
    "    return luas;\n",
    "}\n",
    "\n",
    "System.out.print(\"Masukkan panjang sisi persegi: \");\n",
    "pjgSisi = input.nextInt();   \n",
    "int luasan = luasPersegi(pjgSisi);\n",
    "System.out.println(\"Luas Persegi dengan sisi \" + pjgSisi + \" adalah \" + luasan);"
   ]
  },
  {
   "cell_type": "markdown",
   "metadata": {},
   "source": [
    "### Percobaan 3: Fungsi dapat meng-CALL Fungsi Lain\n",
    "Pada Percobaan 3, kode program yang dibuat digunakan untuk mengimplementasikan bahwa fungsi dapat meng-CALL fungsi yang lain. Dimana dalam percobaan ini terdapat fungsi **Kali dan Kurang**. \n",
    "1. Buatlah fungsi **Kali** yang mengembalikan nilai H (int) dan parameter masukan C dan D (int).\n",
    "![Gambar 9](images/3.1.png)"
   ]
  },
  {
   "cell_type": "markdown",
   "metadata": {},
   "source": [
    "2.\tBuatlah fungsi **Kurang** yang mengembalikan nilai X (int) dan parameter masukan A dan B (int) dan memanggil fungsi Kali.\n",
    "![Gambar 10](images/3.2.png)"
   ]
  },
  {
   "cell_type": "markdown",
   "metadata": {},
   "source": [
    "3. Lakukan import class Scanner sebagai inputan di langkah selajutnya."
   ]
  },
  {
   "cell_type": "markdown",
   "metadata": {},
   "source": [
    "4. Eksekusi atau panggil fungsi **Kurang** .\n",
    "![Gambar 11](images/3.4.png)"
   ]
  },
  {
   "cell_type": "code",
   "execution_count": 36,
   "metadata": {},
   "outputs": [
    {
     "name": "stdout",
     "output_type": "stream",
     "text": [
      "Masukkan Nilai 1: \n",
      "2\n",
      "Masukkan Nilai 2: \n",
      "5\n",
      "Hasil akhir adalah 19\n"
     ]
    }
   ],
   "source": [
    "// Tuliskan kode program Percobaan 3 Langkah 1, 2, 3 & 4\n",
    "static int Kali(int C, int D) {\n",
    "    int H;\n",
    "    H = (C + 10)  % (D + 19);\n",
    "    return H;\n",
    "}\n",
    "\n",
    "static int Kurang(int A, int B) {\n",
    "    int X;\n",
    "    A = A + 7;\n",
    "    B = B + 4;\n",
    "    X = Kali(A, B);\n",
    "    return X;\n",
    "}\n",
    "\n",
    "int nilai1, nilai2;\n",
    "Scanner input = new Scanner (System.in);\n",
    "System.out.println(\"Masukkan Nilai 1: \");\n",
    "nilai1 = input.nextInt();\n",
    "System.out.println(\"Masukkan Nilai 2: \");\n",
    "nilai2 = input.nextInt();\n",
    "int hasil = Kurang(nilai1, nilai2);\n",
    "System.out.println(\"Hasil akhir adalah \" + hasil);"
   ]
  },
  {
   "cell_type": "markdown",
   "metadata": {},
   "source": [
    "#### Pertanyaan\n",
    "1. Modifikasilah percobaan diatas dimana di fungsi **Kali** dapat memanggil fungsi **Kurang** kemudian eksekusi atau panggil fungsi Kali"
   ]
  },
  {
   "cell_type": "code",
   "execution_count": 1,
   "metadata": {},
   "outputs": [
    {
     "name": "stdout",
     "output_type": "stream",
     "text": [
      "Masukkan Nilai 1: \n",
      "2\n",
      "Masukkan Nilai 2: \n",
      "5\n",
      "Hasil akhir adalah 19\n"
     ]
    }
   ],
   "source": [
    "// Tuliskan jawaban nomor 1\n",
    "static int Kali(int C, int D) {\n",
    "    int H;\n",
    "    C = C + 10;\n",
    "    D = D + 19;\n",
    "    H = Kurang(C, D);\n",
    "    return H;\n",
    "}\n",
    "\n",
    "static int Kurang(int A, int B) {\n",
    "    int X;\n",
    "    X = (A + 7)  % (B + 4);\n",
    "    return X;\n",
    "}\n",
    "\n",
    "int nilai1, nilai2;\n",
    "Scanner input = new Scanner (System.in);\n",
    "System.out.println(\"Masukkan Nilai 1: \");\n",
    "nilai1 = input.nextInt();\n",
    "System.out.println(\"Masukkan Nilai 2: \");\n",
    "nilai2 = input.nextInt();\n",
    "int hasil = Kali(nilai1, nilai2);\n",
    "System.out.println(\"Hasil akhir adalah \" + hasil);"
   ]
  },
  {
   "cell_type": "markdown",
   "metadata": {},
   "source": [
    "2. Jelaskan alur jalannya program di percobaan 3 mulai dari input sampai keluar output!\n",
    "#### Jawaban \n",
    "Pada percobaan 3 dilakukan penginputan nilai1 dan nilai2 yang kemudian akan dihitung pada fungsi Kurang terlebih dahulu yang didalamanya akan dilakuakan operasi sehingga datanya akan ditampung pada variabel A dan B, kemudian fungsi Kali tersebut akan memanggil fungsi Kali. Lalu yang kedua pada fungsi Kali yang akan dilakukan operasi modulus. "
   ]
  },
  {
   "cell_type": "markdown",
   "metadata": {},
   "source": [
    "### Percobaan 4: Mengubah Program Tidak Menggunakan Fungsi dan Menggunakan Fungsi\n",
    "Pada Percobaan 4, kode program yang dibuat digunakan untuk menghitung luas persegi panjang dan volume balok tanpa menggunakan fungsi dan dengan menggunakan fungsi.\n",
    "1. Import dan deklarasikan Scanner dengan nama **input**\n",
    "![Gambar 9](images/4.1.png)"
   ]
  },
  {
   "cell_type": "markdown",
   "metadata": {},
   "source": [
    "2. Buatlah inputan panjang, lebar, dan tinggi \n",
    "![Gambar 10](images/4.2.png)"
   ]
  },
  {
   "cell_type": "markdown",
   "metadata": {},
   "source": [
    "3. Hitung luas persegi panjang dan volume balok\n",
    "![Gambar 10](images/4.3.png)"
   ]
  },
  {
   "cell_type": "code",
   "execution_count": 8,
   "metadata": {},
   "outputs": [
    {
     "name": "stdout",
     "output_type": "stream",
     "text": [
      "Masukkan panjang\n",
      "5\n",
      "Masukkan lebar\n",
      "7\n",
      "Masukkan tinggi\n",
      "8\n",
      "Luas Persegi panjang adalah 35\n",
      "Volume balik adalah 280\n"
     ]
    }
   ],
   "source": [
    "// Tuliskan kode program Percobaan 4 Langkah 1, 2, & 3\n",
    "import java.util.Scanner;\n",
    "Scanner input = new Scanner(System.in);\n",
    "\n",
    "int p,l,t,L,vol;\n",
    "\n",
    "System.out.println(\"Masukkan panjang\");\n",
    "p = input.nextInt();\n",
    "System.out.println(\"Masukkan lebar\");\n",
    "l = input.nextInt();\n",
    "System.out.println(\"Masukkan tinggi\");\n",
    "t = input.nextInt();\n",
    "\n",
    "L = p*l;\n",
    "System.out.println(\"Luas Persegi panjang adalah \" + L);\n",
    "\n",
    "vol = p*l*t;\n",
    "System.out.println(\"Volume balik adalah \" + vol);"
   ]
  },
  {
   "cell_type": "markdown",
   "metadata": {},
   "source": [
    "4. Program menghitung luas persegi dan volume balok diatas jika dibuatkan fungsi maka terdapat 3 fungsi yaitu hitungLuas, hitungVolume dan fungsi main, seperti dibawah ini:\n",
    "\n",
    "Fungsi hitungLuas\n",
    "\n",
    "![Gambar 10](images/4.4Luas.png)\n",
    "\n",
    "Fungsi hitungVolume\n",
    "![Gambar 10](images/4.4Volume.png)\n",
    "\n"
   ]
  },
  {
   "cell_type": "markdown",
   "metadata": {},
   "source": [
    "5. Eksekusi/panggil fungsi **hitungLuas** dan **hitungVolume**\n",
    "\n",
    "![Gambar 10](images/4.5.png)"
   ]
  },
  {
   "cell_type": "code",
   "execution_count": 12,
   "metadata": {},
   "outputs": [
    {
     "name": "stdout",
     "output_type": "stream",
     "text": [
      "Masukkan panjang\n",
      "5\n",
      "Masukkan lebar\n",
      "7\n",
      "Masukkan tinggi\n",
      "8\n",
      "Luas Persegi Panjang adalah 35\n",
      "Volume Balok adalah 280\n"
     ]
    }
   ],
   "source": [
    "// Tuliskan kode program Percobaan 4 Langkah 1, 2, & 3\n",
    "static int hitungLuas (int pjg, int lb) {\n",
    "    int Luas = pjg*lb;\n",
    "    return Luas;\n",
    "}\n",
    "\n",
    "static int hitungVolume (int tinggi, int a, int b) {\n",
    "    int volume = hitungLuas(a,b)*tinggi;\n",
    "    return volume;\n",
    "}\n",
    "\n",
    "Scanner input = new Scanner (System.in);\n",
    "int p,l,t,L,vol;\n",
    "System.out.println(\"Masukkan panjang\");\n",
    "p = input.nextInt();\n",
    "System.out.println(\"Masukkan lebar\");\n",
    "l = input.nextInt();\n",
    "System.out.println(\"Masukkan tinggi\");\n",
    "t = input.nextInt();\n",
    "\n",
    "L = hitungLuas(p,l);\n",
    "System.out.println(\"Luas Persegi Panjang adalah \" + L);\n",
    "vol = hitungVolume(t,p,l);\n",
    "System.out.println(\"Volume Balok adalah \" + vol);"
   ]
  },
  {
   "cell_type": "markdown",
   "metadata": {},
   "source": [
    "#### Pertanyaan\n",
    "1. Jelaskan kegunaan parameter yang terdapat didalam fungsi hitungLuas dan hitungVolume!\n",
    "####  Jawaban\n",
    "- Fungsi parameter yang terdapat di dalam fungsi hitungLuas adalah untuk menampung nilai panjang dan lebar.\n",
    "- Fungsi parameter yang terdapat di dalam fungsi hitungVoulume adalah untuk menampung nilai tinggi, a dan b"
   ]
  },
  {
   "cell_type": "markdown",
   "metadata": {},
   "source": [
    "2. Setelah melakukan percobaan 4, menurut anda manakah program yg lebih efisien apakah menggunakan fungsi atau tanpa fungsi? Jelaskan!\n",
    "#### Jawaban \n",
    "Program yang lebih efisien yaitu yang menggunakan fungsi, karena dengan menggunakan fungsi tidak perlu menuliskan program secara beulang-ulang tetapi hanya cukup memanggil fungsi tersebut."
   ]
  },
  {
   "cell_type": "markdown",
   "metadata": {},
   "source": [
    "### Percobaan 5: Fungsi Menggunakan Array dan Variabel Global\n",
    "Pada Percobaan 5, kode program yang dibuat digunakan untuk menghitung total nilai yang ada didalam array dengan membuat 3 fungsi yaitu isiarray, hitTol, dan tampilArray.\n",
    "1. Buatlah **variable global total dan i** bertipe int\n",
    "![Gambar 9](images/5.1pertama.png)"
   ]
  },
  {
   "cell_type": "markdown",
   "metadata": {},
   "source": [
    "2. Buatlah fungsi **isiarray** bertipe int dengan parameter angka bertipe int \n",
    "\n",
    "![Gambar 10](images/5.1.png)"
   ]
  },
  {
   "cell_type": "markdown",
   "metadata": {},
   "source": [
    "3. Buatlah fungsi **tampilArray** bertipe **void** dengan parameter data array **arr** bertipe int\n",
    "\n",
    "![Gambar 10](images/5.2.png)"
   ]
  },
  {
   "cell_type": "markdown",
   "metadata": {},
   "source": [
    "4. Buatlah fungsi **hitTot** bertipe int dengan parameter data array **arr** bertipe int\n",
    "\n",
    "![Gambar 10](images/5.3.png)"
   ]
  },
  {
   "cell_type": "markdown",
   "metadata": {},
   "source": [
    "5. Import dan deklarasikan Scanner dengan nama **input**\n",
    "\n",
    "![Gambar 10](images/4.1.png)"
   ]
  },
  {
   "cell_type": "markdown",
   "metadata": {},
   "source": [
    "6. Eksekusi atau panggil ketiga fungsi yaitu **isiarray, tampilArray, dan hitTot**, kemudian jalankan program!\n",
    "\n",
    "![Gambar 10](images/5.6.png)"
   ]
  },
  {
   "cell_type": "code",
   "execution_count": 17,
   "metadata": {},
   "outputs": [
    {
     "name": "stdout",
     "output_type": "stream",
     "text": [
      "Masukkan jumlah data yang ingin anda inputkan: \n",
      "5\n",
      "Masukkan data ke- 0\n",
      "1\n",
      "Masukkan data ke- 1\n",
      "2\n",
      "Masukkan data ke- 2\n",
      "3\n",
      "Masukkan data ke- 3\n",
      "4\n",
      "Masukkan data ke- 4\n",
      "5\n",
      "Nilai yang Anda inputkan ke 0\n",
      "1\n",
      "Nilai yang Anda inputkan ke 1\n",
      "2\n",
      "Nilai yang Anda inputkan ke 2\n",
      "3\n",
      "Nilai yang Anda inputkan ke 3\n",
      "4\n",
      "Nilai yang Anda inputkan ke 4\n",
      "5\n",
      "Total nilai = 15\n"
     ]
    }
   ],
   "source": [
    "// Tuliskan kode program Percobaan 4 Langkah 1 s/d 6\n",
    "static int total=0, i;\n",
    "\n",
    "static int [] isiarray (int angka) {\n",
    "    Scanner input = new Scanner (System.in);\n",
    "    int array[] = new int[angka];\n",
    "    for (i=0; i<array.length; i++) {\n",
    "    System.out.println(\"Masukkan data ke- \" + i);\n",
    "    array[i] = input.nextInt();\n",
    "    }\n",
    "    return array;\n",
    "}\n",
    "\n",
    "static void tampilArray(int [] arr) {\n",
    "    for (i=0; i<arr.length; i++) {\n",
    "        System.out.println(\"Nilai yang Anda inputkan ke \" + i);\n",
    "        System.out.println(arr[i]);\n",
    "    }\n",
    "}\n",
    "\n",
    "static int hitTot(int []arr ) {\n",
    "    for (i=0; i<arr.length; i++) {\n",
    "        total+=arr[i];\n",
    "    }\n",
    "    return total;\n",
    "}\n",
    "\n",
    "import java.util.Scanner;\n",
    "Scanner input = new Scanner(System.in);\n",
    "\n",
    "System.out.println(\"Masukkan jumlah data yang ingin anda inputkan: \");\n",
    "int jum=input.nextInt();\n",
    "int []dataArray = isiarray(jum);\n",
    "tampilArray(dataArray);\n",
    "total = hitTot(dataArray);\n",
    "System.out.println(\"Total nilai = \" + total);"
   ]
  },
  {
   "cell_type": "markdown",
   "metadata": {},
   "source": [
    "#### Pertanyaan\n",
    "1. Jelaskan mengapa fungsi tampil array dibuat bertipe void, sedangkan isiarray dan hitTot bertipe int!\n",
    "#### Jawaban\n",
    "Karena pada fungsi tampil array tidak perlu mengembalikan nilai output yang akan diolah pada proses berikutnya, sedangkan pada isiarray dan hitTot bertipe int karena pada fungsi tersebut diperlukan untuk mengembalikan nilai yang akan diolah pada proses  berikutnya."
   ]
  },
  {
   "cell_type": "markdown",
   "metadata": {},
   "source": [
    "2. Menurut pendapat anda apakah fugsi isiarray dan hitTot dapat diganti dengan tipe void? Jelaskan dan buktikan dengan program!\n",
    "#### Jawaban \n",
    "Menurut saya fungsi isiarray dan hitTot tidak dapat diganti dengan tipe void, karena tipe void tidak dapat digunakan pada fungsi yang memiliki tipe data dan menggunkan keywoard return yang digunakan untuk mengembalikan nilai. Dapat dibuktikan dengan program di bawah ini terjadi error."
   ]
  },
  {
   "cell_type": "code",
   "execution_count": 52,
   "metadata": {},
   "outputs": [
    {
     "ename": "CompilationException",
     "evalue": "",
     "output_type": "error",
     "traceback": [
      "\u001b[1m\u001b[30m|   \u001b[1m\u001b[30mstatic \u001b[0m\u001b[1m\u001b[30m\u001b[41mvoid\u001b[0m\u001b[1m\u001b[30m int [] isiarray (int angka) {\u001b[0m",
      "\u001b[1m\u001b[31millegal start of expression\u001b[0m",
      "",
      "\u001b[1m\u001b[30m|   \u001b[1m\u001b[30mstatic void\u001b[0m\u001b[1m\u001b[30m\u001b[41m\u001b[0m\u001b[1m\u001b[30m int [] isiarray (int angka) {\u001b[0m",
      "\u001b[1m\u001b[31m';' expected\u001b[0m",
      "",
      "\u001b[1m\u001b[30m|   \u001b[1m\u001b[30mstatic void int [] isiarray\u001b[0m\u001b[1m\u001b[30m\u001b[41m\u001b[0m\u001b[1m\u001b[30m (int angka) {\u001b[0m",
      "\u001b[1m\u001b[31m';' expected\u001b[0m",
      "",
      "\u001b[1m\u001b[30m|   \u001b[1m\u001b[30mstatic void int [] isiarray (int angka\u001b[0m\u001b[1m\u001b[30m\u001b[41m\u001b[0m\u001b[1m\u001b[30m) {\u001b[0m",
      "\u001b[1m\u001b[31m';' expected\u001b[0m",
      "",
      "\u001b[1m\u001b[30m|   \u001b[1m\u001b[30m}\u001b[0m\u001b[1m\u001b[30m\u001b[41m\u001b[0m\u001b[1m\u001b[30m\u001b[0m",
      "\u001b[1m\u001b[31munreachable statement\u001b[0m",
      "",
      "\u001b[1m\u001b[30m|   \u001b[1m\u001b[30m    int array[] = new int[\u001b[0m\u001b[1m\u001b[30m\u001b[41mangka\u001b[0m\u001b[1m\u001b[30m];\u001b[0m",
      "\u001b[1m\u001b[31mvariable angka might not have been initialized\u001b[0m",
      ""
     ]
    }
   ],
   "source": [
    "// Tuliskan jawaban nomor 2\n",
    "static int total=0, i;\n",
    "\n",
    "static void int [] isiarray (int angka) {\n",
    "    Scanner input = new Scanner (System.in);\n",
    "    int array[] = new int[angka];\n",
    "    for (i=0; i<array.length; i++) {\n",
    "    System.out.println(\"Masukkan data ke- \" + i);\n",
    "    array[i] = input.nextInt();\n",
    "    }\n",
    "    return array;\n",
    "}\n",
    "\n",
    "static void tampilArray(int [] arr) {\n",
    "    for (i=0; i<arr.length; i++) {\n",
    "        System.out.println(\"Nilai yang Anda inputkan ke \" + i);\n",
    "        System.out.println(arr[i]);\n",
    "    }\n",
    "}\n",
    "\n",
    "static void int hitTot(int []arr ) {\n",
    "    for (i=0; i<arr.length; i++) {\n",
    "        total+=arr[i];\n",
    "    }\n",
    "    return total;\n",
    "}\n",
    "\n",
    "import java.util.Scanner;\n",
    "Scanner input = new Scanner(System.in);\n",
    "\n",
    "System.out.println(\"Masukkan jumlah data yang ingin anda inputkan: \");\n",
    "int jum=input.nextInt();\n",
    "int []dataArray = isiarray(jum);\n",
    "tampilArray(dataArray);\n",
    "total = hitTot(dataArray);\n",
    "System.out.println(\"Total nilai = \" + total);"
   ]
  },
  {
   "cell_type": "markdown",
   "metadata": {},
   "source": [
    "## Tugas"
   ]
  },
  {
   "cell_type": "markdown",
   "metadata": {},
   "source": [
    "1. Buatlah sebuah static method yang bernama Max3(int bil1, int bil2, int bil3) yang menerima 3 buah parameter bilangan integer dan mengembalikan sebuah bilangan integer yang merupakan nilai maksimum diantara ketiga bilangan tersebut. "
   ]
  },
  {
   "cell_type": "code",
   "execution_count": 69,
   "metadata": {},
   "outputs": [
    {
     "name": "stdout",
     "output_type": "stream",
     "text": [
      "Masukkan bilangan 1: 100\n",
      "Masukkan bilangan 2: 50\n",
      "Masukkan bilangan 3: 250\n",
      "\n",
      "Nilai maksimum adalah 250\n"
     ]
    }
   ],
   "source": [
    "// Tuliskan jawaban nomor 1\n",
    "static int Max3(int bil1, int bil2, int bil3) {\n",
    "    int maks;\n",
    "     if(bil1>bil2 && bil1>bil3) {\n",
    "        maks = bil1;\n",
    "    } else if(bil2>bil1 && bil2>bil3) {\n",
    "        maks = bil2;\n",
    "    } else {\n",
    "        maks = bil3;\n",
    "    }\n",
    "    return maks;\n",
    "}\n",
    "\n",
    "import java.util.Scanner;\n",
    "Scanner input = new Scanner(System.in);\n",
    "System.out.print(\"Masukkan bilangan 1: \");\n",
    "int x = input.nextInt();\n",
    "System.out.print(\"Masukkan bilangan 2: \");\n",
    "int y = input.nextInt();\n",
    "System.out.print(\"Masukkan bilangan 3: \");\n",
    "int z = input.nextInt();\n",
    "\n",
    "int maks = Max3(x, y, z);\n",
    "System.out.println(\"\\nNilai maksimum adalah \" + maks);"
   ]
  },
  {
   "cell_type": "markdown",
   "metadata": {},
   "source": [
    "2. Disebuah restoran terdapat 3 menu yang dijual yaitu nasi goreng, soto, dan sate. Harga nasi goreng Rp. 20.000, soto Rp. 15.000, dan sate Rp. 25.000. Restoran tersebut buka dari hari senin sampai jumat. Berikut ini merupakan tabel pejualan perhari untuk masing-masing menu di restoran tersebut dari hari senin sampai jumat\n",
    "![Gambar 13](images/soal3.png)\n",
    "\n",
    "Buatlah Fungsi sebagai berikut:\n",
    " * Fungsi menampilkan menu favorit di hari selasa dan jumat (menu favorit diasumsikan adalah menu yang paling banyak terjual di hari tersebut)\n",
    " * Fungsi untuk menghitung pemasukan restoran tersebut mulai hari senin sampai jumat.\n",
    " * Fungsi untuk menghitung berapa porsi yang terjual untuk masing-masing menu yaitu nasi goreng, soto, dan sate mulai senin sampai jumat."
   ]
  },
  {
   "cell_type": "code",
   "execution_count": 86,
   "metadata": {},
   "outputs": [
    {
     "name": "stdout",
     "output_type": "stream",
     "text": [
      "Menu favorit pada hari Selasa adalah Soto\n",
      "Menu favorit pada hari Jumat adalah Nasi Goreng\n",
      "Total pemasukan mulai hari Senin sampai Jumat adalah Rp 8625000\n",
      "Banyak Nasi Goreng yang terjual adalah: 164 porsi\n",
      "Banyak Soto yang terjual adalah: 143 porsi\n",
      "Banyak Sate yang terjual adalah: 128 porsi\n"
     ]
    }
   ],
   "source": [
    "// Tuliskan jawaban nomor 2\n",
    "int[][] dataPenjualan = {\n",
    "    {20, 15, 35, 24, 70},\n",
    "    {30, 40, 10, 28, 35},\n",
    "    {5, 10, 50, 48, 15},\n",
    "};\n",
    "String[] dataHari = {\"Senin\", \"Selasa\", \"Rabu\", \"Kamis\", \"Jumat\"};\n",
    "String[] dataMenu = {\"Nasi Goreng\", \"Soto\", \"Sate\"};\n",
    "String hari, menu;\n",
    "int total;\n",
    "\n",
    "static void favorit() {\n",
    "    for(int i = 1; i < dataPenjualan[0].length; i += 3) {\n",
    "        int maks = 0;\n",
    "        for(int j = 0; j < dataPenjualan.length; j++) {\n",
    "            if (dataJual[j][i] > maks){\n",
    "                maks = dataPenjualan[j][i];\n",
    "                hari = dataHari[i];\n",
    "                menu = dataMenu[j];\n",
    "            }           \n",
    "        }\n",
    "        System.out.println(\"Menu favorit pada hari \" + hari + \" adalah \" + menu );\n",
    "    }\n",
    "}\n",
    "\n",
    "static void pemasukan() {\n",
    "    for(int i = 0; i < dataPenjualan.length; i++) {\n",
    "        int totalPenjualan = 0, totalHarga = 0;\n",
    "        for(int j = 0; j < dataPenjualan[0].length; j++) {\n",
    "            totalPenjualan += dataPenjualan[i][j];\n",
    "            if(i == 0) {\n",
    "                totalHarga = totalPenjualan * 20000;\n",
    "            } else if(i == 1) {\n",
    "                totalHarga = totalPenjualan * 15000;\n",
    "            } else {\n",
    "                totalHarga = totalPenjualan * 25000;\n",
    "            }\n",
    "        }\n",
    "        total += totalHarga;\n",
    "    }\n",
    "    System.out.println(\"Total pemasukan mulai hari Senin sampai Jumat adalah Rp \" + total);\n",
    "}\n",
    "\n",
    "static void penjualan() {\n",
    "    for(int i = 0; i < dataPenjualan.length; i++) {\n",
    "        int totalPenjualan = 0, totalHarga = 0;\n",
    "        for(int j = 0; j < dataPenjualan[0].length; j++) {\n",
    "            totalPenjualan += dataPenjualan[i][j];\n",
    "        }\n",
    "        menu = dataMenu[i];\n",
    "        System.out.println(\"Banyak \" + menu + \" yang terjual adalah: \" + totalPenjualan + \" porsi\");\n",
    "    }\n",
    "}\n",
    "\n",
    "favorit();\n",
    "pemasukan();\n",
    "penjualan();"
   ]
  }
 ],
 "metadata": {
  "kernelspec": {
   "display_name": "Java",
   "language": "java",
   "name": "java"
  },
  "language_info": {
   "codemirror_mode": "java",
   "file_extension": ".jshell",
   "mimetype": "text/x-java-source",
   "name": "Java",
   "pygments_lexer": "java",
   "version": "11.0.12+8-LTS-237"
  }
 },
 "nbformat": 4,
 "nbformat_minor": 4
}
