{
 "cells": [
  {
   "cell_type": "markdown",
   "metadata": {},
   "source": [
    "### NIM : 2131710046\n",
    "### NAMA : SABILA NADIA ISLAMIA\n",
    "\n",
    "# JOBSHEET 13. Fungsi 1"
   ]
  },
  {
   "cell_type": "markdown",
   "metadata": {},
   "source": [
    "## Tujuan\n",
    "* Mahasiswa mampu memahami penggunaan fungsi static pada Java dengan parameter dan mengembalikan nilai.\n",
    "* Mahasiswa mampu membuat program menggunakan fungsi static dan mengeksekusi fungsi tersebut.\n"
   ]
  },
  {
   "cell_type": "markdown",
   "metadata": {},
   "source": [
    "## Alat dan Bahan\n",
    "* PC/Laptop\n",
    "* Browser\n",
    "* Koneksi internet\n",
    "* Anaconda3 + Java kernel (opsional)"
   ]
  },
  {
   "cell_type": "markdown",
   "metadata": {},
   "source": [
    "## Praktikum"
   ]
  },
  {
   "cell_type": "markdown",
   "metadata": {},
   "source": [
    "### Percobaan 1: Fungsi Void (tidak menggunakan return value)\n",
    "\n",
    "1.\tBuat fungsi **beriSalam** bertipe void yang digunakan untuk mencetak **“Halo! Selamat Pagi”**.\n",
    "![Gambar 1](images/1.1.png)"
   ]
  },
  {
   "cell_type": "markdown",
   "metadata": {},
   "source": [
    "2. Eksekusi atau panggil fungsi **beriSalam**.\n",
    "![Gambar 2](images/1.2.png)"
   ]
  },
  {
   "cell_type": "code",
   "execution_count": 2,
   "metadata": {},
   "outputs": [
    {
     "name": "stdout",
     "output_type": "stream",
     "text": [
      "Halo! Selamat Pagi\n"
     ]
    }
   ],
   "source": [
    "// Tuliskan kode program Percobaan 1 Langkah 1 & 2\n",
    "\n",
    "// Langkah 1 (Membuat fungsi)\n",
    "static void beriSalam(){\n",
    "    System.out.println(\"Halo! Selamat Pagi\");\n",
    "}\n",
    "\n",
    "// Langkah 2 (Memmanggil fungsi)\n",
    "static void beriSalam(){\n",
    "    System.out.println(\"Halo! Selamat Pagi\");\n",
    "}\n",
    "beriSalam();"
   ]
  },
  {
   "cell_type": "markdown",
   "metadata": {},
   "source": [
    "3. Buat fungsi **beriUcapan** dengan sebuah parameter bertipe String.\n",
    "![Gambar 3](images/1.3.png)"
   ]
  },
  {
   "cell_type": "markdown",
   "metadata": {},
   "source": [
    "4. Buatlah variabel **salam** bertipe String kemudian eksekusi atau panggil fungsi **beriUcapan** dengan mengisi parameternya dengan variable **salam** yang sudah dibuat.\n",
    "![Gambar 3](images/1.4.png)"
   ]
  },
  {
   "cell_type": "code",
   "execution_count": 3,
   "metadata": {},
   "outputs": [
    {
     "name": "stdout",
     "output_type": "stream",
     "text": [
      "Halo! Selamat Pagi\n",
      "Halo! Selamat Pagi\n",
      "Halo! Selamat Pagi\n",
      "Selamat datang di pemrograman java\n"
     ]
    }
   ],
   "source": [
    "// Tuliskan kode program Percobaan 1 Langkah 1, 2, 3 & 4\n",
    "\n",
    "// Langkah 1 (Membuat fungsi)\n",
    "static void beriSalam(){\n",
    "    System.out.println(\"Halo! Selamat Pagi\");\n",
    "}\n",
    "\n",
    "// Langkah 2 (Memanggil fungsi)\n",
    "static void beriSalam(){\n",
    "    System.out.println(\"Halo! Selamat Pagi\");\n",
    "}\n",
    "beriSalam();\n",
    "\n",
    "// Langkah 3 (Membuat fungsi baru dengan sebuah parameter String)\n",
    "static void beriSalam(){\n",
    "    System.out.println(\"Halo! Selamat Pagi\");\n",
    "}\n",
    "static void beriUcapan(String ucapan){\n",
    "    System.out.println(ucapan);\n",
    "}\n",
    "beriSalam();\n",
    "\n",
    "/* Langkah 4 (Membuat variabel salam bertipe data String, lalu memanggil fungsi beriUcapan dengan mengisi parameternya dengan\n",
    "variabel salam) */\n",
    "static void beriSalam(){\n",
    "    System.out.println(\"Halo! Selamat Pagi\");\n",
    "}\n",
    "static void beriUcapan(String ucapan){\n",
    "    System.out.println(ucapan);\n",
    "}\n",
    "beriSalam();\n",
    "String salam = \"Selamat datang di pemrograman java\";\n",
    "beriUcapan(salam);"
   ]
  },
  {
   "cell_type": "markdown",
   "metadata": {},
   "source": [
    "#### Pertanyaan\n",
    "1. Jelaskan perbedaan fungsi **beriSalam** dan **beriUcapan** pada praktikum 1!\n",
    "\n",
    "Jawab : \n",
    "Fungsi beriSalam merupakan fungsi void sederhana yang tidak dinamis, karena fungsi tersebut hanya bisa mengeksekusi dan tidak dapat melakukan perubahan dalam outputnya. Fungsi beriUcapan merupakan fungsi void dengan parameter, fungsi tersebut merupakan fungsi dinamis yang dapat menampilkan output yang berbeda-beda sesuai dengan input dan variabel yang diberikan. "
   ]
  },
  {
   "cell_type": "markdown",
   "metadata": {},
   "source": [
    "2. Jelaskan cara pemanggilan sebuah fungsi void yang berparameter dan tanpa parameter!\n",
    "\n",
    "Jawab : Untuk pemanggilan fungsi void tanpa parameter cukup memanggil namaFungsi di ikuti dengan kurung buka dan tutup yang bernilai kosong. Sedangkan untuk pemanggilan fungsi void berparameter setelah mengetikkan namaFungsi diikuti dengan kurung buka tutp yang berisi nama variabel inputan parameter. "
   ]
  },
  {
   "cell_type": "markdown",
   "metadata": {},
   "source": [
    "### Percobaan 2: Fungsi dengan return value (Bukan void)\n",
    "Pada Percobaan 2, kode program yang dibuat digunakan untuk menghitung luas persegi dengan membuat fungsi **luasPersegi** yang menggunakan parameter.\n",
    "1. Buat fungsi **luasPersegi**  untuk menghitung luas persegi yang mengembalikan nilai luas (int) dan parameter masukan sisi (int).\n",
    "![Gambar 4](images/2.1.png)"
   ]
  },
  {
   "cell_type": "markdown",
   "metadata": {},
   "source": [
    "2.\tEksekusi atau panggil fungsi luasPersegi dengan cara membuat variabel baru yaitu **luasan**, kemudian isi variabel tersebut dengan memanggil fungsi luasPersegi dan mengisi parameter sisi. Selanjutnya cetak variabel luasan untuk menampilkan luas persegi panjang\n",
    "![Gambar 5](images/2.2.png)"
   ]
  },
  {
   "cell_type": "code",
   "execution_count": 4,
   "metadata": {},
   "outputs": [
    {
     "name": "stdout",
     "output_type": "stream",
     "text": [
      "Luas Persegi dengan sisi 5 = 25\n"
     ]
    }
   ],
   "source": [
    "// Tuliskan kode program Percobaan 2 Langkah 1 & 2\n",
    "\n",
    "// Langkah 1 (Membuat fungsi)\n",
    "static int luasPersegi(int sisi){\n",
    "    int luas = sisi * sisi; \n",
    "    return luas; \n",
    "}\n",
    "\n",
    "// Langkah 2 (Memanggil Fungsi)\n",
    "static int luasPersegi(int sisi){\n",
    "    int luas = sisi * sisi; \n",
    "    return luas; \n",
    "}\n",
    "int luasan = luasPersegi(5);\n",
    "System.out.println(\"Luas Persegi dengan sisi 5 = \" + luasan);"
   ]
  },
  {
   "cell_type": "markdown",
   "metadata": {},
   "source": [
    "#### Pertanyaan\n",
    "1. Jelaskan mengapa ketika memanggil fungsi **luasPersegi** harus membuat variabel baru yaitu luasan?\n",
    "\n",
    "Jawab : Fungsi memerlukan parameter ketika fungsi tersebut membutuhkan data yang asalnya dari luar fungsi untuk di olah dalam fungsi. Sebaliknya, data yang diolah didalam fungsi membutuhkan wadah (variabel) agar data tersebut dapat ditampilkan di luar fungsi. "
   ]
  },
  {
   "cell_type": "markdown",
   "metadata": {},
   "source": [
    "2. Jelaskan kegunaan **return luas** pada percobaan 2 diatas!\n",
    "\n",
    "Jawab : return digunakan untuk menampung nilai dan mengirim nilai hasil kalkulasi ke luar fungsi."
   ]
  },
  {
   "cell_type": "markdown",
   "metadata": {},
   "source": [
    "3. Modifikasilah program di percobaan 2, dengan membuat panjang **sisi** sebagai inputan!"
   ]
  },
  {
   "cell_type": "code",
   "execution_count": 8,
   "metadata": {},
   "outputs": [
    {
     "name": "stdout",
     "output_type": "stream",
     "text": [
      "Masukkan panjang sisi : 10\n",
      "Luas Persegi dengan sisi 10 = 100\n"
     ]
    }
   ],
   "source": [
    "// Tuliskan jawaban nomor 2\n",
    "\n",
    "import java.util.Scanner; \n",
    "Scanner input = new Scanner(System.in); \n",
    "\n",
    "static int luasPersegi(int sisi){\n",
    "    int luas = sisi * sisi; \n",
    "    return luas; \n",
    "}\n",
    "\n",
    "static int luasPersegi(int sisi){\n",
    "    int luas = sisi * sisi; \n",
    "    return luas; \n",
    "}\n",
    "\n",
    "System.out.print(\"Masukkan panjang sisi : \");\n",
    "int sisi = input.nextInt();\n",
    "\n",
    "int luasan = luasPersegi(sisi);\n",
    "System.out.println(\"Luas Persegi dengan sisi \" + sisi + \" = \" + luasan);"
   ]
  },
  {
   "cell_type": "markdown",
   "metadata": {},
   "source": [
    "### Percobaan 3: Fungsi dapat meng-CALL Fungsi Lain\n",
    "Pada Percobaan 3, kode program yang dibuat digunakan untuk mengimplementasikan bahwa fungsi dapat meng-CALL fungsi yang lain. Dimana dalam percobaan ini terdapat fungsi **Kali dan Kurang**. \n",
    "1. Buatlah fungsi **Kali** yang mengembalikan nilai H (int) dan parameter masukan C dan D (int).\n",
    "![Gambar 9](images/3.1.png)"
   ]
  },
  {
   "cell_type": "markdown",
   "metadata": {},
   "source": [
    "2.\tBuatlah fungsi **Kurang** yang mengembalikan nilai X (int) dan parameter masukan A dan B (int) dan memanggil fungsi Kali.\n",
    "![Gambar 10](images/3.2.png)"
   ]
  },
  {
   "cell_type": "markdown",
   "metadata": {},
   "source": [
    "3. Lakukan import class Scanner sebagai inputan di langkah selajutnya."
   ]
  },
  {
   "cell_type": "markdown",
   "metadata": {},
   "source": [
    "4. Eksekusi atau panggil fungsi **Kurang** .\n",
    "![Gambar 11](images/3.4.png)"
   ]
  },
  {
   "cell_type": "code",
   "execution_count": 10,
   "metadata": {},
   "outputs": [
    {
     "name": "stdout",
     "output_type": "stream",
     "text": [
      "Masukkan Nilai 1 : 10\n",
      "Masukkan Nilai 2 : 5\n",
      "Hasil akhir adalah 10\n"
     ]
    }
   ],
   "source": [
    "// Tuliskan kode program Percobaan 3 Langkah 1, 2, 3 & 4\n",
    "\n",
    "import java.util.Scanner;\n",
    "Scanner input = new Scanner(System.in);\n",
    "\n",
    "// Langkah 1\n",
    "static int Kali(int C, int D){\n",
    "    int H; \n",
    "    H = (C + 10) % (D + 19);\n",
    "    return H; \n",
    "}\n",
    "\n",
    "// Langkah 2\n",
    "static int Kurang(int A, int B){\n",
    "    int X; \n",
    "    A = A + 7; \n",
    "    B = B + 4; \n",
    "    X = Kali(A, B); \n",
    "    return X; \n",
    "}\n",
    "\n",
    "// Langkah 3 (Melakukan import class Scanner) \n",
    "\n",
    "// Langkah 4 \n",
    "int nilai1, nilai2; \n",
    "System.out.print(\"Masukkan Nilai 1 : \");\n",
    "nilai1 = input.nextInt();\n",
    "System.out.print(\"Masukkan Nilai 2 : \");\n",
    "nilai2 = input.nextInt();\n",
    "int hasil = Kurang(nilai1, nilai2);\n",
    "System.out.println(\"Hasil akhir adalah \" + hasil); "
   ]
  },
  {
   "cell_type": "markdown",
   "metadata": {},
   "source": [
    "#### Pertanyaan\n",
    "1. Modifikasilah percobaan diatas dimana di fungsi **Kali** dapat memanggil fungsi **Kurang** kemudian eksekusi atau panggil fungsi Kali"
   ]
  },
  {
   "cell_type": "code",
   "execution_count": 10,
   "metadata": {},
   "outputs": [
    {
     "name": "stdout",
     "output_type": "stream",
     "text": [
      "Masukan Nilai 1: 10\n",
      "Masukan Nilai 2: 5\n",
      "Hasil akhir adalah 27\n"
     ]
    }
   ],
   "source": [
    "// Tuliskan jawaban nomor 1\n",
    "\n",
    "import java.util.Scanner; \n",
    "Scanner input = new Scanner(System.in); \n",
    "\n",
    "static int Kali(int C , int D){\n",
    "    int H;\n",
    "    C = C + 10;\n",
    "    D = D + 19;\n",
    "    H = Kurang(C,D);\n",
    "    return H;\n",
    "}\n",
    "static int Kurang(int A, int B){\n",
    "    int X;\n",
    "    X = (A + 7) % (B + 4);\n",
    "    return X;\n",
    "}\n",
    "\n",
    "\n",
    "import java.util.Scanner;\n",
    "\n",
    "int nilai1,nilai2;\n",
    "Scanner input = new Scanner(System.in);\n",
    "System.out.print(\"Masukan Nilai 1: \");\n",
    "nilai1 = input.nextInt();\n",
    "System.out.print(\"Masukan Nilai 2: \");\n",
    "nilai2 = input.nextInt();\n",
    "int hasil = Kali(nilai1 , nilai2);\n",
    "System.out.println(\"Hasil akhir adalah \" + hasil);"
   ]
  },
  {
   "cell_type": "markdown",
   "metadata": {},
   "source": [
    "2. Jelaskan alur jalannya program di percobaan 3 mulai dari input sampai keluar output!\n",
    "\n",
    "Jawab : Terdapat sebuah deklarasi sebuah variabel bernama nilai1 dan nilai2 bertipe data integer. Lalu membuat data input dari inputan user untuk variabel nilai1 dan nilai2. Setelah itu membuat variabel hasil bertipe data integer yang memanggil fungsi Kurang dengan parameter (nilai1, nilai2). Masuk pemrosesan pada fungsi Kurang. Parameter diubah menjadi (int A, int B). Dimana nilai1 menjadi A, dan nilai2 menjadi B. Masuk ke proses aritmatika pada fungsi Kurang. A+7 dan B+4, selanjutnya terdapat variabel baru yaitu X bertipe data integer yang memanggil fungsi Kali dengan parameter (A,B). Proses selanjutnya berada pada fungsi Kali, parameter diubah dimana A menjadi C dan B menjadi D. Masuk pada proses aritmatika yaitu sebuah variabel H bertipe data integer yang menampung proses perhitungan H = (C + 10) % (D + 19);\n",
    "\n",
    "Proses perhitungan selesai dan fungsi Kurang dipanggil. \n",
    "\n",
    "int hasil = Kurang(nilai1, nilai2);\n",
    "System.out.println(\"Hasil akhir adalah \" + hasil); \n",
    "\n",
    "\n",
    "\n",
    "X = Kali(A, B); \n",
    "return X;\n",
    "\n",
    "Perhitungan berakhir, variabel X menampung hasil perhitungan dari fungsi Kali. Dan return X mengindikasikan proses perhitungan terakhir yang disimpan adalah hasil dari perhitungan fungsi Kali. Terakhir, pada variabel hasil, parameter diubah kembali dari A menjadi nilai1 dan B menjadi nilai2. Lalu hasil ditamplkan. "
   ]
  },
  {
   "cell_type": "markdown",
   "metadata": {},
   "source": [
    "### Percobaan 4: Mengubah Program Tidak Menggunakan Fungsi dan Menggunakan Fungsi\n",
    "Pada Percobaan 4, kode program yang dibuat digunakan untuk menghitung luas persegi panjang dan volume balok tanpa menggunakan fungsi dan dengan menggunakan fungsi.\n",
    "1. Import dan deklarasikan Scanner dengan nama **input**\n",
    "![Gambar 9](images/4.1.png)"
   ]
  },
  {
   "cell_type": "markdown",
   "metadata": {},
   "source": [
    "2. Buatlah inputan panjang, lebar, dan tinggi \n",
    "![Gambar 10](images/4.2.png)"
   ]
  },
  {
   "cell_type": "markdown",
   "metadata": {},
   "source": [
    "3. Hitung luas persegi panjang dan volume balok\n",
    "![Gambar 10](images/4.3.png)"
   ]
  },
  {
   "cell_type": "code",
   "execution_count": 11,
   "metadata": {},
   "outputs": [
    {
     "name": "stdout",
     "output_type": "stream",
     "text": [
      "Masukkan panjang : 10\n",
      "Masukkan lebar : 5\n",
      "Masukkan tinggi : 3\n",
      "Luas Persegi panjang adalah 50\n",
      "Volume balok adalah 150\n"
     ]
    }
   ],
   "source": [
    "// Tuliskan kode program Percobaan 4 Langkah 1, 2, & 3\n",
    "\n",
    "// Langkah 1\n",
    "import java.util.Scanner;\n",
    "Scanner input = new Scanner(System.in);\n",
    "\n",
    "// Langkah 2\n",
    "int p, l, t, L, vol; \n",
    "\n",
    "System.out.print(\"Masukkan panjang : \");\n",
    "p = input.nextInt(); \n",
    "System.out.print(\"Masukkan lebar : \");\n",
    "l = input.nextInt();\n",
    "System.out.print(\"Masukkan tinggi : \");\n",
    "t = input.nextInt();\n",
    "\n",
    "// Langkah 3\n",
    "L = p * l; \n",
    "System.out.println(\"Luas Persegi panjang adalah \" + L);\n",
    "\n",
    "vol = p * l * t;\n",
    "System.out.println(\"Volume balok adalah \" + vol);"
   ]
  },
  {
   "cell_type": "markdown",
   "metadata": {},
   "source": [
    "4. Program menghitung luas persegi dan volume balok diatas jika dibuatkan fungsi maka terdapat 3 fungsi yaitu hitungLuas, hitungVolume dan fungsi main, seperti dibawah ini:\n",
    "\n",
    "Fungsi hitungLuas\n",
    "\n",
    "![Gambar 10](images/4.4Luas.png)\n",
    "\n",
    "Fungsi hitungVolume\n",
    "![Gambar 10](images/4.4Volume.png)\n",
    "\n"
   ]
  },
  {
   "cell_type": "markdown",
   "metadata": {},
   "source": [
    "5. Eksekusi/panggil fungsi **hitungLuas** dan **hitungVolume**\n",
    "\n",
    "![Gambar 10](images/4.5.png)"
   ]
  },
  {
   "cell_type": "code",
   "execution_count": 12,
   "metadata": {},
   "outputs": [
    {
     "name": "stdout",
     "output_type": "stream",
     "text": [
      "Masukkan panjang : 10\n",
      "Masukkan lebar : 5\n",
      "Masukkan tinggi : 3\n",
      "Luas persegi panjang adalah 50\n",
      "Volume balok adalah 150\n"
     ]
    }
   ],
   "source": [
    "// Tuliskan kode program Percobaan 4 Langkah 1, 2, & 3\n",
    "\n",
    "import java.util.Scanner;\n",
    "Scanner input = new Scanner(System.in); \n",
    "\n",
    "// Fungsi hitungLuas\n",
    "static int hitungLuas(int pjg, int lb){\n",
    "    int Luas = pjg * lb; \n",
    "    return Luas; \n",
    "}\n",
    "\n",
    "// Fungsi hitungVolume \n",
    "static int hitungVolume(int tinggi, int a, int b){\n",
    "    int volume = hitungLuas (a,b) * tinggi; \n",
    "    return volume; \n",
    "}\n",
    "\n",
    "// Eksekusi Fungsi\n",
    "int p, l, t, L, vol; \n",
    "System.out.print(\"Masukkan panjang : \");\n",
    "p = input.nextInt(); \n",
    "System.out.print(\"Masukkan lebar : \");\n",
    "l = input.nextInt();\n",
    "System.out.print(\"Masukkan tinggi : \");\n",
    "t = input.nextInt();\n",
    "\n",
    "L = hitungLuas(p, l); \n",
    "System.out.println(\"Luas persegi panjang adalah \" + L); \n",
    "vol = hitungVolume(t, p, l);\n",
    "System.out.println(\"Volume balok adalah \" + vol); "
   ]
  },
  {
   "cell_type": "markdown",
   "metadata": {},
   "source": [
    "#### Pertanyaan\n",
    "1. Jelaskan kegunaan parameter yang terdapat didalam fungsi hitungLuas dan hitungVolume!\n",
    "\n",
    "Jawab : Parameter tersebut digunakan untuk memasukkan data yang asalnya dari luar fungsi untuk di olah dalam fungsi. Untuk fungsi hitungLuas membutuhkan data panjang dan lebar, dan untuk fungsi hitungVolume membutuhkan data panjang, lebar, dan tinggi. Dimana data tersebut merupakan data yang di input oleh user dan berada di luar fungsi. "
   ]
  },
  {
   "cell_type": "markdown",
   "metadata": {},
   "source": [
    "2. Setelah melakukan percobaan 4, menurut anda manakah program yg lebih efisien apakah menggunakan fungsi atau tanpa fungsi? Jelaskan!\n",
    "\n",
    "Jawab : Program yang lebih efisien adalah program yang menggunakan fungsi, karena dengan menggunakan fungsi kita dapat mengkalkulasikan suatu program aritmatika dengan lebih terstruktur. Kesalahan dalam program dapat diketahui secara lebih cepat karena dapat mennjau dari bagian yang terdapat error tanpa harus mengecek keseluruhan program. Juga dengan menggunakan fungsi, program aritmatika dapat dijalankan dengan melibatkan fungsi sebelumnya jika cara perhitungan berhubungan satu sama lain dengan cara memanggil fungsi yang bersangkutan."
   ]
  },
  {
   "cell_type": "markdown",
   "metadata": {},
   "source": [
    "### Percobaan 5: Fungsi Menggunakan Array dan Variabel Global\n",
    "Pada Percobaan 5, kode program yang dibuat digunakan untuk menghitung total nilai yang ada didalam array dengan membuat 3 fungsi yaitu isiarray, hitTol, dan tampilArray.\n",
    "1. Buatlah **variable global total dan i** bertipe int\n",
    "![Gambar 9](images/5.1pertama.png)"
   ]
  },
  {
   "cell_type": "markdown",
   "metadata": {},
   "source": [
    "2. Buatlah fungsi **isiarray** bertipe int dengan parameter angka bertipe int \n",
    "\n",
    "![Gambar 10](images/5.1.png)"
   ]
  },
  {
   "cell_type": "markdown",
   "metadata": {},
   "source": [
    "3. Buatlah fungsi **tampilArray** bertipe **void** dengan parameter data array **arr** bertipe int\n",
    "\n",
    "![Gambar 10](images/5.2.png)"
   ]
  },
  {
   "cell_type": "markdown",
   "metadata": {},
   "source": [
    "4. Buatlah fungsi **hitTot** bertipe int dengan parameter data array **arr** bertipe int\n",
    "\n",
    "![Gambar 10](images/5.3.png)"
   ]
  },
  {
   "cell_type": "markdown",
   "metadata": {},
   "source": [
    "5. Import dan deklarasikan Scanner dengan nama **input**\n",
    "\n",
    "![Gambar 10](images/4.1.png)"
   ]
  },
  {
   "cell_type": "markdown",
   "metadata": {},
   "source": [
    "6. Eksekusi atau panggil ketiga fungsi yaitu **isiarray, tampilArray, dan hitTot**, kemudian jalankan program!\n",
    "\n",
    "![Gambar 10](images/5.6.png)"
   ]
  },
  {
   "cell_type": "code",
   "execution_count": 17,
   "metadata": {},
   "outputs": [
    {
     "name": "stdout",
     "output_type": "stream",
     "text": [
      "Masukkan jumlah data yang ingin Anda inputkan : 5\n",
      "Masukkan data ke- 0 : 1\n",
      "Masukkan data ke- 1 : 2\n",
      "Masukkan data ke- 2 : 3\n",
      "Masukkan data ke- 3 : 4\n",
      "Masukkan data ke- 4 : 5\n",
      "Nilai yang Anda inputkan ke- 0 : 1\n",
      "Nilai yang Anda inputkan ke- 1 : 2\n",
      "Nilai yang Anda inputkan ke- 2 : 3\n",
      "Nilai yang Anda inputkan ke- 3 : 4\n",
      "Nilai yang Anda inputkan ke- 4 : 5\n",
      "Total nilai = 15\n"
     ]
    }
   ],
   "source": [
    "// Tuliskan kode program Percobaan 4 Langkah 1 s/d 6\n",
    "\n",
    "import java.util.Scanner; \n",
    "\n",
    "// Langkah 1\n",
    "static int total = 0, i;\n",
    "\n",
    "// Langkah 2 \n",
    "static int[] isiarray(int angka){\n",
    "    Scanner input = new Scanner(System.in); \n",
    "    int array[] = new int[angka]; \n",
    "    for(i = 0; i < array.length; i++){\n",
    "        System.out.print(\"Masukkan data ke- \" + i + \" : \");\n",
    "        array[i] = input.nextInt(); \n",
    "    }\n",
    "    return array; \n",
    "}\n",
    "\n",
    "// Langkah 3\n",
    "static void tampilArray(int[] arr){\n",
    "    for(i = 0; i < arr.length; i++){\n",
    "       System.out.print(\"Nilai yang Anda inputkan ke- \" + i + \" : \");\n",
    "       System.out.println(arr[i]); \n",
    "    }\n",
    "}\n",
    "\n",
    "// Langkah 4 \n",
    "static int hitTot(int[] arr){\n",
    "    for(i = 0; i < arr.length; i++){\n",
    "        total += arr[i]; \n",
    "    }\n",
    "    return total; \n",
    "}\n",
    "\n",
    "// Langkah 5 membuat deklarasi Scanner dengan nama input \n",
    "\n",
    "// Langkah 6\n",
    "System.out.print(\"Masukkan jumlah data yang ingin Anda inputkan : \");\n",
    "int jum = input.nextInt();\n",
    "int[] dataArray = isiarray(jum); \n",
    "tampilArray(dataArray);\n",
    "total = hitTot(dataArray);\n",
    "System.out.println(\"Total nilai = \" + total); "
   ]
  },
  {
   "cell_type": "markdown",
   "metadata": {},
   "source": [
    "#### Pertanyaan\n",
    "1. Jelaskan mengapa fungsi tampil array dibuat bertipe void, sedangkan isiarray dan hitTot bertipe int!\n",
    "\n",
    "Jawab : Fungsi tampilarray dibuat bertipe void karena fungsi tersebut hanya digunakan untuk menampilkan nilai/ program. Sedangkan fungsi isiarray dan hitTot dibuat bertipe int sehingga terdapat return karena fungsi tersebut digunakan untuk melakukan pengoperasian nilai pada fungsi. "
   ]
  },
  {
   "cell_type": "markdown",
   "metadata": {},
   "source": [
    "2. Menurut pendapat anda apakah fugsi isiarray dan hitTot dapat diganti dengan tipe void? Jelaskan dan buktikan dengan program!"
   ]
  },
  {
   "cell_type": "code",
   "execution_count": 21,
   "metadata": {},
   "outputs": [
    {
     "ename": "CompilationException",
     "evalue": "",
     "output_type": "error",
     "traceback": [
      "\u001b[1m\u001b[30m|   \u001b[1m\u001b[30mstatic \u001b[0m\u001b[1m\u001b[30m\u001b[41mvoid\u001b[0m\u001b[1m\u001b[30m[] isiarray(int angka){\u001b[0m",
      "\u001b[1m\u001b[31millegal start of expression\u001b[0m",
      "",
      "\u001b[1m\u001b[30m|   \u001b[1m\u001b[30mstatic void\u001b[0m\u001b[1m\u001b[30m\u001b[41m\u001b[0m\u001b[1m\u001b[30m[] isiarray(int angka){\u001b[0m",
      "\u001b[1m\u001b[31m';' expected\u001b[0m",
      "",
      "\u001b[1m\u001b[30m|   \u001b[1m\u001b[30mstatic void[] isiarray(int \u001b[0m\u001b[1m\u001b[30m\u001b[41m\u001b[0m\u001b[1m\u001b[30mangka){\u001b[0m",
      "\u001b[1m\u001b[31m'.class' expected\u001b[0m",
      "",
      "\u001b[1m\u001b[30m|   \u001b[1m\u001b[30mstatic void[] isiarray(int angka\u001b[0m\u001b[1m\u001b[30m\u001b[41m\u001b[0m\u001b[1m\u001b[30m){\u001b[0m",
      "\u001b[1m\u001b[31m';' expected\u001b[0m",
      "",
      "\u001b[1m\u001b[30m|   \u001b[1m\u001b[30mstatic void[] isiarray(\u001b[0m\u001b[1m\u001b[30m\u001b[41mint \u001b[0m\u001b[1m\u001b[30mangka){\u001b[0m",
      "\u001b[1m\u001b[31munexpected type\u001b[0m",
      "\u001b[1m\u001b[31m  required: value\u001b[0m",
      "\u001b[1m\u001b[31m  found:    class\u001b[0m",
      "",
      "\u001b[1m\u001b[30m|   \u001b[1m\u001b[30m    int array[] = new int[\u001b[0m\u001b[1m\u001b[30m\u001b[41mangka\u001b[0m\u001b[1m\u001b[30m]; \u001b[0m",
      "\u001b[1m\u001b[31mcannot find symbol\u001b[0m",
      "\u001b[1m\u001b[31m  symbol:   variable angka\u001b[0m",
      "",
      "\u001b[1m\u001b[30m|   \u001b[1m\u001b[30m}\u001b[0m\u001b[1m\u001b[30m\u001b[41m\u001b[0m\u001b[1m\u001b[30m\u001b[0m",
      "\u001b[1m\u001b[31munreachable statement\u001b[0m",
      ""
     ]
    }
   ],
   "source": [
    "// Tuliskan jawaban nomor 2\n",
    "\n",
    "import java.util.Scanner; \n",
    "\n",
    "static int total = 0, i;\n",
    "\n",
    "static void[] isiarray(int angka){\n",
    "    Scanner input = new Scanner(System.in); \n",
    "    int array[] = new int[angka]; \n",
    "    for(i = 0; i < array.length; i++){\n",
    "        System.out.print(\"Masukkan data ke- \" + i + \" : \");\n",
    "        array[i] = input.nextInt(); \n",
    "    }\n",
    "    return array; \n",
    "}\n",
    "\n",
    "static void tampilArray(int[] arr){\n",
    "    for(i = 0; i < arr.length; i++){\n",
    "       System.out.print(\"Nilai yang Anda inputkan ke- \" + i + \" : \");\n",
    "       System.out.println(arr[i]); \n",
    "    }\n",
    "}\n",
    "\n",
    "static void hitTot(int[] arr){\n",
    "    for(i = 0; i < arr.length; i++){\n",
    "        total += arr[i]; \n",
    "    }\n",
    "    return total; \n",
    "}\n",
    "\n",
    "System.out.println(\"Masukkan jumlah data yang ingin Anda inputkan : \");\n",
    "int jum = input.nextInt();\n",
    "int[] dataArray = isiarray(jum); \n",
    "tampilArray(dataArray);\n",
    "total = hitTot(dataArray);\n",
    "System.out.println(\"Total nilai = \" + total); \n",
    "\n",
    "/*fungsi isiarray dan hitTot tidak dapat dibuat bertipe void karena fungsi tersebut digunakan untuk melakukan \n",
    "pengoperasian nilai pada fungsi, yang nantinya memerlukan return untuk kemudian diolah pada proses berikutnya."
   ]
  },
  {
   "cell_type": "markdown",
   "metadata": {},
   "source": [
    "## Tugas"
   ]
  },
  {
   "cell_type": "markdown",
   "metadata": {},
   "source": [
    "1. Buatlah sebuah static method yang bernama Max3(int bil1, int bil2, int bil3) yang menerima 3 buah parameter bilangan integer dan mengembalikan sebuah bilangan integer yang merupakan nilai maksimum diantara ketiga bilangan tersebut. "
   ]
  },
  {
   "cell_type": "code",
   "execution_count": 40,
   "metadata": {},
   "outputs": [
    {
     "name": "stdout",
     "output_type": "stream",
     "text": [
      "Masukkan bilangan 1 : 10\n",
      "Masukkan bilangan 2 : 20\n",
      "Masukkan bilangan 3 : 30\n",
      "\n",
      "Nilai maksimum diantara ketiga bilangan tersebut adalah 30\n"
     ]
    }
   ],
   "source": [
    "// Tuliskan jawaban nomor 1\n",
    "\n",
    "import java.util.Scanner;\n",
    "Scanner input = new Scanner(System.in); \n",
    "static int Max3(int bil1, int bil2, int bil3){\n",
    "int max = 0; \n",
    "    if(max < bil1){\n",
    "        max = bil1; \n",
    "    }\n",
    "    \n",
    "    if(max < bil2){\n",
    "        max = bil2; \n",
    "    }\n",
    "    \n",
    "    if(max < bil3){\n",
    "        max = bil3; \n",
    "    }\n",
    "    \n",
    "    return max; \n",
    "\n",
    "}\n",
    "System.out.print(\"Masukkan bilangan 1 : \");\n",
    "int bil1 = input.nextInt();\n",
    "System.out.print(\"Masukkan bilangan 2 : \");\n",
    "int bil2 = input.nextInt();\n",
    "System.out.print(\"Masukkan bilangan 3 : \");\n",
    "int bil3 = input.nextInt();\n",
    "System.out.println();\n",
    "System.out.println(\"Nilai maksimum diantara ketiga bilangan tersebut adalah \" + Max3(bil1, bil2, bil3));"
   ]
  },
  {
   "cell_type": "markdown",
   "metadata": {},
   "source": [
    "2. Disebuah restoran terdapat 3 menu yang dijual yaitu nasi goreng, soto, dan sate. Harga nasi goreng Rp. 20.000, soto Rp. 15.000, dan sate Rp. 25.000. Restoran tersebut buka dari hari senin sampai jumat. Berikut ini merupakan tabel pejualan perhari untuk masing-masing menu di restoran tersebut dari hari senin sampai jumat\n",
    "![Gambar 13](images/soal3.png)\n",
    "\n",
    "Buatlah Fungsi sebagai berikut:\n",
    " * Fungsi menampilkan menu favorit di hari selasa dan jumat (menu favorit diasumsikan adalah menu yang paling banyak terjual di hari tersebut)\n",
    " * Fungsi untuk menghitung pemasukan restoran tersebut mulai hari senin sampai jumat.\n",
    " * Fungsi untuk menghitung berapa porsi yang terjual untuk masing-masing menu yaitu nasi goreng, soto, dan sate mulai senin sampai jumat."
   ]
  },
  {
   "cell_type": "code",
   "execution_count": 36,
   "metadata": {},
   "outputs": [
    {
     "name": "stdout",
     "output_type": "stream",
     "text": [
      "=== Menampilkan menu favorit di hari Selasa dan Jumat ===\n",
      "* Menu favorit pada hari Selasa adalah Soto\n",
      "* Menu favorit pada hari Jumat adalah Nasi Goreng\n",
      "\n",
      "===Menghitung pemasukan restoran mulai hari Senin sampai Jumat===\n",
      "Total pemasukan dari hari Senin hingga hari Jumat adalah Rp8625000\n",
      "\n",
      "===Fungsi untuk menghitung berapa porsi yang terjual mulai hari Senin sampai Jumat===\n",
      "* Banyak Nasi Goreng yang terjual adalah: 164 porsi\n",
      "* Banyak Soto yang terjual adalah: 143 porsi\n",
      "* Banyak Sate yang terjual adalah: 128 porsi\n",
      "\n"
     ]
    }
   ],
   "source": [
    "// Tuliskan jawaban nomor 2\n",
    "\n",
    "// Program 1 : Fungsi menampilkan menu favorit di hari Selasa dan Jumat.\n",
    "String[] menu = {\"Nasi Goreng\", \"Soto\", \"Sate\"}; \n",
    "String[] hari = {\"Senin\", \"Selasa\", \"Rabu\", \"Kamis\", \"Jumat\"}; \n",
    "String _menu, _hari; \n",
    "int total; \n",
    "int[][] hargaMenu = {\n",
    "    {20, 15, 35, 24, 70},\n",
    "    {30, 40, 10, 28, 35},\n",
    "    {5, 10, 50, 48, 15}\n",
    "};\n",
    "\n",
    "static void favorit(){\n",
    "    for(int i = 1; i < hargaMenu[0].length; i += 3){\n",
    "        int maks = 0;\n",
    "        for(int j = 0; j < hargaMenu.length; j++){\n",
    "            if (hargaMenu[j][i] > maks){\n",
    "                maks = hargaMenu[j][i];\n",
    "                _menu = menu[j];\n",
    "                _hari = hari[i];\n",
    "            } \n",
    "        }\n",
    "        System.out.println(\"* Menu favorit pada hari \" + _hari + \" adalah \" + _menu );\n",
    "    }\n",
    "}\n",
    "\n",
    "// Program 2 : Fungsi untuk menghitung pemasukan restoran tersebut mulai hari Senin sampai Jumat.\n",
    "static void pemasukan(){\n",
    "    for(int i = 0; i < hargaMenu.length; i++){\n",
    "        int totalJual = 0, totalHarga = 0;\n",
    "        for(int j = 0; j < hargaMenu[0].length; j++){\n",
    "            totalJual += hargaMenu[i][j];\n",
    "            if(i == 0){\n",
    "                totalHarga = totalJual * 20000;\n",
    "            }else if(i == 1){\n",
    "                totalHarga = totalJual * 15000;\n",
    "            }else{\n",
    "                totalHarga = totalJual * 25000;\n",
    "            }\n",
    "        }\n",
    "        total += totalHarga;\n",
    "    }\n",
    "    System.out.println(\"Total pemasukan dari hari Senin hingga hari Jumat adalah Rp\" + total);\n",
    "}\n",
    "\n",
    "\n",
    "// Program 3 : Fungsi untuk menghitung berapa porsi yang terjual mulai hari Senin sampai Jumat. \n",
    "static void terjual(){\n",
    "    for(int i = 0; i < hargaMenu.length; i++){\n",
    "        int totalJual = 0, totalHarga = 0;\n",
    "        for(int j = 0; j < hargaMenu[0].length; j++){\n",
    "            totalJual += hargaMenu[i][j];\n",
    "        }\n",
    "        _menu = menu[i];\n",
    "        System.out.println(\"* Banyak \" + _menu + \" yang terjual adalah: \" + totalJual + \" porsi\");\n",
    "    }\n",
    "}\n",
    "System.out.println(\"=== Menampilkan menu favorit di hari Selasa dan Jumat ===\");\n",
    "favorit();\n",
    "System.out.println(); \n",
    "\n",
    "System.out.println(\"===Menghitung pemasukan restoran mulai hari Senin sampai Jumat===\");\n",
    "pemasukan();\n",
    "System.out.println(); \n",
    "\n",
    "System.out.println(\"===Fungsi untuk menghitung berapa porsi yang terjual mulai hari Senin sampai Jumat===\"); \n",
    "terjual(); \n",
    "System.out.println(); "
   ]
  }
 ],
 "metadata": {
  "kernelspec": {
   "display_name": "Java",
   "language": "java",
   "name": "java"
  },
  "language_info": {
   "codemirror_mode": "java",
   "file_extension": ".jshell",
   "mimetype": "text/x-java-source",
   "name": "Java",
   "pygments_lexer": "java",
   "version": "11.0.12+8-LTS-237"
  }
 },
 "nbformat": 4,
 "nbformat_minor": 4
}
