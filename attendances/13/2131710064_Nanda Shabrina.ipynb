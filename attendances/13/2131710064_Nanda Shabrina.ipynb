{
 "cells": [
  {
   "cell_type": "markdown",
   "metadata": {},
   "source": [
    "# NANDA SHABRINA PUTRI KURNIA\n",
    "# 15/MI-1E/2131710064\n",
    "\n",
    "#### JOBSHEET 13. Fungsi 1"
   ]
  },
  {
   "cell_type": "markdown",
   "metadata": {},
   "source": [
    "## Tujuan\n",
    "* Mahasiswa mampu memahami penggunaan fungsi static pada Java dengan parameter dan mengembalikan nilai.\n",
    "* Mahasiswa mampu membuat program menggunakan fungsi static dan mengeksekusi fungsi tersebut.\n"
   ]
  },
  {
   "cell_type": "markdown",
   "metadata": {},
   "source": [
    "## Alat dan Bahan\n",
    "* PC/Laptop\n",
    "* Browser\n",
    "* Koneksi internet\n",
    "* Anaconda3 + Java kernel (opsional)"
   ]
  },
  {
   "cell_type": "markdown",
   "metadata": {},
   "source": [
    "## Praktikum"
   ]
  },
  {
   "cell_type": "markdown",
   "metadata": {},
   "source": [
    "### Percobaan 1: Fungsi Void (tidak menggunakan return value)\n",
    "\n",
    "1.\tBuat fungsi **beriSalam** bertipe void yang digunakan untuk mencetak **“Halo! Selamat Pagi”**.\n",
    "![Gambar 1](images/1.1.png)"
   ]
  },
  {
   "cell_type": "markdown",
   "metadata": {},
   "source": [
    "2. Eksekusi atau panggil fungsi **beriSalam**.\n",
    "![Gambar 2](images/1.2.png)"
   ]
  },
  {
   "cell_type": "code",
   "execution_count": 1,
   "metadata": {},
   "outputs": [
    {
     "name": "stdout",
     "output_type": "stream",
     "text": [
      "Halo! Selamat Pagi\n"
     ]
    }
   ],
   "source": [
    "// Tuliskan kode program Percobaan 1 Langkah 1 & 2\n",
    "static void beriSalam(){\n",
    "    System.out.println(\"Halo! Selamat Pagi\");\n",
    "}\n",
    "\n",
    "beriSalam();"
   ]
  },
  {
   "cell_type": "markdown",
   "metadata": {},
   "source": [
    "3. Buat fungsi **beriUcapan** dengan sebuah parameter bertipe String.\n",
    "![Gambar 3](images/1.3.png)"
   ]
  },
  {
   "cell_type": "markdown",
   "metadata": {},
   "source": [
    "4. Buatlah variabel **salam** bertipe String kemudian eksekusi atau panggil fungsi **beriUcapan** dengan mengisi parameternya dengan variable **salam** yang sudah dibuat.\n",
    "![Gambar 3](images/1.4.png)"
   ]
  },
  {
   "cell_type": "code",
   "execution_count": 2,
   "metadata": {},
   "outputs": [
    {
     "name": "stdout",
     "output_type": "stream",
     "text": [
      "Halo! Selamat Pagi\n",
      "Selamat datang di pemrograman Java\n"
     ]
    }
   ],
   "source": [
    "// Tuliskan kode program Percobaan 1 Langkah 1, 2, 3 & 4\n",
    "static void beriSalam(){\n",
    "    System.out.println(\"Halo! Selamat Pagi\");\n",
    "}\n",
    "\n",
    "static void beriUcapan(String ucapan){\n",
    "    System.out.println(ucapan);\n",
    "}\n",
    "\n",
    "beriSalam();\n",
    "String salam = \"Selamat datang di pemrograman Java\";\n",
    "beriUcapan(salam);\n"
   ]
  },
  {
   "cell_type": "markdown",
   "metadata": {},
   "source": [
    "#### Pertanyaan\n",
    "1. Jelaskan perbedaan fungsi **beriSalam** dan **beriUcapan** pada praktikum 1!\n",
    "\n",
    "###### Jawaban Nomor 1\n",
    "Fungsi **beriSalam** merupakan fungsi tanpa menggunakan parameter, dengan output yang ditampilkan seperti pada source kode. Sedangkan fungsi **beriUcapan** merupakan fungsi dengan menggunakan parameter yakni ucapan yang bertipe data String. "
   ]
  },
  {
   "cell_type": "markdown",
   "metadata": {},
   "source": [
    "2. Jelaskan cara pemanggilan sebuah fungsi void yang berparameter dan tanpa parameter!\n",
    "\n",
    "###### Jawaban Nomor 2\n",
    "\n",
    "Cara pemanggilan fungsi tanpa parameter cukup dengan menuliskan **namaFungsi();** sedangkan pemanggilan fungsi dengan parameter, tuliskan **namaFungsi(nilai parameter);**."
   ]
  },
  {
   "cell_type": "markdown",
   "metadata": {},
   "source": [
    "### Percobaan 2: Fungsi dengan return value (Bukan void)\n",
    "Pada Percobaan 2, kode program yang dibuat digunakan untuk menghitung luas persegi dengan membuat fungsi **luasPersegi** yang menggunakan parameter.\n",
    "1. Buat fungsi **luasPersegi**  untuk menghitung luas persegi yang mengembalikan nilai luas (int) dan parameter masukan sisi (int).\n",
    "![Gambar 4](images/2.1.png)"
   ]
  },
  {
   "cell_type": "markdown",
   "metadata": {},
   "source": [
    "2.\tEksekusi atau panggil fungsi luasPersegi dengan cara membuat variabel baru yaitu **luasan**, kemudian isi variabel tersebut dengan memanggil fungsi luasPersegi dan mengisi parameter sisi. Selanjutnya cetak variabel luasan untuk menampilkan luas persegi panjang\n",
    "![Gambar 5](images/2.2.png)"
   ]
  },
  {
   "cell_type": "code",
   "execution_count": 3,
   "metadata": {},
   "outputs": [
    {
     "name": "stdout",
     "output_type": "stream",
     "text": [
      "Luas persegi dengan sisi 5 = 25\n"
     ]
    }
   ],
   "source": [
    "// Tuliskan kode program Percobaan 2 Langkah 1 & 2\n",
    "static int luasPersegi(int sisi){\n",
    "    int luas = sisi * sisi;\n",
    "    return luas;\n",
    "}\n",
    "\n",
    "int luasan = luasPersegi(5);\n",
    "System.out.println(\"Luas persegi dengan sisi 5 = \"+luasan);"
   ]
  },
  {
   "cell_type": "markdown",
   "metadata": {},
   "source": [
    "#### Pertanyaan\n",
    "1. jelaskan mengapa ketika memanggil fungsi **luasPersegi** harus membuat variabel baru yaitu luasan?\n",
    "\n",
    "###### Jawaban Nomor 1\n",
    "Untuk memanggil fungsi dan supaya dikenali dan mengakses fungsi tersebut."
   ]
  },
  {
   "cell_type": "markdown",
   "metadata": {},
   "source": [
    "2. Jelaskan kegunaan **return luas** pada percobaan 2 diatas!\n",
    "\n",
    "###### Jawaban Nomor 2\n",
    "Kegunaan **return luas** adalah untuk mengembalikan nilai pada fungsi sehingga dapat diolah pada proses berikutnya."
   ]
  },
  {
   "cell_type": "markdown",
   "metadata": {},
   "source": [
    "3. Modifikasilah program di percobaan 2, dengan membuat panjang **sisi** sebagai inputan!"
   ]
  },
  {
   "cell_type": "code",
   "execution_count": 4,
   "metadata": {},
   "outputs": [
    {
     "name": "stdout",
     "output_type": "stream",
     "text": [
      "Masukkan sisi: 3\n",
      "Luas persegi dengan sisi 3 adalah = 9\n"
     ]
    }
   ],
   "source": [
    "// Tuliskan jawaban nomor 2\n",
    "import java.util.Scanner;\n",
    "Scanner input = new Scanner(System.in);\n",
    "\n",
    "System.out.print(\"Masukkan sisi: \");\n",
    "int sisi = input.nextInt();\n",
    "\n",
    "static int luasPersegi(int sisi){\n",
    "    int luas = sisi * sisi;\n",
    "    return luas;\n",
    "}\n",
    "\n",
    "int luasan = luasPersegi(sisi);\n",
    "System.out.println(\"Luas persegi dengan sisi \" + sisi + \" adalah = \"+luasan);"
   ]
  },
  {
   "cell_type": "markdown",
   "metadata": {},
   "source": [
    "### Percobaan 3: Fungsi dapat meng-CALL Fungsi Lain\n",
    "Pada Percobaan 3, kode program yang dibuat digunakan untuk mengimplementasikan bahwa fungsi dapat meng-CALL fungsi yang lain. Dimana dalam percobaan ini terdapat fungsi **Kali dan Kurang**. \n",
    "1. Buatlah fungsi **Kali** yang mengembalikan nilai H (int) dan parameter masukan C dan D (int).\n",
    "![Gambar 9](images/3.1.png)"
   ]
  },
  {
   "cell_type": "markdown",
   "metadata": {},
   "source": [
    "2.\tBuatlah fungsi **Kurang** yang mengembalikan nilai X (int) dan parameter masukan A dan B (int) dan memanggil fungsi Kali.\n",
    "![Gambar 10](images/3.2.png)"
   ]
  },
  {
   "cell_type": "markdown",
   "metadata": {},
   "source": [
    "3. Lakukan import class Scanner sebagai inputan di langkah selajutnya."
   ]
  },
  {
   "cell_type": "markdown",
   "metadata": {},
   "source": [
    "4. Eksekusi atau panggil fungsi **Kurang** .\n",
    "![Gambar 11](images/3.4.png)"
   ]
  },
  {
   "cell_type": "code",
   "execution_count": 18,
   "metadata": {},
   "outputs": [
    {
     "name": "stdout",
     "output_type": "stream",
     "text": [
      "Masukkan nilai 1: \n",
      "3\n",
      "Masukkan nilai 2: \n",
      "4\n",
      "Hasil akhir adalah 20\n"
     ]
    }
   ],
   "source": [
    "// Tuliskan kode program Percobaan 3 Langkah 1, 2, 3 & 4\n",
    "static int Kali(int C, int D) {\n",
    "    int H;\n",
    "    H = (C + 10) % (D + 19);\n",
    "    return H;\n",
    "}\n",
    "\n",
    "static int Kurang(int A, int B) {\n",
    "    int X;\n",
    "    A = A + 7;\n",
    "    B = B + 4;\n",
    "    X = Kali(A, B);\n",
    "    return X;\n",
    "}\n",
    "\n",
    "import java.util.Scanner;\n",
    "Scanner input = new Scanner(System.in);\n",
    "\n",
    "int nilai1, nilai2;\n",
    "System.out.println(\"Masukkan nilai 1: \");\n",
    "nilai1 = input.nextInt();\n",
    "System.out.println(\"Masukkan nilai 2: \");\n",
    "nilai2 = input.nextInt();\n",
    "int hasil = Kurang(nilai1, nilai2);\n",
    "System.out.println(\"Hasil akhir adalah \"+hasil);"
   ]
  },
  {
   "cell_type": "markdown",
   "metadata": {},
   "source": [
    "#### Pertanyaan\n",
    "1. Modifikasilah percobaan diatas dimana di fungsi **Kali** dapat memanggil fungsi **Kurang** kemudian eksekusi atau panggil fungsi Kali"
   ]
  },
  {
   "cell_type": "code",
   "execution_count": 2,
   "metadata": {},
   "outputs": [
    {
     "name": "stdout",
     "output_type": "stream",
     "text": [
      "Masukkan nilai 1: \n",
      "10\n",
      "Masukkan nilai 2: \n",
      "11\n",
      "Hasil akhir adalah 27\n"
     ]
    }
   ],
   "source": [
    "// Tuliskan jawaban nomor 1\n",
    "static int Kali(int C, int D) {\n",
    "    int H;\n",
    "    C = C + 10; \n",
    "    D = D + 19;\n",
    "    H = Kurang(C, D);\n",
    "    return H;\n",
    "}\n",
    "\n",
    "static int Kurang(int A, int B) {\n",
    "    int X;\n",
    "    X = (A + 7) % (B + 4);\n",
    "    return X;\n",
    "}\n",
    "\n",
    "import java.util.Scanner;\n",
    "Scanner input = new Scanner(System.in);\n",
    "\n",
    "int nilai1, nilai2;\n",
    "System.out.println(\"Masukkan nilai 1: \");\n",
    "nilai1 = input.nextInt();\n",
    "System.out.println(\"Masukkan nilai 2: \");\n",
    "nilai2 = input.nextInt();\n",
    "int hasil = Kali(nilai1, nilai2);\n",
    "System.out.println(\"Hasil akhir adalah \"+hasil);"
   ]
  },
  {
   "cell_type": "markdown",
   "metadata": {},
   "source": [
    "2. Jelaskan alur jalannya program di percobaan 3 mulai dari input sampai keluar output!\n",
    "\n",
    "###### Jawaban Nomor 2\n",
    "\n",
    "a. Pertama, bilangan akan diinput melalui nilai1 dan nilai2 menggunakan inputan Scanner.\n",
    "\n",
    "b. Selanjutnya, bilangan tersebut akan diolah pada fungsi **Kurang**, di mana **(nilai1 + 7)** dan **(nilai2 + 4)**. Selanjutnya, kedua bilangan tersebut tersimpan dalam variabel **A dan B secara berurutan**. Lalu, kedua nilai A dan B tersebut diolah pada fungsi kali yang tersimpan di dalam fungsi kurang dengan variabel **X**.\n",
    "\n",
    "c. Pada saat bilangan A dan B diolah pada fungsi **Kali**, dilakukan eksekusi dengan **(A + 10) % (B + 19)**. Kemudian, bilangan hasil fungsi kali akan disimpan dalam integer **H**, yang mana nilai ini dipanggil pada fungsi kurang dan tersimpan dalam variabel **X**.\n",
    "\n",
    "d. Kemudian, fungsi akhir yakni kurang dipanggil untuk ditampilkan hasilnya melalui integer **hasil**."
   ]
  },
  {
   "cell_type": "markdown",
   "metadata": {},
   "source": [
    "### Percobaan 4: Mengubah Program Tidak Menggunakan Fungsi dan Menggunakan Fungsi\n",
    "Pada Percobaan 4, kode program yang dibuat digunakan untuk menghitung luas persegi panjang dan volume balok tanpa menggunakan fungsi dan dengan menggunakan fungsi.\n",
    "1. Import dan deklarasikan Scanner dengan nama **input**\n",
    "![Gambar 9](images/4.1.png)"
   ]
  },
  {
   "cell_type": "markdown",
   "metadata": {},
   "source": [
    "2. Buatlah inputan panjang, lebar, dan tinggi \n",
    "![Gambar 10](images/4.2.png)"
   ]
  },
  {
   "cell_type": "markdown",
   "metadata": {},
   "source": [
    "3. Hitung luas persegi panjang dan volume balok\n",
    "![Gambar 10](images/4.3.png)"
   ]
  },
  {
   "cell_type": "code",
   "execution_count": 7,
   "metadata": {},
   "outputs": [
    {
     "name": "stdout",
     "output_type": "stream",
     "text": [
      "Masukkan panjang: \n",
      "3\n",
      "Masukkan lebar: \n",
      "4\n",
      "Masukkan tinggi: \n",
      "5\n",
      "Luas persegi panjang adalah 12\n",
      "Volume balok adalah 60\n"
     ]
    }
   ],
   "source": [
    "// Tuliskan kode program Percobaan 4 Langkah 1, 2, & 3\n",
    "import java.util.Scanner;\n",
    "Scanner input = new Scanner(System.in);\n",
    "\n",
    "int p,l,t,L,vol;\n",
    "\n",
    "System.out.println(\"Masukkan panjang: \");\n",
    "p = input.nextInt();\n",
    "System.out.println(\"Masukkan lebar: \");\n",
    "l = input.nextInt();\n",
    "System.out.println(\"Masukkan tinggi: \");\n",
    "t = input.nextInt();\n",
    "\n",
    "L = p * l;\n",
    "System.out.println(\"Luas persegi panjang adalah \"+L);\n",
    "\n",
    "vol = p * l * t;\n",
    "System.out.println(\"Volume balok adalah \"+vol);"
   ]
  },
  {
   "cell_type": "markdown",
   "metadata": {},
   "source": [
    "4. Program menghitung luas persegi dan volume balok diatas jika dibuatkan fungsi maka terdapat 3 fungsi yaitu hitungLuas, hitungVolume dan fungsi main, seperti dibawah ini:\n",
    "\n",
    "Fungsi hitungLuas\n",
    "\n",
    "![Gambar 10](images/4.4Luas.png)\n",
    "\n",
    "Fungsi hitungVolume\n",
    "![Gambar 10](images/4.4Volume.png)\n",
    "\n"
   ]
  },
  {
   "cell_type": "markdown",
   "metadata": {},
   "source": [
    "5. Eksekusi/panggil fungsi **hitungLuas** dan **hitungVolume**\n",
    "\n",
    "![Gambar 10](images/4.5.png)"
   ]
  },
  {
   "cell_type": "code",
   "execution_count": 8,
   "metadata": {},
   "outputs": [
    {
     "name": "stdout",
     "output_type": "stream",
     "text": [
      "Masukkan panjang: \n",
      "3\n",
      "Masukkan lebar: \n",
      "4\n",
      "Masukkan tinggi: \n",
      "5\n",
      "Luas persegi panjang adalah 12\n",
      "Volume balok adalah 60\n"
     ]
    }
   ],
   "source": [
    "// Tuliskan kode program Percobaan 4 Langkah 1, 2, & 3\n",
    "import java.util.Scanner;\n",
    "Scanner input = new Scanner(System.in);\n",
    "\n",
    "static int hitungLuas(int pjg, int lb){\n",
    "    int Luas = pjg * lb;\n",
    "    return Luas;\n",
    "}\n",
    "\n",
    "static int hitungVolume(int tinggi, int a, int b){\n",
    "    int volume = hitungLuas(a, b)*tinggi;\n",
    "    return volume;\n",
    "}\n",
    "\n",
    "int p,l,t,L,vol;\n",
    "System.out.println(\"Masukkan panjang: \");\n",
    "p = input.nextInt();\n",
    "System.out.println(\"Masukkan lebar: \");\n",
    "l = input.nextInt();\n",
    "System.out.println(\"Masukkan tinggi: \");\n",
    "t = input.nextInt();\n",
    "\n",
    "L = hitungLuas(p, l);\n",
    "System.out.println(\"Luas persegi panjang adalah \"+L);\n",
    "\n",
    "vol = hitungVolume(t, p, l);\n",
    "System.out.println(\"Volume balok adalah \"+vol);"
   ]
  },
  {
   "cell_type": "markdown",
   "metadata": {},
   "source": [
    "#### Pertanyaan\n",
    "1. Jelaskan kegunaan parameter yang terdapat didalam fungsi hitungLuas dan hitungVolume!\n",
    "\n",
    "###### Jawaban Nomor 1\n",
    "Parameter pada fungsi **hitungLuas** merupakan **pjg dan lb** -> untuk mengalikan nilai pjg dan lb yang nantinya disimpan dalam variabel **Luas** . \n",
    "\n",
    "Parameter pada fungsi **hitungVolume** merupakan **tinggi, a, b** di mana a dan b nantinya akan dieksekusi menggunakan fungsi hitungLuas sebagai pjg dan lb, yang kemudian dikalikan dengan tinggi, selanjutnya, nilai akhir perhitungan tersebut disimpan dalam variabel **volume**."
   ]
  },
  {
   "cell_type": "markdown",
   "metadata": {},
   "source": [
    "2. Setelah melakukan percobaan 4, menurut anda manakah program yg lebih efisien apakah menggunakan fungsi atau tanpa fungsi? Jelaskan!\n",
    "\n",
    "###### Jawaban nomor 2\n",
    "Menurut saya, program yang lebih efisien ialah program menggunakan fungsi. Jika menggunakan program tanpa fungsi, maka untuk memanggil hasil perhitungan perlu mengetikkan ulang print dan juga mendeklarasikan ulang rumus perhitungan. Sedangkan jika menggunakan fungsi, dapat menghemat kode dengan hanya menuliskan sekali saja perhitungan kemudian jika ingin dipanggil kembali hanya perlu menuliskan nama fungsi dan parameternya. Sehingga hal ini memudahkan apabila perlu untuk memanggil jawaban perhitungan berkali-kali. Juga, dengan melakukan fungsi, apabila terdapat perhitungan dengan proses yang hampir sama, dapat dilakukan dengan melakukan fungsi di dalam fungsi sehingga menghemat perhitungan."
   ]
  },
  {
   "cell_type": "markdown",
   "metadata": {},
   "source": [
    "### Percobaan 5: Fungsi Menggunakan Array dan Variabel Global\n",
    "Pada Percobaan 5, kode program yang dibuat digunakan untuk menghitung total nilai yang ada didalam array dengan membuat 3 fungsi yaitu isiarray, hitTol, dan tampilArray.\n",
    "1. Buatlah **variable global total dan i** bertipe int\n",
    "![Gambar 9](images/5.1pertama.png)"
   ]
  },
  {
   "cell_type": "markdown",
   "metadata": {},
   "source": [
    "2. Buatlah fungsi **isiarray** bertipe int dengan parameter angka bertipe int \n",
    "\n",
    "![Gambar 10](images/5.1.png)"
   ]
  },
  {
   "cell_type": "markdown",
   "metadata": {},
   "source": [
    "3. Buatlah fungsi **tampilArray** bertipe **void** dengan parameter data array **arr** bertipe int\n",
    "\n",
    "![Gambar 10](images/5.2.png)"
   ]
  },
  {
   "cell_type": "markdown",
   "metadata": {},
   "source": [
    "4. Buatlah fungsi **hitTot** bertipe int dengan parameter data array **arr** bertipe int\n",
    "\n",
    "![Gambar 10](images/5.3.png)"
   ]
  },
  {
   "cell_type": "markdown",
   "metadata": {},
   "source": [
    "5. Import dan deklarasikan Scanner dengan nama **input**\n",
    "\n",
    "![Gambar 10](images/4.1.png)"
   ]
  },
  {
   "cell_type": "markdown",
   "metadata": {},
   "source": [
    "6. Eksekusi atau panggil ketiga fungsi yaitu **isiarray, tampilArray, dan hitTot**, kemudian jalankan program!\n",
    "\n",
    "![Gambar 10](images/5.6.png)"
   ]
  },
  {
   "cell_type": "code",
   "execution_count": 9,
   "metadata": {},
   "outputs": [
    {
     "name": "stdout",
     "output_type": "stream",
     "text": [
      "Masukkan jumlah data yang ingin anda inputkan: \n",
      "5\n",
      "Masukkan data ke-0 : \n",
      "1\n",
      "Masukkan data ke-1 : \n",
      "2\n",
      "Masukkan data ke-2 : \n",
      "3\n",
      "Masukkan data ke-3 : \n",
      "4\n",
      "Masukkan data ke-4 : \n",
      "5\n",
      "Nilai yang anda inputkan ke 0\n",
      "1\n",
      "Nilai yang anda inputkan ke 1\n",
      "2\n",
      "Nilai yang anda inputkan ke 2\n",
      "3\n",
      "Nilai yang anda inputkan ke 3\n",
      "4\n",
      "Nilai yang anda inputkan ke 4\n",
      "5\n",
      "Total nilai = 15\n"
     ]
    }
   ],
   "source": [
    "// Tuliskan kode program Percobaan 4 Langkah 1 s/d 6\n",
    "static int total = 0,i;\n",
    "static int [] isiarray (int angka) {\n",
    "    Scanner input = new Scanner(System.in);\n",
    "    int array[] = new int[angka];\n",
    "    for(i=0 ; i<array.length; i++) {\n",
    "        System.out.println(\"Masukkan data ke-\"+i+\" : \");\n",
    "        array[i] = input.nextInt();\n",
    "    }\n",
    "    return array;\n",
    "}\n",
    "\n",
    "static void tampilArray(int [] arr){\n",
    "    for(i=0 ; i<arr.length ; i++){\n",
    "        System.out.println(\"Nilai yang anda inputkan ke \"+i);\n",
    "        System.out.println(arr[i]);\n",
    "    }\n",
    "}\n",
    "\n",
    "static int hitTot(int [] arr){\n",
    "    for(i=0 ; i<arr.length ; i++){\n",
    "        total+=arr[i];\n",
    "    }\n",
    "    return total;\n",
    "}\n",
    "\n",
    "import java.util.Scanner;\n",
    "Scanner input = new Scanner(System.in);\n",
    "\n",
    "System.out.println(\"Masukkan jumlah data yang ingin anda inputkan: \");\n",
    "int jum = input.nextInt();\n",
    "int []dataArray = isiarray(jum);\n",
    "tampilArray(dataArray);\n",
    "total = hitTot(dataArray);\n",
    "System.out.println(\"Total nilai = \"+total);"
   ]
  },
  {
   "cell_type": "markdown",
   "metadata": {},
   "source": [
    "#### Pertanyaan\n",
    "1. Jelaskan mengapa fungsi tampil array dibuat bertipe void, sedangkan isiarray dan hitTot bertipe int!\n",
    "\n",
    "###### Jawaban Nomor 1\n",
    "Fungsi **tampilArray** bertipe void sebab bukan merupakan fungsi yang memerlukan perhitungan atau mengisikan nilai tertentu melainkan dapat memanggil fungsi lain dan tidak perlu mengembalikan nilai agar dapat diproses. Sedangkan fungsi **isiArray** dan **hitTot** berfungsi menjalankan suatu perintah untuk mengisikan nilai dan memproses suatu bilangan sehingga diperlukan fungsi bertipe integer, selain itu supaya dapat mengembalikan nilai pada fungsi supaya dapat diproses pada langkah selanjutnya, diperlukan return yang mana hal ini tidak bisa didapatkan jika menggunakan tipe void."
   ]
  },
  {
   "cell_type": "markdown",
   "metadata": {},
   "source": [
    "2. Menurut pendapat anda apakah fugsi isiarray dan hitTot dapat diganti dengan tipe void? Jelaskan dan buktikan dengan program!\n",
    "\n",
    "###### Jawaban Nomor 2\n",
    "Menurut saya, kedua fungsi tersebut tidak dapat digantikan dengan tipe void, sebab nilai yang dimasukkan pada fungsi ialah integer, sehingga fungsi haruslah tetap bertipe integer."
   ]
  },
  {
   "cell_type": "code",
   "execution_count": 14,
   "metadata": {},
   "outputs": [
    {
     "ename": "CompilationException",
     "evalue": "",
     "output_type": "error",
     "traceback": [
      "\u001b[1m\u001b[30m|   \u001b[1m\u001b[30mstatic \u001b[0m\u001b[1m\u001b[30m\u001b[41mvoid\u001b[0m\u001b[1m\u001b[30m [] isiarray (void angka) {\u001b[0m",
      "\u001b[1m\u001b[31millegal start of expression\u001b[0m",
      "",
      "\u001b[1m\u001b[30m|   \u001b[1m\u001b[30mstatic void\u001b[0m\u001b[1m\u001b[30m\u001b[41m\u001b[0m\u001b[1m\u001b[30m [] isiarray (void angka) {\u001b[0m",
      "\u001b[1m\u001b[31m';' expected\u001b[0m",
      "",
      "\u001b[1m\u001b[30m|   \u001b[1m\u001b[30mstatic void [] isiarray (\u001b[0m\u001b[1m\u001b[30m\u001b[41mvoid\u001b[0m\u001b[1m\u001b[30m angka) {\u001b[0m",
      "\u001b[1m\u001b[31millegal start of expression\u001b[0m",
      "",
      "\u001b[1m\u001b[30m|   \u001b[1m\u001b[30mstatic void [] isiarray (void\u001b[0m\u001b[1m\u001b[30m\u001b[41m\u001b[0m\u001b[1m\u001b[30m angka) {\u001b[0m",
      "\u001b[1m\u001b[31m')' expected\u001b[0m",
      "",
      "\u001b[1m\u001b[30m|   \u001b[1m\u001b[30mstatic void [] isiarray (void \u001b[0m\u001b[1m\u001b[30m\u001b[41mangka\u001b[0m\u001b[1m\u001b[30m) {\u001b[0m",
      "\u001b[1m\u001b[31mnot a statement\u001b[0m",
      "",
      "\u001b[1m\u001b[30m|   \u001b[1m\u001b[30mstatic void [] isiarray (void angka\u001b[0m\u001b[1m\u001b[30m\u001b[41m\u001b[0m\u001b[1m\u001b[30m) {\u001b[0m",
      "\u001b[1m\u001b[31m';' expected\u001b[0m",
      "",
      "\u001b[1m\u001b[30m|   \u001b[1m\u001b[30m    int array[] = new\u001b[0m\u001b[1m\u001b[30m\u001b[41m\u001b[0m\u001b[1m\u001b[30m void[angka];\u001b[0m",
      "\u001b[1m\u001b[31m<identifier> expected\u001b[0m",
      "",
      "\u001b[1m\u001b[30m|   \u001b[1m\u001b[30m    int array[] = new \u001b[0m\u001b[1m\u001b[30m\u001b[41m\u001b[0m\u001b[1m\u001b[30mvoid[angka];\u001b[0m",
      "\u001b[1m\u001b[31m'(' or '[' expected\u001b[0m",
      "",
      "\u001b[1m\u001b[30m|   \u001b[1m\u001b[30m    int array[] = new void\u001b[0m\u001b[1m\u001b[30m\u001b[41m\u001b[0m\u001b[1m\u001b[30m[angka];\u001b[0m",
      "\u001b[1m\u001b[31m';' expected\u001b[0m",
      "",
      "\u001b[1m\u001b[30m|   \u001b[1m\u001b[30m    int array[] = new void[\u001b[0m\u001b[1m\u001b[30m\u001b[41mangka\u001b[0m\u001b[1m\u001b[30m];\u001b[0m",
      "\u001b[1m\u001b[31mnot a statement\u001b[0m",
      "",
      "\u001b[1m\u001b[30m|   \u001b[1m\u001b[30m    int array[] = new void[angka\u001b[0m\u001b[1m\u001b[30m\u001b[41m\u001b[0m\u001b[1m\u001b[30m];\u001b[0m",
      "\u001b[1m\u001b[31m';' expected\u001b[0m",
      "",
      "\u001b[1m\u001b[30m|   \u001b[1m\u001b[30mstatic void [] \u001b[0m\u001b[1m\u001b[30m\u001b[41misiarray (void \u001b[0m\u001b[1m\u001b[30mangka) {\u001b[0m",
      "\u001b[1m\u001b[31munreachable statement\u001b[0m",
      "",
      "\u001b[1m\u001b[30m|   \u001b[1m\u001b[30m\u001b[0m\u001b[1m\u001b[30m\u001b[41m\u001b[0m",
      "\u001b[1m\u001b[30m|   \u001b[1m\u001b[30m\u001b[41mstatic void [] isiarray (void angka) {\u001b[0m",
      "\u001b[1m\u001b[30m|   \u001b[1m\u001b[30m\u001b[41m    Scanner input = new Scanner(System.in);\u001b[0m",
      "\u001b[1m\u001b[30m|   \u001b[1m\u001b[30m\u001b[41m    int array[] = new void[angka];\u001b[0m",
      "\u001b[1m\u001b[30m|   \u001b[1m\u001b[30m\u001b[41m    for(i=0 ; i<array.length; i++) {\u001b[0m",
      "\u001b[1m\u001b[30m|   \u001b[1m\u001b[30m\u001b[41m        System.out.println(\"Masukkan data ke-\"+i+\" : \");\u001b[0m",
      "\u001b[1m\u001b[30m|   \u001b[1m\u001b[30m\u001b[41m        array[i] = input.nextInt();\u001b[0m",
      "\u001b[1m\u001b[30m|   \u001b[1m\u001b[30m\u001b[41m    }\u001b[0m",
      "\u001b[1m\u001b[30m|   \u001b[1m\u001b[30m\u001b[41m}\u001b[0m",
      "\u001b[1m\u001b[31mmissing return statement\u001b[0m",
      ""
     ]
    }
   ],
   "source": [
    "// Tuliskan jawaban nomor 2\n",
    "static int total = 0,i;\n",
    "static void [] isiarray (void angka) {\n",
    "    Scanner input = new Scanner(System.in);\n",
    "    int array[] = new void[angka];\n",
    "    for(i=0 ; i<array.length; i++) {\n",
    "        System.out.println(\"Masukkan data ke-\"+i+\" : \");\n",
    "        array[i] = input.nextInt();\n",
    "    }\n",
    "}\n",
    "\n",
    "static void tampilArray(int [] arr){\n",
    "    for(i=0 ; i<arr.length ; i++){\n",
    "        System.out.println(\"Nilai yang anda inputkan ke \"+i);\n",
    "        System.out.println(arr[i]);\n",
    "    }\n",
    "}\n",
    "\n",
    "static void hitTot(int [] arr){\n",
    "    for(i=0 ; i<arr.length ; i++){\n",
    "        total+=arr[i];\n",
    "    }\n",
    "}\n",
    "\n",
    "import java.util.Scanner;\n",
    "Scanner input = new Scanner(System.in);\n",
    "\n",
    "System.out.println(\"Masukkan jumlah data yang ingin anda inputkan: \");\n",
    "int jum = input.nextInt();\n",
    "int []dataArray = isiarray(jum);\n",
    "tampilArray(dataArray);\n",
    "total = hitTot(dataArray);\n",
    "System.out.println(\"Total nilai = \"+total);"
   ]
  },
  {
   "cell_type": "markdown",
   "metadata": {},
   "source": [
    "## Tugas"
   ]
  },
  {
   "cell_type": "markdown",
   "metadata": {},
   "source": [
    "1. Buatlah sebuah static method yang bernama Max3(int bil1, int bil2, int bil3) yang menerima 3 buah parameter bilangan integer dan mengembalikan sebuah bilangan integer yang merupakan nilai maksimum diantara ketiga bilangan tersebut. "
   ]
  },
  {
   "cell_type": "code",
   "execution_count": 1,
   "metadata": {},
   "outputs": [
    {
     "name": "stdout",
     "output_type": "stream",
     "text": [
      "Masukkan bilangan 1 : 21\n",
      "Masukkan bilangan 2 : 23\n",
      "Masukkan bilangan 3 : 12\n",
      "Bilangan terbesar di antara ketiga bilangan tersebut adalah 23\n"
     ]
    }
   ],
   "source": [
    "// Tuliskan jawaban nomor 1\n",
    "import java.util.Scanner;\n",
    "Scanner input = new Scanner(System.in);\n",
    "int max, bil1, bil2, bil3; \n",
    "\n",
    "static int Max3(int bil1, int bil2, int bil3){\n",
    "    max = Math.max(bil1, bil2);\n",
    "    \n",
    "    if(bil3 > max){\n",
    "        max = bil3;\n",
    "    }\n",
    "    return max;\n",
    "}\n",
    "\n",
    "System.out.print(\"Masukkan bilangan 1 : \");\n",
    "bil1 = input.nextInt();\n",
    "System.out.print(\"Masukkan bilangan 2 : \");\n",
    "bil2 = input.nextInt();\n",
    "System.out.print(\"Masukkan bilangan 3 : \");\n",
    "bil3 = input.nextInt();\n",
    "max = Max3(bil1, bil2, bil3);\n",
    "System.out.println(\"Bilangan terbesar di antara ketiga bilangan tersebut adalah \"+max);"
   ]
  },
  {
   "cell_type": "markdown",
   "metadata": {},
   "source": [
    "2. Disebuah restoran terdapat 3 menu yang dijual yaitu nasi goreng, soto, dan sate. Harga nasi goreng Rp. 20.000, soto Rp. 15.000, dan sate Rp. 25.000. Restoran tersebut buka dari hari senin sampai jumat. Berikut ini merupakan tabel pejualan perhari untuk masing-masing menu di restoran tersebut dari hari senin sampai jumat\n",
    "![Gambar 13](images/soal3.png)\n",
    "\n",
    "Buatlah Fungsi sebagai berikut:\n",
    " * Fungsi menampilkan menu favorit di hari selasa dan jumat (menu favorit diasumsikan adalah menu yang paling banyak terjual di hari tersebut)\n",
    " * Fungsi untuk menghitung pemasukan restoran tersebut mulai hari senin sampai jumat.\n",
    " * Fungsi untuk menghitung berapa porsi yang terjual untuk masing-masing menu yaitu nasi goreng, soto, dan sate mulai senin sampai jumat."
   ]
  },
  {
   "cell_type": "code",
   "execution_count": 1,
   "metadata": {},
   "outputs": [
    {
     "name": "stdout",
     "output_type": "stream",
     "text": [
      "=======================Menu Favorit========================\n",
      "Menu favorit di hari Selasa adalah Soto\n",
      "Menu favorit di hari Jumat adalah Nasi Goreng\n",
      "\n",
      "=============Pemasukan Restoran(Senin - Jumat)=============\n",
      "Pemasukan dari menu Nasi Goreng = 1400000\n",
      "Pemasukan dari menu Soto        = 525000\n",
      "Pemasukan dari menu Sate        = 375000\n",
      "Pemasukan seluruh menu restoran (Senin-Jumat) = 2300000\n",
      "\n",
      "=============Banyaknya Porsi Menu Yang Terjual=============\n",
      "Banyaknya porsi Nasi Goreng yang terjual = 492\n",
      "Banyaknya porsi Soto yang terjual        = 429\n",
      "Banyaknya porsi Sate yang terjual        = 384\n"
     ]
    }
   ],
   "source": [
    "//tugas nomor 2//\n",
    "int min=0;\n",
    "String fav1, fav2;\n",
    "int pemasukanNasgor, pemasukanSoto, pemasukanSate, totalPemasukan, porsiNasgor, porsiSoto, porsiSate;\n",
    "\n",
    "String hari[] = {\"Senin\",\"Selasa\",\"Rabu\",\"Kamis\",\"Jumat\"};\n",
    "String menu[] = {\"Nasi Goreng\",\"Soto\",\"Sate\"};\n",
    "int porsi[][] = {\n",
    "        {20, 15, 35, 24, 70},\n",
    "        {30, 40, 10, 28, 35},\n",
    "        {5, 10, 50, 48, 15},\n",
    "};\n",
    "//fungsi menu favorit hari selasa dan jumat//\n",
    "static void favorit(){\n",
    "    for(int i=0 ; i<menu.length ; i++){\n",
    "        if(porsi[i][1]>min){\n",
    "            min = porsi[i][1];\n",
    "            fav1 = menu[i];\n",
    "        }\n",
    "    }\n",
    "    for(int i=0 ; i<menu.length ; i++){\n",
    "        if(porsi[i][4]>min){\n",
    "            min = porsi[i][4];\n",
    "            fav2 = menu[i];\n",
    "        }\n",
    "    }\n",
    "    System.out.println(\"Menu favorit di hari Selasa adalah \" + fav1);\n",
    "    System.out.println(\"Menu favorit di hari Jumat adalah \" + fav2);\n",
    "}\n",
    "\n",
    "//fungsi menghitung pemasukan restoran senin sampai jumat//\n",
    "static void pemasukan(){\n",
    "        for(int j=0 ; j<porsi[0].length ; j++){\n",
    "            pemasukanNasgor = porsi[0][j] * 20000;\n",
    "            pemasukanSoto = porsi[1][j] * 15000;\n",
    "            pemasukanSate = porsi[2][j] * 25000;\n",
    "            totalPemasukan = pemasukanNasgor + pemasukanSoto + pemasukanSate;\n",
    "        }\n",
    "    System.out.println(\"Pemasukan dari menu Nasi Goreng = \"+pemasukanNasgor);\n",
    "    System.out.println(\"Pemasukan dari menu Soto        = \"+pemasukanSoto);\n",
    "    System.out.println(\"Pemasukan dari menu Sate        = \"+pemasukanSate);\n",
    "    System.out.println(\"Pemasukan seluruh menu restoran (Senin-Jumat) = \" + totalPemasukan);\n",
    "}\n",
    "\n",
    "//fungsi menghitung banyaknya porsi yang terjual setiap harinya//\n",
    "static void banyaknyaPorsi(){\n",
    "    for(int i=0 ; i<porsi.length ; i++){\n",
    "        for(int j=0 ; j<porsi[0].length ; j++){\n",
    "        porsiNasgor += porsi[0][j];\n",
    "        porsiSoto += porsi[1][j];\n",
    "        porsiSate += porsi[2][j];     \n",
    "        } \n",
    "    }\n",
    "    System.out.println(\"Banyaknya porsi Nasi Goreng yang terjual = \"+porsiNasgor);\n",
    "    System.out.println(\"Banyaknya porsi Soto yang terjual        = \"+porsiSoto);\n",
    "    System.out.println(\"Banyaknya porsi Sate yang terjual        = \"+porsiSate);\n",
    "}\n",
    "\n",
    "System.out.println(\"=======================Menu Favorit========================\");\n",
    "favorit();\n",
    "System.out.println();\n",
    "System.out.println(\"=============Pemasukan Restoran(Senin - Jumat)=============\");\n",
    "pemasukan();\n",
    "System.out.println();\n",
    "System.out.println(\"=============Banyaknya Porsi Menu Yang Terjual=============\");\n",
    "banyaknyaPorsi();"
   ]
  }
 ],
 "metadata": {
  "kernelspec": {
   "display_name": "Java",
   "language": "java",
   "name": "java"
  },
  "language_info": {
   "codemirror_mode": "java",
   "file_extension": ".jshell",
   "mimetype": "text/x-java-source",
   "name": "Java",
   "pygments_lexer": "java",
   "version": "11.0.12+8-LTS-237"
  }
 },
 "nbformat": 4,
 "nbformat_minor": 4
}
