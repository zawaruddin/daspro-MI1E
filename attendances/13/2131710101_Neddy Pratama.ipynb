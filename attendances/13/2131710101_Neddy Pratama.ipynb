{
 "cells": [
  {
   "cell_type": "markdown",
   "metadata": {},
   "source": [
    "# JOBSHEET 13. Fungsi 1"
   ]
  },
  {
   "cell_type": "markdown",
   "metadata": {},
   "source": [
    "### NAMA : NEDDY PRATAMA WIRYAWAN\n",
    "### NIM : 2131710101\n",
    "\n",
    "## Tujuan\n",
    "* Mahasiswa mampu memahami penggunaan fungsi static pada Java dengan parameter dan mengembalikan nilai.\n",
    "* Mahasiswa mampu membuat program menggunakan fungsi static dan mengeksekusi fungsi tersebut.\n"
   ]
  },
  {
   "cell_type": "markdown",
   "metadata": {},
   "source": [
    "## Alat dan Bahan\n",
    "* PC/Laptop\n",
    "* Browser\n",
    "* Koneksi internet\n",
    "* Anaconda3 + Java kernel (opsional)"
   ]
  },
  {
   "cell_type": "markdown",
   "metadata": {},
   "source": [
    "## Praktikum"
   ]
  },
  {
   "cell_type": "markdown",
   "metadata": {},
   "source": [
    "### Percobaan 1: Fungsi Void (tidak menggunakan return value)\n",
    "\n",
    "1.\tBuat fungsi **beriSalam** bertipe void yang digunakan untuk mencetak **“Halo! Selamat Pagi”**.\n",
    "![Gambar 1](images/1.1.png)"
   ]
  },
  {
   "cell_type": "markdown",
   "metadata": {},
   "source": [
    "2. Eksekusi atau panggil fungsi **beriSalam**.\n",
    "![Gambar 2](images/1.2.png)"
   ]
  },
  {
   "cell_type": "code",
   "execution_count": 6,
   "metadata": {},
   "outputs": [
    {
     "name": "stdout",
     "output_type": "stream",
     "text": [
      "Halo! Selamat Pagi\n"
     ]
    }
   ],
   "source": [
    "// Tuliskan kode program Percobaan 1 Langkah 1 & 2\n",
    "static void beriSalam(){\n",
    "    System.out.println(\"Halo! Selamat Pagi\");\n",
    "}\n",
    "beriSalam();"
   ]
  },
  {
   "cell_type": "markdown",
   "metadata": {},
   "source": [
    "3. Buat fungsi **beriUcapan** dengan sebuah parameter bertipe String.\n",
    "![Gambar 3](images/1.3.png)"
   ]
  },
  {
   "cell_type": "markdown",
   "metadata": {},
   "source": [
    "4. Buatlah variabel **salam** bertipe String kemudian eksekusi atau panggil fungsi **beriUcapan** dengan mengisi parameternya dengan variable **salam** yang sudah dibuat.\n",
    "![Gambar 3](images/1.4.png)"
   ]
  },
  {
   "cell_type": "code",
   "execution_count": 4,
   "metadata": {},
   "outputs": [
    {
     "name": "stdout",
     "output_type": "stream",
     "text": [
      "Halo! Selamat Pagi\n",
      "Selamat datang di Pemrograman Java\n"
     ]
    }
   ],
   "source": [
    "// Tuliskan kode program Percobaan 1 Langkah 1, 2, 3 & 4\n",
    "static void beriSalam(){\n",
    "    System.out.println(\"Halo! Selamat Pagi\");\n",
    "}\n",
    "static void beriUcapan(String ucapan){\n",
    "    System.out.println(ucapan);\n",
    "}\n",
    "beriSalam();\n",
    "String salam = \"Selamat datang di Pemrograman Java\";\n",
    "beriUcapan(salam);"
   ]
  },
  {
   "cell_type": "markdown",
   "metadata": {},
   "source": [
    "#### Pertanyaan\n",
    "1. Jelaskan perbedaan fungsi **beriSalam** dan **beriUcapan** pada praktikum 1!\n",
    "#### Jawaban\n",
    "\n",
    "\"beriSalam\" adalah pemanggilan fungsi tanpa parameter.\n",
    "\n",
    "\"beriUcapan\" adalah pemanggilan fungsi dengan parameter."
   ]
  },
  {
   "cell_type": "markdown",
   "metadata": {},
   "source": [
    "2. Jelaskan cara pemanggilan sebuah fungsi void yang berparameter dan tanpa parameter!\n",
    "#### Jawaban\n",
    "\n",
    "a. tanpa parameter\n",
    "\n",
    "langsung deklarasi fungsi tersebut.\n",
    "\n",
    "b. dengan parameter\n",
    "\n",
    "beri nilai pada parameter lalu deklarasikan."
   ]
  },
  {
   "cell_type": "markdown",
   "metadata": {},
   "source": [
    "### Percobaan 2: Fungsi dengan return value (Bukan void)\n",
    "Pada Percobaan 2, kode program yang dibuat digunakan untuk menghitung luas persegi dengan membuat fungsi **luasPersegi** yang menggunakan parameter.\n",
    "1. Buat fungsi **luasPersegi**  untuk menghitung luas persegi yang mengembalikan nilai luas (int) dan parameter masukan sisi (int).\n",
    "![Gambar 4](images/2.1.png)"
   ]
  },
  {
   "cell_type": "markdown",
   "metadata": {},
   "source": [
    "2.\tEksekusi atau panggil fungsi luasPersegi dengan cara membuat variabel baru yaitu **luasan**, kemudian isi variabel tersebut dengan memanggil fungsi luasPersegi dan mengisi parameter sisi. Selanjutnya cetak variabel luasan untuk menampilkan luas persegi panjang\n",
    "![Gambar 5](images/2.2.png)"
   ]
  },
  {
   "cell_type": "code",
   "execution_count": 8,
   "metadata": {},
   "outputs": [
    {
     "name": "stdout",
     "output_type": "stream",
     "text": [
      "Luas Persegi dengan sisi 5 = 25\n"
     ]
    }
   ],
   "source": [
    "// Tuliskan kode program Percobaan 2 Langkah 1 & 2\n",
    "static int luasPersegi(int sisi) {\n",
    "    int luas = sisi * sisi;\n",
    "    return luas;\n",
    "}\n",
    "int luasan = luasPersegi(5);\n",
    "System.out.println(\"Luas Persegi dengan sisi 5 = \" + luasan);"
   ]
  },
  {
   "cell_type": "markdown",
   "metadata": {},
   "source": [
    "#### Pertanyaan\n",
    "1. jelaskan mengapa ketika memanggil fungsi **luasPersegi** harus membuat variabel baru yaitu luasan?\n",
    "\n",
    "untuk memasukkan parameter sisi persegi."
   ]
  },
  {
   "cell_type": "markdown",
   "metadata": {},
   "source": [
    "2. Jelaskan kegunaan **return luas** pada percobaan 2 diatas!\n",
    "\n",
    "untuk mengembalikan operasi ke variabel data luasan."
   ]
  },
  {
   "cell_type": "markdown",
   "metadata": {},
   "source": [
    "3. Modifikasilah program di percobaan 2, dengan membuat panjang **sisi** sebagai inputan!"
   ]
  },
  {
   "cell_type": "code",
   "execution_count": 38,
   "metadata": {},
   "outputs": [
    {
     "name": "stdout",
     "output_type": "stream",
     "text": [
      "Masukkan sisi persegi\n",
      "4\n",
      "Luas Persegi adalah 16\n"
     ]
    }
   ],
   "source": [
    "// Tuliskan jawaban nomor 3\n",
    "import java.util.Scanner;\n",
    "Scanner sc = new Scanner(System.in);\n",
    "static int luasPersegi(int sisi) {\n",
    "    int luas = sisi * sisi;\n",
    "    return luas;\n",
    "}\n",
    "System.out.println(\"Masukkan sisi persegi\");\n",
    "int angka = sc.nextInt();\n",
    "int luasan = luasPersegi(angka);\n",
    "System.out.println(\"Luas Persegi adalah \" + luasan);"
   ]
  },
  {
   "cell_type": "markdown",
   "metadata": {},
   "source": [
    "## Percobaan 3: Fungsi dapat meng-CALL Fungsi Lain\n",
    "Pada Percobaan 3, kode program yang dibuat digunakan untuk mengimplementasikan bahwa fungsi dapat meng-CALL fungsi yang lain. Dimana dalam percobaan ini terdapat fungsi **Kali dan Kurang**. \n",
    "1. Buatlah fungsi **Kali** yang mengembalikan nilai H (int) dan parameter masukan C dan D (int).\n",
    "![Gambar 9](images/3.1.png)"
   ]
  },
  {
   "cell_type": "markdown",
   "metadata": {},
   "source": [
    "2.\tBuatlah fungsi **Kurang** yang mengembalikan nilai X (int) dan parameter masukan A dan B (int) dan memanggil fungsi Kali.\n",
    "![Gambar 10](images/3.2.png)"
   ]
  },
  {
   "cell_type": "markdown",
   "metadata": {},
   "source": [
    "3. Lakukan import class Scanner sebagai inputan di langkah selajutnya."
   ]
  },
  {
   "cell_type": "markdown",
   "metadata": {},
   "source": [
    "4. Eksekusi atau panggil fungsi **Kurang** .\n",
    "![Gambar 11](images/3.4.png)"
   ]
  },
  {
   "cell_type": "code",
   "execution_count": 17,
   "metadata": {},
   "outputs": [
    {
     "name": "stdout",
     "output_type": "stream",
     "text": [
      "Masukkan Nilai 1: \n",
      "7\n",
      "Masukkan Nilai 2: \n",
      "1\n",
      "Hasil akhir adalah 0\n"
     ]
    }
   ],
   "source": [
    "// Tuliskan kode program Percobaan 3 Langkah 1, 2, 3 & 4\n",
    "static int kali(int c, int d) {\n",
    "    int h;\n",
    "    h = (c + 10) % (d + 19);\n",
    "    return h;\n",
    "}\n",
    "static int kurang(int a, int b) {\n",
    "    int x;\n",
    "    a = a + 7;\n",
    "    b = b + 4;\n",
    "    x = kali (a,b);\n",
    "    return x;\n",
    "}\n",
    "import java.util.Scanner;\n",
    "Scanner input = new Scanner (System.in);\n",
    "int nilai1, nilai2;\n",
    "System.out.println(\"Masukkan Nilai 1: \");\n",
    "nilai1 = input.nextInt();\n",
    "System.out.println(\"Masukkan Nilai 2: \");\n",
    "nilai2 = input.nextInt();\n",
    "int hasil = kurang(nilai1, nilai2);\n",
    "System.out.println(\"Hasil akhir adalah \" + hasil);"
   ]
  },
  {
   "cell_type": "markdown",
   "metadata": {},
   "source": [
    "#### Pertanyaan\n",
    "1. Modifikasilah percobaan diatas dimana di fungsi **Kali** dapat memanggil fungsi **Kurang** kemudian eksekusi atau panggil fungsi Kali"
   ]
  },
  {
   "cell_type": "code",
   "execution_count": 40,
   "metadata": {},
   "outputs": [
    {
     "name": "stdout",
     "output_type": "stream",
     "text": [
      "Masukkan Nilai 1: \n",
      "7\n",
      "Masukkan Nilai 2: \n",
      "1\n",
      "Hasil fungsi kali adalah 17\n",
      "Hasil akhir adalah 0\n"
     ]
    }
   ],
   "source": [
    "// Tuliskan jawaban nomor 1\n",
    "static int kali(int c, int d) {\n",
    "    int h;\n",
    "    h = (c + 10) % (d + 19);\n",
    "    return h;\n",
    "}\n",
    "static int kurang(int a, int b) {\n",
    "    int x;\n",
    "    a = a + 7;\n",
    "    b = b + 4;\n",
    "    x = kali (a,b);\n",
    "    return x;\n",
    "}\n",
    "import java.util.Scanner;\n",
    "Scanner input = new Scanner (System.in);\n",
    "int nilai1, nilai2;\n",
    "System.out.println(\"Masukkan Nilai 1: \");\n",
    "nilai1 = input.nextInt();\n",
    "System.out.println(\"Masukkan Nilai 2: \");\n",
    "nilai2 = input.nextInt();\n",
    "int hasil = kurang(nilai1, nilai2);\n",
    "int kal = kali(nilai1, nilai2);\n",
    "System.out.println(\"Hasil fungsi kali adalah \" + kal);\n",
    "System.out.println(\"Hasil akhir adalah \" + hasil);"
   ]
  },
  {
   "cell_type": "markdown",
   "metadata": {},
   "source": [
    "2. Jelaskan alur jalannya program di percobaan 3 mulai dari input sampai keluar output!\n",
    "\n",
    "input nilai1 dan nilai2, lalu nilai tersebut akan masuk dalam fungsi Kurang, lalu hasil fungsi kurang masuk ke fungsi kali, lalu hasilnya adalah hasil dari fungsi kali."
   ]
  },
  {
   "cell_type": "markdown",
   "metadata": {},
   "source": [
    "### Percobaan 4: Mengubah Program Tidak Menggunakan Fungsi dan Menggunakan Fungsi\n",
    "Pada Percobaan 4, kode program yang dibuat digunakan untuk menghitung luas persegi panjang dan volume balok tanpa menggunakan fungsi dan dengan menggunakan fungsi.\n",
    "1. Import dan deklarasikan Scanner dengan nama **input**\n",
    "![Gambar 9](images/4.1.png)"
   ]
  },
  {
   "cell_type": "markdown",
   "metadata": {},
   "source": [
    "2. Buatlah inputan panjang, lebar, dan tinggi \n",
    "![Gambar 10](images/4.2.png)"
   ]
  },
  {
   "cell_type": "markdown",
   "metadata": {},
   "source": [
    "3. Hitung luas persegi panjang dan volume balok\n",
    "![Gambar 10](images/4.3.png)"
   ]
  },
  {
   "cell_type": "code",
   "execution_count": 20,
   "metadata": {},
   "outputs": [
    {
     "name": "stdout",
     "output_type": "stream",
     "text": [
      "Masukkan Panjang \n",
      "2\n",
      "Masukkan lebar \n",
      "3\n",
      "Masukkan tinggi \n",
      "4\n",
      "Luas Persegi panjang adalah 6\n",
      "Volume balok adalah 24\n"
     ]
    }
   ],
   "source": [
    "// Tuliskan kode program Percobaan 4 Langkah 1, 2, & 3\n",
    "import java.util.Scanner;\n",
    "Scanner input = new Scanner (System.in);\n",
    "int p, l, t, L, vol;\n",
    "System.out.println(\"Masukkan Panjang \");\n",
    "p = input.nextInt();\n",
    "System.out.println(\"Masukkan lebar \");\n",
    "l = input.nextInt();\n",
    "System.out.println(\"Masukkan tinggi \");\n",
    "t = input.nextInt();\n",
    "L = p * l;\n",
    "System.out.println(\"Luas Persegi panjang adalah \" + L);\n",
    "vol = p * l * t;\n",
    "System.out.println(\"Volume balok adalah \" + vol);"
   ]
  },
  {
   "cell_type": "markdown",
   "metadata": {},
   "source": [
    "4. Program menghitung luas persegi dan volume balok diatas jika dibuatkan fungsi maka terdapat 3 fungsi yaitu hitungLuas, hitungVolume dan fungsi main, seperti dibawah ini:\n",
    "\n",
    "Fungsi hitungLuas\n",
    "\n",
    "![Gambar 10](images/4.4Luas.png)\n",
    "\n",
    "Fungsi hitungVolume\n",
    "![Gambar 10](images/4.4Volume.png)\n",
    "\n"
   ]
  },
  {
   "cell_type": "markdown",
   "metadata": {},
   "source": [
    "5. Eksekusi/panggil fungsi **hitungLuas** dan **hitungVolume**\n",
    "\n",
    "![Gambar 10](images/4.5.png)"
   ]
  },
  {
   "cell_type": "code",
   "execution_count": 30,
   "metadata": {},
   "outputs": [
    {
     "name": "stdout",
     "output_type": "stream",
     "text": [
      "Masukkan Panjang \n",
      "2\n",
      "Masukkan lebar \n",
      "3\n",
      "Masukkan tinggi \n",
      "4\n",
      "Luas Persegi panjang adalah 6\n",
      "Volume balok adalah 24\n"
     ]
    }
   ],
   "source": [
    "// Tuliskan kode program Percobaan 4 Langkah 1, 2, & 3\n",
    "static int hitungLuas(int pjg, int lbr) {\n",
    "    int luas = pjg * lbr;\n",
    "    return luas;\n",
    "}\n",
    "static int hitungVolume(int tinggi, int a, int b) {\n",
    "    int volume = hitungLuas(a,b) * tinggi;\n",
    "    return volume;\n",
    "}\n",
    "import java.util.Scanner;\n",
    "Scanner input = new Scanner (System.in);\n",
    "int p, l, t, L, vol;\n",
    "System.out.println(\"Masukkan Panjang \");\n",
    "p = input.nextInt();\n",
    "System.out.println(\"Masukkan lebar \");\n",
    "l = input.nextInt();\n",
    "System.out.println(\"Masukkan tinggi \");\n",
    "t = input.nextInt();\n",
    "\n",
    "L = hitungLuas(p,l);\n",
    "System.out.println(\"Luas Persegi panjang adalah \" + L);\n",
    "vol = hitungVolume(t,p,l);\n",
    "System.out.println(\"Volume balok adalah \" + vol);"
   ]
  },
  {
   "cell_type": "markdown",
   "metadata": {},
   "source": [
    "#### Pertanyaan\n",
    "1. Jelaskan kegunaan parameter yang terdapat didalam fungsi hitungLuas dan hitungVolume!\n",
    "\n",
    "### Jawaban\n",
    "a. fungsi hitungLuas \n",
    "\n",
    "terdapat 'pjg' dan 'lbr' untuk data panjang dan lebar dari inputan.\n",
    "\n",
    "b. fungsi hitungVolume\n",
    "\n",
    "terdapat 'a', 'b', dan 'tinggi' untuk data panjang, lebar, dan tinggi dari inputan."
   ]
  },
  {
   "cell_type": "markdown",
   "metadata": {},
   "source": [
    "2. Setelah melakukan percobaan 4, menurut anda manakah program yg lebih efisien apakah menggunakan fungsi atau tanpa fungsi? Jelaskan!\n",
    "\n",
    "#### Jawaban\n",
    "\n",
    "lebih efisien menggunakan fungsi karena hanya tinggal memanggil fungsi tersebut sehingga tidak perlu membuat ulang program lagi."
   ]
  },
  {
   "cell_type": "markdown",
   "metadata": {},
   "source": [
    "### Percobaan 5: Fungsi Menggunakan Array dan Variabel Global\n",
    "Pada Percobaan 5, kode program yang dibuat digunakan untuk menghitung total nilai yang ada didalam array dengan membuat 3 fungsi yaitu isiarray, hitTol, dan tampilArray.\n",
    "1. Buatlah **variable global total dan i** bertipe int\n",
    "![Gambar 9](images/5.1pertama.png)"
   ]
  },
  {
   "cell_type": "markdown",
   "metadata": {},
   "source": [
    "2. Buatlah fungsi **isiarray** bertipe int dengan parameter angka bertipe int \n",
    "\n",
    "![Gambar 10](images/5.1.png)"
   ]
  },
  {
   "cell_type": "markdown",
   "metadata": {},
   "source": [
    "3. Buatlah fungsi **tampilArray** bertipe **void** dengan parameter data array **arr** bertipe int\n",
    "\n",
    "![Gambar 10](images/5.2.png)"
   ]
  },
  {
   "cell_type": "markdown",
   "metadata": {},
   "source": [
    "4. Buatlah fungsi **hitTot** bertipe int dengan parameter data array **arr** bertipe int\n",
    "\n",
    "![Gambar 10](images/5.3.png)"
   ]
  },
  {
   "cell_type": "markdown",
   "metadata": {},
   "source": [
    "5. Import dan deklarasikan Scanner dengan nama **input**\n",
    "\n",
    "![Gambar 10](images/4.1.png)"
   ]
  },
  {
   "cell_type": "markdown",
   "metadata": {},
   "source": [
    "6. Eksekusi atau panggil ketiga fungsi yaitu **isiarray, tampilArray, dan hitTot**, kemudian jalankan program!\n",
    "\n",
    "![Gambar 10](images/5.6.png)"
   ]
  },
  {
   "cell_type": "code",
   "execution_count": 1,
   "metadata": {},
   "outputs": [
    {
     "name": "stdout",
     "output_type": "stream",
     "text": [
      "Masukkan Jumlah data yang ingin Anda inputkan: \n",
      "3\n",
      "Masukkan array ke-0\n",
      "12\n",
      "Masukkan array ke-1\n",
      "13\n",
      "Masukkan array ke-2\n",
      "14\n",
      "Nilai yang Anda input ke-0\n",
      "12\n",
      "Nilai yang Anda input ke-1\n",
      "13\n",
      "Nilai yang Anda input ke-2\n",
      "14\n",
      "Nilai total adalah 39\n"
     ]
    }
   ],
   "source": [
    "// Tuliskan kode program Percobaan 4 Langkah 1 s/d 6\n",
    "static int total=0, i;\n",
    "static int [] isiArray(int angka) {\n",
    "    Scanner in = new Scanner (System.in);\n",
    "    int array[] = new int[angka];\n",
    "    for(i=0; i<array.length; i++) {\n",
    "        System.out.println(\"Masukkan array ke-\" + i);\n",
    "        array[i] = in.nextInt();\n",
    "    }\n",
    "    return array;\n",
    "}\n",
    "static void tampilArray(int [] arr) {\n",
    "    for(i=0; i<arr.length; i++) {\n",
    "        System.out.println(\"Nilai yang Anda input ke-\" + i);\n",
    "        System.out.println(arr[i]);\n",
    "    }\n",
    "}\n",
    "static int hitTot(int [] arr) {\n",
    "    for(i=0; i<arr.length; i++) {\n",
    "        total+=arr[i];\n",
    "    }\n",
    "    return total;\n",
    "}\n",
    "import java.util.Scanner;\n",
    "Scanner in = new Scanner (System.in);\n",
    "System.out.println(\"Masukkan Jumlah data yang ingin Anda inputkan: \");\n",
    "int jum = in.nextInt();\n",
    "int [] dataArray = isiArray(jum);\n",
    "tampilArray(dataArray);\n",
    "total = hitTot(dataArray);\n",
    "System.out.println(\"Nilai total adalah \" + total);"
   ]
  },
  {
   "cell_type": "markdown",
   "metadata": {},
   "source": [
    "#### Pertanyaan\n",
    "1. Jelaskan mengapa fungsi tampil array dibuat bertipe void, sedangkan isiarray dan hitTot bertipe int!\n",
    "\n",
    "karena pada tampil array bukan suatu operasi dan pada tampilarray bertujuan untuk menampilkan jadi tidak membutuhkan return. sedangkan isiarray harus menggunakan bertipe int karena terdapat suatu operasi dan hasilnya akan dikembalikan ke dataArray."
   ]
  },
  {
   "cell_type": "markdown",
   "metadata": {},
   "source": [
    "2. Menurut pendapat anda apakah fugsi isiarray dan hitTot dapat diganti dengan tipe void? Jelaskan dan buktikan dengan program!\n",
    "\n",
    "akan eror karena ketika menggunakan int memerlukan return."
   ]
  },
  {
   "cell_type": "code",
   "execution_count": 34,
   "metadata": {},
   "outputs": [
    {
     "ename": "CompilationException",
     "evalue": "",
     "output_type": "error",
     "traceback": [
      "\u001b[1m\u001b[30m|   \u001b[1m\u001b[30mstatic int tampilArray(int [] arr) \u001b[0m\u001b[1m\u001b[30m\u001b[41m{\u001b[0m",
      "\u001b[1m\u001b[30m|   \u001b[1m\u001b[30m\u001b[41m    for(i=0; i<arr.length; i++) {\u001b[0m",
      "\u001b[1m\u001b[30m|   \u001b[1m\u001b[30m\u001b[41m        System.out.println(\"Nilai yang Anda input ke-\" + i);\u001b[0m",
      "\u001b[1m\u001b[30m|   \u001b[1m\u001b[30m\u001b[41m        System.out.println(arr[i]);\u001b[0m",
      "\u001b[1m\u001b[30m|   \u001b[1m\u001b[30m\u001b[41m    }\u001b[0m",
      "\u001b[1m\u001b[30m|   \u001b[1m\u001b[30m\u001b[41m}\u001b[0m",
      "\u001b[1m\u001b[31mmissing return statement\u001b[0m",
      "",
      "\u001b[1m\u001b[30m|   \u001b[1m\u001b[30m\u001b[0m\u001b[1m\u001b[30m\u001b[41mstatic\u001b[0m\u001b[1m\u001b[30m int tampilArray(int [] arr) {\u001b[0m",
      "\u001b[1m\u001b[31mModifier 'static' not permitted in top-level declarations, ignored\u001b[0m",
      ""
     ]
    }
   ],
   "source": [
    "// Tuliskan jawaban nomor 2\n",
    "static int total=0, i;\n",
    "static int [] isiArray(int angka) {\n",
    "    Scanner in = new Scanner (System.in);\n",
    "    int array[] = new int[angka];\n",
    "    for(i=0; i<array.length; i++) {\n",
    "        System.out.println(\"Masukkan array ke-\" + i);\n",
    "        array[i] = in.nextInt();\n",
    "    }\n",
    "    return array;\n",
    "}\n",
    "static int tampilArray(int [] arr) {\n",
    "    for(i=0; i<arr.length; i++) {\n",
    "        System.out.println(\"Nilai yang Anda input ke-\" + i);\n",
    "        System.out.println(arr[i]);\n",
    "    }\n",
    "}\n",
    "static int hitTot(int [] arr) {\n",
    "    for(i=0; i<arr.length; i++) {\n",
    "        total+=arr[i];\n",
    "    }\n",
    "    return total;\n",
    "}\n",
    "import java.util.Scanner;\n",
    "Scanner in = new Scanner (System.in);\n",
    "System.out.println(\"Masukkan Jumlah data yang ingin Anda inputkan: \");\n",
    "int jum = in.nextInt();\n",
    "int [] dataArray = isiArray(jum);\n",
    "tampilArray(dataArray);\n",
    "total = hitTot(dataArray);\n",
    "System.out.println(\"Nilai total adalah \" + total);"
   ]
  },
  {
   "cell_type": "markdown",
   "metadata": {},
   "source": [
    "## Tugas"
   ]
  },
  {
   "cell_type": "markdown",
   "metadata": {},
   "source": [
    "1. Buatlah sebuah static method yang bernama Max3(int bil1, int bil2, int bil3) yang menerima 3 buah parameter bilangan integer dan mengembalikan sebuah bilangan integer yang merupakan nilai maksimum diantara ketiga bilangan tersebut. "
   ]
  },
  {
   "cell_type": "code",
   "execution_count": 5,
   "metadata": {},
   "outputs": [
    {
     "name": "stdout",
     "output_type": "stream",
     "text": [
      "Masukkan nilai 1: \n",
      "1\n",
      "Masukkan nilai 2: \n",
      "13\n",
      "Masukkan nilai 3: \n",
      "2\n",
      "Nilai terbesar adalah 13"
     ]
    }
   ],
   "source": [
    "// Tuliskan jawaban nomor 1\n",
    "int besar, i;\n",
    "static int Max3( int bil1, int bil2, int bil3) {\n",
    "   if(besar < bil1) {\n",
    "       besar = bil1;\n",
    "   }\n",
    "   if(besar < bil2) {\n",
    "       besar = bil2;\n",
    "   }\n",
    "    if(besar < bil3) {\n",
    "       besar = bil3;\n",
    "   }\n",
    "    return besar;\n",
    "}\n",
    "import java.util.Scanner;\n",
    "Scanner input = new Scanner (System.in);\n",
    "int nilai1, nilai2, nilai3;\n",
    "System.out.println(\"Masukkan nilai 1: \");\n",
    "nilai1 = input.nextInt();\n",
    "System.out.println(\"Masukkan nilai 2: \");\n",
    "nilai2 = input.nextInt();\n",
    "System.out.println(\"Masukkan nilai 3: \");\n",
    "nilai3 = input.nextInt();\n",
    "int maximum = Max3(nilai1, nilai2, nilai3);\n",
    "System.out.print(\"Nilai terbesar adalah \" + maximum);"
   ]
  },
  {
   "cell_type": "markdown",
   "metadata": {},
   "source": [
    "2. Disebuah restoran terdapat 3 menu yang dijual yaitu nasi goreng, soto, dan sate. Harga nasi goreng Rp. 20.000, soto Rp. 15.000, dan sate Rp. 25.000. Restoran tersebut buka dari hari senin sampai jumat. Berikut ini merupakan tabel pejualan perhari untuk masing-masing menu di restoran tersebut dari hari senin sampai jumat\n",
    "![Gambar 13](images/soal3.png)\n",
    "\n",
    "Buatlah Fungsi sebagai berikut:\n",
    " * Fungsi menampilkan menu favorit di hari selasa dan jumat (menu favorit diasumsikan adalah menu yang paling banyak terjual di hari tersebut)\n",
    " * Fungsi untuk menghitung pemasukan restoran tersebut mulai hari senin sampai jumat.\n",
    " * Fungsi untuk menghitung berapa porsi yang terjual untuk masing-masing menu yaitu nasi goreng, soto, dan sate mulai senin sampai jumat."
   ]
  },
  {
   "cell_type": "code",
   "execution_count": 14,
   "metadata": {},
   "outputs": [
    {
     "name": "stdout",
     "output_type": "stream",
     "text": [
      "Menu favorit pada hari selasa adalah soto\n",
      "Menu favorit pada hari selasa adalah nasi goreng\n",
      "Total pemasukan restoran adalah 8625000\n",
      "Total porsi nasi goreng adalah 164\n",
      "Total porsi soto adalah 143\n",
      "Total porsi sate adalah 128\n"
     ]
    }
   ],
   "source": [
    "// Tuliskan jawaban nomor 2\n",
    "int [][] array = {\n",
    "        {20, 15, 35, 24, 70},\n",
    "        {30, 40, 10, 28, 35},\n",
    "        {5, 10, 50, 48, 15}\n",
    "};\n",
    "String [] makanan = {\"nasi goreng\", \"soto\", \"sate\"};\n",
    "int a, b, hasil1, hasil2, porsi1, porsi2, porsi3, harga, harga1, harga2, harga3;\n",
    "\n",
    "//menu favorit hari selasa dan jumat\n",
    "static void tampilMenu() {\n",
    "    // hari selasa\n",
    "    for(int i=0; i<array.length; i++) {\n",
    "        if(a < array[i][1]) {\n",
    "            a = array[i][1];\n",
    "        }\n",
    "    }\n",
    "    for(i=0; i<array.length; i++) {\n",
    "        if(a==array[i][1]) {\n",
    "        hasil1 = i;\n",
    "        break;\n",
    "        }\n",
    "    }\n",
    "    System.out.print(\"Menu favorit pada hari selasa adalah \" + makanan[hasil1]);\n",
    "    // hari jumat\n",
    "    for(int i=0; i<array.length; i++) {\n",
    "        if(b < array[i][4]) {\n",
    "            b = array[i][4];\n",
    "        }\n",
    "    }\n",
    "    for(i=0; i<array.length; i++) {\n",
    "        if(b==array[i][4]) {\n",
    "        hasil2 = i;\n",
    "        break;\n",
    "        }\n",
    "    }\n",
    "    System.out.print(\"\\nMenu favorit pada hari selasa adalah \" + makanan[hasil2]);        \n",
    "}\n",
    "//pemasukan restoran\n",
    "static void pemasukan() {\n",
    "    for(int i=0; i<array[0].length; i++) {\n",
    "        harga1 = array[0][i] * 20000;\n",
    "        harga+= harga1;\n",
    "    }\n",
    "    for(int i=0; i<array[0].length; i++) {\n",
    "        harga2 = array[1][i] * 15000;\n",
    "        harga+= harga2;\n",
    "    }\n",
    "    for(int i=0; i<array[0].length; i++) {\n",
    "        harga3 = array[2][i] * 25000;\n",
    "        harga+= harga3;\n",
    "    }\n",
    "    System.out.println(\"\\nTotal pemasukan restoran adalah \" + harga);\n",
    "}\n",
    "\n",
    "//porsi yang terjual\n",
    "static void totalPorsi() {\n",
    "    for(int i=0; i<array[0].length; i++) {\n",
    "    porsi1+= array[0][i];\n",
    "    }\n",
    "    System.out.println(\"Total porsi nasi goreng adalah \" + porsi1);\n",
    "\n",
    "    for(int i=0; i<array[0].length; i++) {\n",
    "    porsi2+= array[1][i];\n",
    "    }\n",
    "    System.out.println(\"Total porsi soto adalah \" + porsi2);\n",
    "\n",
    "    for(int i=0; i<array[0].length; i++) {\n",
    "    porsi3+= array[2][i];\n",
    "    }\n",
    "    System.out.println(\"Total porsi sate adalah \" + porsi3);\n",
    "}\n",
    "\n",
    "// pemanggilan\n",
    "tampilMenu();\n",
    "pemasukan();\n",
    "totalPorsi();"
   ]
  },
  {
   "cell_type": "code",
   "execution_count": null,
   "metadata": {},
   "outputs": [],
   "source": []
  }
 ],
 "metadata": {
  "kernelspec": {
   "display_name": "Java",
   "language": "java",
   "name": "java"
  },
  "language_info": {
   "codemirror_mode": "java",
   "file_extension": ".jshell",
   "mimetype": "text/x-java-source",
   "name": "Java",
   "pygments_lexer": "java",
   "version": "11.0.12+8-LTS-237"
  }
 },
 "nbformat": 4,
 "nbformat_minor": 4
}
