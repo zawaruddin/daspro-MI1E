{
 "cells": [
  {
   "cell_type": "markdown",
   "metadata": {},
   "source": [
    "# JOBSHEET 13. Fungsi 1\n",
    "\n",
    "Nama : Nur Alimah\n",
    "\n",
    "Nim : 2131710004"
   ]
  },
  {
   "cell_type": "markdown",
   "metadata": {},
   "source": [
    "## Tujuan\n",
    "* Mahasiswa mampu memahami penggunaan fungsi static pada Java dengan parameter dan mengembalikan nilai.\n",
    "* Mahasiswa mampu membuat program menggunakan fungsi static dan mengeksekusi fungsi tersebut.\n"
   ]
  },
  {
   "cell_type": "markdown",
   "metadata": {},
   "source": [
    "## Alat dan Bahan\n",
    "* PC/Laptop\n",
    "* Browser\n",
    "* Koneksi internet\n",
    "* Anaconda3 + Java kernel (opsional)"
   ]
  },
  {
   "cell_type": "markdown",
   "metadata": {},
   "source": [
    "## Praktikum"
   ]
  },
  {
   "cell_type": "markdown",
   "metadata": {},
   "source": [
    "### Percobaan 1: Fungsi Void (tidak menggunakan return value)\n",
    "\n",
    "1.\tBuat fungsi **beriSalam** bertipe void yang digunakan untuk mencetak **“Halo! Selamat Pagi”**.\n",
    "![Gambar 1](images/1.1.png)"
   ]
  },
  {
   "cell_type": "markdown",
   "metadata": {},
   "source": [
    "2. Eksekusi atau panggil fungsi **beriSalam**.\n",
    "![Gambar 2](images/1.2.png)"
   ]
  },
  {
   "cell_type": "code",
   "execution_count": 1,
   "metadata": {},
   "outputs": [
    {
     "name": "stdout",
     "output_type": "stream",
     "text": [
      "Halo!Selamat Pagi\n"
     ]
    }
   ],
   "source": [
    "// Tuliskan kode program Percobaan 1 Langkah 1 & 2\n",
    "static void beriSalam(){\n",
    "    System.out.println(\"Halo!Selamat Pagi\");\n",
    "}\n",
    "beriSalam();"
   ]
  },
  {
   "cell_type": "markdown",
   "metadata": {},
   "source": [
    "3. Buat fungsi **beriUcapan** dengan sebuah parameter bertipe String.\n",
    "![Gambar 3](images/1.3.png)"
   ]
  },
  {
   "cell_type": "markdown",
   "metadata": {},
   "source": [
    "4. Buatlah variabel **salam** bertipe String kemudian eksekusi atau panggil fungsi **beriUcapan** dengan mengisi parameternya dengan variable **salam** yang sudah dibuat.\n",
    "![Gambar 3](images/1.4.png)"
   ]
  },
  {
   "cell_type": "code",
   "execution_count": 1,
   "metadata": {},
   "outputs": [
    {
     "name": "stdout",
     "output_type": "stream",
     "text": [
      "Halo!Selamat Pagi\n",
      "Selamat datang di pemrogaman Java\n"
     ]
    }
   ],
   "source": [
    "// Tuliskan kode program Percobaan 1 Langkah 1, 2, 3 & 4\n",
    "static void beriSalam(){\n",
    "    System.out.println(\"Halo!Selamat Pagi\");\n",
    "}\n",
    "static void beriUcapan(String ucapan){\n",
    "    System.out.println(ucapan);\n",
    "}\n",
    "beriSalam();\n",
    "String salam = \"Selamat datang di pemrogaman Java\";\n",
    "beriUcapan(salam);\n"
   ]
  },
  {
   "cell_type": "markdown",
   "metadata": {},
   "source": [
    "#### Pertanyaan\n",
    "1. Jelaskan perbedaan fungsi **beriSalam** dan **beriUcapan** pada praktikum 1!\n",
    "\n",
    "Jawaban\n",
    "\n",
    "Pada fungsi **beriSalam** output langsung dicetak\n",
    "\n",
    "Pada fungsi **beriUcapan** menggunakan parameter dimana nilai ditampung didalam fungsi tersebut pada variabel ucapan\n"
   ]
  },
  {
   "cell_type": "markdown",
   "metadata": {},
   "source": [
    "2. Jelaskan cara pemanggilan sebuah fungsi void yang berparameter dan tanpa parameter!\n",
    "\n",
    "Jawaban\n",
    "\n",
    "Cara memanggil funsgi void dengan parameter adalah dengan mengggunakan tampungan variabel nilai pada fungsi tersebut sedangkan jika tanpa parameter adalah langsung memamnggil atau mengeksekusi fungsi tersebut."
   ]
  },
  {
   "cell_type": "markdown",
   "metadata": {},
   "source": [
    "### Percobaan 2: Fungsi dengan return value (Bukan void)\n",
    "Pada Percobaan 2, kode program yang dibuat digunakan untuk menghitung luas persegi dengan membuat fungsi **luasPersegi** yang menggunakan parameter.\n",
    "1. Buat fungsi **luasPersegi**  untuk menghitung luas persegi yang mengembalikan nilai luas (int) dan parameter masukan sisi (int).\n",
    "![Gambar 4](images/2.1.png)"
   ]
  },
  {
   "cell_type": "markdown",
   "metadata": {},
   "source": [
    "2.\tEksekusi atau panggil fungsi luasPersegi dengan cara membuat variabel baru yaitu **luasan**, kemudian isi variabel tersebut dengan memanggil fungsi luasPersegi dan mengisi parameter sisi. Selanjutnya cetak variabel luasan untuk menampilkan luas persegi panjang\n",
    "![Gambar 5](images/2.2.png)"
   ]
  },
  {
   "cell_type": "code",
   "execution_count": 12,
   "metadata": {},
   "outputs": [
    {
     "name": "stdout",
     "output_type": "stream",
     "text": [
      "Luas Persegi dengan sisi 5 = 25\n"
     ]
    }
   ],
   "source": [
    "// Tuliskan kode program Percobaan 2 Langkah 1 & 2\n",
    "static int luasPersegi(int sisi){\n",
    "    int luas = sisi*sisi;\n",
    "    return luas;\n",
    "}\n",
    "    \n",
    "    luasan = luasPersegi(5);\n",
    "    System.out.println(\"Luas Persegi dengan sisi 5 = \"+luasan)"
   ]
  },
  {
   "cell_type": "markdown",
   "metadata": {},
   "source": [
    "#### Pertanyaan\n",
    "1. jelaskan mengapa ketika memanggil fungsi **luasPersegi** harus membuat variabel baru yaitu luasan?\n",
    "\n",
    "Jawaban : \n",
    "\n",
    "Pada variabel luasan bertfungsi untuk agar nilai dari parameter sisi bisa ganti-ganti nialinya.\n",
    "\n"
   ]
  },
  {
   "cell_type": "markdown",
   "metadata": {},
   "source": [
    "2. Jelaskan kegunaan **return luas** pada percobaan 2 diatas!\n",
    "\n",
    "Jawaban\n",
    "\n",
    "kegunaan **return luas** pada percobaan tersebut adalah mengembalikan nilai dari parameter sisi"
   ]
  },
  {
   "cell_type": "markdown",
   "metadata": {},
   "source": [
    "3. Modifikasilah program di percobaan 2, dengan membuat panjang **sisi** sebagai inputan!"
   ]
  },
  {
   "cell_type": "code",
   "execution_count": 1,
   "metadata": {},
   "outputs": [
    {
     "name": "stdout",
     "output_type": "stream",
     "text": [
      "Luas Persegi dengan sisi 5 = 20\n"
     ]
    }
   ],
   "source": [
    "// Tuliskan jawaban nomor 2\n",
    "static int luasPersegi(int sisi1,int sisi2){\n",
    "    int luas = sisi1*sisi2;\n",
    "    return luas;\n",
    "}\n",
    "    int luasan = luasPersegi(5,4);\n",
    "    System.out.println(\"Luas Persegi dengan sisi 5 = \"+luasan);"
   ]
  },
  {
   "cell_type": "markdown",
   "metadata": {},
   "source": [
    "### Percobaan 3: Fungsi dapat meng-CALL Fungsi Lain\n",
    "Pada Percobaan 3, kode program yang dibuat digunakan untuk mengimplementasikan bahwa fungsi dapat meng-CALL fungsi yang lain. Dimana dalam percobaan ini terdapat fungsi **Kali dan Kurang**. \n",
    "1. Buatlah fungsi **Kali** yang mengembalikan nilai H (int) dan parameter masukan C dan D (int).\n",
    "![Gambar 9](images/3.1.png)"
   ]
  },
  {
   "cell_type": "markdown",
   "metadata": {},
   "source": [
    "2.\tBuatlah fungsi **Kurang** yang mengembalikan nilai X (int) dan parameter masukan A dan B (int) dan memanggil fungsi Kali.\n",
    "![Gambar 10](images/3.2.png)"
   ]
  },
  {
   "cell_type": "markdown",
   "metadata": {},
   "source": [
    "3. Lakukan import class Scanner sebagai inputan di langkah selajutnya."
   ]
  },
  {
   "cell_type": "markdown",
   "metadata": {},
   "source": [
    "4. Eksekusi atau panggil fungsi **Kurang** .\n",
    "![Gambar 11](images/3.4.png)"
   ]
  },
  {
   "cell_type": "code",
   "execution_count": 2,
   "metadata": {},
   "outputs": [
    {
     "name": "stdout",
     "output_type": "stream",
     "text": [
      "Masukkan Nilai 1 : \n",
      "10\n",
      "Masukkan Nilai 2 : \n",
      "5\n",
      "Hasil akhir adalah 9\n"
     ]
    }
   ],
   "source": [
    "// Tuliskan kode program Percobaan 3 Langkah 1, 2, 3 & 4\n",
    "static int Kali(int C,int D){\n",
    "    int H;\n",
    "    H = (C + 20)%(D + 19);\n",
    "    return H;\n",
    "}\n",
    "static int Kurang (int A, int B){\n",
    "    int X;\n",
    "    A = A + 7;\n",
    "    B = B + 4;\n",
    "    X = Kali(A, B);\n",
    "    return X;\n",
    "}\n",
    "int nilai1, nilai2;\n",
    "Scanner input = new Scanner (System.in);\n",
    "System.out.println(\"Masukkan Nilai 1 : \");\n",
    "nilai1=input.nextInt();\n",
    "System.out.println(\"Masukkan Nilai 2 : \");\n",
    "nilai2=input.nextInt();\n",
    "int hasil = Kurang(nilai1, nilai2);\n",
    "System.out.println(\"Hasil akhir adalah \"+hasil);"
   ]
  },
  {
   "cell_type": "markdown",
   "metadata": {},
   "source": [
    "#### Pertanyaan\n",
    "1. Modifikasilah percobaan diatas dimana di fungsi **Kali** dapat memanggil fungsi **Kurang** kemudian eksekusi atau panggil fungsi Kali"
   ]
  },
  {
   "cell_type": "code",
   "execution_count": 3,
   "metadata": {},
   "outputs": [
    {
     "name": "stdout",
     "output_type": "stream",
     "text": [
      "Masukkan Nilai 1 : \n",
      "10\n",
      "Masukkan Nilai 2 : \n",
      "5\n",
      "Hasil akhir adalah 27\n"
     ]
    }
   ],
   "source": [
    "// Tuliskan jawaban nomor 1\n",
    "static int Kali(int A,int B){\n",
    "     int X;\n",
    "    A = A + 10;\n",
    "    B = B + 19;\n",
    "    X = Kurang(A, B);\n",
    "    return X;\n",
    "    \n",
    "}\n",
    "static int Kurang(int C, int D){\n",
    "    int H;\n",
    "    H = (C + 7)%(D + 4);\n",
    "    return H;\n",
    "}\n",
    "int nilai1, nilai2;\n",
    "Scanner input = new Scanner (System.in);\n",
    "System.out.println(\"Masukkan Nilai 1 : \");\n",
    "nilai1=input.nextInt();\n",
    "System.out.println(\"Masukkan Nilai 2 : \");\n",
    "nilai2=input.nextInt();\n",
    "int hasil = Kali(nilai1, nilai2);\n",
    "System.out.println(\"Hasil akhir adalah \"+hasil);"
   ]
  },
  {
   "cell_type": "markdown",
   "metadata": {},
   "source": [
    "2. Jelaskan alur jalannya program di percobaan 3 mulai dari input sampai keluar output!\n",
    "\n",
    "Jawaban\n",
    "\n",
    "Kode progam inputan nilai dijalankan dulu untuk memasukkan nilai sesuai inputan keyboard yang terdiri atas nilai 1 dan nilai 2. Lalu nilai 1 dan nilai 2 dipanggil fungsi kurang dimasukkan pada fungsi kurang dengan nilai 1 adalah parameter A dan nilai 2 adalah parameter B dengan tipe data integer untuk dipanggil oleh fungsi kali. selanjutnya A akan dieksekusi sesuai dengan perintah yaitu dijumlahkan dengan 7. B akan dieksekusi dengan dijumlahkan dengan 4. Kemudian nilai 1 dan nilai 2 ditampung dalam variabel X yang kemudian dilempar ke fungsi kali. Nilai X dikembalikan dengan kode progam return X. Pada fungsi kali nilai dari parameter A menjadi parameter C dan nilai dari parameter B menjadi parameter D.Kemudian dieksekusi dengan modulus pada varibel H.Kemudian nilai dari H akan dikembalikan lagi dengan kode progam return H dan  masuk lagi ke fungsi Kurang lalu ditampilkan hasilnya.\n"
   ]
  },
  {
   "cell_type": "markdown",
   "metadata": {},
   "source": [
    "### Percobaan 4: Mengubah Program Tidak Menggunakan Fungsi dan Menggunakan Fungsi\n",
    "Pada Percobaan 4, kode program yang dibuat digunakan untuk menghitung luas persegi panjang dan volume balok tanpa menggunakan fungsi dan dengan menggunakan fungsi.\n",
    "1. Import dan deklarasikan Scanner dengan nama **input**\n",
    "![Gambar 9](images/4.1.png)"
   ]
  },
  {
   "cell_type": "markdown",
   "metadata": {},
   "source": [
    "2. Buatlah inputan panjang, lebar, dan tinggi \n",
    "![Gambar 10](images/4.2.png)"
   ]
  },
  {
   "cell_type": "markdown",
   "metadata": {},
   "source": [
    "3. Hitung luas persegi panjang dan volume balok\n",
    "![Gambar 10](images/4.3.png)"
   ]
  },
  {
   "cell_type": "code",
   "execution_count": 17,
   "metadata": {},
   "outputs": [
    {
     "name": "stdout",
     "output_type": "stream",
     "text": [
      "Masukkan panjang\n",
      "7\n",
      "Masukkan lebar\n",
      "5\n",
      "Masukkan tinggi\n",
      "6\n",
      "Luas Persegi Panjang adalah 35\n",
      "Volume balok adalah 210\n"
     ]
    }
   ],
   "source": [
    "// Tuliskan kode program Percobaan 4 Langkah 1, 2, & 3\n",
    "import java.util.Scanner;\n",
    "Scanner input = new Scanner(System.in);\n",
    "\n",
    "int p,l,t,L,vol;\n",
    "\n",
    "System.out.println(\"Masukkan panjang\");\n",
    "p=input.nextInt();\n",
    "System.out.println(\"Masukkan lebar\");\n",
    "l=input.nextInt();\n",
    "System.out.println(\"Masukkan tinggi\");\n",
    "t=input.nextInt();\n",
    "\n",
    "L=p*l;\n",
    "System.out.println(\"Luas Persegi Panjang adalah \"+L);\n",
    "\n",
    "vol = p*l*t;\n",
    "System.out.println(\"Volume balok adalah \"+vol);\n",
    "\n",
    "\n",
    "\n"
   ]
  },
  {
   "cell_type": "markdown",
   "metadata": {},
   "source": [
    "4. Program menghitung luas persegi dan volume balok diatas jika dibuatkan fungsi maka terdapat 3 fungsi yaitu hitungLuas, hitungVolume dan fungsi main, seperti dibawah ini:\n",
    "\n",
    "Fungsi hitungLuas\n",
    "\n",
    "![Gambar 10](images/4.4Luas.png)\n",
    "\n",
    "Fungsi hitungVolume\n",
    "![Gambar 10](images/4.4Volume.png)\n",
    "\n"
   ]
  },
  {
   "cell_type": "markdown",
   "metadata": {},
   "source": [
    "5. Eksekusi/panggil fungsi **hitungLuas** dan **hitungVolume**\n",
    "\n",
    "![Gambar 10](images/4.5.png)"
   ]
  },
  {
   "cell_type": "code",
   "execution_count": 13,
   "metadata": {},
   "outputs": [
    {
     "name": "stdout",
     "output_type": "stream",
     "text": [
      "Masukkan panjang\n",
      "7\n",
      "Masukkan lebar\n",
      "6\n",
      "Masukkan tinggi\n",
      "5\n",
      "Luas Persegi Panjang adalah 42\n",
      "Volume Balok adalah 210\n"
     ]
    }
   ],
   "source": [
    "//Tuliskan kode program Percobaan 4 Langkah 1, 2, & 3\n",
    "static int hitungLuas (int pjg, int lb){\n",
    "    int Luas = pjg*lb;\n",
    "    return Luas;\n",
    "}\n",
    "\n",
    "static int hitungVolume (int tinggi, int a, int b){\n",
    "    int volume = hitungLuas(a,b)*tinggi;\n",
    "    return volume;\n",
    "}\n",
    "Scanner input = new Scanner(System.in);\n",
    "int p,l,t,L,vol;\n",
    "System.out.println(\"Masukkan panjang\");\n",
    "p=input.nextInt();\n",
    "System.out.println(\"Masukkan lebar\");\n",
    "l=input.nextInt();\n",
    "System.out.println(\"Masukkan tinggi\");\n",
    "t=input.nextInt();\n",
    "\n",
    "L=hitungLuas(p,l);\n",
    "System.out.println(\"Luas Persegi Panjang adalah \"+L);\n",
    "vol = hitungVolume(t,p,l);\n",
    "System.out.println(\"Volume Balok adalah \" +vol);"
   ]
  },
  {
   "cell_type": "markdown",
   "metadata": {},
   "source": [
    "#### Pertanyaan\n",
    "1. Jelaskan kegunaan parameter yang terdapat didalam fungsi hitungLuas dan hitungVolume!\n",
    "\n",
    "Jawaban \n",
    "\n",
    "Berfungsi untuk mendapatkan dan mengolah data yang berasal dari luar fungsi"
   ]
  },
  {
   "cell_type": "markdown",
   "metadata": {},
   "source": [
    "2. Setelah melakukan percobaan 4, menurut anda manakah program yg lebih efisien apakah menggunakan fungsi atau tanpa fungsi? Jelaskan!\n",
    "\n",
    "Jawaban \n",
    "\n",
    "Lebih efisien mengginakan fungsi karena lebih terstruktur"
   ]
  },
  {
   "cell_type": "markdown",
   "metadata": {},
   "source": [
    "### Percobaan 5: Fungsi Menggunakan Array dan Variabel Global\n",
    "Pada Percobaan 5, kode program yang dibuat digunakan untuk menghitung total nilai yang ada didalam array dengan membuat 3 fungsi yaitu isiarray, hitTol, dan tampilArray.\n",
    "1. Buatlah **variable global total dan i** bertipe int\n",
    "![Gambar 9](images/5.1pertama.png)"
   ]
  },
  {
   "cell_type": "markdown",
   "metadata": {},
   "source": [
    "2. Buatlah fungsi **isiarray** bertipe int dengan parameter angka bertipe int \n",
    "\n",
    "![Gambar 10](images/5.1.png)"
   ]
  },
  {
   "cell_type": "markdown",
   "metadata": {},
   "source": [
    "3. Buatlah fungsi **tampilArray** bertipe **void** dengan parameter data array **arr** bertipe int\n",
    "\n",
    "![Gambar 10](images/5.2.png)"
   ]
  },
  {
   "cell_type": "markdown",
   "metadata": {},
   "source": [
    "4. Buatlah fungsi **hitTot** bertipe int dengan parameter data array **arr** bertipe int\n",
    "\n",
    "![Gambar 10](images/5.3.png)"
   ]
  },
  {
   "cell_type": "markdown",
   "metadata": {},
   "source": [
    "5. Import dan deklarasikan Scanner dengan nama **input**\n",
    "\n",
    "![Gambar 10](images/4.1.png)"
   ]
  },
  {
   "cell_type": "markdown",
   "metadata": {},
   "source": [
    "6. Eksekusi atau panggil ketiga fungsi yaitu **isiarray, tampilArray, dan hitTot**, kemudian jalankan program!\n",
    "\n",
    "![Gambar 10](images/5.6.png)"
   ]
  },
  {
   "cell_type": "code",
   "execution_count": 9,
   "metadata": {},
   "outputs": [
    {
     "name": "stdout",
     "output_type": "stream",
     "text": [
      "Masukkan jumlah data yang ingin anda inputkan : \n",
      "6\n",
      "Nilai yang data ke-0\n",
      "2\n",
      "Nilai yang data ke-1\n",
      "3\n",
      "Nilai yang data ke-2\n",
      "4\n",
      "Nilai yang data ke-3\n",
      "5\n",
      "Nilai yang data ke-4\n",
      "6\n",
      "Nilai yang data ke-5\n",
      "7\n",
      "Nilai yang Anda inputkan ke-0\n",
      "2\n",
      "Nilai yang Anda inputkan ke-1\n",
      "3\n",
      "Nilai yang Anda inputkan ke-2\n",
      "4\n",
      "Nilai yang Anda inputkan ke-3\n",
      "5\n",
      "Nilai yang Anda inputkan ke-4\n",
      "6\n",
      "Nilai yang Anda inputkan ke-5\n",
      "7\n",
      "Total nilai = 27\n"
     ]
    }
   ],
   "source": [
    "// Tuliskan kode program Percobaan 4 Langkah 1 s/d 6\n",
    "static int total = 0,i;\n",
    "\n",
    "static int [] isiarray (int angka){\n",
    "    Scanner input = new Scanner(System.in);\n",
    "    int array [] = new int[angka];\n",
    "    for (i = 0;i<array.length;i++) {\n",
    "        System.out.println(\"Nilai yang data ke-\"+i);\n",
    "        array[i]=input.nextInt();\n",
    "    }\n",
    "    return array;\n",
    "}\n",
    "static void tampilArray (int [] arr){\n",
    "    for (i=0;i<arr.length;i++){\n",
    "        System.out.println(\"Nilai yang Anda inputkan ke-\"+i);\n",
    "        System.out.println(arr[i]);\n",
    "    }\n",
    "}\n",
    "static int hitTot(int []arr){\n",
    "    for (i=0;i<arr.length;i++){\n",
    "        total += arr[i];\n",
    "    }\n",
    "    return total;\n",
    " }\n",
    "\n",
    "        \n",
    "\n",
    "import java.util.Scanner;\n",
    "Scanner input = new Scanner(System.in);\n",
    "System.out.println(\"Masukkan jumlah data yang ingin anda inputkan : \");\n",
    "int jum = input.nextInt();\n",
    "int [] dataArray = isiarray(jum);\n",
    "tampilArray(dataArray);\n",
    "total = hitTot(dataArray);\n",
    "System.out.println (\"Total nilai = \"+total);"
   ]
  },
  {
   "cell_type": "markdown",
   "metadata": {},
   "source": [
    "#### Pertanyaan\n",
    "1. Jelaskan mengapa fungsi tampil array dibuat bertipe void, sedangkan isiarray dan hitTot bertipe int!\n",
    "\n",
    "Pada fungsi bertipe void hanya untuk menampilkan nilai yang ada sedangkan pada hitTot bertipe int didalam fungsinya ada operasi yang dijalankan"
   ]
  },
  {
   "cell_type": "markdown",
   "metadata": {},
   "source": [
    "2. Menurut pendapat anda apakah fugsi isiarray dan hitTot dapat diganti dengan tipe void? Jelaskan dan buktikan dengan program!\n",
    "\n",
    "Jawaban \n",
    "\n",
    "Tidak bisa karena pada tipe void tidak bisa dilakukan ekseskusi untuk operator yang ada  didalamnya, hanya bisa menampilkan."
   ]
  },
  {
   "cell_type": "code",
   "execution_count": 5,
   "metadata": {},
   "outputs": [
    {
     "ename": "CompilationException",
     "evalue": "",
     "output_type": "error",
     "traceback": [
      "\u001b[1m\u001b[30m|   \u001b[1m\u001b[30mstatic \u001b[0m\u001b[1m\u001b[30m\u001b[41mvoid\u001b[0m\u001b[1m\u001b[30m [] isiarray (int angka){\u001b[0m",
      "\u001b[1m\u001b[31millegal start of expression\u001b[0m",
      "",
      "\u001b[1m\u001b[30m|   \u001b[1m\u001b[30mstatic void\u001b[0m\u001b[1m\u001b[30m\u001b[41m\u001b[0m\u001b[1m\u001b[30m [] isiarray (int angka){\u001b[0m",
      "\u001b[1m\u001b[31m';' expected\u001b[0m",
      "",
      "\u001b[1m\u001b[30m|   \u001b[1m\u001b[30mstatic void [] isiarray (int \u001b[0m\u001b[1m\u001b[30m\u001b[41m\u001b[0m\u001b[1m\u001b[30mangka){\u001b[0m",
      "\u001b[1m\u001b[31m'.class' expected\u001b[0m",
      "",
      "\u001b[1m\u001b[30m|   \u001b[1m\u001b[30mstatic void [] isiarray (int angka\u001b[0m\u001b[1m\u001b[30m\u001b[41m\u001b[0m\u001b[1m\u001b[30m){\u001b[0m",
      "\u001b[1m\u001b[31m';' expected\u001b[0m",
      "",
      "\u001b[1m\u001b[30m|   \u001b[1m\u001b[30mstatic void [] isiarray (\u001b[0m\u001b[1m\u001b[30m\u001b[41mint \u001b[0m\u001b[1m\u001b[30mangka){\u001b[0m",
      "\u001b[1m\u001b[31munexpected type\u001b[0m",
      "\u001b[1m\u001b[31m  required: value\u001b[0m",
      "\u001b[1m\u001b[31m  found:    class\u001b[0m",
      "",
      "\u001b[1m\u001b[30m|   \u001b[1m\u001b[30m    int array [] = new int[\u001b[0m\u001b[1m\u001b[30m\u001b[41mangka\u001b[0m\u001b[1m\u001b[30m];\u001b[0m",
      "\u001b[1m\u001b[31mcannot find symbol\u001b[0m",
      "\u001b[1m\u001b[31m  symbol:   variable angka\u001b[0m",
      "",
      "\u001b[1m\u001b[30m|   \u001b[1m\u001b[30m}\u001b[0m\u001b[1m\u001b[30m\u001b[41m\u001b[0m\u001b[1m\u001b[30m\u001b[0m",
      "\u001b[1m\u001b[31munreachable statement\u001b[0m",
      ""
     ]
    }
   ],
   "source": [
    "// Tuliskan jawaban nomor 2\n",
    "static int total = 0,i;\n",
    "\n",
    "static void [] isiarray (int angka){\n",
    "    Scanner input = new Scanner(System.in);\n",
    "    int array [] = new int[angka];\n",
    "    for (i = 0;i<array.length;i++) {\n",
    "        System.out.println(\"Nilai yang data ke-\"+i);\n",
    "        array[i]=input.nextInt();\n",
    "    }\n",
    "    return array;\n",
    "}\n",
    "static void tampilArray (int [] arr){\n",
    "    for (i=0;i<arr.length;i++){\n",
    "        System.out.println(\"Nilai yang Anda inputkan ke-\"+i);\n",
    "        System.out.println(arr[i]);\n",
    "    }\n",
    "}\n",
    "static void hitTot(int []arr){\n",
    "    for (i=0;i<arr.length;i++){\n",
    "        total += arr[i];\n",
    "    }\n",
    "    return total;\n",
    " }\n",
    "\n",
    "        \n",
    "\n",
    "import java.util.Scanner;\n",
    "Scanner input = new Scanner(System.in);\n",
    "System.out.println(\"Masukkan jumlah data yang ingin anda inputkan : \");\n",
    "int jum = input.nextInt();\n",
    "int [] dataArray = isiarray(jum);\n",
    "tampilArray(dataArray);\n",
    "total = hitTot(dataArray);\n",
    "System.out.println (\"Total nilai = \"+total);"
   ]
  },
  {
   "cell_type": "markdown",
   "metadata": {},
   "source": [
    "## Tugas"
   ]
  },
  {
   "cell_type": "markdown",
   "metadata": {},
   "source": [
    "1. Buatlah sebuah static method yang bernama Max3(int bil1, int bil2, int bil3) yang menerima 3 buah parameter bilangan integer dan mengembalikan sebuah bilangan integer yang merupakan nilai maksimum diantara ketiga bilangan tersebut. "
   ]
  },
  {
   "cell_type": "code",
   "execution_count": 15,
   "metadata": {},
   "outputs": [
    {
     "name": "stdout",
     "output_type": "stream",
     "text": [
      "Nilai Maksimumnya adalah 3\n"
     ]
    }
   ],
   "source": [
    "// Tuliskan jawaban nomor 1\n",
    "static int Max3(int bil1, int bil2,int bil3){\n",
    "    int max = 0;\n",
    "    if (max<bil1){\n",
    "    max = bil1;\n",
    "    } if (max<bil2) {\n",
    "    max = bil2;\n",
    "    } if (max<bil3) {\n",
    "    max = bil3; \n",
    "    }\n",
    "    return max;\n",
    "}\n",
    "System.out.println(\"Nilai Maksimumnya adalah \" +Max3(1,2,3));"
   ]
  },
  {
   "cell_type": "markdown",
   "metadata": {},
   "source": [
    "2. Disebuah restoran terdapat 3 menu yang dijual yaitu nasi goreng, soto, dan sate. Harga nasi goreng Rp. 20.000, soto Rp. 15.000, dan sate Rp. 25.000. Restoran tersebut buka dari hari senin sampai jumat. Berikut ini merupakan tabel pejualan perhari untuk masing-masing menu di restoran tersebut dari hari senin sampai jumat\n",
    "![Gambar 13](images/soal3.png)\n",
    "\n",
    "Buatlah Fungsi sebagai berikut:\n",
    " * Fungsi menampilkan menu favorit di hari selasa dan jumat (menu favorit diasumsikan adalah menu yang paling banyak terjual di hari tersebut)\n",
    " * Fungsi untuk menghitung pemasukan restoran tersebut mulai hari senin sampai jumat.\n",
    " * Fungsi untuk menghitung berapa porsi yang terjual untuk masing-masing menu yaitu nasi goreng, soto, dan sate mulai senin sampai jumat."
   ]
  },
  {
   "cell_type": "code",
   "execution_count": 4,
   "metadata": {},
   "outputs": [
    {
     "name": "stdout",
     "output_type": "stream",
     "text": [
      "Menu Favorit Selasa adalah Soto Menu Favorit Selasa adalah Nasi Goreng\n",
      "Total Pemasukan Senin sampai dengan Jum'at Rp 8625000\n",
      "Jumlah porsi yang terjual Nasi Goreng adalah 164 Jumlah porsi yang terjual Soto adalah 143 Jumlah porsi yang terjual Sate adalah 128\n"
     ]
    }
   ],
   "source": [
    "// Tuliskan jawaban nomor 2\n",
    "\n",
    "int [][] data = {\n",
    "    {20,15,35,24,70},\n",
    "    {30,40,10,28,35},\n",
    "    {5,10,50,48,15}\n",
    "};\n",
    "static String[] menuFavSj(){\n",
    "    int max1 = 0;\n",
    "    int max2 = 0;\n",
    "    String[] menu = {\"Nasi Goreng\",\"Soto\",\"Sate\"};\n",
    "    String[] menuFav = new String[2];\n",
    "    for(int i = 0;i < data.length;i++){\n",
    "        if(max1 < data[i][1]){\n",
    "            max1 = data[i][1];\n",
    "            menuFav[0] = menu[i];\n",
    "        }\n",
    "        if(max2 < data[i][4]){\n",
    "            max2 = data[i][4];\n",
    "            menuFav[1] = menu[i];\n",
    "        }\n",
    "    }\n",
    "    return menuFav;\n",
    "}\n",
    "\n",
    "static int penjualan(){\n",
    "    int total , nasiGoreng = 0,soto = 0,sate = 0;\n",
    "    for(int i = 0 ; i < data[0].length ; i++){\n",
    "        nasiGoreng += data[0][i];\n",
    "        soto += data[1][i];\n",
    "        sate += data[2][i];\n",
    "    }\n",
    "    return total = (nasiGoreng * 20000) + (soto * 15000) + (sate * 25000);\n",
    "}\n",
    "\n",
    "static int[] terjual(){\n",
    "    int nasiGoreng = 0,soto = 0,sate = 0;\n",
    "    for(int i = 0 ; i < data[0].length ; i++){\n",
    "        nasiGoreng += data[0][i];\n",
    "        soto += data[1][i];\n",
    "        sate += data[2][i];\n",
    "    }\n",
    "    int[] total = new int[3];\n",
    "    total[0] = nasiGoreng;\n",
    "    total[1] = soto;\n",
    "    total[2] = sate;\n",
    "    return total;\n",
    "}\n",
    "String[] favorit = menuFavSj();\n",
    "int totalPemasukan = penjualan();\n",
    "int[] porsi = terjual();\n",
    "System.out.println(\"Menu Favorit Selasa adalah \" + favorit[0] + \" Menu Favorit Selasa adalah \" + favorit[1]);\n",
    "System.out.println(\"Total Pemasukan Senin sampai dengan Jum'at Rp \" + totalPemasukan);\n",
    "System.out.println(\"Jumlah porsi yang terjual Nasi Goreng adalah \" + porsi[0] + \" Jumlah porsi yang terjual Soto adalah \" +porsi[1] +\" Jumlah porsi yang terjual Sate adalah \" +porsi[2]);                   "
   ]
  }
 ],
 "metadata": {
  "kernelspec": {
   "display_name": "Java",
   "language": "java",
   "name": "java"
  },
  "language_info": {
   "codemirror_mode": "java",
   "file_extension": ".jshell",
   "mimetype": "text/x-java-source",
   "name": "Java",
   "pygments_lexer": "java",
   "version": "11.0.12+8-LTS-237"
  }
 },
 "nbformat": 4,
 "nbformat_minor": 4
}
