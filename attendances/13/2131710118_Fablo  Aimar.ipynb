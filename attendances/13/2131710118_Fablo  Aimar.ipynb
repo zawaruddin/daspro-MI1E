{
 "cells": [
  {
   "cell_type": "markdown",
   "metadata": {},
   "source": [
    "# JOBSHEET 13. Fungsi 1"
   ]
  },
  {
   "cell_type": "markdown",
   "metadata": {},
   "source": [
    "## Tujuan\n",
    "* Mahasiswa mampu memahami penggunaan fungsi static pada Java dengan parameter dan mengembalikan nilai.\n",
    "* Mahasiswa mampu membuat program menggunakan fungsi static dan mengeksekusi fungsi tersebut.\n"
   ]
  },
  {
   "cell_type": "markdown",
   "metadata": {},
   "source": [
    "## Alat dan Bahan\n",
    "* PC/Laptop\n",
    "* Browser\n",
    "* Koneksi internet\n",
    "* Anaconda3 + Java kernel (opsional)"
   ]
  },
  {
   "cell_type": "markdown",
   "metadata": {},
   "source": [
    "## Praktikum"
   ]
  },
  {
   "cell_type": "markdown",
   "metadata": {},
   "source": [
    "### Percobaan 1: Fungsi Void (tidak menggunakan return value)\n",
    "\n",
    "1.\tBuat fungsi **beriSalam** bertipe void yang digunakan untuk mencetak **“Halo! Selamat Pagi”**.\n",
    "![Gambar 1](images/1.1.png)"
   ]
  },
  {
   "cell_type": "markdown",
   "metadata": {},
   "source": [
    "2. Eksekusi atau panggil fungsi **beriSalam**.\n",
    "![Gambar 2](images/1.2.png)"
   ]
  },
  {
   "cell_type": "code",
   "execution_count": 2,
   "metadata": {},
   "outputs": [
    {
     "name": "stdout",
     "output_type": "stream",
     "text": [
      "Halo! Selamat Pagi\r\n"
     ]
    }
   ],
   "source": [
    "// Tuliskan kode program Percobaan 1 Langkah 1 & 2//\n",
    "static void beriSalam(){\n",
    "    System.out.println(\"Halo! Selamat Pagi\");\n",
    "}\n",
    "beriSalam();"
   ]
  },
  {
   "cell_type": "markdown",
   "metadata": {},
   "source": [
    "3. Buat fungsi **beriUcapan** dengan sebuah parameter bertipe String.\n",
    "![Gambar 3](images/1.3.png)"
   ]
  },
  {
   "cell_type": "markdown",
   "metadata": {},
   "source": [
    "4. Buatlah variabel **salam** bertipe String kemudian eksekusi atau panggil fungsi **beriUcapan** dengan mengisi parameternya dengan variable **salam** yang sudah dibuat.\n",
    "![Gambar 3](images/1.4.png)"
   ]
  },
  {
   "cell_type": "code",
   "execution_count": 3,
   "metadata": {},
   "outputs": [
    {
     "name": "stdout",
     "output_type": "stream",
     "text": [
      "Halo! Selamat Pagi\n",
      "Selamat datang di pemrograman Java\n"
     ]
    }
   ],
   "source": [
    "// Tuliskan kode program Percobaan 1 Langkah 1, 2, 3 & 4//\n",
    "static void beriSalam(){\n",
    "    System.out.println(\"Halo! Selamat Pagi\");\n",
    "}\n",
    "\n",
    "static void beriUcapan(String ucapan){\n",
    "    System.out.println(ucapan);\n",
    "}\n",
    "\n",
    "beriSalam();\n",
    "String salam = \"Selamat datang di pemrograman Java\";\n",
    "beriUcapan(salam);"
   ]
  },
  {
   "cell_type": "markdown",
   "metadata": {},
   "source": [
    "#### Pertanyaan\n",
    "1. Jelaskan perbedaan fungsi **beriSalam** dan **beriUcapan** pada praktikum 1!"
   ]
  },
  {
   "cell_type": "markdown",
   "metadata": {},
   "source": [
    "fungsi beriSalam tanpa parameter, sedangkan\n",
    "fungsi beriUcapan menggunakan parameter yang menggunakan tipe data berupa String"
   ]
  },
  {
   "cell_type": "markdown",
   "metadata": {},
   "source": [
    "2. Jelaskan cara pemanggilan sebuah fungsi void yang berparameter dan tanpa parameter!"
   ]
  },
  {
   "cell_type": "markdown",
   "metadata": {},
   "source": [
    "cara pemanggilan fungsi yang berparameter adalah dengan memanggil nama variabel di dalam tanda kurung() jika pemanggilan fungsi tanpa parameter adalah hanya dengan () saja"
   ]
  },
  {
   "cell_type": "markdown",
   "metadata": {},
   "source": [
    "## FUNGSI BERPARAMETER\n",
    "Harus menggunakan Inputan data dan harus dideklarasikan untuk memanggil nilainya\n",
    "\n",
    "## FUNGSI TIDAK BERPARAMETER\n",
    "Tidak harus menggunakan inputan data dan dideklarasikan untuk memanggil nilainya"
   ]
  },
  {
   "cell_type": "markdown",
   "metadata": {},
   "source": [
    "### Percobaan 2: Fungsi dengan return value (Bukan void)\n",
    "Pada Percobaan 2, kode program yang dibuat digunakan untuk menghitung luas persegi dengan membuat fungsi **luasPersegi** yang menggunakan parameter.\n",
    "1. Buat fungsi **luasPersegi**  untuk menghitung luas persegi yang mengembalikan nilai luas (int) dan parameter masukan sisi (int).\n",
    "![Gambar 4](images/2.1.png)"
   ]
  },
  {
   "cell_type": "markdown",
   "metadata": {},
   "source": [
    "2.\tEksekusi atau panggil fungsi luasPersegi dengan cara membuat variabel baru yaitu **luasan**, kemudian isi variabel tersebut dengan memanggil fungsi luasPersegi dan mengisi parameter sisi. Selanjutnya cetak variabel luasan untuk menampilkan luas persegi panjang\n",
    "![Gambar 5](images/2.2.png)"
   ]
  },
  {
   "cell_type": "code",
   "execution_count": 4,
   "metadata": {},
   "outputs": [
    {
     "name": "stdout",
     "output_type": "stream",
     "text": [
      "Luas Persegi dengan sisi 5 = 25\r\n"
     ]
    }
   ],
   "source": [
    "// Tuliskan kode program Percobaan 2 Langkah 1 & 2//\n",
    "static int luasPersegi(int sisi){\n",
    "    int luas = sisi * sisi;\n",
    "    return luas;\n",
    "}\n",
    "\n",
    "    int luasan = luasPersegi(5);\n",
    "    System.out.println(\"Luas Persegi dengan sisi 5 = \" + luasan);"
   ]
  },
  {
   "cell_type": "markdown",
   "metadata": {},
   "source": [
    "#### Pertanyaan\n",
    "1. jelaskan mengapa ketika memanggil fungsi **luasPersegi** harus membuat variabel baru yaitu luasan?"
   ]
  },
  {
   "cell_type": "markdown",
   "metadata": {},
   "source": [
    "untuk menghitung nilai luas sebuah persegi"
   ]
  },
  {
   "cell_type": "markdown",
   "metadata": {},
   "source": [
    "2. Jelaskan kegunaan **return luas** pada percobaan 2 diatas!"
   ]
  },
  {
   "cell_type": "markdown",
   "metadata": {},
   "source": [
    "untuk mengembalikan nilai yang terimpan pada luas"
   ]
  },
  {
   "cell_type": "markdown",
   "metadata": {},
   "source": [
    "3. Modifikasilah program di percobaan 2, dengan membuat panjang **sisi** sebagai inputan!"
   ]
  },
  {
   "cell_type": "code",
   "execution_count": 11,
   "metadata": {},
   "outputs": [
    {
     "name": "stdout",
     "output_type": "stream",
     "text": [
      "Masukkan sisi persegi : 25\n",
      "Luas Persegi dengan sisi 25 Adalah : 625\n"
     ]
    }
   ],
   "source": [
    "// Tuliskan jawaban nomor 2//\n",
    "import java.util.Scanner;\n",
    "Scanner sc = new Scanner(System.in);\n",
    "int s;\n",
    "static int luasPersegi(int sisi){\n",
    "    int luas = sisi * sisi;\n",
    "    return luas;\n",
    "}\n",
    "    System.out.print(\"Masukkan sisi persegi : \");\n",
    "    s = sc.nextInt();\n",
    "    int luasan = luasPersegi(s);\n",
    "    System.out.println(\"Luas Persegi dengan sisi \" + s + \" Adalah : \" + luasan);"
   ]
  },
  {
   "cell_type": "markdown",
   "metadata": {},
   "source": [
    "### Percobaan 3: Fungsi dapat meng-CALL Fungsi Lain\n",
    "Pada Percobaan 3, kode program yang dibuat digunakan untuk mengimplementasikan bahwa fungsi dapat meng-CALL fungsi yang lain. Dimana dalam percobaan ini terdapat fungsi **Kali dan Kurang**. \n",
    "1. Buatlah fungsi **Kali** yang mengembalikan nilai H (int) dan parameter masukan C dan D (int).\n",
    "![Gambar 9](images/3.1.png)"
   ]
  },
  {
   "cell_type": "markdown",
   "metadata": {},
   "source": [
    "2.\tBuatlah fungsi **Kurang** yang mengembalikan nilai X (int) dan parameter masukan A dan B (int) dan memanggil fungsi Kali.\n",
    "![Gambar 10](images/3.2.png)"
   ]
  },
  {
   "cell_type": "markdown",
   "metadata": {},
   "source": [
    "3. Lakukan import class Scanner sebagai inputan di langkah selajutnya."
   ]
  },
  {
   "cell_type": "markdown",
   "metadata": {},
   "source": [
    "4. Eksekusi atau panggil fungsi **Kurang** .\n",
    "![Gambar 11](images/3.4.png)"
   ]
  },
  {
   "cell_type": "code",
   "execution_count": 13,
   "metadata": {},
   "outputs": [
    {
     "name": "stdout",
     "output_type": "stream",
     "text": [
      "Masukkan Nilai 1:\n",
      "20\n",
      "Masukkan Nilai 2:\n",
      "15\n",
      "Hasil akhir adalah 37\n"
     ]
    }
   ],
   "source": [
    "// Tuliskan kode program Percobaan 3 Langkah 1, 2, 3 & 4\n",
    "static int Kali(int C, int D){\n",
    "    int H;\n",
    "    H = (C + 10) % (D + 19);\n",
    "    return H;\n",
    "}\n",
    "static int Kurang(int A, int B){\n",
    "    int X;\n",
    "    A = A + 7;\n",
    "    B = B + 4;\n",
    "    X = Kali(A, B);\n",
    "    return X;\n",
    "}\n",
    "import java.util.Scanner;\n",
    "Scanner input = new Scanner (System.in);\n",
    "int nilai1, nilai2;\n",
    "Scanner input =new Scanner (System.in);\n",
    "System.out.println(\"Masukkan Nilai 1:\");\n",
    "nilai1=input.nextInt();\n",
    "System.out.println(\"Masukkan Nilai 2:\");\n",
    "nilai2=input.nextInt();\n",
    "int hasil = Kurang(nilai1, nilai2);\n",
    "System.out.println(\"Hasil akhir adalah \" + hasil);"
   ]
  },
  {
   "cell_type": "markdown",
   "metadata": {},
   "source": [
    "#### Pertanyaan\n",
    "1. Modifikasilah percobaan diatas dimana di fungsi **Kali** dapat memanggil fungsi **Kurang** kemudian eksekusi atau panggil fungsi Kali"
   ]
  },
  {
   "cell_type": "code",
   "execution_count": 3,
   "metadata": {},
   "outputs": [
    {
     "name": "stdout",
     "output_type": "stream",
     "text": [
      "Masukkan Nilai 1 : \n",
      "5\n",
      "Masukkan Nilai 2 : \n",
      "4\n",
      "Hasil akhir adalah 22\n"
     ]
    }
   ],
   "source": [
    "// Tuliskan jawaban nomor 1//\n",
    "boolean kondisi06 = true;\n",
    "static int Kali06(int C06, int D06) {\n",
    "    int H06 = (C06 + 10) % (D06 + 19);\n",
    "    while(kondisi06){\n",
    "        if(H06<10){\n",
    "            H06 = Kurang06(C06,D06);\n",
    "        }else{\n",
    "        kondisi06 = false;}\n",
    "    }\n",
    "    return H06;\n",
    "}\n",
    "static int Kurang06(int A06, int B06) {\n",
    "    int X06;\n",
    "    A06 = A06 + 7;\n",
    "    B06 = B06 + 4;\n",
    "    X06 = Kali06(A06, B06);\n",
    "    return X06;\n",
    "}\n",
    "int nilai106,nilai206;\n",
    "Scanner input06 = new Scanner (System.in);\n",
    "System.out.println(\"Masukkan Nilai 1 : \");\n",
    "nilai106=input06.nextInt();\n",
    "System.out.println(\"Masukkan Nilai 2 : \");\n",
    "nilai206= input06.nextInt();\n",
    "int hasil06 = Kurang06(nilai106,nilai206);\n",
    "System.out.println(\"Hasil akhir adalah \" +hasil06);"
   ]
  },
  {
   "cell_type": "markdown",
   "metadata": {},
   "source": [
    "2. Jelaskan alur jalannya program di percobaan 3 mulai dari input sampai keluar output!"
   ]
  },
  {
   "cell_type": "markdown",
   "metadata": {},
   "source": [
    "### Percobaan 4: Mengubah Program Tidak Menggunakan Fungsi dan Menggunakan Fungsi\n",
    "Pada Percobaan 4, kode program yang dibuat digunakan untuk menghitung luas persegi panjang dan volume balok tanpa menggunakan fungsi dan dengan menggunakan fungsi.\n",
    "1. Import dan deklarasikan Scanner dengan nama **input**\n",
    "![Gambar 9](images/4.1.png)"
   ]
  },
  {
   "cell_type": "markdown",
   "metadata": {},
   "source": [
    "2. Buatlah inputan panjang, lebar, dan tinggi \n",
    "![Gambar 10](images/4.2.png)"
   ]
  },
  {
   "cell_type": "markdown",
   "metadata": {},
   "source": [
    "3. Hitung luas persegi panjang dan volume balok\n",
    "![Gambar 10](images/4.3.png)"
   ]
  },
  {
   "cell_type": "code",
   "execution_count": 3,
   "metadata": {},
   "outputs": [
    {
     "name": "stdout",
     "output_type": "stream",
     "text": [
      "Masukkan panjang\n",
      "7\n",
      "Masukkan lebar\n",
      "3\n",
      "Masukkan tinggi\n",
      "5\n",
      "Luas Persegi panjang adalah 21\n",
      "Volume balok adalah 105\n"
     ]
    }
   ],
   "source": [
    "// Tuliskan kode program Percobaan 4 Langkah 1, 2, & 3//\n",
    "import java.util.Scanner;\n",
    "Scanner input = new Scanner(System.in);\n",
    "int p,l,t,L,vol;\n",
    "\n",
    "System.out.println(\"Masukkan panjang\");\n",
    "p=input.nextInt();\n",
    "System.out.println(\"Masukkan lebar\");\n",
    "l=input.nextInt();\n",
    "System.out.println(\"Masukkan tinggi\");\n",
    "t=input.nextInt();\n",
    "\n",
    "L=p*l;\n",
    "System.out.println(\"Luas Persegi panjang adalah \"+L);\n",
    "\n",
    "vol=p*l*t;\n",
    "System.out.println(\"Volume balok adalah \"+vol);"
   ]
  },
  {
   "cell_type": "markdown",
   "metadata": {},
   "source": [
    "4. Program menghitung luas persegi dan volume balok diatas jika dibuatkan fungsi maka terdapat 3 fungsi yaitu hitungLuas, hitungVolume dan fungsi main, seperti dibawah ini:\n",
    "\n",
    "Fungsi hitungLuas\n",
    "\n",
    "![Gambar 10](images/4.4Luas.png)\n",
    "\n",
    "Fungsi hitungVolume\n",
    "![Gambar 10](images/4.4Volume.png)\n",
    "\n"
   ]
  },
  {
   "cell_type": "markdown",
   "metadata": {},
   "source": [
    "5. Eksekusi/panggil fungsi **hitungLuas** dan **hitungVolume**\n",
    "\n",
    "![Gambar 10](images/4.5.png)"
   ]
  },
  {
   "cell_type": "code",
   "execution_count": 7,
   "metadata": {},
   "outputs": [
    {
     "name": "stdout",
     "output_type": "stream",
     "text": [
      "Masukkan panjang\n",
      "10\n",
      "Masukkan lebar\n",
      "8\n",
      "Masukkan tinggi\n",
      "6\n",
      "Luas Persegi Panjang adalah 80\n",
      "Volume Balok adalah 480\n"
     ]
    }
   ],
   "source": [
    "// Tuliskan kode program Percobaan 4 Langkah 1, 2, & 3//\n",
    "static int hitungLuas(int pjg, int lb){\n",
    "    int Luas=pjg*lb;\n",
    "    return Luas;\n",
    "}\n",
    "static int hitungVolume(int tinggi, int a, int b){\n",
    "    int volume=hitungLuas(a,b)*tinggi;\n",
    "    return volume;\n",
    "}\n",
    "Scanner input =new Scanner (System.in);\n",
    "int p,l,t,L,vol;\n",
    "System.out.println(\"Masukkan panjang\");\n",
    "p=input.nextInt();\n",
    "System.out.println(\"Masukkan lebar\");\n",
    "l=input.nextInt();\n",
    "System.out.println(\"Masukkan tinggi\");\n",
    "t=input.nextInt();\n",
    "\n",
    "L=hitungLuas(p,l);\n",
    "System.out.println(\"Luas Persegi Panjang adalah \"+L);\n",
    "vol=hitungVolume(t,p,l);\n",
    "System.out.println(\"Volume Balok adalah \"+vol);"
   ]
  },
  {
   "cell_type": "markdown",
   "metadata": {},
   "source": [
    "#### Pertanyaan\n",
    "1. Jelaskan kegunaan parameter yang terdapat didalam fungsi hitungLuas dan hitungVolume!\n",
    "\n",
    "#### Jawaban\n",
    "Untuk mengembalikan nilai dari luas dan volume yang terdapat pada variabel"
   ]
  },
  {
   "cell_type": "markdown",
   "metadata": {},
   "source": [
    "#### Pertanyaan\n",
    "2. Setelah melakukan percobaan 4, menurut anda manakah program yg lebih efisien apakah menggunakan fungsi atau tanpa fungsi? Jelaskan!\n",
    "\n",
    "#### Jawaban\n",
    "Program yang tidak menggunakan fungsi, karena lebih mudah dipahami dan singkat pengerjaan nya ketimbang yang menggunakan fungsi"
   ]
  },
  {
   "cell_type": "markdown",
   "metadata": {},
   "source": [
    "### Percobaan 5: Fungsi Menggunakan Array dan Variabel Global\n",
    "Pada Percobaan 5, kode program yang dibuat digunakan untuk menghitung total nilai yang ada didalam array dengan membuat 3 fungsi yaitu isiarray, hitTol, dan tampilArray.\n",
    "1. Buatlah **variable global total dan i** bertipe int\n",
    "![Gambar 9](images/5.1pertama.png)"
   ]
  },
  {
   "cell_type": "markdown",
   "metadata": {},
   "source": [
    "2. Buatlah fungsi **isiarray** bertipe int dengan parameter angka bertipe int \n",
    "\n",
    "![Gambar 10](images/5.1.png)"
   ]
  },
  {
   "cell_type": "markdown",
   "metadata": {},
   "source": [
    "3. Buatlah fungsi **tampilArray** bertipe **void** dengan parameter data array **arr** bertipe int\n",
    "\n",
    "![Gambar 10](images/5.2.png)"
   ]
  },
  {
   "cell_type": "markdown",
   "metadata": {},
   "source": [
    "4. Buatlah fungsi **hitTot** bertipe int dengan parameter data array **arr** bertipe int\n",
    "\n",
    "![Gambar 10](images/5.3.png)"
   ]
  },
  {
   "cell_type": "markdown",
   "metadata": {},
   "source": [
    "5. Import dan deklarasikan Scanner dengan nama **input**\n",
    "\n",
    "![Gambar 10](images/4.1.png)"
   ]
  },
  {
   "cell_type": "markdown",
   "metadata": {},
   "source": [
    "6. Eksekusi atau panggil ketiga fungsi yaitu **isiarray, tampilArray, dan hitTot**, kemudian jalankan program!\n",
    "\n",
    "![Gambar 10](images/5.6.png)"
   ]
  },
  {
   "cell_type": "code",
   "execution_count": 2,
   "metadata": {},
   "outputs": [
    {
     "name": "stdout",
     "output_type": "stream",
     "text": [
      "Masukkan jumlah data yang ingin anda inputkan: \n",
      "2\n",
      "Masukkan data ke- 0\n",
      "2\n",
      "Masukkan data ke- 1\n",
      "3\n",
      "Nilai yang anda inputkan ke 0\n",
      "2\n",
      "Nilai yang anda inputkan ke 1\n",
      "3\n",
      "Total nilai = 5\n"
     ]
    }
   ],
   "source": [
    "// Tuliskan kode program Percobaan 4 Langkah 1 s/d 6//\n",
    "static int total=0,i;\n",
    "static int [] isiarray (int angka){\n",
    "     Scanner input = new Scanner(System.in);\n",
    "     int array[]=new int [angka];\n",
    "     for (i=0; i<array.length; i++){\n",
    "         System.out.println(\"Masukkan data ke- \" +i);\n",
    "         array[i]=input.nextInt();\n",
    "     }\n",
    "     return array;\n",
    "}\n",
    "static void tampilArray(int [] arr){\n",
    "     for (i=0; i<arr.length; i++){\n",
    "         System.out.println(\"Nilai yang anda inputkan ke \" +i);\n",
    "         System.out.println(arr[i]);\n",
    "     }\n",
    "}\n",
    "static int hitTot(int []arr){\n",
    "     for (i=0; i<arr.length; i++){\n",
    "         total+=arr[i];\n",
    "     }\n",
    "     return total;\n",
    "}\n",
    "import java.util.Scanner;\n",
    "Scanner input = new Scanner(System.in);\n",
    "System.out.println(\"Masukkan jumlah data yang ingin anda inputkan: \");\n",
    "int jum=input.nextInt();\n",
    "int []dataArray=isiarray(jum);\n",
    "tampilArray(dataArray);\n",
    "total=hitTot(dataArray);\n",
    "System.out.println(\"Total nilai = \" + total);"
   ]
  },
  {
   "cell_type": "markdown",
   "metadata": {},
   "source": [
    "#### Pertanyaan\n",
    "1. Jelaskan mengapa fungsi tampil array dibuat bertipe void, sedangkan isiarray dan hitTot bertipe int!"
   ]
  },
  {
   "cell_type": "markdown",
   "metadata": {},
   "source": [
    "Karena fungsi tampil array hanya menampilkan keluaran tanpa adanya proses lanjutan di luar fungsi, kalau isiarray dan hitTot menggunakan int supaya bisa mengeluarkan return untuk di gunakan proses selanjutnya di luar fungsi"
   ]
  },
  {
   "cell_type": "markdown",
   "metadata": {},
   "source": [
    "2. Menurut pendapat anda apakah fugsi isiarray dan hitTot dapat diganti dengan tipe void? Jelaskan dan buktikan dengan program!"
   ]
  },
  {
   "cell_type": "code",
   "execution_count": 4,
   "metadata": {},
   "outputs": [
    {
     "ename": "CompilationException",
     "evalue": "",
     "output_type": "error",
     "traceback": [
      "\u001b[1m\u001b[30m|   \u001b[1m\u001b[30mstatic \u001b[0m\u001b[1m\u001b[30m\u001b[41mvoid\u001b[0m\u001b[1m\u001b[30m [] isiarray06 (int angka06){\u001b[0m",
      "\u001b[1m\u001b[31millegal start of expression\u001b[0m",
      "",
      "\u001b[1m\u001b[30m|   \u001b[1m\u001b[30mstatic void\u001b[0m\u001b[1m\u001b[30m\u001b[41m\u001b[0m\u001b[1m\u001b[30m [] isiarray06 (int angka06){\u001b[0m",
      "\u001b[1m\u001b[31m';' expected\u001b[0m",
      "",
      "\u001b[1m\u001b[30m|   \u001b[1m\u001b[30mstatic void [] isiarray06 (int \u001b[0m\u001b[1m\u001b[30m\u001b[41m\u001b[0m\u001b[1m\u001b[30mangka06){\u001b[0m",
      "\u001b[1m\u001b[31m'.class' expected\u001b[0m",
      "",
      "\u001b[1m\u001b[30m|   \u001b[1m\u001b[30mstatic void [] isiarray06 (int angka06\u001b[0m\u001b[1m\u001b[30m\u001b[41m\u001b[0m\u001b[1m\u001b[30m){\u001b[0m",
      "\u001b[1m\u001b[31m';' expected\u001b[0m",
      "",
      "\u001b[1m\u001b[30m|   \u001b[1m\u001b[30mstatic void [] isiarray06 (\u001b[0m\u001b[1m\u001b[30m\u001b[41mint \u001b[0m\u001b[1m\u001b[30mangka06){\u001b[0m",
      "\u001b[1m\u001b[31munexpected type\u001b[0m",
      "\u001b[1m\u001b[31m  required: value\u001b[0m",
      "\u001b[1m\u001b[31m  found:    class\u001b[0m",
      "",
      "\u001b[1m\u001b[30m|   \u001b[1m\u001b[30m    int array06[]=new int[\u001b[0m\u001b[1m\u001b[30m\u001b[41mangka06\u001b[0m\u001b[1m\u001b[30m];\u001b[0m",
      "\u001b[1m\u001b[31mcannot find symbol\u001b[0m",
      "\u001b[1m\u001b[31m  symbol:   variable angka06\u001b[0m",
      ""
     ]
    }
   ],
   "source": [
    "// Tuliskan jawaban nomor 2//\n",
    "static int total06=0,i;\n",
    "static void [] isiarray06 (int angka06){\n",
    "    Scanner input06 = new Scanner (System.in);\n",
    "    int array06[]=new int[angka06];\n",
    "    for (i=0; i<array06.length; i++){\n",
    "        System.out.println(\"Masukkan data ke- \" +i);\n",
    "        array06[i]=input06.nextInt();\n",
    "    }\n",
    "    return array06;\n",
    "}\n",
    "static void tampilArray06(int [] arr06){\n",
    "    for (i=0; i<arr06.length; i++){\n",
    "        System.out.println(\"Nilai yang anda laporkan ke \" +i);\n",
    "        System.out.println(arr06[i]);\n",
    "    }\n",
    "}\n",
    "static void tampilArray06(int [] arr06){\n",
    "    for (i=0; i<arr06.length; i++){\n",
    "        System.out.println(\"Nilai yang anda inputkan ke \"+1);\n",
    "        System.out.println(arr06[i]);\n",
    "    }\n",
    "}\n",
    "static void hitTot06(int []arr06){\n",
    "    for (i=0; i<arr06.length; i++){\n",
    "        total06+=arr06[i];\n",
    "    }\n",
    "    return total06;\n",
    "}\n",
    "\n",
    "import java.util.Scanner;\n",
    "Scanner input06 = new Scanner (System.in);\n",
    "\n",
    "System.out.println(\"Masukkan jumlah data yang ingin anda inputkan: \");\n",
    "int jum06=input06.nextInt();\n",
    "int []dataArray06=isiarray06(jum06);\n",
    "tampilArray06(dataArray06);\n",
    "total06 = hitTot06(dataArray06);\n",
    "System.out.println(\"Total nilai = \"+total06);"
   ]
  },
  {
   "cell_type": "code",
   "execution_count": null,
   "metadata": {},
   "outputs": [],
   "source": [
    "program tersebut akan error karena didalam kedua fungsi tersebut ada statement untuk mengembalikan nilai yaitu return"
   ]
  },
  {
   "cell_type": "markdown",
   "metadata": {},
   "source": [
    "## Tugas"
   ]
  },
  {
   "cell_type": "markdown",
   "metadata": {},
   "source": [
    "1. Buatlah sebuah static method yang bernama Max3(int bil1, int bil2, int bil3) yang menerima 3 buah parameter bilangan integer dan mengembalikan sebuah bilangan integer yang merupakan nilai maksimum diantara ketiga bilangan tersebut. "
   ]
  },
  {
   "cell_type": "code",
   "execution_count": null,
   "metadata": {},
   "outputs": [],
   "source": [
    "// Tuliskan jawaban nomor 1//\n",
    "static int maks06(int a, int b, int c) {\n",
    "   int max06 = a;\n",
    "   if (b > max06) max06 = b;\n",
    "   if (c > max06) max06 = c;\n",
    "   return max;\n",
    "}\n",
    "Scanner input = new Scanner (System.in);\n",
    "int bilangan106,bilangan206,bilangan306,maximal06;\n",
    "System.out.println(\"Masukkan bilangan 1 : \");\n",
    "bilangan106 = input.nextInt();\n",
    "System.out.println(\"Masukkan bilangan 2 : \");\n",
    "bilangan206 = input.nextInt();\n",
    "System.out.println(\"Masukkan bilangan 3 : \");\n",
    "bilangan306 = input.nextInt();\n",
    "maximal06=maks06(bilangan1,bilangan2,bilangan3);\n",
    "System.out.println(\"Nilai maximal adalah \"+maximal);"
   ]
  },
  {
   "cell_type": "markdown",
   "metadata": {},
   "source": [
    "2. Disebuah restoran terdapat 3 menu yang dijual yaitu nasi goreng, soto, dan sate. Harga nasi goreng Rp. 20.000, soto Rp. 15.000, dan sate Rp. 25.000. Restoran tersebut buka dari hari senin sampai jumat. Berikut ini merupakan tabel pejualan perhari untuk masing-masing menu di restoran tersebut dari hari senin sampai jumat\n",
    "![Gambar 13](images/soal3.png)\n",
    "\n",
    "Buatlah Fungsi sebagai berikut:\n",
    " * Fungsi menampilkan menu favorit di hari selasa dan jumat (menu favorit diasumsikan adalah menu yang paling banyak terjual di hari tersebut)\n",
    " * Fungsi untuk menghitung pemasukan restoran tersebut mulai hari senin sampai jumat.\n",
    " * Fungsi untuk menghitung berapa porsi yang terjual untuk masing-masing menu yaitu nasi goreng, soto, dan sate mulai senin sampai jumat."
   ]
  },
  {
   "cell_type": "code",
   "execution_count": 10,
   "metadata": {},
   "outputs": [
    {
     "name": "stdout",
     "output_type": "stream",
     "text": [
      "Masakan favorit hari Selasa adalah\t\t\t\t : Soto      \n",
      "Masakan favorit hari Jumat adalah\t\t\t\t : Nasi Goreng\n",
      "Total pemasukan dari hari Senin hingga hari Jumat adalah\t : Rp 8625000\n",
      "Banyak Nasi Goreng yang terjual adalah\t\t\t\t : 164 porsi\n",
      "Banyak Soto       yang terjual adalah\t\t\t\t : 143 porsi\n",
      "Banyak Sate      yang terjual adalah\t\t\t\t : 128 porsi\n"
     ]
    }
   ],
   "source": [
    "// Tuliskan jawaban nomor 2//\n",
    "int[][] dataJual = {\n",
    "    {20, 15, 35, 24, 70},\n",
    "    {30, 40, 10, 28, 35},\n",
    "    {5, 10, 50, 48, 15},\n",
    "};\n",
    "String[] dataHari = {\"Senin\", \"Selasa\", \"Rabu\", \"Kamis\", \"Jumat\"};\n",
    "String[] dataMenu = {\"Nasi Goreng\", \"Soto      \", \"Sate     \"};\n",
    "String menu, hari;\n",
    "int total;\n",
    "static void favorit(){\n",
    "    for(int i = 1; i < dataJual[0].length; i += 3){\n",
    "        int maks = 0;\n",
    "        for(int j = 0; j < dataJual.length; j++){\n",
    "            if (dataJual[j][i] > maks){\n",
    "                maks = dataJual[j][i];\n",
    "                menu = dataMenu[j];\n",
    "                hari = dataHari[i];\n",
    "            }           \n",
    "        }\n",
    "        System.out.println(\"Masakan favorit hari \" + hari + \" adalah\\t\\t\\t\\t : \" + menu );\n",
    "    }\n",
    "}\n",
    "static void duit(){\n",
    "    for(int i = 0; i < dataJual.length; i++){\n",
    "        int totalJual = 0, totalHarga = 0;\n",
    "        for(int j = 0; j < dataJual[0].length; j++){\n",
    "            totalJual += dataJual[i][j];\n",
    "            if(i == 0){\n",
    "                totalHarga = totalJual * 20000;\n",
    "            }else if(i == 1){\n",
    "                totalHarga = totalJual * 15000;\n",
    "            }else{\n",
    "                totalHarga = totalJual * 25000;\n",
    "            }\n",
    "        }\n",
    "        total += totalHarga;\n",
    "    }\n",
    "    System.out.println(\"Total pemasukan dari hari Senin hingga hari Jumat adalah\\t : Rp \" + total);\n",
    "}\n",
    "static void jumlah(){\n",
    "    for(int i = 0; i < dataJual.length; i++){\n",
    "        int totalJual = 0, totalHarga = 0;\n",
    "        for(int j = 0; j < dataJual[0].length; j++){\n",
    "            totalJual += dataJual[i][j];\n",
    "        }\n",
    "        menu = dataMenu[i];\n",
    "        System.out.println(\"Banyak \" + menu + \" yang terjual adalah\\t\\t\\t\\t : \" + totalJual + \" porsi\");\n",
    "    }\n",
    "}\n",
    "favorit();\n",
    "duit();\n",
    "jumlah();"
   ]
  },
  {
   "cell_type": "code",
   "execution_count": null,
   "metadata": {},
   "outputs": [],
   "source": []
  }
 ],
 "metadata": {
  "kernelspec": {
   "display_name": "Java",
   "language": "java",
   "name": "java"
  },
  "language_info": {
   "codemirror_mode": "java",
   "file_extension": ".jshell",
   "mimetype": "text/x-java-source",
   "name": "Java",
   "pygments_lexer": "java",
   "version": "17+35-LTS-2724"
  }
 },
 "nbformat": 4,
 "nbformat_minor": 4
}
